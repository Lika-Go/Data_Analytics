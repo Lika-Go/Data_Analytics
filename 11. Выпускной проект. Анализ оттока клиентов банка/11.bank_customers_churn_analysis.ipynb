{
 "cells": [
  {
   "cell_type": "markdown",
   "metadata": {},
   "source": [
    "# Выпускной проект: Анализ оттока клиентов банка \"Метанпром\""
   ]
  },
  {
   "cell_type": "markdown",
   "metadata": {},
   "source": [
    "# Материалы: \n",
    "**<a href=\"https://disk.yandex.ru/d/UvONSenpUyrlwQ\">Презентация для отдела маркетинга банка</a> <br>**\n",
    "**<a href=\"https://public.tableau.com/shared/HZCF2GWB9?:display_count=n&:origin=viz_share_link\">Дашборд Tableau</a>**"
   ]
  },
  {
   "cell_type": "markdown",
   "metadata": {},
   "source": [
    "# Описание проекта:\n",
    "У \"Метанпром\" банка драматично высокий отток клиентов. Отточные клиенты - те, кто написал договор о расторжении, но есть еще некоторое время, чтобы вместе с отделом маркетинга поработать с ними и исправить ситуацию.\n",
    "\n",
    "\n",
    "**Заказчик:** отдел маркетинга, а именно менеджер, который занимается маркетиновыми кампаниями и работает в тесной связке с менеджерами продуктов."
   ]
  },
  {
   "cell_type": "markdown",
   "metadata": {},
   "source": [
    "# Цели и задачи проекта:\n",
    "\n",
    "**Цель:** провести анализ клиентов банка и выявить сегменты клиентов, наиболее склонных к уходу из банка.\n",
    "<br><br>\n",
    "**Задачи:**\n",
    "- Провести исследовательский анализ данных.\n",
    "- Выделить портреты клиентов, которые склонны уходить из банка,\n",
    "- Сформулировать и проверить статистические гипотезы."
   ]
  },
  {
   "cell_type": "markdown",
   "metadata": {},
   "source": [
    "# Описание данных\n",
    "\n",
    "Файл: *dataset_scrooge.csv*\n",
    "\n",
    "Датасет содержит данные о клиентах банка «Метанпром». Банк располагается в Ярославле и областных городах: Ростов Великий и Рыбинск.\n",
    "\n",
    "**Колонки:**\n",
    "\n",
    "- `USERID` — идентификатор пользователя,\n",
    "- `score` — баллы кредитного скоринга,\n",
    "- `city` — город (Ярославль, Ростов Великий, Рыбинск),\n",
    "- `gender` — пол,\n",
    "- `age` — возраст,\n",
    "- `equity`  — количество баллов собственности (шкала от 0 до 9)\n",
    "- `balance` — баланс на счёте,\n",
    "- `products` — количество продуктов, которыми пользуется клиент,\n",
    "- `credit_card` — есть ли кредитная карта (1 или 0, т.е. да или нет),\n",
    "- `last_activity` — активный ли клиент (1 или 0, т.е. да или нет),\n",
    "- `EST_SALARY` — заработная плата клиента,\n",
    "- `churn` — собирается ли уходить (1 или 0, т.е. да или нет)."
   ]
  },
  {
   "cell_type": "markdown",
   "metadata": {},
   "source": [
    "# Декомпозиция (план действий):\n",
    "\n",
    "**Шаг 1. Предобработка данных. Импорт библиотек и загрузка датасета** <br> \n",
    "\n",
    "1. Воспользуемся библиотеками: \n",
    "* pandas\n",
    "* numpy\n",
    "* seaborn\n",
    "* plotly\n",
    "* datetime\n",
    "* math\n",
    "* matplotlib.pyplot\n",
    "* stats from scipy\n",
    "\n",
    "2. Загрузка датасета: *dataset_scrooge.csv*\n",
    "<br><br>\n",
    "**Шаг 2. Подготовка данных** <br>\n",
    "1. Знакомство с датасетом: количество строк, пропусков, типы данных в столбцах.<br>\n",
    "2. Замена названий столбцов (приведение нижнему регистру).<br>\n",
    "3. Проверка на пропуски, их обработка. <br>\n",
    "4. Приведение типов данных в столбцах к соответствующим содержимому типам.<br>\n",
    "5. Проверка на дубликаты (явные и неявные), их обработка. <br>\n",
    "6. Проверка на выбросы, их обработка.\n",
    "7. Кодирование данных (пол, город).\n",
    "8. Промежуточный вывод.\n",
    "<br><br>  \n",
    "**Шаг 3. Исследовательский анализ данных**<br>\n",
    "1. Исследование распределения признаков, построение графиков распределения. <br>\n",
    "2. Построение и анализ матрицы корреляции признаков к оттоку. <br>\n",
    "3. Сегментация клиентов по категориям (баланс, возраст и т.д.) с учетом распределения.<br>\n",
    "4. Составление портрета склонного к оттоку клиента и промежуточный вывод.\n",
    "<br><br> \n",
    "**Шаг 4. Статистический анализ данных и проверка гипотез:** <br>\n",
    "1. Формулирование первой гипотезы о различии дохода между теми клиентами, которые ушли и теми, которые остались. Её проверка.  <br>\n",
    "2. Формулирование второй гипотезы, её проверка. <br>\n",
    "3. Формулирование второй гипотезы, её проверка. <br>\n",
    "4. Промежуточный вывод.\n",
    "<br>\n",
    "**Шаг 5. Рекомендации для отдела маркетинга.**\n",
    " <br> <br>\n",
    "**Шаг 6. Общий вывод**\n",
    " <br>\n",
    " \n",
    "**Шаг 6. Презентация для отдела маркетинга** "
   ]
  },
  {
   "cell_type": "markdown",
   "metadata": {},
   "source": [
    "## Предобработка данных\n",
    "Импорт библиотек и загрузка датасета"
   ]
  },
  {
   "cell_type": "code",
   "execution_count": 1,
   "metadata": {},
   "outputs": [],
   "source": [
    "# Импортируем библиотеки:\n",
    "\n",
    "import pandas as pd\n",
    "import numpy as np\n",
    "import seaborn as sns\n",
    "import matplotlib.pyplot as plt\n",
    "import matplotlib.patches as mpatches\n",
    "import math as mth\n",
    "\n",
    "import warnings\n",
    "warnings.filterwarnings('ignore')\n",
    "\n",
    "import plotly.io as pio \n",
    "pio.renderers.default = 'notebook+jupyterlab+png'\n",
    "pio.renderers['png'].scale = 1.0\n",
    "\n",
    "import plotly.express as px\n",
    "from plotly import graph_objects as go\n",
    "from plotly.subplots import make_subplots\n",
    "from scipy import stats as st\n",
    "%matplotlib inline"
   ]
  },
  {
   "cell_type": "code",
   "execution_count": 2,
   "metadata": {},
   "outputs": [
    {
     "data": {
      "text/html": [
       "<div>\n",
       "<style scoped>\n",
       "    .dataframe tbody tr th:only-of-type {\n",
       "        vertical-align: middle;\n",
       "    }\n",
       "\n",
       "    .dataframe tbody tr th {\n",
       "        vertical-align: top;\n",
       "    }\n",
       "\n",
       "    .dataframe thead th {\n",
       "        text-align: right;\n",
       "    }\n",
       "</style>\n",
       "<table border=\"1\" class=\"dataframe\">\n",
       "  <thead>\n",
       "    <tr style=\"text-align: right;\">\n",
       "      <th></th>\n",
       "      <th>USERID</th>\n",
       "      <th>score</th>\n",
       "      <th>city</th>\n",
       "      <th>gender</th>\n",
       "      <th>age</th>\n",
       "      <th>equity</th>\n",
       "      <th>balance</th>\n",
       "      <th>products</th>\n",
       "      <th>credit_card</th>\n",
       "      <th>last_activity</th>\n",
       "      <th>EST_SALARY</th>\n",
       "      <th>churn</th>\n",
       "    </tr>\n",
       "  </thead>\n",
       "  <tbody>\n",
       "    <tr>\n",
       "      <th>0</th>\n",
       "      <td>183012</td>\n",
       "      <td>850.0</td>\n",
       "      <td>Рыбинск</td>\n",
       "      <td>Ж</td>\n",
       "      <td>25.0</td>\n",
       "      <td>1</td>\n",
       "      <td>59214.82</td>\n",
       "      <td>2</td>\n",
       "      <td>0</td>\n",
       "      <td>1</td>\n",
       "      <td>75719.14</td>\n",
       "      <td>1</td>\n",
       "    </tr>\n",
       "    <tr>\n",
       "      <th>1</th>\n",
       "      <td>146556</td>\n",
       "      <td>861.0</td>\n",
       "      <td>Рыбинск</td>\n",
       "      <td>Ж</td>\n",
       "      <td>37.0</td>\n",
       "      <td>5</td>\n",
       "      <td>850594.33</td>\n",
       "      <td>3</td>\n",
       "      <td>1</td>\n",
       "      <td>0</td>\n",
       "      <td>86621.77</td>\n",
       "      <td>0</td>\n",
       "    </tr>\n",
       "    <tr>\n",
       "      <th>2</th>\n",
       "      <td>120722</td>\n",
       "      <td>892.0</td>\n",
       "      <td>Рыбинск</td>\n",
       "      <td>Ж</td>\n",
       "      <td>30.0</td>\n",
       "      <td>0</td>\n",
       "      <td>NaN</td>\n",
       "      <td>1</td>\n",
       "      <td>1</td>\n",
       "      <td>1</td>\n",
       "      <td>107683.34</td>\n",
       "      <td>0</td>\n",
       "    </tr>\n",
       "    <tr>\n",
       "      <th>3</th>\n",
       "      <td>225363</td>\n",
       "      <td>866.0</td>\n",
       "      <td>Ярославль</td>\n",
       "      <td>Ж</td>\n",
       "      <td>51.0</td>\n",
       "      <td>5</td>\n",
       "      <td>1524746.26</td>\n",
       "      <td>2</td>\n",
       "      <td>0</td>\n",
       "      <td>1</td>\n",
       "      <td>174423.53</td>\n",
       "      <td>1</td>\n",
       "    </tr>\n",
       "    <tr>\n",
       "      <th>4</th>\n",
       "      <td>157978</td>\n",
       "      <td>730.0</td>\n",
       "      <td>Ярославль</td>\n",
       "      <td>М</td>\n",
       "      <td>34.0</td>\n",
       "      <td>5</td>\n",
       "      <td>174.00</td>\n",
       "      <td>1</td>\n",
       "      <td>1</td>\n",
       "      <td>0</td>\n",
       "      <td>67353.16</td>\n",
       "      <td>1</td>\n",
       "    </tr>\n",
       "  </tbody>\n",
       "</table>\n",
       "</div>"
      ],
      "text/plain": [
       "   USERID  score       city gender   age  equity     balance  products  \\\n",
       "0  183012  850.0    Рыбинск      Ж  25.0       1    59214.82         2   \n",
       "1  146556  861.0    Рыбинск      Ж  37.0       5   850594.33         3   \n",
       "2  120722  892.0    Рыбинск      Ж  30.0       0         NaN         1   \n",
       "3  225363  866.0  Ярославль      Ж  51.0       5  1524746.26         2   \n",
       "4  157978  730.0  Ярославль      М  34.0       5      174.00         1   \n",
       "\n",
       "   credit_card  last_activity  EST_SALARY  churn  \n",
       "0            0              1    75719.14      1  \n",
       "1            1              0    86621.77      0  \n",
       "2            1              1   107683.34      0  \n",
       "3            0              1   174423.53      1  \n",
       "4            1              0    67353.16      1  "
      ]
     },
     "execution_count": 2,
     "metadata": {},
     "output_type": "execute_result"
    }
   ],
   "source": [
    "#Загружаем датасет scrooge.csv и сохраняем в переменную data:\n",
    "path = \"https://drive.google.com/uc?export=download&id=1-U61mhTz_N1ARjy2XSAZ7IlQqGjeqP0F\"\n",
    "data = pd.read_csv(path)\n",
    "data.head()"
   ]
  },
  {
   "cell_type": "markdown",
   "metadata": {},
   "source": [
    "## Подготовка данных\n",
    "\n",
    "### Знакомство с датасетом: количество строк, пропусков, типы данных в столбцах."
   ]
  },
  {
   "cell_type": "code",
   "execution_count": 3,
   "metadata": {},
   "outputs": [
    {
     "data": {
      "text/plain": [
       "(10000, 12)"
      ]
     },
     "execution_count": 3,
     "metadata": {},
     "output_type": "execute_result"
    }
   ],
   "source": [
    "data.shape"
   ]
  },
  {
   "cell_type": "markdown",
   "metadata": {},
   "source": [
    "**Резюме:** в нашем датасете 12 столбцов и 10000 строк."
   ]
  },
  {
   "cell_type": "code",
   "execution_count": 4,
   "metadata": {},
   "outputs": [
    {
     "name": "stdout",
     "output_type": "stream",
     "text": [
      "<class 'pandas.core.frame.DataFrame'>\n",
      "RangeIndex: 10000 entries, 0 to 9999\n",
      "Data columns (total 12 columns):\n",
      " #   Column         Non-Null Count  Dtype  \n",
      "---  ------         --------------  -----  \n",
      " 0   USERID         10000 non-null  int64  \n",
      " 1   score          10000 non-null  float64\n",
      " 2   city           10000 non-null  object \n",
      " 3   gender         10000 non-null  object \n",
      " 4   age            9974 non-null   float64\n",
      " 5   equity         10000 non-null  int64  \n",
      " 6   balance        7705 non-null   float64\n",
      " 7   products       10000 non-null  int64  \n",
      " 8   credit_card    10000 non-null  int64  \n",
      " 9   last_activity  10000 non-null  int64  \n",
      " 10  EST_SALARY     10000 non-null  float64\n",
      " 11  churn          10000 non-null  int64  \n",
      "dtypes: float64(4), int64(6), object(2)\n",
      "memory usage: 937.6+ KB\n"
     ]
    }
   ],
   "source": [
    "data.info()"
   ]
  },
  {
   "cell_type": "code",
   "execution_count": 5,
   "metadata": {},
   "outputs": [
    {
     "name": "stdout",
     "output_type": "stream",
     "text": [
      "City values:  ['Рыбинск' 'Ярославль' 'Ростов']\n",
      "Gender values:  ['Ж' 'М']\n",
      "Credit card values:  [0 1]\n",
      "Last activity values:  [1 0]\n",
      "Churn values:  [1 0]\n"
     ]
    }
   ],
   "source": [
    "# Убедимся, что нет случайных лишних значений в ряде столбцов: city, gender, credit_card, last_activity, churn. \n",
    "# Например, город написан с ошибкой или значение 2 там, где должны быть 1 и 0:\n",
    "\n",
    "print('City values: ', data.city.unique())\n",
    "print('Gender values: ', data.gender.unique())\n",
    "print('Credit card values: ', data.credit_card.unique())\n",
    "print('Last activity values: ', data.last_activity.unique())\n",
    "print('Churn values: ', data.churn.unique())\n",
    "\n",
    "# Хотя это можно считать частью проверки на дубликаты, важно убедиться в отсутствии ошибочных данных до работы с пропусками."
   ]
  },
  {
   "cell_type": "markdown",
   "metadata": {},
   "source": [
    "**Резюме:**  <br>\n",
    "\n",
    "**1. Пропуски** из 12 столбцов имеются только в 2-х: *age* и *balance.* \n",
    "\n",
    "\n",
    "**2. Типы данных:** \n",
    "* Целочисленные (int64) - USERID, equity, products, credit_card, last_activity, churn;\n",
    "* Вещественные числа (float64) - score, age, balance, EST_SALARY;\n",
    "* Текстовые (object) - city, gender.\n",
    "\n",
    "Потребуется привести типы данных в соответствие с содержимым для следующих столбцов: \n",
    "\n",
    "А. Из вещественного в целочисленное:\n",
    "* *score* - так как оценки выставлены целыми числами, значения после точки - нулевые;\n",
    "* *age* - так как возраст - целое число;\n",
    "* *balance* - так как значения баланса в копейках нам знать ни к чему, округлим в большую сторону;\n",
    "* *EST_SALARY* - так как запрплату в копейках нам знать ни к чему, округлим в большую сторону.\n",
    "\n",
    "Б. Из целочисленного в булево значение:\n",
    "* *credit_card* - 1 или есть - True, 0 или нет - False;\n",
    "* *last_activity* - 1 или была активность - True, 0 или не было активности - False;\n",
    "* *churn* - 1 или подал заявление на расторжение - True, 0 или не подавал заявление - False.\n",
    "\n",
    "Но для начала приведем все названия столбцов к нижнему регистру."
   ]
  },
  {
   "cell_type": "markdown",
   "metadata": {},
   "source": [
    "### Замена названий столбцов (приведение нижнему регистру)."
   ]
  },
  {
   "cell_type": "code",
   "execution_count": 6,
   "metadata": {},
   "outputs": [
    {
     "data": {
      "text/html": [
       "<div>\n",
       "<style scoped>\n",
       "    .dataframe tbody tr th:only-of-type {\n",
       "        vertical-align: middle;\n",
       "    }\n",
       "\n",
       "    .dataframe tbody tr th {\n",
       "        vertical-align: top;\n",
       "    }\n",
       "\n",
       "    .dataframe thead th {\n",
       "        text-align: right;\n",
       "    }\n",
       "</style>\n",
       "<table border=\"1\" class=\"dataframe\">\n",
       "  <thead>\n",
       "    <tr style=\"text-align: right;\">\n",
       "      <th></th>\n",
       "      <th>user_id</th>\n",
       "      <th>score</th>\n",
       "      <th>city</th>\n",
       "      <th>gender</th>\n",
       "      <th>age</th>\n",
       "      <th>equity</th>\n",
       "      <th>balance</th>\n",
       "      <th>products</th>\n",
       "      <th>credit_card</th>\n",
       "      <th>last_activity</th>\n",
       "      <th>est_salary</th>\n",
       "      <th>churn</th>\n",
       "    </tr>\n",
       "  </thead>\n",
       "  <tbody>\n",
       "    <tr>\n",
       "      <th>0</th>\n",
       "      <td>183012</td>\n",
       "      <td>850.0</td>\n",
       "      <td>Рыбинск</td>\n",
       "      <td>Ж</td>\n",
       "      <td>25.0</td>\n",
       "      <td>1</td>\n",
       "      <td>59214.82</td>\n",
       "      <td>2</td>\n",
       "      <td>0</td>\n",
       "      <td>1</td>\n",
       "      <td>75719.14</td>\n",
       "      <td>1</td>\n",
       "    </tr>\n",
       "    <tr>\n",
       "      <th>1</th>\n",
       "      <td>146556</td>\n",
       "      <td>861.0</td>\n",
       "      <td>Рыбинск</td>\n",
       "      <td>Ж</td>\n",
       "      <td>37.0</td>\n",
       "      <td>5</td>\n",
       "      <td>850594.33</td>\n",
       "      <td>3</td>\n",
       "      <td>1</td>\n",
       "      <td>0</td>\n",
       "      <td>86621.77</td>\n",
       "      <td>0</td>\n",
       "    </tr>\n",
       "    <tr>\n",
       "      <th>2</th>\n",
       "      <td>120722</td>\n",
       "      <td>892.0</td>\n",
       "      <td>Рыбинск</td>\n",
       "      <td>Ж</td>\n",
       "      <td>30.0</td>\n",
       "      <td>0</td>\n",
       "      <td>NaN</td>\n",
       "      <td>1</td>\n",
       "      <td>1</td>\n",
       "      <td>1</td>\n",
       "      <td>107683.34</td>\n",
       "      <td>0</td>\n",
       "    </tr>\n",
       "    <tr>\n",
       "      <th>3</th>\n",
       "      <td>225363</td>\n",
       "      <td>866.0</td>\n",
       "      <td>Ярославль</td>\n",
       "      <td>Ж</td>\n",
       "      <td>51.0</td>\n",
       "      <td>5</td>\n",
       "      <td>1524746.26</td>\n",
       "      <td>2</td>\n",
       "      <td>0</td>\n",
       "      <td>1</td>\n",
       "      <td>174423.53</td>\n",
       "      <td>1</td>\n",
       "    </tr>\n",
       "    <tr>\n",
       "      <th>4</th>\n",
       "      <td>157978</td>\n",
       "      <td>730.0</td>\n",
       "      <td>Ярославль</td>\n",
       "      <td>М</td>\n",
       "      <td>34.0</td>\n",
       "      <td>5</td>\n",
       "      <td>174.00</td>\n",
       "      <td>1</td>\n",
       "      <td>1</td>\n",
       "      <td>0</td>\n",
       "      <td>67353.16</td>\n",
       "      <td>1</td>\n",
       "    </tr>\n",
       "  </tbody>\n",
       "</table>\n",
       "</div>"
      ],
      "text/plain": [
       "   user_id  score       city gender   age  equity     balance  products  \\\n",
       "0   183012  850.0    Рыбинск      Ж  25.0       1    59214.82         2   \n",
       "1   146556  861.0    Рыбинск      Ж  37.0       5   850594.33         3   \n",
       "2   120722  892.0    Рыбинск      Ж  30.0       0         NaN         1   \n",
       "3   225363  866.0  Ярославль      Ж  51.0       5  1524746.26         2   \n",
       "4   157978  730.0  Ярославль      М  34.0       5      174.00         1   \n",
       "\n",
       "   credit_card  last_activity  est_salary  churn  \n",
       "0            0              1    75719.14      1  \n",
       "1            1              0    86621.77      0  \n",
       "2            1              1   107683.34      0  \n",
       "3            0              1   174423.53      1  \n",
       "4            1              0    67353.16      1  "
      ]
     },
     "execution_count": 6,
     "metadata": {},
     "output_type": "execute_result"
    }
   ],
   "source": [
    "# Приведем все столбцы к нижнему регистру:\n",
    "data.columns = data.columns.str.lower()\n",
    "\n",
    "# Переименуем столбец userid в user_id:\n",
    "data = data.rename(columns = \n",
    "                   {'userid': 'user_id'})\n",
    "data.head()"
   ]
  },
  {
   "cell_type": "markdown",
   "metadata": {},
   "source": [
    "### Проверка на пропуски, их обработка."
   ]
  },
  {
   "cell_type": "code",
   "execution_count": 7,
   "metadata": {},
   "outputs": [
    {
     "name": "stdout",
     "output_type": "stream",
     "text": [
      "Пропусков в столбце age: 26. Пропусков в столбце balance: 2295.\n"
     ]
    }
   ],
   "source": [
    "# Посчитаем, сколько пропусков в столбцах age и balance:\n",
    "no_age_counter = data.age.isnull().sum()\n",
    "no_balance_counter = data.balance.isnull().sum()\n",
    "print('Пропусков в столбце age: {}. Пропусков в столбце balance: {}.'.format(no_age_counter, no_balance_counter))"
   ]
  },
  {
   "cell_type": "code",
   "execution_count": 8,
   "metadata": {},
   "outputs": [
    {
     "data": {
      "text/html": [
       "<div>\n",
       "<style scoped>\n",
       "    .dataframe tbody tr th:only-of-type {\n",
       "        vertical-align: middle;\n",
       "    }\n",
       "\n",
       "    .dataframe tbody tr th {\n",
       "        vertical-align: top;\n",
       "    }\n",
       "\n",
       "    .dataframe thead th {\n",
       "        text-align: right;\n",
       "    }\n",
       "</style>\n",
       "<table border=\"1\" class=\"dataframe\">\n",
       "  <thead>\n",
       "    <tr style=\"text-align: right;\">\n",
       "      <th></th>\n",
       "      <th>user_id</th>\n",
       "      <th>score</th>\n",
       "      <th>city</th>\n",
       "      <th>gender</th>\n",
       "      <th>age</th>\n",
       "      <th>equity</th>\n",
       "      <th>balance</th>\n",
       "      <th>products</th>\n",
       "      <th>credit_card</th>\n",
       "      <th>last_activity</th>\n",
       "      <th>est_salary</th>\n",
       "      <th>churn</th>\n",
       "    </tr>\n",
       "  </thead>\n",
       "  <tbody>\n",
       "    <tr>\n",
       "      <th>8785</th>\n",
       "      <td>127440</td>\n",
       "      <td>663.0</td>\n",
       "      <td>Ярославль</td>\n",
       "      <td>М</td>\n",
       "      <td>NaN</td>\n",
       "      <td>0</td>\n",
       "      <td>NaN</td>\n",
       "      <td>1</td>\n",
       "      <td>1</td>\n",
       "      <td>1</td>\n",
       "      <td>117197.56</td>\n",
       "      <td>0</td>\n",
       "    </tr>\n",
       "    <tr>\n",
       "      <th>3091</th>\n",
       "      <td>138660</td>\n",
       "      <td>836.0</td>\n",
       "      <td>Ростов</td>\n",
       "      <td>Ж</td>\n",
       "      <td>NaN</td>\n",
       "      <td>5</td>\n",
       "      <td>294315.53</td>\n",
       "      <td>2</td>\n",
       "      <td>0</td>\n",
       "      <td>1</td>\n",
       "      <td>63310.22</td>\n",
       "      <td>1</td>\n",
       "    </tr>\n",
       "    <tr>\n",
       "      <th>9819</th>\n",
       "      <td>140934</td>\n",
       "      <td>832.0</td>\n",
       "      <td>Рыбинск</td>\n",
       "      <td>Ж</td>\n",
       "      <td>NaN</td>\n",
       "      <td>3</td>\n",
       "      <td>385763.16</td>\n",
       "      <td>2</td>\n",
       "      <td>0</td>\n",
       "      <td>1</td>\n",
       "      <td>59651.35</td>\n",
       "      <td>0</td>\n",
       "    </tr>\n",
       "    <tr>\n",
       "      <th>9457</th>\n",
       "      <td>141945</td>\n",
       "      <td>929.0</td>\n",
       "      <td>Ярославль</td>\n",
       "      <td>М</td>\n",
       "      <td>NaN</td>\n",
       "      <td>0</td>\n",
       "      <td>NaN</td>\n",
       "      <td>1</td>\n",
       "      <td>1</td>\n",
       "      <td>0</td>\n",
       "      <td>381868.89</td>\n",
       "      <td>0</td>\n",
       "    </tr>\n",
       "    <tr>\n",
       "      <th>5495</th>\n",
       "      <td>151662</td>\n",
       "      <td>884.0</td>\n",
       "      <td>Рыбинск</td>\n",
       "      <td>Ж</td>\n",
       "      <td>NaN</td>\n",
       "      <td>0</td>\n",
       "      <td>NaN</td>\n",
       "      <td>1</td>\n",
       "      <td>1</td>\n",
       "      <td>1</td>\n",
       "      <td>137500.77</td>\n",
       "      <td>0</td>\n",
       "    </tr>\n",
       "    <tr>\n",
       "      <th>9667</th>\n",
       "      <td>163657</td>\n",
       "      <td>849.0</td>\n",
       "      <td>Ярославль</td>\n",
       "      <td>М</td>\n",
       "      <td>NaN</td>\n",
       "      <td>4</td>\n",
       "      <td>1254013.85</td>\n",
       "      <td>2</td>\n",
       "      <td>1</td>\n",
       "      <td>1</td>\n",
       "      <td>119106.67</td>\n",
       "      <td>0</td>\n",
       "    </tr>\n",
       "    <tr>\n",
       "      <th>7345</th>\n",
       "      <td>184913</td>\n",
       "      <td>829.0</td>\n",
       "      <td>Ярославль</td>\n",
       "      <td>Ж</td>\n",
       "      <td>NaN</td>\n",
       "      <td>3</td>\n",
       "      <td>188648.77</td>\n",
       "      <td>2</td>\n",
       "      <td>0</td>\n",
       "      <td>1</td>\n",
       "      <td>75206.90</td>\n",
       "      <td>0</td>\n",
       "    </tr>\n",
       "    <tr>\n",
       "      <th>9632</th>\n",
       "      <td>185829</td>\n",
       "      <td>927.0</td>\n",
       "      <td>Ярославль</td>\n",
       "      <td>М</td>\n",
       "      <td>NaN</td>\n",
       "      <td>0</td>\n",
       "      <td>NaN</td>\n",
       "      <td>1</td>\n",
       "      <td>1</td>\n",
       "      <td>0</td>\n",
       "      <td>231254.86</td>\n",
       "      <td>0</td>\n",
       "    </tr>\n",
       "    <tr>\n",
       "      <th>9380</th>\n",
       "      <td>187459</td>\n",
       "      <td>894.0</td>\n",
       "      <td>Рыбинск</td>\n",
       "      <td>М</td>\n",
       "      <td>NaN</td>\n",
       "      <td>0</td>\n",
       "      <td>NaN</td>\n",
       "      <td>1</td>\n",
       "      <td>1</td>\n",
       "      <td>0</td>\n",
       "      <td>178012.28</td>\n",
       "      <td>0</td>\n",
       "    </tr>\n",
       "    <tr>\n",
       "      <th>2165</th>\n",
       "      <td>187635</td>\n",
       "      <td>692.0</td>\n",
       "      <td>Рыбинск</td>\n",
       "      <td>Ж</td>\n",
       "      <td>NaN</td>\n",
       "      <td>0</td>\n",
       "      <td>NaN</td>\n",
       "      <td>1</td>\n",
       "      <td>1</td>\n",
       "      <td>1</td>\n",
       "      <td>160368.82</td>\n",
       "      <td>0</td>\n",
       "    </tr>\n",
       "    <tr>\n",
       "      <th>8015</th>\n",
       "      <td>198635</td>\n",
       "      <td>670.0</td>\n",
       "      <td>Ярославль</td>\n",
       "      <td>Ж</td>\n",
       "      <td>NaN</td>\n",
       "      <td>0</td>\n",
       "      <td>NaN</td>\n",
       "      <td>1</td>\n",
       "      <td>1</td>\n",
       "      <td>1</td>\n",
       "      <td>168699.33</td>\n",
       "      <td>0</td>\n",
       "    </tr>\n",
       "    <tr>\n",
       "      <th>9301</th>\n",
       "      <td>202983</td>\n",
       "      <td>942.0</td>\n",
       "      <td>Рыбинск</td>\n",
       "      <td>Ж</td>\n",
       "      <td>NaN</td>\n",
       "      <td>0</td>\n",
       "      <td>NaN</td>\n",
       "      <td>1</td>\n",
       "      <td>1</td>\n",
       "      <td>1</td>\n",
       "      <td>163804.73</td>\n",
       "      <td>0</td>\n",
       "    </tr>\n",
       "    <tr>\n",
       "      <th>8385</th>\n",
       "      <td>206759</td>\n",
       "      <td>915.0</td>\n",
       "      <td>Рыбинск</td>\n",
       "      <td>М</td>\n",
       "      <td>NaN</td>\n",
       "      <td>0</td>\n",
       "      <td>NaN</td>\n",
       "      <td>1</td>\n",
       "      <td>1</td>\n",
       "      <td>0</td>\n",
       "      <td>71179.53</td>\n",
       "      <td>0</td>\n",
       "    </tr>\n",
       "    <tr>\n",
       "      <th>7236</th>\n",
       "      <td>210135</td>\n",
       "      <td>908.0</td>\n",
       "      <td>Рыбинск</td>\n",
       "      <td>Ж</td>\n",
       "      <td>NaN</td>\n",
       "      <td>4</td>\n",
       "      <td>1120340.31</td>\n",
       "      <td>3</td>\n",
       "      <td>1</td>\n",
       "      <td>1</td>\n",
       "      <td>85002.15</td>\n",
       "      <td>0</td>\n",
       "    </tr>\n",
       "    <tr>\n",
       "      <th>4912</th>\n",
       "      <td>210674</td>\n",
       "      <td>834.0</td>\n",
       "      <td>Рыбинск</td>\n",
       "      <td>М</td>\n",
       "      <td>NaN</td>\n",
       "      <td>1</td>\n",
       "      <td>238330.52</td>\n",
       "      <td>2</td>\n",
       "      <td>0</td>\n",
       "      <td>1</td>\n",
       "      <td>93775.06</td>\n",
       "      <td>0</td>\n",
       "    </tr>\n",
       "    <tr>\n",
       "      <th>8449</th>\n",
       "      <td>210898</td>\n",
       "      <td>805.0</td>\n",
       "      <td>Ярославль</td>\n",
       "      <td>Ж</td>\n",
       "      <td>NaN</td>\n",
       "      <td>0</td>\n",
       "      <td>NaN</td>\n",
       "      <td>1</td>\n",
       "      <td>0</td>\n",
       "      <td>1</td>\n",
       "      <td>922080.25</td>\n",
       "      <td>0</td>\n",
       "    </tr>\n",
       "    <tr>\n",
       "      <th>7409</th>\n",
       "      <td>214031</td>\n",
       "      <td>777.0</td>\n",
       "      <td>Ярославль</td>\n",
       "      <td>М</td>\n",
       "      <td>NaN</td>\n",
       "      <td>2</td>\n",
       "      <td>171510.23</td>\n",
       "      <td>1</td>\n",
       "      <td>1</td>\n",
       "      <td>1</td>\n",
       "      <td>75409.63</td>\n",
       "      <td>0</td>\n",
       "    </tr>\n",
       "    <tr>\n",
       "      <th>8293</th>\n",
       "      <td>216848</td>\n",
       "      <td>930.0</td>\n",
       "      <td>Ярославль</td>\n",
       "      <td>М</td>\n",
       "      <td>NaN</td>\n",
       "      <td>0</td>\n",
       "      <td>NaN</td>\n",
       "      <td>1</td>\n",
       "      <td>1</td>\n",
       "      <td>1</td>\n",
       "      <td>199542.51</td>\n",
       "      <td>0</td>\n",
       "    </tr>\n",
       "    <tr>\n",
       "      <th>5470</th>\n",
       "      <td>218868</td>\n",
       "      <td>827.0</td>\n",
       "      <td>Рыбинск</td>\n",
       "      <td>Ж</td>\n",
       "      <td>NaN</td>\n",
       "      <td>4</td>\n",
       "      <td>448959.07</td>\n",
       "      <td>2</td>\n",
       "      <td>1</td>\n",
       "      <td>1</td>\n",
       "      <td>67835.95</td>\n",
       "      <td>0</td>\n",
       "    </tr>\n",
       "    <tr>\n",
       "      <th>7248</th>\n",
       "      <td>219343</td>\n",
       "      <td>920.0</td>\n",
       "      <td>Рыбинск</td>\n",
       "      <td>Ж</td>\n",
       "      <td>NaN</td>\n",
       "      <td>0</td>\n",
       "      <td>NaN</td>\n",
       "      <td>1</td>\n",
       "      <td>1</td>\n",
       "      <td>0</td>\n",
       "      <td>159248.67</td>\n",
       "      <td>0</td>\n",
       "    </tr>\n",
       "    <tr>\n",
       "      <th>2444</th>\n",
       "      <td>221156</td>\n",
       "      <td>913.0</td>\n",
       "      <td>Ярославль</td>\n",
       "      <td>М</td>\n",
       "      <td>NaN</td>\n",
       "      <td>0</td>\n",
       "      <td>NaN</td>\n",
       "      <td>1</td>\n",
       "      <td>1</td>\n",
       "      <td>1</td>\n",
       "      <td>135693.24</td>\n",
       "      <td>0</td>\n",
       "    </tr>\n",
       "    <tr>\n",
       "      <th>8632</th>\n",
       "      <td>221197</td>\n",
       "      <td>893.0</td>\n",
       "      <td>Ярославль</td>\n",
       "      <td>М</td>\n",
       "      <td>NaN</td>\n",
       "      <td>0</td>\n",
       "      <td>NaN</td>\n",
       "      <td>1</td>\n",
       "      <td>1</td>\n",
       "      <td>0</td>\n",
       "      <td>173929.92</td>\n",
       "      <td>0</td>\n",
       "    </tr>\n",
       "    <tr>\n",
       "      <th>9634</th>\n",
       "      <td>221809</td>\n",
       "      <td>917.0</td>\n",
       "      <td>Ярославль</td>\n",
       "      <td>М</td>\n",
       "      <td>NaN</td>\n",
       "      <td>0</td>\n",
       "      <td>NaN</td>\n",
       "      <td>1</td>\n",
       "      <td>1</td>\n",
       "      <td>1</td>\n",
       "      <td>192644.15</td>\n",
       "      <td>0</td>\n",
       "    </tr>\n",
       "    <tr>\n",
       "      <th>9104</th>\n",
       "      <td>222480</td>\n",
       "      <td>776.0</td>\n",
       "      <td>Рыбинск</td>\n",
       "      <td>Ж</td>\n",
       "      <td>NaN</td>\n",
       "      <td>5</td>\n",
       "      <td>796735.09</td>\n",
       "      <td>1</td>\n",
       "      <td>1</td>\n",
       "      <td>1</td>\n",
       "      <td>55073.63</td>\n",
       "      <td>0</td>\n",
       "    </tr>\n",
       "    <tr>\n",
       "      <th>8070</th>\n",
       "      <td>226550</td>\n",
       "      <td>940.0</td>\n",
       "      <td>Рыбинск</td>\n",
       "      <td>М</td>\n",
       "      <td>NaN</td>\n",
       "      <td>0</td>\n",
       "      <td>NaN</td>\n",
       "      <td>1</td>\n",
       "      <td>0</td>\n",
       "      <td>1</td>\n",
       "      <td>147696.95</td>\n",
       "      <td>0</td>\n",
       "    </tr>\n",
       "    <tr>\n",
       "      <th>1247</th>\n",
       "      <td>228075</td>\n",
       "      <td>932.0</td>\n",
       "      <td>Ярославль</td>\n",
       "      <td>М</td>\n",
       "      <td>NaN</td>\n",
       "      <td>5</td>\n",
       "      <td>7601719.20</td>\n",
       "      <td>2</td>\n",
       "      <td>1</td>\n",
       "      <td>1</td>\n",
       "      <td>408121.16</td>\n",
       "      <td>0</td>\n",
       "    </tr>\n",
       "  </tbody>\n",
       "</table>\n",
       "</div>"
      ],
      "text/plain": [
       "      user_id  score       city gender  age  equity     balance  products  \\\n",
       "8785   127440  663.0  Ярославль      М  NaN       0         NaN         1   \n",
       "3091   138660  836.0     Ростов      Ж  NaN       5   294315.53         2   \n",
       "9819   140934  832.0    Рыбинск      Ж  NaN       3   385763.16         2   \n",
       "9457   141945  929.0  Ярославль      М  NaN       0         NaN         1   \n",
       "5495   151662  884.0    Рыбинск      Ж  NaN       0         NaN         1   \n",
       "9667   163657  849.0  Ярославль      М  NaN       4  1254013.85         2   \n",
       "7345   184913  829.0  Ярославль      Ж  NaN       3   188648.77         2   \n",
       "9632   185829  927.0  Ярославль      М  NaN       0         NaN         1   \n",
       "9380   187459  894.0    Рыбинск      М  NaN       0         NaN         1   \n",
       "2165   187635  692.0    Рыбинск      Ж  NaN       0         NaN         1   \n",
       "8015   198635  670.0  Ярославль      Ж  NaN       0         NaN         1   \n",
       "9301   202983  942.0    Рыбинск      Ж  NaN       0         NaN         1   \n",
       "8385   206759  915.0    Рыбинск      М  NaN       0         NaN         1   \n",
       "7236   210135  908.0    Рыбинск      Ж  NaN       4  1120340.31         3   \n",
       "4912   210674  834.0    Рыбинск      М  NaN       1   238330.52         2   \n",
       "8449   210898  805.0  Ярославль      Ж  NaN       0         NaN         1   \n",
       "7409   214031  777.0  Ярославль      М  NaN       2   171510.23         1   \n",
       "8293   216848  930.0  Ярославль      М  NaN       0         NaN         1   \n",
       "5470   218868  827.0    Рыбинск      Ж  NaN       4   448959.07         2   \n",
       "7248   219343  920.0    Рыбинск      Ж  NaN       0         NaN         1   \n",
       "2444   221156  913.0  Ярославль      М  NaN       0         NaN         1   \n",
       "8632   221197  893.0  Ярославль      М  NaN       0         NaN         1   \n",
       "9634   221809  917.0  Ярославль      М  NaN       0         NaN         1   \n",
       "9104   222480  776.0    Рыбинск      Ж  NaN       5   796735.09         1   \n",
       "8070   226550  940.0    Рыбинск      М  NaN       0         NaN         1   \n",
       "1247   228075  932.0  Ярославль      М  NaN       5  7601719.20         2   \n",
       "\n",
       "      credit_card  last_activity  est_salary  churn  \n",
       "8785            1              1   117197.56      0  \n",
       "3091            0              1    63310.22      1  \n",
       "9819            0              1    59651.35      0  \n",
       "9457            1              0   381868.89      0  \n",
       "5495            1              1   137500.77      0  \n",
       "9667            1              1   119106.67      0  \n",
       "7345            0              1    75206.90      0  \n",
       "9632            1              0   231254.86      0  \n",
       "9380            1              0   178012.28      0  \n",
       "2165            1              1   160368.82      0  \n",
       "8015            1              1   168699.33      0  \n",
       "9301            1              1   163804.73      0  \n",
       "8385            1              0    71179.53      0  \n",
       "7236            1              1    85002.15      0  \n",
       "4912            0              1    93775.06      0  \n",
       "8449            0              1   922080.25      0  \n",
       "7409            1              1    75409.63      0  \n",
       "8293            1              1   199542.51      0  \n",
       "5470            1              1    67835.95      0  \n",
       "7248            1              0   159248.67      0  \n",
       "2444            1              1   135693.24      0  \n",
       "8632            1              0   173929.92      0  \n",
       "9634            1              1   192644.15      0  \n",
       "9104            1              1    55073.63      0  \n",
       "8070            0              1   147696.95      0  \n",
       "1247            1              1   408121.16      0  "
      ]
     },
     "execution_count": 8,
     "metadata": {},
     "output_type": "execute_result"
    }
   ],
   "source": [
    "#Выведем строки с пропущенным значением возраста:\n",
    "no_age = data.loc[data['age'].isna()].sort_values( by='user_id', ascending=True)\n",
    "no_age.head(30)"
   ]
  },
  {
   "cell_type": "code",
   "execution_count": 9,
   "metadata": {},
   "outputs": [
    {
     "data": {
      "text/plain": [
       "М    14\n",
       "Ж    12\n",
       "Name: gender, dtype: int64"
      ]
     },
     "execution_count": 9,
     "metadata": {},
     "output_type": "execute_result"
    }
   ],
   "source": [
    "# Посмотрим, как распределены пропуски возраста по полу:\n",
    "no_age.gender.value_counts()"
   ]
  },
  {
   "cell_type": "code",
   "execution_count": 10,
   "metadata": {
    "scrolled": false
   },
   "outputs": [
    {
     "data": {
      "text/plain": [
       "16"
      ]
     },
     "metadata": {},
     "output_type": "display_data"
    }
   ],
   "source": [
    "# Посчитаем, сколько не заполненных значений в balance у выведенных нами строк с пустыми значениями age:\n",
    "display(len(no_age[no_age['balance'].isnull()]))"
   ]
  },
  {
   "cell_type": "code",
   "execution_count": 11,
   "metadata": {},
   "outputs": [
    {
     "data": {
      "text/plain": [
       "Ярославль    13\n",
       "Рыбинск      12\n",
       "Ростов        1\n",
       "Name: city, dtype: int64"
      ]
     },
     "execution_count": 11,
     "metadata": {},
     "output_type": "execute_result"
    }
   ],
   "source": [
    "# Посмотрим, как распределены строки с пропущенными значением возраста по городам:\n",
    "no_age.city.value_counts()"
   ]
  },
  {
   "cell_type": "code",
   "execution_count": 12,
   "metadata": {},
   "outputs": [
    {
     "data": {
      "text/plain": [
       "1    20\n",
       "0     6\n",
       "Name: last_activity, dtype: int64"
      ]
     },
     "execution_count": 12,
     "metadata": {},
     "output_type": "execute_result"
    }
   ],
   "source": [
    "# Посмотрим, как распределены пропуски возраста по активности:\n",
    "no_age.last_activity.value_counts()"
   ]
  },
  {
   "cell_type": "markdown",
   "metadata": {},
   "source": [
    "**Резюме:**\n",
    "* По полу пропуски в значениях age преобладают у мужчин - 14, а у женщин - 12.\n",
    "* Из 26 строк с пропусками в столбце age 16 строк также содержат пропуски в столбце balance.\n",
    "* По Ярославлю и Рыбинску строки с пропусками age распределены примерно одинаково: 13 и 12 соответственно. На Ростов приходится всего 1 пропуск.\n",
    "* По активности пропуски в столбце age преобладают у активных - 20, а неактивных - всего 6.\n",
    "* Обратим внимание на столбец churn для строк с пропущенным возрастом: **25 из 26 строк содержат 0, то есть клиент не собирается уходить в данный момент**.   \n",
    "\n",
    "**Вывод по пропускам age:**\n",
    "\n",
    "Судя по всему, при выгрузке часть данных была утеряна, так как возраст  - информация, которую клиент не может утаить от самого банка (ведь при заключении договора и открытии счета он предъявляет сотруднику банка свой паспорт).  \n",
    "Даже если предположить, что каким-то образом возраст из паспорта не был внесен в базу (например, при удаленной регистрации в банке), то 16 пропусков в balance тех же строк, где содержатся пропуски age, подтверждают гипотезу о технической причине ошибки как минимум для 16 из 26 строк без age. \n",
    "\n",
    "**Примем все 26 пропусков age за техническую ошибку.**\n",
    "\n",
    "Сообщим об этом инженерам данных, а для текущего проекта заменим пропуски на -1. При построении графиков и в расчетах будем исключать это значение."
   ]
  },
  {
   "cell_type": "code",
   "execution_count": 13,
   "metadata": {},
   "outputs": [
    {
     "data": {
      "text/html": [
       "<div>\n",
       "<style scoped>\n",
       "    .dataframe tbody tr th:only-of-type {\n",
       "        vertical-align: middle;\n",
       "    }\n",
       "\n",
       "    .dataframe tbody tr th {\n",
       "        vertical-align: top;\n",
       "    }\n",
       "\n",
       "    .dataframe thead th {\n",
       "        text-align: right;\n",
       "    }\n",
       "</style>\n",
       "<table border=\"1\" class=\"dataframe\">\n",
       "  <thead>\n",
       "    <tr style=\"text-align: right;\">\n",
       "      <th></th>\n",
       "      <th>user_id</th>\n",
       "      <th>score</th>\n",
       "      <th>city</th>\n",
       "      <th>gender</th>\n",
       "      <th>age</th>\n",
       "      <th>equity</th>\n",
       "      <th>balance</th>\n",
       "      <th>products</th>\n",
       "      <th>credit_card</th>\n",
       "      <th>last_activity</th>\n",
       "      <th>est_salary</th>\n",
       "      <th>churn</th>\n",
       "    </tr>\n",
       "  </thead>\n",
       "  <tbody>\n",
       "    <tr>\n",
       "      <th>1247</th>\n",
       "      <td>228075</td>\n",
       "      <td>932.0</td>\n",
       "      <td>Ярославль</td>\n",
       "      <td>М</td>\n",
       "      <td>-1</td>\n",
       "      <td>5</td>\n",
       "      <td>7601719.20</td>\n",
       "      <td>2</td>\n",
       "      <td>1</td>\n",
       "      <td>1</td>\n",
       "      <td>408121.16</td>\n",
       "      <td>0</td>\n",
       "    </tr>\n",
       "    <tr>\n",
       "      <th>2165</th>\n",
       "      <td>187635</td>\n",
       "      <td>692.0</td>\n",
       "      <td>Рыбинск</td>\n",
       "      <td>Ж</td>\n",
       "      <td>-1</td>\n",
       "      <td>0</td>\n",
       "      <td>NaN</td>\n",
       "      <td>1</td>\n",
       "      <td>1</td>\n",
       "      <td>1</td>\n",
       "      <td>160368.82</td>\n",
       "      <td>0</td>\n",
       "    </tr>\n",
       "    <tr>\n",
       "      <th>2444</th>\n",
       "      <td>221156</td>\n",
       "      <td>913.0</td>\n",
       "      <td>Ярославль</td>\n",
       "      <td>М</td>\n",
       "      <td>-1</td>\n",
       "      <td>0</td>\n",
       "      <td>NaN</td>\n",
       "      <td>1</td>\n",
       "      <td>1</td>\n",
       "      <td>1</td>\n",
       "      <td>135693.24</td>\n",
       "      <td>0</td>\n",
       "    </tr>\n",
       "    <tr>\n",
       "      <th>3091</th>\n",
       "      <td>138660</td>\n",
       "      <td>836.0</td>\n",
       "      <td>Ростов</td>\n",
       "      <td>Ж</td>\n",
       "      <td>-1</td>\n",
       "      <td>5</td>\n",
       "      <td>294315.53</td>\n",
       "      <td>2</td>\n",
       "      <td>0</td>\n",
       "      <td>1</td>\n",
       "      <td>63310.22</td>\n",
       "      <td>1</td>\n",
       "    </tr>\n",
       "    <tr>\n",
       "      <th>4912</th>\n",
       "      <td>210674</td>\n",
       "      <td>834.0</td>\n",
       "      <td>Рыбинск</td>\n",
       "      <td>М</td>\n",
       "      <td>-1</td>\n",
       "      <td>1</td>\n",
       "      <td>238330.52</td>\n",
       "      <td>2</td>\n",
       "      <td>0</td>\n",
       "      <td>1</td>\n",
       "      <td>93775.06</td>\n",
       "      <td>0</td>\n",
       "    </tr>\n",
       "  </tbody>\n",
       "</table>\n",
       "</div>"
      ],
      "text/plain": [
       "      user_id  score       city gender  age  equity     balance  products  \\\n",
       "1247   228075  932.0  Ярославль      М   -1       5  7601719.20         2   \n",
       "2165   187635  692.0    Рыбинск      Ж   -1       0         NaN         1   \n",
       "2444   221156  913.0  Ярославль      М   -1       0         NaN         1   \n",
       "3091   138660  836.0     Ростов      Ж   -1       5   294315.53         2   \n",
       "4912   210674  834.0    Рыбинск      М   -1       1   238330.52         2   \n",
       "\n",
       "      credit_card  last_activity  est_salary  churn  \n",
       "1247            1              1   408121.16      0  \n",
       "2165            1              1   160368.82      0  \n",
       "2444            1              1   135693.24      0  \n",
       "3091            0              1    63310.22      1  \n",
       "4912            0              1    93775.06      0  "
      ]
     },
     "metadata": {},
     "output_type": "display_data"
    }
   ],
   "source": [
    "# Заменяем пропуски в age на -1:\n",
    "data['age'] = data['age'].fillna(value=-1).astype('int64')\n",
    "display((data[data['age']==-1]).head())"
   ]
  },
  {
   "cell_type": "code",
   "execution_count": 14,
   "metadata": {
    "scrolled": false
   },
   "outputs": [
    {
     "data": {
      "text/html": [
       "<div>\n",
       "<style scoped>\n",
       "    .dataframe tbody tr th:only-of-type {\n",
       "        vertical-align: middle;\n",
       "    }\n",
       "\n",
       "    .dataframe tbody tr th {\n",
       "        vertical-align: top;\n",
       "    }\n",
       "\n",
       "    .dataframe thead th {\n",
       "        text-align: right;\n",
       "    }\n",
       "</style>\n",
       "<table border=\"1\" class=\"dataframe\">\n",
       "  <thead>\n",
       "    <tr style=\"text-align: right;\">\n",
       "      <th></th>\n",
       "      <th>user_id</th>\n",
       "      <th>score</th>\n",
       "      <th>city</th>\n",
       "      <th>gender</th>\n",
       "      <th>age</th>\n",
       "      <th>equity</th>\n",
       "      <th>balance</th>\n",
       "      <th>products</th>\n",
       "      <th>credit_card</th>\n",
       "      <th>last_activity</th>\n",
       "      <th>est_salary</th>\n",
       "      <th>churn</th>\n",
       "    </tr>\n",
       "  </thead>\n",
       "  <tbody>\n",
       "    <tr>\n",
       "      <th>1834</th>\n",
       "      <td>114182</td>\n",
       "      <td>890.0</td>\n",
       "      <td>Рыбинск</td>\n",
       "      <td>М</td>\n",
       "      <td>32</td>\n",
       "      <td>0</td>\n",
       "      <td>NaN</td>\n",
       "      <td>1</td>\n",
       "      <td>1</td>\n",
       "      <td>0</td>\n",
       "      <td>82847.95</td>\n",
       "      <td>0</td>\n",
       "    </tr>\n",
       "    <tr>\n",
       "      <th>4025</th>\n",
       "      <td>114196</td>\n",
       "      <td>915.0</td>\n",
       "      <td>Рыбинск</td>\n",
       "      <td>М</td>\n",
       "      <td>31</td>\n",
       "      <td>0</td>\n",
       "      <td>NaN</td>\n",
       "      <td>1</td>\n",
       "      <td>1</td>\n",
       "      <td>1</td>\n",
       "      <td>133324.89</td>\n",
       "      <td>0</td>\n",
       "    </tr>\n",
       "    <tr>\n",
       "      <th>4580</th>\n",
       "      <td>114209</td>\n",
       "      <td>892.0</td>\n",
       "      <td>Ярославль</td>\n",
       "      <td>Ж</td>\n",
       "      <td>29</td>\n",
       "      <td>0</td>\n",
       "      <td>NaN</td>\n",
       "      <td>1</td>\n",
       "      <td>1</td>\n",
       "      <td>0</td>\n",
       "      <td>120174.24</td>\n",
       "      <td>0</td>\n",
       "    </tr>\n",
       "    <tr>\n",
       "      <th>3980</th>\n",
       "      <td>114347</td>\n",
       "      <td>703.0</td>\n",
       "      <td>Ярославль</td>\n",
       "      <td>Ж</td>\n",
       "      <td>33</td>\n",
       "      <td>0</td>\n",
       "      <td>NaN</td>\n",
       "      <td>1</td>\n",
       "      <td>1</td>\n",
       "      <td>0</td>\n",
       "      <td>171038.71</td>\n",
       "      <td>0</td>\n",
       "    </tr>\n",
       "    <tr>\n",
       "      <th>7017</th>\n",
       "      <td>114422</td>\n",
       "      <td>708.0</td>\n",
       "      <td>Ярославль</td>\n",
       "      <td>Ж</td>\n",
       "      <td>69</td>\n",
       "      <td>0</td>\n",
       "      <td>NaN</td>\n",
       "      <td>1</td>\n",
       "      <td>1</td>\n",
       "      <td>0</td>\n",
       "      <td>159013.27</td>\n",
       "      <td>0</td>\n",
       "    </tr>\n",
       "    <tr>\n",
       "      <th>...</th>\n",
       "      <td>...</td>\n",
       "      <td>...</td>\n",
       "      <td>...</td>\n",
       "      <td>...</td>\n",
       "      <td>...</td>\n",
       "      <td>...</td>\n",
       "      <td>...</td>\n",
       "      <td>...</td>\n",
       "      <td>...</td>\n",
       "      <td>...</td>\n",
       "      <td>...</td>\n",
       "      <td>...</td>\n",
       "    </tr>\n",
       "    <tr>\n",
       "      <th>8026</th>\n",
       "      <td>229036</td>\n",
       "      <td>948.0</td>\n",
       "      <td>Рыбинск</td>\n",
       "      <td>Ж</td>\n",
       "      <td>43</td>\n",
       "      <td>0</td>\n",
       "      <td>NaN</td>\n",
       "      <td>1</td>\n",
       "      <td>0</td>\n",
       "      <td>0</td>\n",
       "      <td>241225.29</td>\n",
       "      <td>0</td>\n",
       "    </tr>\n",
       "    <tr>\n",
       "      <th>3798</th>\n",
       "      <td>229050</td>\n",
       "      <td>899.0</td>\n",
       "      <td>Ярославль</td>\n",
       "      <td>Ж</td>\n",
       "      <td>40</td>\n",
       "      <td>0</td>\n",
       "      <td>NaN</td>\n",
       "      <td>1</td>\n",
       "      <td>0</td>\n",
       "      <td>0</td>\n",
       "      <td>169445.35</td>\n",
       "      <td>0</td>\n",
       "    </tr>\n",
       "    <tr>\n",
       "      <th>8622</th>\n",
       "      <td>229052</td>\n",
       "      <td>921.0</td>\n",
       "      <td>Рыбинск</td>\n",
       "      <td>М</td>\n",
       "      <td>42</td>\n",
       "      <td>0</td>\n",
       "      <td>NaN</td>\n",
       "      <td>1</td>\n",
       "      <td>1</td>\n",
       "      <td>1</td>\n",
       "      <td>221661.10</td>\n",
       "      <td>0</td>\n",
       "    </tr>\n",
       "    <tr>\n",
       "      <th>2373</th>\n",
       "      <td>229054</td>\n",
       "      <td>883.0</td>\n",
       "      <td>Ярославль</td>\n",
       "      <td>М</td>\n",
       "      <td>27</td>\n",
       "      <td>0</td>\n",
       "      <td>NaN</td>\n",
       "      <td>1</td>\n",
       "      <td>1</td>\n",
       "      <td>1</td>\n",
       "      <td>144948.73</td>\n",
       "      <td>0</td>\n",
       "    </tr>\n",
       "    <tr>\n",
       "      <th>8913</th>\n",
       "      <td>229145</td>\n",
       "      <td>698.0</td>\n",
       "      <td>Ярославль</td>\n",
       "      <td>Ж</td>\n",
       "      <td>37</td>\n",
       "      <td>0</td>\n",
       "      <td>NaN</td>\n",
       "      <td>1</td>\n",
       "      <td>1</td>\n",
       "      <td>1</td>\n",
       "      <td>255439.00</td>\n",
       "      <td>0</td>\n",
       "    </tr>\n",
       "  </tbody>\n",
       "</table>\n",
       "<p>2295 rows × 12 columns</p>\n",
       "</div>"
      ],
      "text/plain": [
       "      user_id  score       city gender  age  equity  balance  products  \\\n",
       "1834   114182  890.0    Рыбинск      М   32       0      NaN         1   \n",
       "4025   114196  915.0    Рыбинск      М   31       0      NaN         1   \n",
       "4580   114209  892.0  Ярославль      Ж   29       0      NaN         1   \n",
       "3980   114347  703.0  Ярославль      Ж   33       0      NaN         1   \n",
       "7017   114422  708.0  Ярославль      Ж   69       0      NaN         1   \n",
       "...       ...    ...        ...    ...  ...     ...      ...       ...   \n",
       "8026   229036  948.0    Рыбинск      Ж   43       0      NaN         1   \n",
       "3798   229050  899.0  Ярославль      Ж   40       0      NaN         1   \n",
       "8622   229052  921.0    Рыбинск      М   42       0      NaN         1   \n",
       "2373   229054  883.0  Ярославль      М   27       0      NaN         1   \n",
       "8913   229145  698.0  Ярославль      Ж   37       0      NaN         1   \n",
       "\n",
       "      credit_card  last_activity  est_salary  churn  \n",
       "1834            1              0    82847.95      0  \n",
       "4025            1              1   133324.89      0  \n",
       "4580            1              0   120174.24      0  \n",
       "3980            1              0   171038.71      0  \n",
       "7017            1              0   159013.27      0  \n",
       "...           ...            ...         ...    ...  \n",
       "8026            0              0   241225.29      0  \n",
       "3798            0              0   169445.35      0  \n",
       "8622            1              1   221661.10      0  \n",
       "2373            1              1   144948.73      0  \n",
       "8913            1              1   255439.00      0  \n",
       "\n",
       "[2295 rows x 12 columns]"
      ]
     },
     "execution_count": 14,
     "metadata": {},
     "output_type": "execute_result"
    }
   ],
   "source": [
    "#Выведем строки с пропущенным значением баланса или остатка на счете:\n",
    "no_money = data.loc[data['balance'].isna()].sort_values(by='user_id', ascending=True)\n",
    "no_money"
   ]
  },
  {
   "cell_type": "code",
   "execution_count": 15,
   "metadata": {},
   "outputs": [
    {
     "data": {
      "text/plain": [
       "М    1282\n",
       "Ж    1013\n",
       "Name: gender, dtype: int64"
      ]
     },
     "execution_count": 15,
     "metadata": {},
     "output_type": "execute_result"
    }
   ],
   "source": [
    "# Посмотрим, как распределены пропуски баланса по полу:\n",
    "no_money.gender.value_counts()"
   ]
  },
  {
   "cell_type": "code",
   "execution_count": 16,
   "metadata": {},
   "outputs": [
    {
     "data": {
      "text/plain": [
       "Ярославль    1467\n",
       "Рыбинск       593\n",
       "Ростов        235\n",
       "Name: city, dtype: int64"
      ]
     },
     "execution_count": 16,
     "metadata": {},
     "output_type": "execute_result"
    }
   ],
   "source": [
    "# Посмотрим, как распределены строки с пропущенными значением баланса по городам:\n",
    "no_money.city.value_counts()"
   ]
  },
  {
   "cell_type": "code",
   "execution_count": 17,
   "metadata": {},
   "outputs": [
    {
     "data": {
      "text/plain": [
       "1    1261\n",
       "0    1034\n",
       "Name: last_activity, dtype: int64"
      ]
     },
     "execution_count": 17,
     "metadata": {},
     "output_type": "execute_result"
    }
   ],
   "source": [
    "# Посмотрим, как распределены пропуски баланса по активности:\n",
    "no_money.last_activity.value_counts()"
   ]
  },
  {
   "cell_type": "code",
   "execution_count": 18,
   "metadata": {},
   "outputs": [
    {
     "data": {
      "text/plain": [
       "2180"
      ]
     },
     "metadata": {},
     "output_type": "display_data"
    }
   ],
   "source": [
    "#Посчитаем, сколько из 2295 записей со значением equity, то есть оценки собственности, равным 0:\n",
    "display(len(no_money[no_money['equity']==0]))"
   ]
  },
  {
   "cell_type": "code",
   "execution_count": 19,
   "metadata": {},
   "outputs": [
    {
     "data": {
      "text/plain": [
       "13"
      ]
     },
     "metadata": {},
     "output_type": "display_data"
    }
   ],
   "source": [
    "#Посчитаем, сколько из 2295 записей со значением churn, равным 1, то есть собираются уходить:\n",
    "display(len(no_money[no_money['churn']==1]))"
   ]
  },
  {
   "cell_type": "markdown",
   "metadata": {},
   "source": [
    "**Резюме по balance:**\n",
    "* По полу пропуски в значениях balance преобладают у мужчин - 1282, а у женщин - 1013.\n",
    "* Больше всего строк с пропущенным балансом из Ярославля - 1467, из Рыбинска лишь 593, а из Ростова - 235.\n",
    "* По активности пропуски в столбце age преобладают у активных - 1261, неактивных меньше - 1034.\n",
    "* Из 2295 строк с пропущенным балансом аж 2180 имеют оценку собственности (equity), равную 0.\n",
    "* Из 2295 строк с пропущенным балансом **только 13 подали заявление на расторжение договора с банком**, т.е. churn = 1.\n",
    "\n",
    "**Вывод по пропускам balance:**\n",
    "\n",
    "Судя по всему, при выгрузке часть данных была утеряна, так как остаток на счете - информация, которую клиент не может утаить от самого банка, и как минимум баланс может быть нулевым. В нашем же случае 2295 строк просто являлись NaN, то есть неизвестно, нулевыми или нет. \n",
    "\n",
    "**Поэтому примем пропуски balance за техническую ошибку.**\n",
    "\n",
    "Сообщим об этом инженерам данных, а для текущего проекта заменим пропуски на -1. При построении графиков и расчетах будем исключать это значение."
   ]
  },
  {
   "cell_type": "code",
   "execution_count": 20,
   "metadata": {
    "scrolled": true
   },
   "outputs": [
    {
     "data": {
      "text/html": [
       "<div>\n",
       "<style scoped>\n",
       "    .dataframe tbody tr th:only-of-type {\n",
       "        vertical-align: middle;\n",
       "    }\n",
       "\n",
       "    .dataframe tbody tr th {\n",
       "        vertical-align: top;\n",
       "    }\n",
       "\n",
       "    .dataframe thead th {\n",
       "        text-align: right;\n",
       "    }\n",
       "</style>\n",
       "<table border=\"1\" class=\"dataframe\">\n",
       "  <thead>\n",
       "    <tr style=\"text-align: right;\">\n",
       "      <th></th>\n",
       "      <th>user_id</th>\n",
       "      <th>score</th>\n",
       "      <th>city</th>\n",
       "      <th>gender</th>\n",
       "      <th>age</th>\n",
       "      <th>equity</th>\n",
       "      <th>balance</th>\n",
       "      <th>products</th>\n",
       "      <th>credit_card</th>\n",
       "      <th>last_activity</th>\n",
       "      <th>est_salary</th>\n",
       "      <th>churn</th>\n",
       "    </tr>\n",
       "  </thead>\n",
       "  <tbody>\n",
       "    <tr>\n",
       "      <th>0</th>\n",
       "      <td>183012</td>\n",
       "      <td>850.0</td>\n",
       "      <td>Рыбинск</td>\n",
       "      <td>Ж</td>\n",
       "      <td>25</td>\n",
       "      <td>1</td>\n",
       "      <td>59214</td>\n",
       "      <td>2</td>\n",
       "      <td>0</td>\n",
       "      <td>1</td>\n",
       "      <td>75719.14</td>\n",
       "      <td>1</td>\n",
       "    </tr>\n",
       "    <tr>\n",
       "      <th>1</th>\n",
       "      <td>146556</td>\n",
       "      <td>861.0</td>\n",
       "      <td>Рыбинск</td>\n",
       "      <td>Ж</td>\n",
       "      <td>37</td>\n",
       "      <td>5</td>\n",
       "      <td>850594</td>\n",
       "      <td>3</td>\n",
       "      <td>1</td>\n",
       "      <td>0</td>\n",
       "      <td>86621.77</td>\n",
       "      <td>0</td>\n",
       "    </tr>\n",
       "    <tr>\n",
       "      <th>2</th>\n",
       "      <td>120722</td>\n",
       "      <td>892.0</td>\n",
       "      <td>Рыбинск</td>\n",
       "      <td>Ж</td>\n",
       "      <td>30</td>\n",
       "      <td>0</td>\n",
       "      <td>-1</td>\n",
       "      <td>1</td>\n",
       "      <td>1</td>\n",
       "      <td>1</td>\n",
       "      <td>107683.34</td>\n",
       "      <td>0</td>\n",
       "    </tr>\n",
       "    <tr>\n",
       "      <th>3</th>\n",
       "      <td>225363</td>\n",
       "      <td>866.0</td>\n",
       "      <td>Ярославль</td>\n",
       "      <td>Ж</td>\n",
       "      <td>51</td>\n",
       "      <td>5</td>\n",
       "      <td>1524746</td>\n",
       "      <td>2</td>\n",
       "      <td>0</td>\n",
       "      <td>1</td>\n",
       "      <td>174423.53</td>\n",
       "      <td>1</td>\n",
       "    </tr>\n",
       "    <tr>\n",
       "      <th>4</th>\n",
       "      <td>157978</td>\n",
       "      <td>730.0</td>\n",
       "      <td>Ярославль</td>\n",
       "      <td>М</td>\n",
       "      <td>34</td>\n",
       "      <td>5</td>\n",
       "      <td>174</td>\n",
       "      <td>1</td>\n",
       "      <td>1</td>\n",
       "      <td>0</td>\n",
       "      <td>67353.16</td>\n",
       "      <td>1</td>\n",
       "    </tr>\n",
       "  </tbody>\n",
       "</table>\n",
       "</div>"
      ],
      "text/plain": [
       "   user_id  score       city gender  age  equity  balance  products  \\\n",
       "0   183012  850.0    Рыбинск      Ж   25       1    59214         2   \n",
       "1   146556  861.0    Рыбинск      Ж   37       5   850594         3   \n",
       "2   120722  892.0    Рыбинск      Ж   30       0       -1         1   \n",
       "3   225363  866.0  Ярославль      Ж   51       5  1524746         2   \n",
       "4   157978  730.0  Ярославль      М   34       5      174         1   \n",
       "\n",
       "   credit_card  last_activity  est_salary  churn  \n",
       "0            0              1    75719.14      1  \n",
       "1            1              0    86621.77      0  \n",
       "2            1              1   107683.34      0  \n",
       "3            0              1   174423.53      1  \n",
       "4            1              0    67353.16      1  "
      ]
     },
     "execution_count": 20,
     "metadata": {},
     "output_type": "execute_result"
    }
   ],
   "source": [
    "# Заменяем пропуски в balance на -1:\n",
    "data['balance'] = data['balance'].fillna(value=-1).astype('int64')\n",
    "data.head()"
   ]
  },
  {
   "cell_type": "markdown",
   "metadata": {},
   "source": [
    "### Приведение типов данных в столбцах к соответствующим содержимому типам.\n",
    "\n",
    "\n",
    "1. Из вещественного в целочисленное:\n",
    "* *score* - так как оценки выставлены целыми числами, значения после точки - нулевые;\n",
    "* *age* - так как возраст - целое число;\n",
    "* *balance* - так как значения баланса в копейках нам знать ни к чему, округлим в большую сторону;\n",
    "* *est_salary* - так как запрплату в копейках нам знать ни к чему, округлим в большую сторону.\n",
    "\n",
    "2. Из целочисленного в булево значение:\n",
    "* *credit_card* - 1 или есть - True, 0 или нет - False;\n",
    "* *last_activity* - 1 или была активность - True, 0 или не было активности - False;\n",
    "* *churn* - 1 или подал заявление на расторжение - True, 0 или не подавал заявление - False.\n"
   ]
  },
  {
   "cell_type": "code",
   "execution_count": 21,
   "metadata": {},
   "outputs": [
    {
     "data": {
      "text/html": [
       "<div>\n",
       "<style scoped>\n",
       "    .dataframe tbody tr th:only-of-type {\n",
       "        vertical-align: middle;\n",
       "    }\n",
       "\n",
       "    .dataframe tbody tr th {\n",
       "        vertical-align: top;\n",
       "    }\n",
       "\n",
       "    .dataframe thead th {\n",
       "        text-align: right;\n",
       "    }\n",
       "</style>\n",
       "<table border=\"1\" class=\"dataframe\">\n",
       "  <thead>\n",
       "    <tr style=\"text-align: right;\">\n",
       "      <th></th>\n",
       "      <th>user_id</th>\n",
       "      <th>score</th>\n",
       "      <th>city</th>\n",
       "      <th>gender</th>\n",
       "      <th>age</th>\n",
       "      <th>equity</th>\n",
       "      <th>balance</th>\n",
       "      <th>products</th>\n",
       "      <th>credit_card</th>\n",
       "      <th>last_activity</th>\n",
       "      <th>est_salary</th>\n",
       "      <th>churn</th>\n",
       "    </tr>\n",
       "  </thead>\n",
       "  <tbody>\n",
       "    <tr>\n",
       "      <th>0</th>\n",
       "      <td>183012</td>\n",
       "      <td>850</td>\n",
       "      <td>Рыбинск</td>\n",
       "      <td>Ж</td>\n",
       "      <td>25</td>\n",
       "      <td>1</td>\n",
       "      <td>59214</td>\n",
       "      <td>2</td>\n",
       "      <td>0</td>\n",
       "      <td>1</td>\n",
       "      <td>75719</td>\n",
       "      <td>1</td>\n",
       "    </tr>\n",
       "    <tr>\n",
       "      <th>1</th>\n",
       "      <td>146556</td>\n",
       "      <td>861</td>\n",
       "      <td>Рыбинск</td>\n",
       "      <td>Ж</td>\n",
       "      <td>37</td>\n",
       "      <td>5</td>\n",
       "      <td>850594</td>\n",
       "      <td>3</td>\n",
       "      <td>1</td>\n",
       "      <td>0</td>\n",
       "      <td>86621</td>\n",
       "      <td>0</td>\n",
       "    </tr>\n",
       "    <tr>\n",
       "      <th>2</th>\n",
       "      <td>120722</td>\n",
       "      <td>892</td>\n",
       "      <td>Рыбинск</td>\n",
       "      <td>Ж</td>\n",
       "      <td>30</td>\n",
       "      <td>0</td>\n",
       "      <td>-1</td>\n",
       "      <td>1</td>\n",
       "      <td>1</td>\n",
       "      <td>1</td>\n",
       "      <td>107683</td>\n",
       "      <td>0</td>\n",
       "    </tr>\n",
       "    <tr>\n",
       "      <th>3</th>\n",
       "      <td>225363</td>\n",
       "      <td>866</td>\n",
       "      <td>Ярославль</td>\n",
       "      <td>Ж</td>\n",
       "      <td>51</td>\n",
       "      <td>5</td>\n",
       "      <td>1524746</td>\n",
       "      <td>2</td>\n",
       "      <td>0</td>\n",
       "      <td>1</td>\n",
       "      <td>174423</td>\n",
       "      <td>1</td>\n",
       "    </tr>\n",
       "    <tr>\n",
       "      <th>4</th>\n",
       "      <td>157978</td>\n",
       "      <td>730</td>\n",
       "      <td>Ярославль</td>\n",
       "      <td>М</td>\n",
       "      <td>34</td>\n",
       "      <td>5</td>\n",
       "      <td>174</td>\n",
       "      <td>1</td>\n",
       "      <td>1</td>\n",
       "      <td>0</td>\n",
       "      <td>67353</td>\n",
       "      <td>1</td>\n",
       "    </tr>\n",
       "  </tbody>\n",
       "</table>\n",
       "</div>"
      ],
      "text/plain": [
       "   user_id  score       city gender  age  equity  balance  products  \\\n",
       "0   183012    850    Рыбинск      Ж   25       1    59214         2   \n",
       "1   146556    861    Рыбинск      Ж   37       5   850594         3   \n",
       "2   120722    892    Рыбинск      Ж   30       0       -1         1   \n",
       "3   225363    866  Ярославль      Ж   51       5  1524746         2   \n",
       "4   157978    730  Ярославль      М   34       5      174         1   \n",
       "\n",
       "   credit_card  last_activity  est_salary  churn  \n",
       "0            0              1       75719      1  \n",
       "1            1              0       86621      0  \n",
       "2            1              1      107683      0  \n",
       "3            0              1      174423      1  \n",
       "4            1              0       67353      1  "
      ]
     },
     "execution_count": 21,
     "metadata": {},
     "output_type": "execute_result"
    }
   ],
   "source": [
    "data[['score', 'age', 'balance', 'est_salary']] = data[['score', 'age', 'balance', 'est_salary']].astype('int64')\n",
    "data.head()"
   ]
  },
  {
   "cell_type": "code",
   "execution_count": 22,
   "metadata": {},
   "outputs": [
    {
     "name": "stdout",
     "output_type": "stream",
     "text": [
      "<class 'pandas.core.frame.DataFrame'>\n",
      "RangeIndex: 10000 entries, 0 to 9999\n",
      "Data columns (total 12 columns):\n",
      " #   Column         Non-Null Count  Dtype \n",
      "---  ------         --------------  ----- \n",
      " 0   user_id        10000 non-null  int64 \n",
      " 1   score          10000 non-null  int64 \n",
      " 2   city           10000 non-null  object\n",
      " 3   gender         10000 non-null  object\n",
      " 4   age            10000 non-null  int64 \n",
      " 5   equity         10000 non-null  int64 \n",
      " 6   balance        10000 non-null  int64 \n",
      " 7   products       10000 non-null  int64 \n",
      " 8   credit_card    10000 non-null  int64 \n",
      " 9   last_activity  10000 non-null  int64 \n",
      " 10  est_salary     10000 non-null  int64 \n",
      " 11  churn          10000 non-null  int64 \n",
      "dtypes: int64(10), object(2)\n",
      "memory usage: 937.6+ KB\n"
     ]
    }
   ],
   "source": [
    "data.info()"
   ]
  },
  {
   "cell_type": "code",
   "execution_count": 23,
   "metadata": {
    "scrolled": false
   },
   "outputs": [
    {
     "data": {
      "text/html": [
       "<div>\n",
       "<style scoped>\n",
       "    .dataframe tbody tr th:only-of-type {\n",
       "        vertical-align: middle;\n",
       "    }\n",
       "\n",
       "    .dataframe tbody tr th {\n",
       "        vertical-align: top;\n",
       "    }\n",
       "\n",
       "    .dataframe thead th {\n",
       "        text-align: right;\n",
       "    }\n",
       "</style>\n",
       "<table border=\"1\" class=\"dataframe\">\n",
       "  <thead>\n",
       "    <tr style=\"text-align: right;\">\n",
       "      <th></th>\n",
       "      <th>user_id</th>\n",
       "      <th>score</th>\n",
       "      <th>city</th>\n",
       "      <th>gender</th>\n",
       "      <th>age</th>\n",
       "      <th>equity</th>\n",
       "      <th>balance</th>\n",
       "      <th>products</th>\n",
       "      <th>credit_card</th>\n",
       "      <th>last_activity</th>\n",
       "      <th>est_salary</th>\n",
       "      <th>churn</th>\n",
       "    </tr>\n",
       "  </thead>\n",
       "  <tbody>\n",
       "    <tr>\n",
       "      <th>0</th>\n",
       "      <td>183012</td>\n",
       "      <td>850</td>\n",
       "      <td>Рыбинск</td>\n",
       "      <td>Ж</td>\n",
       "      <td>25</td>\n",
       "      <td>1</td>\n",
       "      <td>59214</td>\n",
       "      <td>2</td>\n",
       "      <td>False</td>\n",
       "      <td>True</td>\n",
       "      <td>75719</td>\n",
       "      <td>True</td>\n",
       "    </tr>\n",
       "    <tr>\n",
       "      <th>1</th>\n",
       "      <td>146556</td>\n",
       "      <td>861</td>\n",
       "      <td>Рыбинск</td>\n",
       "      <td>Ж</td>\n",
       "      <td>37</td>\n",
       "      <td>5</td>\n",
       "      <td>850594</td>\n",
       "      <td>3</td>\n",
       "      <td>True</td>\n",
       "      <td>False</td>\n",
       "      <td>86621</td>\n",
       "      <td>False</td>\n",
       "    </tr>\n",
       "    <tr>\n",
       "      <th>2</th>\n",
       "      <td>120722</td>\n",
       "      <td>892</td>\n",
       "      <td>Рыбинск</td>\n",
       "      <td>Ж</td>\n",
       "      <td>30</td>\n",
       "      <td>0</td>\n",
       "      <td>-1</td>\n",
       "      <td>1</td>\n",
       "      <td>True</td>\n",
       "      <td>True</td>\n",
       "      <td>107683</td>\n",
       "      <td>False</td>\n",
       "    </tr>\n",
       "    <tr>\n",
       "      <th>3</th>\n",
       "      <td>225363</td>\n",
       "      <td>866</td>\n",
       "      <td>Ярославль</td>\n",
       "      <td>Ж</td>\n",
       "      <td>51</td>\n",
       "      <td>5</td>\n",
       "      <td>1524746</td>\n",
       "      <td>2</td>\n",
       "      <td>False</td>\n",
       "      <td>True</td>\n",
       "      <td>174423</td>\n",
       "      <td>True</td>\n",
       "    </tr>\n",
       "    <tr>\n",
       "      <th>4</th>\n",
       "      <td>157978</td>\n",
       "      <td>730</td>\n",
       "      <td>Ярославль</td>\n",
       "      <td>М</td>\n",
       "      <td>34</td>\n",
       "      <td>5</td>\n",
       "      <td>174</td>\n",
       "      <td>1</td>\n",
       "      <td>True</td>\n",
       "      <td>False</td>\n",
       "      <td>67353</td>\n",
       "      <td>True</td>\n",
       "    </tr>\n",
       "  </tbody>\n",
       "</table>\n",
       "</div>"
      ],
      "text/plain": [
       "   user_id  score       city gender  age  equity  balance  products  \\\n",
       "0   183012    850    Рыбинск      Ж   25       1    59214         2   \n",
       "1   146556    861    Рыбинск      Ж   37       5   850594         3   \n",
       "2   120722    892    Рыбинск      Ж   30       0       -1         1   \n",
       "3   225363    866  Ярославль      Ж   51       5  1524746         2   \n",
       "4   157978    730  Ярославль      М   34       5      174         1   \n",
       "\n",
       "   credit_card  last_activity  est_salary  churn  \n",
       "0        False           True       75719   True  \n",
       "1         True          False       86621  False  \n",
       "2         True           True      107683  False  \n",
       "3        False           True      174423   True  \n",
       "4         True          False       67353   True  "
      ]
     },
     "execution_count": 23,
     "metadata": {},
     "output_type": "execute_result"
    }
   ],
   "source": [
    "data[['credit_card', 'last_activity', 'churn']] = data[['credit_card', 'last_activity', 'churn']].astype('bool')\n",
    "data.head()"
   ]
  },
  {
   "cell_type": "code",
   "execution_count": 24,
   "metadata": {},
   "outputs": [
    {
     "name": "stdout",
     "output_type": "stream",
     "text": [
      "<class 'pandas.core.frame.DataFrame'>\n",
      "RangeIndex: 10000 entries, 0 to 9999\n",
      "Data columns (total 12 columns):\n",
      " #   Column         Non-Null Count  Dtype \n",
      "---  ------         --------------  ----- \n",
      " 0   user_id        10000 non-null  int64 \n",
      " 1   score          10000 non-null  int64 \n",
      " 2   city           10000 non-null  object\n",
      " 3   gender         10000 non-null  object\n",
      " 4   age            10000 non-null  int64 \n",
      " 5   equity         10000 non-null  int64 \n",
      " 6   balance        10000 non-null  int64 \n",
      " 7   products       10000 non-null  int64 \n",
      " 8   credit_card    10000 non-null  bool  \n",
      " 9   last_activity  10000 non-null  bool  \n",
      " 10  est_salary     10000 non-null  int64 \n",
      " 11  churn          10000 non-null  bool  \n",
      "dtypes: bool(3), int64(7), object(2)\n",
      "memory usage: 732.5+ KB\n"
     ]
    }
   ],
   "source": [
    "data.info()"
   ]
  },
  {
   "cell_type": "markdown",
   "metadata": {},
   "source": [
    "**Резюме по типам данных:**\n",
    "    \n",
    "* Мы привели типы данных в соответствии со значениями в столбцах.\n",
    "* Теперь у нас 7 целочисленных, 3 булевых и 2 текстовых столбца.\n",
    "\n",
    "Можем переходить к проверке на дубликаты."
   ]
  },
  {
   "cell_type": "markdown",
   "metadata": {},
   "source": [
    "### Проверка на явные и неявные дубликаты.\n",
    "#### Явные дубликаты:"
   ]
  },
  {
   "cell_type": "code",
   "execution_count": 25,
   "metadata": {},
   "outputs": [
    {
     "name": "stdout",
     "output_type": "stream",
     "text": [
      "Полных совпадений строк: 0\n"
     ]
    }
   ],
   "source": [
    "#Проверка на явные дубликаты:\n",
    "print('Полных совпадений строк:', data.duplicated().sum())"
   ]
  },
  {
   "cell_type": "markdown",
   "metadata": {},
   "source": [
    "#### Неявные дубликаты:"
   ]
  },
  {
   "cell_type": "code",
   "execution_count": 26,
   "metadata": {},
   "outputs": [
    {
     "name": "stdout",
     "output_type": "stream",
     "text": [
      "Количество дубликатов: 73\n"
     ]
    }
   ],
   "source": [
    "#Быстрая проверка на неявные дубликаты:\n",
    "print('Количество дубликатов:', data['user_id'].duplicated().sum())"
   ]
  },
  {
   "cell_type": "markdown",
   "metadata": {},
   "source": [
    "Где-то спряталось 73 дубликата по user_id, выведем их:"
   ]
  },
  {
   "cell_type": "code",
   "execution_count": 27,
   "metadata": {
    "scrolled": true
   },
   "outputs": [
    {
     "data": {
      "text/html": [
       "<div>\n",
       "<style scoped>\n",
       "    .dataframe tbody tr th:only-of-type {\n",
       "        vertical-align: middle;\n",
       "    }\n",
       "\n",
       "    .dataframe tbody tr th {\n",
       "        vertical-align: top;\n",
       "    }\n",
       "\n",
       "    .dataframe thead th {\n",
       "        text-align: right;\n",
       "    }\n",
       "</style>\n",
       "<table border=\"1\" class=\"dataframe\">\n",
       "  <thead>\n",
       "    <tr style=\"text-align: right;\">\n",
       "      <th></th>\n",
       "      <th>user_id</th>\n",
       "      <th>score</th>\n",
       "      <th>city</th>\n",
       "      <th>gender</th>\n",
       "      <th>age</th>\n",
       "      <th>equity</th>\n",
       "      <th>balance</th>\n",
       "      <th>products</th>\n",
       "      <th>credit_card</th>\n",
       "      <th>last_activity</th>\n",
       "      <th>est_salary</th>\n",
       "      <th>churn</th>\n",
       "    </tr>\n",
       "  </thead>\n",
       "  <tbody>\n",
       "    <tr>\n",
       "      <th>1893</th>\n",
       "      <td>116540</td>\n",
       "      <td>883</td>\n",
       "      <td>Рыбинск</td>\n",
       "      <td>Ж</td>\n",
       "      <td>55</td>\n",
       "      <td>1</td>\n",
       "      <td>362756</td>\n",
       "      <td>3</td>\n",
       "      <td>False</td>\n",
       "      <td>True</td>\n",
       "      <td>175920</td>\n",
       "      <td>True</td>\n",
       "    </tr>\n",
       "    <tr>\n",
       "      <th>7694</th>\n",
       "      <td>116540</td>\n",
       "      <td>887</td>\n",
       "      <td>Ярославль</td>\n",
       "      <td>Ж</td>\n",
       "      <td>38</td>\n",
       "      <td>0</td>\n",
       "      <td>-1</td>\n",
       "      <td>1</td>\n",
       "      <td>False</td>\n",
       "      <td>True</td>\n",
       "      <td>119247</td>\n",
       "      <td>False</td>\n",
       "    </tr>\n",
       "    <tr>\n",
       "      <th>7542</th>\n",
       "      <td>117943</td>\n",
       "      <td>880</td>\n",
       "      <td>Ярославль</td>\n",
       "      <td>Ж</td>\n",
       "      <td>40</td>\n",
       "      <td>0</td>\n",
       "      <td>-1</td>\n",
       "      <td>1</td>\n",
       "      <td>True</td>\n",
       "      <td>False</td>\n",
       "      <td>137718</td>\n",
       "      <td>False</td>\n",
       "    </tr>\n",
       "    <tr>\n",
       "      <th>4866</th>\n",
       "      <td>117943</td>\n",
       "      <td>855</td>\n",
       "      <td>Рыбинск</td>\n",
       "      <td>Ж</td>\n",
       "      <td>32</td>\n",
       "      <td>6</td>\n",
       "      <td>1036832</td>\n",
       "      <td>4</td>\n",
       "      <td>True</td>\n",
       "      <td>True</td>\n",
       "      <td>107792</td>\n",
       "      <td>True</td>\n",
       "    </tr>\n",
       "    <tr>\n",
       "      <th>5896</th>\n",
       "      <td>120258</td>\n",
       "      <td>905</td>\n",
       "      <td>Ярославль</td>\n",
       "      <td>М</td>\n",
       "      <td>30</td>\n",
       "      <td>0</td>\n",
       "      <td>-1</td>\n",
       "      <td>1</td>\n",
       "      <td>True</td>\n",
       "      <td>True</td>\n",
       "      <td>146427</td>\n",
       "      <td>False</td>\n",
       "    </tr>\n",
       "    <tr>\n",
       "      <th>5863</th>\n",
       "      <td>120258</td>\n",
       "      <td>908</td>\n",
       "      <td>Рыбинск</td>\n",
       "      <td>Ж</td>\n",
       "      <td>38</td>\n",
       "      <td>4</td>\n",
       "      <td>2213581</td>\n",
       "      <td>2</td>\n",
       "      <td>False</td>\n",
       "      <td>True</td>\n",
       "      <td>160327</td>\n",
       "      <td>True</td>\n",
       "    </tr>\n",
       "    <tr>\n",
       "      <th>1411</th>\n",
       "      <td>123461</td>\n",
       "      <td>829</td>\n",
       "      <td>Ярославль</td>\n",
       "      <td>Ж</td>\n",
       "      <td>59</td>\n",
       "      <td>0</td>\n",
       "      <td>96222</td>\n",
       "      <td>2</td>\n",
       "      <td>False</td>\n",
       "      <td>True</td>\n",
       "      <td>102771</td>\n",
       "      <td>True</td>\n",
       "    </tr>\n",
       "    <tr>\n",
       "      <th>8638</th>\n",
       "      <td>123461</td>\n",
       "      <td>934</td>\n",
       "      <td>Рыбинск</td>\n",
       "      <td>М</td>\n",
       "      <td>34</td>\n",
       "      <td>0</td>\n",
       "      <td>-1</td>\n",
       "      <td>2</td>\n",
       "      <td>True</td>\n",
       "      <td>False</td>\n",
       "      <td>291619</td>\n",
       "      <td>False</td>\n",
       "    </tr>\n",
       "    <tr>\n",
       "      <th>8164</th>\n",
       "      <td>124450</td>\n",
       "      <td>859</td>\n",
       "      <td>Ярославль</td>\n",
       "      <td>Ж</td>\n",
       "      <td>38</td>\n",
       "      <td>6</td>\n",
       "      <td>516811</td>\n",
       "      <td>1</td>\n",
       "      <td>True</td>\n",
       "      <td>True</td>\n",
       "      <td>95144</td>\n",
       "      <td>True</td>\n",
       "    </tr>\n",
       "    <tr>\n",
       "      <th>9775</th>\n",
       "      <td>124450</td>\n",
       "      <td>758</td>\n",
       "      <td>Рыбинск</td>\n",
       "      <td>Ж</td>\n",
       "      <td>36</td>\n",
       "      <td>0</td>\n",
       "      <td>73574</td>\n",
       "      <td>2</td>\n",
       "      <td>False</td>\n",
       "      <td>True</td>\n",
       "      <td>79963</td>\n",
       "      <td>False</td>\n",
       "    </tr>\n",
       "    <tr>\n",
       "      <th>4850</th>\n",
       "      <td>126368</td>\n",
       "      <td>909</td>\n",
       "      <td>Ярославль</td>\n",
       "      <td>Ж</td>\n",
       "      <td>30</td>\n",
       "      <td>4</td>\n",
       "      <td>1322623</td>\n",
       "      <td>2</td>\n",
       "      <td>False</td>\n",
       "      <td>True</td>\n",
       "      <td>140675</td>\n",
       "      <td>True</td>\n",
       "    </tr>\n",
       "    <tr>\n",
       "      <th>5420</th>\n",
       "      <td>126368</td>\n",
       "      <td>832</td>\n",
       "      <td>Рыбинск</td>\n",
       "      <td>Ж</td>\n",
       "      <td>33</td>\n",
       "      <td>0</td>\n",
       "      <td>-1</td>\n",
       "      <td>1</td>\n",
       "      <td>False</td>\n",
       "      <td>False</td>\n",
       "      <td>118465</td>\n",
       "      <td>False</td>\n",
       "    </tr>\n",
       "    <tr>\n",
       "      <th>8785</th>\n",
       "      <td>127440</td>\n",
       "      <td>663</td>\n",
       "      <td>Ярославль</td>\n",
       "      <td>М</td>\n",
       "      <td>-1</td>\n",
       "      <td>0</td>\n",
       "      <td>-1</td>\n",
       "      <td>1</td>\n",
       "      <td>True</td>\n",
       "      <td>True</td>\n",
       "      <td>117197</td>\n",
       "      <td>False</td>\n",
       "    </tr>\n",
       "    <tr>\n",
       "      <th>4443</th>\n",
       "      <td>127440</td>\n",
       "      <td>846</td>\n",
       "      <td>Рыбинск</td>\n",
       "      <td>М</td>\n",
       "      <td>66</td>\n",
       "      <td>1</td>\n",
       "      <td>57405</td>\n",
       "      <td>2</td>\n",
       "      <td>False</td>\n",
       "      <td>True</td>\n",
       "      <td>17831</td>\n",
       "      <td>False</td>\n",
       "    </tr>\n",
       "    <tr>\n",
       "      <th>3988</th>\n",
       "      <td>129785</td>\n",
       "      <td>904</td>\n",
       "      <td>Рыбинск</td>\n",
       "      <td>М</td>\n",
       "      <td>33</td>\n",
       "      <td>5</td>\n",
       "      <td>2427737</td>\n",
       "      <td>3</td>\n",
       "      <td>False</td>\n",
       "      <td>True</td>\n",
       "      <td>188856</td>\n",
       "      <td>True</td>\n",
       "    </tr>\n",
       "    <tr>\n",
       "      <th>9504</th>\n",
       "      <td>129785</td>\n",
       "      <td>949</td>\n",
       "      <td>Ярославль</td>\n",
       "      <td>М</td>\n",
       "      <td>43</td>\n",
       "      <td>0</td>\n",
       "      <td>-1</td>\n",
       "      <td>1</td>\n",
       "      <td>True</td>\n",
       "      <td>True</td>\n",
       "      <td>166845</td>\n",
       "      <td>False</td>\n",
       "    </tr>\n",
       "    <tr>\n",
       "      <th>904</th>\n",
       "      <td>131419</td>\n",
       "      <td>934</td>\n",
       "      <td>Ярославль</td>\n",
       "      <td>М</td>\n",
       "      <td>35</td>\n",
       "      <td>5</td>\n",
       "      <td>2348335</td>\n",
       "      <td>2</td>\n",
       "      <td>False</td>\n",
       "      <td>False</td>\n",
       "      <td>217105</td>\n",
       "      <td>True</td>\n",
       "    </tr>\n",
       "    <tr>\n",
       "      <th>2138</th>\n",
       "      <td>131419</td>\n",
       "      <td>739</td>\n",
       "      <td>Рыбинск</td>\n",
       "      <td>Ж</td>\n",
       "      <td>37</td>\n",
       "      <td>3</td>\n",
       "      <td>1307941</td>\n",
       "      <td>3</td>\n",
       "      <td>False</td>\n",
       "      <td>False</td>\n",
       "      <td>103867</td>\n",
       "      <td>False</td>\n",
       "    </tr>\n",
       "    <tr>\n",
       "      <th>7487</th>\n",
       "      <td>140377</td>\n",
       "      <td>930</td>\n",
       "      <td>Рыбинск</td>\n",
       "      <td>Ж</td>\n",
       "      <td>34</td>\n",
       "      <td>5</td>\n",
       "      <td>1123967</td>\n",
       "      <td>1</td>\n",
       "      <td>True</td>\n",
       "      <td>True</td>\n",
       "      <td>148336</td>\n",
       "      <td>False</td>\n",
       "    </tr>\n",
       "    <tr>\n",
       "      <th>1608</th>\n",
       "      <td>140377</td>\n",
       "      <td>802</td>\n",
       "      <td>Ярославль</td>\n",
       "      <td>М</td>\n",
       "      <td>26</td>\n",
       "      <td>3</td>\n",
       "      <td>539863</td>\n",
       "      <td>4</td>\n",
       "      <td>True</td>\n",
       "      <td>True</td>\n",
       "      <td>112167</td>\n",
       "      <td>True</td>\n",
       "    </tr>\n",
       "  </tbody>\n",
       "</table>\n",
       "</div>"
      ],
      "text/plain": [
       "      user_id  score       city gender  age  equity  balance  products  \\\n",
       "1893   116540    883    Рыбинск      Ж   55       1   362756         3   \n",
       "7694   116540    887  Ярославль      Ж   38       0       -1         1   \n",
       "7542   117943    880  Ярославль      Ж   40       0       -1         1   \n",
       "4866   117943    855    Рыбинск      Ж   32       6  1036832         4   \n",
       "5896   120258    905  Ярославль      М   30       0       -1         1   \n",
       "5863   120258    908    Рыбинск      Ж   38       4  2213581         2   \n",
       "1411   123461    829  Ярославль      Ж   59       0    96222         2   \n",
       "8638   123461    934    Рыбинск      М   34       0       -1         2   \n",
       "8164   124450    859  Ярославль      Ж   38       6   516811         1   \n",
       "9775   124450    758    Рыбинск      Ж   36       0    73574         2   \n",
       "4850   126368    909  Ярославль      Ж   30       4  1322623         2   \n",
       "5420   126368    832    Рыбинск      Ж   33       0       -1         1   \n",
       "8785   127440    663  Ярославль      М   -1       0       -1         1   \n",
       "4443   127440    846    Рыбинск      М   66       1    57405         2   \n",
       "3988   129785    904    Рыбинск      М   33       5  2427737         3   \n",
       "9504   129785    949  Ярославль      М   43       0       -1         1   \n",
       "904    131419    934  Ярославль      М   35       5  2348335         2   \n",
       "2138   131419    739    Рыбинск      Ж   37       3  1307941         3   \n",
       "7487   140377    930    Рыбинск      Ж   34       5  1123967         1   \n",
       "1608   140377    802  Ярославль      М   26       3   539863         4   \n",
       "\n",
       "      credit_card  last_activity  est_salary  churn  \n",
       "1893        False           True      175920   True  \n",
       "7694        False           True      119247  False  \n",
       "7542         True          False      137718  False  \n",
       "4866         True           True      107792   True  \n",
       "5896         True           True      146427  False  \n",
       "5863        False           True      160327   True  \n",
       "1411        False           True      102771   True  \n",
       "8638         True          False      291619  False  \n",
       "8164         True           True       95144   True  \n",
       "9775        False           True       79963  False  \n",
       "4850        False           True      140675   True  \n",
       "5420        False          False      118465  False  \n",
       "8785         True           True      117197  False  \n",
       "4443        False           True       17831  False  \n",
       "3988        False           True      188856   True  \n",
       "9504         True           True      166845  False  \n",
       "904         False          False      217105   True  \n",
       "2138        False          False      103867  False  \n",
       "7487         True           True      148336  False  \n",
       "1608         True           True      112167   True  "
      ]
     },
     "execution_count": 27,
     "metadata": {},
     "output_type": "execute_result"
    }
   ],
   "source": [
    "duplicate_results = (data[data.duplicated(subset=['user_id'],keep=False)]).sort_values(by='user_id', ascending=True)\n",
    "duplicate_results.head(20)"
   ]
  },
  {
   "cell_type": "markdown",
   "metadata": {},
   "source": [
    "Заметно чередуются города в строках-дубликатах. Проверим гипотезу, что строки задвоились по городам:"
   ]
  },
  {
   "cell_type": "code",
   "execution_count": 28,
   "metadata": {
    "scrolled": true
   },
   "outputs": [
    {
     "data": {
      "text/plain": [
       "Рыбинск      73\n",
       "Ярославль    73\n",
       "Name: city, dtype: int64"
      ]
     },
     "execution_count": 28,
     "metadata": {},
     "output_type": "execute_result"
    }
   ],
   "source": [
    "duplicate_results.city.value_counts()"
   ]
  },
  {
   "cell_type": "markdown",
   "metadata": {},
   "source": [
    "Мы видим, что данные задвоились по городам, равное количество строк из таблицы дубликатов приходится на Рыбинск и Ярославль. <br>\n",
    "Соберем сводную табличку по user_id и городам, чтобы было нагляднее изучать остальные столбцы."
   ]
  },
  {
   "cell_type": "code",
   "execution_count": 29,
   "metadata": {
    "scrolled": false
   },
   "outputs": [
    {
     "data": {
      "text/html": [
       "<div>\n",
       "<style scoped>\n",
       "    .dataframe tbody tr th:only-of-type {\n",
       "        vertical-align: middle;\n",
       "    }\n",
       "\n",
       "    .dataframe tbody tr th {\n",
       "        vertical-align: top;\n",
       "    }\n",
       "\n",
       "    .dataframe thead th {\n",
       "        text-align: right;\n",
       "    }\n",
       "</style>\n",
       "<table border=\"1\" class=\"dataframe\">\n",
       "  <thead>\n",
       "    <tr style=\"text-align: right;\">\n",
       "      <th></th>\n",
       "      <th></th>\n",
       "      <th>age</th>\n",
       "      <th>balance</th>\n",
       "      <th>churn</th>\n",
       "      <th>credit_card</th>\n",
       "      <th>equity</th>\n",
       "      <th>est_salary</th>\n",
       "      <th>last_activity</th>\n",
       "      <th>products</th>\n",
       "      <th>score</th>\n",
       "    </tr>\n",
       "    <tr>\n",
       "      <th>user_id</th>\n",
       "      <th>city</th>\n",
       "      <th></th>\n",
       "      <th></th>\n",
       "      <th></th>\n",
       "      <th></th>\n",
       "      <th></th>\n",
       "      <th></th>\n",
       "      <th></th>\n",
       "      <th></th>\n",
       "      <th></th>\n",
       "    </tr>\n",
       "  </thead>\n",
       "  <tbody>\n",
       "    <tr>\n",
       "      <th rowspan=\"2\" valign=\"top\">116540</th>\n",
       "      <th>Рыбинск</th>\n",
       "      <td>55</td>\n",
       "      <td>362756</td>\n",
       "      <td>1.0</td>\n",
       "      <td>0.0</td>\n",
       "      <td>1</td>\n",
       "      <td>175920</td>\n",
       "      <td>1.0</td>\n",
       "      <td>3</td>\n",
       "      <td>883</td>\n",
       "    </tr>\n",
       "    <tr>\n",
       "      <th>Ярославль</th>\n",
       "      <td>38</td>\n",
       "      <td>-1</td>\n",
       "      <td>0.0</td>\n",
       "      <td>0.0</td>\n",
       "      <td>0</td>\n",
       "      <td>119247</td>\n",
       "      <td>1.0</td>\n",
       "      <td>1</td>\n",
       "      <td>887</td>\n",
       "    </tr>\n",
       "    <tr>\n",
       "      <th rowspan=\"2\" valign=\"top\">117943</th>\n",
       "      <th>Рыбинск</th>\n",
       "      <td>32</td>\n",
       "      <td>1036832</td>\n",
       "      <td>1.0</td>\n",
       "      <td>1.0</td>\n",
       "      <td>6</td>\n",
       "      <td>107792</td>\n",
       "      <td>1.0</td>\n",
       "      <td>4</td>\n",
       "      <td>855</td>\n",
       "    </tr>\n",
       "    <tr>\n",
       "      <th>Ярославль</th>\n",
       "      <td>40</td>\n",
       "      <td>-1</td>\n",
       "      <td>0.0</td>\n",
       "      <td>1.0</td>\n",
       "      <td>0</td>\n",
       "      <td>137718</td>\n",
       "      <td>0.0</td>\n",
       "      <td>1</td>\n",
       "      <td>880</td>\n",
       "    </tr>\n",
       "    <tr>\n",
       "      <th rowspan=\"2\" valign=\"top\">120258</th>\n",
       "      <th>Рыбинск</th>\n",
       "      <td>38</td>\n",
       "      <td>2213581</td>\n",
       "      <td>1.0</td>\n",
       "      <td>0.0</td>\n",
       "      <td>4</td>\n",
       "      <td>160327</td>\n",
       "      <td>1.0</td>\n",
       "      <td>2</td>\n",
       "      <td>908</td>\n",
       "    </tr>\n",
       "    <tr>\n",
       "      <th>Ярославль</th>\n",
       "      <td>30</td>\n",
       "      <td>-1</td>\n",
       "      <td>0.0</td>\n",
       "      <td>1.0</td>\n",
       "      <td>0</td>\n",
       "      <td>146427</td>\n",
       "      <td>1.0</td>\n",
       "      <td>1</td>\n",
       "      <td>905</td>\n",
       "    </tr>\n",
       "    <tr>\n",
       "      <th rowspan=\"2\" valign=\"top\">123461</th>\n",
       "      <th>Рыбинск</th>\n",
       "      <td>34</td>\n",
       "      <td>-1</td>\n",
       "      <td>0.0</td>\n",
       "      <td>1.0</td>\n",
       "      <td>0</td>\n",
       "      <td>291619</td>\n",
       "      <td>0.0</td>\n",
       "      <td>2</td>\n",
       "      <td>934</td>\n",
       "    </tr>\n",
       "    <tr>\n",
       "      <th>Ярославль</th>\n",
       "      <td>59</td>\n",
       "      <td>96222</td>\n",
       "      <td>1.0</td>\n",
       "      <td>0.0</td>\n",
       "      <td>0</td>\n",
       "      <td>102771</td>\n",
       "      <td>1.0</td>\n",
       "      <td>2</td>\n",
       "      <td>829</td>\n",
       "    </tr>\n",
       "    <tr>\n",
       "      <th rowspan=\"2\" valign=\"top\">124450</th>\n",
       "      <th>Рыбинск</th>\n",
       "      <td>36</td>\n",
       "      <td>73574</td>\n",
       "      <td>0.0</td>\n",
       "      <td>0.0</td>\n",
       "      <td>0</td>\n",
       "      <td>79963</td>\n",
       "      <td>1.0</td>\n",
       "      <td>2</td>\n",
       "      <td>758</td>\n",
       "    </tr>\n",
       "    <tr>\n",
       "      <th>Ярославль</th>\n",
       "      <td>38</td>\n",
       "      <td>516811</td>\n",
       "      <td>1.0</td>\n",
       "      <td>1.0</td>\n",
       "      <td>6</td>\n",
       "      <td>95144</td>\n",
       "      <td>1.0</td>\n",
       "      <td>1</td>\n",
       "      <td>859</td>\n",
       "    </tr>\n",
       "    <tr>\n",
       "      <th rowspan=\"2\" valign=\"top\">126368</th>\n",
       "      <th>Рыбинск</th>\n",
       "      <td>33</td>\n",
       "      <td>-1</td>\n",
       "      <td>0.0</td>\n",
       "      <td>0.0</td>\n",
       "      <td>0</td>\n",
       "      <td>118465</td>\n",
       "      <td>0.0</td>\n",
       "      <td>1</td>\n",
       "      <td>832</td>\n",
       "    </tr>\n",
       "    <tr>\n",
       "      <th>Ярославль</th>\n",
       "      <td>30</td>\n",
       "      <td>1322623</td>\n",
       "      <td>1.0</td>\n",
       "      <td>0.0</td>\n",
       "      <td>4</td>\n",
       "      <td>140675</td>\n",
       "      <td>1.0</td>\n",
       "      <td>2</td>\n",
       "      <td>909</td>\n",
       "    </tr>\n",
       "    <tr>\n",
       "      <th rowspan=\"2\" valign=\"top\">127440</th>\n",
       "      <th>Рыбинск</th>\n",
       "      <td>66</td>\n",
       "      <td>57405</td>\n",
       "      <td>0.0</td>\n",
       "      <td>0.0</td>\n",
       "      <td>1</td>\n",
       "      <td>17831</td>\n",
       "      <td>1.0</td>\n",
       "      <td>2</td>\n",
       "      <td>846</td>\n",
       "    </tr>\n",
       "    <tr>\n",
       "      <th>Ярославль</th>\n",
       "      <td>-1</td>\n",
       "      <td>-1</td>\n",
       "      <td>0.0</td>\n",
       "      <td>1.0</td>\n",
       "      <td>0</td>\n",
       "      <td>117197</td>\n",
       "      <td>1.0</td>\n",
       "      <td>1</td>\n",
       "      <td>663</td>\n",
       "    </tr>\n",
       "    <tr>\n",
       "      <th rowspan=\"2\" valign=\"top\">129785</th>\n",
       "      <th>Рыбинск</th>\n",
       "      <td>33</td>\n",
       "      <td>2427737</td>\n",
       "      <td>1.0</td>\n",
       "      <td>0.0</td>\n",
       "      <td>5</td>\n",
       "      <td>188856</td>\n",
       "      <td>1.0</td>\n",
       "      <td>3</td>\n",
       "      <td>904</td>\n",
       "    </tr>\n",
       "    <tr>\n",
       "      <th>Ярославль</th>\n",
       "      <td>43</td>\n",
       "      <td>-1</td>\n",
       "      <td>0.0</td>\n",
       "      <td>1.0</td>\n",
       "      <td>0</td>\n",
       "      <td>166845</td>\n",
       "      <td>1.0</td>\n",
       "      <td>1</td>\n",
       "      <td>949</td>\n",
       "    </tr>\n",
       "    <tr>\n",
       "      <th rowspan=\"2\" valign=\"top\">131419</th>\n",
       "      <th>Рыбинск</th>\n",
       "      <td>37</td>\n",
       "      <td>1307941</td>\n",
       "      <td>0.0</td>\n",
       "      <td>0.0</td>\n",
       "      <td>3</td>\n",
       "      <td>103867</td>\n",
       "      <td>0.0</td>\n",
       "      <td>3</td>\n",
       "      <td>739</td>\n",
       "    </tr>\n",
       "    <tr>\n",
       "      <th>Ярославль</th>\n",
       "      <td>35</td>\n",
       "      <td>2348335</td>\n",
       "      <td>1.0</td>\n",
       "      <td>0.0</td>\n",
       "      <td>5</td>\n",
       "      <td>217105</td>\n",
       "      <td>0.0</td>\n",
       "      <td>2</td>\n",
       "      <td>934</td>\n",
       "    </tr>\n",
       "    <tr>\n",
       "      <th rowspan=\"2\" valign=\"top\">140377</th>\n",
       "      <th>Рыбинск</th>\n",
       "      <td>34</td>\n",
       "      <td>1123967</td>\n",
       "      <td>0.0</td>\n",
       "      <td>1.0</td>\n",
       "      <td>5</td>\n",
       "      <td>148336</td>\n",
       "      <td>1.0</td>\n",
       "      <td>1</td>\n",
       "      <td>930</td>\n",
       "    </tr>\n",
       "    <tr>\n",
       "      <th>Ярославль</th>\n",
       "      <td>26</td>\n",
       "      <td>539863</td>\n",
       "      <td>1.0</td>\n",
       "      <td>1.0</td>\n",
       "      <td>3</td>\n",
       "      <td>112167</td>\n",
       "      <td>1.0</td>\n",
       "      <td>4</td>\n",
       "      <td>802</td>\n",
       "    </tr>\n",
       "    <tr>\n",
       "      <th rowspan=\"2\" valign=\"top\">140934</th>\n",
       "      <th>Рыбинск</th>\n",
       "      <td>-1</td>\n",
       "      <td>385763</td>\n",
       "      <td>0.0</td>\n",
       "      <td>0.0</td>\n",
       "      <td>3</td>\n",
       "      <td>59651</td>\n",
       "      <td>1.0</td>\n",
       "      <td>2</td>\n",
       "      <td>832</td>\n",
       "    </tr>\n",
       "    <tr>\n",
       "      <th>Ярославль</th>\n",
       "      <td>29</td>\n",
       "      <td>603946</td>\n",
       "      <td>0.0</td>\n",
       "      <td>0.0</td>\n",
       "      <td>4</td>\n",
       "      <td>158438</td>\n",
       "      <td>1.0</td>\n",
       "      <td>3</td>\n",
       "      <td>919</td>\n",
       "    </tr>\n",
       "    <tr>\n",
       "      <th rowspan=\"2\" valign=\"top\">141265</th>\n",
       "      <th>Рыбинск</th>\n",
       "      <td>33</td>\n",
       "      <td>1044316</td>\n",
       "      <td>0.0</td>\n",
       "      <td>1.0</td>\n",
       "      <td>3</td>\n",
       "      <td>46055</td>\n",
       "      <td>0.0</td>\n",
       "      <td>2</td>\n",
       "      <td>811</td>\n",
       "    </tr>\n",
       "    <tr>\n",
       "      <th>Ярославль</th>\n",
       "      <td>37</td>\n",
       "      <td>471599</td>\n",
       "      <td>1.0</td>\n",
       "      <td>1.0</td>\n",
       "      <td>4</td>\n",
       "      <td>148806</td>\n",
       "      <td>1.0</td>\n",
       "      <td>2</td>\n",
       "      <td>858</td>\n",
       "    </tr>\n",
       "    <tr>\n",
       "      <th rowspan=\"2\" valign=\"top\">141945</th>\n",
       "      <th>Рыбинск</th>\n",
       "      <td>33</td>\n",
       "      <td>-1</td>\n",
       "      <td>0.0</td>\n",
       "      <td>1.0</td>\n",
       "      <td>0</td>\n",
       "      <td>381868</td>\n",
       "      <td>0.0</td>\n",
       "      <td>1</td>\n",
       "      <td>929</td>\n",
       "    </tr>\n",
       "    <tr>\n",
       "      <th>Ярославль</th>\n",
       "      <td>-1</td>\n",
       "      <td>-1</td>\n",
       "      <td>0.0</td>\n",
       "      <td>1.0</td>\n",
       "      <td>0</td>\n",
       "      <td>381868</td>\n",
       "      <td>0.0</td>\n",
       "      <td>1</td>\n",
       "      <td>929</td>\n",
       "    </tr>\n",
       "    <tr>\n",
       "      <th rowspan=\"2\" valign=\"top\">143592</th>\n",
       "      <th>Рыбинск</th>\n",
       "      <td>56</td>\n",
       "      <td>1201087</td>\n",
       "      <td>1.0</td>\n",
       "      <td>1.0</td>\n",
       "      <td>4</td>\n",
       "      <td>88223</td>\n",
       "      <td>1.0</td>\n",
       "      <td>2</td>\n",
       "      <td>885</td>\n",
       "    </tr>\n",
       "    <tr>\n",
       "      <th>Ярославль</th>\n",
       "      <td>68</td>\n",
       "      <td>508919</td>\n",
       "      <td>0.0</td>\n",
       "      <td>0.0</td>\n",
       "      <td>3</td>\n",
       "      <td>71211</td>\n",
       "      <td>1.0</td>\n",
       "      <td>2</td>\n",
       "      <td>764</td>\n",
       "    </tr>\n",
       "    <tr>\n",
       "      <th rowspan=\"2\" valign=\"top\">148826</th>\n",
       "      <th>Рыбинск</th>\n",
       "      <td>32</td>\n",
       "      <td>-1</td>\n",
       "      <td>0.0</td>\n",
       "      <td>1.0</td>\n",
       "      <td>0</td>\n",
       "      <td>28843</td>\n",
       "      <td>0.0</td>\n",
       "      <td>3</td>\n",
       "      <td>909</td>\n",
       "    </tr>\n",
       "    <tr>\n",
       "      <th>Ярославль</th>\n",
       "      <td>32</td>\n",
       "      <td>1470273</td>\n",
       "      <td>1.0</td>\n",
       "      <td>0.0</td>\n",
       "      <td>5</td>\n",
       "      <td>118058</td>\n",
       "      <td>0.0</td>\n",
       "      <td>2</td>\n",
       "      <td>895</td>\n",
       "    </tr>\n",
       "  </tbody>\n",
       "</table>\n",
       "</div>"
      ],
      "text/plain": [
       "                   age  balance  churn  credit_card  equity  est_salary  \\\n",
       "user_id city                                                              \n",
       "116540  Рыбинск     55   362756    1.0          0.0       1      175920   \n",
       "        Ярославль   38       -1    0.0          0.0       0      119247   \n",
       "117943  Рыбинск     32  1036832    1.0          1.0       6      107792   \n",
       "        Ярославль   40       -1    0.0          1.0       0      137718   \n",
       "120258  Рыбинск     38  2213581    1.0          0.0       4      160327   \n",
       "        Ярославль   30       -1    0.0          1.0       0      146427   \n",
       "123461  Рыбинск     34       -1    0.0          1.0       0      291619   \n",
       "        Ярославль   59    96222    1.0          0.0       0      102771   \n",
       "124450  Рыбинск     36    73574    0.0          0.0       0       79963   \n",
       "        Ярославль   38   516811    1.0          1.0       6       95144   \n",
       "126368  Рыбинск     33       -1    0.0          0.0       0      118465   \n",
       "        Ярославль   30  1322623    1.0          0.0       4      140675   \n",
       "127440  Рыбинск     66    57405    0.0          0.0       1       17831   \n",
       "        Ярославль   -1       -1    0.0          1.0       0      117197   \n",
       "129785  Рыбинск     33  2427737    1.0          0.0       5      188856   \n",
       "        Ярославль   43       -1    0.0          1.0       0      166845   \n",
       "131419  Рыбинск     37  1307941    0.0          0.0       3      103867   \n",
       "        Ярославль   35  2348335    1.0          0.0       5      217105   \n",
       "140377  Рыбинск     34  1123967    0.0          1.0       5      148336   \n",
       "        Ярославль   26   539863    1.0          1.0       3      112167   \n",
       "140934  Рыбинск     -1   385763    0.0          0.0       3       59651   \n",
       "        Ярославль   29   603946    0.0          0.0       4      158438   \n",
       "141265  Рыбинск     33  1044316    0.0          1.0       3       46055   \n",
       "        Ярославль   37   471599    1.0          1.0       4      148806   \n",
       "141945  Рыбинск     33       -1    0.0          1.0       0      381868   \n",
       "        Ярославль   -1       -1    0.0          1.0       0      381868   \n",
       "143592  Рыбинск     56  1201087    1.0          1.0       4       88223   \n",
       "        Ярославль   68   508919    0.0          0.0       3       71211   \n",
       "148826  Рыбинск     32       -1    0.0          1.0       0       28843   \n",
       "        Ярославль   32  1470273    1.0          0.0       5      118058   \n",
       "\n",
       "                   last_activity  products  score  \n",
       "user_id city                                       \n",
       "116540  Рыбинск              1.0         3    883  \n",
       "        Ярославль            1.0         1    887  \n",
       "117943  Рыбинск              1.0         4    855  \n",
       "        Ярославль            0.0         1    880  \n",
       "120258  Рыбинск              1.0         2    908  \n",
       "        Ярославль            1.0         1    905  \n",
       "123461  Рыбинск              0.0         2    934  \n",
       "        Ярославль            1.0         2    829  \n",
       "124450  Рыбинск              1.0         2    758  \n",
       "        Ярославль            1.0         1    859  \n",
       "126368  Рыбинск              0.0         1    832  \n",
       "        Ярославль            1.0         2    909  \n",
       "127440  Рыбинск              1.0         2    846  \n",
       "        Ярославль            1.0         1    663  \n",
       "129785  Рыбинск              1.0         3    904  \n",
       "        Ярославль            1.0         1    949  \n",
       "131419  Рыбинск              0.0         3    739  \n",
       "        Ярославль            0.0         2    934  \n",
       "140377  Рыбинск              1.0         1    930  \n",
       "        Ярославль            1.0         4    802  \n",
       "140934  Рыбинск              1.0         2    832  \n",
       "        Ярославль            1.0         3    919  \n",
       "141265  Рыбинск              0.0         2    811  \n",
       "        Ярославль            1.0         2    858  \n",
       "141945  Рыбинск              0.0         1    929  \n",
       "        Ярославль            0.0         1    929  \n",
       "143592  Рыбинск              1.0         2    885  \n",
       "        Ярославль            1.0         2    764  \n",
       "148826  Рыбинск              0.0         3    909  \n",
       "        Ярославль            0.0         2    895  "
      ]
     },
     "execution_count": 29,
     "metadata": {},
     "output_type": "execute_result"
    }
   ],
   "source": [
    "# Собираем сводную табличку по user_id и городам, чтобы внимательнее изучить данные:\n",
    "dup_pivot_table = duplicate_results.pivot_table(index=['user_id', 'city'])\n",
    "dup_pivot_table.head(30)"
   ]
  },
  {
   "cell_type": "markdown",
   "metadata": {},
   "source": [
    "**Резюме по дубликатам:**\n",
    "* Мы могли бы попробовать вручную совместить дубликаты, но если в случае со столбцом balance балансом это еще возможно, так как есть пропуски, и есть имеющиеся значения, то в случае с возрастом или другими столбцами мы не можем наверняка знать, какое значение является верным для данного user_id (например, человеку 55 лет или 38).\n",
    "* Так как у нас нет дополнительных возможностей для проверки по данным user_id (к примеру, других датасетов в рамках проекта), мы вынуждены удалить дубликаты, благо их доля невелика - 73 строки из 10000 или 0,73%."
   ]
  },
  {
   "cell_type": "code",
   "execution_count": 30,
   "metadata": {},
   "outputs": [
    {
     "data": {
      "text/html": [
       "<div>\n",
       "<style scoped>\n",
       "    .dataframe tbody tr th:only-of-type {\n",
       "        vertical-align: middle;\n",
       "    }\n",
       "\n",
       "    .dataframe tbody tr th {\n",
       "        vertical-align: top;\n",
       "    }\n",
       "\n",
       "    .dataframe thead th {\n",
       "        text-align: right;\n",
       "    }\n",
       "</style>\n",
       "<table border=\"1\" class=\"dataframe\">\n",
       "  <thead>\n",
       "    <tr style=\"text-align: right;\">\n",
       "      <th></th>\n",
       "      <th>user_id</th>\n",
       "      <th>score</th>\n",
       "      <th>city</th>\n",
       "      <th>gender</th>\n",
       "      <th>age</th>\n",
       "      <th>equity</th>\n",
       "      <th>balance</th>\n",
       "      <th>products</th>\n",
       "      <th>credit_card</th>\n",
       "      <th>last_activity</th>\n",
       "      <th>est_salary</th>\n",
       "      <th>churn</th>\n",
       "    </tr>\n",
       "  </thead>\n",
       "  <tbody>\n",
       "    <tr>\n",
       "      <th>0</th>\n",
       "      <td>183012</td>\n",
       "      <td>850</td>\n",
       "      <td>Рыбинск</td>\n",
       "      <td>Ж</td>\n",
       "      <td>25</td>\n",
       "      <td>1</td>\n",
       "      <td>59214</td>\n",
       "      <td>2</td>\n",
       "      <td>False</td>\n",
       "      <td>True</td>\n",
       "      <td>75719</td>\n",
       "      <td>True</td>\n",
       "    </tr>\n",
       "    <tr>\n",
       "      <th>1</th>\n",
       "      <td>146556</td>\n",
       "      <td>861</td>\n",
       "      <td>Рыбинск</td>\n",
       "      <td>Ж</td>\n",
       "      <td>37</td>\n",
       "      <td>5</td>\n",
       "      <td>850594</td>\n",
       "      <td>3</td>\n",
       "      <td>True</td>\n",
       "      <td>False</td>\n",
       "      <td>86621</td>\n",
       "      <td>False</td>\n",
       "    </tr>\n",
       "    <tr>\n",
       "      <th>2</th>\n",
       "      <td>120722</td>\n",
       "      <td>892</td>\n",
       "      <td>Рыбинск</td>\n",
       "      <td>Ж</td>\n",
       "      <td>30</td>\n",
       "      <td>0</td>\n",
       "      <td>-1</td>\n",
       "      <td>1</td>\n",
       "      <td>True</td>\n",
       "      <td>True</td>\n",
       "      <td>107683</td>\n",
       "      <td>False</td>\n",
       "    </tr>\n",
       "    <tr>\n",
       "      <th>3</th>\n",
       "      <td>225363</td>\n",
       "      <td>866</td>\n",
       "      <td>Ярославль</td>\n",
       "      <td>Ж</td>\n",
       "      <td>51</td>\n",
       "      <td>5</td>\n",
       "      <td>1524746</td>\n",
       "      <td>2</td>\n",
       "      <td>False</td>\n",
       "      <td>True</td>\n",
       "      <td>174423</td>\n",
       "      <td>True</td>\n",
       "    </tr>\n",
       "    <tr>\n",
       "      <th>4</th>\n",
       "      <td>157978</td>\n",
       "      <td>730</td>\n",
       "      <td>Ярославль</td>\n",
       "      <td>М</td>\n",
       "      <td>34</td>\n",
       "      <td>5</td>\n",
       "      <td>174</td>\n",
       "      <td>1</td>\n",
       "      <td>True</td>\n",
       "      <td>False</td>\n",
       "      <td>67353</td>\n",
       "      <td>True</td>\n",
       "    </tr>\n",
       "  </tbody>\n",
       "</table>\n",
       "</div>"
      ],
      "text/plain": [
       "   user_id  score       city gender  age  equity  balance  products  \\\n",
       "0   183012    850    Рыбинск      Ж   25       1    59214         2   \n",
       "1   146556    861    Рыбинск      Ж   37       5   850594         3   \n",
       "2   120722    892    Рыбинск      Ж   30       0       -1         1   \n",
       "3   225363    866  Ярославль      Ж   51       5  1524746         2   \n",
       "4   157978    730  Ярославль      М   34       5      174         1   \n",
       "\n",
       "   credit_card  last_activity  est_salary  churn  \n",
       "0        False           True       75719   True  \n",
       "1         True          False       86621  False  \n",
       "2         True           True      107683  False  \n",
       "3        False           True      174423   True  \n",
       "4         True          False       67353   True  "
      ]
     },
     "execution_count": 30,
     "metadata": {},
     "output_type": "execute_result"
    }
   ],
   "source": [
    "# Удаляем дубликаты по столбцу user_id:\n",
    "new_data = data.drop_duplicates(subset=['user_id'])\n",
    "new_data.head()"
   ]
  },
  {
   "cell_type": "code",
   "execution_count": 31,
   "metadata": {},
   "outputs": [
    {
     "name": "stdout",
     "output_type": "stream",
     "text": [
      "Количество дубликатов: 0\n"
     ]
    }
   ],
   "source": [
    "#Быстро проверяем на неявные дубликаты по столбцу после удаления:\n",
    "print('Количество дубликатов:', new_data['user_id'].duplicated().sum())"
   ]
  },
  {
   "cell_type": "code",
   "execution_count": 32,
   "metadata": {},
   "outputs": [
    {
     "data": {
      "text/plain": [
       "(9927, 12)"
      ]
     },
     "execution_count": 32,
     "metadata": {},
     "output_type": "execute_result"
    }
   ],
   "source": [
    "# Проверим, сколько осталось строк:\n",
    "new_data.shape"
   ]
  },
  {
   "cell_type": "code",
   "execution_count": 33,
   "metadata": {},
   "outputs": [
    {
     "name": "stdout",
     "output_type": "stream",
     "text": [
      "Было пропусков в столбце age: 26. Было пропусков в столбце balance: 2295.\n",
      "Стало пропусков в столбце age: 4. Стало пропусков в столбце balance: 2260.\n"
     ]
    }
   ],
   "source": [
    "# Заодно посчитаем, сколько в обновленном датасете осталось пропусков в age и balance:\n",
    "new_no_age = len(new_data[new_data['age']==-1])\n",
    "new_no_balance = len(new_data[new_data['balance']==-1])\n",
    "print('Было пропусков в столбце age: {}. Было пропусков в столбце balance: {}.'.format(no_age_counter, no_balance_counter))\n",
    "print('Стало пропусков в столбце age: {}. Стало пропусков в столбце balance: {}.'.format(new_no_age, new_no_balance))"
   ]
  },
  {
   "cell_type": "markdown",
   "metadata": {},
   "source": [
    "**Комментарий:**\n",
    "Поскольку по столбцу age осталось после удаления дубликатов всего 4 пропуска, позволю себе все-таки удалить их, чтобы в дальнейшем не искажать проверку на выбросы и другие манипуляции.\n",
    "4 из 9927 строк - это 0,04% данных."
   ]
  },
  {
   "cell_type": "code",
   "execution_count": 34,
   "metadata": {},
   "outputs": [
    {
     "data": {
      "text/plain": [
       "(9923, 12)"
      ]
     },
     "execution_count": 34,
     "metadata": {},
     "output_type": "execute_result"
    }
   ],
   "source": [
    "new_data = new_data.loc[new_data['age'] > 0]\n",
    "new_data.shape"
   ]
  },
  {
   "cell_type": "markdown",
   "metadata": {},
   "source": [
    "**Вывод по дубликатам:**\n",
    "\n",
    "* Дубликаты по user_id (73 строки) удалили.\n",
    "* Также было принято решение удалить оставшиеся 4 строки с заглушкой в age, т.к. они не повлияют на массив данных, ведь их доля - 0,04%.\n",
    "* После всех манипуляций осталось 9 923 строки и только один столбец с заглушками - balance (2260 строк).\n",
    "* Можем переходить к выбросам."
   ]
  },
  {
   "cell_type": "markdown",
   "metadata": {},
   "source": [
    "### Проверка на выбросы, их обработка.\n"
   ]
  },
  {
   "cell_type": "code",
   "execution_count": 35,
   "metadata": {
    "scrolled": false
   },
   "outputs": [
    {
     "data": {
      "text/html": [
       "<div>\n",
       "<style scoped>\n",
       "    .dataframe tbody tr th:only-of-type {\n",
       "        vertical-align: middle;\n",
       "    }\n",
       "\n",
       "    .dataframe tbody tr th {\n",
       "        vertical-align: top;\n",
       "    }\n",
       "\n",
       "    .dataframe thead th {\n",
       "        text-align: right;\n",
       "    }\n",
       "</style>\n",
       "<table border=\"1\" class=\"dataframe\">\n",
       "  <thead>\n",
       "    <tr style=\"text-align: right;\">\n",
       "      <th></th>\n",
       "      <th>user_id</th>\n",
       "      <th>score</th>\n",
       "      <th>age</th>\n",
       "      <th>equity</th>\n",
       "      <th>balance</th>\n",
       "      <th>products</th>\n",
       "      <th>est_salary</th>\n",
       "    </tr>\n",
       "  </thead>\n",
       "  <tbody>\n",
       "    <tr>\n",
       "      <th>count</th>\n",
       "      <td>9923.00</td>\n",
       "      <td>9923.00</td>\n",
       "      <td>9923.00</td>\n",
       "      <td>9923.00</td>\n",
       "      <td>9923.00</td>\n",
       "      <td>9923.00</td>\n",
       "      <td>9923.00</td>\n",
       "    </tr>\n",
       "    <tr>\n",
       "      <th>mean</th>\n",
       "      <td>171731.48</td>\n",
       "      <td>848.73</td>\n",
       "      <td>42.73</td>\n",
       "      <td>2.63</td>\n",
       "      <td>639610.97</td>\n",
       "      <td>1.87</td>\n",
       "      <td>147886.00</td>\n",
       "    </tr>\n",
       "    <tr>\n",
       "      <th>std</th>\n",
       "      <td>33694.37</td>\n",
       "      <td>65.40</td>\n",
       "      <td>12.18</td>\n",
       "      <td>1.98</td>\n",
       "      <td>1777946.64</td>\n",
       "      <td>0.79</td>\n",
       "      <td>139363.90</td>\n",
       "    </tr>\n",
       "    <tr>\n",
       "      <th>min</th>\n",
       "      <td>94561.00</td>\n",
       "      <td>642.00</td>\n",
       "      <td>18.00</td>\n",
       "      <td>0.00</td>\n",
       "      <td>-1.00</td>\n",
       "      <td>0.00</td>\n",
       "      <td>2546.00</td>\n",
       "    </tr>\n",
       "    <tr>\n",
       "      <th>25%</th>\n",
       "      <td>142720.00</td>\n",
       "      <td>802.00</td>\n",
       "      <td>33.00</td>\n",
       "      <td>0.00</td>\n",
       "      <td>63675.00</td>\n",
       "      <td>1.00</td>\n",
       "      <td>75252.00</td>\n",
       "    </tr>\n",
       "    <tr>\n",
       "      <th>50%</th>\n",
       "      <td>172635.00</td>\n",
       "      <td>853.00</td>\n",
       "      <td>40.00</td>\n",
       "      <td>3.00</td>\n",
       "      <td>376590.00</td>\n",
       "      <td>2.00</td>\n",
       "      <td>119719.00</td>\n",
       "    </tr>\n",
       "    <tr>\n",
       "      <th>75%</th>\n",
       "      <td>201157.50</td>\n",
       "      <td>900.00</td>\n",
       "      <td>51.00</td>\n",
       "      <td>4.00</td>\n",
       "      <td>805244.00</td>\n",
       "      <td>2.00</td>\n",
       "      <td>174672.50</td>\n",
       "    </tr>\n",
       "    <tr>\n",
       "      <th>max</th>\n",
       "      <td>229145.00</td>\n",
       "      <td>1000.00</td>\n",
       "      <td>86.00</td>\n",
       "      <td>9.00</td>\n",
       "      <td>119113552.00</td>\n",
       "      <td>5.00</td>\n",
       "      <td>1395064.00</td>\n",
       "    </tr>\n",
       "  </tbody>\n",
       "</table>\n",
       "</div>"
      ],
      "text/plain": [
       "        user_id   score     age  equity      balance  products  est_salary\n",
       "count   9923.00 9923.00 9923.00 9923.00      9923.00   9923.00     9923.00\n",
       "mean  171731.48  848.73   42.73    2.63    639610.97      1.87   147886.00\n",
       "std    33694.37   65.40   12.18    1.98   1777946.64      0.79   139363.90\n",
       "min    94561.00  642.00   18.00    0.00        -1.00      0.00     2546.00\n",
       "25%   142720.00  802.00   33.00    0.00     63675.00      1.00    75252.00\n",
       "50%   172635.00  853.00   40.00    3.00    376590.00      2.00   119719.00\n",
       "75%   201157.50  900.00   51.00    4.00    805244.00      2.00   174672.50\n",
       "max   229145.00 1000.00   86.00    9.00 119113552.00      5.00  1395064.00"
      ]
     },
     "execution_count": 35,
     "metadata": {},
     "output_type": "execute_result"
    }
   ],
   "source": [
    "# Используем describe для проверки разброса данных и отформатируем так, чтобы это было читабельно:\n",
    "pd.set_option(\"display.float_format\", \"{:.2f}\".format)\n",
    "new_data.describe()"
   ]
  },
  {
   "cell_type": "code",
   "execution_count": 36,
   "metadata": {},
   "outputs": [
    {
     "data": {
      "text/plain": [
       "2260"
      ]
     },
     "execution_count": 36,
     "metadata": {},
     "output_type": "execute_result"
    }
   ],
   "source": [
    "# Всего строк с заглушкой -1 в столбце balance:\n",
    "no_balance = new_data.loc[new_data['balance'] == -1]\n",
    "len(no_balance)"
   ]
  },
  {
   "cell_type": "code",
   "execution_count": 37,
   "metadata": {},
   "outputs": [
    {
     "data": {
      "text/plain": [
       "(7663, 12)"
      ]
     },
     "execution_count": 37,
     "metadata": {},
     "output_type": "execute_result"
    }
   ],
   "source": [
    "# Уберем нашу заглушку -1, создав отдельный датафрейм для расчетов по столбцу balance:\n",
    "new_data_balance = new_data.loc[new_data['balance'] > -1]\n",
    "new_data_balance.shape"
   ]
  },
  {
   "cell_type": "code",
   "execution_count": 38,
   "metadata": {},
   "outputs": [
    {
     "name": "stdout",
     "output_type": "stream",
     "text": [
      "Для столбца balance min: 0, std: 1984248, mean: 828247.68, median: 524961.0, sum: 6346861941.\n"
     ]
    }
   ],
   "source": [
    "# Отдельно считаем для столбца balance: минимум, стандартное отклонение, среднее арифметическое, медиану:\n",
    "\n",
    "min_b = new_data_balance['balance'].min()\n",
    "std_b = round(new_data_balance['balance'].std())\n",
    "mean_b = new_data_balance['balance'].mean().round(2)\n",
    "median_b = new_data_balance['balance'].median()\n",
    "sum_b = new_data_balance['balance'].sum()\n",
    "\n",
    "print('Для столбца balance min: {}, std: {}, mean: {}, median: {}, sum: {}.'.format(min_b, std_b, mean_b, median_b, sum_b))"
   ]
  },
  {
   "cell_type": "markdown",
   "metadata": {},
   "source": [
    "**Комментарий по таблице describe и расчетам balance:**\n",
    "1. user_id - видим, что диапазон user_id в датасете: от 94561 до 229145; подсчет значений count релевантен -  всего 9923 строк. Остальные параметры не применимы к данному столбцу (mean, std, прецентили). <br><br>\n",
    "2. score - диапазон кредитного скоринга: от 642 до 1000 баллов. Среднее равно 848.73, медиана - 853. Имеется некоторый разброс данных, судя по разнице средней и медианы, а также по стандартному отклонению в 65.4. Но этот разброс имеет естественную природу, баллы кредитного скоринга могут отличаться более чем в 1,5 раза, никаких аномалий здесь нет. <br><br>\n",
    "3. age - диапазон возраста: от 18 до 86 лет. Среднее арифметическое - 42.7 лет, медиана - 40 лет. Стандартное отклонение в 12.18 любопытно, есть некоторый разброс данных, но без явных аномалий. Пока рано делать выводы, чуть дальше построим график распределения клиентов по возрасту и попробуем выделить возрастные группы. Скорее всего, людей 40+ несколько больше, раз среднее больше медианы, но это пока лишь гипотеза. Явных аномалий здесь нет. <br><br>\n",
    "4. equity - оценка собственности в диапазоне от 0 до 9 баллов. Среднее арифметическое - 2,63, а медиана - 3. Стандартное отклонение невелико - 1.98, явных аномалий здесь нет. <br><br>\n",
    "5. balance - диапазон от 0 до 119 113 552 рублей. Среднее арифметическое - 828 247,68, а медиана - 524 961. Стандартное отклонение невероятно большое - 1 984 247.7, есть значительный разброс данных, но это объяснимо, так как у всех людей разный капитал. Максимальное значение 119 113 552 рубля составляет 1,87% от всех денег на счетах клиентов, что, безусловно, немало, но не является невероятным. <br><br>\n",
    "6. products - диапазон от 0 до 5 банковских продуктов на человека. Среднее арифметическое - 1.87, медиана - 2. Стандартное отклонение невелико - 0.79, явных аномалий здесь нет. Можем сделать вывод, что в среднем на человека приходится 2 банковских продукта. <br><br>\n",
    "7. est_salary - диапазон от 2 546 до 1 395 064 рублей. Среднее арифметическое - 147 886, медиана - 119 719. Стандартное отклонение большое - 139 363.90. **Есть явные аномалии**, будем изучать внимательнее. В данном случае столько маленькая зарплата выглядит подозрительно, она существенно ниже МРОТ.\n",
    "\n",
    "Более пристального изучения по аномалиям требует **столбец est_salary**.\n",
    "<br>"
   ]
  },
  {
   "cell_type": "markdown",
   "metadata": {},
   "source": [
    "#### Проверки products-credit_card и нулевое значение products\n",
    "Но прежде проверим, есть ли аномалия в связке **products - credit_card.**\n",
    "Например, если кредитка есть, а в столбце продукт стоит 0, то это некорректные данные."
   ]
  },
  {
   "cell_type": "code",
   "execution_count": 39,
   "metadata": {
    "scrolled": true
   },
   "outputs": [
    {
     "data": {
      "text/html": [
       "<div>\n",
       "<style scoped>\n",
       "    .dataframe tbody tr th:only-of-type {\n",
       "        vertical-align: middle;\n",
       "    }\n",
       "\n",
       "    .dataframe tbody tr th {\n",
       "        vertical-align: top;\n",
       "    }\n",
       "\n",
       "    .dataframe thead th {\n",
       "        text-align: right;\n",
       "    }\n",
       "</style>\n",
       "<table border=\"1\" class=\"dataframe\">\n",
       "  <thead>\n",
       "    <tr style=\"text-align: right;\">\n",
       "      <th></th>\n",
       "      <th>user_id</th>\n",
       "      <th>score</th>\n",
       "      <th>city</th>\n",
       "      <th>gender</th>\n",
       "      <th>age</th>\n",
       "      <th>equity</th>\n",
       "      <th>balance</th>\n",
       "      <th>products</th>\n",
       "      <th>credit_card</th>\n",
       "      <th>last_activity</th>\n",
       "      <th>est_salary</th>\n",
       "      <th>churn</th>\n",
       "    </tr>\n",
       "  </thead>\n",
       "  <tbody>\n",
       "  </tbody>\n",
       "</table>\n",
       "</div>"
      ],
      "text/plain": [
       "Empty DataFrame\n",
       "Columns: [user_id, score, city, gender, age, equity, balance, products, credit_card, last_activity, est_salary, churn]\n",
       "Index: []"
      ]
     },
     "execution_count": 39,
     "metadata": {},
     "output_type": "execute_result"
    }
   ],
   "source": [
    "# Выведем строки, в которых есть кредитная карта, а продуктов 0:\n",
    "test_result = new_data.loc[((new_data['credit_card'] == True) & (new_data['products'] == 0))]\n",
    "test_result.head()"
   ]
  },
  {
   "cell_type": "code",
   "execution_count": 40,
   "metadata": {},
   "outputs": [
    {
     "data": {
      "text/html": [
       "<div>\n",
       "<style scoped>\n",
       "    .dataframe tbody tr th:only-of-type {\n",
       "        vertical-align: middle;\n",
       "    }\n",
       "\n",
       "    .dataframe tbody tr th {\n",
       "        vertical-align: top;\n",
       "    }\n",
       "\n",
       "    .dataframe thead th {\n",
       "        text-align: right;\n",
       "    }\n",
       "</style>\n",
       "<table border=\"1\" class=\"dataframe\">\n",
       "  <thead>\n",
       "    <tr style=\"text-align: right;\">\n",
       "      <th></th>\n",
       "      <th>user_id</th>\n",
       "      <th>score</th>\n",
       "      <th>city</th>\n",
       "      <th>gender</th>\n",
       "      <th>age</th>\n",
       "      <th>equity</th>\n",
       "      <th>balance</th>\n",
       "      <th>products</th>\n",
       "      <th>credit_card</th>\n",
       "      <th>last_activity</th>\n",
       "      <th>est_salary</th>\n",
       "      <th>churn</th>\n",
       "    </tr>\n",
       "  </thead>\n",
       "  <tbody>\n",
       "    <tr>\n",
       "      <th>8957</th>\n",
       "      <td>147837</td>\n",
       "      <td>962</td>\n",
       "      <td>Рыбинск</td>\n",
       "      <td>Ж</td>\n",
       "      <td>79</td>\n",
       "      <td>3</td>\n",
       "      <td>-1</td>\n",
       "      <td>0</td>\n",
       "      <td>False</td>\n",
       "      <td>False</td>\n",
       "      <td>25063</td>\n",
       "      <td>True</td>\n",
       "    </tr>\n",
       "  </tbody>\n",
       "</table>\n",
       "</div>"
      ],
      "text/plain": [
       "      user_id  score     city gender  age  equity  balance  products  \\\n",
       "8957   147837    962  Рыбинск      Ж   79       3       -1         0   \n",
       "\n",
       "      credit_card  last_activity  est_salary  churn  \n",
       "8957        False          False       25063   True  "
      ]
     },
     "execution_count": 40,
     "metadata": {},
     "output_type": "execute_result"
    }
   ],
   "source": [
    "# Заодно проверим, есть ли у нас клиенты с products = 0.\n",
    "new_data[new_data['products']==0]"
   ]
  },
  {
   "cell_type": "code",
   "execution_count": 41,
   "metadata": {},
   "outputs": [
    {
     "data": {
      "text/plain": [
       "(9922, 12)"
      ]
     },
     "execution_count": 41,
     "metadata": {},
     "output_type": "execute_result"
    }
   ],
   "source": [
    "# Удалим эту строку, так как обычно договор с банком заключается вместе с открытием минимум 1 продукта:\n",
    "new_data = new_data.query('products > 0')\n",
    "new_data.shape"
   ]
  },
  {
   "cell_type": "markdown",
   "metadata": {},
   "source": [
    "**Вывод про проверкам products-credit_card и нулевому значению products:**\n",
    "* Строк, где при нулевом продукте была бы кредитка, у нас нет. \n",
    "* Зато мы нашли строку, где продукт = 0, что маловероятно, т.к. обычно договор с банком заключается вместе с открытием минимум 1 продукта. \n",
    "* У нас остается 9 922 записи.\n",
    "\n",
    "Вернемся к изучению возможных аномалий в столбце *est_salary*."
   ]
  },
  {
   "cell_type": "markdown",
   "metadata": {},
   "source": [
    "#### Поиск аномалий в столбце est_salary\n",
    "По состоянию на 2022 год МРОТ в России равен 15 279 рублям.\n",
    "\n",
    "Углубляться в МРОТ по областям в нашем проекте не стоит, учитывая специфику расчета МРОТ (например, бюджетники получают МРОТ не ниже федерального, а другие профессии - с учетом разных повышающих коэффициентов, которые отличаются даже внутри областей, Ростовской и Ярославской, представленных в проекте). \n",
    "\n",
    "Поэтому будем считать МРОТ = 15279. \n",
    "Посмотрим, сколько строк имеют зарплату ниже МРОТ."
   ]
  },
  {
   "cell_type": "code",
   "execution_count": 42,
   "metadata": {},
   "outputs": [
    {
     "data": {
      "text/plain": [
       "63"
      ]
     },
     "execution_count": 42,
     "metadata": {},
     "output_type": "execute_result"
    }
   ],
   "source": [
    "new_data[new_data['est_salary']<15279]['user_id'].count()"
   ]
  },
  {
   "cell_type": "code",
   "execution_count": 43,
   "metadata": {},
   "outputs": [
    {
     "data": {
      "text/plain": [
       "0"
      ]
     },
     "execution_count": 43,
     "metadata": {},
     "output_type": "execute_result"
    }
   ],
   "source": [
    "# Приведем значения этих столбцов к МРОТ:\n",
    "new_data.loc[new_data['est_salary'] < 15279, 'est_salary'] = 15279\n",
    "new_data[new_data['est_salary']<15279]['user_id'].count()"
   ]
  },
  {
   "cell_type": "code",
   "execution_count": 44,
   "metadata": {
    "scrolled": true
   },
   "outputs": [
    {
     "data": {
      "text/html": [
       "<div>\n",
       "<style scoped>\n",
       "    .dataframe tbody tr th:only-of-type {\n",
       "        vertical-align: middle;\n",
       "    }\n",
       "\n",
       "    .dataframe tbody tr th {\n",
       "        vertical-align: top;\n",
       "    }\n",
       "\n",
       "    .dataframe thead th {\n",
       "        text-align: right;\n",
       "    }\n",
       "</style>\n",
       "<table border=\"1\" class=\"dataframe\">\n",
       "  <thead>\n",
       "    <tr style=\"text-align: right;\">\n",
       "      <th></th>\n",
       "      <th>user_id</th>\n",
       "      <th>score</th>\n",
       "      <th>city</th>\n",
       "      <th>gender</th>\n",
       "      <th>age</th>\n",
       "      <th>equity</th>\n",
       "      <th>balance</th>\n",
       "      <th>products</th>\n",
       "      <th>credit_card</th>\n",
       "      <th>last_activity</th>\n",
       "      <th>est_salary</th>\n",
       "      <th>churn</th>\n",
       "    </tr>\n",
       "  </thead>\n",
       "  <tbody>\n",
       "    <tr>\n",
       "      <th>1700</th>\n",
       "      <td>155567</td>\n",
       "      <td>747</td>\n",
       "      <td>Ростов</td>\n",
       "      <td>М</td>\n",
       "      <td>25</td>\n",
       "      <td>0</td>\n",
       "      <td>5750</td>\n",
       "      <td>1</td>\n",
       "      <td>True</td>\n",
       "      <td>False</td>\n",
       "      <td>15279</td>\n",
       "      <td>False</td>\n",
       "    </tr>\n",
       "    <tr>\n",
       "      <th>1749</th>\n",
       "      <td>146036</td>\n",
       "      <td>796</td>\n",
       "      <td>Ярославль</td>\n",
       "      <td>М</td>\n",
       "      <td>22</td>\n",
       "      <td>0</td>\n",
       "      <td>33699</td>\n",
       "      <td>2</td>\n",
       "      <td>True</td>\n",
       "      <td>True</td>\n",
       "      <td>15279</td>\n",
       "      <td>True</td>\n",
       "    </tr>\n",
       "    <tr>\n",
       "      <th>4713</th>\n",
       "      <td>147060</td>\n",
       "      <td>814</td>\n",
       "      <td>Ростов</td>\n",
       "      <td>Ж</td>\n",
       "      <td>71</td>\n",
       "      <td>4</td>\n",
       "      <td>1215634</td>\n",
       "      <td>2</td>\n",
       "      <td>False</td>\n",
       "      <td>True</td>\n",
       "      <td>15279</td>\n",
       "      <td>False</td>\n",
       "    </tr>\n",
       "    <tr>\n",
       "      <th>443</th>\n",
       "      <td>207658</td>\n",
       "      <td>875</td>\n",
       "      <td>Ярославль</td>\n",
       "      <td>Ж</td>\n",
       "      <td>76</td>\n",
       "      <td>5</td>\n",
       "      <td>676450</td>\n",
       "      <td>3</td>\n",
       "      <td>False</td>\n",
       "      <td>True</td>\n",
       "      <td>15279</td>\n",
       "      <td>False</td>\n",
       "    </tr>\n",
       "    <tr>\n",
       "      <th>4799</th>\n",
       "      <td>193482</td>\n",
       "      <td>812</td>\n",
       "      <td>Рыбинск</td>\n",
       "      <td>Ж</td>\n",
       "      <td>25</td>\n",
       "      <td>2</td>\n",
       "      <td>105603</td>\n",
       "      <td>2</td>\n",
       "      <td>True</td>\n",
       "      <td>False</td>\n",
       "      <td>15279</td>\n",
       "      <td>False</td>\n",
       "    </tr>\n",
       "  </tbody>\n",
       "</table>\n",
       "</div>"
      ],
      "text/plain": [
       "      user_id  score       city gender  age  equity  balance  products  \\\n",
       "1700   155567    747     Ростов      М   25       0     5750         1   \n",
       "1749   146036    796  Ярославль      М   22       0    33699         2   \n",
       "4713   147060    814     Ростов      Ж   71       4  1215634         2   \n",
       "443    207658    875  Ярославль      Ж   76       5   676450         3   \n",
       "4799   193482    812    Рыбинск      Ж   25       2   105603         2   \n",
       "\n",
       "      credit_card  last_activity  est_salary  churn  \n",
       "1700         True          False       15279  False  \n",
       "1749         True           True       15279   True  \n",
       "4713        False           True       15279  False  \n",
       "443         False           True       15279  False  \n",
       "4799         True          False       15279  False  "
      ]
     },
     "execution_count": 44,
     "metadata": {},
     "output_type": "execute_result"
    }
   ],
   "source": [
    "new_data.sort_values(by='est_salary', ascending=True).head()"
   ]
  },
  {
   "cell_type": "markdown",
   "metadata": {},
   "source": [
    "**Вывод по поиску аномалий в столбце est_salary:**\n",
    "\n",
    "* Найдены значения ниже МРОТ в количестве 63 строк. \n",
    "* Возможно, это были фрилансеры или люди, занятые частичной деятельностью.\n",
    "* Тем не менее, мы заменили значения в данных строках на МРОТ в размере 15 279 рублей."
   ]
  },
  {
   "cell_type": "markdown",
   "metadata": {},
   "source": [
    "### Кодирование данных (город, пол).\n",
    "\n",
    "Нам нужно найти те признаки из данных, которые наиболее сильно влияют на отток, и по которым можно определить сегменты. <br>\n",
    "Для этого подходит корреляция.<br>\n",
    "На исходных данных матрица корреляции не посчитается, нужно закодировать данные бинарными переменными. <br>\n",
    "<br>\n",
    "Для этого:\n",
    "* Для пола добавляем новый столбец, где Ж = 1, М = 0.\n",
    "* Для городов используем метод pandas \"get dummies\". Он считает города и добавит к датасету 3 столбца - Рыбинск, Ярославль, Ростов. На пересечении он будет ставить единичку. А если нет пересечения - поставит 0.\n"
   ]
  },
  {
   "cell_type": "code",
   "execution_count": 45,
   "metadata": {
    "scrolled": true
   },
   "outputs": [
    {
     "data": {
      "text/html": [
       "<div>\n",
       "<style scoped>\n",
       "    .dataframe tbody tr th:only-of-type {\n",
       "        vertical-align: middle;\n",
       "    }\n",
       "\n",
       "    .dataframe tbody tr th {\n",
       "        vertical-align: top;\n",
       "    }\n",
       "\n",
       "    .dataframe thead th {\n",
       "        text-align: right;\n",
       "    }\n",
       "</style>\n",
       "<table border=\"1\" class=\"dataframe\">\n",
       "  <thead>\n",
       "    <tr style=\"text-align: right;\">\n",
       "      <th></th>\n",
       "      <th>user_id</th>\n",
       "      <th>score</th>\n",
       "      <th>city</th>\n",
       "      <th>gender</th>\n",
       "      <th>age</th>\n",
       "      <th>equity</th>\n",
       "      <th>balance</th>\n",
       "      <th>products</th>\n",
       "      <th>credit_card</th>\n",
       "      <th>last_activity</th>\n",
       "      <th>est_salary</th>\n",
       "      <th>churn</th>\n",
       "      <th>city_Ростов</th>\n",
       "      <th>city_Рыбинск</th>\n",
       "      <th>city_Ярославль</th>\n",
       "    </tr>\n",
       "  </thead>\n",
       "  <tbody>\n",
       "    <tr>\n",
       "      <th>0</th>\n",
       "      <td>183012</td>\n",
       "      <td>850</td>\n",
       "      <td>Рыбинск</td>\n",
       "      <td>Ж</td>\n",
       "      <td>25</td>\n",
       "      <td>1</td>\n",
       "      <td>59214</td>\n",
       "      <td>2</td>\n",
       "      <td>False</td>\n",
       "      <td>True</td>\n",
       "      <td>75719</td>\n",
       "      <td>True</td>\n",
       "      <td>0</td>\n",
       "      <td>1</td>\n",
       "      <td>0</td>\n",
       "    </tr>\n",
       "    <tr>\n",
       "      <th>1</th>\n",
       "      <td>146556</td>\n",
       "      <td>861</td>\n",
       "      <td>Рыбинск</td>\n",
       "      <td>Ж</td>\n",
       "      <td>37</td>\n",
       "      <td>5</td>\n",
       "      <td>850594</td>\n",
       "      <td>3</td>\n",
       "      <td>True</td>\n",
       "      <td>False</td>\n",
       "      <td>86621</td>\n",
       "      <td>False</td>\n",
       "      <td>0</td>\n",
       "      <td>1</td>\n",
       "      <td>0</td>\n",
       "    </tr>\n",
       "    <tr>\n",
       "      <th>2</th>\n",
       "      <td>120722</td>\n",
       "      <td>892</td>\n",
       "      <td>Рыбинск</td>\n",
       "      <td>Ж</td>\n",
       "      <td>30</td>\n",
       "      <td>0</td>\n",
       "      <td>-1</td>\n",
       "      <td>1</td>\n",
       "      <td>True</td>\n",
       "      <td>True</td>\n",
       "      <td>107683</td>\n",
       "      <td>False</td>\n",
       "      <td>0</td>\n",
       "      <td>1</td>\n",
       "      <td>0</td>\n",
       "    </tr>\n",
       "    <tr>\n",
       "      <th>3</th>\n",
       "      <td>225363</td>\n",
       "      <td>866</td>\n",
       "      <td>Ярославль</td>\n",
       "      <td>Ж</td>\n",
       "      <td>51</td>\n",
       "      <td>5</td>\n",
       "      <td>1524746</td>\n",
       "      <td>2</td>\n",
       "      <td>False</td>\n",
       "      <td>True</td>\n",
       "      <td>174423</td>\n",
       "      <td>True</td>\n",
       "      <td>0</td>\n",
       "      <td>0</td>\n",
       "      <td>1</td>\n",
       "    </tr>\n",
       "    <tr>\n",
       "      <th>4</th>\n",
       "      <td>157978</td>\n",
       "      <td>730</td>\n",
       "      <td>Ярославль</td>\n",
       "      <td>М</td>\n",
       "      <td>34</td>\n",
       "      <td>5</td>\n",
       "      <td>174</td>\n",
       "      <td>1</td>\n",
       "      <td>True</td>\n",
       "      <td>False</td>\n",
       "      <td>67353</td>\n",
       "      <td>True</td>\n",
       "      <td>0</td>\n",
       "      <td>0</td>\n",
       "      <td>1</td>\n",
       "    </tr>\n",
       "  </tbody>\n",
       "</table>\n",
       "</div>"
      ],
      "text/plain": [
       "   user_id  score       city gender  age  equity  balance  products  \\\n",
       "0   183012    850    Рыбинск      Ж   25       1    59214         2   \n",
       "1   146556    861    Рыбинск      Ж   37       5   850594         3   \n",
       "2   120722    892    Рыбинск      Ж   30       0       -1         1   \n",
       "3   225363    866  Ярославль      Ж   51       5  1524746         2   \n",
       "4   157978    730  Ярославль      М   34       5      174         1   \n",
       "\n",
       "   credit_card  last_activity  est_salary  churn  city_Ростов  city_Рыбинск  \\\n",
       "0        False           True       75719   True            0             1   \n",
       "1         True          False       86621  False            0             1   \n",
       "2         True           True      107683  False            0             1   \n",
       "3        False           True      174423   True            0             0   \n",
       "4         True          False       67353   True            0             0   \n",
       "\n",
       "   city_Ярославль  \n",
       "0               0  \n",
       "1               0  \n",
       "2               0  \n",
       "3               1  \n",
       "4               1  "
      ]
     },
     "execution_count": 45,
     "metadata": {},
     "output_type": "execute_result"
    }
   ],
   "source": [
    "#Кодируем город\n",
    "dummies = pd.get_dummies(new_data['city'], prefix='city')\n",
    "new_data = pd.concat([new_data, dummies], axis=1)\n",
    "new_data.head()"
   ]
  },
  {
   "cell_type": "code",
   "execution_count": 46,
   "metadata": {
    "scrolled": true
   },
   "outputs": [
    {
     "data": {
      "text/html": [
       "<div>\n",
       "<style scoped>\n",
       "    .dataframe tbody tr th:only-of-type {\n",
       "        vertical-align: middle;\n",
       "    }\n",
       "\n",
       "    .dataframe tbody tr th {\n",
       "        vertical-align: top;\n",
       "    }\n",
       "\n",
       "    .dataframe thead th {\n",
       "        text-align: right;\n",
       "    }\n",
       "</style>\n",
       "<table border=\"1\" class=\"dataframe\">\n",
       "  <thead>\n",
       "    <tr style=\"text-align: right;\">\n",
       "      <th></th>\n",
       "      <th>user_id</th>\n",
       "      <th>score</th>\n",
       "      <th>city</th>\n",
       "      <th>gender</th>\n",
       "      <th>age</th>\n",
       "      <th>equity</th>\n",
       "      <th>balance</th>\n",
       "      <th>products</th>\n",
       "      <th>credit_card</th>\n",
       "      <th>last_activity</th>\n",
       "      <th>est_salary</th>\n",
       "      <th>churn</th>\n",
       "      <th>city_Ростов</th>\n",
       "      <th>city_Рыбинск</th>\n",
       "      <th>city_Ярославль</th>\n",
       "      <th>gender_1_0</th>\n",
       "    </tr>\n",
       "  </thead>\n",
       "  <tbody>\n",
       "    <tr>\n",
       "      <th>0</th>\n",
       "      <td>183012</td>\n",
       "      <td>850</td>\n",
       "      <td>Рыбинск</td>\n",
       "      <td>Ж</td>\n",
       "      <td>25</td>\n",
       "      <td>1</td>\n",
       "      <td>59214</td>\n",
       "      <td>2</td>\n",
       "      <td>False</td>\n",
       "      <td>True</td>\n",
       "      <td>75719</td>\n",
       "      <td>True</td>\n",
       "      <td>0</td>\n",
       "      <td>1</td>\n",
       "      <td>0</td>\n",
       "      <td>1</td>\n",
       "    </tr>\n",
       "    <tr>\n",
       "      <th>1</th>\n",
       "      <td>146556</td>\n",
       "      <td>861</td>\n",
       "      <td>Рыбинск</td>\n",
       "      <td>Ж</td>\n",
       "      <td>37</td>\n",
       "      <td>5</td>\n",
       "      <td>850594</td>\n",
       "      <td>3</td>\n",
       "      <td>True</td>\n",
       "      <td>False</td>\n",
       "      <td>86621</td>\n",
       "      <td>False</td>\n",
       "      <td>0</td>\n",
       "      <td>1</td>\n",
       "      <td>0</td>\n",
       "      <td>1</td>\n",
       "    </tr>\n",
       "    <tr>\n",
       "      <th>2</th>\n",
       "      <td>120722</td>\n",
       "      <td>892</td>\n",
       "      <td>Рыбинск</td>\n",
       "      <td>Ж</td>\n",
       "      <td>30</td>\n",
       "      <td>0</td>\n",
       "      <td>-1</td>\n",
       "      <td>1</td>\n",
       "      <td>True</td>\n",
       "      <td>True</td>\n",
       "      <td>107683</td>\n",
       "      <td>False</td>\n",
       "      <td>0</td>\n",
       "      <td>1</td>\n",
       "      <td>0</td>\n",
       "      <td>1</td>\n",
       "    </tr>\n",
       "    <tr>\n",
       "      <th>3</th>\n",
       "      <td>225363</td>\n",
       "      <td>866</td>\n",
       "      <td>Ярославль</td>\n",
       "      <td>Ж</td>\n",
       "      <td>51</td>\n",
       "      <td>5</td>\n",
       "      <td>1524746</td>\n",
       "      <td>2</td>\n",
       "      <td>False</td>\n",
       "      <td>True</td>\n",
       "      <td>174423</td>\n",
       "      <td>True</td>\n",
       "      <td>0</td>\n",
       "      <td>0</td>\n",
       "      <td>1</td>\n",
       "      <td>1</td>\n",
       "    </tr>\n",
       "    <tr>\n",
       "      <th>4</th>\n",
       "      <td>157978</td>\n",
       "      <td>730</td>\n",
       "      <td>Ярославль</td>\n",
       "      <td>М</td>\n",
       "      <td>34</td>\n",
       "      <td>5</td>\n",
       "      <td>174</td>\n",
       "      <td>1</td>\n",
       "      <td>True</td>\n",
       "      <td>False</td>\n",
       "      <td>67353</td>\n",
       "      <td>True</td>\n",
       "      <td>0</td>\n",
       "      <td>0</td>\n",
       "      <td>1</td>\n",
       "      <td>0</td>\n",
       "    </tr>\n",
       "  </tbody>\n",
       "</table>\n",
       "</div>"
      ],
      "text/plain": [
       "   user_id  score       city gender  age  equity  balance  products  \\\n",
       "0   183012    850    Рыбинск      Ж   25       1    59214         2   \n",
       "1   146556    861    Рыбинск      Ж   37       5   850594         3   \n",
       "2   120722    892    Рыбинск      Ж   30       0       -1         1   \n",
       "3   225363    866  Ярославль      Ж   51       5  1524746         2   \n",
       "4   157978    730  Ярославль      М   34       5      174         1   \n",
       "\n",
       "   credit_card  last_activity  est_salary  churn  city_Ростов  city_Рыбинск  \\\n",
       "0        False           True       75719   True            0             1   \n",
       "1         True          False       86621  False            0             1   \n",
       "2         True           True      107683  False            0             1   \n",
       "3        False           True      174423   True            0             0   \n",
       "4         True          False       67353   True            0             0   \n",
       "\n",
       "   city_Ярославль  gender_1_0  \n",
       "0               0           1  \n",
       "1               0           1  \n",
       "2               0           1  \n",
       "3               1           1  \n",
       "4               1           0  "
      ]
     },
     "execution_count": 46,
     "metadata": {},
     "output_type": "execute_result"
    }
   ],
   "source": [
    "#Кодируем пол:\n",
    "new_data['gender_1_0'] = new_data['gender']\n",
    "new_data['gender_1_0'] = new_data['gender'].replace({'Ж': 1, 'М': 0})\n",
    "new_data.head()"
   ]
  },
  {
   "cell_type": "code",
   "execution_count": 47,
   "metadata": {},
   "outputs": [
    {
     "data": {
      "text/plain": [
       "(9922, 16)"
      ]
     },
     "execution_count": 47,
     "metadata": {},
     "output_type": "execute_result"
    }
   ],
   "source": [
    "new_data.shape"
   ]
  },
  {
   "cell_type": "markdown",
   "metadata": {},
   "source": [
    "Все получилось, у нас 4 новых столбца, данные закодированы."
   ]
  },
  {
   "cell_type": "markdown",
   "metadata": {},
   "source": [
    "### Промежуточный вывод.\n",
    "\n",
    "1. **Названия столбцов** user_id и est_salary приведены к нижнему регистру. Столбец user_id переименован согласно snake_case.\n",
    "2. **Пропуски:** из 12 столбцов нашлись только в 2-х: age и balance, 26 и 2925 соответственно. По моему мнению, пропуски носили технический характер (сбой, ошибка при выгрузке).\n",
    "3. **Дубликаты:** явные не обнаружены, неявных (по user_id) нашлось 73 строки-дубликата. После их удаления сократилось количество пропусков, оставшиеся 4 age были удалены, остался только столбец с пропусками balance.\n",
    "4. **Типы данных** приведены в соответствии со значениями в столбцах. Теперь 7 целочисленных, 3 булевых и 2 текстовых столбца.\n",
    "5. Проведена **проверка на выбросы**, найдены явные аномалии в столбце est_salary (значения 63 строк ниже МРОТ), заменены на значение МРОТ, равное 15 279 руб.\n",
    "6. Также **проведена проверка строк с products = 0** (что маловероятно при заключении договора с банком) и связки **credit_card - products** (если есть кредитка, значение продукта не может быть нулевым). После этих проверок удалена 1 строка.\n",
    "7. **Закодированы данные по столбцам город, пол**. Для этого добавлены новые столбцы, в том числе с применением метода *get dummies*. Пол закодирован так: Ж = 1, М = 0.\n",
    "8. В итоге после предобработки у нас **16 столбцов, 9922 строки**. Удалось сохранить 99,22% данных исходного датасета.\n",
    "9. **В 2259 строках столбца balance** стоит заглушка -1. Нулевое значение ставить было бы неправильно, так как, во-первых, есть корректные нули в столбце, а пропуск данных не всегда равен нулю. Поэтому было решено оставить строки, но заменить их на заглушку.\n",
    "\n",
    "Можно переходить к исследовательскому анализу данных."
   ]
  },
  {
   "cell_type": "markdown",
   "metadata": {},
   "source": [
    "## Исследовательский анализ данных"
   ]
  },
  {
   "cell_type": "markdown",
   "metadata": {},
   "source": [
    "### Исследование распределения признаков, построение графиков распределения."
   ]
  },
  {
   "cell_type": "code",
   "execution_count": 48,
   "metadata": {},
   "outputs": [],
   "source": [
    "#Датафрейм с уходящими клиентами:\n",
    "new_data_churn = new_data.query(\"churn == True\")\n",
    "\n",
    "#Датафрейм с остающимися клиентами:\n",
    "new_data_remained = new_data.query(\"churn == False\")"
   ]
  },
  {
   "cell_type": "markdown",
   "metadata": {},
   "source": [
    "#### Анализ уходящих и остающихся клиентов банка (churn)"
   ]
  },
  {
   "cell_type": "code",
   "execution_count": 49,
   "metadata": {},
   "outputs": [
    {
     "data": {
      "image/png": "[encoded data removed]",
      "text/plain": [
       "<Figure size 600x600 with 1 Axes>"
      ]
     },
     "metadata": {},
     "output_type": "display_data"
    }
   ],
   "source": [
    "#Построим круговую диаграму по доле уходящих от общей доли клиентов банка:\n",
    "plt.figure(figsize=(6,6))\n",
    "\n",
    "with sns.color_palette(\"RdBu_r\"):\n",
    "    new_data.churn.map({True:'Уходят',False:'Не уходят'}).value_counts()\\\n",
    "        .plot.pie(legend=True, \n",
    "                   autopct='%1.1f%%', explode=(0, 0.1), \\\n",
    "                   shadow=True, startangle=0, textprops={'fontsize':12, 'color': 'white', 'fontweight': 'bold'})\n",
    "plt.title('Доля уходящих клиентов от всех клиентов банка', fontsize=12)\n",
    "plt.show()"
   ]
  },
  {
   "cell_type": "code",
   "execution_count": 50,
   "metadata": {},
   "outputs": [
    {
     "data": {
      "text/html": [
       "<div>\n",
       "<style scoped>\n",
       "    .dataframe tbody tr th:only-of-type {\n",
       "        vertical-align: middle;\n",
       "    }\n",
       "\n",
       "    .dataframe tbody tr th {\n",
       "        vertical-align: top;\n",
       "    }\n",
       "\n",
       "    .dataframe thead th {\n",
       "        text-align: right;\n",
       "    }\n",
       "</style>\n",
       "<table border=\"1\" class=\"dataframe\">\n",
       "  <thead>\n",
       "    <tr style=\"text-align: right;\">\n",
       "      <th></th>\n",
       "      <th>churn value</th>\n",
       "      <th>bank_clients</th>\n",
       "    </tr>\n",
       "  </thead>\n",
       "  <tbody>\n",
       "    <tr>\n",
       "      <th>0</th>\n",
       "      <td>False</td>\n",
       "      <td>8104</td>\n",
       "    </tr>\n",
       "    <tr>\n",
       "      <th>1</th>\n",
       "      <td>True</td>\n",
       "      <td>1818</td>\n",
       "    </tr>\n",
       "  </tbody>\n",
       "</table>\n",
       "</div>"
      ],
      "text/plain": [
       "   churn value  bank_clients\n",
       "0        False          8104\n",
       "1         True          1818"
      ]
     },
     "execution_count": 50,
     "metadata": {},
     "output_type": "execute_result"
    }
   ],
   "source": [
    "# Также построим табличку с подсчетом значений столбца churn, сколько всего уходит и сколько остается:\n",
    "clients = new_data['churn'].value_counts()\n",
    "clients_table = (clients.to_frame(name='bank_clients')).reset_index()\n",
    "clients_table.rename(columns={'index': 'churn value'}, inplace=True)\n",
    "clients_table"
   ]
  },
  {
   "cell_type": "markdown",
   "metadata": {},
   "source": [
    "**Вывод:**\n",
    "* Из банка собирается уходить 18,3% клиентов или 1818 человек. \n",
    "* Ситуация тревожная, почти одна пятая всех клиентов подала заявление о расторжении. Необходимо узнать о них побольше."
   ]
  },
  {
   "cell_type": "markdown",
   "metadata": {},
   "source": [
    "#### Анализ кредитного скоринга"
   ]
  },
  {
   "cell_type": "code",
   "execution_count": 51,
   "metadata": {
    "scrolled": false
   },
   "outputs": [
    {
     "data": {
      "image/png": "[encoded data removed]",
      "text/plain": [
       "<Figure size 1400x700 with 2 Axes>"
      ]
     },
     "metadata": {},
     "output_type": "display_data"
    }
   ],
   "source": [
    "# Построение гистограмм распределения клиентов по скорингу\n",
    "plt.figure(figsize=(14,7))\n",
    "\n",
    "plt.subplot2grid((1,2),(0,0))\n",
    "with sns.color_palette(\"tab10\"):\n",
    "    sns.histplot(x='score', data=new_data_remained, bins=30, stat='density', label='Анализ')\n",
    "plt.title('Гистограмма кредитного скоринга остающихся', fontsize=14)\n",
    "plt.xlabel('Скоринг', fontsize=12)\n",
    "plt.ylabel('Количество', fontsize=12)\n",
    "\n",
    "\n",
    "plt.subplot2grid((1,2),(0,1))\n",
    "with sns.color_palette(\"tab10_r\"):\n",
    "    sns.histplot(x='score', data=new_data_churn, bins=30, stat='density', label='Анализ')\n",
    "plt.title('Гистограмма кредитного скоринга уходящих', fontsize=14)\n",
    "plt.xlabel('Скоринг', fontsize=12)\n",
    "plt.ylabel('Количество', fontsize=12)\n",
    "plt.show()"
   ]
  },
  {
   "cell_type": "code",
   "execution_count": 52,
   "metadata": {
    "scrolled": false
   },
   "outputs": [
    {
     "data": {
      "image/png": "[encoded data removed]",
      "text/plain": [
       "<Figure size 800x800 with 1 Axes>"
      ]
     },
     "metadata": {},
     "output_type": "display_data"
    },
    {
     "name": "stdout",
     "output_type": "stream",
     "text": [
      "Средний арифметический балл скоринга остающихся: 845.0\n",
      "Cредний арифметический балл скоринга уходящих: 863.0\n",
      "\n"
     ]
    },
    {
     "ename": "AttributeError",
     "evalue": "'int' object has no attribute 'round'",
     "output_type": "error",
     "traceback": [
      "\u001b[0;31m---------------------------------------------------------------------------\u001b[0m",
      "\u001b[0;31mAttributeError\u001b[0m                            Traceback (most recent call last)",
      "Cell \u001b[0;32mIn[52], line 13\u001b[0m\n\u001b[1;32m     11\u001b[0m \u001b[38;5;28mprint\u001b[39m(\u001b[38;5;124m'\u001b[39m\u001b[38;5;124mCредний арифметический балл скоринга уходящих:\u001b[39m\u001b[38;5;124m'\u001b[39m, new_data_churn[\u001b[38;5;124m'\u001b[39m\u001b[38;5;124mscore\u001b[39m\u001b[38;5;124m'\u001b[39m]\u001b[38;5;241m.\u001b[39mmean()\u001b[38;5;241m.\u001b[39mround(\u001b[38;5;241m0\u001b[39m))\n\u001b[1;32m     12\u001b[0m \u001b[38;5;28mprint\u001b[39m()\n\u001b[0;32m---> 13\u001b[0m \u001b[38;5;28mprint\u001b[39m(\u001b[38;5;124m'\u001b[39m\u001b[38;5;124mМинимальный балл скоринга остающихся:\u001b[39m\u001b[38;5;124m'\u001b[39m, \u001b[43mnew_data_remained\u001b[49m\u001b[43m[\u001b[49m\u001b[38;5;124;43m'\u001b[39;49m\u001b[38;5;124;43mscore\u001b[39;49m\u001b[38;5;124;43m'\u001b[39;49m\u001b[43m]\u001b[49m\u001b[38;5;241;43m.\u001b[39;49m\u001b[43mmin\u001b[49m\u001b[43m(\u001b[49m\u001b[43m)\u001b[49m\u001b[38;5;241;43m.\u001b[39;49m\u001b[43mround\u001b[49m(\u001b[38;5;241m0\u001b[39m))\n\u001b[1;32m     14\u001b[0m \u001b[38;5;28mprint\u001b[39m(\u001b[38;5;124m'\u001b[39m\u001b[38;5;124mМинимальный балл скоринга уходящих:\u001b[39m\u001b[38;5;124m'\u001b[39m, new_data_churn[\u001b[38;5;124m'\u001b[39m\u001b[38;5;124mscore\u001b[39m\u001b[38;5;124m'\u001b[39m]\u001b[38;5;241m.\u001b[39mmin()\u001b[38;5;241m.\u001b[39mround(\u001b[38;5;241m0\u001b[39m))\n\u001b[1;32m     15\u001b[0m \u001b[38;5;28mprint\u001b[39m()\n",
      "\u001b[0;31mAttributeError\u001b[0m: 'int' object has no attribute 'round'"
     ]
    }
   ],
   "source": [
    "# Диаграмма размаха скоринга остающихся и уходящих:\n",
    "plt.figure(figsize=(8,8))\n",
    "with sns.color_palette(\"ocean_r\"):\n",
    "    sns.boxplot(y='score', x='churn',data=new_data)\n",
    "plt.title('Диаграмма размаха скоринга остающихся и уходящих клиентов', fontsize=12)\n",
    "plt.ylabel('Баллы кредитного скоринга', fontsize=12)\n",
    "plt.xlabel('Отток', fontsize=12)\n",
    "plt.show()\n",
    "\n",
    "print('Средний арифметический балл скоринга остающихся:', new_data_remained['score'].mean().round(0))\n",
    "print('Cредний арифметический балл скоринга уходящих:', new_data_churn['score'].mean().round(0))\n",
    "print()\n",
    "print('Минимальный балл скоринга остающихся:', new_data_remained['score'].min().round(0))\n",
    "print('Минимальный балл скоринга уходящих:', new_data_churn['score'].min().round(0))\n",
    "print()\n",
    "print('Максимальный балл скоринга уходящих:', new_data_churn['score'].max().round(0))\n",
    "print('Максимальный балл скоринга остающихся:', new_data_remained['score'].max().round(0))\n",
    "print()\n",
    "print('Перцентили для остающихся:', np.percentile (new_data_remained.score, [25, 50, 75]))\n",
    "print('Перцентили для уходящих:', np.percentile (new_data_churn.score, [25, 50, 75]))"
   ]
  },
  {
   "cell_type": "markdown",
   "metadata": {},
   "source": [
    "**Вывод:**\n",
    "* Обе гистограммы кредитного скоринга близки к нормальному распределению.\n",
    "* На гистограмме уходящих заметен всплеск клиентов с кредитным скорингом от 860 до 900 баллов.\n",
    "* Диаграммы размаха дублируют информацию, но также акцентируют внимание на выбросе - аномально низком значении скоринга у кого-то из уходящих клиентов. \n",
    "* Средний арифметический скоринговый балл уходящих выше, чем у остающихся, 863 балла против 845.\n",
    "* Минимальный балл уходящих также выше, 706 против 642.\n",
    "* Максимальный балл обеих групп одинаковый.\n",
    "* 25%-й перцентиль уходящих выше.\n",
    "* Можно разделить скоринговые баллы уходящих на два основных диапазона - 750-860 и 861-950.\n",
    "* В целом мы можем сделать вывод, что у уходящих клиентов довольно высокий кредитный скоринг. Значит, дело не в их возможной неплатежеспособности или неблагонадежности как заемщиков. Банк теряет ценных клиентов.\n"
   ]
  },
  {
   "cell_type": "markdown",
   "metadata": {},
   "source": [
    "#### Анализ по городам"
   ]
  },
  {
   "cell_type": "code",
   "execution_count": null,
   "metadata": {
    "scrolled": false
   },
   "outputs": [],
   "source": [
    "#Табличка по городам:\n",
    "cities = new_data['city'].value_counts()\n",
    "city_table = (cities.to_frame(name='total_clients')).reset_index()\n",
    "city_table.rename(columns={'index': 'city'}, inplace=True)\n",
    "\n",
    "city_table_churn = new_data_churn.groupby('city')['user_id'].count().reset_index().sort_values(by='user_id', ascending=False)\n",
    "city_table_churn.rename(columns={'user_id': 'churn_clients'}, inplace=True)\n",
    "city_res = city_table_churn.merge(city_table, on=[\"city\"])\n",
    "city_res['remained_clients'] = city_res['total_clients'] - city_res['churn_clients']\n",
    "city_res = (city_res[['city', 'churn_clients', 'remained_clients', 'total_clients']]).reset_index(drop=True)\n",
    "city_res\n"
   ]
  },
  {
   "cell_type": "code",
   "execution_count": null,
   "metadata": {},
   "outputs": [],
   "source": [
    "fig = go.Figure(go.Pie(\n",
    "labels = city_res['city'],\n",
    "values = city_res['churn_clients'], \n",
    "    title='Распределение уходящих клиентов по городам'))\n",
    "fig.update_traces(textposition='outside', textinfo='percent+value+label', pull=[0.1,0.0])\n",
    "pio.show(fig, renderer='png', width=900, scale=1.2)"
   ]
  },
  {
   "cell_type": "code",
   "execution_count": null,
   "metadata": {},
   "outputs": [],
   "source": [
    "# Уходящие и остающиеся клиенты по городам в количественных значениях:\n",
    "groups = city_res['city']\n",
    "values1 = city_res['churn_clients']\n",
    "values2 = city_res['remained_clients']\n",
    "\n",
    "fig, ax = plt.subplots(figsize=(12, 6))\n",
    "fig.patch.set_facecolor('white')\n",
    "ax.bar(groups, values1, color = \"#ed706b\")\n",
    "ax.bar(groups, values2, bottom = values1, color = \"#abd0de\")\n",
    "\n",
    "# Labels\n",
    "for bar in ax.patches:\n",
    "  ax.text(bar.get_x() + bar.get_width() / 2,\n",
    "          bar.get_height() / 2 + bar.get_y(),\n",
    "          round(bar.get_height()), ha = 'center',\n",
    "          color = '#000000', size = 9.5)\n",
    "\n",
    "\n",
    "ax.set_title('Уходящие и остающиеся клиенты по городам, чел')\n",
    "ax.set_ylabel('Количество клиентов, чел')\n",
    "ax.set_xlabel('Города')\n",
    "\n",
    "plt.show()"
   ]
  },
  {
   "cell_type": "code",
   "execution_count": null,
   "metadata": {},
   "outputs": [],
   "source": [
    "#Формула для отображения значений на графике:\n",
    "def show_values(axs, orient=\"v\", space=.01):\n",
    "    def _single(ax):\n",
    "        if orient == \"v\":\n",
    "            for p in ax.patches:\n",
    "                _x = p.get_x() + p.get_width() / 2\n",
    "                _y = p.get_y() + p.get_height() + (p.get_height()*0.01)\n",
    "                value = '{:.0f}'.format(p.get_height())\n",
    "                ax.text(_x, _y, value, ha=\"center\") \n",
    "        elif orient == \"h\":\n",
    "            for p in ax.patches:\n",
    "                _x = p.get_x() + p.get_width() + float(space)\n",
    "                _y = p.get_y() + p.get_height() - (p.get_height()*0.5)\n",
    "                value = '{:.1f}'.format(p.get_width())\n",
    "                ax.text(_x, _y, value, ha=\"left\")\n",
    "\n",
    "    if isinstance(axs, np.ndarray):\n",
    "        for idx, ax in np.ndenumerate(axs):\n",
    "            _single(ax)\n",
    "    else:\n",
    "        _single(axs)\n",
    "\n",
    "# размер графика\n",
    "plt.figure(figsize=(10, 5))\n",
    "\n",
    "# процентная доля, чтобы график был нагляднее при сравнении по городам:\n",
    "city_res['share_churn'] = [i / j * 100 for i,j in zip(city_res['churn_clients'], city_res['total_clients'])]\n",
    "city_res['share_total'] = [i / j * 100 for i,j in zip(city_res['total_clients'], city_res['total_clients'])]\n",
    "\n",
    "# bar chart 1 -> общее количество клиентов по городам:\n",
    "bar1 = sns.barplot(x=\"city\",  y=\"share_total\", data=city_res, color='#abd0de')\n",
    "\n",
    "# bar chart 2 -> доля уходящих клиентов по городам:\n",
    "bar2 = sns.barplot(x=\"city\", y=\"share_churn\", data=city_res, color='#ed6c34')\n",
    "show_values(bar2)\n",
    "# настраиваем график\n",
    "top_bar = mpatches.Patch(color=\"#abd0de\", alpha=1, label='Остающиеся')\n",
    "bottom_bar = mpatches.Patch(color='#ed6c34', alpha=1, label='Уходящие')\n",
    "plt.legend(handles=[top_bar, bottom_bar])\n",
    "plt.xlabel(\"Города\", size = 12)\n",
    "plt.ylabel(\"Всего клиентов по городам, %\", size = 12)\n",
    "plt.title('Доля уходящих в общем числе клиентов по городам')\n",
    "# show the graph\n",
    "plt.show()"
   ]
  },
  {
   "cell_type": "markdown",
   "metadata": {},
   "source": [
    "**Вывод:**\n",
    "* Больше всего всех клиентов банка из Ярославля, далее идет Рыбинск, на третьем месте - Ростов.\n",
    "* По доле клиентов внутри города из Ярославля и Ростова уходит по 19% клиентов. Из Рыбинска - 16%.\n",
    "* Из 1818 уходящих из банка клиентов 1117 - из Ярославля, т.е. 61,4%. Доля уходящих клиентов из Рыбинска - 24% от всех уходящих. Из Ростова - 14,6%. Учтем это в будущем при составлении портрета уходящего клиента."
   ]
  },
  {
   "cell_type": "markdown",
   "metadata": {},
   "source": [
    "#### Анализ по полу"
   ]
  },
  {
   "cell_type": "code",
   "execution_count": null,
   "metadata": {},
   "outputs": [],
   "source": [
    "# Построим табличку с подсчетом представителей мужского и женского пола среди остающихся и уходящих:\n",
    "gender_table = new_data['gender'].value_counts()\n",
    "gender_table = (gender_table.to_frame(name='total_clients')).reset_index()\n",
    "gender_table.rename(columns={'index': 'gender'}, inplace=True)\n",
    "gender_table['churn_clients'] = new_data_churn['gender_1_0'].value_counts()\n",
    "gender_table['remained_clients'] = gender_table['total_clients'] - gender_table['churn_clients']\n",
    "gender_table = (gender_table[['gender', 'churn_clients', 'remained_clients', 'total_clients']]).reset_index(drop=True)\n",
    "gender_table"
   ]
  },
  {
   "cell_type": "code",
   "execution_count": null,
   "metadata": {
    "scrolled": false
   },
   "outputs": [],
   "source": [
    "# Строим две диаграммы по полу в одном:\n",
    "fig = plt.figure(figsize=(10,10))\n",
    "\n",
    "ax1 = fig.add_subplot(121)\n",
    "\n",
    "# Распределение по полу среди всех клиентов:\n",
    "ax1.pie(gender_table['total_clients'],\n",
    "            labels=['мужчины', 'женщины'],\n",
    "            autopct='%1.2f%%',\n",
    "            shadow=True,\n",
    "            explode=(0.05, 0),\n",
    "            startangle=60)\n",
    "plt.title('Распределение по полу среди всех клиентов')\n",
    "\n",
    "\n",
    "ax2 = fig.add_subplot(122)\n",
    "\n",
    "# Распределение по полу среди уходящих\n",
    "ax2.pie(gender_table['churn_clients'],\n",
    "        labels=['мужчины', 'женщины'],\n",
    "        autopct='%1.2f%%',\n",
    "        shadow=True,\n",
    "        explode=(0.05, 0),\n",
    "        startangle=60)\n",
    "plt.title('Распределение по полу среди уходящих клиентов')\n",
    "plt.show()"
   ]
  },
  {
   "cell_type": "markdown",
   "metadata": {},
   "source": [
    "**Вывод:**\n",
    "* Клиенты банка в целом распределены по полу равномерно - 50 на на 50%.\n",
    "* Среди уходящих доля мужчин существенно выше, чем женщин - 65% против 34.9%.\n",
    "* Из данных показателей делаем вывод, что уходят преимущественно мужчины."
   ]
  },
  {
   "cell_type": "markdown",
   "metadata": {},
   "source": [
    "#### Анализ по возрасту"
   ]
  },
  {
   "cell_type": "code",
   "execution_count": null,
   "metadata": {
    "scrolled": false
   },
   "outputs": [],
   "source": [
    "# Посмотрим распределение уходящих клиентов по возрасту:\n",
    "\n",
    "plot_data_remained = new_data_remained['age'].value_counts().reset_index().rename(columns={\n",
    "    'index':'age', 'age':'clients_per_age'}).sort_values(by='age')\n",
    "\n",
    "plot_data_churn = new_data_churn['age'].value_counts().reset_index().rename(columns={\n",
    "    'index':'age', 'age':'clients_per_age'}).sort_values(by='age')\n",
    "\n",
    "\n",
    "#Строим сетку из графиков с помощью Seaborn:\n",
    "fig, axes = plt.subplots(2, 1, figsize=(20, 14), sharex=False)\n",
    "fig.suptitle('Распределение остающихся и уходящих клиентов по возрасту', size=16)\n",
    "sns.barplot(data=plot_data_remained, x='age', y='clients_per_age', ax=axes[0]).set(title='Возраст остающихся')\n",
    "\n",
    "\n",
    "ax1 = sns.barplot(data=plot_data_churn, x='age', y='clients_per_age', ax=axes[1]).set(title='Возраст уходящих')\n",
    "#plt.axhline(y=new_data_churn['age'].mean(), color='red', linestyle='--', label='Средний возраст уходящих')\n",
    "plt.xlabel(\"Возраст\", size = 12)\n",
    "plt.ylabel(\"Количество клиентов по возрасту\", size = 12)\n",
    "plt.show()\n"
   ]
  },
  {
   "cell_type": "code",
   "execution_count": null,
   "metadata": {
    "scrolled": false
   },
   "outputs": [],
   "source": [
    "# Диаграмма размаха скоринга остающихся и уходящих:\n",
    "plt.figure(figsize=(8,8))\n",
    "with sns.color_palette(\"ocean_r\"):\n",
    "    sns.boxplot(y='age', x='churn',data=new_data)\n",
    "plt.title('Диаграмма размаха возраста остающихся и уходящих клиентов', fontsize=12)\n",
    "plt.ylabel('Возраст', fontsize=12)\n",
    "plt.xlabel('Отток', fontsize=12)\n",
    "plt.show()\n",
    "\n",
    "print('Средний возраст остающихся:', new_data_remained['age'].mean().round(1))\n",
    "print('Cредний возраст уходящих:', new_data_churn['age'].mean().round(1))\n",
    "print()\n",
    "print('Минимальный возраст остающихся:', round(new_data_remained['age'].min()))\n",
    "print('Минимальный возраст уходящих:', round(new_data_churn['age'].min()))\n",
    "print()\n",
    "print('Максимальный возраст уходящих:', round(new_data_churn['age'].max()))\n",
    "print('Максимальный возраст остающихся:', round(new_data_remained['age'].max()))\n",
    "print()\n",
    "print('Перцентили для остающихся:', np.percentile (new_data_remained.age, [25, 50, 75]))\n",
    "print('Перцентили для уходящих:', np.percentile (new_data_churn.age, [25, 50, 75]))"
   ]
  },
  {
   "cell_type": "markdown",
   "metadata": {},
   "source": [
    "**Вывод:**\n",
    "* Обе гистограммы распределения (радужные) смещены относительно нормального распределения. Мы видим, как среди остающихся преобладает смещение влево, то есть среди клиентов банка больше всего экономически активного населения в трудоспособном возрасте.\n",
    "* У гистограммы уходящих есть явный пик - 34 года, и в целом гистограмма состоит из двух \"волн\".\n",
    "* Самая мощная волна среди уходящих приходится на две категории возраст от 25 до 44 лет.\n",
    "* Вторая, чуть менее высокая, но более вытянутая волна - от 48 до 60 лет.\n",
    "* Что касается диаграмм размаха, здесь нам наиболее интересно отличие в перцентилях и среднем арифметическом возрасте уходящих и остающихся. Получается, средний возраст уходящих чуть ниже, возможно, из-за отстутсвия выбросов, характерных для остающихся, в виде клиентов старше 75 лет.\n",
    "* Минимальный возраст обеих групп одинаковый, 18 лет.\n",
    "* Максимальный возраст уходящих ниже, чем остающихся - 75 против 86.\n",
    "* 25-й перцентиль (и остальные тоже) показывает, что аудитория уходящих клиентов в целом моложе, чем остающиеся.\n",
    "* Волны гистограмм позволяют нам для дальнейшего исследования разделить **возраст уходящих на следующие категории: 18-24, 25-34, 35-44, 45-60 и 61+ лет.**"
   ]
  },
  {
   "cell_type": "markdown",
   "metadata": {},
   "source": [
    "#### Анализ по оценке собственности"
   ]
  },
  {
   "cell_type": "code",
   "execution_count": null,
   "metadata": {
    "scrolled": true
   },
   "outputs": [],
   "source": [
    "#Табличка по городам:\n",
    "equities = new_data['equity'].value_counts()\n",
    "equity_table = equities.to_frame(name='total_clients').reset_index()\n",
    "equity_table.rename(columns={'index': 'equity_score'}, inplace=True)\n",
    "equity_table = equity_table.sort_values(by='equity_score', ascending=True).reset_index(drop=True)\n",
    "\n",
    "equity_table_churn = new_data_churn.groupby('equity')['user_id'].count().reset_index().sort_values(by='equity', ascending=True)\n",
    "equity_table_churn.rename(columns={'equity': 'equity_score', 'user_id': 'churn_clients'}, inplace=True)\n",
    "equity_table_churn = equity_table_churn.reset_index(drop=True)\n",
    "\n",
    "equity_res = equity_table_churn.merge(equity_table, on=[\"equity_score\"])\n",
    "equity_res['remained_clients'] = equity_res['total_clients'] - equity_res['churn_clients']\n",
    "equity_res = (equity_res[['equity_score', 'churn_clients', 'remained_clients', 'total_clients']]).reset_index(drop=True)\n",
    "equity_res\n"
   ]
  },
  {
   "cell_type": "code",
   "execution_count": null,
   "metadata": {
    "scrolled": false
   },
   "outputs": [],
   "source": [
    "\n",
    "#Построим горизонтальный барплот для анализа оценок собственности:\n",
    "sns.set_theme(style=\"whitegrid\")\n",
    "f, ax = plt.subplots(figsize=(12, 6))\n",
    "sns.set_color_codes(\"pastel\")\n",
    "\n",
    "sns.barplot(x=\"total_clients\", y=\"equity_score\", data=equity_res,\n",
    "            label=\"Все клиенты\", color=\"b\", orient='h')\n",
    "\n",
    "sns.set_color_codes(\"muted\")\n",
    "sns.barplot(x=\"churn_clients\", y=\"equity_score\", data=equity_res,\n",
    "            label=\"Уходящие клиенты\", color=\"b\", orient='h')\n",
    "\n",
    "# Добавим легенду и подписи, ограничим ось x:\n",
    "ax.legend(ncol=1, loc=\"lower right\", frameon=True)\n",
    "ax.set(ylabel=\"Оценка собственности\", xlabel=\"Количество клиентов\", title='Оценка собственности уходящих клиентов по сравнению со всеми клиентами')\n",
    "ax.grid()\n",
    "\n",
    "ax.set_xlim(1,2500)\n",
    "sns.despine(left=True, bottom=True)\n",
    "plt.show()"
   ]
  },
  {
   "cell_type": "markdown",
   "metadata": {},
   "source": [
    "**Вывод:**\n",
    "* Среди уходящих клиентов преобладают оценки 5, 4, 3. С оценкой 5 - 31% уходящих, 4 - 25,5%, 3 - 17,6%. \n",
    "* Среди остающихся с существенным отрывом лидирует оценка 1, далее идут 5 и 4.\n",
    "* Оценки 9,8 почти не встречаются. Но уходит практически половина клиентов с оценками 6 и 7.\n",
    "* Можем сделать вывод, что уходят достаточно обеспеченные клиенты. Они наверняка продолжат пользоваться банковскими услугами и продуктами в силу своего финансового положения, но уже с другим банком."
   ]
  },
  {
   "cell_type": "markdown",
   "metadata": {},
   "source": [
    "#### Анализ по балансу на счете"
   ]
  },
  {
   "cell_type": "code",
   "execution_count": null,
   "metadata": {},
   "outputs": [],
   "source": [
    "# Сделаем срез данных без заглушек в балансе, т.е. balance >=0:\n",
    "new_data_balance = new_data.query(\"balance >= 0\")\n",
    "\n",
    "# Проверим, что строки с заглушками '-1' исключены:\n",
    "new_data_balance.shape"
   ]
  },
  {
   "cell_type": "code",
   "execution_count": null,
   "metadata": {
    "scrolled": false
   },
   "outputs": [],
   "source": [
    "# Строим гистограмму распределения клиентов по балансу:\n",
    "fig = px.histogram(new_data_balance, x='balance', color=\"churn\", color_discrete_map = {0:'#abd0de',1:'#ed6c34'},\n",
    "                   width=1000, height=600, labels={\"balance\": \"Баланс на счете\", \"churn\": \"Отток\"},\n",
    "                title=\"Распределение клиентов по балансу с учетом оттока\")\n",
    "fig.update_xaxes(tick0=0, dtick=100000,  range=(0, 2300000))\n",
    "fig.update_yaxes(tick0=0, dtick=100,  range=(0,1900))\n",
    "fig.update_layout(xaxis_title='Баланс на счете',\n",
    "                   yaxis_title='Количество клиентов') \n",
    "pio.show(fig, renderer='png', width=1000, scale=1.2)"
   ]
  },
  {
   "cell_type": "code",
   "execution_count": null,
   "metadata": {},
   "outputs": [],
   "source": [
    "#Датафрейм с уходящими клиентами и без заглушки баланса \"\"-1\":\n",
    "new_data_balance_churn = new_data_churn.query(\"balance >= 0\")\n",
    "\n",
    "#Датафрейм с остающимися клиентами и без заглушки баланса \"\"-1\":\n",
    "new_data_balance_remained = new_data_remained.query(\"balance >= 0\")"
   ]
  },
  {
   "cell_type": "code",
   "execution_count": null,
   "metadata": {},
   "outputs": [],
   "source": [
    "print('Средний баланс остающихся:', new_data_balance_remained['balance'].mean().round(1))\n",
    "print('Cредний баланс уходящих:', new_data_balance_churn['balance'].mean().round(1))\n",
    "print()\n",
    "print('Минимальный баланс остающихся:', round(new_data_balance_remained['balance'].min()))\n",
    "print('Минимальный баланс уходящих:', round(new_data_balance_churn['balance'].min()))\n",
    "print()\n",
    "print('Максимальный баланс остающихся:', round(new_data_balance_remained['balance'].max()))\n",
    "print('Максимальный баланс уходящих:', round(new_data_balance_churn['balance'].max()))\n",
    "print()\n",
    "print('Перцентили для остающихся:', np.percentile(new_data_balance_remained.balance, [25, 50, 75]))\n",
    "print('Перцентили для уходящих:', np.percentile(new_data_balance_churn.balance, [25, 50, 75]))\n",
    "print()\n",
    "print('Суммарный баланс остающихся:', new_data_balance_remained['balance'].sum().round(0))\n",
    "print('Суммарный баланс уходящих:', new_data_balance_churn['balance'].sum().round(0))\n",
    "print('Суммарный баланс всех клиентов:', new_data_balance['balance'].sum().round(0))\n",
    "print('Доля баланса уходящих от суммарного баланса всех клиентов, %:', ((new_data_balance_churn['balance'].sum().round(0) / new_data_balance['balance'].sum().round(0))*100).round(0))\n"
   ]
  },
  {
   "cell_type": "markdown",
   "metadata": {},
   "source": [
    "**Вывод:**\n",
    "* Гистограмма распределения демонстрирует, что среди остающихся и среди уходящих баланс на счете преимущественно 200-300 тыс. руб.\n",
    "* Чуть меньше клиентов с балансом 400-500 тыс., на почетном третьем месте - баланс 600-700 тыс. руб.\n",
    "* Средний арифметический баланс уходящих существенно выше, чем остающихся - 1 134 457 руб. против 733 тыс руб. \n",
    "* Это не аномалия, так как медиана (50-й перцентиль) показывает примерно такую же разницу между уходящими - 783 тыс и остающимися - 475 тыс. руб.\n",
    "* Максимальный баланс уходящего клиента - 64,8 млн. рублей. Остающегося - 119,1 млн. руб.\n",
    "* 25-й перцентиль показывает, что в основном уходят клиенты с балансом существенно больше - 387 тыс. против 279 тыс. руб.\n",
    "* Доля баланса уходящих от суммарного баланса всех клиентов - 32%.\n",
    "* Банк теряет обеспеченных клиентов с живыми деньгами, а значит, и собственную ликвидность."
   ]
  },
  {
   "cell_type": "markdown",
   "metadata": {},
   "source": [
    "#### Анализ по количеству используемых продуктов "
   ]
  },
  {
   "cell_type": "code",
   "execution_count": null,
   "metadata": {},
   "outputs": [],
   "source": [
    "#Посмотрим теперь на распределение заведений разных районов по категориям:\n",
    "by_products = new_data.groupby(['products', 'churn'])['user_id'].count().reset_index().sort_values(by='products', ascending=True)\n",
    "by_products = by_products.reset_index(drop=True)\n",
    "by_products"
   ]
  },
  {
   "cell_type": "code",
   "execution_count": null,
   "metadata": {},
   "outputs": [],
   "source": [
    "fig = px.bar(by_products, x=\"products\", y=\"user_id\", color=\"churn\",\n",
    "            hover_data=['churn'], barmode = 'stack', title=\"Уходящие и остающиеся клиенты по количеству продуктов\",\n",
    "            labels={\"products\": \"Продуктов\", 'user_id':'Клиентов', 'churn': 'Уходит'})\n",
    "fig.update_layout(xaxis_title='Количество продуктов',\n",
    "                 yaxis_title='Количество клиентов') \n",
    "pio.show(fig, renderer='png', width=900, scale=1)"
   ]
  },
  {
   "cell_type": "markdown",
   "metadata": {},
   "source": [
    "**Вывод:**\n",
    "* Большинство клиентов использует 2 продукта. Это характерно и для уходящих, 978 клиентов с 2 продуктами покидают банк, это 53,7% от всех уходящих (1818 чел).\n",
    "* Больше половины клиентов с 4 продуктами также уходят - 300 клиентов или 16,5% среди всехо уходящих. Остаются 174 клиента с 4 продуктами.\n",
    "* Банк теряет активных клиентов в плане использования банковских продуктов."
   ]
  },
  {
   "cell_type": "markdown",
   "metadata": {},
   "source": [
    "#### Анализ по наличию / отсутствию кредитной карты"
   ]
  },
  {
   "cell_type": "code",
   "execution_count": null,
   "metadata": {},
   "outputs": [],
   "source": [
    "#Собираем таблицу по наличию / отсутствию кредитной карты среди уходящих:\n",
    "by_credit_cards = new_data_churn.groupby(['credit_card', 'churn'])['user_id'].count().reset_index().sort_values(by='credit_card', ascending=True)\n",
    "by_credit_cards = by_credit_cards.reset_index(drop=True)\n",
    "by_credit_cards"
   ]
  },
  {
   "cell_type": "code",
   "execution_count": null,
   "metadata": {},
   "outputs": [],
   "source": [
    "#Собираем таблицу по наличию / отсутствию кредитной карты среди всех клиентов:\n",
    "all_by_credit_cards = new_data.groupby(['credit_card'])['user_id'].count().reset_index().sort_values(by='credit_card', ascending=True)\n",
    "all_by_credit_cards = all_by_credit_cards.reset_index(drop=True)\n",
    "all_by_credit_cards"
   ]
  },
  {
   "cell_type": "code",
   "execution_count": null,
   "metadata": {
    "scrolled": false
   },
   "outputs": [],
   "source": [
    "# Круговые диаграммы по кредитным картам у уходящих и всех клиентов:\n",
    "labels = ['Нет карты', 'Есть карта']\n",
    "fig = make_subplots(rows=1, cols=2, specs=[[{'type':'domain'}, {'type':'domain'}]])\n",
    "fig.add_trace(go.Pie(labels=labels, values=by_credit_cards['user_id'], name=\"Кредитка у уходящих\"),\n",
    "              1, 1)\n",
    "fig.add_trace(go.Pie(labels=labels, values=all_by_credit_cards['user_id'], name=\"Кредитка у всех\"),\n",
    "              1, 2)\n",
    "fig.update_traces(hole=.3, hoverinfo=\"label+percent+value\")\n",
    "\n",
    "fig.update_layout(\n",
    "    title_text=\"Кредитная карта у уходящих и всех клиентов\",\n",
    "    # Аннотация \n",
    "    annotations=[dict(text='Уходящие', x=0.175, y=0.5, font_size=15, showarrow=False),\n",
    "                 dict(text='Все клиенты', x=0.84, y=0.5, font_size=15, showarrow=False)])\n",
    "pio.show(fig, renderer='png', width=1000, scale=1)"
   ]
  },
  {
   "cell_type": "markdown",
   "metadata": {},
   "source": [
    "**Вывод:**\n",
    "* Среди уходящих клиентов больше половины (55%) пользуются кредитной картой.\n",
    "* Доля использующих кредитную карту среди всех клиентов - 68%."
   ]
  },
  {
   "cell_type": "markdown",
   "metadata": {},
   "source": [
    "#### Анализ по активности клиентов"
   ]
  },
  {
   "cell_type": "code",
   "execution_count": null,
   "metadata": {
    "scrolled": false
   },
   "outputs": [],
   "source": [
    "#Собираем таблицу по активности клиентов:\n",
    "by_activity = new_data.groupby(['last_activity', 'churn'])['user_id'].count().reset_index().sort_values(by='last_activity', ascending=False)\n",
    "by_activity = by_activity.reset_index(drop=True)\n",
    "by_activity"
   ]
  },
  {
   "cell_type": "code",
   "execution_count": null,
   "metadata": {
    "scrolled": false
   },
   "outputs": [],
   "source": [
    "#График активности клиентов\n",
    "fig = px.bar(\n",
    "    by_activity,\n",
    "    x=\"user_id\",\n",
    "    y=\"churn\",\n",
    "    color='last_activity',\n",
    "    title=\"График активности клиентов\",\n",
    "    barmode=\"group\",\n",
    "    text=\"user_id\",\n",
    "    hover_name=\"last_activity\",\n",
    "    labels={\"last_activity\": \"Активен\", 'user_id':'Клиентов', 'churn': 'Уходит'}\n",
    ")\n",
    "fig.update_layout(xaxis_title='Количество клиентов',\n",
    "                   yaxis_title='Уходящий') \n",
    "pio.show(fig, renderer='png', width=900, scale=1)"
   ]
  },
  {
   "cell_type": "markdown",
   "metadata": {},
   "source": [
    "**Вывод:**\n",
    "* Любопытно, что среди уходящих неактивных клиентов 541, а активных почти в 2,5 раза больше - 1277 человек. То есть это уход не по естественным и неизбежным причинам (смерть, тяжелая болезнь и пр.), а по собственной инициативе. Т.е. 70% уходящих клиентов активны.\n",
    "* Тревожно, что среди остающихся клиентов активных лишь 51,6%."
   ]
  },
  {
   "cell_type": "markdown",
   "metadata": {},
   "source": [
    "#### Анализ по примерной зарплате"
   ]
  },
  {
   "cell_type": "code",
   "execution_count": null,
   "metadata": {},
   "outputs": [],
   "source": [
    "fig = px.histogram(new_data, x=\"est_salary\", nbins=20, color=\"churn\", \n",
    "                   color_discrete_map = {0:'#abd0de',1:'#ed6c34'}, width=1000, height=500, \n",
    "                   labels={\"est_salary\": \"Зарплата\", 'churn':'Уходящий'},\n",
    "                title=\"Распределение клиентов по размеру зарплаты\")\n",
    "fig.update_xaxes(tick0=0, dtick=5000,  range=(15000, 350000))\n",
    "fig.update_yaxes(tick0=0, dtick=250,  range=(0,4500))\n",
    "fig.update_layout(xaxis_title='Примерный размер зарплаты',\n",
    "                   yaxis_title='Количество клиентов') \n",
    "pio.show(fig, renderer='png', width=1000, scale=1)"
   ]
  },
  {
   "cell_type": "code",
   "execution_count": null,
   "metadata": {
    "scrolled": false
   },
   "outputs": [],
   "source": [
    "#Взглянем также на разброс зарплат с точки зрения явно выделяющихся.\n",
    "fig = px.scatter(new_data, x='est_salary', color='churn', opacity=0.6, \n",
    "                 color_discrete_sequence=['#ed6c34', '#88a6b1'], title=\"Разброс зарплаты\",\n",
    "                 labels={\"est_salary\": \"Зарплата\", 'churn':'Уходящий'})\n",
    "fig.update_layout(xaxis_title='Примерный размер зарплаты',\n",
    "                   yaxis_title='Индекс') \n",
    "pio.show(fig, renderer='png', width=1000, scale=1)"
   ]
  },
  {
   "cell_type": "code",
   "execution_count": null,
   "metadata": {},
   "outputs": [],
   "source": [
    "print('Средняя зарплата остающихся:', new_data_remained['est_salary'].mean().round(0))\n",
    "print('Cредняя зарплата уходящих:', new_data_churn['est_salary'].mean().round(0))\n",
    "print()\n",
    "print('Минимальная зарплата остающихся:', round(new_data_remained['est_salary'].min()))\n",
    "print('Минимальная зарплата уходящих:', round(new_data_churn['est_salary'].min()))\n",
    "print()\n",
    "print('Максимальная зарплата остающихся:', round(new_data_remained['est_salary'].max()))\n",
    "print('Максимальная зарплата уходящих:', round(new_data_churn['est_salary'].max()))\n",
    "print()\n",
    "print('Перцентили для остающихся:', np.percentile (new_data_remained.est_salary, [25, 50, 75]))\n",
    "print('Перцентили для уходящих:', np.percentile (new_data_churn.est_salary, [25, 50, 75]))"
   ]
  },
  {
   "cell_type": "markdown",
   "metadata": {},
   "source": [
    "**Вывод:**\n",
    "* На первом графике мы видим ступенчатое распределение клиентов по размеру зарплаты.\n",
    "* Больше всего уходящих с зарплатой в диапазоне 100-200 тыс., на 2-м месте диапазон 15-100 тыс, а на 3-м - 200-300 тыс. \n",
    "* Среди остающихся диапазон зарплат идентичен уходящим, но также среди остающихся больше тех, у кого зарплата превышает 300 тыс. рублей.\n",
    "* На графике разброса зарплаты мы видим, большинство зарплат - до 200 тыс. рублей, но есть и те, у кого зарплата достигает 1,4 млн рублей (остающийся клиент), и уходящий клиент с зарплатой больше 1,2 млн рублей.\n",
    "* Средняя арифметическая зарплата остающихся и уходящих не сильно отличается, +- 148 тыс. рублей.\n",
    "* Минимальная зарплата идентична МРОТ, максимальная чуть выше у остающихся - 1,39 млн. рублей против 1,26 млн рублей.\n",
    "* Интересно взглянуть на перцентили, большинство зарплат уходящих лежит в диапазоне выше, чем у остающихся: от 83 тыс до 176 тыс рублей по сравнению с лояльными клиентами, у которых нижняя граница 25% равна 73 тыс. руб.\n",
    "* По итогам изучения распределения зарплат мы составим **следующую градацию (в тыс. руб): 15-100, 101-150, 150-200, 201-300, 301-400, 401+.**"
   ]
  },
  {
   "cell_type": "markdown",
   "metadata": {},
   "source": [
    "#### Промежуточный вывод по всем признакам:\n",
    "\n",
    "**Вывод:**\n",
    "* Из банка собирается уходить 18,3% клиентов или 1818 человек. \n",
    "* Скоринговые баллы уходящих, два основных диапазона - 750-860 и 861-950.\n",
    "* Средний арифметический балл скоринга остающихся - 845,  уходящих -  863.\n",
    "* Минимальный балл скоринга остающихся - 642, уходящих - 706.\n",
    "* Из всех уходящих 61,4% - Ярославль, 24% - Рыбинск, 14,6% - Ростов.\n",
    "* Среди уходящих доля мужчин существенно выше, чем женщин - 65% против 34.9%.\n",
    "* Возрастной пик уходящих - 34 года. Два основных диапазона уходящих: 25-34 и 35-44.\n",
    "* Средний возраст уходящих - 41,4 года. Остающихся - 43 года.\n",
    "* Среди уходящих клиентов преобладают оценки собственности 5, 4, 3. С оценкой 5 - 31% уходящих, 4 - 25,5%, 3 - 17,6%. \n",
    "* Среди остающихся и среди уходящих баланс на счете преимущественно 200-300 тыс. руб, на втором месте - 400-500 тыс. руб.\n",
    "*  Средний арифметический баланс уходящих существенно выше, чем остающихся - 1 134 457 руб. против 733 тыс руб.\n",
    "* Доля баланса уходящих от суммарного баланса всех клиентов банка - 32%.\n",
    "* Большинство клиентов использует 2 продукта.\n",
    "* 53,7%  уходящих использует 2 продукта. 16,5% - три продукта.\n",
    "*  Среди уходящих клиентов больше половины (55%) пользуются кредитной картой.\n",
    "*  Доля использующих кредитную карту среди всех клиентов - 68%.\n",
    "* 70% уходящих клиентов активны. Среди остающихся активны лишь 51,6% клиентов.\n",
    "* Больше всего уходящих с зарплатой в диапазоне 100-200 тыс., на 2-м месте диапазон 15-100 тыс, а на 3-м - 200-300 тыс.\n",
    "*  Средняя арифметическая зарплата остающихся и уходящих не сильно отличается, +- 148 тыс. рублей.\n"
   ]
  },
  {
   "cell_type": "markdown",
   "metadata": {},
   "source": [
    "### Построение и анализ матрицы корреляции признаков к оттоку."
   ]
  },
  {
   "cell_type": "code",
   "execution_count": null,
   "metadata": {},
   "outputs": [],
   "source": [
    "#Дублируем наш обновленный после предобработки датафрейм для дальнейшего исследования корреляции:\n",
    "corr_data = new_data\n",
    "corr_data.head()"
   ]
  },
  {
   "cell_type": "code",
   "execution_count": null,
   "metadata": {},
   "outputs": [],
   "source": [
    "corr_data.shape"
   ]
  },
  {
   "cell_type": "code",
   "execution_count": null,
   "metadata": {},
   "outputs": [],
   "source": [
    "# Создаем столбец с категориями возраста, которые мы выделили в ходе исследования признаков:\n",
    "corr_data.insert(16, 'age_range', 0) \n",
    "def age(age):\n",
    "    if age <= 24:\n",
    "        return '18-24'\n",
    "    elif age <= 34:\n",
    "        return '25-34'\n",
    "    elif age <= 44:\n",
    "        return '35-44'  \n",
    "    elif age <= 60:\n",
    "        return '45-60'\n",
    "    else:\n",
    "        return '61-99'   \n",
    "\n",
    "\n",
    "corr_data['age_range'] = corr_data['age'].apply(age)\n",
    "corr_data.head()"
   ]
  },
  {
   "cell_type": "code",
   "execution_count": null,
   "metadata": {},
   "outputs": [],
   "source": [
    "# Создаем столбец с категориями зарплат, которые мы выделили в ходе исследования признаков:\n",
    "#15-100, 101-150, 150-200, 201-300, 301-400, 401+\n",
    "\n",
    "# добавляем столбец с категориями зарплаты \n",
    "corr_data.insert(17, 'salary_range', 0)\n",
    "def income(income):  \n",
    "    if income <= 100000:\n",
    "        return '51-100'\n",
    "    elif income <= 150000:\n",
    "        return '101-150'\n",
    "    elif income <= 200000:\n",
    "        return '151-200'\n",
    "    elif income <= 300000:\n",
    "        return '201-300'\n",
    "    elif income <= 400000:\n",
    "        return '301-400'   \n",
    "    else:\n",
    "        return '401+'     \n",
    "    \n",
    "\n",
    "corr_data['salary_range'] = corr_data['est_salary'].apply(income)\n",
    "corr_data.head()"
   ]
  },
  {
   "cell_type": "markdown",
   "metadata": {},
   "source": [
    "**Выполним оценку корреляции признаков, влияющих на отток клиентов:**\n",
    " "
   ]
  },
  {
   "cell_type": "code",
   "execution_count": null,
   "metadata": {
    "scrolled": false
   },
   "outputs": [],
   "source": [
    "# Готовим табличку для матрицы корреляции:\n",
    "#Кодируем возрастные диапазоны и диапазон зарплат:\n",
    "dummies = pd.get_dummies(corr_data['age_range'], prefix='age_range')\n",
    "dummies_s = pd.get_dummies(corr_data['salary_range'], prefix='salary_range')\n",
    "dummies_g = pd.get_dummies(corr_data['gender'], prefix='gender_range')\n",
    "\n",
    "#Кодируем оценку собственности по итогам анализа данного признака:\n",
    "dummies_e = pd.get_dummies(new_data['equity'], prefix='equity')\n",
    "\n",
    "corr_data = pd.concat([corr_data, dummies], axis=1)\n",
    "corr_data = pd.concat([corr_data, dummies_s], axis=1)\n",
    "corr_data = pd.concat([corr_data, dummies_g], axis=1)\n",
    "corr_data = pd.concat([corr_data, dummies_e], axis=1)\n",
    "\n",
    "#Убираем столбец user_id и equity для будущей матрицы:\n",
    "corr_data_test = corr_data.drop(['user_id', 'equity'],axis = 1)\n",
    "corr_data_test\n"
   ]
  },
  {
   "cell_type": "code",
   "execution_count": null,
   "metadata": {
    "scrolled": false
   },
   "outputs": [],
   "source": [
    "# Создаем матрицу корреляции:\n",
    "corr_matrix = corr_data_test.corr()\n",
    "\n",
    "# Отбираем столбец корреляций с целевой переменной churn и сортируем:\n",
    "churn_corr = corr_matrix['churn'].drop('churn')\n",
    "churn_corr_sorted = churn_corr.sort_values(ascending=False)\n",
    "\n",
    "# применяем маску, чтобы убрать корреляцию меньше 0.02, занимают место\n",
    "mask = churn_corr_sorted >= 0.02\n",
    "churn_corr_sorted = churn_corr_sorted[mask]\n",
    "\n",
    "# Рисуем хитмэп для столбца churn_corr_sorted\n",
    "plt.figure(figsize=(14,10))\n",
    "sns.heatmap(churn_corr_sorted.to_frame(), annot=True, cmap='vlag', fmt = \".0%\", vmin=-1, vmax=1, center=0)\n",
    "plt.title(\"Матрица корреляции признаков к оттоку клиентов\")\n",
    "plt.show()"
   ]
  },
  {
   "cell_type": "markdown",
   "metadata": {},
   "source": [
    "**Вывод:**\n",
    "\n",
    "Матрица корреляции демонстрирует, как на отток влияют:\n",
    "* банковские продукты (чем больше продуктов у клиента, тем больше вероятность оттока);\n",
    "* активность в последний месяц (активные за последние 30 дней клиенты уходят чаще);\n",
    "* оценки собственности 5, 4, 7, 6, 9, 3 (последняя совсем незначительно);\n",
    "* пол (мужчины уходят чаще);\n",
    "* баланс на счете;\n",
    "* оценка кредитного скоринга;\n",
    "* возрастные диапазоны: 25-34 и 45-60 лет;\n",
    "* зарплаты в диапазоне 101-150 и 151-200 тыс. руб.;\n",
    "* город Ярославль.\n"
   ]
  },
  {
   "cell_type": "markdown",
   "metadata": {},
   "source": [
    "### Составление портрета склонного к оттоку клиента."
   ]
  },
  {
   "cell_type": "markdown",
   "metadata": {},
   "source": [
    "Дополняя информацией, полученной благодаря анализу каждого признака, получаем следующую картину:\n",
    "\n",
    "**Уходят преимущественно:**\n",
    "* активные;\n",
    "* мужчины (65%) или женщины (34,9%);\n",
    "* из Ярославля (61,4%), Рыбинска (24%)\n",
    "* 25-34 и 45-60 лет;\n",
    "* с зарплатой 101-150 и 151-200 тыс. руб;\n",
    "* с 2 или 4 продуктами;\n",
    "* с оценкой собственности в основном от 4 до 7;\n",
    "* с балансом в диапазонах 200-300 и 400-500 тыс руб;\n",
    "* с баллами кредитного скоринга в диапазонах 750-860 и 861-950."
   ]
  },
  {
   "cell_type": "markdown",
   "metadata": {},
   "source": [
    "### Сегментация клиентов по категориям (баланс, возраст и т.д.) с учетом распределения."
   ]
  },
  {
   "cell_type": "markdown",
   "metadata": {},
   "source": [
    "**Важная ремарка:**\n",
    "1. Сегментация выполняется для всех клиентов. Внутри сегментов потом будут выделены уходящие.\n",
    "2. Сегменты не пересекаются по клиентам. Один клиент - один сегмент."
   ]
  },
  {
   "cell_type": "markdown",
   "metadata": {},
   "source": [
    "**Сегмент №1:**\n",
    "<br><br>\n",
    "Пол: мужской\n",
    "<br>\n",
    "Возраст: 25-34  <br>\n",
    "Город: Ярославль\n",
    "<br>\n",
    "Оценка объектов собственности: от 1 до 7\n",
    "<br>\n",
    "Скоринговый рейтинг: от 750\n",
    "<br>\n",
    "Используемые продукты: от 1 до 5\n",
    "<br>\n",
    "Кредитная карта: неважно\n",
    "<br>\n",
    "Тип клиента: все клиенты (и уходящие, и остающиеся)"
   ]
  },
  {
   "cell_type": "code",
   "execution_count": null,
   "metadata": {},
   "outputs": [],
   "source": [
    "segment_01 = new_data.query (\n",
    "    'gender_1_0==0 and equity>=1 and equity<=7 and score >=750 and age>=25 \\\n",
    "    and age<=34 and products >=1 and products <=5 and city_Ярославль==1') \n",
    "display(segment_01.head())\n",
    "segment_01.shape"
   ]
  },
  {
   "cell_type": "code",
   "execution_count": null,
   "metadata": {},
   "outputs": [],
   "source": [
    "segment_01_churn = segment_01.query(\"churn==1\")\n",
    "segment_01_churn.shape"
   ]
  },
  {
   "cell_type": "markdown",
   "metadata": {},
   "source": [
    "**В сегмент №1 входит всего 671 чел, из них 243, т.е. 36,2% - уходящие.**"
   ]
  },
  {
   "cell_type": "markdown",
   "metadata": {},
   "source": [
    "**Сегмент №2:**\n",
    "<br><br>\n",
    "Пол: мужской\n",
    "<br>\n",
    "Возраст: 35-44  <br>\n",
    "Город: Ярославль\n",
    "<br>\n",
    "Оценка объектов собственности: от 1 до 7\n",
    " <br>\n",
    "Скоринговый рейтинг: от 750\n",
    " <br>\n",
    "Используемые продукты: от 1 до 5\n",
    "<br>\n",
    "Кредитная карта: неважно\n",
    "<br>\n",
    "Тип клиента: все клиенты (и уходящие, и остающиеся)"
   ]
  },
  {
   "cell_type": "code",
   "execution_count": null,
   "metadata": {
    "scrolled": false
   },
   "outputs": [],
   "source": [
    "segment_02 = new_data.query (\n",
    "    'gender_1_0==0 and equity>=1 and equity<=7 and score >=750 and age>=35 \\\n",
    "    and age<=44 and products >=1 and products <=5 and city_Ярославль==1') \n",
    "display(segment_02.head())\n",
    "segment_02.shape"
   ]
  },
  {
   "cell_type": "code",
   "execution_count": null,
   "metadata": {},
   "outputs": [],
   "source": [
    "segment_02_churn = segment_02.query(\"churn==1\")\n",
    "segment_02_churn.shape"
   ]
  },
  {
   "cell_type": "markdown",
   "metadata": {},
   "source": [
    "**В сегмент №2 входит всего 739 чел, из них 215, т.е. 29% - уходящие.**"
   ]
  },
  {
   "cell_type": "markdown",
   "metadata": {},
   "source": [
    "**Сегмент №3:**\n",
    "<br><br>\n",
    "Пол: мужской\n",
    "<br>\n",
    "Возраст: 45-60  <br>\n",
    "Город: любой\n",
    "<br>\n",
    "Оценка объектов собственности: от 1 до 7\n",
    " <br>\n",
    "Скоринговый рейтинг: от 750\n",
    " <br>\n",
    "Используемые продукты: от 1 до 5\n",
    "<br>\n",
    "Кредитная карта: неважно\n",
    "<br>\n",
    "Тип клиента: все клиенты (и уходящие, и остающиеся)"
   ]
  },
  {
   "cell_type": "code",
   "execution_count": null,
   "metadata": {
    "scrolled": false
   },
   "outputs": [],
   "source": [
    "segment_03 = new_data.query (\n",
    "    'gender_1_0==0 and equity>=1 and equity<=7 and score >=750 and age>=45 \\\n",
    "    and age<=60 and products >=1 and products <=5') \n",
    "display(segment_03.head())\n",
    "segment_03.shape"
   ]
  },
  {
   "cell_type": "code",
   "execution_count": null,
   "metadata": {},
   "outputs": [],
   "source": [
    "segment_03_card = new_data.query (\n",
    "    'gender_1_0==0 and equity>=1 and equity<=7 and score >=750 and age>=45 \\\n",
    "    and age<=60 and products >=1 and products <=5 and credit_card==1 and churn==1') \n",
    "display(segment_03_card.head())\n",
    "segment_03_card.shape"
   ]
  },
  {
   "cell_type": "code",
   "execution_count": null,
   "metadata": {},
   "outputs": [],
   "source": [
    "segment_03_churn = segment_03.query(\"churn==1\")\n",
    "segment_03_churn.shape"
   ]
  },
  {
   "cell_type": "markdown",
   "metadata": {},
   "source": [
    "**В сегмент №3 входит всего 891 чел, из них 326, т.е. 36,6% - уходящие.**"
   ]
  },
  {
   "cell_type": "markdown",
   "metadata": {},
   "source": [
    "**Сегмент №4:**\n",
    "<br><br>\n",
    "Пол: мужской\n",
    "<br>\n",
    "Возраст: 25-44  <br>\n",
    "Город: не Ярославль (Рыбинск и Ростов)\n",
    "<br>\n",
    "Оценка объектов собственности: от 1 до 7\n",
    "<br>\n",
    "Скоринговый рейтинг: от 750\n",
    "<br>\n",
    "Используемые продукты: от 1 до 5\n",
    "<br>\n",
    "Кредитная карта: неважно\n",
    "<br>\n",
    "Тип клиента: все клиенты (и уходящие, и остающиеся)"
   ]
  },
  {
   "cell_type": "code",
   "execution_count": null,
   "metadata": {},
   "outputs": [],
   "source": [
    "segment_04 = new_data.query (\n",
    "    'gender_1_0==0 and equity>=1 and equity<=7 and score >=750 and age>=25 \\\n",
    "    and age<=44 and products >=1 and products <=5 and city_Ярославль!=1') \n",
    "display(segment_04.head())\n",
    "segment_04.shape"
   ]
  },
  {
   "cell_type": "code",
   "execution_count": null,
   "metadata": {},
   "outputs": [],
   "source": [
    "segment_04_churn = segment_04.query(\"churn==1\")\n",
    "segment_04_churn.shape"
   ]
  },
  {
   "cell_type": "markdown",
   "metadata": {},
   "source": [
    " **В сегмент №4 входит всего 913 чел, из них 273, т.е. 29,9% - уходящие.**"
   ]
  },
  {
   "cell_type": "markdown",
   "metadata": {},
   "source": [
    "**Сегмент №5:**\n",
    "<br><br>\n",
    "Пол: женский\n",
    "<br>\n",
    "Возраст: 25-44  <br>\n",
    "Город: Ярославль\n",
    "<br>\n",
    "Оценка объектов собственности: от 1 до 7\n",
    " <br>\n",
    "Скоринговый рейтинг: от 750\n",
    " <br>\n",
    "Используемые продукты: от 1 до 5\n",
    "<br>\n",
    "Кредитная карта: неважно\n",
    "<br>\n",
    "Тип клиента: все клиенты (и уходящие, и остающиеся)"
   ]
  },
  {
   "cell_type": "code",
   "execution_count": null,
   "metadata": {},
   "outputs": [],
   "source": [
    "segment_05 = new_data.query (\n",
    "    'gender_1_0==1 and equity>=1 and equity<=7 and score >=750 and age>=25 \\\n",
    "    and age<=44 and products >=1 and products <=5 and city_Ярославль==1') \n",
    "display(segment_05.head())\n",
    "segment_05.shape"
   ]
  },
  {
   "cell_type": "code",
   "execution_count": null,
   "metadata": {},
   "outputs": [],
   "source": [
    "segment_05_churn = segment_05.query(\"churn==1\")\n",
    "segment_05_churn.shape"
   ]
  },
  {
   "cell_type": "markdown",
   "metadata": {},
   "source": [
    "**В сегмент №5 входит всего 1166 чел, из них 232, т.е. 19,9% - уходящие.**"
   ]
  },
  {
   "cell_type": "markdown",
   "metadata": {},
   "source": [
    "**Сегмент №6:**\n",
    "<br><br>\n",
    "Пол: женский\n",
    "<br>\n",
    "Возраст: 45-60  <br>\n",
    "Город: любой\n",
    "<br>\n",
    "Оценка объектов собственности: от 1 до 7\n",
    " <br>\n",
    "Скоринговый рейтинг: от 750\n",
    " <br>\n",
    "Используемые продукты: от 1 до 5\n",
    "<br>\n",
    "Кредитная карта: неважно\n",
    "<br>\n",
    "Тип клиента: все клиенты (и уходящие, и остающиеся)"
   ]
  },
  {
   "cell_type": "code",
   "execution_count": null,
   "metadata": {},
   "outputs": [],
   "source": [
    "segment_06 = new_data.query (\n",
    "    'gender_1_0==1 and equity>=1 and equity<=7 and score >=750 and age>=45 \\\n",
    "    and age<=60 and products >=1 and products <=5') \n",
    "display(segment_06.head())\n",
    "segment_06.shape"
   ]
  },
  {
   "cell_type": "code",
   "execution_count": null,
   "metadata": {},
   "outputs": [],
   "source": [
    "segment_06_churn = segment_06.query(\"churn==1\")\n",
    "segment_06_churn.shape"
   ]
  },
  {
   "cell_type": "markdown",
   "metadata": {},
   "source": [
    " **В сегмент №6 входит всего 1058 чел, из них 231, т.е. 21,8% - уходящие.**"
   ]
  },
  {
   "cell_type": "markdown",
   "metadata": {},
   "source": [
    "**Сегмент №7:**\n",
    "<br><br>\n",
    "Пол: женский\n",
    "<br>\n",
    "Возраст: 25-44  <br>\n",
    "Город: не Ярославль (Рыбинск и Ростов)\n",
    "<br>\n",
    "Оценка объектов собственности: от 1 до 7\n",
    "<br>\n",
    "Скоринговый рейтинг: от 750\n",
    "<br>\n",
    "Используемые продукты: от 1 до 5\n",
    "<br>\n",
    "Кредитная карта: неважно\n",
    "<br>\n",
    "Тип клиента: все клиенты (и уходящие, и остающиеся)"
   ]
  },
  {
   "cell_type": "code",
   "execution_count": null,
   "metadata": {},
   "outputs": [],
   "source": [
    "segment_07 = new_data.query (\n",
    "    'gender_1_0==1 and equity>=1 and equity<=7 and score >=750 and age>=25 \\\n",
    "    and age<=44 and products >=1 and products <=5 and city_Ярославль!=1') \n",
    "display(segment_07.head())\n",
    "segment_07.shape"
   ]
  },
  {
   "cell_type": "code",
   "execution_count": null,
   "metadata": {},
   "outputs": [],
   "source": [
    "segment_07_churn = segment_07.query(\"churn==1\")\n",
    "segment_07_churn.shape"
   ]
  },
  {
   "cell_type": "markdown",
   "metadata": {},
   "source": [
    " **В сегмент №7 входит всего 802 чел, из них 96, т.е. 11,9% - уходящие.**"
   ]
  },
  {
   "cell_type": "markdown",
   "metadata": {},
   "source": [
    "#### Итог сегментации удобно представить в виде таблички:"
   ]
  },
  {
   "cell_type": "code",
   "execution_count": null,
   "metadata": {},
   "outputs": [],
   "source": [
    "segment_table = pd.DataFrame([['Сегмент №1', 671, 243, 36.2],\n",
    "                              ['Сегмент №2', 739, 215, 29],\n",
    "                              ['Сегмент №3', 891, 326, 36.6],\n",
    "                              ['Сегмент №4', 913, 273, 29.9],\n",
    "                              ['Сегмент №5', 1166, 232, 19.9],\n",
    "                              ['Сегмент №6', 1058, 231, 21.8],\n",
    "                              ['Сегмент №7', 802, 96, 11.9]\n",
    "                             ], columns=['segment', 'total_clients', 'churn_clients', 'share_of_churn'])\n",
    "\n",
    "segment_table = segment_table.sort_values(by='share_of_churn', ascending=False).reset_index(drop=True)\n",
    "segment_table_1 = segment_table.append(segment_table[['total_clients', 'churn_clients']].sum(axis=0), ignore_index=True)\n",
    "segment_table_1 = segment_table_1.fillna(value='Total')\n",
    "segment_table_1"
   ]
  },
  {
   "cell_type": "markdown",
   "metadata": {},
   "source": [
    "**Результат сегментации:**\n",
    "1. Семь сегментов от 671 до 1166 чел. охватили в сумме 6240 всех клиентов, из которых 1616 клиентов уходящие.\n",
    "2. Получается, что в 7 сегментов попали 88,9% всех уходящих клиентов банка (1616 от 1818).\n",
    "3. При этом количество всех рассмотренных клиентов составляет 62,9% от общего их числа (6240 от 9922 всех клиентов).\n",
    "4. Т.е. на оставшиеся 3682 человек, не попавших в сегментацию, приходится всего 202 уходящих клиента.\n",
    "5. Сегментацию можно считать успешной. \n",
    "6. Лучшие сегменты (где доля уходящих составила примерно треть): 3, 1, 4, 2.\n",
    "7. Ниже укажу общие и отличающиеся для них условия."
   ]
  },
  {
   "cell_type": "markdown",
   "metadata": {},
   "source": [
    "**I. Общие условия для всех сегментов:**<br>\n",
    "Оценка объектов собственности: от 1 до 7 <br>\n",
    "Скоринговый рейтинг: от 750 <br>\n",
    "Используемые продукты: от 1 до 5 <br>\n",
    "Кредитная карта: неважно <br>\n",
    "Тип клиента: все клиенты (и уходящие, и остающиеся) <br>\n",
    "<br>\n",
    "**II. Отличающиеся условия, сегменты в порядке приоритета:**<br><br>\n",
    "**Сегмент №3:**\n",
    "<br>\n",
    "Пол: мужской <br>\n",
    "Возраст: 45-60 <br>\n",
    "Город: любой <br>\n",
    "<br>\n",
    "**Сегмент №1:**\n",
    "<br>\n",
    "Пол: мужской\n",
    "<br>\n",
    "Возраст: 25-34  <br>\n",
    "Город: Ярославль\n",
    "<br><br>\n",
    "**Сегмент №4:**\n",
    "<br>\n",
    "Пол: мужской\n",
    "<br>\n",
    "Возраст: 25-44  <br>\n",
    "Город: не Ярославль (Рыбинск и Ростов)\n",
    "<br><br>\n",
    "**Сегмент №2:**\n",
    "<br>\n",
    "Пол: мужской\n",
    "<br>\n",
    "Возраст: 35-44  <br>\n",
    "Город: Ярославль\n",
    "<br>"
   ]
  },
  {
   "cell_type": "markdown",
   "metadata": {},
   "source": [
    "#### Топ-4 сегментов по оттоку и кредитные карты"
   ]
  },
  {
   "cell_type": "markdown",
   "metadata": {},
   "source": [
    "**Комментарий:** так как в пользу укрупнения сегментов я не стала дробить их на наличие/отсутствие кредитных карт, ниже я посчитаю по наиболее приоритетным сегментам, у скольких клиентов были кредитные карты:"
   ]
  },
  {
   "cell_type": "code",
   "execution_count": null,
   "metadata": {
    "scrolled": true
   },
   "outputs": [],
   "source": [
    "#Сегмент 3: кредитная карта у всего сегмента и уходящих клиентов:\n",
    "seg_03_card = segment_03.credit_card.value_counts().to_frame()\n",
    "seg_03_card = seg_03_card.rename(columns = {'credit_card': 'all_clients'})\n",
    "seg_03_card_churn = segment_03_churn.credit_card.value_counts().to_frame()\n",
    "seg_03_card_churn = seg_03_card_churn.rename(columns = {'credit_card': 'churn_clients'})\n",
    "seg_03_card_all = pd.concat([seg_03_card, seg_03_card_churn], axis=1)\n",
    "seg_03_card_all = seg_03_card_all.reset_index().rename(columns = {'index': 'credit_card'})\n",
    "seg_03_card_all['share_churn_of_all'] = ((seg_03_card_all['churn_clients'] / seg_03_card_all['churn_clients'].sum()) *100).round()\n",
    "seg_03_card_all"
   ]
  },
  {
   "cell_type": "markdown",
   "metadata": {},
   "source": [
    "**В сегменте №3:** 57% уходящих клиентов с картой, 43% - без карты."
   ]
  },
  {
   "cell_type": "code",
   "execution_count": null,
   "metadata": {
    "scrolled": true
   },
   "outputs": [],
   "source": [
    "#Сегмент 1: кредитная карта у всего сегмента и уходящих клиентов:\n",
    "seg_01_card = segment_01.credit_card.value_counts().to_frame()\n",
    "seg_01_card = seg_01_card.rename(columns = {'credit_card': 'all_clients'})\n",
    "seg_01_card_churn = segment_01_churn.credit_card.value_counts().to_frame()\n",
    "seg_01_card_churn = seg_01_card_churn.rename(columns = {'credit_card': 'churn_clients'})\n",
    "seg_01_card_all = pd.concat([seg_01_card, seg_01_card_churn], axis=1)\n",
    "seg_01_card_all = seg_01_card_all.reset_index().rename(columns = {'index': 'credit_card'})\n",
    "seg_01_card_all['share_churn_of_all'] = ((seg_01_card_all['churn_clients'] / seg_01_card_all['churn_clients'].sum())*100).round()\n",
    "seg_01_card_all"
   ]
  },
  {
   "cell_type": "markdown",
   "metadata": {},
   "source": [
    "**В сегменте №1:** 69% уходящих клиентов с картой, 31% - без карты."
   ]
  },
  {
   "cell_type": "code",
   "execution_count": null,
   "metadata": {},
   "outputs": [],
   "source": [
    "#Сегмент 4: кредитная карта у всего сегмента и уходящих клиентов:\n",
    "seg_04_card = segment_04.credit_card.value_counts().to_frame()\n",
    "seg_04_card = seg_04_card.rename(columns = {'credit_card': 'all_clients'})\n",
    "seg_04_card_churn = segment_04_churn.credit_card.value_counts().to_frame()\n",
    "seg_04_card_churn = seg_04_card_churn.rename(columns = {'credit_card': 'churn_clients'})\n",
    "seg_04_card_all = pd.concat([seg_04_card, seg_04_card_churn], axis=1)\n",
    "seg_04_card_all = seg_04_card_all.reset_index().rename(columns = {'index': 'credit_card'})\n",
    "seg_04_card_all['share_churn_of_all'] = ((seg_04_card_all['churn_clients'] / seg_04_card_all['churn_clients'].sum())*100).round()\n",
    "seg_04_card_all"
   ]
  },
  {
   "cell_type": "markdown",
   "metadata": {},
   "source": [
    "**В сегменте №4:** 55% уходящих клиентов с картой, 45% - без карты."
   ]
  },
  {
   "cell_type": "code",
   "execution_count": null,
   "metadata": {},
   "outputs": [],
   "source": [
    "#Сегмент 2: кредитная карта у всего сегмента и уходящих клиентов:\n",
    "seg_02_card = segment_02.credit_card.value_counts().to_frame()\n",
    "seg_02_card = seg_02_card.rename(columns = {'credit_card': 'all_clients'})\n",
    "seg_02_card_churn = segment_02_churn.credit_card.value_counts().to_frame()\n",
    "seg_02_card_churn = seg_02_card_churn.rename(columns = {'credit_card': 'churn_clients'})\n",
    "seg_02_card_all = pd.concat([seg_02_card, seg_02_card_churn], axis=1)\n",
    "seg_02_card_all = seg_02_card_all.reset_index().rename(columns = {'index': 'credit_card'})\n",
    "seg_02_card_all['share_churn_of_all'] = ((seg_02_card_all['churn_clients'] / seg_02_card_all['churn_clients'].sum())*100).round()\n",
    "seg_02_card_all"
   ]
  },
  {
   "cell_type": "markdown",
   "metadata": {},
   "source": [
    "**В сегменте №2:** 63% уходящих клиентов с картой, 37% - без карты."
   ]
  },
  {
   "cell_type": "markdown",
   "metadata": {},
   "source": [
    "#### Топ-4 сегментов по оттоку и зарплаты уходящих клиентов"
   ]
  },
  {
   "cell_type": "code",
   "execution_count": null,
   "metadata": {
    "scrolled": false
   },
   "outputs": [],
   "source": [
    "#Cегмент 3: зарплата уходящих клиентов\n",
    "fig = px.histogram(segment_03_churn, x=\"est_salary\", nbins=40, width=900, height=450, \n",
    "                   labels={\"est_salary\": \"Зарплата\", \"count\":'Количество'},\n",
    "                title=\"Сегмент 3: зарплата уходящих клиентов\")\n",
    "fig.update_xaxes(tick0=0, dtick=10000,  range=(15000, 400000))\n",
    "fig.update_yaxes(tick0=0, dtick=10,  range=(0,100))\n",
    "fig.update_layout(xaxis_title='Примерный размер зарплаты',\n",
    "                   yaxis_title='Количество уходящих клиентов сегмента') \n",
    "pio.show(fig, renderer='png', width=900, scale=1.2)\n",
    "print('Сегмент 3, средняя зарплата уходящих:', segment_03_churn['est_salary'].mean().round())"
   ]
  },
  {
   "cell_type": "code",
   "execution_count": null,
   "metadata": {},
   "outputs": [],
   "source": [
    "#Cегмент 1: зарплата уходящих клиентов\n",
    "fig = px.histogram(segment_01_churn, x=\"est_salary\", nbins=40, width=900, height=450, \n",
    "                   labels={\"est_salary\": \"Зарплата\", \"count\":'Количество'},\n",
    "                title=\"Сегмент 1: зарплата уходящих клиентов\")\n",
    "fig.update_xaxes(tick0=0, dtick=10000,  range=(15000, 400000))\n",
    "fig.update_yaxes(tick0=0, dtick=10,  range=(0,100))\n",
    "fig.update_layout(xaxis_title='Примерный размер зарплаты',\n",
    "                   yaxis_title='Количество уходящих клиентов сегмента') \n",
    "pio.show(fig, renderer='png', width=900, scale=1.2)\n",
    "print('Сегмент 1, средняя зарплата уходящих:', segment_01_churn['est_salary'].mean().round())"
   ]
  },
  {
   "cell_type": "code",
   "execution_count": null,
   "metadata": {},
   "outputs": [],
   "source": [
    "#Cегмент 4: зарплата уходящих клиентов\n",
    "fig = px.histogram(segment_04_churn, x=\"est_salary\", nbins=40, width=900, height=450, \n",
    "                   labels={\"est_salary\": \"Зарплата\", \"count\":'Количество'},\n",
    "                title=\"Сегмент 4: зарплата уходящих клиентов\")\n",
    "fig.update_xaxes(tick0=0, dtick=10000,  range=(15000, 400000))\n",
    "fig.update_yaxes(tick0=0, dtick=10,  range=(0,100))\n",
    "fig.update_layout(xaxis_title='Примерный размер зарплаты',\n",
    "                   yaxis_title='Количество уходящих клиентов сегмента') \n",
    "pio.show(fig, renderer='png', width=900, scale=1.2)\n",
    "print('Сегмент 4, средняя зарплата уходящих:', segment_04_churn['est_salary'].mean().round())"
   ]
  },
  {
   "cell_type": "code",
   "execution_count": null,
   "metadata": {
    "scrolled": false
   },
   "outputs": [],
   "source": [
    "#Cегмент 2: зарплата уходящих клиентов\n",
    "fig = px.histogram(segment_02_churn, x=\"est_salary\", nbins=40, width=900, height=450, \n",
    "                   labels={\"est_salary\": \"Зарплата\", \"count\":'Количество'},\n",
    "                title=\"Сегмент 2: зарплата уходящих клиентов\")\n",
    "fig.update_xaxes(tick0=0, dtick=10000,  range=(15000, 400000))\n",
    "fig.update_yaxes(tick0=0, dtick=10,  range=(0,100))\n",
    "fig.update_layout(xaxis_title='Примерный размер зарплаты',\n",
    "                   yaxis_title='Количество уходящих клиентов сегмента') \n",
    "pio.show(fig, renderer='png', width=900, scale=1.2)\n",
    "print('Сегмент 2, средняя зарплата уходящих:', segment_02_churn['est_salary'].mean().round())"
   ]
  },
  {
   "cell_type": "markdown",
   "metadata": {},
   "source": [
    "#### Топ-4 сегмента, средний баланс уходящих:"
   ]
  },
  {
   "cell_type": "code",
   "execution_count": null,
   "metadata": {},
   "outputs": [],
   "source": [
    "#Топ-4 сегмента, средний баланс уходящих:\n",
    "print('Сегмент 3, средний баланс уходящих:', segment_03_churn['balance'].mean().round())\n",
    "print('Сегмент 1, средний баланс уходящих:', segment_01_churn['balance'].mean().round())\n",
    "print('Сегмент 4, средний баланс уходящих:', segment_04_churn['balance'].mean().round())\n",
    "print('Сегмент 2, средний баланс уходящих:', segment_02_churn['balance'].mean().round())"
   ]
  },
  {
   "cell_type": "markdown",
   "metadata": {},
   "source": [
    "#### Топ-4 сегмента, количество продуктов у уходящих:"
   ]
  },
  {
   "cell_type": "code",
   "execution_count": null,
   "metadata": {
    "scrolled": true
   },
   "outputs": [],
   "source": [
    "seg_03_products = segment_03_churn.products.value_counts().to_frame()\n",
    "seg_03_products = seg_03_products.reset_index()\n",
    "display(seg_03_products)\n",
    "print('Сегмент 3, в среднем продуктов у уходящих:', seg_03_products['index'].mean().round())"
   ]
  },
  {
   "cell_type": "code",
   "execution_count": null,
   "metadata": {},
   "outputs": [],
   "source": [
    "seg_01_products = segment_01_churn.products.value_counts().to_frame()\n",
    "seg_01_products = seg_01_products.reset_index()\n",
    "display(seg_01_products)\n",
    "print('Сегмент 1, в среднем продуктов у уходящих:', seg_01_products['index'].mean().round())"
   ]
  },
  {
   "cell_type": "code",
   "execution_count": null,
   "metadata": {},
   "outputs": [],
   "source": [
    "seg_04_products = segment_04_churn.products.value_counts().to_frame()\n",
    "seg_04_products = seg_04_products.reset_index()\n",
    "display(seg_04_products)\n",
    "print('Сегмент 4, в среднем продуктов у уходящих:', seg_04_products['index'].mean().round())"
   ]
  },
  {
   "cell_type": "code",
   "execution_count": null,
   "metadata": {},
   "outputs": [],
   "source": [
    "seg_02_products = segment_02_churn.products.value_counts().to_frame()\n",
    "seg_02_products = seg_02_products.reset_index()\n",
    "display(seg_02_products)\n",
    "print('Сегмент 2, в среднем продуктов у уходящих:', seg_02_products['index'].mean().round())"
   ]
  },
  {
   "cell_type": "markdown",
   "metadata": {},
   "source": [
    "#### Топ-4 сегмента, средняя оценка собственности у уходящих:"
   ]
  },
  {
   "cell_type": "code",
   "execution_count": null,
   "metadata": {},
   "outputs": [],
   "source": [
    "#Топ-4 сегмента, средняя оценка собственности у уходящих:\n",
    "print('Сегмент 3, средняя оценка собственности у уходящих:', segment_03_churn['equity'].mean().round())\n",
    "print('Сегмент 1, средняя оценка собственности у уходящих:', segment_01_churn['equity'].mean().round())\n",
    "print('Сегмент 4, средняя оценка собственности у уходящих:', segment_04_churn['equity'].mean().round())\n",
    "print('Сегмент 2, средняя оценка собственности у уходящих:', segment_02_churn['equity'].mean().round())"
   ]
  },
  {
   "cell_type": "markdown",
   "metadata": {},
   "source": [
    "#### Портрет. Промежуточный вывод: <br>\n",
    "Примерный портрет клиента, который склонен уходить из банка, по итогам сегментации можно описать так:<br>\n",
    "Мужчина от 25 до 44 лет из Ярославля, с оценкой объектов собственности от 1 до 7, скоринговый рейтинг от 750, используемыми продуктами от 1 до 5. Скорее пользуется кредитной картой, чем нет.\n",
    "\n",
    "Если добавить предыдущее исследование именно уходящих клиентов, то мы убедились в его правильности. <br> <br>\n",
    "\n",
    "**Резюмируя все вместе, портрет уходящего клиента таков:**\n",
    "* активный за последние 30 дней.\n",
    "* мужчина (65%).\n",
    "* из Ярославля (61,4%).\n",
    "* 25-34, 35-45 или 45-60 лет, в среднем - 34 года.\n",
    "* с зарплатой 101-200 тыс. руб, средняя - 159 тыс. руб.\n",
    "* с 2-3 продуктами.\n",
    "* с оценкой собственности от 4 до 7, средняя - 4.\n",
    "* со средним балансом на счете в 1,27 млн. руб.\n",
    "* с баллами кредитного скоринга от 750 и выше.\n",
    "* скорее всего есть кредитная карта (минимум у 55% уходящих клиентов по топ-4 сегментам она есть)."
   ]
  },
  {
   "cell_type": "markdown",
   "metadata": {},
   "source": [
    "## Статистический анализ данных и проверка гипотез:"
   ]
  },
  {
   "cell_type": "markdown",
   "metadata": {},
   "source": [
    "### Формулирование первой гипотезы о различии дохода между теми клиентами, которые ушли и теми, которые остались. Её проверка."
   ]
  },
  {
   "cell_type": "markdown",
   "metadata": {},
   "source": [
    "Формулируем гипотезу о различии среднего дохода: <br> <br>\n",
    "H0: средние доходы остающихся и уходящих клиентов **равны.** <br>\n",
    "H1: средние доходы остающихся и уходящих клиентов **не равны.**\n",
    "<br>\n",
    "Поскольку мы проверяем гипотезу о равенстве среднего двух неравных генеральных совокупностей, применим метод .ttest_ind() с условием equal_var=False из библиотеки scipy.stats:"
   ]
  },
  {
   "cell_type": "code",
   "execution_count": null,
   "metadata": {},
   "outputs": [],
   "source": [
    "#Гипотеза 1: средние доходы остающихся и уходящих клиентов различаются.\n",
    "#H0: средние доходы равны, Н1: средние доходы не равны:\n",
    "\n",
    "churn_test = new_data[new_data['churn']==1]['est_salary']\n",
    "remained_test = new_data[new_data['churn']==0]['est_salary']\n",
    "alpha = .05\n",
    "results = st.ttest_ind(churn_test, remained_test, equal_var=False)\n",
    "\n",
    "print('p-значение:', results.pvalue)\n",
    "\n",
    "if results.pvalue < alpha:\n",
    "    print(\"H0 следует опровергнуть. Средние доходы остающихся и уходящих клиентов различаются.\")\n",
    "else:\n",
    "    print(\"H0 следует принять. Средние доходы остающихся и уходящих клиентов равны.\")"
   ]
  },
  {
   "cell_type": "markdown",
   "metadata": {},
   "source": [
    "**Вывод:**<br>\n",
    "Проведенный тест показал, что нулевую гипотезу об отсутствии различий в средних доходах остающихся и уходящих клиентов следует принять."
   ]
  },
  {
   "cell_type": "markdown",
   "metadata": {},
   "source": [
    "### Формулирование второй гипотезы, её проверка.\n"
   ]
  },
  {
   "cell_type": "markdown",
   "metadata": {},
   "source": [
    "В качестве второй проверю гипотезу о среднем возрасте клиентов: <br> <br>\n",
    "H0: средний возраст остающихся и уходящих клиентов **равен.** <br>\n",
    "H1: средний возраст остающихся и уходящих клиентов **не равен.**"
   ]
  },
  {
   "cell_type": "code",
   "execution_count": null,
   "metadata": {},
   "outputs": [],
   "source": [
    "#Гипотеза 2: средний возраст остающихся и уходящих клиентов различается.\n",
    "#H0: средний возраст равен, Н1: средний возраст не равен:\n",
    "\n",
    "churn_test = new_data[new_data['churn']==1]['age']\n",
    "remained_test = new_data[new_data['churn']==0]['age']\n",
    "alpha = .05\n",
    "results = st.ttest_ind(churn_test, remained_test, equal_var=False)\n",
    "\n",
    "print('p-значение:', results.pvalue)\n",
    "\n",
    "if results.pvalue < alpha:\n",
    "    print(\"H0 следует опровергнуть. Средний возраст остающихся и уходящих клиентов различается.\")\n",
    "else:\n",
    "    print(\"H0 следует принять. Средний возраст остающихся и уходящих клиентов равен.\")"
   ]
  },
  {
   "cell_type": "markdown",
   "metadata": {},
   "source": [
    "**Вывод:** <br>\n",
    "Проведенный тест показал, что нулевую гипотезу об отсутствии различий в возрасте остающихся и уходящих клиентов следует опровергнуть."
   ]
  },
  {
   "cell_type": "markdown",
   "metadata": {},
   "source": [
    "### Формулирование третьей гипотезы, её проверка.\n"
   ]
  },
  {
   "cell_type": "markdown",
   "metadata": {},
   "source": [
    "В качестве третьей проверю гипотезу о кредитной карте клиентов: <br> <br>\n",
    "H0: среднее количество кредитных карт у остающихся и уходящих клиентов **равно.** <br>\n",
    "H1: среднее количество кредитных карт у остающихся и уходящих клиентов **не равно.**"
   ]
  },
  {
   "cell_type": "code",
   "execution_count": null,
   "metadata": {},
   "outputs": [],
   "source": [
    "#Гипотеза 3: среднее количество кредитных карт у остающихся и уходящих клиентов различается.\n",
    "#H0: среднее количество кредитных карт равно, Н1: среднее количество кредитных карт не равно:\n",
    "\n",
    "churn_test = new_data[new_data['churn']==1]['credit_card']\n",
    "remained_test = new_data[new_data['churn']==0]['credit_card']\n",
    "alpha = .05\n",
    "results = st.ttest_ind(churn_test, remained_test, equal_var=False)\n",
    "\n",
    "print('p-значение:', results.pvalue)\n",
    "\n",
    "if results.pvalue < alpha:\n",
    "    print(\"H0 следует опровергнуть. Cреднее количество кредитных карт у остающихся и уходящих клиентов различается.\")\n",
    "else:\n",
    "    print(\"H0 следует принять. Cреднее количество кредитных карт у остающихся и уходящих клиентов равно.\")"
   ]
  },
  {
   "cell_type": "markdown",
   "metadata": {},
   "source": [
    "### Промежуточный вывод"
   ]
  },
  {
   "cell_type": "markdown",
   "metadata": {},
   "source": [
    "Было сформулировано три гипотезы:\n",
    "\n",
    "1. Средние доходы остающихся и уходящих клиентов равны. **H0 принята.**\n",
    "2. Средний возраст остающихся и уходящих клиентов равен. **H0 опровергнута.**\n",
    "3. Среднее количество кредитных карт у остающихся и уходящих клиентов равно. **H0 опровергнута.**\n",
    "\n",
    "В итоге две из трех нулевых гипотез опровергнуты."
   ]
  },
  {
   "cell_type": "markdown",
   "metadata": {},
   "source": [
    "## Рекомендации отделу маркетинга"
   ]
  },
  {
   "cell_type": "markdown",
   "metadata": {},
   "source": [
    "#### Рекомендации отделу маркетинга по работе с уходящими клиентами"
   ]
  },
  {
   "cell_type": "markdown",
   "metadata": {},
   "source": [
    "**Сегмент №3:** - уходит 36,6% клиентов\n",
    "<br>\n",
    "Пол: мужской <br>\n",
    "Возраст: 45-60 <br>\n",
    "Город: Ярославль, Рыбинск и Ростов <br>\n",
    "Средняя зарплата: 146 тыс. руб. <br>\n",
    "Средний баланс на счете: 1,52 млн. руб. <br>\n",
    "Банковские продукты: 2-3 <br>\n",
    "Кредитная карта: есть у 57% уходящих <br>\n",
    "<br>\n",
    "**Рекомендации для сегмента №3:**\n",
    "- специальные условия по страхованию жизни;\n",
    "- специальные условия по страхованию недвижимости;\n",
    "- специальные условия по страхованию автомобиля;\n",
    "- рекомендации по участию в ПИФах банка на акции и облигации с высокой защитой для накопления будущей части пенсии;\n",
    "- рекомендации по открытию инвестиционного счета в банке с переводом суммы, которую не покрывает страховка вкладов (до 1,2 млн) на счет ИИС для дальнейшего получения налогового вычета в течение 3 лет в размере 13% от суммы на инвестсчете;\n",
    "\n",
    "<br><br>\n",
    "**Сегмент №1:** - уходит 36,2% клиентов\n",
    "<br>\n",
    "Пол: мужской <br>\n",
    "Возраст: 25-34  <br>\n",
    "Город: Ярославль <br>\n",
    "Средняя зарплата: 154 тыс. руб. <br>\n",
    "Средний баланс на счете: 1,17 млн. руб. <br>\n",
    "Банковские продукты: 2-3 <br>\n",
    "Кредитная карта: есть у 69% уходящих <br>\n",
    "<br>\n",
    "**Рекомендации для сегмента №3:**\n",
    "- специальные условия по потребительскому кредиту на ближайший год;\n",
    "- специальные условия по зарплатному проекту (например, кэшбек 2% с каждой зарплаты на следующие полгода);\n",
    "- рекомендации по открытию инвестиционного счета в банке с последующим сопровождением сделок сотрудниками инвестотдела банка;\n",
    "- повышенный кэшбек по кредитной карте на следующие полгода на все категории покупок (5%);\n",
    "- удлиненный период беспроцентного пользования кредитной картой на следующий год;\n",
    "- внесение в стоп-лист колл-центра банка, чтобы лишний раз не раздражать предложениями.\n",
    "\n",
    "<br><br>\n",
    "**Сегмент №4:** - уходит 29,9% клиентов\n",
    "<br>\n",
    "Пол: мужской <br>\n",
    "Возраст: 25-44  <br>\n",
    "Город: не Ярославль (Рыбинск и Ростов) <br>\n",
    "Средняя зарплата: 139 тыс. руб. <br>\n",
    "Средний баланс на счете: 922 тыс. руб. <br>\n",
    "Банковские продукты: 2-3 <br>\n",
    "Кредитная карта: есть у 55% уходящих <br>\n",
    "\n",
    "**Рекомендации для сегмента №4:**\n",
    "- специальные условия по потребительскому кредиту на ближайший год;\n",
    "- специальные условия по ипотеке на ближайший год;\n",
    "- специальные условия по страхованию автомобиля;\n",
    "- рекомендации по участию в ПИФах банка на акции и облигации с умеренным риском и повышенной доходностью для формирования капитала;\n",
    "- рекомендации по открытию инвестиционного счета в банке с последующим сопровождением сделок сотрудниками инвестотдела банка;\n",
    "- повышенный кэшбек по кредитной карте на следующие полгода на все категории покупок (5%);\n",
    "- удлиненный период беспроцентного пользования кредитной картой на следующий год.\n",
    "\n",
    "<br><br>\n",
    "**Сегмент №2:** - уходит 29% клиентов\n",
    "<br>\n",
    "Пол: мужской<br>\n",
    "Возраст: 35-44  <br>\n",
    "Город: Ярославль  <br>\n",
    "Средняя зарплата: 196 тыс. руб. <br>\n",
    "Средний баланс на счете: 1,49 млн. руб. <br>\n",
    "Банковские продукты: 2-3 <br>\n",
    "Кредитная карта: есть у 63% уходящих <br>\n",
    "<br>\n",
    "\n",
    "**Рекомендации для сегмента №2:**\n",
    "- специальные условия по ипотеке на ближайший год;\n",
    "- специальные условия по зарплатному проекту (например, кэшбек 2% с каждой зарплаты на следующие полгода);\n",
    "- специальные условия по страхованию автомобиля;\n",
    "- рекомендации по участию в ПИФах банка на акции и облигации с умеренным риском и повышенной доходностью для формирования капитала;\n",
    "- рекомендации по открытию инвестиционного счета в банке с переводом суммы, которую не покрывает страховка вкладов (до 1,2 млн) на счет ИИС для дальнейшего получения налогового вычета в течение 3 лет в размере 13% от суммы на инвестсчете;\n",
    "- удлиненный период беспроцентного пользования кредитной картой на следующий год.\n"
   ]
  },
  {
   "cell_type": "markdown",
   "metadata": {},
   "source": [
    "## Общий вывод"
   ]
  },
  {
   "cell_type": "markdown",
   "metadata": {},
   "source": [
    "**Целью данного проекта** являлось проведение анализа клиентов банка и выявление сегментов клиентов, наиболее склонных к уходу из банка. <br><br>\n",
    "Цель проекта считаю выполненной: проведен подробный исследовательский анализ данных с их предварительной обработкой, выявлены топ-4 сегмента, в которых треть клиентов склонна к уходу. Данные сегменты описаны детально. Предоставлены рекомендации отделу маркетинга по дальнейшей работе с уходящими клиентами.\n",
    "<br><br>\n",
    "В процессе работы для достижения цели были **выполнены следующие задачи:**\n",
    "1. Проведение исследовательского анализа данных.\n",
    "2. Выделение портретов клиентов, которые склонны уходить из банка.\n",
    "3. Формулировка и проверка статистических гипотез.\n",
    "<br><br>\n",
    "**Результаты выполненных задач:**\n",
    "<br><br>\n",
    "**1. По итогам исследовательского анализа данных сформулированы следующие наблюдения:**\n",
    "* Из банка собирается уходить 18,3% клиентов или 1818 человек.\n",
    "* Скоринговые баллы уходящих, два основных диапазона - 750-860 и 861-950.\n",
    "* Средний арифметический балл скоринга остающихся - 845, уходящих - 863.\n",
    "* Минимальный балл скоринга остающихся - 642, уходящих - 706.\n",
    "* Из всех уходящих 61,4% - Ярославль, 24% - Рыбинск, 14,6% - Ростов.\n",
    "* Среди уходящих доля мужчин существенно выше, чем женщин - 65% против 34.9%.\n",
    "* Возрастной пик уходящих - 34 года. Два основных диапазона уходящих: 25-34 и 35-44.\n",
    "* Средний возраст уходящих - 41,4 года. Остающихся - 43 года.\n",
    "* Среди уходящих клиентов преобладают оценки собственности 5, 4, 3. С оценкой 5 - 31% уходящих, 4 - 25,5%, 3 - 17,6%.\n",
    "* Среди остающихся и среди уходящих баланс на счете преимущественно 200-300 тыс. руб, на втором месте - 400-500 тыс. руб.\n",
    "* Средний арифметический баланс уходящих существенно выше, чем остающихся - 1 134 457 руб. против 733 тыс руб.\n",
    "* Доля баланса уходящих от суммарного баланса всех клиентов банка - 32%.\n",
    "* Большинство клиентов использует 2 продукта.\n",
    "* 53,7% уходящих использует 2 продукта. 16,5% - три продукта.\n",
    "* Среди уходящих клиентов больше половины (55%) пользуются кредитной картой.\n",
    "* Доля использующих кредитную карту среди всех клиентов - 68%.\n",
    "* 70% уходящих клиентов активны. Среди остающихся активны лишь 51,6% клиентов.\n",
    "* Больше всего уходящих с зарплатой в диапазоне 100-200 тыс., на 2-м месте диапазон 15-100 тыс, а на 3-м - 200-300 тыс.\n",
    "* Средняя арифметическая зарплата остающихся и уходящих не сильно отличается, +- 148 тыс. рублей.\n",
    "<br><br>\n",
    "\n",
    "**2. По итогам анализа данных, построения матрицы корреляции и сегментации описан портрет клиентов, склонных уходить из банка:**\n",
    "<br>\n",
    "* активный за последние 30 дней\n",
    "* мужчина (65%)\n",
    "* из Ярославля (61,4%)\n",
    "* 25-34, 35-45 или 45-60 лет, в среднем - 34 года\n",
    "* с зарплатой 101-200 тыс. руб, средняя - 159 тыс. руб\n",
    "* с 2-3 продуктами\n",
    "* с оценкой собственности от 4 до 7, средняя - 4\n",
    "* со средним балансом на счете в 1,27 млн. руб.\n",
    "* с баллами кредитного скоринга от 750 и выше\n",
    "* скорее всего есть кредитная карта (минимум у 55% уходящих клиентов по топ-4 сегментам она есть).\n",
    "<br><br>\n",
    "\n",
    "**Результат сегментации:**\n",
    "\n",
    "1. Семь сегментов от 671 до 1166 чел. охватили в сумме 6240 всех клиентов, из которых 1616 клиентов уходящие.\n",
    "2. Получается, что в 7 сегментов попали 88,9% всех уходящих клиентов банка.\n",
    "3. При этом количество всех рассмотренных клиентов составляет 62,9% от общего их числа.\n",
    "4. Лучшие сегменты (доля уходящих - треть): 3, 1, 4, 2.\n",
    "<br><br>\n",
    "**3. Было сформулировано и проверено три гипотезы:**\n",
    "1. Средние доходы остающихся и уходящих клиентов равны. H0 принята: средние доходы равны.\n",
    "2. Средний возраст остающихся и уходящих клиентов равен. H0 опровергнута: средний возраст различается.\n",
    "3. Среднее количество кредитных карт у остающихся и уходящих клиентов равно. H0 опровергнута: среднее количество кредиток различается.\n",
    "\n",
    "Искренне надеюсь, что предоставленный анализ позволит банку решить проблему с уходящими клиентами в кратчайшие сроки и максимально эффективно.\n",
    "\n"
   ]
  },
  {
   "cell_type": "markdown",
   "metadata": {},
   "source": [
    "<a href=\"https://disk.yandex.ru/d/UvONSenpUyrlwQ\">Ссылка на презентацию</a><br>\n",
    "<a href=\"https://public.tableau.com/shared/HZCF2GWB9?:display_count=n&:origin=viz_share_link\">Ссылка на дашборд Tableau</a>"
   ]
  },
  {
   "cell_type": "markdown",
   "metadata": {},
   "source": [
    "**Спасибо за внимание!**"
   ]
  }
 ],
 "metadata": {
  "ExecuteTimeLog": [
   {
    "duration": 1512,
    "start_time": "2023-06-18T19:08:16.650Z"
   },
   {
    "duration": 1039,
    "start_time": "2023-06-18T19:09:57.142Z"
   },
   {
    "duration": 17,
    "start_time": "2023-06-18T19:10:42.401Z"
   },
   {
    "duration": 167,
    "start_time": "2023-06-18T19:12:22.080Z"
   },
   {
    "duration": 5,
    "start_time": "2023-06-18T19:12:44.894Z"
   },
   {
    "duration": 4,
    "start_time": "2023-06-18T19:14:46.966Z"
   },
   {
    "duration": 11,
    "start_time": "2023-06-18T19:39:05.752Z"
   },
   {
    "duration": 8,
    "start_time": "2023-06-18T19:39:52.682Z"
   },
   {
    "duration": 9,
    "start_time": "2023-06-18T19:41:00.652Z"
   },
   {
    "duration": 5,
    "start_time": "2023-06-18T19:41:10.580Z"
   },
   {
    "duration": 6,
    "start_time": "2023-06-18T19:41:22.953Z"
   },
   {
    "duration": 98,
    "start_time": "2023-06-18T19:43:09.512Z"
   },
   {
    "duration": 7,
    "start_time": "2023-06-18T19:43:14.250Z"
   },
   {
    "duration": 16,
    "start_time": "2023-06-18T19:43:30.656Z"
   },
   {
    "duration": 4,
    "start_time": "2023-06-18T19:43:41.491Z"
   },
   {
    "duration": 8,
    "start_time": "2023-06-18T19:45:12.550Z"
   },
   {
    "duration": 4,
    "start_time": "2023-06-18T19:45:17.753Z"
   },
   {
    "duration": 5,
    "start_time": "2023-06-18T19:45:22.624Z"
   },
   {
    "duration": 9,
    "start_time": "2023-06-18T19:46:59.151Z"
   },
   {
    "duration": 8,
    "start_time": "2023-06-18T19:47:43.497Z"
   },
   {
    "duration": 8,
    "start_time": "2023-06-18T19:47:46.010Z"
   },
   {
    "duration": 25,
    "start_time": "2023-06-18T19:49:49.002Z"
   },
   {
    "duration": 17,
    "start_time": "2023-06-18T19:51:21.466Z"
   },
   {
    "duration": 18,
    "start_time": "2023-06-18T19:51:56.754Z"
   },
   {
    "duration": 19,
    "start_time": "2023-06-18T19:52:25.880Z"
   },
   {
    "duration": 5,
    "start_time": "2023-06-18T19:54:32.984Z"
   },
   {
    "duration": 11,
    "start_time": "2023-06-18T19:54:40.189Z"
   },
   {
    "duration": 5,
    "start_time": "2023-06-18T19:54:45.627Z"
   },
   {
    "duration": 4,
    "start_time": "2023-06-18T19:54:56.517Z"
   },
   {
    "duration": 4,
    "start_time": "2023-06-18T19:55:18.736Z"
   },
   {
    "duration": 5,
    "start_time": "2023-06-18T19:59:00.381Z"
   },
   {
    "duration": 5,
    "start_time": "2023-06-18T20:00:46.343Z"
   },
   {
    "duration": 5,
    "start_time": "2023-06-18T20:00:51.923Z"
   },
   {
    "duration": 4,
    "start_time": "2023-06-18T20:10:53.910Z"
   },
   {
    "duration": 17,
    "start_time": "2023-06-18T20:11:32.797Z"
   },
   {
    "duration": 5,
    "start_time": "2023-06-18T20:29:58.127Z"
   },
   {
    "duration": 5,
    "start_time": "2023-06-18T20:30:24.297Z"
   },
   {
    "duration": 6,
    "start_time": "2023-06-18T20:32:23.104Z"
   },
   {
    "duration": 7,
    "start_time": "2023-06-18T20:32:37.125Z"
   },
   {
    "duration": 5,
    "start_time": "2023-06-18T20:38:46.403Z"
   },
   {
    "duration": 6,
    "start_time": "2023-06-18T20:40:35.409Z"
   },
   {
    "duration": 4,
    "start_time": "2023-06-18T20:42:03.544Z"
   },
   {
    "duration": 5,
    "start_time": "2023-06-18T20:42:32.410Z"
   },
   {
    "duration": 5,
    "start_time": "2023-06-18T20:42:49.435Z"
   },
   {
    "duration": 4,
    "start_time": "2023-06-18T20:44:06.774Z"
   },
   {
    "duration": 5,
    "start_time": "2023-06-18T20:44:20.055Z"
   },
   {
    "duration": 1201,
    "start_time": "2023-06-18T20:47:08.970Z"
   },
   {
    "duration": 5,
    "start_time": "2023-06-18T20:47:38.836Z"
   },
   {
    "duration": 1193,
    "start_time": "2023-06-18T20:48:53.602Z"
   },
   {
    "duration": 1194,
    "start_time": "2023-06-18T20:48:54.798Z"
   },
   {
    "duration": 3,
    "start_time": "2023-06-18T20:48:55.994Z"
   },
   {
    "duration": 19,
    "start_time": "2023-06-18T20:48:55.998Z"
   },
   {
    "duration": 11,
    "start_time": "2023-06-18T20:48:56.019Z"
   },
   {
    "duration": 21,
    "start_time": "2023-06-18T20:48:56.031Z"
   },
   {
    "duration": 24,
    "start_time": "2023-06-18T20:48:56.054Z"
   },
   {
    "duration": 5,
    "start_time": "2023-06-18T20:48:56.080Z"
   },
   {
    "duration": 7,
    "start_time": "2023-06-18T20:48:56.087Z"
   },
   {
    "duration": 23,
    "start_time": "2023-06-18T20:48:56.096Z"
   },
   {
    "duration": 12,
    "start_time": "2023-06-18T20:48:56.121Z"
   },
   {
    "duration": 13,
    "start_time": "2023-06-18T20:48:56.134Z"
   },
   {
    "duration": 22,
    "start_time": "2023-06-18T20:48:56.149Z"
   },
   {
    "duration": 5,
    "start_time": "2023-06-18T20:48:56.173Z"
   },
   {
    "duration": 15,
    "start_time": "2023-06-18T20:48:56.179Z"
   },
   {
    "duration": 11,
    "start_time": "2023-06-18T20:48:56.196Z"
   },
   {
    "duration": 12,
    "start_time": "2023-06-18T20:48:56.208Z"
   },
   {
    "duration": 18,
    "start_time": "2023-06-18T20:48:56.221Z"
   },
   {
    "duration": 14,
    "start_time": "2023-06-18T20:48:56.240Z"
   },
   {
    "duration": 35,
    "start_time": "2023-06-18T20:48:56.255Z"
   },
   {
    "duration": 21,
    "start_time": "2023-06-18T20:57:48.807Z"
   },
   {
    "duration": 3,
    "start_time": "2023-06-18T20:58:39.297Z"
   },
   {
    "duration": 12,
    "start_time": "2023-06-18T21:01:47.105Z"
   },
   {
    "duration": 19,
    "start_time": "2023-06-18T21:01:54.589Z"
   },
   {
    "duration": 18,
    "start_time": "2023-06-18T21:02:02.175Z"
   },
   {
    "duration": 5,
    "start_time": "2023-06-18T21:04:09.397Z"
   },
   {
    "duration": 4,
    "start_time": "2023-06-18T21:06:13.842Z"
   },
   {
    "duration": 4,
    "start_time": "2023-06-18T21:07:36.493Z"
   },
   {
    "duration": 5,
    "start_time": "2023-06-18T21:07:44.846Z"
   },
   {
    "duration": 4,
    "start_time": "2023-06-18T21:07:54.897Z"
   },
   {
    "duration": 4,
    "start_time": "2023-06-18T21:08:09.879Z"
   },
   {
    "duration": 5,
    "start_time": "2023-06-18T21:08:23.658Z"
   },
   {
    "duration": 5,
    "start_time": "2023-06-18T21:09:21.431Z"
   },
   {
    "duration": 5,
    "start_time": "2023-06-18T21:10:39.793Z"
   },
   {
    "duration": 7,
    "start_time": "2023-06-18T21:11:23.838Z"
   },
   {
    "duration": 8,
    "start_time": "2023-06-18T21:11:47.282Z"
   },
   {
    "duration": 8,
    "start_time": "2023-06-18T21:12:22.093Z"
   },
   {
    "duration": 6,
    "start_time": "2023-06-18T21:13:16.463Z"
   },
   {
    "duration": 5,
    "start_time": "2023-06-18T21:13:51.662Z"
   },
   {
    "duration": 5,
    "start_time": "2023-06-18T21:14:04.369Z"
   },
   {
    "duration": 17,
    "start_time": "2023-06-18T21:15:06.058Z"
   },
   {
    "duration": 5,
    "start_time": "2023-06-18T21:15:08.311Z"
   },
   {
    "duration": 6,
    "start_time": "2023-06-18T21:15:10.433Z"
   },
   {
    "duration": 4,
    "start_time": "2023-06-18T21:15:11.481Z"
   },
   {
    "duration": 4,
    "start_time": "2023-06-18T21:15:11.993Z"
   },
   {
    "duration": 4,
    "start_time": "2023-06-18T21:15:13.589Z"
   },
   {
    "duration": 17,
    "start_time": "2023-06-18T21:21:52.720Z"
   },
   {
    "duration": 11,
    "start_time": "2023-06-18T21:26:50.290Z"
   },
   {
    "duration": 13,
    "start_time": "2023-06-18T21:27:08.898Z"
   },
   {
    "duration": 10,
    "start_time": "2023-06-18T21:27:16.845Z"
   },
   {
    "duration": 13,
    "start_time": "2023-06-18T21:27:21.709Z"
   },
   {
    "duration": 14,
    "start_time": "2023-06-18T21:27:27.869Z"
   },
   {
    "duration": 2,
    "start_time": "2023-06-18T21:27:30.428Z"
   },
   {
    "duration": 17,
    "start_time": "2023-06-18T21:27:42.769Z"
   },
   {
    "duration": 3,
    "start_time": "2023-06-18T21:27:43.831Z"
   },
   {
    "duration": 11,
    "start_time": "2023-06-18T21:27:58.501Z"
   },
   {
    "duration": 71,
    "start_time": "2023-06-18T21:28:24.491Z"
   },
   {
    "duration": 12,
    "start_time": "2023-06-18T21:28:30.589Z"
   },
   {
    "duration": 15,
    "start_time": "2023-06-18T21:29:08.697Z"
   },
   {
    "duration": 11,
    "start_time": "2023-06-18T21:29:24.087Z"
   },
   {
    "duration": 11,
    "start_time": "2023-06-18T21:33:43.320Z"
   },
   {
    "duration": 9,
    "start_time": "2023-06-18T21:33:54.614Z"
   },
   {
    "duration": 13,
    "start_time": "2023-06-18T21:35:11.937Z"
   },
   {
    "duration": 10,
    "start_time": "2023-06-18T21:35:58.142Z"
   },
   {
    "duration": 1161,
    "start_time": "2023-06-19T05:56:37.849Z"
   },
   {
    "duration": 1113,
    "start_time": "2023-06-19T05:56:39.012Z"
   },
   {
    "duration": 4,
    "start_time": "2023-06-19T05:56:40.127Z"
   },
   {
    "duration": 24,
    "start_time": "2023-06-19T05:56:40.133Z"
   },
   {
    "duration": 7,
    "start_time": "2023-06-19T05:56:40.159Z"
   },
   {
    "duration": 28,
    "start_time": "2023-06-19T05:56:40.167Z"
   },
   {
    "duration": 7,
    "start_time": "2023-06-19T05:56:40.196Z"
   },
   {
    "duration": 37,
    "start_time": "2023-06-19T05:56:40.204Z"
   },
   {
    "duration": 25,
    "start_time": "2023-06-19T05:56:40.243Z"
   },
   {
    "duration": 22,
    "start_time": "2023-06-19T05:56:40.270Z"
   },
   {
    "duration": 11,
    "start_time": "2023-06-19T05:56:40.294Z"
   },
   {
    "duration": 9,
    "start_time": "2023-06-19T05:56:40.307Z"
   },
   {
    "duration": 19,
    "start_time": "2023-06-19T05:56:40.317Z"
   },
   {
    "duration": 18,
    "start_time": "2023-06-19T05:56:40.339Z"
   },
   {
    "duration": 7,
    "start_time": "2023-06-19T05:56:40.359Z"
   },
   {
    "duration": 8,
    "start_time": "2023-06-19T05:56:40.367Z"
   },
   {
    "duration": 16,
    "start_time": "2023-06-19T05:56:40.376Z"
   },
   {
    "duration": 19,
    "start_time": "2023-06-19T05:56:40.393Z"
   },
   {
    "duration": 7,
    "start_time": "2023-06-19T05:56:40.419Z"
   },
   {
    "duration": 16,
    "start_time": "2023-06-19T05:56:40.428Z"
   },
   {
    "duration": 17,
    "start_time": "2023-06-19T05:56:40.446Z"
   },
   {
    "duration": 11,
    "start_time": "2023-06-19T05:56:40.464Z"
   },
   {
    "duration": 24,
    "start_time": "2023-06-19T05:56:40.476Z"
   },
   {
    "duration": 28,
    "start_time": "2023-06-19T05:56:40.502Z"
   },
   {
    "duration": 9,
    "start_time": "2023-06-19T05:56:40.531Z"
   },
   {
    "duration": 5,
    "start_time": "2023-06-19T06:18:35.056Z"
   },
   {
    "duration": 17,
    "start_time": "2023-06-19T06:19:18.412Z"
   },
   {
    "duration": 17,
    "start_time": "2023-06-19T06:19:53.034Z"
   },
   {
    "duration": 16,
    "start_time": "2023-06-19T06:20:02.545Z"
   },
   {
    "duration": 19,
    "start_time": "2023-06-19T06:20:27.101Z"
   },
   {
    "duration": 117,
    "start_time": "2023-06-19T06:22:17.389Z"
   },
   {
    "duration": 8,
    "start_time": "2023-06-19T06:25:40.320Z"
   },
   {
    "duration": 30,
    "start_time": "2023-06-19T06:28:31.641Z"
   },
   {
    "duration": 16,
    "start_time": "2023-06-19T06:29:05.649Z"
   },
   {
    "duration": 15,
    "start_time": "2023-06-19T06:29:11.915Z"
   },
   {
    "duration": 5,
    "start_time": "2023-06-19T06:30:03.673Z"
   },
   {
    "duration": 18,
    "start_time": "2023-06-19T06:32:18.422Z"
   },
   {
    "duration": 8,
    "start_time": "2023-06-19T06:32:32.013Z"
   },
   {
    "duration": 19,
    "start_time": "2023-06-19T06:32:37.815Z"
   },
   {
    "duration": 18,
    "start_time": "2023-06-19T06:33:13.210Z"
   },
   {
    "duration": 36,
    "start_time": "2023-06-19T06:33:21.513Z"
   },
   {
    "duration": 26,
    "start_time": "2023-06-19T06:33:34.723Z"
   },
   {
    "duration": 24,
    "start_time": "2023-06-19T06:33:44.488Z"
   },
   {
    "duration": 27,
    "start_time": "2023-06-19T06:33:53.712Z"
   },
   {
    "duration": 24,
    "start_time": "2023-06-19T06:34:09.142Z"
   },
   {
    "duration": 84,
    "start_time": "2023-06-19T06:35:34.911Z"
   },
   {
    "duration": 24,
    "start_time": "2023-06-19T06:36:43.552Z"
   },
   {
    "duration": 4,
    "start_time": "2023-06-19T06:38:54.810Z"
   },
   {
    "duration": 18,
    "start_time": "2023-06-19T06:43:33.934Z"
   },
   {
    "duration": 5,
    "start_time": "2023-06-19T06:43:46.429Z"
   },
   {
    "duration": 10,
    "start_time": "2023-06-19T06:46:33.624Z"
   },
   {
    "duration": 5,
    "start_time": "2023-06-19T06:46:54.444Z"
   },
   {
    "duration": 929,
    "start_time": "2023-06-19T06:47:01.074Z"
   },
   {
    "duration": 1007,
    "start_time": "2023-06-19T06:47:10.612Z"
   },
   {
    "duration": 1170,
    "start_time": "2023-06-19T06:47:23.031Z"
   },
   {
    "duration": 1340,
    "start_time": "2023-06-19T06:47:24.203Z"
   },
   {
    "duration": 5,
    "start_time": "2023-06-19T06:47:25.544Z"
   },
   {
    "duration": 15,
    "start_time": "2023-06-19T06:47:25.551Z"
   },
   {
    "duration": 7,
    "start_time": "2023-06-19T06:47:25.568Z"
   },
   {
    "duration": 24,
    "start_time": "2023-06-19T06:47:25.576Z"
   },
   {
    "duration": 48,
    "start_time": "2023-06-19T06:47:25.601Z"
   },
   {
    "duration": 27,
    "start_time": "2023-06-19T06:47:25.650Z"
   },
   {
    "duration": 30,
    "start_time": "2023-06-19T06:47:25.679Z"
   },
   {
    "duration": 18,
    "start_time": "2023-06-19T06:47:25.712Z"
   },
   {
    "duration": 13,
    "start_time": "2023-06-19T06:47:25.732Z"
   },
   {
    "duration": 22,
    "start_time": "2023-06-19T06:47:25.752Z"
   },
   {
    "duration": 27,
    "start_time": "2023-06-19T06:47:25.775Z"
   },
   {
    "duration": 20,
    "start_time": "2023-06-19T06:47:25.804Z"
   },
   {
    "duration": 8,
    "start_time": "2023-06-19T06:47:25.826Z"
   },
   {
    "duration": 27,
    "start_time": "2023-06-19T06:47:25.836Z"
   },
   {
    "duration": 20,
    "start_time": "2023-06-19T06:47:25.865Z"
   },
   {
    "duration": 10,
    "start_time": "2023-06-19T06:47:25.887Z"
   },
   {
    "duration": 13,
    "start_time": "2023-06-19T06:47:25.899Z"
   },
   {
    "duration": 31,
    "start_time": "2023-06-19T06:47:25.914Z"
   },
   {
    "duration": 15,
    "start_time": "2023-06-19T06:47:25.947Z"
   },
   {
    "duration": 18,
    "start_time": "2023-06-19T06:47:25.964Z"
   },
   {
    "duration": 19,
    "start_time": "2023-06-19T06:47:25.984Z"
   },
   {
    "duration": 18,
    "start_time": "2023-06-19T06:47:26.005Z"
   },
   {
    "duration": 28,
    "start_time": "2023-06-19T06:47:26.025Z"
   },
   {
    "duration": 9,
    "start_time": "2023-06-19T06:47:26.055Z"
   },
   {
    "duration": 44,
    "start_time": "2023-06-19T06:47:26.066Z"
   },
   {
    "duration": 6,
    "start_time": "2023-06-19T06:47:26.114Z"
   },
   {
    "duration": 22,
    "start_time": "2023-06-19T06:47:26.122Z"
   },
   {
    "duration": 5,
    "start_time": "2023-06-19T06:47:26.146Z"
   },
   {
    "duration": 26,
    "start_time": "2023-06-19T06:47:26.153Z"
   },
   {
    "duration": 17,
    "start_time": "2023-06-19T06:50:24.931Z"
   },
   {
    "duration": 15,
    "start_time": "2023-06-19T06:50:32.064Z"
   },
   {
    "duration": 16,
    "start_time": "2023-06-19T06:52:41.372Z"
   },
   {
    "duration": 141,
    "start_time": "2023-06-19T06:53:35.153Z"
   },
   {
    "duration": 1794,
    "start_time": "2023-06-19T06:53:38.965Z"
   },
   {
    "duration": 18,
    "start_time": "2023-06-19T06:56:19.523Z"
   },
   {
    "duration": 19,
    "start_time": "2023-06-19T06:56:23.364Z"
   },
   {
    "duration": 4,
    "start_time": "2023-06-19T06:56:27.226Z"
   },
   {
    "duration": 72,
    "start_time": "2023-06-19T06:58:25.561Z"
   },
   {
    "duration": 81,
    "start_time": "2023-06-19T06:58:30.515Z"
   },
   {
    "duration": 6,
    "start_time": "2023-06-19T06:58:51.872Z"
   },
   {
    "duration": 8,
    "start_time": "2023-06-19T06:59:08.194Z"
   },
   {
    "duration": 7,
    "start_time": "2023-06-19T06:59:26.871Z"
   },
   {
    "duration": 20,
    "start_time": "2023-06-19T07:00:13.989Z"
   },
   {
    "duration": 4,
    "start_time": "2023-06-19T07:02:59.235Z"
   },
   {
    "duration": 4,
    "start_time": "2023-06-19T07:03:30.601Z"
   },
   {
    "duration": 254,
    "start_time": "2023-06-19T07:04:51.033Z"
   },
   {
    "duration": 27,
    "start_time": "2023-06-19T07:08:18.032Z"
   },
   {
    "duration": 25,
    "start_time": "2023-06-19T07:08:29.499Z"
   },
   {
    "duration": 29,
    "start_time": "2023-06-19T07:10:15.301Z"
   },
   {
    "duration": 6,
    "start_time": "2023-06-19T07:13:58.339Z"
   },
   {
    "duration": 14,
    "start_time": "2023-06-19T07:15:04.091Z"
   },
   {
    "duration": 12,
    "start_time": "2023-06-19T07:16:04.313Z"
   },
   {
    "duration": 1788,
    "start_time": "2023-06-19T07:16:15.162Z"
   },
   {
    "duration": 13,
    "start_time": "2023-06-19T07:17:50.823Z"
   },
   {
    "duration": 10,
    "start_time": "2023-06-19T07:18:49.853Z"
   },
   {
    "duration": 11,
    "start_time": "2023-06-19T07:18:54.336Z"
   },
   {
    "duration": 13,
    "start_time": "2023-06-19T07:21:16.024Z"
   },
   {
    "duration": 15,
    "start_time": "2023-06-19T07:21:22.735Z"
   },
   {
    "duration": 1271,
    "start_time": "2023-06-19T07:24:26.638Z"
   },
   {
    "duration": 1223,
    "start_time": "2023-06-19T07:24:27.910Z"
   },
   {
    "duration": 4,
    "start_time": "2023-06-19T07:24:29.135Z"
   },
   {
    "duration": 30,
    "start_time": "2023-06-19T07:24:29.141Z"
   },
   {
    "duration": 48,
    "start_time": "2023-06-19T07:24:29.174Z"
   },
   {
    "duration": 37,
    "start_time": "2023-06-19T07:24:29.224Z"
   },
   {
    "duration": 30,
    "start_time": "2023-06-19T07:24:29.263Z"
   },
   {
    "duration": 46,
    "start_time": "2023-06-19T07:24:29.294Z"
   },
   {
    "duration": 25,
    "start_time": "2023-06-19T07:24:29.341Z"
   },
   {
    "duration": 40,
    "start_time": "2023-06-19T07:24:29.367Z"
   },
   {
    "duration": 57,
    "start_time": "2023-06-19T07:24:29.409Z"
   },
   {
    "duration": 23,
    "start_time": "2023-06-19T07:24:29.467Z"
   },
   {
    "duration": 34,
    "start_time": "2023-06-19T07:24:29.491Z"
   },
   {
    "duration": 52,
    "start_time": "2023-06-19T07:24:29.529Z"
   },
   {
    "duration": 15,
    "start_time": "2023-06-19T07:24:29.582Z"
   },
   {
    "duration": 41,
    "start_time": "2023-06-19T07:24:29.598Z"
   },
   {
    "duration": 42,
    "start_time": "2023-06-19T07:24:29.641Z"
   },
   {
    "duration": 29,
    "start_time": "2023-06-19T07:24:29.685Z"
   },
   {
    "duration": 21,
    "start_time": "2023-06-19T07:24:29.715Z"
   },
   {
    "duration": 41,
    "start_time": "2023-06-19T07:24:29.737Z"
   },
   {
    "duration": 26,
    "start_time": "2023-06-19T07:24:29.779Z"
   },
   {
    "duration": 23,
    "start_time": "2023-06-19T07:24:29.806Z"
   },
   {
    "duration": 44,
    "start_time": "2023-06-19T07:24:29.831Z"
   },
   {
    "duration": 10,
    "start_time": "2023-06-19T07:24:29.877Z"
   },
   {
    "duration": 21,
    "start_time": "2023-06-19T07:24:29.888Z"
   },
   {
    "duration": 33,
    "start_time": "2023-06-19T07:24:29.911Z"
   },
   {
    "duration": 36,
    "start_time": "2023-06-19T07:24:29.945Z"
   },
   {
    "duration": 20,
    "start_time": "2023-06-19T07:24:29.982Z"
   },
   {
    "duration": 87,
    "start_time": "2023-06-19T07:24:30.004Z"
   },
   {
    "duration": 44,
    "start_time": "2023-06-19T07:24:30.093Z"
   },
   {
    "duration": 58,
    "start_time": "2023-06-19T07:24:30.139Z"
   },
   {
    "duration": 61,
    "start_time": "2023-06-19T07:24:30.199Z"
   },
   {
    "duration": 41,
    "start_time": "2023-06-19T07:24:30.262Z"
   },
   {
    "duration": 67,
    "start_time": "2023-06-19T07:24:30.305Z"
   },
   {
    "duration": 50,
    "start_time": "2023-06-19T07:24:30.374Z"
   },
   {
    "duration": 73,
    "start_time": "2023-06-19T07:24:30.426Z"
   },
   {
    "duration": 15,
    "start_time": "2023-06-19T07:37:09.474Z"
   },
   {
    "duration": 8,
    "start_time": "2023-06-19T07:38:12.232Z"
   },
   {
    "duration": 8,
    "start_time": "2023-06-19T07:39:32.069Z"
   },
   {
    "duration": 1205,
    "start_time": "2023-06-19T07:39:57.331Z"
   },
   {
    "duration": 1255,
    "start_time": "2023-06-19T07:39:58.537Z"
   },
   {
    "duration": 4,
    "start_time": "2023-06-19T07:39:59.793Z"
   },
   {
    "duration": 46,
    "start_time": "2023-06-19T07:39:59.798Z"
   },
   {
    "duration": 6,
    "start_time": "2023-06-19T07:39:59.847Z"
   },
   {
    "duration": 28,
    "start_time": "2023-06-19T07:39:59.855Z"
   },
   {
    "duration": 39,
    "start_time": "2023-06-19T07:39:59.885Z"
   },
   {
    "duration": 52,
    "start_time": "2023-06-19T07:39:59.925Z"
   },
   {
    "duration": 15,
    "start_time": "2023-06-19T07:39:59.978Z"
   },
   {
    "duration": 6,
    "start_time": "2023-06-19T07:39:59.994Z"
   },
   {
    "duration": 51,
    "start_time": "2023-06-19T07:40:00.002Z"
   },
   {
    "duration": 33,
    "start_time": "2023-06-19T07:40:00.055Z"
   },
   {
    "duration": 54,
    "start_time": "2023-06-19T07:40:00.089Z"
   },
   {
    "duration": 36,
    "start_time": "2023-06-19T07:40:00.147Z"
   },
   {
    "duration": 10,
    "start_time": "2023-06-19T07:40:00.185Z"
   },
   {
    "duration": 51,
    "start_time": "2023-06-19T07:40:00.197Z"
   },
   {
    "duration": 54,
    "start_time": "2023-06-19T07:40:00.250Z"
   },
   {
    "duration": 45,
    "start_time": "2023-06-19T07:40:00.306Z"
   },
   {
    "duration": 49,
    "start_time": "2023-06-19T07:40:00.353Z"
   },
   {
    "duration": 43,
    "start_time": "2023-06-19T07:40:00.404Z"
   },
   {
    "duration": 25,
    "start_time": "2023-06-19T07:40:00.448Z"
   },
   {
    "duration": 41,
    "start_time": "2023-06-19T07:40:00.475Z"
   },
   {
    "duration": 41,
    "start_time": "2023-06-19T07:40:00.517Z"
   },
   {
    "duration": 180,
    "start_time": "2023-06-19T07:40:00.560Z"
   },
   {
    "duration": 111,
    "start_time": "2023-06-19T07:40:00.742Z"
   },
   {
    "duration": 40,
    "start_time": "2023-06-19T07:40:00.854Z"
   },
   {
    "duration": 60,
    "start_time": "2023-06-19T07:40:00.896Z"
   },
   {
    "duration": 116,
    "start_time": "2023-06-19T07:40:00.958Z"
   },
   {
    "duration": 44,
    "start_time": "2023-06-19T07:40:01.075Z"
   },
   {
    "duration": 45,
    "start_time": "2023-06-19T07:40:01.121Z"
   },
   {
    "duration": 21,
    "start_time": "2023-06-19T07:40:01.168Z"
   },
   {
    "duration": 49,
    "start_time": "2023-06-19T07:40:01.191Z"
   },
   {
    "duration": 30,
    "start_time": "2023-06-19T07:40:01.242Z"
   },
   {
    "duration": 50,
    "start_time": "2023-06-19T07:40:01.273Z"
   },
   {
    "duration": 12,
    "start_time": "2023-06-19T07:40:28.054Z"
   },
   {
    "duration": 4,
    "start_time": "2023-06-19T07:40:45.695Z"
   },
   {
    "duration": 7,
    "start_time": "2023-06-19T07:42:53.747Z"
   },
   {
    "duration": 7,
    "start_time": "2023-06-19T07:47:57.944Z"
   },
   {
    "duration": 6,
    "start_time": "2023-06-19T07:48:10.509Z"
   },
   {
    "duration": 26,
    "start_time": "2023-06-19T07:50:07.415Z"
   },
   {
    "duration": 13,
    "start_time": "2023-06-19T07:51:05.435Z"
   },
   {
    "duration": 11,
    "start_time": "2023-06-19T07:51:40.674Z"
   },
   {
    "duration": 6,
    "start_time": "2023-06-19T08:18:17.813Z"
   },
   {
    "duration": 6,
    "start_time": "2023-06-19T08:21:15.493Z"
   },
   {
    "duration": 6,
    "start_time": "2023-06-19T08:22:24.172Z"
   },
   {
    "duration": 5,
    "start_time": "2023-06-19T08:22:29.817Z"
   },
   {
    "duration": 5,
    "start_time": "2023-06-19T08:22:45.240Z"
   },
   {
    "duration": 6,
    "start_time": "2023-06-19T08:23:05.691Z"
   },
   {
    "duration": 6,
    "start_time": "2023-06-19T08:23:18.826Z"
   },
   {
    "duration": 5,
    "start_time": "2023-06-19T08:23:34.022Z"
   },
   {
    "duration": 6,
    "start_time": "2023-06-19T08:25:13.946Z"
   },
   {
    "duration": 6,
    "start_time": "2023-06-19T08:25:34.740Z"
   },
   {
    "duration": 5,
    "start_time": "2023-06-19T08:27:31.790Z"
   },
   {
    "duration": 1512,
    "start_time": "2023-06-19T10:37:55.854Z"
   },
   {
    "duration": 1094,
    "start_time": "2023-06-19T10:37:57.369Z"
   },
   {
    "duration": 4,
    "start_time": "2023-06-19T10:37:58.467Z"
   },
   {
    "duration": 18,
    "start_time": "2023-06-19T10:37:58.474Z"
   },
   {
    "duration": 15,
    "start_time": "2023-06-19T10:37:58.495Z"
   },
   {
    "duration": 31,
    "start_time": "2023-06-19T10:37:58.517Z"
   },
   {
    "duration": 33,
    "start_time": "2023-06-19T10:37:58.550Z"
   },
   {
    "duration": 42,
    "start_time": "2023-06-19T10:37:58.585Z"
   },
   {
    "duration": 14,
    "start_time": "2023-06-19T10:37:58.630Z"
   },
   {
    "duration": 8,
    "start_time": "2023-06-19T10:37:58.646Z"
   },
   {
    "duration": 8,
    "start_time": "2023-06-19T10:37:58.656Z"
   },
   {
    "duration": 18,
    "start_time": "2023-06-19T10:37:58.666Z"
   },
   {
    "duration": 17,
    "start_time": "2023-06-19T10:37:58.687Z"
   },
   {
    "duration": 42,
    "start_time": "2023-06-19T10:37:58.706Z"
   },
   {
    "duration": 6,
    "start_time": "2023-06-19T10:37:58.749Z"
   },
   {
    "duration": 12,
    "start_time": "2023-06-19T10:37:58.756Z"
   },
   {
    "duration": 15,
    "start_time": "2023-06-19T10:37:58.770Z"
   },
   {
    "duration": 11,
    "start_time": "2023-06-19T10:37:58.787Z"
   },
   {
    "duration": 25,
    "start_time": "2023-06-19T10:37:58.800Z"
   },
   {
    "duration": 34,
    "start_time": "2023-06-19T10:37:58.828Z"
   },
   {
    "duration": 24,
    "start_time": "2023-06-19T10:37:58.863Z"
   },
   {
    "duration": 13,
    "start_time": "2023-06-19T10:37:58.888Z"
   },
   {
    "duration": 25,
    "start_time": "2023-06-19T10:37:58.903Z"
   },
   {
    "duration": 19,
    "start_time": "2023-06-19T10:37:58.930Z"
   },
   {
    "duration": 23,
    "start_time": "2023-06-19T10:37:58.951Z"
   },
   {
    "duration": 4,
    "start_time": "2023-06-19T10:37:58.976Z"
   },
   {
    "duration": 78,
    "start_time": "2023-06-19T10:37:58.981Z"
   },
   {
    "duration": 6,
    "start_time": "2023-06-19T10:37:59.061Z"
   },
   {
    "duration": 28,
    "start_time": "2023-06-19T10:37:59.069Z"
   },
   {
    "duration": 33,
    "start_time": "2023-06-19T10:37:59.099Z"
   },
   {
    "duration": 13,
    "start_time": "2023-06-19T10:37:59.134Z"
   },
   {
    "duration": 8,
    "start_time": "2023-06-19T10:37:59.149Z"
   },
   {
    "duration": 9,
    "start_time": "2023-06-19T10:37:59.159Z"
   },
   {
    "duration": 20,
    "start_time": "2023-06-19T10:37:59.170Z"
   },
   {
    "duration": 43,
    "start_time": "2023-06-19T10:37:59.192Z"
   },
   {
    "duration": 6,
    "start_time": "2023-06-19T10:37:59.237Z"
   },
   {
    "duration": 34,
    "start_time": "2023-06-19T10:37:59.244Z"
   },
   {
    "duration": 1420,
    "start_time": "2023-06-19T10:45:10.633Z"
   },
   {
    "duration": 1200,
    "start_time": "2023-06-19T10:45:20.095Z"
   },
   {
    "duration": 61,
    "start_time": "2023-06-19T10:46:36.642Z"
   },
   {
    "duration": 106,
    "start_time": "2023-06-19T10:46:42.540Z"
   },
   {
    "duration": 116,
    "start_time": "2023-06-19T10:48:22.198Z"
   },
   {
    "duration": 1279,
    "start_time": "2023-06-19T10:48:35.410Z"
   },
   {
    "duration": 967,
    "start_time": "2023-06-19T10:48:36.691Z"
   },
   {
    "duration": 5,
    "start_time": "2023-06-19T10:48:37.660Z"
   },
   {
    "duration": 19,
    "start_time": "2023-06-19T10:48:37.667Z"
   },
   {
    "duration": 8,
    "start_time": "2023-06-19T10:48:37.688Z"
   },
   {
    "duration": 35,
    "start_time": "2023-06-19T10:48:37.697Z"
   },
   {
    "duration": 13,
    "start_time": "2023-06-19T10:48:37.733Z"
   },
   {
    "duration": 21,
    "start_time": "2023-06-19T10:48:37.748Z"
   },
   {
    "duration": 5,
    "start_time": "2023-06-19T10:48:37.772Z"
   },
   {
    "duration": 16,
    "start_time": "2023-06-19T10:48:37.780Z"
   },
   {
    "duration": 18,
    "start_time": "2023-06-19T10:48:37.798Z"
   },
   {
    "duration": 7,
    "start_time": "2023-06-19T10:48:37.824Z"
   },
   {
    "duration": 21,
    "start_time": "2023-06-19T10:48:37.833Z"
   },
   {
    "duration": 21,
    "start_time": "2023-06-19T10:48:37.856Z"
   },
   {
    "duration": 6,
    "start_time": "2023-06-19T10:48:37.879Z"
   },
   {
    "duration": 36,
    "start_time": "2023-06-19T10:48:37.887Z"
   },
   {
    "duration": 7,
    "start_time": "2023-06-19T10:48:37.928Z"
   },
   {
    "duration": 24,
    "start_time": "2023-06-19T10:48:37.937Z"
   },
   {
    "duration": 6,
    "start_time": "2023-06-19T10:48:37.964Z"
   },
   {
    "duration": 55,
    "start_time": "2023-06-19T10:48:37.972Z"
   },
   {
    "duration": 19,
    "start_time": "2023-06-19T10:48:38.030Z"
   },
   {
    "duration": 49,
    "start_time": "2023-06-19T10:48:38.051Z"
   },
   {
    "duration": 21,
    "start_time": "2023-06-19T10:48:38.102Z"
   },
   {
    "duration": 16,
    "start_time": "2023-06-19T10:48:38.125Z"
   },
   {
    "duration": 18,
    "start_time": "2023-06-19T10:48:38.143Z"
   },
   {
    "duration": 5,
    "start_time": "2023-06-19T10:48:38.163Z"
   },
   {
    "duration": 49,
    "start_time": "2023-06-19T10:48:38.170Z"
   },
   {
    "duration": 9,
    "start_time": "2023-06-19T10:48:38.223Z"
   },
   {
    "duration": 37,
    "start_time": "2023-06-19T10:48:38.233Z"
   },
   {
    "duration": 40,
    "start_time": "2023-06-19T10:48:38.272Z"
   },
   {
    "duration": 30,
    "start_time": "2023-06-19T10:48:38.313Z"
   },
   {
    "duration": 7,
    "start_time": "2023-06-19T10:48:38.345Z"
   },
   {
    "duration": 24,
    "start_time": "2023-06-19T10:48:38.354Z"
   },
   {
    "duration": 32,
    "start_time": "2023-06-19T10:48:38.380Z"
   },
   {
    "duration": 50,
    "start_time": "2023-06-19T10:48:38.415Z"
   },
   {
    "duration": 7,
    "start_time": "2023-06-19T10:48:38.467Z"
   },
   {
    "duration": 10,
    "start_time": "2023-06-19T10:48:38.476Z"
   },
   {
    "duration": 141,
    "start_time": "2023-06-19T10:48:38.487Z"
   },
   {
    "duration": 155,
    "start_time": "2023-06-19T10:48:52.971Z"
   },
   {
    "duration": 22,
    "start_time": "2023-06-19T10:49:39.479Z"
   },
   {
    "duration": 29,
    "start_time": "2023-06-19T10:49:44.492Z"
   },
   {
    "duration": 1391,
    "start_time": "2023-06-19T10:50:02.570Z"
   },
   {
    "duration": 940,
    "start_time": "2023-06-19T10:50:03.963Z"
   },
   {
    "duration": 4,
    "start_time": "2023-06-19T10:50:04.905Z"
   },
   {
    "duration": 31,
    "start_time": "2023-06-19T10:50:04.911Z"
   },
   {
    "duration": 36,
    "start_time": "2023-06-19T10:50:04.944Z"
   },
   {
    "duration": 41,
    "start_time": "2023-06-19T10:50:04.982Z"
   },
   {
    "duration": 23,
    "start_time": "2023-06-19T10:50:05.026Z"
   },
   {
    "duration": 50,
    "start_time": "2023-06-19T10:50:05.051Z"
   },
   {
    "duration": 32,
    "start_time": "2023-06-19T10:50:05.102Z"
   },
   {
    "duration": 22,
    "start_time": "2023-06-19T10:50:05.136Z"
   },
   {
    "duration": 11,
    "start_time": "2023-06-19T10:50:05.160Z"
   },
   {
    "duration": 28,
    "start_time": "2023-06-19T10:50:05.173Z"
   },
   {
    "duration": 71,
    "start_time": "2023-06-19T10:50:05.203Z"
   },
   {
    "duration": 20,
    "start_time": "2023-06-19T10:50:05.277Z"
   },
   {
    "duration": 10,
    "start_time": "2023-06-19T10:50:05.299Z"
   },
   {
    "duration": 29,
    "start_time": "2023-06-19T10:50:05.310Z"
   },
   {
    "duration": 32,
    "start_time": "2023-06-19T10:50:05.340Z"
   },
   {
    "duration": 22,
    "start_time": "2023-06-19T10:50:05.374Z"
   },
   {
    "duration": 13,
    "start_time": "2023-06-19T10:50:05.398Z"
   },
   {
    "duration": 39,
    "start_time": "2023-06-19T10:50:05.413Z"
   },
   {
    "duration": 33,
    "start_time": "2023-06-19T10:50:05.454Z"
   },
   {
    "duration": 12,
    "start_time": "2023-06-19T10:50:05.489Z"
   },
   {
    "duration": 33,
    "start_time": "2023-06-19T10:50:05.503Z"
   },
   {
    "duration": 29,
    "start_time": "2023-06-19T10:50:05.538Z"
   },
   {
    "duration": 47,
    "start_time": "2023-06-19T10:50:05.568Z"
   },
   {
    "duration": 41,
    "start_time": "2023-06-19T10:50:05.616Z"
   },
   {
    "duration": 29,
    "start_time": "2023-06-19T10:50:05.659Z"
   },
   {
    "duration": 13,
    "start_time": "2023-06-19T10:50:05.690Z"
   },
   {
    "duration": 53,
    "start_time": "2023-06-19T10:50:05.704Z"
   },
   {
    "duration": 17,
    "start_time": "2023-06-19T10:50:05.759Z"
   },
   {
    "duration": 14,
    "start_time": "2023-06-19T10:50:05.778Z"
   },
   {
    "duration": 15,
    "start_time": "2023-06-19T10:50:05.794Z"
   },
   {
    "duration": 19,
    "start_time": "2023-06-19T10:50:05.812Z"
   },
   {
    "duration": 19,
    "start_time": "2023-06-19T10:50:05.833Z"
   },
   {
    "duration": 42,
    "start_time": "2023-06-19T10:50:05.854Z"
   },
   {
    "duration": 6,
    "start_time": "2023-06-19T10:50:05.898Z"
   },
   {
    "duration": 18,
    "start_time": "2023-06-19T10:50:05.906Z"
   },
   {
    "duration": 110,
    "start_time": "2023-06-19T10:50:05.927Z"
   },
   {
    "duration": 21,
    "start_time": "2023-06-19T10:50:06.038Z"
   },
   {
    "duration": 24,
    "start_time": "2023-06-19T10:50:31.156Z"
   },
   {
    "duration": 103,
    "start_time": "2023-06-19T10:50:55.128Z"
   },
   {
    "duration": 1240,
    "start_time": "2023-06-19T10:53:16.128Z"
   },
   {
    "duration": 921,
    "start_time": "2023-06-19T10:53:17.370Z"
   },
   {
    "duration": 3,
    "start_time": "2023-06-19T10:53:18.293Z"
   },
   {
    "duration": 34,
    "start_time": "2023-06-19T10:53:18.298Z"
   },
   {
    "duration": 14,
    "start_time": "2023-06-19T10:53:18.334Z"
   },
   {
    "duration": 22,
    "start_time": "2023-06-19T10:53:18.349Z"
   },
   {
    "duration": 10,
    "start_time": "2023-06-19T10:53:18.372Z"
   },
   {
    "duration": 53,
    "start_time": "2023-06-19T10:53:18.383Z"
   },
   {
    "duration": 18,
    "start_time": "2023-06-19T10:53:18.438Z"
   },
   {
    "duration": 21,
    "start_time": "2023-06-19T10:53:18.458Z"
   },
   {
    "duration": 19,
    "start_time": "2023-06-19T10:53:18.481Z"
   },
   {
    "duration": 29,
    "start_time": "2023-06-19T10:53:18.502Z"
   },
   {
    "duration": 44,
    "start_time": "2023-06-19T10:53:18.533Z"
   },
   {
    "duration": 21,
    "start_time": "2023-06-19T10:53:18.581Z"
   },
   {
    "duration": 26,
    "start_time": "2023-06-19T10:53:18.604Z"
   },
   {
    "duration": 24,
    "start_time": "2023-06-19T10:53:18.632Z"
   },
   {
    "duration": 22,
    "start_time": "2023-06-19T10:53:18.658Z"
   },
   {
    "duration": 29,
    "start_time": "2023-06-19T10:53:18.681Z"
   },
   {
    "duration": 25,
    "start_time": "2023-06-19T10:53:18.711Z"
   },
   {
    "duration": 40,
    "start_time": "2023-06-19T10:53:18.737Z"
   },
   {
    "duration": 29,
    "start_time": "2023-06-19T10:53:18.779Z"
   },
   {
    "duration": 28,
    "start_time": "2023-06-19T10:53:18.810Z"
   },
   {
    "duration": 18,
    "start_time": "2023-06-19T10:53:18.840Z"
   },
   {
    "duration": 28,
    "start_time": "2023-06-19T10:53:18.860Z"
   },
   {
    "duration": 37,
    "start_time": "2023-06-19T10:53:18.890Z"
   },
   {
    "duration": 13,
    "start_time": "2023-06-19T10:53:18.929Z"
   },
   {
    "duration": 49,
    "start_time": "2023-06-19T10:53:18.944Z"
   },
   {
    "duration": 11,
    "start_time": "2023-06-19T10:53:18.995Z"
   },
   {
    "duration": 46,
    "start_time": "2023-06-19T10:53:19.007Z"
   },
   {
    "duration": 29,
    "start_time": "2023-06-19T10:53:19.055Z"
   },
   {
    "duration": 18,
    "start_time": "2023-06-19T10:53:19.086Z"
   },
   {
    "duration": 23,
    "start_time": "2023-06-19T10:53:19.106Z"
   },
   {
    "duration": 31,
    "start_time": "2023-06-19T10:53:19.131Z"
   },
   {
    "duration": 27,
    "start_time": "2023-06-19T10:53:19.165Z"
   },
   {
    "duration": 48,
    "start_time": "2023-06-19T10:53:19.195Z"
   },
   {
    "duration": 8,
    "start_time": "2023-06-19T10:53:19.245Z"
   },
   {
    "duration": 24,
    "start_time": "2023-06-19T10:53:19.255Z"
   },
   {
    "duration": 130,
    "start_time": "2023-06-19T10:53:19.280Z"
   },
   {
    "duration": 31,
    "start_time": "2023-06-19T10:53:19.413Z"
   },
   {
    "duration": 124,
    "start_time": "2023-06-19T10:58:50.893Z"
   },
   {
    "duration": 52,
    "start_time": "2023-06-19T11:00:36.844Z"
   },
   {
    "duration": 47,
    "start_time": "2023-06-19T11:00:42.428Z"
   },
   {
    "duration": 10,
    "start_time": "2023-06-19T11:03:06.228Z"
   },
   {
    "duration": 14,
    "start_time": "2023-06-19T11:03:17.456Z"
   },
   {
    "duration": 10,
    "start_time": "2023-06-19T11:03:45.442Z"
   },
   {
    "duration": 22,
    "start_time": "2023-06-19T11:03:56.012Z"
   },
   {
    "duration": 14,
    "start_time": "2023-06-19T11:06:01.373Z"
   },
   {
    "duration": 10,
    "start_time": "2023-06-19T11:06:09.374Z"
   },
   {
    "duration": 17,
    "start_time": "2023-06-19T11:14:57.213Z"
   },
   {
    "duration": 11,
    "start_time": "2023-06-19T11:15:51.227Z"
   },
   {
    "duration": 7,
    "start_time": "2023-06-19T11:19:27.302Z"
   },
   {
    "duration": 15,
    "start_time": "2023-06-19T11:19:42.850Z"
   },
   {
    "duration": 10,
    "start_time": "2023-06-19T11:19:55.879Z"
   },
   {
    "duration": 6,
    "start_time": "2023-06-19T11:20:00.491Z"
   },
   {
    "duration": 24,
    "start_time": "2023-06-19T11:20:49.742Z"
   },
   {
    "duration": 1298,
    "start_time": "2023-06-19T11:21:00.032Z"
   },
   {
    "duration": 1040,
    "start_time": "2023-06-19T11:21:01.335Z"
   },
   {
    "duration": 5,
    "start_time": "2023-06-19T11:21:02.377Z"
   },
   {
    "duration": 91,
    "start_time": "2023-06-19T11:21:02.384Z"
   },
   {
    "duration": 86,
    "start_time": "2023-06-19T11:21:02.479Z"
   },
   {
    "duration": 170,
    "start_time": "2023-06-19T11:21:02.568Z"
   },
   {
    "duration": 327,
    "start_time": "2023-06-19T11:21:02.740Z"
   },
   {
    "duration": 294,
    "start_time": "2023-06-19T11:21:03.069Z"
   },
   {
    "duration": 84,
    "start_time": "2023-06-19T11:21:03.365Z"
   },
   {
    "duration": 44,
    "start_time": "2023-06-19T11:21:03.451Z"
   },
   {
    "duration": 18,
    "start_time": "2023-06-19T11:21:03.497Z"
   },
   {
    "duration": 24,
    "start_time": "2023-06-19T11:21:03.517Z"
   },
   {
    "duration": 24,
    "start_time": "2023-06-19T11:21:03.544Z"
   },
   {
    "duration": 22,
    "start_time": "2023-06-19T11:21:03.572Z"
   },
   {
    "duration": 6,
    "start_time": "2023-06-19T11:21:03.596Z"
   },
   {
    "duration": 40,
    "start_time": "2023-06-19T11:21:03.604Z"
   },
   {
    "duration": 6,
    "start_time": "2023-06-19T11:21:03.646Z"
   },
   {
    "duration": 17,
    "start_time": "2023-06-19T11:21:03.654Z"
   },
   {
    "duration": 9,
    "start_time": "2023-06-19T11:21:03.673Z"
   },
   {
    "duration": 23,
    "start_time": "2023-06-19T11:21:03.684Z"
   },
   {
    "duration": 35,
    "start_time": "2023-06-19T11:21:03.709Z"
   },
   {
    "duration": 13,
    "start_time": "2023-06-19T11:21:03.747Z"
   },
   {
    "duration": 19,
    "start_time": "2023-06-19T11:21:03.762Z"
   },
   {
    "duration": 29,
    "start_time": "2023-06-19T11:21:03.783Z"
   },
   {
    "duration": 27,
    "start_time": "2023-06-19T11:21:03.814Z"
   },
   {
    "duration": 4,
    "start_time": "2023-06-19T11:21:03.842Z"
   },
   {
    "duration": 24,
    "start_time": "2023-06-19T11:21:03.849Z"
   },
   {
    "duration": 6,
    "start_time": "2023-06-19T11:21:03.875Z"
   },
   {
    "duration": 50,
    "start_time": "2023-06-19T11:21:03.883Z"
   },
   {
    "duration": 15,
    "start_time": "2023-06-19T11:21:03.935Z"
   },
   {
    "duration": 30,
    "start_time": "2023-06-19T11:21:03.952Z"
   },
   {
    "duration": 10,
    "start_time": "2023-06-19T11:21:03.984Z"
   },
   {
    "duration": 33,
    "start_time": "2023-06-19T11:21:03.996Z"
   },
   {
    "duration": 20,
    "start_time": "2023-06-19T11:21:04.031Z"
   },
   {
    "duration": 47,
    "start_time": "2023-06-19T11:21:04.053Z"
   },
   {
    "duration": 10,
    "start_time": "2023-06-19T11:21:04.102Z"
   },
   {
    "duration": 18,
    "start_time": "2023-06-19T11:21:04.118Z"
   },
   {
    "duration": 26,
    "start_time": "2023-06-19T11:21:04.138Z"
   },
   {
    "duration": 40,
    "start_time": "2023-06-19T11:21:04.166Z"
   },
   {
    "duration": 22,
    "start_time": "2023-06-19T11:21:04.208Z"
   },
   {
    "duration": 26,
    "start_time": "2023-06-19T11:21:04.237Z"
   },
   {
    "duration": 20,
    "start_time": "2023-06-19T11:21:12.626Z"
   },
   {
    "duration": 15,
    "start_time": "2023-06-19T11:21:19.127Z"
   },
   {
    "duration": 5,
    "start_time": "2023-06-19T11:22:01.480Z"
   },
   {
    "duration": 8,
    "start_time": "2023-06-19T11:25:49.394Z"
   },
   {
    "duration": 5,
    "start_time": "2023-06-19T11:32:04.187Z"
   },
   {
    "duration": 8,
    "start_time": "2023-06-19T11:36:32.331Z"
   },
   {
    "duration": 29,
    "start_time": "2023-06-19T11:37:14.820Z"
   },
   {
    "duration": 20,
    "start_time": "2023-06-19T11:37:26.864Z"
   },
   {
    "duration": 16,
    "start_time": "2023-06-19T11:37:31.072Z"
   },
   {
    "duration": 14,
    "start_time": "2023-06-19T11:37:33.786Z"
   },
   {
    "duration": 27,
    "start_time": "2023-06-19T11:39:15.012Z"
   },
   {
    "duration": 30,
    "start_time": "2023-06-19T11:41:02.905Z"
   },
   {
    "duration": 29,
    "start_time": "2023-06-19T11:41:34.134Z"
   },
   {
    "duration": 563,
    "start_time": "2023-06-19T11:42:49.789Z"
   },
   {
    "duration": 4,
    "start_time": "2023-06-19T11:43:30.524Z"
   },
   {
    "duration": 14,
    "start_time": "2023-06-19T11:43:32.790Z"
   },
   {
    "duration": 1311,
    "start_time": "2023-06-19T11:43:49.849Z"
   },
   {
    "duration": 1292,
    "start_time": "2023-06-19T11:43:51.163Z"
   },
   {
    "duration": 5,
    "start_time": "2023-06-19T11:43:52.457Z"
   },
   {
    "duration": 53,
    "start_time": "2023-06-19T11:43:52.464Z"
   },
   {
    "duration": 19,
    "start_time": "2023-06-19T11:43:52.521Z"
   },
   {
    "duration": 96,
    "start_time": "2023-06-19T11:43:52.542Z"
   },
   {
    "duration": 6,
    "start_time": "2023-06-19T11:43:52.639Z"
   },
   {
    "duration": 97,
    "start_time": "2023-06-19T11:43:52.647Z"
   },
   {
    "duration": 58,
    "start_time": "2023-06-19T11:43:52.746Z"
   },
   {
    "duration": 34,
    "start_time": "2023-06-19T11:43:52.806Z"
   },
   {
    "duration": 48,
    "start_time": "2023-06-19T11:43:52.843Z"
   },
   {
    "duration": 40,
    "start_time": "2023-06-19T11:43:52.892Z"
   },
   {
    "duration": 23,
    "start_time": "2023-06-19T11:43:52.934Z"
   },
   {
    "duration": 31,
    "start_time": "2023-06-19T11:43:52.962Z"
   },
   {
    "duration": 44,
    "start_time": "2023-06-19T11:43:52.995Z"
   },
   {
    "duration": 55,
    "start_time": "2023-06-19T11:43:53.041Z"
   },
   {
    "duration": 11,
    "start_time": "2023-06-19T11:43:53.098Z"
   },
   {
    "duration": 30,
    "start_time": "2023-06-19T11:43:53.111Z"
   },
   {
    "duration": 27,
    "start_time": "2023-06-19T11:43:53.143Z"
   },
   {
    "duration": 31,
    "start_time": "2023-06-19T11:43:53.172Z"
   },
   {
    "duration": 28,
    "start_time": "2023-06-19T11:43:53.205Z"
   },
   {
    "duration": 12,
    "start_time": "2023-06-19T11:43:53.235Z"
   },
   {
    "duration": 51,
    "start_time": "2023-06-19T11:43:53.249Z"
   },
   {
    "duration": 25,
    "start_time": "2023-06-19T11:43:53.302Z"
   },
   {
    "duration": 14,
    "start_time": "2023-06-19T11:43:53.332Z"
   },
   {
    "duration": 11,
    "start_time": "2023-06-19T11:43:53.348Z"
   },
   {
    "duration": 39,
    "start_time": "2023-06-19T11:43:53.361Z"
   },
   {
    "duration": 8,
    "start_time": "2023-06-19T11:43:53.402Z"
   },
   {
    "duration": 43,
    "start_time": "2023-06-19T11:43:53.411Z"
   },
   {
    "duration": 16,
    "start_time": "2023-06-19T11:43:53.455Z"
   },
   {
    "duration": 63,
    "start_time": "2023-06-19T11:43:53.472Z"
   },
   {
    "duration": 354,
    "start_time": "2023-06-19T11:43:53.537Z"
   },
   {
    "duration": 132,
    "start_time": "2023-06-19T11:43:53.893Z"
   },
   {
    "duration": 34,
    "start_time": "2023-06-19T11:43:54.027Z"
   },
   {
    "duration": 52,
    "start_time": "2023-06-19T11:43:54.063Z"
   },
   {
    "duration": 17,
    "start_time": "2023-06-19T11:43:54.122Z"
   },
   {
    "duration": 36,
    "start_time": "2023-06-19T11:43:54.141Z"
   },
   {
    "duration": 15,
    "start_time": "2023-06-19T11:43:54.179Z"
   },
   {
    "duration": 63,
    "start_time": "2023-06-19T11:43:54.196Z"
   },
   {
    "duration": 47,
    "start_time": "2023-06-19T11:43:54.262Z"
   },
   {
    "duration": 19,
    "start_time": "2023-06-19T11:43:54.314Z"
   },
   {
    "duration": 32,
    "start_time": "2023-06-19T11:43:54.335Z"
   },
   {
    "duration": 18,
    "start_time": "2023-06-19T11:43:54.369Z"
   },
   {
    "duration": 30,
    "start_time": "2023-06-19T11:43:54.389Z"
   },
   {
    "duration": 23,
    "start_time": "2023-06-19T11:43:54.423Z"
   },
   {
    "duration": 68,
    "start_time": "2023-06-19T11:47:44.398Z"
   },
   {
    "duration": 5,
    "start_time": "2023-06-19T11:47:55.639Z"
   },
   {
    "duration": 3,
    "start_time": "2023-06-19T11:49:06.409Z"
   },
   {
    "duration": 6,
    "start_time": "2023-06-19T12:15:53.046Z"
   },
   {
    "duration": 22,
    "start_time": "2023-06-19T12:15:59.460Z"
   },
   {
    "duration": 13,
    "start_time": "2023-06-19T12:16:08.007Z"
   },
   {
    "duration": 245,
    "start_time": "2023-06-19T12:39:05.830Z"
   },
   {
    "duration": 57,
    "start_time": "2023-06-19T12:39:33.872Z"
   },
   {
    "duration": 85,
    "start_time": "2023-06-19T12:41:54.801Z"
   },
   {
    "duration": 48,
    "start_time": "2023-06-19T12:42:02.730Z"
   },
   {
    "duration": 184,
    "start_time": "2023-06-19T12:45:00.388Z"
   },
   {
    "duration": 22,
    "start_time": "2023-06-19T12:45:11.649Z"
   },
   {
    "duration": 24,
    "start_time": "2023-06-19T12:45:35.640Z"
   },
   {
    "duration": 28,
    "start_time": "2023-06-19T12:47:11.499Z"
   },
   {
    "duration": 16,
    "start_time": "2023-06-19T12:47:57.261Z"
   },
   {
    "duration": 39,
    "start_time": "2023-06-19T12:48:54.757Z"
   },
   {
    "duration": 20,
    "start_time": "2023-06-19T12:49:32.926Z"
   },
   {
    "duration": 47,
    "start_time": "2023-06-19T12:49:40.199Z"
   },
   {
    "duration": 58,
    "start_time": "2023-06-19T12:50:05.518Z"
   },
   {
    "duration": 1297,
    "start_time": "2023-06-19T12:50:17.483Z"
   },
   {
    "duration": 1103,
    "start_time": "2023-06-19T12:50:18.782Z"
   },
   {
    "duration": 5,
    "start_time": "2023-06-19T12:50:19.888Z"
   },
   {
    "duration": 44,
    "start_time": "2023-06-19T12:50:19.895Z"
   },
   {
    "duration": 9,
    "start_time": "2023-06-19T12:50:19.941Z"
   },
   {
    "duration": 37,
    "start_time": "2023-06-19T12:50:19.952Z"
   },
   {
    "duration": 36,
    "start_time": "2023-06-19T12:50:19.991Z"
   },
   {
    "duration": 31,
    "start_time": "2023-06-19T12:50:20.030Z"
   },
   {
    "duration": 6,
    "start_time": "2023-06-19T12:50:20.063Z"
   },
   {
    "duration": 19,
    "start_time": "2023-06-19T12:50:20.071Z"
   },
   {
    "duration": 54,
    "start_time": "2023-06-19T12:50:20.091Z"
   },
   {
    "duration": 76,
    "start_time": "2023-06-19T12:50:20.147Z"
   },
   {
    "duration": 46,
    "start_time": "2023-06-19T12:50:20.224Z"
   },
   {
    "duration": 21,
    "start_time": "2023-06-19T12:50:20.272Z"
   },
   {
    "duration": 42,
    "start_time": "2023-06-19T12:50:20.295Z"
   },
   {
    "duration": 35,
    "start_time": "2023-06-19T12:50:20.339Z"
   },
   {
    "duration": 20,
    "start_time": "2023-06-19T12:50:20.376Z"
   },
   {
    "duration": 10,
    "start_time": "2023-06-19T12:50:20.398Z"
   },
   {
    "duration": 33,
    "start_time": "2023-06-19T12:50:20.410Z"
   },
   {
    "duration": 42,
    "start_time": "2023-06-19T12:50:20.445Z"
   },
   {
    "duration": 14,
    "start_time": "2023-06-19T12:50:20.489Z"
   },
   {
    "duration": 16,
    "start_time": "2023-06-19T12:50:20.504Z"
   },
   {
    "duration": 29,
    "start_time": "2023-06-19T12:50:20.522Z"
   },
   {
    "duration": 33,
    "start_time": "2023-06-19T12:50:20.552Z"
   },
   {
    "duration": 24,
    "start_time": "2023-06-19T12:50:20.587Z"
   },
   {
    "duration": 17,
    "start_time": "2023-06-19T12:50:20.613Z"
   },
   {
    "duration": 38,
    "start_time": "2023-06-19T12:50:20.631Z"
   },
   {
    "duration": 53,
    "start_time": "2023-06-19T12:50:20.671Z"
   },
   {
    "duration": 36,
    "start_time": "2023-06-19T12:50:20.729Z"
   },
   {
    "duration": 14,
    "start_time": "2023-06-19T12:50:20.767Z"
   },
   {
    "duration": 5,
    "start_time": "2023-06-19T12:50:20.783Z"
   },
   {
    "duration": 9,
    "start_time": "2023-06-19T12:50:20.790Z"
   },
   {
    "duration": 15,
    "start_time": "2023-06-19T12:50:20.818Z"
   },
   {
    "duration": 15,
    "start_time": "2023-06-19T12:50:20.835Z"
   },
   {
    "duration": 30,
    "start_time": "2023-06-19T12:50:20.852Z"
   },
   {
    "duration": 6,
    "start_time": "2023-06-19T12:50:20.884Z"
   },
   {
    "duration": 33,
    "start_time": "2023-06-19T12:50:20.891Z"
   },
   {
    "duration": 34,
    "start_time": "2023-06-19T12:50:20.930Z"
   },
   {
    "duration": 10,
    "start_time": "2023-06-19T12:50:20.966Z"
   },
   {
    "duration": 13,
    "start_time": "2023-06-19T12:50:20.978Z"
   },
   {
    "duration": 9,
    "start_time": "2023-06-19T12:50:20.996Z"
   },
   {
    "duration": 10,
    "start_time": "2023-06-19T12:50:21.006Z"
   },
   {
    "duration": 13,
    "start_time": "2023-06-19T12:50:21.022Z"
   },
   {
    "duration": 27,
    "start_time": "2023-06-19T12:50:21.036Z"
   },
   {
    "duration": 16,
    "start_time": "2023-06-19T12:50:21.065Z"
   },
   {
    "duration": 21,
    "start_time": "2023-06-19T12:50:21.084Z"
   },
   {
    "duration": 4,
    "start_time": "2023-06-19T12:50:21.107Z"
   },
   {
    "duration": 213,
    "start_time": "2023-06-19T12:50:21.113Z"
   },
   {
    "duration": 35,
    "start_time": "2023-06-19T12:52:54.167Z"
   },
   {
    "duration": 50,
    "start_time": "2023-06-19T12:53:07.497Z"
   },
   {
    "duration": 1244,
    "start_time": "2023-06-19T12:53:17.632Z"
   },
   {
    "duration": 1119,
    "start_time": "2023-06-19T12:53:18.878Z"
   },
   {
    "duration": 4,
    "start_time": "2023-06-19T12:53:19.998Z"
   },
   {
    "duration": 42,
    "start_time": "2023-06-19T12:53:20.004Z"
   },
   {
    "duration": 34,
    "start_time": "2023-06-19T12:53:20.049Z"
   },
   {
    "duration": 55,
    "start_time": "2023-06-19T12:53:20.085Z"
   },
   {
    "duration": 58,
    "start_time": "2023-06-19T12:53:20.143Z"
   },
   {
    "duration": 79,
    "start_time": "2023-06-19T12:53:20.203Z"
   },
   {
    "duration": 79,
    "start_time": "2023-06-19T12:53:20.284Z"
   },
   {
    "duration": 25,
    "start_time": "2023-06-19T12:53:20.364Z"
   },
   {
    "duration": 42,
    "start_time": "2023-06-19T12:53:20.391Z"
   },
   {
    "duration": 28,
    "start_time": "2023-06-19T12:53:20.435Z"
   },
   {
    "duration": 38,
    "start_time": "2023-06-19T12:53:20.464Z"
   },
   {
    "duration": 56,
    "start_time": "2023-06-19T12:53:20.505Z"
   },
   {
    "duration": 19,
    "start_time": "2023-06-19T12:53:20.563Z"
   },
   {
    "duration": 67,
    "start_time": "2023-06-19T12:53:20.584Z"
   },
   {
    "duration": 58,
    "start_time": "2023-06-19T12:53:20.653Z"
   },
   {
    "duration": 62,
    "start_time": "2023-06-19T12:53:20.716Z"
   },
   {
    "duration": 15,
    "start_time": "2023-06-19T12:53:20.780Z"
   },
   {
    "duration": 32,
    "start_time": "2023-06-19T12:53:20.797Z"
   },
   {
    "duration": 12,
    "start_time": "2023-06-19T12:53:20.831Z"
   },
   {
    "duration": 13,
    "start_time": "2023-06-19T12:53:20.845Z"
   },
   {
    "duration": 13,
    "start_time": "2023-06-19T12:53:20.860Z"
   },
   {
    "duration": 11,
    "start_time": "2023-06-19T12:53:20.875Z"
   },
   {
    "duration": 38,
    "start_time": "2023-06-19T12:53:20.887Z"
   },
   {
    "duration": 4,
    "start_time": "2023-06-19T12:53:20.927Z"
   },
   {
    "duration": 35,
    "start_time": "2023-06-19T12:53:20.933Z"
   },
   {
    "duration": 5,
    "start_time": "2023-06-19T12:53:20.970Z"
   },
   {
    "duration": 46,
    "start_time": "2023-06-19T12:53:20.978Z"
   },
   {
    "duration": 18,
    "start_time": "2023-06-19T12:53:21.026Z"
   },
   {
    "duration": 4,
    "start_time": "2023-06-19T12:53:21.046Z"
   },
   {
    "duration": 9,
    "start_time": "2023-06-19T12:53:21.052Z"
   },
   {
    "duration": 13,
    "start_time": "2023-06-19T12:53:21.063Z"
   },
   {
    "duration": 13,
    "start_time": "2023-06-19T12:53:21.078Z"
   },
   {
    "duration": 60,
    "start_time": "2023-06-19T12:53:21.092Z"
   },
   {
    "duration": 6,
    "start_time": "2023-06-19T12:53:21.154Z"
   },
   {
    "duration": 6,
    "start_time": "2023-06-19T12:53:21.162Z"
   },
   {
    "duration": 8,
    "start_time": "2023-06-19T12:53:21.170Z"
   },
   {
    "duration": 14,
    "start_time": "2023-06-19T12:53:21.179Z"
   },
   {
    "duration": 34,
    "start_time": "2023-06-19T12:53:21.195Z"
   },
   {
    "duration": 33,
    "start_time": "2023-06-19T12:53:21.233Z"
   },
   {
    "duration": 7,
    "start_time": "2023-06-19T12:53:21.268Z"
   },
   {
    "duration": 8,
    "start_time": "2023-06-19T12:53:21.277Z"
   },
   {
    "duration": 14,
    "start_time": "2023-06-19T12:53:21.287Z"
   },
   {
    "duration": 30,
    "start_time": "2023-06-19T12:53:21.303Z"
   },
   {
    "duration": 20,
    "start_time": "2023-06-19T12:53:21.337Z"
   },
   {
    "duration": 4,
    "start_time": "2023-06-19T12:53:21.359Z"
   },
   {
    "duration": 180,
    "start_time": "2023-06-19T12:53:21.365Z"
   },
   {
    "duration": 49,
    "start_time": "2023-06-19T12:53:51.576Z"
   },
   {
    "duration": 139,
    "start_time": "2023-06-19T12:56:19.391Z"
   },
   {
    "duration": 47,
    "start_time": "2023-06-19T12:56:25.261Z"
   },
   {
    "duration": 53,
    "start_time": "2023-06-19T12:56:37.208Z"
   },
   {
    "duration": 54,
    "start_time": "2023-06-19T12:56:42.375Z"
   },
   {
    "duration": 18,
    "start_time": "2023-06-19T12:58:09.227Z"
   },
   {
    "duration": 18,
    "start_time": "2023-06-19T12:58:12.374Z"
   },
   {
    "duration": 56,
    "start_time": "2023-06-19T12:58:20.102Z"
   },
   {
    "duration": 385,
    "start_time": "2023-06-19T13:03:04.984Z"
   },
   {
    "duration": 224,
    "start_time": "2023-06-19T13:03:07.928Z"
   },
   {
    "duration": 428,
    "start_time": "2023-06-19T13:03:47.924Z"
   },
   {
    "duration": 23,
    "start_time": "2023-06-19T13:06:23.228Z"
   },
   {
    "duration": 27,
    "start_time": "2023-06-19T13:06:31.987Z"
   },
   {
    "duration": 10,
    "start_time": "2023-06-19T13:06:38.977Z"
   },
   {
    "duration": 467,
    "start_time": "2023-06-19T13:06:54.562Z"
   },
   {
    "duration": 415,
    "start_time": "2023-06-19T13:07:04.274Z"
   },
   {
    "duration": 409,
    "start_time": "2023-06-19T13:07:11.133Z"
   },
   {
    "duration": 170,
    "start_time": "2023-06-19T13:07:50.992Z"
   },
   {
    "duration": 167,
    "start_time": "2023-06-19T13:08:11.925Z"
   },
   {
    "duration": 189,
    "start_time": "2023-06-19T13:08:25.322Z"
   },
   {
    "duration": 1325,
    "start_time": "2023-06-19T16:22:39.315Z"
   },
   {
    "duration": 987,
    "start_time": "2023-06-19T16:22:40.643Z"
   },
   {
    "duration": 4,
    "start_time": "2023-06-19T16:22:41.632Z"
   },
   {
    "duration": 74,
    "start_time": "2023-06-19T16:22:41.639Z"
   },
   {
    "duration": 9,
    "start_time": "2023-06-19T16:22:41.715Z"
   },
   {
    "duration": 25,
    "start_time": "2023-06-19T16:22:41.727Z"
   },
   {
    "duration": 59,
    "start_time": "2023-06-19T16:22:41.754Z"
   },
   {
    "duration": 23,
    "start_time": "2023-06-19T16:22:41.814Z"
   },
   {
    "duration": 16,
    "start_time": "2023-06-19T16:22:41.839Z"
   },
   {
    "duration": 57,
    "start_time": "2023-06-19T16:22:41.858Z"
   },
   {
    "duration": 15,
    "start_time": "2023-06-19T16:22:41.917Z"
   },
   {
    "duration": 12,
    "start_time": "2023-06-19T16:22:41.934Z"
   },
   {
    "duration": 85,
    "start_time": "2023-06-19T16:22:41.948Z"
   },
   {
    "duration": 78,
    "start_time": "2023-06-19T16:22:42.035Z"
   },
   {
    "duration": 7,
    "start_time": "2023-06-19T16:22:42.116Z"
   },
   {
    "duration": 142,
    "start_time": "2023-06-19T16:22:42.125Z"
   },
   {
    "duration": 12,
    "start_time": "2023-06-19T16:22:42.270Z"
   },
   {
    "duration": 33,
    "start_time": "2023-06-19T16:22:42.284Z"
   },
   {
    "duration": 20,
    "start_time": "2023-06-19T16:22:42.319Z"
   },
   {
    "duration": 76,
    "start_time": "2023-06-19T16:22:42.341Z"
   },
   {
    "duration": 19,
    "start_time": "2023-06-19T16:22:42.419Z"
   },
   {
    "duration": 16,
    "start_time": "2023-06-19T16:22:42.440Z"
   },
   {
    "duration": 21,
    "start_time": "2023-06-19T16:22:42.513Z"
   },
   {
    "duration": 13,
    "start_time": "2023-06-19T16:22:42.536Z"
   },
   {
    "duration": 64,
    "start_time": "2023-06-19T16:22:42.551Z"
   },
   {
    "duration": 5,
    "start_time": "2023-06-19T16:22:42.617Z"
   },
   {
    "duration": 41,
    "start_time": "2023-06-19T16:22:42.623Z"
   },
   {
    "duration": 7,
    "start_time": "2023-06-19T16:22:42.712Z"
   },
   {
    "duration": 92,
    "start_time": "2023-06-19T16:22:42.721Z"
   },
   {
    "duration": 17,
    "start_time": "2023-06-19T16:22:42.816Z"
   },
   {
    "duration": 5,
    "start_time": "2023-06-19T16:22:42.835Z"
   },
   {
    "duration": 6,
    "start_time": "2023-06-19T16:22:42.842Z"
   },
   {
    "duration": 12,
    "start_time": "2023-06-19T16:22:42.849Z"
   },
   {
    "duration": 8,
    "start_time": "2023-06-19T16:22:42.914Z"
   },
   {
    "duration": 104,
    "start_time": "2023-06-19T16:22:42.924Z"
   },
   {
    "duration": 6,
    "start_time": "2023-06-19T16:22:43.030Z"
   },
   {
    "duration": 7,
    "start_time": "2023-06-19T16:22:43.038Z"
   },
   {
    "duration": 66,
    "start_time": "2023-06-19T16:22:43.047Z"
   },
   {
    "duration": 13,
    "start_time": "2023-06-19T16:22:43.116Z"
   },
   {
    "duration": 17,
    "start_time": "2023-06-19T16:22:43.131Z"
   },
   {
    "duration": 68,
    "start_time": "2023-06-19T16:22:43.150Z"
   },
   {
    "duration": 6,
    "start_time": "2023-06-19T16:22:43.221Z"
   },
   {
    "duration": 7,
    "start_time": "2023-06-19T16:22:43.229Z"
   },
   {
    "duration": 22,
    "start_time": "2023-06-19T16:22:43.237Z"
   },
   {
    "duration": 63,
    "start_time": "2023-06-19T16:22:43.261Z"
   },
   {
    "duration": 17,
    "start_time": "2023-06-19T16:22:43.326Z"
   },
   {
    "duration": 3,
    "start_time": "2023-06-19T16:22:43.345Z"
   },
   {
    "duration": 211,
    "start_time": "2023-06-19T16:22:43.350Z"
   },
   {
    "duration": 60,
    "start_time": "2023-06-19T16:22:43.563Z"
   },
   {
    "duration": 473,
    "start_time": "2023-06-19T16:22:43.624Z"
   },
   {
    "duration": 178,
    "start_time": "2023-06-19T16:22:44.098Z"
   },
   {
    "duration": 139,
    "start_time": "2023-06-19T16:22:44.278Z"
   },
   {
    "duration": 1223,
    "start_time": "2023-06-19T16:22:55.045Z"
   },
   {
    "duration": 1217,
    "start_time": "2023-06-19T16:22:56.270Z"
   },
   {
    "duration": 4,
    "start_time": "2023-06-19T16:22:57.489Z"
   },
   {
    "duration": 13,
    "start_time": "2023-06-19T16:22:57.494Z"
   },
   {
    "duration": 17,
    "start_time": "2023-06-19T16:22:57.509Z"
   },
   {
    "duration": 16,
    "start_time": "2023-06-19T16:22:57.527Z"
   },
   {
    "duration": 5,
    "start_time": "2023-06-19T16:22:57.544Z"
   },
   {
    "duration": 21,
    "start_time": "2023-06-19T16:22:57.551Z"
   },
   {
    "duration": 11,
    "start_time": "2023-06-19T16:22:57.574Z"
   },
   {
    "duration": 31,
    "start_time": "2023-06-19T16:22:57.586Z"
   },
   {
    "duration": 31,
    "start_time": "2023-06-19T16:22:57.619Z"
   },
   {
    "duration": 11,
    "start_time": "2023-06-19T16:22:57.652Z"
   },
   {
    "duration": 27,
    "start_time": "2023-06-19T16:22:57.665Z"
   },
   {
    "duration": 22,
    "start_time": "2023-06-19T16:22:57.696Z"
   },
   {
    "duration": 6,
    "start_time": "2023-06-19T16:22:57.720Z"
   },
   {
    "duration": 8,
    "start_time": "2023-06-19T16:22:57.728Z"
   },
   {
    "duration": 12,
    "start_time": "2023-06-19T16:22:57.738Z"
   },
   {
    "duration": 53,
    "start_time": "2023-06-19T16:22:57.753Z"
   },
   {
    "duration": 53,
    "start_time": "2023-06-19T16:22:57.807Z"
   },
   {
    "duration": 16,
    "start_time": "2023-06-19T16:22:57.862Z"
   },
   {
    "duration": 11,
    "start_time": "2023-06-19T16:22:57.880Z"
   },
   {
    "duration": 13,
    "start_time": "2023-06-19T16:22:57.893Z"
   },
   {
    "duration": 13,
    "start_time": "2023-06-19T16:22:57.908Z"
   },
   {
    "duration": 12,
    "start_time": "2023-06-19T16:22:57.923Z"
   },
   {
    "duration": 8,
    "start_time": "2023-06-19T16:22:57.936Z"
   },
   {
    "duration": 4,
    "start_time": "2023-06-19T16:22:57.946Z"
   },
   {
    "duration": 18,
    "start_time": "2023-06-19T16:22:57.952Z"
   },
   {
    "duration": 6,
    "start_time": "2023-06-19T16:22:57.971Z"
   },
   {
    "duration": 57,
    "start_time": "2023-06-19T16:22:57.979Z"
   },
   {
    "duration": 14,
    "start_time": "2023-06-19T16:22:58.039Z"
   },
   {
    "duration": 5,
    "start_time": "2023-06-19T16:22:58.054Z"
   },
   {
    "duration": 8,
    "start_time": "2023-06-19T16:22:58.061Z"
   },
   {
    "duration": 43,
    "start_time": "2023-06-19T16:22:58.071Z"
   },
   {
    "duration": 6,
    "start_time": "2023-06-19T16:22:58.115Z"
   },
   {
    "duration": 38,
    "start_time": "2023-06-19T16:22:58.123Z"
   },
   {
    "duration": 7,
    "start_time": "2023-06-19T16:22:58.162Z"
   },
   {
    "duration": 7,
    "start_time": "2023-06-19T16:22:58.171Z"
   },
   {
    "duration": 39,
    "start_time": "2023-06-19T16:22:58.180Z"
   },
   {
    "duration": 14,
    "start_time": "2023-06-19T16:22:58.221Z"
   },
   {
    "duration": 16,
    "start_time": "2023-06-19T16:22:58.237Z"
   },
   {
    "duration": 9,
    "start_time": "2023-06-19T16:22:58.259Z"
   },
   {
    "duration": 10,
    "start_time": "2023-06-19T16:22:58.270Z"
   },
   {
    "duration": 35,
    "start_time": "2023-06-19T16:22:58.282Z"
   },
   {
    "duration": 44,
    "start_time": "2023-06-19T16:22:58.319Z"
   },
   {
    "duration": 39,
    "start_time": "2023-06-19T16:22:58.365Z"
   },
   {
    "duration": 43,
    "start_time": "2023-06-19T16:22:58.406Z"
   },
   {
    "duration": 19,
    "start_time": "2023-06-19T16:22:58.451Z"
   },
   {
    "duration": 243,
    "start_time": "2023-06-19T16:22:58.472Z"
   },
   {
    "duration": 14,
    "start_time": "2023-06-19T16:22:58.717Z"
   },
   {
    "duration": 496,
    "start_time": "2023-06-19T16:22:58.733Z"
   },
   {
    "duration": 182,
    "start_time": "2023-06-19T16:22:59.231Z"
   },
   {
    "duration": 133,
    "start_time": "2023-06-19T16:22:59.415Z"
   },
   {
    "duration": 75,
    "start_time": "2023-06-19T16:30:28.460Z"
   },
   {
    "duration": 109,
    "start_time": "2023-06-19T16:31:10.596Z"
   },
   {
    "duration": 394,
    "start_time": "2023-06-19T16:31:21.803Z"
   },
   {
    "duration": 14,
    "start_time": "2023-06-19T16:36:18.515Z"
   },
   {
    "duration": 13,
    "start_time": "2023-06-19T16:36:36.992Z"
   },
   {
    "duration": 5,
    "start_time": "2023-06-19T16:37:13.606Z"
   },
   {
    "duration": 5,
    "start_time": "2023-06-19T16:37:59.184Z"
   },
   {
    "duration": 1584,
    "start_time": "2023-06-19T16:38:04.147Z"
   },
   {
    "duration": 1353,
    "start_time": "2023-06-19T16:38:05.734Z"
   },
   {
    "duration": 4,
    "start_time": "2023-06-19T16:38:07.089Z"
   },
   {
    "duration": 31,
    "start_time": "2023-06-19T16:38:07.096Z"
   },
   {
    "duration": 10,
    "start_time": "2023-06-19T16:38:07.130Z"
   },
   {
    "duration": 22,
    "start_time": "2023-06-19T16:38:07.142Z"
   },
   {
    "duration": 6,
    "start_time": "2023-06-19T16:38:07.166Z"
   },
   {
    "duration": 68,
    "start_time": "2023-06-19T16:38:07.174Z"
   },
   {
    "duration": 9,
    "start_time": "2023-06-19T16:38:07.245Z"
   },
   {
    "duration": 24,
    "start_time": "2023-06-19T16:38:07.258Z"
   },
   {
    "duration": 50,
    "start_time": "2023-06-19T16:38:07.284Z"
   },
   {
    "duration": 16,
    "start_time": "2023-06-19T16:38:07.337Z"
   },
   {
    "duration": 23,
    "start_time": "2023-06-19T16:38:07.355Z"
   },
   {
    "duration": 44,
    "start_time": "2023-06-19T16:38:07.380Z"
   },
   {
    "duration": 8,
    "start_time": "2023-06-19T16:38:07.426Z"
   },
   {
    "duration": 39,
    "start_time": "2023-06-19T16:38:07.436Z"
   },
   {
    "duration": 16,
    "start_time": "2023-06-19T16:38:07.478Z"
   },
   {
    "duration": 21,
    "start_time": "2023-06-19T16:38:07.497Z"
   },
   {
    "duration": 13,
    "start_time": "2023-06-19T16:38:07.520Z"
   },
   {
    "duration": 24,
    "start_time": "2023-06-19T16:38:07.535Z"
   },
   {
    "duration": 18,
    "start_time": "2023-06-19T16:38:07.561Z"
   },
   {
    "duration": 43,
    "start_time": "2023-06-19T16:38:07.582Z"
   },
   {
    "duration": 31,
    "start_time": "2023-06-19T16:38:07.627Z"
   },
   {
    "duration": 25,
    "start_time": "2023-06-19T16:38:07.660Z"
   },
   {
    "duration": 24,
    "start_time": "2023-06-19T16:38:07.690Z"
   },
   {
    "duration": 51,
    "start_time": "2023-06-19T16:38:07.718Z"
   },
   {
    "duration": 79,
    "start_time": "2023-06-19T16:38:07.771Z"
   },
   {
    "duration": 9,
    "start_time": "2023-06-19T16:38:07.854Z"
   },
   {
    "duration": 27,
    "start_time": "2023-06-19T16:38:07.865Z"
   },
   {
    "duration": 13,
    "start_time": "2023-06-19T16:38:07.894Z"
   },
   {
    "duration": 9,
    "start_time": "2023-06-19T16:38:07.909Z"
   },
   {
    "duration": 8,
    "start_time": "2023-06-19T16:38:07.921Z"
   },
   {
    "duration": 17,
    "start_time": "2023-06-19T16:38:07.931Z"
   },
   {
    "duration": 12,
    "start_time": "2023-06-19T16:38:07.950Z"
   },
   {
    "duration": 51,
    "start_time": "2023-06-19T16:38:07.964Z"
   },
   {
    "duration": 7,
    "start_time": "2023-06-19T16:38:08.017Z"
   },
   {
    "duration": 12,
    "start_time": "2023-06-19T16:38:08.027Z"
   },
   {
    "duration": 11,
    "start_time": "2023-06-19T16:38:08.042Z"
   },
   {
    "duration": 11,
    "start_time": "2023-06-19T16:38:08.055Z"
   },
   {
    "duration": 11,
    "start_time": "2023-06-19T16:38:08.068Z"
   },
   {
    "duration": 12,
    "start_time": "2023-06-19T16:38:08.114Z"
   },
   {
    "duration": 23,
    "start_time": "2023-06-19T16:38:08.129Z"
   },
   {
    "duration": 11,
    "start_time": "2023-06-19T16:38:08.154Z"
   },
   {
    "duration": 14,
    "start_time": "2023-06-19T16:38:08.168Z"
   },
   {
    "duration": 40,
    "start_time": "2023-06-19T16:38:08.184Z"
   },
   {
    "duration": 30,
    "start_time": "2023-06-19T16:38:08.226Z"
   },
   {
    "duration": 5,
    "start_time": "2023-06-19T16:38:08.258Z"
   },
   {
    "duration": 209,
    "start_time": "2023-06-19T16:38:08.266Z"
   },
   {
    "duration": 60,
    "start_time": "2023-06-19T16:38:08.477Z"
   },
   {
    "duration": 746,
    "start_time": "2023-06-19T16:38:08.545Z"
   },
   {
    "duration": 0,
    "start_time": "2023-06-19T16:38:09.293Z"
   },
   {
    "duration": 0,
    "start_time": "2023-06-19T16:38:09.294Z"
   },
   {
    "duration": 499,
    "start_time": "2023-06-19T16:38:23.382Z"
   },
   {
    "duration": 171,
    "start_time": "2023-06-19T16:40:48.515Z"
   },
   {
    "duration": 73,
    "start_time": "2023-06-19T16:41:02.977Z"
   },
   {
    "duration": 491,
    "start_time": "2023-06-19T16:41:10.623Z"
   },
   {
    "duration": 464,
    "start_time": "2023-06-19T16:41:17.581Z"
   },
   {
    "duration": 389,
    "start_time": "2023-06-19T16:41:22.473Z"
   },
   {
    "duration": 164,
    "start_time": "2023-06-19T16:41:26.812Z"
   },
   {
    "duration": 162,
    "start_time": "2023-06-19T16:42:52.992Z"
   },
   {
    "duration": 177,
    "start_time": "2023-06-19T16:43:02.593Z"
   },
   {
    "duration": 1433,
    "start_time": "2023-06-19T16:43:17.783Z"
   },
   {
    "duration": 1013,
    "start_time": "2023-06-19T16:43:19.218Z"
   },
   {
    "duration": 5,
    "start_time": "2023-06-19T16:43:20.233Z"
   },
   {
    "duration": 38,
    "start_time": "2023-06-19T16:43:20.240Z"
   },
   {
    "duration": 11,
    "start_time": "2023-06-19T16:43:20.280Z"
   },
   {
    "duration": 31,
    "start_time": "2023-06-19T16:43:20.293Z"
   },
   {
    "duration": 39,
    "start_time": "2023-06-19T16:43:20.326Z"
   },
   {
    "duration": 45,
    "start_time": "2023-06-19T16:43:20.367Z"
   },
   {
    "duration": 14,
    "start_time": "2023-06-19T16:43:20.414Z"
   },
   {
    "duration": 10,
    "start_time": "2023-06-19T16:43:20.431Z"
   },
   {
    "duration": 7,
    "start_time": "2023-06-19T16:43:20.443Z"
   },
   {
    "duration": 9,
    "start_time": "2023-06-19T16:43:20.452Z"
   },
   {
    "duration": 20,
    "start_time": "2023-06-19T16:43:20.462Z"
   },
   {
    "duration": 48,
    "start_time": "2023-06-19T16:43:20.483Z"
   },
   {
    "duration": 7,
    "start_time": "2023-06-19T16:43:20.533Z"
   },
   {
    "duration": 7,
    "start_time": "2023-06-19T16:43:20.542Z"
   },
   {
    "duration": 7,
    "start_time": "2023-06-19T16:43:20.551Z"
   },
   {
    "duration": 6,
    "start_time": "2023-06-19T16:43:20.560Z"
   },
   {
    "duration": 6,
    "start_time": "2023-06-19T16:43:20.567Z"
   },
   {
    "duration": 55,
    "start_time": "2023-06-19T16:43:20.575Z"
   },
   {
    "duration": 16,
    "start_time": "2023-06-19T16:43:20.631Z"
   },
   {
    "duration": 11,
    "start_time": "2023-06-19T16:43:20.648Z"
   },
   {
    "duration": 21,
    "start_time": "2023-06-19T16:43:20.661Z"
   },
   {
    "duration": 42,
    "start_time": "2023-06-19T16:43:20.683Z"
   },
   {
    "duration": 23,
    "start_time": "2023-06-19T16:43:20.727Z"
   },
   {
    "duration": 8,
    "start_time": "2023-06-19T16:43:20.752Z"
   },
   {
    "duration": 30,
    "start_time": "2023-06-19T16:43:20.762Z"
   },
   {
    "duration": 6,
    "start_time": "2023-06-19T16:43:20.795Z"
   },
   {
    "duration": 29,
    "start_time": "2023-06-19T16:43:20.814Z"
   },
   {
    "duration": 20,
    "start_time": "2023-06-19T16:43:20.846Z"
   },
   {
    "duration": 5,
    "start_time": "2023-06-19T16:43:20.873Z"
   },
   {
    "duration": 25,
    "start_time": "2023-06-19T16:43:20.880Z"
   },
   {
    "duration": 9,
    "start_time": "2023-06-19T16:43:20.914Z"
   },
   {
    "duration": 22,
    "start_time": "2023-06-19T16:43:20.925Z"
   },
   {
    "duration": 40,
    "start_time": "2023-06-19T16:43:20.949Z"
   },
   {
    "duration": 6,
    "start_time": "2023-06-19T16:43:20.991Z"
   },
   {
    "duration": 26,
    "start_time": "2023-06-19T16:43:20.999Z"
   },
   {
    "duration": 69,
    "start_time": "2023-06-19T16:43:21.027Z"
   },
   {
    "duration": 21,
    "start_time": "2023-06-19T16:43:21.098Z"
   },
   {
    "duration": 25,
    "start_time": "2023-06-19T16:43:21.120Z"
   },
   {
    "duration": 14,
    "start_time": "2023-06-19T16:43:21.146Z"
   },
   {
    "duration": 11,
    "start_time": "2023-06-19T16:43:21.162Z"
   },
   {
    "duration": 17,
    "start_time": "2023-06-19T16:43:21.176Z"
   },
   {
    "duration": 39,
    "start_time": "2023-06-19T16:43:21.195Z"
   },
   {
    "duration": 25,
    "start_time": "2023-06-19T16:43:21.236Z"
   },
   {
    "duration": 21,
    "start_time": "2023-06-19T16:43:21.263Z"
   },
   {
    "duration": 4,
    "start_time": "2023-06-19T16:43:21.286Z"
   },
   {
    "duration": 217,
    "start_time": "2023-06-19T16:43:21.312Z"
   },
   {
    "duration": 14,
    "start_time": "2023-06-19T16:43:21.533Z"
   },
   {
    "duration": 537,
    "start_time": "2023-06-19T16:43:21.549Z"
   },
   {
    "duration": 154,
    "start_time": "2023-06-19T16:43:22.087Z"
   },
   {
    "duration": 220,
    "start_time": "2023-06-19T16:43:22.243Z"
   },
   {
    "duration": 139,
    "start_time": "2023-06-19T16:43:22.465Z"
   },
   {
    "duration": 170,
    "start_time": "2023-06-19T16:44:49.479Z"
   },
   {
    "duration": 580,
    "start_time": "2023-06-19T16:45:11.453Z"
   },
   {
    "duration": 5,
    "start_time": "2023-06-19T16:45:25.346Z"
   },
   {
    "duration": 1396,
    "start_time": "2023-06-19T16:45:31.152Z"
   },
   {
    "duration": 803,
    "start_time": "2023-06-19T16:45:32.550Z"
   },
   {
    "duration": 5,
    "start_time": "2023-06-19T16:45:33.355Z"
   },
   {
    "duration": 41,
    "start_time": "2023-06-19T16:45:33.363Z"
   },
   {
    "duration": 25,
    "start_time": "2023-06-19T16:45:33.406Z"
   },
   {
    "duration": 42,
    "start_time": "2023-06-19T16:45:33.433Z"
   },
   {
    "duration": 21,
    "start_time": "2023-06-19T16:45:33.477Z"
   },
   {
    "duration": 50,
    "start_time": "2023-06-19T16:45:33.500Z"
   },
   {
    "duration": 13,
    "start_time": "2023-06-19T16:45:33.552Z"
   },
   {
    "duration": 15,
    "start_time": "2023-06-19T16:45:33.569Z"
   },
   {
    "duration": 30,
    "start_time": "2023-06-19T16:45:33.586Z"
   },
   {
    "duration": 42,
    "start_time": "2023-06-19T16:45:33.618Z"
   },
   {
    "duration": 47,
    "start_time": "2023-06-19T16:45:33.664Z"
   },
   {
    "duration": 46,
    "start_time": "2023-06-19T16:45:33.712Z"
   },
   {
    "duration": 12,
    "start_time": "2023-06-19T16:45:33.760Z"
   },
   {
    "duration": 25,
    "start_time": "2023-06-19T16:45:33.774Z"
   },
   {
    "duration": 10,
    "start_time": "2023-06-19T16:45:33.801Z"
   },
   {
    "duration": 12,
    "start_time": "2023-06-19T16:45:33.812Z"
   },
   {
    "duration": 9,
    "start_time": "2023-06-19T16:45:33.826Z"
   },
   {
    "duration": 38,
    "start_time": "2023-06-19T16:45:33.837Z"
   },
   {
    "duration": 19,
    "start_time": "2023-06-19T16:45:33.877Z"
   },
   {
    "duration": 24,
    "start_time": "2023-06-19T16:45:33.898Z"
   },
   {
    "duration": 22,
    "start_time": "2023-06-19T16:45:33.925Z"
   },
   {
    "duration": 21,
    "start_time": "2023-06-19T16:45:33.950Z"
   },
   {
    "duration": 34,
    "start_time": "2023-06-19T16:45:33.973Z"
   },
   {
    "duration": 11,
    "start_time": "2023-06-19T16:45:34.009Z"
   },
   {
    "duration": 84,
    "start_time": "2023-06-19T16:45:34.022Z"
   },
   {
    "duration": 7,
    "start_time": "2023-06-19T16:45:34.111Z"
   },
   {
    "duration": 35,
    "start_time": "2023-06-19T16:45:34.120Z"
   },
   {
    "duration": 86,
    "start_time": "2023-06-19T16:45:34.157Z"
   },
   {
    "duration": 4,
    "start_time": "2023-06-19T16:45:34.245Z"
   },
   {
    "duration": 14,
    "start_time": "2023-06-19T16:45:34.251Z"
   },
   {
    "duration": 13,
    "start_time": "2023-06-19T16:45:34.267Z"
   },
   {
    "duration": 22,
    "start_time": "2023-06-19T16:45:34.283Z"
   },
   {
    "duration": 37,
    "start_time": "2023-06-19T16:45:34.307Z"
   },
   {
    "duration": 7,
    "start_time": "2023-06-19T16:45:34.346Z"
   },
   {
    "duration": 25,
    "start_time": "2023-06-19T16:45:34.355Z"
   },
   {
    "duration": 11,
    "start_time": "2023-06-19T16:45:34.382Z"
   },
   {
    "duration": 20,
    "start_time": "2023-06-19T16:45:34.395Z"
   },
   {
    "duration": 26,
    "start_time": "2023-06-19T16:45:34.417Z"
   },
   {
    "duration": 15,
    "start_time": "2023-06-19T16:45:34.445Z"
   },
   {
    "duration": 13,
    "start_time": "2023-06-19T16:45:34.462Z"
   },
   {
    "duration": 10,
    "start_time": "2023-06-19T16:45:34.477Z"
   },
   {
    "duration": 28,
    "start_time": "2023-06-19T16:45:34.489Z"
   },
   {
    "duration": 33,
    "start_time": "2023-06-19T16:45:34.518Z"
   },
   {
    "duration": 26,
    "start_time": "2023-06-19T16:45:34.553Z"
   },
   {
    "duration": 28,
    "start_time": "2023-06-19T16:45:34.581Z"
   },
   {
    "duration": 218,
    "start_time": "2023-06-19T16:45:34.611Z"
   },
   {
    "duration": 15,
    "start_time": "2023-06-19T16:45:34.831Z"
   },
   {
    "duration": 552,
    "start_time": "2023-06-19T16:45:34.848Z"
   },
   {
    "duration": 156,
    "start_time": "2023-06-19T16:45:35.402Z"
   },
   {
    "duration": 182,
    "start_time": "2023-06-19T16:45:35.560Z"
   },
   {
    "duration": 179,
    "start_time": "2023-06-19T16:45:35.744Z"
   },
   {
    "duration": 619,
    "start_time": "2023-06-19T16:45:55.974Z"
   },
   {
    "duration": 377,
    "start_time": "2023-06-19T16:46:01.284Z"
   },
   {
    "duration": 1417,
    "start_time": "2023-06-19T16:46:21.146Z"
   },
   {
    "duration": 1797,
    "start_time": "2023-06-19T16:46:22.566Z"
   },
   {
    "duration": 4,
    "start_time": "2023-06-19T16:46:24.365Z"
   },
   {
    "duration": 19,
    "start_time": "2023-06-19T16:46:24.371Z"
   },
   {
    "duration": 26,
    "start_time": "2023-06-19T16:46:24.393Z"
   },
   {
    "duration": 22,
    "start_time": "2023-06-19T16:46:24.421Z"
   },
   {
    "duration": 7,
    "start_time": "2023-06-19T16:46:24.444Z"
   },
   {
    "duration": 39,
    "start_time": "2023-06-19T16:46:24.453Z"
   },
   {
    "duration": 11,
    "start_time": "2023-06-19T16:46:24.512Z"
   },
   {
    "duration": 18,
    "start_time": "2023-06-19T16:46:24.525Z"
   },
   {
    "duration": 27,
    "start_time": "2023-06-19T16:46:24.545Z"
   },
   {
    "duration": 40,
    "start_time": "2023-06-19T16:46:24.574Z"
   },
   {
    "duration": 34,
    "start_time": "2023-06-19T16:46:24.616Z"
   },
   {
    "duration": 27,
    "start_time": "2023-06-19T16:46:24.654Z"
   },
   {
    "duration": 7,
    "start_time": "2023-06-19T16:46:24.683Z"
   },
   {
    "duration": 22,
    "start_time": "2023-06-19T16:46:24.692Z"
   },
   {
    "duration": 7,
    "start_time": "2023-06-19T16:46:24.716Z"
   },
   {
    "duration": 18,
    "start_time": "2023-06-19T16:46:24.725Z"
   },
   {
    "duration": 6,
    "start_time": "2023-06-19T16:46:24.745Z"
   },
   {
    "duration": 21,
    "start_time": "2023-06-19T16:46:24.752Z"
   },
   {
    "duration": 16,
    "start_time": "2023-06-19T16:46:24.775Z"
   },
   {
    "duration": 22,
    "start_time": "2023-06-19T16:46:24.817Z"
   },
   {
    "duration": 18,
    "start_time": "2023-06-19T16:46:24.842Z"
   },
   {
    "duration": 16,
    "start_time": "2023-06-19T16:46:24.862Z"
   },
   {
    "duration": 33,
    "start_time": "2023-06-19T16:46:24.880Z"
   },
   {
    "duration": 5,
    "start_time": "2023-06-19T16:46:24.917Z"
   },
   {
    "duration": 28,
    "start_time": "2023-06-19T16:46:24.924Z"
   },
   {
    "duration": 7,
    "start_time": "2023-06-19T16:46:24.954Z"
   },
   {
    "duration": 62,
    "start_time": "2023-06-19T16:46:24.963Z"
   },
   {
    "duration": 48,
    "start_time": "2023-06-19T16:46:25.027Z"
   },
   {
    "duration": 26,
    "start_time": "2023-06-19T16:46:25.078Z"
   },
   {
    "duration": 17,
    "start_time": "2023-06-19T16:46:25.106Z"
   },
   {
    "duration": 46,
    "start_time": "2023-06-19T16:46:25.125Z"
   },
   {
    "duration": 20,
    "start_time": "2023-06-19T16:46:25.173Z"
   },
   {
    "duration": 56,
    "start_time": "2023-06-19T16:46:25.195Z"
   },
   {
    "duration": 6,
    "start_time": "2023-06-19T16:46:25.254Z"
   },
   {
    "duration": 22,
    "start_time": "2023-06-19T16:46:25.262Z"
   },
   {
    "duration": 29,
    "start_time": "2023-06-19T16:46:25.286Z"
   },
   {
    "duration": 15,
    "start_time": "2023-06-19T16:46:25.318Z"
   },
   {
    "duration": 17,
    "start_time": "2023-06-19T16:46:25.335Z"
   },
   {
    "duration": 10,
    "start_time": "2023-06-19T16:46:25.357Z"
   },
   {
    "duration": 11,
    "start_time": "2023-06-19T16:46:25.368Z"
   },
   {
    "duration": 34,
    "start_time": "2023-06-19T16:46:25.382Z"
   },
   {
    "duration": 29,
    "start_time": "2023-06-19T16:46:25.419Z"
   },
   {
    "duration": 20,
    "start_time": "2023-06-19T16:46:25.450Z"
   },
   {
    "duration": 22,
    "start_time": "2023-06-19T16:46:25.472Z"
   },
   {
    "duration": 5,
    "start_time": "2023-06-19T16:46:25.515Z"
   },
   {
    "duration": 230,
    "start_time": "2023-06-19T16:46:25.522Z"
   },
   {
    "duration": 14,
    "start_time": "2023-06-19T16:46:25.754Z"
   },
   {
    "duration": 607,
    "start_time": "2023-06-19T16:46:25.770Z"
   },
   {
    "duration": 216,
    "start_time": "2023-06-19T16:46:26.379Z"
   },
   {
    "duration": 152,
    "start_time": "2023-06-19T16:46:26.597Z"
   },
   {
    "duration": 368,
    "start_time": "2023-06-19T16:47:26.042Z"
   },
   {
    "duration": 473,
    "start_time": "2023-06-19T16:47:55.748Z"
   },
   {
    "duration": 403,
    "start_time": "2023-06-19T16:48:00.073Z"
   },
   {
    "duration": 125,
    "start_time": "2023-06-19T16:48:33.176Z"
   },
   {
    "duration": 404,
    "start_time": "2023-06-19T16:49:18.945Z"
   },
   {
    "duration": 172,
    "start_time": "2023-06-19T16:49:40.486Z"
   },
   {
    "duration": 161,
    "start_time": "2023-06-19T16:49:56.579Z"
   },
   {
    "duration": 161,
    "start_time": "2023-06-19T16:50:05.103Z"
   },
   {
    "duration": 482,
    "start_time": "2023-06-19T16:50:11.194Z"
   },
   {
    "duration": 444,
    "start_time": "2023-06-19T16:50:16.842Z"
   },
   {
    "duration": 405,
    "start_time": "2023-06-19T16:50:38.235Z"
   },
   {
    "duration": 405,
    "start_time": "2023-06-19T16:50:44.153Z"
   },
   {
    "duration": 143,
    "start_time": "2023-06-19T16:50:48.552Z"
   },
   {
    "duration": 440,
    "start_time": "2023-06-19T16:51:22.313Z"
   },
   {
    "duration": 89,
    "start_time": "2023-06-19T16:51:33.487Z"
   },
   {
    "duration": 553,
    "start_time": "2023-06-19T16:51:41.655Z"
   },
   {
    "duration": 422,
    "start_time": "2023-06-19T16:51:46.141Z"
   },
   {
    "duration": 520,
    "start_time": "2023-06-19T16:51:58.592Z"
   },
   {
    "duration": 419,
    "start_time": "2023-06-19T16:52:06.075Z"
   },
   {
    "duration": 422,
    "start_time": "2023-06-19T16:52:24.655Z"
   },
   {
    "duration": 487,
    "start_time": "2023-06-19T16:52:39.691Z"
   },
   {
    "duration": 540,
    "start_time": "2023-06-19T16:52:50.903Z"
   },
   {
    "duration": 417,
    "start_time": "2023-06-19T16:53:15.730Z"
   },
   {
    "duration": 537,
    "start_time": "2023-06-19T16:53:39.147Z"
   },
   {
    "duration": 464,
    "start_time": "2023-06-19T16:53:44.632Z"
   },
   {
    "duration": 417,
    "start_time": "2023-06-19T16:54:00.139Z"
   },
   {
    "duration": 570,
    "start_time": "2023-06-19T16:54:19.758Z"
   },
   {
    "duration": 466,
    "start_time": "2023-06-19T16:54:33.895Z"
   },
   {
    "duration": 501,
    "start_time": "2023-06-19T16:54:59.847Z"
   },
   {
    "duration": 426,
    "start_time": "2023-06-19T16:55:09.328Z"
   },
   {
    "duration": 543,
    "start_time": "2023-06-19T16:55:19.495Z"
   },
   {
    "duration": 448,
    "start_time": "2023-06-19T16:55:23.504Z"
   },
   {
    "duration": 727,
    "start_time": "2023-06-19T16:55:35.161Z"
   },
   {
    "duration": 457,
    "start_time": "2023-06-19T16:55:40.091Z"
   },
   {
    "duration": 403,
    "start_time": "2023-06-19T16:55:46.254Z"
   },
   {
    "duration": 422,
    "start_time": "2023-06-19T16:55:51.187Z"
   },
   {
    "duration": 441,
    "start_time": "2023-06-19T16:55:55.913Z"
   },
   {
    "duration": 510,
    "start_time": "2023-06-19T16:56:06.743Z"
   },
   {
    "duration": 404,
    "start_time": "2023-06-19T16:56:25.005Z"
   },
   {
    "duration": 437,
    "start_time": "2023-06-19T16:56:32.903Z"
   },
   {
    "duration": 27,
    "start_time": "2023-06-19T16:57:24.341Z"
   },
   {
    "duration": 307,
    "start_time": "2023-06-19T16:59:06.705Z"
   },
   {
    "duration": 12,
    "start_time": "2023-06-19T17:01:07.903Z"
   },
   {
    "duration": 3562,
    "start_time": "2023-06-19T17:01:27.826Z"
   },
   {
    "duration": 473,
    "start_time": "2023-06-19T17:01:45.991Z"
   },
   {
    "duration": 1157,
    "start_time": "2023-06-19T17:02:37.195Z"
   },
   {
    "duration": 386,
    "start_time": "2023-06-19T17:03:50.833Z"
   },
   {
    "duration": 43,
    "start_time": "2023-06-19T17:16:02.039Z"
   },
   {
    "duration": 23,
    "start_time": "2023-06-19T17:16:58.355Z"
   },
   {
    "duration": 11,
    "start_time": "2023-06-19T17:17:53.121Z"
   },
   {
    "duration": 1378,
    "start_time": "2023-06-19T17:17:57.890Z"
   },
   {
    "duration": 1234,
    "start_time": "2023-06-19T17:17:59.270Z"
   },
   {
    "duration": 16,
    "start_time": "2023-06-19T17:18:00.506Z"
   },
   {
    "duration": 224,
    "start_time": "2023-06-19T17:18:00.528Z"
   },
   {
    "duration": 167,
    "start_time": "2023-06-19T17:18:00.756Z"
   },
   {
    "duration": 344,
    "start_time": "2023-06-19T17:18:00.927Z"
   },
   {
    "duration": 313,
    "start_time": "2023-06-19T17:18:01.273Z"
   },
   {
    "duration": 79,
    "start_time": "2023-06-19T17:18:01.588Z"
   },
   {
    "duration": 30,
    "start_time": "2023-06-19T17:18:01.669Z"
   },
   {
    "duration": 172,
    "start_time": "2023-06-19T17:18:01.702Z"
   },
   {
    "duration": 390,
    "start_time": "2023-06-19T17:18:01.876Z"
   },
   {
    "duration": 208,
    "start_time": "2023-06-19T17:18:02.270Z"
   },
   {
    "duration": 95,
    "start_time": "2023-06-19T17:18:02.480Z"
   },
   {
    "duration": 107,
    "start_time": "2023-06-19T17:18:02.579Z"
   },
   {
    "duration": 67,
    "start_time": "2023-06-19T17:18:02.688Z"
   },
   {
    "duration": 132,
    "start_time": "2023-06-19T17:18:02.757Z"
   },
   {
    "duration": 64,
    "start_time": "2023-06-19T17:18:02.891Z"
   },
   {
    "duration": 30,
    "start_time": "2023-06-19T17:18:02.957Z"
   },
   {
    "duration": 49,
    "start_time": "2023-06-19T17:18:02.988Z"
   },
   {
    "duration": 204,
    "start_time": "2023-06-19T17:18:03.039Z"
   },
   {
    "duration": 441,
    "start_time": "2023-06-19T17:18:03.245Z"
   },
   {
    "duration": 661,
    "start_time": "2023-06-19T17:18:03.688Z"
   },
   {
    "duration": 16,
    "start_time": "2023-06-19T17:18:04.351Z"
   },
   {
    "duration": 18,
    "start_time": "2023-06-19T17:18:04.368Z"
   },
   {
    "duration": 10,
    "start_time": "2023-06-19T17:18:04.389Z"
   },
   {
    "duration": 4,
    "start_time": "2023-06-19T17:18:04.402Z"
   },
   {
    "duration": 40,
    "start_time": "2023-06-19T17:18:04.418Z"
   },
   {
    "duration": 7,
    "start_time": "2023-06-19T17:18:04.460Z"
   },
   {
    "duration": 32,
    "start_time": "2023-06-19T17:18:04.468Z"
   },
   {
    "duration": 34,
    "start_time": "2023-06-19T17:18:04.502Z"
   },
   {
    "duration": 5,
    "start_time": "2023-06-19T17:18:04.539Z"
   },
   {
    "duration": 30,
    "start_time": "2023-06-19T17:18:04.546Z"
   },
   {
    "duration": 25,
    "start_time": "2023-06-19T17:18:04.579Z"
   },
   {
    "duration": 34,
    "start_time": "2023-06-19T17:18:04.606Z"
   },
   {
    "duration": 48,
    "start_time": "2023-06-19T17:18:04.645Z"
   },
   {
    "duration": 28,
    "start_time": "2023-06-19T17:18:04.696Z"
   },
   {
    "duration": 39,
    "start_time": "2023-06-19T17:18:04.726Z"
   },
   {
    "duration": 9,
    "start_time": "2023-06-19T17:18:04.767Z"
   },
   {
    "duration": 21,
    "start_time": "2023-06-19T17:18:04.778Z"
   },
   {
    "duration": 51,
    "start_time": "2023-06-19T17:18:04.801Z"
   },
   {
    "duration": 61,
    "start_time": "2023-06-19T17:18:04.858Z"
   },
   {
    "duration": 37,
    "start_time": "2023-06-19T17:18:04.931Z"
   },
   {
    "duration": 35,
    "start_time": "2023-06-19T17:18:04.970Z"
   },
   {
    "duration": 302,
    "start_time": "2023-06-19T17:18:05.007Z"
   },
   {
    "duration": 126,
    "start_time": "2023-06-19T17:18:05.311Z"
   },
   {
    "duration": 49,
    "start_time": "2023-06-19T17:18:05.442Z"
   },
   {
    "duration": 4,
    "start_time": "2023-06-19T17:18:05.493Z"
   },
   {
    "duration": 274,
    "start_time": "2023-06-19T17:18:05.499Z"
   },
   {
    "duration": 285,
    "start_time": "2023-06-19T17:18:05.775Z"
   },
   {
    "duration": 0,
    "start_time": "2023-06-19T17:18:06.063Z"
   },
   {
    "duration": 0,
    "start_time": "2023-06-19T17:18:06.064Z"
   },
   {
    "duration": 0,
    "start_time": "2023-06-19T17:18:06.065Z"
   },
   {
    "duration": 0,
    "start_time": "2023-06-19T17:18:06.066Z"
   },
   {
    "duration": 0,
    "start_time": "2023-06-19T17:18:06.068Z"
   },
   {
    "duration": 0,
    "start_time": "2023-06-19T17:18:06.070Z"
   },
   {
    "duration": 40,
    "start_time": "2023-06-19T17:18:27.309Z"
   },
   {
    "duration": 32,
    "start_time": "2023-06-19T17:18:55.688Z"
   },
   {
    "duration": 21,
    "start_time": "2023-06-19T17:19:37.451Z"
   },
   {
    "duration": 1441,
    "start_time": "2023-06-19T18:08:52.089Z"
   },
   {
    "duration": 1239,
    "start_time": "2023-06-19T18:14:31.561Z"
   },
   {
    "duration": 1350,
    "start_time": "2023-06-19T18:14:39.811Z"
   },
   {
    "duration": 639,
    "start_time": "2023-06-19T18:17:29.569Z"
   },
   {
    "duration": 599,
    "start_time": "2023-06-19T18:17:48.306Z"
   },
   {
    "duration": 381,
    "start_time": "2023-06-19T18:18:01.967Z"
   },
   {
    "duration": 210,
    "start_time": "2023-06-19T18:21:19.471Z"
   },
   {
    "duration": 245,
    "start_time": "2023-06-19T18:21:56.271Z"
   },
   {
    "duration": 212,
    "start_time": "2023-06-19T18:22:07.001Z"
   },
   {
    "duration": 348,
    "start_time": "2023-06-19T18:22:12.702Z"
   },
   {
    "duration": 247,
    "start_time": "2023-06-19T18:22:31.509Z"
   },
   {
    "duration": 220,
    "start_time": "2023-06-19T18:23:50.804Z"
   },
   {
    "duration": 79,
    "start_time": "2023-06-19T18:29:37.536Z"
   },
   {
    "duration": 35,
    "start_time": "2023-06-19T18:36:42.162Z"
   },
   {
    "duration": 29,
    "start_time": "2023-06-19T18:36:55.700Z"
   },
   {
    "duration": 14,
    "start_time": "2023-06-19T18:41:46.840Z"
   },
   {
    "duration": 1033,
    "start_time": "2023-06-19T18:43:02.865Z"
   },
   {
    "duration": 17,
    "start_time": "2023-06-19T18:43:15.214Z"
   },
   {
    "duration": 11,
    "start_time": "2023-06-19T18:46:12.094Z"
   },
   {
    "duration": 14,
    "start_time": "2023-06-19T18:47:50.861Z"
   },
   {
    "duration": 18,
    "start_time": "2023-06-19T18:48:03.638Z"
   },
   {
    "duration": 20,
    "start_time": "2023-06-19T18:48:59.719Z"
   },
   {
    "duration": 15,
    "start_time": "2023-06-19T18:49:13.943Z"
   },
   {
    "duration": 15,
    "start_time": "2023-06-19T18:49:20.764Z"
   },
   {
    "duration": 23,
    "start_time": "2023-06-19T18:50:19.900Z"
   },
   {
    "duration": 5,
    "start_time": "2023-06-19T18:52:10.071Z"
   },
   {
    "duration": 63,
    "start_time": "2023-06-19T18:52:19.023Z"
   },
   {
    "duration": 7,
    "start_time": "2023-06-19T18:52:22.726Z"
   },
   {
    "duration": 20,
    "start_time": "2023-06-19T18:52:34.231Z"
   },
   {
    "duration": 15,
    "start_time": "2023-06-19T18:53:05.193Z"
   },
   {
    "duration": 9,
    "start_time": "2023-06-19T18:53:23.155Z"
   },
   {
    "duration": 6,
    "start_time": "2023-06-19T18:53:32.163Z"
   },
   {
    "duration": 7,
    "start_time": "2023-06-19T18:53:37.994Z"
   },
   {
    "duration": 11,
    "start_time": "2023-06-19T18:54:38.018Z"
   },
   {
    "duration": 11,
    "start_time": "2023-06-19T18:54:40.101Z"
   },
   {
    "duration": 11,
    "start_time": "2023-06-19T18:54:47.322Z"
   },
   {
    "duration": 9,
    "start_time": "2023-06-19T18:55:01.346Z"
   },
   {
    "duration": 10,
    "start_time": "2023-06-19T19:11:55.634Z"
   },
   {
    "duration": 9,
    "start_time": "2023-06-19T19:12:11.838Z"
   },
   {
    "duration": 15,
    "start_time": "2023-06-19T19:12:49.831Z"
   },
   {
    "duration": 11,
    "start_time": "2023-06-19T19:14:29.464Z"
   },
   {
    "duration": 13,
    "start_time": "2023-06-19T19:14:39.748Z"
   },
   {
    "duration": 17,
    "start_time": "2023-06-19T19:18:00.478Z"
   },
   {
    "duration": 12,
    "start_time": "2023-06-19T19:18:23.620Z"
   },
   {
    "duration": 15,
    "start_time": "2023-06-19T19:18:30.974Z"
   },
   {
    "duration": 1025,
    "start_time": "2023-06-19T19:19:23.671Z"
   },
   {
    "duration": 1138,
    "start_time": "2023-06-19T19:20:08.149Z"
   },
   {
    "duration": 7,
    "start_time": "2023-06-19T19:20:56.979Z"
   },
   {
    "duration": 1152,
    "start_time": "2023-06-19T19:20:59.941Z"
   },
   {
    "duration": 17,
    "start_time": "2023-06-19T19:21:24.310Z"
   },
   {
    "duration": 11,
    "start_time": "2023-06-19T19:22:14.597Z"
   },
   {
    "duration": 16,
    "start_time": "2023-06-19T19:22:46.551Z"
   },
   {
    "duration": 31,
    "start_time": "2023-06-19T19:22:57.031Z"
   },
   {
    "duration": 15,
    "start_time": "2023-06-19T19:23:04.323Z"
   },
   {
    "duration": 1645,
    "start_time": "2023-06-19T19:23:21.242Z"
   },
   {
    "duration": 1229,
    "start_time": "2023-06-19T19:23:22.891Z"
   },
   {
    "duration": 4,
    "start_time": "2023-06-19T19:23:24.123Z"
   },
   {
    "duration": 34,
    "start_time": "2023-06-19T19:23:24.130Z"
   },
   {
    "duration": 13,
    "start_time": "2023-06-19T19:23:24.167Z"
   },
   {
    "duration": 49,
    "start_time": "2023-06-19T19:23:24.183Z"
   },
   {
    "duration": 9,
    "start_time": "2023-06-19T19:23:24.235Z"
   },
   {
    "duration": 56,
    "start_time": "2023-06-19T19:23:24.247Z"
   },
   {
    "duration": 13,
    "start_time": "2023-06-19T19:23:24.306Z"
   },
   {
    "duration": 21,
    "start_time": "2023-06-19T19:23:24.323Z"
   },
   {
    "duration": 17,
    "start_time": "2023-06-19T19:23:24.347Z"
   },
   {
    "duration": 16,
    "start_time": "2023-06-19T19:23:24.367Z"
   },
   {
    "duration": 60,
    "start_time": "2023-06-19T19:23:24.386Z"
   },
   {
    "duration": 39,
    "start_time": "2023-06-19T19:23:24.448Z"
   },
   {
    "duration": 9,
    "start_time": "2023-06-19T19:23:24.490Z"
   },
   {
    "duration": 9,
    "start_time": "2023-06-19T19:23:24.512Z"
   },
   {
    "duration": 10,
    "start_time": "2023-06-19T19:23:24.523Z"
   },
   {
    "duration": 14,
    "start_time": "2023-06-19T19:23:24.536Z"
   },
   {
    "duration": 29,
    "start_time": "2023-06-19T19:23:24.553Z"
   },
   {
    "duration": 48,
    "start_time": "2023-06-19T19:23:24.584Z"
   },
   {
    "duration": 93,
    "start_time": "2023-06-19T19:23:24.634Z"
   },
   {
    "duration": 98,
    "start_time": "2023-06-19T19:23:24.729Z"
   },
   {
    "duration": 22,
    "start_time": "2023-06-19T19:23:24.830Z"
   },
   {
    "duration": 21,
    "start_time": "2023-06-19T19:23:24.855Z"
   },
   {
    "duration": 42,
    "start_time": "2023-06-19T19:23:24.879Z"
   },
   {
    "duration": 5,
    "start_time": "2023-06-19T19:23:24.923Z"
   },
   {
    "duration": 30,
    "start_time": "2023-06-19T19:23:24.931Z"
   },
   {
    "duration": 9,
    "start_time": "2023-06-19T19:23:24.966Z"
   },
   {
    "duration": 65,
    "start_time": "2023-06-19T19:23:24.978Z"
   },
   {
    "duration": 20,
    "start_time": "2023-06-19T19:23:25.046Z"
   },
   {
    "duration": 11,
    "start_time": "2023-06-19T19:23:25.076Z"
   },
   {
    "duration": 27,
    "start_time": "2023-06-19T19:23:25.090Z"
   },
   {
    "duration": 21,
    "start_time": "2023-06-19T19:23:25.120Z"
   },
   {
    "duration": 17,
    "start_time": "2023-06-19T19:23:25.143Z"
   },
   {
    "duration": 57,
    "start_time": "2023-06-19T19:23:25.163Z"
   },
   {
    "duration": 7,
    "start_time": "2023-06-19T19:23:25.223Z"
   },
   {
    "duration": 64,
    "start_time": "2023-06-19T19:23:25.232Z"
   },
   {
    "duration": 16,
    "start_time": "2023-06-19T19:23:25.298Z"
   },
   {
    "duration": 14,
    "start_time": "2023-06-19T19:23:25.316Z"
   },
   {
    "duration": 47,
    "start_time": "2023-06-19T19:23:25.332Z"
   },
   {
    "duration": 22,
    "start_time": "2023-06-19T19:23:25.382Z"
   },
   {
    "duration": 14,
    "start_time": "2023-06-19T19:23:25.406Z"
   },
   {
    "duration": 20,
    "start_time": "2023-06-19T19:23:25.423Z"
   },
   {
    "duration": 26,
    "start_time": "2023-06-19T19:23:25.447Z"
   },
   {
    "duration": 39,
    "start_time": "2023-06-19T19:23:25.476Z"
   },
   {
    "duration": 27,
    "start_time": "2023-06-19T19:23:25.519Z"
   },
   {
    "duration": 7,
    "start_time": "2023-06-19T19:23:25.548Z"
   },
   {
    "duration": 41,
    "start_time": "2023-06-19T19:23:25.557Z"
   },
   {
    "duration": 35,
    "start_time": "2023-06-19T19:23:25.600Z"
   },
   {
    "duration": 41,
    "start_time": "2023-06-19T19:23:25.637Z"
   },
   {
    "duration": 284,
    "start_time": "2023-06-19T19:23:25.680Z"
   },
   {
    "duration": 70,
    "start_time": "2023-06-19T19:23:25.966Z"
   },
   {
    "duration": 289,
    "start_time": "2023-06-19T19:23:26.038Z"
   },
   {
    "duration": 0,
    "start_time": "2023-06-19T19:23:26.330Z"
   },
   {
    "duration": 1,
    "start_time": "2023-06-19T19:23:26.331Z"
   },
   {
    "duration": 0,
    "start_time": "2023-06-19T19:23:26.333Z"
   },
   {
    "duration": 0,
    "start_time": "2023-06-19T19:23:26.334Z"
   },
   {
    "duration": 0,
    "start_time": "2023-06-19T19:23:26.337Z"
   },
   {
    "duration": 0,
    "start_time": "2023-06-19T19:23:26.339Z"
   },
   {
    "duration": 0,
    "start_time": "2023-06-19T19:23:26.341Z"
   },
   {
    "duration": 0,
    "start_time": "2023-06-19T19:23:26.342Z"
   },
   {
    "duration": 34,
    "start_time": "2023-06-19T19:24:53.349Z"
   },
   {
    "duration": 19,
    "start_time": "2023-06-19T19:25:04.897Z"
   },
   {
    "duration": 23,
    "start_time": "2023-06-19T19:25:12.017Z"
   },
   {
    "duration": 1486,
    "start_time": "2023-06-19T19:26:09.095Z"
   },
   {
    "duration": 1311,
    "start_time": "2023-06-19T19:26:10.583Z"
   },
   {
    "duration": 5,
    "start_time": "2023-06-19T19:26:11.896Z"
   },
   {
    "duration": 49,
    "start_time": "2023-06-19T19:26:11.903Z"
   },
   {
    "duration": 22,
    "start_time": "2023-06-19T19:26:11.956Z"
   },
   {
    "duration": 23,
    "start_time": "2023-06-19T19:26:11.980Z"
   },
   {
    "duration": 38,
    "start_time": "2023-06-19T19:26:12.005Z"
   },
   {
    "duration": 30,
    "start_time": "2023-06-19T19:26:12.045Z"
   },
   {
    "duration": 18,
    "start_time": "2023-06-19T19:26:12.077Z"
   },
   {
    "duration": 13,
    "start_time": "2023-06-19T19:26:12.097Z"
   },
   {
    "duration": 34,
    "start_time": "2023-06-19T19:26:12.112Z"
   },
   {
    "duration": 56,
    "start_time": "2023-06-19T19:26:12.148Z"
   },
   {
    "duration": 42,
    "start_time": "2023-06-19T19:26:12.206Z"
   },
   {
    "duration": 22,
    "start_time": "2023-06-19T19:26:12.253Z"
   },
   {
    "duration": 16,
    "start_time": "2023-06-19T19:26:12.278Z"
   },
   {
    "duration": 24,
    "start_time": "2023-06-19T19:26:12.295Z"
   },
   {
    "duration": 18,
    "start_time": "2023-06-19T19:26:12.321Z"
   },
   {
    "duration": 15,
    "start_time": "2023-06-19T19:26:12.340Z"
   },
   {
    "duration": 35,
    "start_time": "2023-06-19T19:26:12.357Z"
   },
   {
    "duration": 29,
    "start_time": "2023-06-19T19:26:12.395Z"
   },
   {
    "duration": 20,
    "start_time": "2023-06-19T19:26:12.426Z"
   },
   {
    "duration": 55,
    "start_time": "2023-06-19T19:26:12.448Z"
   },
   {
    "duration": 20,
    "start_time": "2023-06-19T19:26:12.506Z"
   },
   {
    "duration": 36,
    "start_time": "2023-06-19T19:26:12.528Z"
   },
   {
    "duration": 12,
    "start_time": "2023-06-19T19:26:12.567Z"
   },
   {
    "duration": 14,
    "start_time": "2023-06-19T19:26:12.582Z"
   },
   {
    "duration": 33,
    "start_time": "2023-06-19T19:26:12.599Z"
   },
   {
    "duration": 23,
    "start_time": "2023-06-19T19:26:12.634Z"
   },
   {
    "duration": 43,
    "start_time": "2023-06-19T19:26:12.659Z"
   },
   {
    "duration": 23,
    "start_time": "2023-06-19T19:26:12.704Z"
   },
   {
    "duration": 11,
    "start_time": "2023-06-19T19:26:12.728Z"
   },
   {
    "duration": 8,
    "start_time": "2023-06-19T19:26:12.741Z"
   },
   {
    "duration": 19,
    "start_time": "2023-06-19T19:26:12.750Z"
   },
   {
    "duration": 36,
    "start_time": "2023-06-19T19:26:12.771Z"
   },
   {
    "duration": 47,
    "start_time": "2023-06-19T19:26:12.810Z"
   },
   {
    "duration": 8,
    "start_time": "2023-06-19T19:26:12.859Z"
   },
   {
    "duration": 10,
    "start_time": "2023-06-19T19:26:12.869Z"
   },
   {
    "duration": 20,
    "start_time": "2023-06-19T19:26:12.881Z"
   },
   {
    "duration": 56,
    "start_time": "2023-06-19T19:26:12.912Z"
   },
   {
    "duration": 24,
    "start_time": "2023-06-19T19:26:12.971Z"
   },
   {
    "duration": 21,
    "start_time": "2023-06-19T19:26:13.002Z"
   },
   {
    "duration": 12,
    "start_time": "2023-06-19T19:26:13.025Z"
   },
   {
    "duration": 25,
    "start_time": "2023-06-19T19:26:13.039Z"
   },
   {
    "duration": 37,
    "start_time": "2023-06-19T19:26:13.065Z"
   },
   {
    "duration": 24,
    "start_time": "2023-06-19T19:26:13.104Z"
   },
   {
    "duration": 19,
    "start_time": "2023-06-19T19:26:13.131Z"
   },
   {
    "duration": 14,
    "start_time": "2023-06-19T19:26:13.152Z"
   },
   {
    "duration": 29,
    "start_time": "2023-06-19T19:26:13.169Z"
   },
   {
    "duration": 22,
    "start_time": "2023-06-19T19:26:13.200Z"
   },
   {
    "duration": 45,
    "start_time": "2023-06-19T19:26:13.224Z"
   },
   {
    "duration": 189,
    "start_time": "2023-06-19T19:26:13.271Z"
   },
   {
    "duration": 59,
    "start_time": "2023-06-19T19:26:13.462Z"
   },
   {
    "duration": 302,
    "start_time": "2023-06-19T19:26:13.523Z"
   },
   {
    "duration": 0,
    "start_time": "2023-06-19T19:26:13.827Z"
   },
   {
    "duration": 0,
    "start_time": "2023-06-19T19:26:13.829Z"
   },
   {
    "duration": 0,
    "start_time": "2023-06-19T19:26:13.831Z"
   },
   {
    "duration": 0,
    "start_time": "2023-06-19T19:26:13.832Z"
   },
   {
    "duration": 0,
    "start_time": "2023-06-19T19:26:13.834Z"
   },
   {
    "duration": 0,
    "start_time": "2023-06-19T19:26:13.835Z"
   },
   {
    "duration": 0,
    "start_time": "2023-06-19T19:26:13.838Z"
   },
   {
    "duration": 0,
    "start_time": "2023-06-19T19:26:13.839Z"
   },
   {
    "duration": 21,
    "start_time": "2023-06-19T19:26:41.742Z"
   },
   {
    "duration": 16,
    "start_time": "2023-06-19T19:26:49.492Z"
   },
   {
    "duration": 18,
    "start_time": "2023-06-19T19:26:58.741Z"
   },
   {
    "duration": 1349,
    "start_time": "2023-06-19T19:27:06.829Z"
   },
   {
    "duration": 961,
    "start_time": "2023-06-19T19:27:08.180Z"
   },
   {
    "duration": 5,
    "start_time": "2023-06-19T19:27:09.143Z"
   },
   {
    "duration": 24,
    "start_time": "2023-06-19T19:27:09.151Z"
   },
   {
    "duration": 15,
    "start_time": "2023-06-19T19:27:09.177Z"
   },
   {
    "duration": 40,
    "start_time": "2023-06-19T19:27:09.194Z"
   },
   {
    "duration": 58,
    "start_time": "2023-06-19T19:27:09.236Z"
   },
   {
    "duration": 37,
    "start_time": "2023-06-19T19:27:09.295Z"
   },
   {
    "duration": 24,
    "start_time": "2023-06-19T19:27:09.334Z"
   },
   {
    "duration": 54,
    "start_time": "2023-06-19T19:27:09.361Z"
   },
   {
    "duration": 22,
    "start_time": "2023-06-19T19:27:09.418Z"
   },
   {
    "duration": 10,
    "start_time": "2023-06-19T19:27:09.442Z"
   },
   {
    "duration": 23,
    "start_time": "2023-06-19T19:27:09.454Z"
   },
   {
    "duration": 36,
    "start_time": "2023-06-19T19:27:09.479Z"
   },
   {
    "duration": 8,
    "start_time": "2023-06-19T19:27:09.516Z"
   },
   {
    "duration": 10,
    "start_time": "2023-06-19T19:27:09.526Z"
   },
   {
    "duration": 7,
    "start_time": "2023-06-19T19:27:09.538Z"
   },
   {
    "duration": 6,
    "start_time": "2023-06-19T19:27:09.546Z"
   },
   {
    "duration": 13,
    "start_time": "2023-06-19T19:27:09.554Z"
   },
   {
    "duration": 49,
    "start_time": "2023-06-19T19:27:09.569Z"
   },
   {
    "duration": 17,
    "start_time": "2023-06-19T19:27:09.619Z"
   },
   {
    "duration": 18,
    "start_time": "2023-06-19T19:27:09.638Z"
   },
   {
    "duration": 21,
    "start_time": "2023-06-19T19:27:09.658Z"
   },
   {
    "duration": 46,
    "start_time": "2023-06-19T19:27:09.682Z"
   },
   {
    "duration": 12,
    "start_time": "2023-06-19T19:27:09.730Z"
   },
   {
    "duration": 7,
    "start_time": "2023-06-19T19:27:09.744Z"
   },
   {
    "duration": 25,
    "start_time": "2023-06-19T19:27:09.754Z"
   },
   {
    "duration": 8,
    "start_time": "2023-06-19T19:27:09.812Z"
   },
   {
    "duration": 41,
    "start_time": "2023-06-19T19:27:09.822Z"
   },
   {
    "duration": 17,
    "start_time": "2023-06-19T19:27:09.865Z"
   },
   {
    "duration": 5,
    "start_time": "2023-06-19T19:27:09.916Z"
   },
   {
    "duration": 17,
    "start_time": "2023-06-19T19:27:09.924Z"
   },
   {
    "duration": 22,
    "start_time": "2023-06-19T19:27:09.943Z"
   },
   {
    "duration": 11,
    "start_time": "2023-06-19T19:27:09.967Z"
   },
   {
    "duration": 60,
    "start_time": "2023-06-19T19:27:09.981Z"
   },
   {
    "duration": 13,
    "start_time": "2023-06-19T19:27:10.043Z"
   },
   {
    "duration": 47,
    "start_time": "2023-06-19T19:27:10.057Z"
   },
   {
    "duration": 67,
    "start_time": "2023-06-19T19:27:10.106Z"
   },
   {
    "duration": 9,
    "start_time": "2023-06-19T19:27:10.175Z"
   },
   {
    "duration": 26,
    "start_time": "2023-06-19T19:27:10.186Z"
   },
   {
    "duration": 18,
    "start_time": "2023-06-19T19:27:10.214Z"
   },
   {
    "duration": 27,
    "start_time": "2023-06-19T19:27:10.233Z"
   },
   {
    "duration": 33,
    "start_time": "2023-06-19T19:27:10.262Z"
   },
   {
    "duration": 26,
    "start_time": "2023-06-19T19:27:10.297Z"
   },
   {
    "duration": 16,
    "start_time": "2023-06-19T19:27:10.325Z"
   },
   {
    "duration": 32,
    "start_time": "2023-06-19T19:27:10.343Z"
   },
   {
    "duration": 5,
    "start_time": "2023-06-19T19:27:10.376Z"
   },
   {
    "duration": 41,
    "start_time": "2023-06-19T19:27:10.383Z"
   },
   {
    "duration": 12,
    "start_time": "2023-06-19T19:27:10.426Z"
   },
   {
    "duration": 36,
    "start_time": "2023-06-19T19:27:10.440Z"
   },
   {
    "duration": 369,
    "start_time": "2023-06-19T19:27:10.478Z"
   },
   {
    "duration": 71,
    "start_time": "2023-06-19T19:27:10.849Z"
   },
   {
    "duration": 204,
    "start_time": "2023-06-19T19:27:10.922Z"
   },
   {
    "duration": 0,
    "start_time": "2023-06-19T19:27:11.128Z"
   },
   {
    "duration": 0,
    "start_time": "2023-06-19T19:27:11.129Z"
   },
   {
    "duration": 0,
    "start_time": "2023-06-19T19:27:11.130Z"
   },
   {
    "duration": 0,
    "start_time": "2023-06-19T19:27:11.132Z"
   },
   {
    "duration": 0,
    "start_time": "2023-06-19T19:27:11.133Z"
   },
   {
    "duration": 0,
    "start_time": "2023-06-19T19:27:11.134Z"
   },
   {
    "duration": 0,
    "start_time": "2023-06-19T19:27:11.135Z"
   },
   {
    "duration": 0,
    "start_time": "2023-06-19T19:27:11.136Z"
   },
   {
    "duration": 16,
    "start_time": "2023-06-19T19:27:50.090Z"
   },
   {
    "duration": 16,
    "start_time": "2023-06-19T19:28:25.177Z"
   },
   {
    "duration": 1291,
    "start_time": "2023-06-19T19:28:30.071Z"
   },
   {
    "duration": 1019,
    "start_time": "2023-06-19T19:28:31.364Z"
   },
   {
    "duration": 6,
    "start_time": "2023-06-19T19:28:32.385Z"
   },
   {
    "duration": 48,
    "start_time": "2023-06-19T19:28:32.394Z"
   },
   {
    "duration": 11,
    "start_time": "2023-06-19T19:28:32.444Z"
   },
   {
    "duration": 17,
    "start_time": "2023-06-19T19:28:32.457Z"
   },
   {
    "duration": 15,
    "start_time": "2023-06-19T19:28:32.477Z"
   },
   {
    "duration": 49,
    "start_time": "2023-06-19T19:28:32.494Z"
   },
   {
    "duration": 13,
    "start_time": "2023-06-19T19:28:32.545Z"
   },
   {
    "duration": 26,
    "start_time": "2023-06-19T19:28:32.562Z"
   },
   {
    "duration": 27,
    "start_time": "2023-06-19T19:28:32.590Z"
   },
   {
    "duration": 24,
    "start_time": "2023-06-19T19:28:32.619Z"
   },
   {
    "duration": 48,
    "start_time": "2023-06-19T19:28:32.645Z"
   },
   {
    "duration": 32,
    "start_time": "2023-06-19T19:28:32.695Z"
   },
   {
    "duration": 7,
    "start_time": "2023-06-19T19:28:32.728Z"
   },
   {
    "duration": 27,
    "start_time": "2023-06-19T19:28:32.737Z"
   },
   {
    "duration": 34,
    "start_time": "2023-06-19T19:28:32.766Z"
   },
   {
    "duration": 25,
    "start_time": "2023-06-19T19:28:32.803Z"
   },
   {
    "duration": 7,
    "start_time": "2023-06-19T19:28:32.830Z"
   },
   {
    "duration": 17,
    "start_time": "2023-06-19T19:28:32.839Z"
   },
   {
    "duration": 14,
    "start_time": "2023-06-19T19:28:32.857Z"
   },
   {
    "duration": 12,
    "start_time": "2023-06-19T19:28:32.873Z"
   },
   {
    "duration": 59,
    "start_time": "2023-06-19T19:28:32.887Z"
   },
   {
    "duration": 12,
    "start_time": "2023-06-19T19:28:32.948Z"
   },
   {
    "duration": 13,
    "start_time": "2023-06-19T19:28:32.962Z"
   },
   {
    "duration": 6,
    "start_time": "2023-06-19T19:28:32.977Z"
   },
   {
    "duration": 30,
    "start_time": "2023-06-19T19:28:32.985Z"
   },
   {
    "duration": 23,
    "start_time": "2023-06-19T19:28:33.019Z"
   },
   {
    "duration": 27,
    "start_time": "2023-06-19T19:28:33.044Z"
   },
   {
    "duration": 15,
    "start_time": "2023-06-19T19:28:33.072Z"
   },
   {
    "duration": 25,
    "start_time": "2023-06-19T19:28:33.089Z"
   },
   {
    "duration": 5,
    "start_time": "2023-06-19T19:28:33.116Z"
   },
   {
    "duration": 33,
    "start_time": "2023-06-19T19:28:33.123Z"
   },
   {
    "duration": 23,
    "start_time": "2023-06-19T19:28:33.158Z"
   },
   {
    "duration": 42,
    "start_time": "2023-06-19T19:28:33.182Z"
   },
   {
    "duration": 7,
    "start_time": "2023-06-19T19:28:33.225Z"
   },
   {
    "duration": 10,
    "start_time": "2023-06-19T19:28:33.234Z"
   },
   {
    "duration": 9,
    "start_time": "2023-06-19T19:28:33.246Z"
   },
   {
    "duration": 29,
    "start_time": "2023-06-19T19:28:33.257Z"
   },
   {
    "duration": 18,
    "start_time": "2023-06-19T19:28:33.288Z"
   },
   {
    "duration": 9,
    "start_time": "2023-06-19T19:28:33.314Z"
   },
   {
    "duration": 7,
    "start_time": "2023-06-19T19:28:33.324Z"
   },
   {
    "duration": 15,
    "start_time": "2023-06-19T19:28:33.333Z"
   },
   {
    "duration": 16,
    "start_time": "2023-06-19T19:28:33.349Z"
   },
   {
    "duration": 47,
    "start_time": "2023-06-19T19:28:33.367Z"
   },
   {
    "duration": 19,
    "start_time": "2023-06-19T19:28:33.416Z"
   },
   {
    "duration": 4,
    "start_time": "2023-06-19T19:28:33.437Z"
   },
   {
    "duration": 33,
    "start_time": "2023-06-19T19:28:33.443Z"
   },
   {
    "duration": 11,
    "start_time": "2023-06-19T19:28:33.478Z"
   },
   {
    "duration": 70,
    "start_time": "2023-06-19T19:28:33.491Z"
   },
   {
    "duration": 220,
    "start_time": "2023-06-19T19:28:33.563Z"
   },
   {
    "duration": 52,
    "start_time": "2023-06-19T19:28:33.785Z"
   },
   {
    "duration": 260,
    "start_time": "2023-06-19T19:28:33.840Z"
   },
   {
    "duration": 0,
    "start_time": "2023-06-19T19:28:34.101Z"
   },
   {
    "duration": 0,
    "start_time": "2023-06-19T19:28:34.103Z"
   },
   {
    "duration": 0,
    "start_time": "2023-06-19T19:28:34.113Z"
   },
   {
    "duration": 0,
    "start_time": "2023-06-19T19:28:34.115Z"
   },
   {
    "duration": 0,
    "start_time": "2023-06-19T19:28:34.117Z"
   },
   {
    "duration": 0,
    "start_time": "2023-06-19T19:28:34.118Z"
   },
   {
    "duration": 0,
    "start_time": "2023-06-19T19:28:34.119Z"
   },
   {
    "duration": 0,
    "start_time": "2023-06-19T19:28:34.121Z"
   },
   {
    "duration": 13,
    "start_time": "2023-06-19T19:29:38.903Z"
   },
   {
    "duration": 11,
    "start_time": "2023-06-19T19:29:53.098Z"
   },
   {
    "duration": 14,
    "start_time": "2023-06-19T19:30:15.232Z"
   },
   {
    "duration": 1840,
    "start_time": "2023-06-19T19:30:38.933Z"
   },
   {
    "duration": 1324,
    "start_time": "2023-06-19T19:30:40.776Z"
   },
   {
    "duration": 6,
    "start_time": "2023-06-19T19:30:42.102Z"
   },
   {
    "duration": 25,
    "start_time": "2023-06-19T19:30:42.111Z"
   },
   {
    "duration": 11,
    "start_time": "2023-06-19T19:30:42.140Z"
   },
   {
    "duration": 37,
    "start_time": "2023-06-19T19:30:42.153Z"
   },
   {
    "duration": 13,
    "start_time": "2023-06-19T19:30:42.194Z"
   },
   {
    "duration": 49,
    "start_time": "2023-06-19T19:30:42.209Z"
   },
   {
    "duration": 14,
    "start_time": "2023-06-19T19:30:42.261Z"
   },
   {
    "duration": 8,
    "start_time": "2023-06-19T19:30:42.279Z"
   },
   {
    "duration": 29,
    "start_time": "2023-06-19T19:30:42.289Z"
   },
   {
    "duration": 24,
    "start_time": "2023-06-19T19:30:42.320Z"
   },
   {
    "duration": 36,
    "start_time": "2023-06-19T19:30:42.346Z"
   },
   {
    "duration": 33,
    "start_time": "2023-06-19T19:30:42.383Z"
   },
   {
    "duration": 7,
    "start_time": "2023-06-19T19:30:42.419Z"
   },
   {
    "duration": 20,
    "start_time": "2023-06-19T19:30:42.428Z"
   },
   {
    "duration": 19,
    "start_time": "2023-06-19T19:30:42.450Z"
   },
   {
    "duration": 14,
    "start_time": "2023-06-19T19:30:42.471Z"
   },
   {
    "duration": 41,
    "start_time": "2023-06-19T19:30:42.487Z"
   },
   {
    "duration": 30,
    "start_time": "2023-06-19T19:30:42.531Z"
   },
   {
    "duration": 20,
    "start_time": "2023-06-19T19:30:42.563Z"
   },
   {
    "duration": 17,
    "start_time": "2023-06-19T19:30:42.585Z"
   },
   {
    "duration": 21,
    "start_time": "2023-06-19T19:30:42.613Z"
   },
   {
    "duration": 19,
    "start_time": "2023-06-19T19:30:42.636Z"
   },
   {
    "duration": 13,
    "start_time": "2023-06-19T19:30:42.658Z"
   },
   {
    "duration": 41,
    "start_time": "2023-06-19T19:30:42.673Z"
   },
   {
    "duration": 43,
    "start_time": "2023-06-19T19:30:42.716Z"
   },
   {
    "duration": 8,
    "start_time": "2023-06-19T19:30:42.764Z"
   },
   {
    "duration": 51,
    "start_time": "2023-06-19T19:30:42.774Z"
   },
   {
    "duration": 22,
    "start_time": "2023-06-19T19:30:42.827Z"
   },
   {
    "duration": 29,
    "start_time": "2023-06-19T19:30:42.851Z"
   },
   {
    "duration": 18,
    "start_time": "2023-06-19T19:30:42.883Z"
   },
   {
    "duration": 18,
    "start_time": "2023-06-19T19:30:42.903Z"
   },
   {
    "duration": 29,
    "start_time": "2023-06-19T19:30:42.923Z"
   },
   {
    "duration": 40,
    "start_time": "2023-06-19T19:30:42.954Z"
   },
   {
    "duration": 10,
    "start_time": "2023-06-19T19:30:42.997Z"
   },
   {
    "duration": 13,
    "start_time": "2023-06-19T19:30:43.014Z"
   },
   {
    "duration": 17,
    "start_time": "2023-06-19T19:30:43.029Z"
   },
   {
    "duration": 18,
    "start_time": "2023-06-19T19:30:43.049Z"
   },
   {
    "duration": 30,
    "start_time": "2023-06-19T19:30:43.070Z"
   },
   {
    "duration": 14,
    "start_time": "2023-06-19T19:30:43.112Z"
   },
   {
    "duration": 9,
    "start_time": "2023-06-19T19:30:43.128Z"
   },
   {
    "duration": 13,
    "start_time": "2023-06-19T19:30:43.140Z"
   },
   {
    "duration": 21,
    "start_time": "2023-06-19T19:30:43.155Z"
   },
   {
    "duration": 23,
    "start_time": "2023-06-19T19:30:43.214Z"
   },
   {
    "duration": 31,
    "start_time": "2023-06-19T19:30:43.240Z"
   },
   {
    "duration": 9,
    "start_time": "2023-06-19T19:30:43.274Z"
   },
   {
    "duration": 26,
    "start_time": "2023-06-19T19:30:43.315Z"
   },
   {
    "duration": 18,
    "start_time": "2023-06-19T19:30:43.344Z"
   },
   {
    "duration": 200,
    "start_time": "2023-06-19T19:30:43.365Z"
   },
   {
    "duration": 0,
    "start_time": "2023-06-19T19:30:43.568Z"
   },
   {
    "duration": 0,
    "start_time": "2023-06-19T19:30:43.569Z"
   },
   {
    "duration": 0,
    "start_time": "2023-06-19T19:30:43.571Z"
   },
   {
    "duration": 0,
    "start_time": "2023-06-19T19:30:43.572Z"
   },
   {
    "duration": 0,
    "start_time": "2023-06-19T19:30:43.574Z"
   },
   {
    "duration": 0,
    "start_time": "2023-06-19T19:30:43.575Z"
   },
   {
    "duration": 0,
    "start_time": "2023-06-19T19:30:43.577Z"
   },
   {
    "duration": 0,
    "start_time": "2023-06-19T19:30:43.579Z"
   },
   {
    "duration": 0,
    "start_time": "2023-06-19T19:30:43.580Z"
   },
   {
    "duration": 0,
    "start_time": "2023-06-19T19:30:43.581Z"
   },
   {
    "duration": 0,
    "start_time": "2023-06-19T19:30:43.583Z"
   },
   {
    "duration": 22,
    "start_time": "2023-06-19T19:32:39.221Z"
   },
   {
    "duration": 1383,
    "start_time": "2023-06-19T19:32:50.635Z"
   },
   {
    "duration": 24,
    "start_time": "2023-06-19T19:33:04.429Z"
   },
   {
    "duration": 24,
    "start_time": "2023-06-19T19:33:06.881Z"
   },
   {
    "duration": 265,
    "start_time": "2023-06-19T19:33:08.478Z"
   },
   {
    "duration": 80,
    "start_time": "2023-06-19T19:34:48.780Z"
   },
   {
    "duration": 456,
    "start_time": "2023-06-19T19:35:05.315Z"
   },
   {
    "duration": 174,
    "start_time": "2023-06-19T19:35:09.013Z"
   },
   {
    "duration": 441,
    "start_time": "2023-06-19T19:35:13.637Z"
   },
   {
    "duration": 391,
    "start_time": "2023-06-19T19:35:24.216Z"
   },
   {
    "duration": 1218,
    "start_time": "2023-06-19T19:36:25.525Z"
   },
   {
    "duration": 898,
    "start_time": "2023-06-19T19:36:37.329Z"
   },
   {
    "duration": 733,
    "start_time": "2023-06-19T19:36:47.786Z"
   },
   {
    "duration": 816,
    "start_time": "2023-06-19T19:37:57.692Z"
   },
   {
    "duration": 587,
    "start_time": "2023-06-19T19:38:16.708Z"
   },
   {
    "duration": 39,
    "start_time": "2023-06-19T19:39:56.048Z"
   },
   {
    "duration": 75,
    "start_time": "2023-06-19T19:40:15.578Z"
   },
   {
    "duration": 185,
    "start_time": "2023-06-19T19:49:07.135Z"
   },
   {
    "duration": 384,
    "start_time": "2023-06-19T19:49:17.635Z"
   },
   {
    "duration": 278,
    "start_time": "2023-06-19T19:49:37.793Z"
   },
   {
    "duration": 265,
    "start_time": "2023-06-19T19:49:54.264Z"
   },
   {
    "duration": 249,
    "start_time": "2023-06-19T19:51:29.934Z"
   },
   {
    "duration": 9,
    "start_time": "2023-06-19T19:51:58.679Z"
   },
   {
    "duration": 184,
    "start_time": "2023-06-19T19:52:00.718Z"
   },
   {
    "duration": 108,
    "start_time": "2023-06-19T19:52:11.335Z"
   },
   {
    "duration": 180,
    "start_time": "2023-06-19T19:52:23.429Z"
   },
   {
    "duration": 188,
    "start_time": "2023-06-19T19:52:27.337Z"
   },
   {
    "duration": 209,
    "start_time": "2023-06-19T19:52:32.808Z"
   },
   {
    "duration": 201,
    "start_time": "2023-06-19T19:53:40.816Z"
   },
   {
    "duration": 168,
    "start_time": "2023-06-19T19:54:10.305Z"
   },
   {
    "duration": 173,
    "start_time": "2023-06-19T19:54:35.189Z"
   },
   {
    "duration": 162,
    "start_time": "2023-06-19T19:54:42.362Z"
   },
   {
    "duration": 165,
    "start_time": "2023-06-19T19:54:49.292Z"
   },
   {
    "duration": 171,
    "start_time": "2023-06-19T19:54:53.992Z"
   },
   {
    "duration": 310,
    "start_time": "2023-06-19T19:55:12.703Z"
   },
   {
    "duration": 207,
    "start_time": "2023-06-19T19:55:19.574Z"
   },
   {
    "duration": 157,
    "start_time": "2023-06-19T19:55:32.634Z"
   },
   {
    "duration": 1332,
    "start_time": "2023-06-19T19:55:52.871Z"
   },
   {
    "duration": 939,
    "start_time": "2023-06-19T19:55:54.205Z"
   },
   {
    "duration": 5,
    "start_time": "2023-06-19T19:55:55.146Z"
   },
   {
    "duration": 19,
    "start_time": "2023-06-19T19:55:55.154Z"
   },
   {
    "duration": 40,
    "start_time": "2023-06-19T19:55:55.176Z"
   },
   {
    "duration": 22,
    "start_time": "2023-06-19T19:55:55.218Z"
   },
   {
    "duration": 6,
    "start_time": "2023-06-19T19:55:55.242Z"
   },
   {
    "duration": 28,
    "start_time": "2023-06-19T19:55:55.250Z"
   },
   {
    "duration": 36,
    "start_time": "2023-06-19T19:55:55.280Z"
   },
   {
    "duration": 7,
    "start_time": "2023-06-19T19:55:55.319Z"
   },
   {
    "duration": 7,
    "start_time": "2023-06-19T19:55:55.328Z"
   },
   {
    "duration": 9,
    "start_time": "2023-06-19T19:55:55.336Z"
   },
   {
    "duration": 47,
    "start_time": "2023-06-19T19:55:55.347Z"
   },
   {
    "duration": 33,
    "start_time": "2023-06-19T19:55:55.396Z"
   },
   {
    "duration": 6,
    "start_time": "2023-06-19T19:55:55.432Z"
   },
   {
    "duration": 15,
    "start_time": "2023-06-19T19:55:55.440Z"
   },
   {
    "duration": 41,
    "start_time": "2023-06-19T19:55:55.458Z"
   },
   {
    "duration": 26,
    "start_time": "2023-06-19T19:55:55.501Z"
   },
   {
    "duration": 7,
    "start_time": "2023-06-19T19:55:55.529Z"
   },
   {
    "duration": 25,
    "start_time": "2023-06-19T19:55:55.538Z"
   },
   {
    "duration": 13,
    "start_time": "2023-06-19T19:55:55.565Z"
   },
   {
    "duration": 12,
    "start_time": "2023-06-19T19:55:55.579Z"
   },
   {
    "duration": 47,
    "start_time": "2023-06-19T19:55:55.593Z"
   },
   {
    "duration": 16,
    "start_time": "2023-06-19T19:55:55.642Z"
   },
   {
    "duration": 11,
    "start_time": "2023-06-19T19:55:55.661Z"
   },
   {
    "duration": 5,
    "start_time": "2023-06-19T19:55:55.674Z"
   },
   {
    "duration": 43,
    "start_time": "2023-06-19T19:55:55.681Z"
   },
   {
    "duration": 6,
    "start_time": "2023-06-19T19:55:55.727Z"
   },
   {
    "duration": 29,
    "start_time": "2023-06-19T19:55:55.735Z"
   },
   {
    "duration": 16,
    "start_time": "2023-06-19T19:55:55.766Z"
   },
   {
    "duration": 30,
    "start_time": "2023-06-19T19:55:55.784Z"
   },
   {
    "duration": 7,
    "start_time": "2023-06-19T19:55:55.816Z"
   },
   {
    "duration": 7,
    "start_time": "2023-06-19T19:55:55.825Z"
   },
   {
    "duration": 14,
    "start_time": "2023-06-19T19:55:55.833Z"
   },
   {
    "duration": 35,
    "start_time": "2023-06-19T19:55:55.849Z"
   },
   {
    "duration": 28,
    "start_time": "2023-06-19T19:55:55.886Z"
   },
   {
    "duration": 7,
    "start_time": "2023-06-19T19:55:55.917Z"
   },
   {
    "duration": 20,
    "start_time": "2023-06-19T19:55:55.926Z"
   },
   {
    "duration": 12,
    "start_time": "2023-06-19T19:55:55.948Z"
   },
   {
    "duration": 41,
    "start_time": "2023-06-19T19:55:55.962Z"
   },
   {
    "duration": 14,
    "start_time": "2023-06-19T19:55:56.005Z"
   },
   {
    "duration": 12,
    "start_time": "2023-06-19T19:55:56.021Z"
   },
   {
    "duration": 9,
    "start_time": "2023-06-19T19:55:56.035Z"
   },
   {
    "duration": 21,
    "start_time": "2023-06-19T19:55:56.046Z"
   },
   {
    "duration": 52,
    "start_time": "2023-06-19T19:55:56.070Z"
   },
   {
    "duration": 28,
    "start_time": "2023-06-19T19:55:56.124Z"
   },
   {
    "duration": 4,
    "start_time": "2023-06-19T19:55:56.155Z"
   },
   {
    "duration": 22,
    "start_time": "2023-06-19T19:55:56.161Z"
   },
   {
    "duration": 29,
    "start_time": "2023-06-19T19:55:56.185Z"
   },
   {
    "duration": 23,
    "start_time": "2023-06-19T19:55:56.217Z"
   },
   {
    "duration": 9,
    "start_time": "2023-06-19T19:55:56.242Z"
   },
   {
    "duration": 202,
    "start_time": "2023-06-19T19:55:56.253Z"
   },
   {
    "duration": 121,
    "start_time": "2023-06-19T19:55:56.456Z"
   },
   {
    "duration": 1,
    "start_time": "2023-06-19T19:55:56.578Z"
   },
   {
    "duration": 0,
    "start_time": "2023-06-19T19:55:56.580Z"
   },
   {
    "duration": 0,
    "start_time": "2023-06-19T19:55:56.581Z"
   },
   {
    "duration": 0,
    "start_time": "2023-06-19T19:55:56.582Z"
   },
   {
    "duration": 0,
    "start_time": "2023-06-19T19:55:56.583Z"
   },
   {
    "duration": 0,
    "start_time": "2023-06-19T19:55:56.584Z"
   },
   {
    "duration": 0,
    "start_time": "2023-06-19T19:55:56.586Z"
   },
   {
    "duration": 173,
    "start_time": "2023-06-19T19:56:13.254Z"
   },
   {
    "duration": 325,
    "start_time": "2023-06-19T19:56:33.058Z"
   },
   {
    "duration": 5,
    "start_time": "2023-06-19T20:00:47.431Z"
   },
   {
    "duration": 14,
    "start_time": "2023-06-19T20:04:00.683Z"
   },
   {
    "duration": 317,
    "start_time": "2023-06-19T20:07:14.571Z"
   },
   {
    "duration": 339,
    "start_time": "2023-06-19T20:08:28.444Z"
   },
   {
    "duration": 353,
    "start_time": "2023-06-19T20:10:07.972Z"
   },
   {
    "duration": 308,
    "start_time": "2023-06-19T20:14:36.335Z"
   },
   {
    "duration": 235,
    "start_time": "2023-06-19T20:15:18.482Z"
   },
   {
    "duration": 170,
    "start_time": "2023-06-19T20:16:00.870Z"
   },
   {
    "duration": 232,
    "start_time": "2023-06-19T20:16:10.785Z"
   },
   {
    "duration": 238,
    "start_time": "2023-06-19T20:16:17.617Z"
   },
   {
    "duration": 256,
    "start_time": "2023-06-19T20:16:23.214Z"
   },
   {
    "duration": 217,
    "start_time": "2023-06-19T20:16:28.538Z"
   },
   {
    "duration": 225,
    "start_time": "2023-06-19T20:18:16.718Z"
   },
   {
    "duration": 192,
    "start_time": "2023-06-19T20:18:28.570Z"
   },
   {
    "duration": 214,
    "start_time": "2023-06-19T20:18:36.287Z"
   },
   {
    "duration": 158,
    "start_time": "2023-06-19T20:18:41.723Z"
   },
   {
    "duration": 314,
    "start_time": "2023-06-19T20:18:46.400Z"
   },
   {
    "duration": 212,
    "start_time": "2023-06-19T20:18:51.980Z"
   },
   {
    "duration": 214,
    "start_time": "2023-06-19T20:18:57.233Z"
   },
   {
    "duration": 207,
    "start_time": "2023-06-19T20:19:04.264Z"
   },
   {
    "duration": 154,
    "start_time": "2023-06-19T20:19:08.667Z"
   },
   {
    "duration": 239,
    "start_time": "2023-06-19T20:19:12.472Z"
   },
   {
    "duration": 215,
    "start_time": "2023-06-19T20:19:17.756Z"
   },
   {
    "duration": 213,
    "start_time": "2023-06-19T20:19:23.700Z"
   },
   {
    "duration": 233,
    "start_time": "2023-06-19T20:19:34.370Z"
   },
   {
    "duration": 212,
    "start_time": "2023-06-19T20:19:38.375Z"
   },
   {
    "duration": 183,
    "start_time": "2023-06-19T20:20:23.930Z"
   },
   {
    "duration": 317,
    "start_time": "2023-06-19T20:20:31.058Z"
   },
   {
    "duration": 223,
    "start_time": "2023-06-19T20:20:52.435Z"
   },
   {
    "duration": 244,
    "start_time": "2023-06-19T20:21:17.102Z"
   },
   {
    "duration": 223,
    "start_time": "2023-06-19T20:21:25.233Z"
   },
   {
    "duration": 255,
    "start_time": "2023-06-19T20:21:33.555Z"
   },
   {
    "duration": 229,
    "start_time": "2023-06-19T20:21:41.353Z"
   },
   {
    "duration": 251,
    "start_time": "2023-06-19T20:21:50.214Z"
   },
   {
    "duration": 216,
    "start_time": "2023-06-19T20:21:56.369Z"
   },
   {
    "duration": 23,
    "start_time": "2023-06-19T20:23:13.969Z"
   },
   {
    "duration": 172,
    "start_time": "2023-06-19T20:25:08.594Z"
   },
   {
    "duration": 170,
    "start_time": "2023-06-19T20:26:41.327Z"
   },
   {
    "duration": 175,
    "start_time": "2023-06-19T20:27:57.920Z"
   },
   {
    "duration": 247,
    "start_time": "2023-06-19T20:28:10.614Z"
   },
   {
    "duration": 158,
    "start_time": "2023-06-19T20:28:15.368Z"
   },
   {
    "duration": 271,
    "start_time": "2023-06-19T20:28:29.637Z"
   },
   {
    "duration": 248,
    "start_time": "2023-06-19T20:28:37.923Z"
   },
   {
    "duration": 224,
    "start_time": "2023-06-19T20:28:44.225Z"
   },
   {
    "duration": 220,
    "start_time": "2023-06-19T20:28:51.300Z"
   },
   {
    "duration": 247,
    "start_time": "2023-06-19T20:29:09.269Z"
   },
   {
    "duration": 70,
    "start_time": "2023-06-19T20:29:32.223Z"
   },
   {
    "duration": 223,
    "start_time": "2023-06-19T20:29:39.355Z"
   },
   {
    "duration": 217,
    "start_time": "2023-06-19T20:29:48.540Z"
   },
   {
    "duration": 120,
    "start_time": "2023-06-19T20:30:56.019Z"
   },
   {
    "duration": 119,
    "start_time": "2023-06-19T20:31:22.547Z"
   },
   {
    "duration": 304,
    "start_time": "2023-06-19T20:31:48.925Z"
   },
   {
    "duration": 216,
    "start_time": "2023-06-19T20:32:09.446Z"
   },
   {
    "duration": 256,
    "start_time": "2023-06-19T20:32:51.260Z"
   },
   {
    "duration": 207,
    "start_time": "2023-06-19T20:33:05.752Z"
   },
   {
    "duration": 211,
    "start_time": "2023-06-19T20:33:11.194Z"
   },
   {
    "duration": 165,
    "start_time": "2023-06-19T20:34:06.657Z"
   },
   {
    "duration": 345,
    "start_time": "2023-06-19T20:34:12.213Z"
   },
   {
    "duration": 187,
    "start_time": "2023-06-19T20:34:52.918Z"
   },
   {
    "duration": 134,
    "start_time": "2023-06-19T20:42:22.631Z"
   },
   {
    "duration": 66,
    "start_time": "2023-06-19T20:42:41.834Z"
   },
   {
    "duration": 139,
    "start_time": "2023-06-19T20:42:45.296Z"
   },
   {
    "duration": 27,
    "start_time": "2023-06-19T20:42:54.019Z"
   },
   {
    "duration": 270,
    "start_time": "2023-06-19T20:43:03.544Z"
   },
   {
    "duration": 138,
    "start_time": "2023-06-19T20:43:20.109Z"
   },
   {
    "duration": 135,
    "start_time": "2023-06-19T20:43:25.964Z"
   },
   {
    "duration": 143,
    "start_time": "2023-06-19T20:43:43.412Z"
   },
   {
    "duration": 182,
    "start_time": "2023-06-19T20:43:59.552Z"
   },
   {
    "duration": 132,
    "start_time": "2023-06-19T20:44:07.118Z"
   },
   {
    "duration": 140,
    "start_time": "2023-06-19T20:44:22.931Z"
   },
   {
    "duration": 149,
    "start_time": "2023-06-19T20:44:26.894Z"
   },
   {
    "duration": 133,
    "start_time": "2023-06-19T20:44:31.222Z"
   },
   {
    "duration": 130,
    "start_time": "2023-06-19T20:44:35.671Z"
   },
   {
    "duration": 142,
    "start_time": "2023-06-19T20:44:43.299Z"
   },
   {
    "duration": 123,
    "start_time": "2023-06-19T20:45:58.669Z"
   },
   {
    "duration": 119,
    "start_time": "2023-06-19T20:46:10.522Z"
   },
   {
    "duration": 124,
    "start_time": "2023-06-19T20:46:25.919Z"
   },
   {
    "duration": 185,
    "start_time": "2023-06-19T20:46:32.300Z"
   },
   {
    "duration": 122,
    "start_time": "2023-06-19T20:46:36.855Z"
   },
   {
    "duration": 216,
    "start_time": "2023-06-19T20:46:43.361Z"
   },
   {
    "duration": 246,
    "start_time": "2023-06-19T20:47:00.427Z"
   },
   {
    "duration": 254,
    "start_time": "2023-06-19T20:47:17.589Z"
   },
   {
    "duration": 268,
    "start_time": "2023-06-19T20:47:32.287Z"
   },
   {
    "duration": 252,
    "start_time": "2023-06-19T20:48:12.507Z"
   },
   {
    "duration": 264,
    "start_time": "2023-06-19T20:48:20.359Z"
   },
   {
    "duration": 7,
    "start_time": "2023-06-19T20:49:07.224Z"
   },
   {
    "duration": 5,
    "start_time": "2023-06-19T20:49:33.567Z"
   },
   {
    "duration": 12,
    "start_time": "2023-06-19T20:49:58.929Z"
   },
   {
    "duration": 11,
    "start_time": "2023-06-19T20:50:19.024Z"
   },
   {
    "duration": 18,
    "start_time": "2023-06-19T20:51:07.958Z"
   },
   {
    "duration": 183,
    "start_time": "2023-06-19T20:52:13.952Z"
   },
   {
    "duration": 220,
    "start_time": "2023-06-19T20:52:20.458Z"
   },
   {
    "duration": 86,
    "start_time": "2023-06-19T20:52:49.905Z"
   },
   {
    "duration": 371,
    "start_time": "2023-06-19T20:58:06.491Z"
   },
   {
    "duration": 454,
    "start_time": "2023-06-19T20:58:21.429Z"
   },
   {
    "duration": 156,
    "start_time": "2023-06-19T21:01:30.543Z"
   },
   {
    "duration": 353,
    "start_time": "2023-06-19T21:01:40.935Z"
   },
   {
    "duration": 384,
    "start_time": "2023-06-19T21:01:51.221Z"
   },
   {
    "duration": 232,
    "start_time": "2023-06-19T21:03:59.797Z"
   },
   {
    "duration": 268,
    "start_time": "2023-06-19T21:04:06.792Z"
   },
   {
    "duration": 176,
    "start_time": "2023-06-19T21:04:14.948Z"
   },
   {
    "duration": 161,
    "start_time": "2023-06-19T21:04:21.090Z"
   },
   {
    "duration": 23,
    "start_time": "2023-06-19T21:04:25.459Z"
   },
   {
    "duration": 276,
    "start_time": "2023-06-19T21:04:33.324Z"
   },
   {
    "duration": 191,
    "start_time": "2023-06-19T21:04:39.162Z"
   },
   {
    "duration": 168,
    "start_time": "2023-06-19T21:04:44.737Z"
   },
   {
    "duration": 178,
    "start_time": "2023-06-19T21:04:49.854Z"
   },
   {
    "duration": 163,
    "start_time": "2023-06-19T21:04:54.390Z"
   },
   {
    "duration": 156,
    "start_time": "2023-06-19T21:05:04.753Z"
   },
   {
    "duration": 151,
    "start_time": "2023-06-19T21:05:50.734Z"
   },
   {
    "duration": 150,
    "start_time": "2023-06-19T21:05:57.887Z"
   },
   {
    "duration": 200,
    "start_time": "2023-06-19T21:07:38.946Z"
   },
   {
    "duration": 211,
    "start_time": "2023-06-19T21:07:58.388Z"
   },
   {
    "duration": 1082,
    "start_time": "2023-06-19T21:08:48.229Z"
   },
   {
    "duration": 1016,
    "start_time": "2023-06-19T21:09:11.880Z"
   },
   {
    "duration": 961,
    "start_time": "2023-06-19T21:09:20.132Z"
   },
   {
    "duration": 931,
    "start_time": "2023-06-19T21:09:47.236Z"
   },
   {
    "duration": 975,
    "start_time": "2023-06-19T21:09:57.718Z"
   },
   {
    "duration": 1153,
    "start_time": "2023-06-19T21:10:03.392Z"
   },
   {
    "duration": 996,
    "start_time": "2023-06-19T21:10:07.499Z"
   },
   {
    "duration": 915,
    "start_time": "2023-06-19T21:10:43.199Z"
   },
   {
    "duration": 38,
    "start_time": "2023-06-19T21:14:33.099Z"
   },
   {
    "duration": 238,
    "start_time": "2023-06-19T21:14:46.850Z"
   },
   {
    "duration": 1316,
    "start_time": "2023-06-19T21:16:11.618Z"
   },
   {
    "duration": 1846,
    "start_time": "2023-06-19T21:16:22.956Z"
   },
   {
    "duration": 1998,
    "start_time": "2023-06-19T21:16:45.180Z"
   },
   {
    "duration": 1837,
    "start_time": "2023-06-19T21:17:23.396Z"
   },
   {
    "duration": 2100,
    "start_time": "2023-06-19T21:17:39.642Z"
   },
   {
    "duration": 1854,
    "start_time": "2023-06-19T21:17:54.109Z"
   },
   {
    "duration": 2078,
    "start_time": "2023-06-19T21:18:01.955Z"
   },
   {
    "duration": 1881,
    "start_time": "2023-06-19T21:19:11.891Z"
   },
   {
    "duration": 2124,
    "start_time": "2023-06-19T21:19:27.995Z"
   },
   {
    "duration": 1916,
    "start_time": "2023-06-19T21:19:33.394Z"
   },
   {
    "duration": 2100,
    "start_time": "2023-06-19T21:19:52.698Z"
   },
   {
    "duration": 1871,
    "start_time": "2023-06-19T21:20:24.527Z"
   },
   {
    "duration": 1973,
    "start_time": "2023-06-19T21:20:35.492Z"
   },
   {
    "duration": 756,
    "start_time": "2023-06-19T21:21:23.599Z"
   },
   {
    "duration": 3,
    "start_time": "2023-06-19T21:22:45.896Z"
   },
   {
    "duration": 1953,
    "start_time": "2023-06-19T21:23:12.992Z"
   },
   {
    "duration": 1703,
    "start_time": "2023-06-20T12:25:26.708Z"
   },
   {
    "duration": 1401,
    "start_time": "2023-06-20T12:25:28.414Z"
   },
   {
    "duration": 5,
    "start_time": "2023-06-20T12:25:29.817Z"
   },
   {
    "duration": 56,
    "start_time": "2023-06-20T12:25:29.824Z"
   },
   {
    "duration": 155,
    "start_time": "2023-06-20T12:25:29.886Z"
   },
   {
    "duration": 74,
    "start_time": "2023-06-20T12:25:30.045Z"
   },
   {
    "duration": 446,
    "start_time": "2023-06-20T12:25:30.122Z"
   },
   {
    "duration": 175,
    "start_time": "2023-06-20T12:25:30.570Z"
   },
   {
    "duration": 62,
    "start_time": "2023-06-20T12:25:30.747Z"
   },
   {
    "duration": 39,
    "start_time": "2023-06-20T12:25:30.811Z"
   },
   {
    "duration": 62,
    "start_time": "2023-06-20T12:25:30.852Z"
   },
   {
    "duration": 46,
    "start_time": "2023-06-20T12:25:30.916Z"
   },
   {
    "duration": 46,
    "start_time": "2023-06-20T12:25:30.963Z"
   },
   {
    "duration": 50,
    "start_time": "2023-06-20T12:25:31.013Z"
   },
   {
    "duration": 8,
    "start_time": "2023-06-20T12:25:31.065Z"
   },
   {
    "duration": 34,
    "start_time": "2023-06-20T12:25:31.075Z"
   },
   {
    "duration": 57,
    "start_time": "2023-06-20T12:25:31.112Z"
   },
   {
    "duration": 300,
    "start_time": "2023-06-20T12:25:31.171Z"
   },
   {
    "duration": 60,
    "start_time": "2023-06-20T12:25:31.473Z"
   },
   {
    "duration": 64,
    "start_time": "2023-06-20T12:25:31.535Z"
   },
   {
    "duration": 54,
    "start_time": "2023-06-20T12:25:31.601Z"
   },
   {
    "duration": 39,
    "start_time": "2023-06-20T12:25:31.658Z"
   },
   {
    "duration": 32,
    "start_time": "2023-06-20T12:25:31.700Z"
   },
   {
    "duration": 52,
    "start_time": "2023-06-20T12:25:31.734Z"
   },
   {
    "duration": 25,
    "start_time": "2023-06-20T12:25:31.788Z"
   },
   {
    "duration": 9,
    "start_time": "2023-06-20T12:25:31.818Z"
   },
   {
    "duration": 73,
    "start_time": "2023-06-20T12:25:31.829Z"
   },
   {
    "duration": 9,
    "start_time": "2023-06-20T12:25:31.905Z"
   },
   {
    "duration": 80,
    "start_time": "2023-06-20T12:25:31.916Z"
   },
   {
    "duration": 572,
    "start_time": "2023-06-20T12:25:31.998Z"
   },
   {
    "duration": 46,
    "start_time": "2023-06-20T12:25:32.573Z"
   },
   {
    "duration": 62,
    "start_time": "2023-06-20T12:25:32.623Z"
   },
   {
    "duration": 43,
    "start_time": "2023-06-20T12:25:32.688Z"
   },
   {
    "duration": 77,
    "start_time": "2023-06-20T12:25:32.734Z"
   },
   {
    "duration": 78,
    "start_time": "2023-06-20T12:25:32.815Z"
   },
   {
    "duration": 7,
    "start_time": "2023-06-20T12:25:32.896Z"
   },
   {
    "duration": 41,
    "start_time": "2023-06-20T12:25:32.906Z"
   },
   {
    "duration": 18,
    "start_time": "2023-06-20T12:25:32.950Z"
   },
   {
    "duration": 32,
    "start_time": "2023-06-20T12:25:32.970Z"
   },
   {
    "duration": 45,
    "start_time": "2023-06-20T12:25:33.004Z"
   },
   {
    "duration": 24,
    "start_time": "2023-06-20T12:25:33.054Z"
   },
   {
    "duration": 25,
    "start_time": "2023-06-20T12:25:33.080Z"
   },
   {
    "duration": 48,
    "start_time": "2023-06-20T12:25:33.108Z"
   },
   {
    "duration": 26,
    "start_time": "2023-06-20T12:25:33.158Z"
   },
   {
    "duration": 19,
    "start_time": "2023-06-20T12:25:33.186Z"
   },
   {
    "duration": 29,
    "start_time": "2023-06-20T12:25:33.207Z"
   },
   {
    "duration": 5,
    "start_time": "2023-06-20T12:25:33.238Z"
   },
   {
    "duration": 35,
    "start_time": "2023-06-20T12:25:33.245Z"
   },
   {
    "duration": 367,
    "start_time": "2023-06-20T12:25:33.285Z"
   },
   {
    "duration": 15,
    "start_time": "2023-06-20T12:25:33.659Z"
   },
   {
    "duration": 286,
    "start_time": "2023-06-20T12:25:33.676Z"
   },
   {
    "duration": 0,
    "start_time": "2023-06-20T12:25:33.964Z"
   },
   {
    "duration": 0,
    "start_time": "2023-06-20T12:25:33.966Z"
   },
   {
    "duration": 0,
    "start_time": "2023-06-20T12:25:33.968Z"
   },
   {
    "duration": 0,
    "start_time": "2023-06-20T12:25:33.969Z"
   },
   {
    "duration": 0,
    "start_time": "2023-06-20T12:25:33.970Z"
   },
   {
    "duration": 568,
    "start_time": "2023-06-20T12:26:39.400Z"
   },
   {
    "duration": 287,
    "start_time": "2023-06-20T12:27:50.143Z"
   },
   {
    "duration": 337,
    "start_time": "2023-06-20T12:29:11.947Z"
   },
   {
    "duration": 311,
    "start_time": "2023-06-20T12:29:27.941Z"
   },
   {
    "duration": 372,
    "start_time": "2023-06-20T12:30:08.305Z"
   },
   {
    "duration": 352,
    "start_time": "2023-06-20T12:30:56.597Z"
   },
   {
    "duration": 335,
    "start_time": "2023-06-20T12:31:12.706Z"
   },
   {
    "duration": 286,
    "start_time": "2023-06-20T12:31:32.805Z"
   },
   {
    "duration": 298,
    "start_time": "2023-06-20T12:31:49.204Z"
   },
   {
    "duration": 292,
    "start_time": "2023-06-20T12:31:57.829Z"
   },
   {
    "duration": 293,
    "start_time": "2023-06-20T12:32:07.735Z"
   },
   {
    "duration": 16,
    "start_time": "2023-06-20T12:33:52.935Z"
   },
   {
    "duration": 15,
    "start_time": "2023-06-20T12:34:00.032Z"
   },
   {
    "duration": 15,
    "start_time": "2023-06-20T12:34:11.955Z"
   },
   {
    "duration": 15,
    "start_time": "2023-06-20T12:34:34.415Z"
   },
   {
    "duration": 21,
    "start_time": "2023-06-20T12:35:27.794Z"
   },
   {
    "duration": 17,
    "start_time": "2023-06-20T12:35:34.566Z"
   },
   {
    "duration": 31,
    "start_time": "2023-06-20T12:37:49.331Z"
   },
   {
    "duration": 25,
    "start_time": "2023-06-20T12:37:53.108Z"
   },
   {
    "duration": 237,
    "start_time": "2023-06-20T12:37:57.008Z"
   },
   {
    "duration": 23,
    "start_time": "2023-06-20T12:39:11.630Z"
   },
   {
    "duration": 289,
    "start_time": "2023-06-20T12:39:27.055Z"
   },
   {
    "duration": 223,
    "start_time": "2023-06-20T12:39:51.427Z"
   },
   {
    "duration": 224,
    "start_time": "2023-06-20T12:40:10.958Z"
   },
   {
    "duration": 350,
    "start_time": "2023-06-20T12:40:31.435Z"
   },
   {
    "duration": 218,
    "start_time": "2023-06-20T12:40:37.408Z"
   },
   {
    "duration": 262,
    "start_time": "2023-06-20T12:40:49.199Z"
   },
   {
    "duration": 1648,
    "start_time": "2023-06-20T19:49:05.245Z"
   },
   {
    "duration": 1292,
    "start_time": "2023-06-20T19:49:06.895Z"
   },
   {
    "duration": 14,
    "start_time": "2023-06-20T19:49:08.189Z"
   },
   {
    "duration": 19,
    "start_time": "2023-06-20T19:49:08.205Z"
   },
   {
    "duration": 13,
    "start_time": "2023-06-20T19:49:08.226Z"
   },
   {
    "duration": 32,
    "start_time": "2023-06-20T19:49:08.241Z"
   },
   {
    "duration": 20,
    "start_time": "2023-06-20T19:49:08.280Z"
   },
   {
    "duration": 26,
    "start_time": "2023-06-20T19:49:08.301Z"
   },
   {
    "duration": 14,
    "start_time": "2023-06-20T19:49:08.330Z"
   },
   {
    "duration": 11,
    "start_time": "2023-06-20T19:49:08.346Z"
   },
   {
    "duration": 10,
    "start_time": "2023-06-20T19:49:08.359Z"
   },
   {
    "duration": 13,
    "start_time": "2023-06-20T19:49:08.376Z"
   },
   {
    "duration": 25,
    "start_time": "2023-06-20T19:49:08.391Z"
   },
   {
    "duration": 29,
    "start_time": "2023-06-20T19:49:08.420Z"
   },
   {
    "duration": 33,
    "start_time": "2023-06-20T19:49:08.452Z"
   },
   {
    "duration": 6,
    "start_time": "2023-06-20T19:49:08.487Z"
   },
   {
    "duration": 11,
    "start_time": "2023-06-20T19:49:08.495Z"
   },
   {
    "duration": 8,
    "start_time": "2023-06-20T19:49:08.507Z"
   },
   {
    "duration": 20,
    "start_time": "2023-06-20T19:49:08.517Z"
   },
   {
    "duration": 20,
    "start_time": "2023-06-20T19:49:08.539Z"
   },
   {
    "duration": 23,
    "start_time": "2023-06-20T19:49:08.567Z"
   },
   {
    "duration": 19,
    "start_time": "2023-06-20T19:49:08.592Z"
   },
   {
    "duration": 22,
    "start_time": "2023-06-20T19:49:08.613Z"
   },
   {
    "duration": 49,
    "start_time": "2023-06-20T19:49:08.638Z"
   },
   {
    "duration": 13,
    "start_time": "2023-06-20T19:49:08.690Z"
   },
   {
    "duration": 5,
    "start_time": "2023-06-20T19:49:08.705Z"
   },
   {
    "duration": 28,
    "start_time": "2023-06-20T19:49:08.712Z"
   },
   {
    "duration": 6,
    "start_time": "2023-06-20T19:49:08.743Z"
   },
   {
    "duration": 29,
    "start_time": "2023-06-20T19:49:08.769Z"
   },
   {
    "duration": 20,
    "start_time": "2023-06-20T19:49:08.801Z"
   },
   {
    "duration": 5,
    "start_time": "2023-06-20T19:49:08.823Z"
   },
   {
    "duration": 49,
    "start_time": "2023-06-20T19:49:08.830Z"
   },
   {
    "duration": 9,
    "start_time": "2023-06-20T19:49:08.881Z"
   },
   {
    "duration": 11,
    "start_time": "2023-06-20T19:49:08.893Z"
   },
   {
    "duration": 39,
    "start_time": "2023-06-20T19:49:08.906Z"
   },
   {
    "duration": 34,
    "start_time": "2023-06-20T19:49:08.947Z"
   },
   {
    "duration": 7,
    "start_time": "2023-06-20T19:49:08.986Z"
   },
   {
    "duration": 6,
    "start_time": "2023-06-20T19:49:08.995Z"
   },
   {
    "duration": 11,
    "start_time": "2023-06-20T19:49:09.003Z"
   },
   {
    "duration": 17,
    "start_time": "2023-06-20T19:49:09.016Z"
   },
   {
    "duration": 16,
    "start_time": "2023-06-20T19:49:09.037Z"
   },
   {
    "duration": 29,
    "start_time": "2023-06-20T19:49:09.055Z"
   },
   {
    "duration": 9,
    "start_time": "2023-06-20T19:49:09.086Z"
   },
   {
    "duration": 35,
    "start_time": "2023-06-20T19:49:09.096Z"
   },
   {
    "duration": 21,
    "start_time": "2023-06-20T19:49:09.133Z"
   },
   {
    "duration": 32,
    "start_time": "2023-06-20T19:49:09.157Z"
   },
   {
    "duration": 5,
    "start_time": "2023-06-20T19:49:09.190Z"
   },
   {
    "duration": 20,
    "start_time": "2023-06-20T19:49:09.197Z"
   },
   {
    "duration": 326,
    "start_time": "2023-06-20T19:49:09.219Z"
   },
   {
    "duration": 11,
    "start_time": "2023-06-20T19:49:09.546Z"
   },
   {
    "duration": 403,
    "start_time": "2023-06-20T19:49:09.558Z"
   },
   {
    "duration": 281,
    "start_time": "2023-06-20T19:49:09.966Z"
   },
   {
    "duration": 0,
    "start_time": "2023-06-20T19:49:10.249Z"
   },
   {
    "duration": 0,
    "start_time": "2023-06-20T19:49:10.251Z"
   },
   {
    "duration": 0,
    "start_time": "2023-06-20T19:49:10.253Z"
   },
   {
    "duration": 0,
    "start_time": "2023-06-20T19:49:10.254Z"
   },
   {
    "duration": 0,
    "start_time": "2023-06-20T19:49:10.255Z"
   },
   {
    "duration": 0,
    "start_time": "2023-06-20T19:49:10.256Z"
   },
   {
    "duration": 173,
    "start_time": "2023-06-20T19:49:33.509Z"
   },
   {
    "duration": 32,
    "start_time": "2023-06-20T19:49:48.872Z"
   },
   {
    "duration": 172,
    "start_time": "2023-06-20T19:49:51.412Z"
   },
   {
    "duration": 219,
    "start_time": "2023-06-20T19:49:56.894Z"
   },
   {
    "duration": 17,
    "start_time": "2023-06-20T19:50:21.821Z"
   },
   {
    "duration": 331,
    "start_time": "2023-06-20T19:50:24.066Z"
   },
   {
    "duration": 2056,
    "start_time": "2023-06-20T19:50:31.942Z"
   },
   {
    "duration": 224,
    "start_time": "2023-06-20T19:51:16.530Z"
   },
   {
    "duration": 233,
    "start_time": "2023-06-20T19:51:46.664Z"
   },
   {
    "duration": 228,
    "start_time": "2023-06-20T19:51:54.971Z"
   },
   {
    "duration": 86,
    "start_time": "2023-06-20T19:52:27.063Z"
   },
   {
    "duration": 217,
    "start_time": "2023-06-20T19:52:34.996Z"
   },
   {
    "duration": 329,
    "start_time": "2023-06-20T19:52:48.051Z"
   },
   {
    "duration": 242,
    "start_time": "2023-06-20T19:53:39.554Z"
   },
   {
    "duration": 211,
    "start_time": "2023-06-20T19:53:53.496Z"
   },
   {
    "duration": 212,
    "start_time": "2023-06-20T19:53:58.020Z"
   },
   {
    "duration": 215,
    "start_time": "2023-06-20T19:54:11.442Z"
   },
   {
    "duration": 208,
    "start_time": "2023-06-20T19:54:14.630Z"
   },
   {
    "duration": 258,
    "start_time": "2023-06-20T19:54:43.397Z"
   },
   {
    "duration": 337,
    "start_time": "2023-06-20T19:55:43.848Z"
   },
   {
    "duration": 148,
    "start_time": "2023-06-20T19:55:57.825Z"
   },
   {
    "duration": 148,
    "start_time": "2023-06-20T19:56:01.398Z"
   },
   {
    "duration": 309,
    "start_time": "2023-06-20T19:56:49.984Z"
   },
   {
    "duration": 333,
    "start_time": "2023-06-20T19:57:16.400Z"
   },
   {
    "duration": 156,
    "start_time": "2023-06-20T20:00:04.857Z"
   },
   {
    "duration": 109,
    "start_time": "2023-06-20T20:00:15.522Z"
   },
   {
    "duration": 126,
    "start_time": "2023-06-20T20:01:27.606Z"
   },
   {
    "duration": 127,
    "start_time": "2023-06-20T20:01:46.494Z"
   },
   {
    "duration": 555,
    "start_time": "2023-06-20T20:02:14.264Z"
   },
   {
    "duration": 188,
    "start_time": "2023-06-20T20:02:31.804Z"
   },
   {
    "duration": 200,
    "start_time": "2023-06-20T20:03:57.364Z"
   },
   {
    "duration": 212,
    "start_time": "2023-06-20T20:04:49.513Z"
   },
   {
    "duration": 213,
    "start_time": "2023-06-20T20:04:58.115Z"
   },
   {
    "duration": 14,
    "start_time": "2023-06-20T20:05:32.206Z"
   },
   {
    "duration": 208,
    "start_time": "2023-06-20T20:06:46.112Z"
   },
   {
    "duration": 224,
    "start_time": "2023-06-20T20:07:00.210Z"
   },
   {
    "duration": 1326,
    "start_time": "2023-06-20T20:07:24.337Z"
   },
   {
    "duration": 2128,
    "start_time": "2023-06-20T20:13:46.621Z"
   },
   {
    "duration": 2588,
    "start_time": "2023-06-20T20:16:32.520Z"
   },
   {
    "duration": 2206,
    "start_time": "2023-06-20T20:17:18.765Z"
   },
   {
    "duration": 2277,
    "start_time": "2023-06-20T20:18:37.056Z"
   },
   {
    "duration": 2677,
    "start_time": "2023-06-20T20:18:52.003Z"
   },
   {
    "duration": 320,
    "start_time": "2023-06-20T20:19:40.903Z"
   },
   {
    "duration": 2127,
    "start_time": "2023-06-20T20:20:15.415Z"
   },
   {
    "duration": 2220,
    "start_time": "2023-06-20T20:20:59.806Z"
   },
   {
    "duration": 2671,
    "start_time": "2023-06-20T20:21:29.509Z"
   },
   {
    "duration": 2329,
    "start_time": "2023-06-20T20:21:44.155Z"
   },
   {
    "duration": 1382,
    "start_time": "2023-06-20T20:22:10.012Z"
   },
   {
    "duration": 1763,
    "start_time": "2023-06-20T20:22:34.800Z"
   },
   {
    "duration": 1371,
    "start_time": "2023-06-20T20:23:10.913Z"
   },
   {
    "duration": 2453,
    "start_time": "2023-06-20T20:23:23.410Z"
   },
   {
    "duration": 1825,
    "start_time": "2023-06-20T20:24:08.230Z"
   },
   {
    "duration": 1905,
    "start_time": "2023-06-20T20:24:16.834Z"
   },
   {
    "duration": 1757,
    "start_time": "2023-06-20T20:24:59.042Z"
   },
   {
    "duration": 1639,
    "start_time": "2023-06-20T20:25:05.600Z"
   },
   {
    "duration": 1938,
    "start_time": "2023-06-20T20:25:24.025Z"
   },
   {
    "duration": 2534,
    "start_time": "2023-06-20T20:25:53.925Z"
   },
   {
    "duration": 2646,
    "start_time": "2023-06-20T20:26:27.453Z"
   },
   {
    "duration": 2784,
    "start_time": "2023-06-20T20:26:37.738Z"
   },
   {
    "duration": 2300,
    "start_time": "2023-06-20T20:26:47.647Z"
   },
   {
    "duration": 2338,
    "start_time": "2023-06-20T20:27:46.307Z"
   },
   {
    "duration": 2873,
    "start_time": "2023-06-20T20:27:59.326Z"
   },
   {
    "duration": 1488,
    "start_time": "2023-06-20T20:29:02.005Z"
   },
   {
    "duration": 1436,
    "start_time": "2023-06-20T20:29:19.115Z"
   },
   {
    "duration": 1524,
    "start_time": "2023-06-20T20:29:43.204Z"
   },
   {
    "duration": 2615,
    "start_time": "2023-06-20T20:29:59.214Z"
   },
   {
    "duration": 14,
    "start_time": "2023-06-20T20:33:56.922Z"
   },
   {
    "duration": 15,
    "start_time": "2023-06-20T20:34:28.914Z"
   },
   {
    "duration": 26,
    "start_time": "2023-06-20T20:34:57.360Z"
   },
   {
    "duration": 12,
    "start_time": "2023-06-20T20:35:02.448Z"
   },
   {
    "duration": 15,
    "start_time": "2023-06-20T20:35:16.121Z"
   },
   {
    "duration": 13,
    "start_time": "2023-06-20T20:35:25.928Z"
   },
   {
    "duration": 1343,
    "start_time": "2023-06-20T20:35:33.412Z"
   },
   {
    "duration": 1278,
    "start_time": "2023-06-20T20:35:34.757Z"
   },
   {
    "duration": 4,
    "start_time": "2023-06-20T20:35:36.037Z"
   },
   {
    "duration": 54,
    "start_time": "2023-06-20T20:35:36.043Z"
   },
   {
    "duration": 17,
    "start_time": "2023-06-20T20:35:36.107Z"
   },
   {
    "duration": 15,
    "start_time": "2023-06-20T20:35:36.126Z"
   },
   {
    "duration": 16,
    "start_time": "2023-06-20T20:35:36.143Z"
   },
   {
    "duration": 40,
    "start_time": "2023-06-20T20:35:36.161Z"
   },
   {
    "duration": 5,
    "start_time": "2023-06-20T20:35:36.209Z"
   },
   {
    "duration": 9,
    "start_time": "2023-06-20T20:35:36.216Z"
   },
   {
    "duration": 8,
    "start_time": "2023-06-20T20:35:36.226Z"
   },
   {
    "duration": 12,
    "start_time": "2023-06-20T20:35:36.235Z"
   },
   {
    "duration": 16,
    "start_time": "2023-06-20T20:35:36.248Z"
   },
   {
    "duration": 51,
    "start_time": "2023-06-20T20:35:36.267Z"
   },
   {
    "duration": 6,
    "start_time": "2023-06-20T20:35:36.320Z"
   },
   {
    "duration": 8,
    "start_time": "2023-06-20T20:35:36.327Z"
   },
   {
    "duration": 9,
    "start_time": "2023-06-20T20:35:36.336Z"
   },
   {
    "duration": 7,
    "start_time": "2023-06-20T20:35:36.346Z"
   },
   {
    "duration": 6,
    "start_time": "2023-06-20T20:35:36.354Z"
   },
   {
    "duration": 21,
    "start_time": "2023-06-20T20:35:36.362Z"
   },
   {
    "duration": 16,
    "start_time": "2023-06-20T20:35:36.385Z"
   },
   {
    "duration": 14,
    "start_time": "2023-06-20T20:35:36.402Z"
   },
   {
    "duration": 23,
    "start_time": "2023-06-20T20:35:36.417Z"
   },
   {
    "duration": 11,
    "start_time": "2023-06-20T20:35:36.442Z"
   },
   {
    "duration": 25,
    "start_time": "2023-06-20T20:35:36.454Z"
   },
   {
    "duration": 19,
    "start_time": "2023-06-20T20:35:36.488Z"
   },
   {
    "duration": 41,
    "start_time": "2023-06-20T20:35:36.511Z"
   },
   {
    "duration": 6,
    "start_time": "2023-06-20T20:35:36.554Z"
   },
   {
    "duration": 35,
    "start_time": "2023-06-20T20:35:36.561Z"
   },
   {
    "duration": 16,
    "start_time": "2023-06-20T20:35:36.597Z"
   },
   {
    "duration": 7,
    "start_time": "2023-06-20T20:35:36.615Z"
   },
   {
    "duration": 14,
    "start_time": "2023-06-20T20:35:36.623Z"
   },
   {
    "duration": 7,
    "start_time": "2023-06-20T20:35:36.639Z"
   },
   {
    "duration": 5,
    "start_time": "2023-06-20T20:35:36.648Z"
   },
   {
    "duration": 56,
    "start_time": "2023-06-20T20:35:36.655Z"
   },
   {
    "duration": 5,
    "start_time": "2023-06-20T20:35:36.714Z"
   },
   {
    "duration": 14,
    "start_time": "2023-06-20T20:35:36.721Z"
   },
   {
    "duration": 7,
    "start_time": "2023-06-20T20:35:36.736Z"
   },
   {
    "duration": 12,
    "start_time": "2023-06-20T20:35:36.744Z"
   },
   {
    "duration": 45,
    "start_time": "2023-06-20T20:35:36.758Z"
   },
   {
    "duration": 11,
    "start_time": "2023-06-20T20:35:36.808Z"
   },
   {
    "duration": 6,
    "start_time": "2023-06-20T20:35:36.821Z"
   },
   {
    "duration": 7,
    "start_time": "2023-06-20T20:35:36.829Z"
   },
   {
    "duration": 25,
    "start_time": "2023-06-20T20:35:36.838Z"
   },
   {
    "duration": 34,
    "start_time": "2023-06-20T20:35:36.865Z"
   },
   {
    "duration": 31,
    "start_time": "2023-06-20T20:35:36.900Z"
   },
   {
    "duration": 3,
    "start_time": "2023-06-20T20:35:36.933Z"
   },
   {
    "duration": 15,
    "start_time": "2023-06-20T20:35:36.938Z"
   },
   {
    "duration": 297,
    "start_time": "2023-06-20T20:35:36.954Z"
   },
   {
    "duration": 23,
    "start_time": "2023-06-20T20:35:37.253Z"
   },
   {
    "duration": 443,
    "start_time": "2023-06-20T20:35:37.280Z"
   },
   {
    "duration": 193,
    "start_time": "2023-06-20T20:35:37.725Z"
   },
   {
    "duration": 22,
    "start_time": "2023-06-20T20:35:37.920Z"
   },
   {
    "duration": 199,
    "start_time": "2023-06-20T20:35:37.943Z"
   },
   {
    "duration": 253,
    "start_time": "2023-06-20T20:35:38.144Z"
   },
   {
    "duration": 16,
    "start_time": "2023-06-20T20:35:38.399Z"
   },
   {
    "duration": 232,
    "start_time": "2023-06-20T20:35:38.417Z"
   },
   {
    "duration": 2509,
    "start_time": "2023-06-20T20:35:38.651Z"
   },
   {
    "duration": 153,
    "start_time": "2023-06-20T20:35:41.162Z"
   },
   {
    "duration": 12,
    "start_time": "2023-06-20T20:36:28.431Z"
   },
   {
    "duration": 16,
    "start_time": "2023-06-20T20:36:58.812Z"
   },
   {
    "duration": 27,
    "start_time": "2023-06-20T20:37:08.901Z"
   },
   {
    "duration": 13,
    "start_time": "2023-06-20T20:37:13.521Z"
   },
   {
    "duration": 14,
    "start_time": "2023-06-20T20:37:38.224Z"
   },
   {
    "duration": 22,
    "start_time": "2023-06-20T20:37:48.013Z"
   },
   {
    "duration": 15,
    "start_time": "2023-06-20T20:37:55.330Z"
   },
   {
    "duration": 20,
    "start_time": "2023-06-20T20:38:07.008Z"
   },
   {
    "duration": 13,
    "start_time": "2023-06-20T20:38:20.226Z"
   },
   {
    "duration": 13,
    "start_time": "2023-06-20T20:38:30.523Z"
   },
   {
    "duration": 15,
    "start_time": "2023-06-20T20:38:36.240Z"
   },
   {
    "duration": 13,
    "start_time": "2023-06-20T20:38:40.108Z"
   },
   {
    "duration": 7,
    "start_time": "2023-06-20T20:38:50.920Z"
   },
   {
    "duration": 1282,
    "start_time": "2023-06-20T20:38:59.115Z"
   },
   {
    "duration": 1137,
    "start_time": "2023-06-20T20:39:00.399Z"
   },
   {
    "duration": 4,
    "start_time": "2023-06-20T20:39:01.537Z"
   },
   {
    "duration": 66,
    "start_time": "2023-06-20T20:39:01.543Z"
   },
   {
    "duration": 44,
    "start_time": "2023-06-20T20:39:01.614Z"
   },
   {
    "duration": 55,
    "start_time": "2023-06-20T20:39:01.660Z"
   },
   {
    "duration": 13,
    "start_time": "2023-06-20T20:39:01.717Z"
   },
   {
    "duration": 47,
    "start_time": "2023-06-20T20:39:01.732Z"
   },
   {
    "duration": 78,
    "start_time": "2023-06-20T20:39:01.781Z"
   },
   {
    "duration": 53,
    "start_time": "2023-06-20T20:39:01.861Z"
   },
   {
    "duration": 162,
    "start_time": "2023-06-20T20:39:01.916Z"
   },
   {
    "duration": 108,
    "start_time": "2023-06-20T20:39:02.079Z"
   },
   {
    "duration": 24,
    "start_time": "2023-06-20T20:39:02.201Z"
   },
   {
    "duration": 47,
    "start_time": "2023-06-20T20:39:02.228Z"
   },
   {
    "duration": 49,
    "start_time": "2023-06-20T20:39:02.280Z"
   },
   {
    "duration": 48,
    "start_time": "2023-06-20T20:39:02.331Z"
   },
   {
    "duration": 31,
    "start_time": "2023-06-20T20:39:02.381Z"
   },
   {
    "duration": 30,
    "start_time": "2023-06-20T20:39:02.414Z"
   },
   {
    "duration": 8,
    "start_time": "2023-06-20T20:39:02.446Z"
   },
   {
    "duration": 31,
    "start_time": "2023-06-20T20:39:02.455Z"
   },
   {
    "duration": 40,
    "start_time": "2023-06-20T20:39:02.492Z"
   },
   {
    "duration": 14,
    "start_time": "2023-06-20T20:39:02.534Z"
   },
   {
    "duration": 32,
    "start_time": "2023-06-20T20:39:02.550Z"
   },
   {
    "duration": 37,
    "start_time": "2023-06-20T20:39:02.585Z"
   },
   {
    "duration": 10,
    "start_time": "2023-06-20T20:39:02.625Z"
   },
   {
    "duration": 5,
    "start_time": "2023-06-20T20:39:02.637Z"
   },
   {
    "duration": 37,
    "start_time": "2023-06-20T20:39:02.645Z"
   },
   {
    "duration": 9,
    "start_time": "2023-06-20T20:39:02.686Z"
   },
   {
    "duration": 38,
    "start_time": "2023-06-20T20:39:02.698Z"
   },
   {
    "duration": 14,
    "start_time": "2023-06-20T20:39:02.738Z"
   },
   {
    "duration": 45,
    "start_time": "2023-06-20T20:39:02.754Z"
   },
   {
    "duration": 10,
    "start_time": "2023-06-20T20:39:02.801Z"
   },
   {
    "duration": 9,
    "start_time": "2023-06-20T20:39:02.813Z"
   },
   {
    "duration": 13,
    "start_time": "2023-06-20T20:39:02.824Z"
   },
   {
    "duration": 38,
    "start_time": "2023-06-20T20:39:02.839Z"
   },
   {
    "duration": 6,
    "start_time": "2023-06-20T20:39:02.878Z"
   },
   {
    "duration": 46,
    "start_time": "2023-06-20T20:39:02.896Z"
   },
   {
    "duration": 55,
    "start_time": "2023-06-20T20:39:02.944Z"
   },
   {
    "duration": 24,
    "start_time": "2023-06-20T20:39:03.001Z"
   },
   {
    "duration": 16,
    "start_time": "2023-06-20T20:39:03.026Z"
   },
   {
    "duration": 19,
    "start_time": "2023-06-20T20:39:03.046Z"
   },
   {
    "duration": 44,
    "start_time": "2023-06-20T20:39:03.068Z"
   },
   {
    "duration": 16,
    "start_time": "2023-06-20T20:39:03.114Z"
   },
   {
    "duration": 17,
    "start_time": "2023-06-20T20:39:03.132Z"
   },
   {
    "duration": 53,
    "start_time": "2023-06-20T20:39:03.151Z"
   },
   {
    "duration": 27,
    "start_time": "2023-06-20T20:39:03.207Z"
   },
   {
    "duration": 5,
    "start_time": "2023-06-20T20:39:03.236Z"
   },
   {
    "duration": 19,
    "start_time": "2023-06-20T20:39:03.243Z"
   },
   {
    "duration": 326,
    "start_time": "2023-06-20T20:39:03.264Z"
   },
   {
    "duration": 19,
    "start_time": "2023-06-20T20:39:03.604Z"
   },
   {
    "duration": 458,
    "start_time": "2023-06-20T20:39:03.625Z"
   },
   {
    "duration": 238,
    "start_time": "2023-06-20T20:39:04.085Z"
   },
   {
    "duration": 29,
    "start_time": "2023-06-20T20:39:04.326Z"
   },
   {
    "duration": 247,
    "start_time": "2023-06-20T20:39:04.357Z"
   },
   {
    "duration": 254,
    "start_time": "2023-06-20T20:39:04.613Z"
   },
   {
    "duration": 54,
    "start_time": "2023-06-20T20:39:04.876Z"
   },
   {
    "duration": 251,
    "start_time": "2023-06-20T20:39:04.936Z"
   },
   {
    "duration": 2504,
    "start_time": "2023-06-20T20:39:05.189Z"
   },
   {
    "duration": 8,
    "start_time": "2023-06-20T20:39:07.696Z"
   },
   {
    "duration": 9,
    "start_time": "2023-06-20T20:39:33.841Z"
   },
   {
    "duration": 9,
    "start_time": "2023-06-20T20:39:48.212Z"
   },
   {
    "duration": 12,
    "start_time": "2023-06-20T20:40:10.760Z"
   },
   {
    "duration": 30,
    "start_time": "2023-06-20T20:40:34.361Z"
   },
   {
    "duration": 14,
    "start_time": "2023-06-20T20:40:44.232Z"
   },
   {
    "duration": 15,
    "start_time": "2023-06-20T20:40:57.617Z"
   },
   {
    "duration": 13,
    "start_time": "2023-06-20T20:41:02.813Z"
   },
   {
    "duration": 16,
    "start_time": "2023-06-20T20:41:54.746Z"
   },
   {
    "duration": 196,
    "start_time": "2023-06-20T20:42:28.335Z"
   },
   {
    "duration": 18,
    "start_time": "2023-06-20T20:42:55.611Z"
   },
   {
    "duration": 40,
    "start_time": "2023-06-20T20:43:30.921Z"
   },
   {
    "duration": 43,
    "start_time": "2023-06-20T20:44:01.253Z"
   },
   {
    "duration": 20,
    "start_time": "2023-06-20T20:44:34.613Z"
   },
   {
    "duration": 782,
    "start_time": "2023-06-20T20:46:53.410Z"
   },
   {
    "duration": 753,
    "start_time": "2023-06-20T20:47:09.407Z"
   },
   {
    "duration": 312,
    "start_time": "2023-06-20T20:48:26.840Z"
   },
   {
    "duration": 634,
    "start_time": "2023-06-20T20:51:21.962Z"
   },
   {
    "duration": 525,
    "start_time": "2023-06-20T20:51:37.805Z"
   },
   {
    "duration": 347,
    "start_time": "2023-06-20T20:56:10.416Z"
   },
   {
    "duration": 303,
    "start_time": "2023-06-20T20:58:15.218Z"
   },
   {
    "duration": 294,
    "start_time": "2023-06-20T20:58:31.501Z"
   },
   {
    "duration": 328,
    "start_time": "2023-06-20T20:59:05.122Z"
   },
   {
    "duration": 304,
    "start_time": "2023-06-20T20:59:33.429Z"
   },
   {
    "duration": 223,
    "start_time": "2023-06-20T20:59:51.414Z"
   },
   {
    "duration": 326,
    "start_time": "2023-06-20T21:00:06.255Z"
   },
   {
    "duration": 385,
    "start_time": "2023-06-20T21:00:27.322Z"
   },
   {
    "duration": 551,
    "start_time": "2023-06-20T21:00:35.628Z"
   },
   {
    "duration": 360,
    "start_time": "2023-06-20T21:00:42.452Z"
   },
   {
    "duration": 342,
    "start_time": "2023-06-20T21:02:43.746Z"
   },
   {
    "duration": 343,
    "start_time": "2023-06-20T21:02:52.955Z"
   },
   {
    "duration": 394,
    "start_time": "2023-06-20T21:04:36.413Z"
   },
   {
    "duration": 303,
    "start_time": "2023-06-20T21:04:47.217Z"
   },
   {
    "duration": 330,
    "start_time": "2023-06-20T21:05:46.613Z"
   },
   {
    "duration": 331,
    "start_time": "2023-06-20T21:05:57.217Z"
   },
   {
    "duration": 386,
    "start_time": "2023-06-20T21:06:16.726Z"
   },
   {
    "duration": 319,
    "start_time": "2023-06-20T21:06:24.363Z"
   },
   {
    "duration": 12,
    "start_time": "2023-06-20T21:06:46.543Z"
   },
   {
    "duration": 449,
    "start_time": "2023-06-20T21:07:21.307Z"
   },
   {
    "duration": 313,
    "start_time": "2023-06-20T21:07:35.306Z"
   },
   {
    "duration": 307,
    "start_time": "2023-06-20T21:07:48.326Z"
   },
   {
    "duration": 321,
    "start_time": "2023-06-20T21:07:59.419Z"
   },
   {
    "duration": 321,
    "start_time": "2023-06-20T21:08:37.510Z"
   },
   {
    "duration": 361,
    "start_time": "2023-06-20T21:08:50.733Z"
   },
   {
    "duration": 358,
    "start_time": "2023-06-20T21:09:04.648Z"
   },
   {
    "duration": 318,
    "start_time": "2023-06-20T21:09:42.803Z"
   },
   {
    "duration": 343,
    "start_time": "2023-06-20T21:09:51.244Z"
   },
   {
    "duration": 304,
    "start_time": "2023-06-20T21:10:16.727Z"
   },
   {
    "duration": 320,
    "start_time": "2023-06-20T21:10:22.844Z"
   },
   {
    "duration": 489,
    "start_time": "2023-06-20T21:10:42.914Z"
   },
   {
    "duration": 329,
    "start_time": "2023-06-20T21:10:48.909Z"
   },
   {
    "duration": 203,
    "start_time": "2023-06-20T21:13:22.802Z"
   },
   {
    "duration": 334,
    "start_time": "2023-06-20T21:13:30.845Z"
   },
   {
    "duration": 437,
    "start_time": "2023-06-20T21:14:17.602Z"
   },
   {
    "duration": 3288,
    "start_time": "2023-06-20T21:14:59.351Z"
   },
   {
    "duration": 0,
    "start_time": "2023-06-20T21:16:28.727Z"
   },
   {
    "duration": 1272,
    "start_time": "2023-06-20T21:16:36.811Z"
   },
   {
    "duration": 1249,
    "start_time": "2023-06-20T21:16:38.085Z"
   },
   {
    "duration": 4,
    "start_time": "2023-06-20T21:16:39.335Z"
   },
   {
    "duration": 24,
    "start_time": "2023-06-20T21:16:39.341Z"
   },
   {
    "duration": 13,
    "start_time": "2023-06-20T21:16:39.367Z"
   },
   {
    "duration": 22,
    "start_time": "2023-06-20T21:16:39.389Z"
   },
   {
    "duration": 7,
    "start_time": "2023-06-20T21:16:39.412Z"
   },
   {
    "duration": 24,
    "start_time": "2023-06-20T21:16:39.420Z"
   },
   {
    "duration": 5,
    "start_time": "2023-06-20T21:16:39.445Z"
   },
   {
    "duration": 18,
    "start_time": "2023-06-20T21:16:39.452Z"
   },
   {
    "duration": 16,
    "start_time": "2023-06-20T21:16:39.472Z"
   },
   {
    "duration": 10,
    "start_time": "2023-06-20T21:16:39.496Z"
   },
   {
    "duration": 32,
    "start_time": "2023-06-20T21:16:39.508Z"
   },
   {
    "duration": 38,
    "start_time": "2023-06-20T21:16:39.543Z"
   },
   {
    "duration": 7,
    "start_time": "2023-06-20T21:16:39.588Z"
   },
   {
    "duration": 13,
    "start_time": "2023-06-20T21:16:39.597Z"
   },
   {
    "duration": 7,
    "start_time": "2023-06-20T21:16:39.611Z"
   },
   {
    "duration": 5,
    "start_time": "2023-06-20T21:16:39.620Z"
   },
   {
    "duration": 11,
    "start_time": "2023-06-20T21:16:39.627Z"
   },
   {
    "duration": 19,
    "start_time": "2023-06-20T21:16:39.640Z"
   },
   {
    "duration": 21,
    "start_time": "2023-06-20T21:16:39.661Z"
   },
   {
    "duration": 19,
    "start_time": "2023-06-20T21:16:39.683Z"
   },
   {
    "duration": 16,
    "start_time": "2023-06-20T21:16:39.703Z"
   },
   {
    "duration": 11,
    "start_time": "2023-06-20T21:16:39.721Z"
   },
   {
    "duration": 15,
    "start_time": "2023-06-20T21:16:39.734Z"
   },
   {
    "duration": 25,
    "start_time": "2023-06-20T21:16:39.750Z"
   },
   {
    "duration": 35,
    "start_time": "2023-06-20T21:16:39.777Z"
   },
   {
    "duration": 5,
    "start_time": "2023-06-20T21:16:39.814Z"
   },
   {
    "duration": 29,
    "start_time": "2023-06-20T21:16:39.821Z"
   },
   {
    "duration": 12,
    "start_time": "2023-06-20T21:16:39.852Z"
   },
   {
    "duration": 3,
    "start_time": "2023-06-20T21:16:39.876Z"
   },
   {
    "duration": 4,
    "start_time": "2023-06-20T21:16:39.881Z"
   },
   {
    "duration": 14,
    "start_time": "2023-06-20T21:16:39.887Z"
   },
   {
    "duration": 17,
    "start_time": "2023-06-20T21:16:39.902Z"
   },
   {
    "duration": 39,
    "start_time": "2023-06-20T21:16:39.920Z"
   },
   {
    "duration": 6,
    "start_time": "2023-06-20T21:16:39.961Z"
   },
   {
    "duration": 20,
    "start_time": "2023-06-20T21:16:39.968Z"
   },
   {
    "duration": 21,
    "start_time": "2023-06-20T21:16:39.990Z"
   },
   {
    "duration": 19,
    "start_time": "2023-06-20T21:16:40.012Z"
   },
   {
    "duration": 22,
    "start_time": "2023-06-20T21:16:40.032Z"
   },
   {
    "duration": 26,
    "start_time": "2023-06-20T21:16:40.057Z"
   },
   {
    "duration": 14,
    "start_time": "2023-06-20T21:16:40.085Z"
   },
   {
    "duration": 13,
    "start_time": "2023-06-20T21:16:40.102Z"
   },
   {
    "duration": 15,
    "start_time": "2023-06-20T21:16:40.116Z"
   },
   {
    "duration": 13,
    "start_time": "2023-06-20T21:16:40.133Z"
   },
   {
    "duration": 24,
    "start_time": "2023-06-20T21:16:40.148Z"
   },
   {
    "duration": 19,
    "start_time": "2023-06-20T21:16:40.179Z"
   },
   {
    "duration": 14,
    "start_time": "2023-06-20T21:16:40.205Z"
   },
   {
    "duration": 283,
    "start_time": "2023-06-20T21:16:40.220Z"
   },
   {
    "duration": 10,
    "start_time": "2023-06-20T21:16:40.508Z"
   },
   {
    "duration": 403,
    "start_time": "2023-06-20T21:16:40.519Z"
   },
   {
    "duration": 187,
    "start_time": "2023-06-20T21:16:40.924Z"
   },
   {
    "duration": 20,
    "start_time": "2023-06-20T21:16:41.113Z"
   },
   {
    "duration": 184,
    "start_time": "2023-06-20T21:16:41.135Z"
   },
   {
    "duration": 263,
    "start_time": "2023-06-20T21:16:41.321Z"
   },
   {
    "duration": 25,
    "start_time": "2023-06-20T21:16:41.589Z"
   },
   {
    "duration": 247,
    "start_time": "2023-06-20T21:16:41.617Z"
   },
   {
    "duration": 2498,
    "start_time": "2023-06-20T21:16:41.878Z"
   },
   {
    "duration": 24,
    "start_time": "2023-06-20T21:16:44.378Z"
   },
   {
    "duration": 347,
    "start_time": "2023-06-20T21:16:44.405Z"
   },
   {
    "duration": 339,
    "start_time": "2023-06-20T21:17:00.802Z"
   },
   {
    "duration": 486,
    "start_time": "2023-06-20T21:17:37.399Z"
   },
   {
    "duration": 86,
    "start_time": "2023-06-20T21:17:56.822Z"
   },
   {
    "duration": 295,
    "start_time": "2023-06-20T21:18:04.365Z"
   },
   {
    "duration": 284,
    "start_time": "2023-06-20T21:20:29.098Z"
   },
   {
    "duration": 436,
    "start_time": "2023-06-20T21:20:49.994Z"
   },
   {
    "duration": 320,
    "start_time": "2023-06-20T21:20:59.237Z"
   },
   {
    "duration": 6071,
    "start_time": "2023-06-20T21:21:14.955Z"
   },
   {
    "duration": 291,
    "start_time": "2023-06-20T21:22:00.238Z"
   },
   {
    "duration": 273,
    "start_time": "2023-06-20T21:22:07.987Z"
   },
   {
    "duration": 320,
    "start_time": "2023-06-20T21:22:12.971Z"
   },
   {
    "duration": 342,
    "start_time": "2023-06-20T21:22:19.744Z"
   },
   {
    "duration": 303,
    "start_time": "2023-06-20T21:22:29.605Z"
   },
   {
    "duration": 432,
    "start_time": "2023-06-20T21:22:37.159Z"
   },
   {
    "duration": 353,
    "start_time": "2023-06-20T21:23:42.157Z"
   },
   {
    "duration": 323,
    "start_time": "2023-06-20T21:23:55.606Z"
   },
   {
    "duration": 317,
    "start_time": "2023-06-20T21:25:30.306Z"
   },
   {
    "duration": 323,
    "start_time": "2023-06-20T21:25:55.289Z"
   },
   {
    "duration": 26,
    "start_time": "2023-06-20T21:27:17.260Z"
   },
   {
    "duration": 201,
    "start_time": "2023-06-20T21:27:34.913Z"
   },
   {
    "duration": 328,
    "start_time": "2023-06-20T21:27:42.682Z"
   },
   {
    "duration": 289,
    "start_time": "2023-06-20T21:28:29.751Z"
   },
   {
    "duration": 269,
    "start_time": "2023-06-20T21:29:15.094Z"
   },
   {
    "duration": 252,
    "start_time": "2023-06-20T21:36:03.087Z"
   },
   {
    "duration": 42,
    "start_time": "2023-06-20T21:36:25.883Z"
   },
   {
    "duration": 40,
    "start_time": "2023-06-20T21:36:33.629Z"
   },
   {
    "duration": 45,
    "start_time": "2023-06-20T21:36:39.410Z"
   },
   {
    "duration": 178,
    "start_time": "2023-06-20T21:36:45.484Z"
   },
   {
    "duration": 7,
    "start_time": "2023-06-20T21:38:18.114Z"
   },
   {
    "duration": 319,
    "start_time": "2023-06-20T21:42:15.508Z"
   },
   {
    "duration": 89,
    "start_time": "2023-06-20T21:43:06.951Z"
   },
   {
    "duration": 95,
    "start_time": "2023-06-20T21:45:22.599Z"
   },
   {
    "duration": 167,
    "start_time": "2023-06-20T21:46:02.496Z"
   },
   {
    "duration": 214,
    "start_time": "2023-06-20T21:46:21.395Z"
   },
   {
    "duration": 123,
    "start_time": "2023-06-20T21:48:42.984Z"
   },
   {
    "duration": 92,
    "start_time": "2023-06-20T21:48:50.092Z"
   },
   {
    "duration": 94,
    "start_time": "2023-06-20T21:48:59.084Z"
   },
   {
    "duration": 100,
    "start_time": "2023-06-20T21:49:05.567Z"
   },
   {
    "duration": 105,
    "start_time": "2023-06-20T21:49:38.231Z"
   },
   {
    "duration": 110,
    "start_time": "2023-06-20T21:51:57.906Z"
   },
   {
    "duration": 93,
    "start_time": "2023-06-20T21:52:16.123Z"
   },
   {
    "duration": 249,
    "start_time": "2023-06-20T21:52:23.854Z"
   },
   {
    "duration": 96,
    "start_time": "2023-06-20T21:52:31.580Z"
   },
   {
    "duration": 97,
    "start_time": "2023-06-20T21:52:38.557Z"
   },
   {
    "duration": 141,
    "start_time": "2023-06-20T21:52:52.073Z"
   },
   {
    "duration": 97,
    "start_time": "2023-06-20T21:52:58.538Z"
   },
   {
    "duration": 99,
    "start_time": "2023-06-20T21:53:04.261Z"
   },
   {
    "duration": 73,
    "start_time": "2023-06-20T21:53:08.577Z"
   },
   {
    "duration": 101,
    "start_time": "2023-06-20T21:53:36.428Z"
   },
   {
    "duration": 94,
    "start_time": "2023-06-20T21:53:42.927Z"
   },
   {
    "duration": 111,
    "start_time": "2023-06-20T21:53:53.147Z"
   },
   {
    "duration": 223,
    "start_time": "2023-06-20T21:55:14.088Z"
   },
   {
    "duration": 95,
    "start_time": "2023-06-20T21:56:24.521Z"
   },
   {
    "duration": 94,
    "start_time": "2023-06-20T21:56:32.752Z"
   },
   {
    "duration": 92,
    "start_time": "2023-06-20T21:56:43.452Z"
   },
   {
    "duration": 93,
    "start_time": "2023-06-20T21:56:59.461Z"
   },
   {
    "duration": 95,
    "start_time": "2023-06-20T21:57:06.074Z"
   },
   {
    "duration": 100,
    "start_time": "2023-06-20T21:58:06.110Z"
   },
   {
    "duration": 95,
    "start_time": "2023-06-20T21:58:15.830Z"
   },
   {
    "duration": 103,
    "start_time": "2023-06-20T21:58:40.644Z"
   },
   {
    "duration": 72,
    "start_time": "2023-06-20T21:58:56.102Z"
   },
   {
    "duration": 221,
    "start_time": "2023-06-20T21:59:00.588Z"
   },
   {
    "duration": 42,
    "start_time": "2023-06-20T21:59:51.074Z"
   },
   {
    "duration": 43,
    "start_time": "2023-06-20T21:59:53.595Z"
   },
   {
    "duration": 102,
    "start_time": "2023-06-20T22:02:15.228Z"
   },
   {
    "duration": 79,
    "start_time": "2023-06-20T22:02:42.660Z"
   },
   {
    "duration": 94,
    "start_time": "2023-06-20T22:02:47.996Z"
   },
   {
    "duration": 114,
    "start_time": "2023-06-20T22:02:53.226Z"
   },
   {
    "duration": 1296,
    "start_time": "2023-06-21T06:08:52.155Z"
   },
   {
    "duration": 1093,
    "start_time": "2023-06-21T06:08:53.454Z"
   },
   {
    "duration": 4,
    "start_time": "2023-06-21T06:08:54.549Z"
   },
   {
    "duration": 23,
    "start_time": "2023-06-21T06:08:54.555Z"
   },
   {
    "duration": 9,
    "start_time": "2023-06-21T06:08:54.581Z"
   },
   {
    "duration": 17,
    "start_time": "2023-06-21T06:08:54.593Z"
   },
   {
    "duration": 10,
    "start_time": "2023-06-21T06:08:54.613Z"
   },
   {
    "duration": 37,
    "start_time": "2023-06-21T06:08:54.625Z"
   },
   {
    "duration": 24,
    "start_time": "2023-06-21T06:08:54.663Z"
   },
   {
    "duration": 8,
    "start_time": "2023-06-21T06:08:54.689Z"
   },
   {
    "duration": 10,
    "start_time": "2023-06-21T06:08:54.699Z"
   },
   {
    "duration": 7,
    "start_time": "2023-06-21T06:08:54.712Z"
   },
   {
    "duration": 21,
    "start_time": "2023-06-21T06:08:54.720Z"
   },
   {
    "duration": 36,
    "start_time": "2023-06-21T06:08:54.746Z"
   },
   {
    "duration": 6,
    "start_time": "2023-06-21T06:08:54.784Z"
   },
   {
    "duration": 9,
    "start_time": "2023-06-21T06:08:54.792Z"
   },
   {
    "duration": 13,
    "start_time": "2023-06-21T06:08:54.802Z"
   },
   {
    "duration": 8,
    "start_time": "2023-06-21T06:08:54.817Z"
   },
   {
    "duration": 11,
    "start_time": "2023-06-21T06:08:54.826Z"
   },
   {
    "duration": 49,
    "start_time": "2023-06-21T06:08:54.839Z"
   },
   {
    "duration": 18,
    "start_time": "2023-06-21T06:08:54.890Z"
   },
   {
    "duration": 49,
    "start_time": "2023-06-21T06:08:54.910Z"
   },
   {
    "duration": 26,
    "start_time": "2023-06-21T06:08:54.963Z"
   },
   {
    "duration": 14,
    "start_time": "2023-06-21T06:08:54.991Z"
   },
   {
    "duration": 10,
    "start_time": "2023-06-21T06:08:55.007Z"
   },
   {
    "duration": 13,
    "start_time": "2023-06-21T06:08:55.019Z"
   },
   {
    "duration": 37,
    "start_time": "2023-06-21T06:08:55.034Z"
   },
   {
    "duration": 9,
    "start_time": "2023-06-21T06:08:55.073Z"
   },
   {
    "duration": 44,
    "start_time": "2023-06-21T06:08:55.084Z"
   },
   {
    "duration": 14,
    "start_time": "2023-06-21T06:08:55.130Z"
   },
   {
    "duration": 7,
    "start_time": "2023-06-21T06:08:55.146Z"
   },
   {
    "duration": 22,
    "start_time": "2023-06-21T06:08:55.155Z"
   },
   {
    "duration": 9,
    "start_time": "2023-06-21T06:08:55.179Z"
   },
   {
    "duration": 14,
    "start_time": "2023-06-21T06:08:55.189Z"
   },
   {
    "duration": 45,
    "start_time": "2023-06-21T06:08:55.204Z"
   },
   {
    "duration": 6,
    "start_time": "2023-06-21T06:08:55.250Z"
   },
   {
    "duration": 20,
    "start_time": "2023-06-21T06:08:55.257Z"
   },
   {
    "duration": 9,
    "start_time": "2023-06-21T06:08:55.279Z"
   },
   {
    "duration": 33,
    "start_time": "2023-06-21T06:08:55.289Z"
   },
   {
    "duration": 20,
    "start_time": "2023-06-21T06:08:55.323Z"
   },
   {
    "duration": 10,
    "start_time": "2023-06-21T06:08:55.347Z"
   },
   {
    "duration": 22,
    "start_time": "2023-06-21T06:08:55.359Z"
   },
   {
    "duration": 17,
    "start_time": "2023-06-21T06:08:55.383Z"
   },
   {
    "duration": 25,
    "start_time": "2023-06-21T06:08:55.401Z"
   },
   {
    "duration": 16,
    "start_time": "2023-06-21T06:08:55.428Z"
   },
   {
    "duration": 19,
    "start_time": "2023-06-21T06:08:55.446Z"
   },
   {
    "duration": 9,
    "start_time": "2023-06-21T06:08:55.466Z"
   },
   {
    "duration": 15,
    "start_time": "2023-06-21T06:08:55.477Z"
   },
   {
    "duration": 290,
    "start_time": "2023-06-21T06:08:55.493Z"
   },
   {
    "duration": 11,
    "start_time": "2023-06-21T06:08:55.785Z"
   },
   {
    "duration": 389,
    "start_time": "2023-06-21T06:08:55.798Z"
   },
   {
    "duration": 170,
    "start_time": "2023-06-21T06:08:56.189Z"
   },
   {
    "duration": 27,
    "start_time": "2023-06-21T06:08:56.367Z"
   },
   {
    "duration": 183,
    "start_time": "2023-06-21T06:08:56.396Z"
   },
   {
    "duration": 221,
    "start_time": "2023-06-21T06:08:56.584Z"
   },
   {
    "duration": 16,
    "start_time": "2023-06-21T06:08:56.806Z"
   },
   {
    "duration": 220,
    "start_time": "2023-06-21T06:08:56.823Z"
   },
   {
    "duration": 2138,
    "start_time": "2023-06-21T06:08:57.045Z"
   },
   {
    "duration": 19,
    "start_time": "2023-06-21T06:08:59.185Z"
   },
   {
    "duration": 385,
    "start_time": "2023-06-21T06:08:59.205Z"
   },
   {
    "duration": 1198,
    "start_time": "2023-06-21T06:08:59.592Z"
   },
   {
    "duration": 182,
    "start_time": "2023-06-21T06:14:53.614Z"
   },
   {
    "duration": 6,
    "start_time": "2023-06-21T06:16:31.794Z"
   },
   {
    "duration": 18,
    "start_time": "2023-06-21T06:16:51.836Z"
   },
   {
    "duration": 52,
    "start_time": "2023-06-21T06:17:11.785Z"
   },
   {
    "duration": 66,
    "start_time": "2023-06-21T06:17:34.090Z"
   },
   {
    "duration": 54,
    "start_time": "2023-06-21T06:18:04.764Z"
   },
   {
    "duration": 46,
    "start_time": "2023-06-21T06:19:31.116Z"
   },
   {
    "duration": 14,
    "start_time": "2023-06-21T06:21:35.516Z"
   },
   {
    "duration": 12,
    "start_time": "2023-06-21T06:21:44.987Z"
   },
   {
    "duration": 1261,
    "start_time": "2023-06-21T06:22:01.611Z"
   },
   {
    "duration": 1274,
    "start_time": "2023-06-21T06:22:02.878Z"
   },
   {
    "duration": 4,
    "start_time": "2023-06-21T06:22:04.154Z"
   },
   {
    "duration": 37,
    "start_time": "2023-06-21T06:22:04.160Z"
   },
   {
    "duration": 17,
    "start_time": "2023-06-21T06:22:04.200Z"
   },
   {
    "duration": 22,
    "start_time": "2023-06-21T06:22:04.219Z"
   },
   {
    "duration": 46,
    "start_time": "2023-06-21T06:22:04.243Z"
   },
   {
    "duration": 42,
    "start_time": "2023-06-21T06:22:04.291Z"
   },
   {
    "duration": 6,
    "start_time": "2023-06-21T06:22:04.335Z"
   },
   {
    "duration": 21,
    "start_time": "2023-06-21T06:22:04.342Z"
   },
   {
    "duration": 16,
    "start_time": "2023-06-21T06:22:04.365Z"
   },
   {
    "duration": 14,
    "start_time": "2023-06-21T06:22:04.384Z"
   },
   {
    "duration": 23,
    "start_time": "2023-06-21T06:22:04.400Z"
   },
   {
    "duration": 25,
    "start_time": "2023-06-21T06:22:04.426Z"
   },
   {
    "duration": 5,
    "start_time": "2023-06-21T06:22:04.453Z"
   },
   {
    "duration": 13,
    "start_time": "2023-06-21T06:22:04.466Z"
   },
   {
    "duration": 14,
    "start_time": "2023-06-21T06:22:04.482Z"
   },
   {
    "duration": 32,
    "start_time": "2023-06-21T06:22:04.497Z"
   },
   {
    "duration": 13,
    "start_time": "2023-06-21T06:22:04.530Z"
   },
   {
    "duration": 36,
    "start_time": "2023-06-21T06:22:04.545Z"
   },
   {
    "duration": 14,
    "start_time": "2023-06-21T06:22:04.583Z"
   },
   {
    "duration": 11,
    "start_time": "2023-06-21T06:22:04.599Z"
   },
   {
    "duration": 15,
    "start_time": "2023-06-21T06:22:04.612Z"
   },
   {
    "duration": 49,
    "start_time": "2023-06-21T06:22:04.629Z"
   },
   {
    "duration": 11,
    "start_time": "2023-06-21T06:22:04.680Z"
   },
   {
    "duration": 4,
    "start_time": "2023-06-21T06:22:04.693Z"
   },
   {
    "duration": 24,
    "start_time": "2023-06-21T06:22:04.699Z"
   },
   {
    "duration": 6,
    "start_time": "2023-06-21T06:22:04.725Z"
   },
   {
    "duration": 49,
    "start_time": "2023-06-21T06:22:04.732Z"
   },
   {
    "duration": 14,
    "start_time": "2023-06-21T06:22:04.783Z"
   },
   {
    "duration": 9,
    "start_time": "2023-06-21T06:22:04.798Z"
   },
   {
    "duration": 4,
    "start_time": "2023-06-21T06:22:04.808Z"
   },
   {
    "duration": 15,
    "start_time": "2023-06-21T06:22:04.813Z"
   },
   {
    "duration": 18,
    "start_time": "2023-06-21T06:22:04.830Z"
   },
   {
    "duration": 47,
    "start_time": "2023-06-21T06:22:04.850Z"
   },
   {
    "duration": 7,
    "start_time": "2023-06-21T06:22:04.898Z"
   },
   {
    "duration": 9,
    "start_time": "2023-06-21T06:22:04.906Z"
   },
   {
    "duration": 8,
    "start_time": "2023-06-21T06:22:04.917Z"
   },
   {
    "duration": 22,
    "start_time": "2023-06-21T06:22:04.927Z"
   },
   {
    "duration": 31,
    "start_time": "2023-06-21T06:22:04.950Z"
   },
   {
    "duration": 8,
    "start_time": "2023-06-21T06:22:04.986Z"
   },
   {
    "duration": 8,
    "start_time": "2023-06-21T06:22:04.996Z"
   },
   {
    "duration": 43,
    "start_time": "2023-06-21T06:22:05.005Z"
   },
   {
    "duration": 66,
    "start_time": "2023-06-21T06:22:05.049Z"
   },
   {
    "duration": 30,
    "start_time": "2023-06-21T06:22:05.117Z"
   },
   {
    "duration": 22,
    "start_time": "2023-06-21T06:22:05.149Z"
   },
   {
    "duration": 16,
    "start_time": "2023-06-21T06:22:05.173Z"
   },
   {
    "duration": 26,
    "start_time": "2023-06-21T06:22:05.191Z"
   },
   {
    "duration": 284,
    "start_time": "2023-06-21T06:22:05.219Z"
   },
   {
    "duration": 12,
    "start_time": "2023-06-21T06:22:05.505Z"
   },
   {
    "duration": 411,
    "start_time": "2023-06-21T06:22:05.519Z"
   },
   {
    "duration": 182,
    "start_time": "2023-06-21T06:22:05.932Z"
   },
   {
    "duration": 20,
    "start_time": "2023-06-21T06:22:06.115Z"
   },
   {
    "duration": 179,
    "start_time": "2023-06-21T06:22:06.137Z"
   },
   {
    "duration": 228,
    "start_time": "2023-06-21T06:22:06.317Z"
   },
   {
    "duration": 25,
    "start_time": "2023-06-21T06:22:06.547Z"
   },
   {
    "duration": 218,
    "start_time": "2023-06-21T06:22:06.574Z"
   },
   {
    "duration": 2289,
    "start_time": "2023-06-21T06:22:06.794Z"
   },
   {
    "duration": 22,
    "start_time": "2023-06-21T06:22:09.085Z"
   },
   {
    "duration": 303,
    "start_time": "2023-06-21T06:22:09.108Z"
   },
   {
    "duration": 539,
    "start_time": "2023-06-21T06:22:09.413Z"
   },
   {
    "duration": 17,
    "start_time": "2023-06-21T06:22:09.954Z"
   },
   {
    "duration": 16,
    "start_time": "2023-06-21T06:22:09.973Z"
   },
   {
    "duration": 237,
    "start_time": "2023-06-21T06:22:09.991Z"
   },
   {
    "duration": 0,
    "start_time": "2023-06-21T06:22:10.230Z"
   },
   {
    "duration": 18,
    "start_time": "2023-06-21T06:23:16.838Z"
   },
   {
    "duration": 16,
    "start_time": "2023-06-21T06:23:29.391Z"
   },
   {
    "duration": 54,
    "start_time": "2023-06-21T06:24:06.696Z"
   },
   {
    "duration": 19,
    "start_time": "2023-06-21T06:25:08.696Z"
   },
   {
    "duration": 10,
    "start_time": "2023-06-21T06:25:18.308Z"
   },
   {
    "duration": 10,
    "start_time": "2023-06-21T06:25:40.303Z"
   },
   {
    "duration": 1282,
    "start_time": "2023-06-21T06:25:51.367Z"
   },
   {
    "duration": 999,
    "start_time": "2023-06-21T06:25:52.651Z"
   },
   {
    "duration": 5,
    "start_time": "2023-06-21T06:25:53.652Z"
   },
   {
    "duration": 61,
    "start_time": "2023-06-21T06:25:53.658Z"
   },
   {
    "duration": 18,
    "start_time": "2023-06-21T06:25:53.721Z"
   },
   {
    "duration": 42,
    "start_time": "2023-06-21T06:25:53.741Z"
   },
   {
    "duration": 6,
    "start_time": "2023-06-21T06:25:53.785Z"
   },
   {
    "duration": 30,
    "start_time": "2023-06-21T06:25:53.792Z"
   },
   {
    "duration": 7,
    "start_time": "2023-06-21T06:25:53.824Z"
   },
   {
    "duration": 6,
    "start_time": "2023-06-21T06:25:53.833Z"
   },
   {
    "duration": 9,
    "start_time": "2023-06-21T06:25:53.841Z"
   },
   {
    "duration": 12,
    "start_time": "2023-06-21T06:25:53.868Z"
   },
   {
    "duration": 18,
    "start_time": "2023-06-21T06:25:53.882Z"
   },
   {
    "duration": 28,
    "start_time": "2023-06-21T06:25:53.905Z"
   },
   {
    "duration": 35,
    "start_time": "2023-06-21T06:25:53.935Z"
   },
   {
    "duration": 16,
    "start_time": "2023-06-21T06:25:53.977Z"
   },
   {
    "duration": 12,
    "start_time": "2023-06-21T06:25:53.997Z"
   },
   {
    "duration": 12,
    "start_time": "2023-06-21T06:25:54.011Z"
   },
   {
    "duration": 7,
    "start_time": "2023-06-21T06:25:54.025Z"
   },
   {
    "duration": 16,
    "start_time": "2023-06-21T06:25:54.034Z"
   },
   {
    "duration": 33,
    "start_time": "2023-06-21T06:25:54.052Z"
   },
   {
    "duration": 14,
    "start_time": "2023-06-21T06:25:54.087Z"
   },
   {
    "duration": 17,
    "start_time": "2023-06-21T06:25:54.103Z"
   },
   {
    "duration": 14,
    "start_time": "2023-06-21T06:25:54.122Z"
   },
   {
    "duration": 52,
    "start_time": "2023-06-21T06:25:54.138Z"
   },
   {
    "duration": 5,
    "start_time": "2023-06-21T06:25:54.192Z"
   },
   {
    "duration": 22,
    "start_time": "2023-06-21T06:25:54.199Z"
   },
   {
    "duration": 6,
    "start_time": "2023-06-21T06:25:54.222Z"
   },
   {
    "duration": 54,
    "start_time": "2023-06-21T06:25:54.229Z"
   },
   {
    "duration": 14,
    "start_time": "2023-06-21T06:25:54.285Z"
   },
   {
    "duration": 5,
    "start_time": "2023-06-21T06:25:54.301Z"
   },
   {
    "duration": 9,
    "start_time": "2023-06-21T06:25:54.308Z"
   },
   {
    "duration": 9,
    "start_time": "2023-06-21T06:25:54.319Z"
   },
   {
    "duration": 10,
    "start_time": "2023-06-21T06:25:54.329Z"
   },
   {
    "duration": 56,
    "start_time": "2023-06-21T06:25:54.341Z"
   },
   {
    "duration": 6,
    "start_time": "2023-06-21T06:25:54.399Z"
   },
   {
    "duration": 8,
    "start_time": "2023-06-21T06:25:54.406Z"
   },
   {
    "duration": 7,
    "start_time": "2023-06-21T06:25:54.415Z"
   },
   {
    "duration": 14,
    "start_time": "2023-06-21T06:25:54.423Z"
   },
   {
    "duration": 34,
    "start_time": "2023-06-21T06:25:54.438Z"
   },
   {
    "duration": 8,
    "start_time": "2023-06-21T06:25:54.480Z"
   },
   {
    "duration": 5,
    "start_time": "2023-06-21T06:25:54.490Z"
   },
   {
    "duration": 10,
    "start_time": "2023-06-21T06:25:54.497Z"
   },
   {
    "duration": 17,
    "start_time": "2023-06-21T06:25:54.509Z"
   },
   {
    "duration": 16,
    "start_time": "2023-06-21T06:25:54.528Z"
   },
   {
    "duration": 22,
    "start_time": "2023-06-21T06:25:54.569Z"
   },
   {
    "duration": 5,
    "start_time": "2023-06-21T06:25:54.593Z"
   },
   {
    "duration": 13,
    "start_time": "2023-06-21T06:25:54.600Z"
   },
   {
    "duration": 289,
    "start_time": "2023-06-21T06:25:54.614Z"
   },
   {
    "duration": 12,
    "start_time": "2023-06-21T06:25:54.905Z"
   },
   {
    "duration": 392,
    "start_time": "2023-06-21T06:25:54.918Z"
   },
   {
    "duration": 174,
    "start_time": "2023-06-21T06:25:55.312Z"
   },
   {
    "duration": 20,
    "start_time": "2023-06-21T06:25:55.488Z"
   },
   {
    "duration": 187,
    "start_time": "2023-06-21T06:25:55.510Z"
   },
   {
    "duration": 242,
    "start_time": "2023-06-21T06:25:55.699Z"
   },
   {
    "duration": 34,
    "start_time": "2023-06-21T06:25:55.944Z"
   },
   {
    "duration": 333,
    "start_time": "2023-06-21T06:25:55.982Z"
   },
   {
    "duration": 2275,
    "start_time": "2023-06-21T06:25:56.317Z"
   },
   {
    "duration": 22,
    "start_time": "2023-06-21T06:25:58.594Z"
   },
   {
    "duration": 312,
    "start_time": "2023-06-21T06:25:58.618Z"
   },
   {
    "duration": 537,
    "start_time": "2023-06-21T06:25:58.932Z"
   },
   {
    "duration": 8,
    "start_time": "2023-06-21T06:25:59.472Z"
   },
   {
    "duration": 19,
    "start_time": "2023-06-21T06:25:59.482Z"
   },
   {
    "duration": 77,
    "start_time": "2023-06-21T06:25:59.504Z"
   },
   {
    "duration": 9,
    "start_time": "2023-06-21T06:25:59.584Z"
   },
   {
    "duration": 89,
    "start_time": "2023-06-21T06:25:59.595Z"
   },
   {
    "duration": 47,
    "start_time": "2023-06-21T06:26:45.708Z"
   },
   {
    "duration": 158,
    "start_time": "2023-06-21T06:27:27.636Z"
   },
   {
    "duration": 37,
    "start_time": "2023-06-21T06:28:44.846Z"
   },
   {
    "duration": 60,
    "start_time": "2023-06-21T06:30:16.325Z"
   },
   {
    "duration": 64,
    "start_time": "2023-06-21T06:30:28.805Z"
   },
   {
    "duration": 18,
    "start_time": "2023-06-21T06:30:33.317Z"
   },
   {
    "duration": 13,
    "start_time": "2023-06-21T06:36:01.506Z"
   },
   {
    "duration": 5,
    "start_time": "2023-06-21T06:36:43.624Z"
   },
   {
    "duration": 15,
    "start_time": "2023-06-21T06:36:53.393Z"
   },
   {
    "duration": 19,
    "start_time": "2023-06-21T06:37:06.941Z"
   },
   {
    "duration": 1286,
    "start_time": "2023-06-21T06:37:49.661Z"
   },
   {
    "duration": 1220,
    "start_time": "2023-06-21T06:38:14.931Z"
   },
   {
    "duration": 62,
    "start_time": "2023-06-21T06:39:59.698Z"
   },
   {
    "duration": 33,
    "start_time": "2023-06-21T06:40:45.264Z"
   },
   {
    "duration": 20,
    "start_time": "2023-06-21T06:40:51.009Z"
   },
   {
    "duration": 29,
    "start_time": "2023-06-21T06:42:36.459Z"
   },
   {
    "duration": 26,
    "start_time": "2023-06-21T06:43:13.365Z"
   },
   {
    "duration": 22,
    "start_time": "2023-06-21T06:43:17.393Z"
   },
   {
    "duration": 18,
    "start_time": "2023-06-21T06:43:25.042Z"
   },
   {
    "duration": 65,
    "start_time": "2023-06-21T06:44:21.422Z"
   },
   {
    "duration": 77,
    "start_time": "2023-06-21T06:44:56.159Z"
   },
   {
    "duration": 73,
    "start_time": "2023-06-21T07:10:57.416Z"
   },
   {
    "duration": 26,
    "start_time": "2023-06-21T07:11:03.252Z"
   },
   {
    "duration": 6,
    "start_time": "2023-06-21T07:11:20.300Z"
   },
   {
    "duration": 16,
    "start_time": "2023-06-21T07:11:49.631Z"
   },
   {
    "duration": 7,
    "start_time": "2023-06-21T07:12:26.686Z"
   },
   {
    "duration": 20,
    "start_time": "2023-06-21T07:12:36.269Z"
   },
   {
    "duration": 5,
    "start_time": "2023-06-21T07:12:57.730Z"
   },
   {
    "duration": 7,
    "start_time": "2023-06-21T07:13:02.416Z"
   },
   {
    "duration": 15,
    "start_time": "2023-06-21T07:13:10.167Z"
   },
   {
    "duration": 17,
    "start_time": "2023-06-21T07:13:36.115Z"
   },
   {
    "duration": 12,
    "start_time": "2023-06-21T07:14:44.649Z"
   },
   {
    "duration": 16,
    "start_time": "2023-06-21T07:15:27.107Z"
   },
   {
    "duration": 15,
    "start_time": "2023-06-21T07:15:34.245Z"
   },
   {
    "duration": 19,
    "start_time": "2023-06-21T07:15:50.809Z"
   },
   {
    "duration": 18,
    "start_time": "2023-06-21T07:15:54.967Z"
   },
   {
    "duration": 11,
    "start_time": "2023-06-21T07:16:21.164Z"
   },
   {
    "duration": 1487,
    "start_time": "2023-06-21T07:18:32.014Z"
   },
   {
    "duration": 1078,
    "start_time": "2023-06-21T07:18:33.503Z"
   },
   {
    "duration": 4,
    "start_time": "2023-06-21T07:18:34.583Z"
   },
   {
    "duration": 21,
    "start_time": "2023-06-21T07:18:34.589Z"
   },
   {
    "duration": 7,
    "start_time": "2023-06-21T07:18:34.612Z"
   },
   {
    "duration": 24,
    "start_time": "2023-06-21T07:18:34.621Z"
   },
   {
    "duration": 20,
    "start_time": "2023-06-21T07:18:34.648Z"
   },
   {
    "duration": 22,
    "start_time": "2023-06-21T07:18:34.670Z"
   },
   {
    "duration": 24,
    "start_time": "2023-06-21T07:18:34.694Z"
   },
   {
    "duration": 6,
    "start_time": "2023-06-21T07:18:34.720Z"
   },
   {
    "duration": 7,
    "start_time": "2023-06-21T07:18:34.727Z"
   },
   {
    "duration": 9,
    "start_time": "2023-06-21T07:18:34.735Z"
   },
   {
    "duration": 17,
    "start_time": "2023-06-21T07:18:34.767Z"
   },
   {
    "duration": 20,
    "start_time": "2023-06-21T07:18:34.787Z"
   },
   {
    "duration": 6,
    "start_time": "2023-06-21T07:18:34.808Z"
   },
   {
    "duration": 7,
    "start_time": "2023-06-21T07:18:34.815Z"
   },
   {
    "duration": 46,
    "start_time": "2023-06-21T07:18:34.824Z"
   },
   {
    "duration": 10,
    "start_time": "2023-06-21T07:18:34.872Z"
   },
   {
    "duration": 11,
    "start_time": "2023-06-21T07:18:34.884Z"
   },
   {
    "duration": 13,
    "start_time": "2023-06-21T07:18:34.897Z"
   },
   {
    "duration": 13,
    "start_time": "2023-06-21T07:18:34.912Z"
   },
   {
    "duration": 45,
    "start_time": "2023-06-21T07:18:34.927Z"
   },
   {
    "duration": 22,
    "start_time": "2023-06-21T07:18:34.974Z"
   },
   {
    "duration": 30,
    "start_time": "2023-06-21T07:18:34.997Z"
   },
   {
    "duration": 21,
    "start_time": "2023-06-21T07:18:35.028Z"
   },
   {
    "duration": 16,
    "start_time": "2023-06-21T07:18:35.051Z"
   },
   {
    "duration": 26,
    "start_time": "2023-06-21T07:18:35.069Z"
   },
   {
    "duration": 12,
    "start_time": "2023-06-21T07:18:35.097Z"
   },
   {
    "duration": 32,
    "start_time": "2023-06-21T07:18:35.111Z"
   },
   {
    "duration": 24,
    "start_time": "2023-06-21T07:18:35.145Z"
   },
   {
    "duration": 4,
    "start_time": "2023-06-21T07:18:35.171Z"
   },
   {
    "duration": 5,
    "start_time": "2023-06-21T07:18:35.177Z"
   },
   {
    "duration": 12,
    "start_time": "2023-06-21T07:18:35.183Z"
   },
   {
    "duration": 5,
    "start_time": "2023-06-21T07:18:35.197Z"
   },
   {
    "duration": 28,
    "start_time": "2023-06-21T07:18:35.204Z"
   },
   {
    "duration": 37,
    "start_time": "2023-06-21T07:18:35.234Z"
   },
   {
    "duration": 5,
    "start_time": "2023-06-21T07:18:35.273Z"
   },
   {
    "duration": 7,
    "start_time": "2023-06-21T07:18:35.280Z"
   },
   {
    "duration": 17,
    "start_time": "2023-06-21T07:18:35.288Z"
   },
   {
    "duration": 18,
    "start_time": "2023-06-21T07:18:35.308Z"
   },
   {
    "duration": 41,
    "start_time": "2023-06-21T07:18:35.330Z"
   },
   {
    "duration": 7,
    "start_time": "2023-06-21T07:18:35.373Z"
   },
   {
    "duration": 21,
    "start_time": "2023-06-21T07:18:35.381Z"
   },
   {
    "duration": 17,
    "start_time": "2023-06-21T07:18:35.404Z"
   },
   {
    "duration": 17,
    "start_time": "2023-06-21T07:18:35.423Z"
   },
   {
    "duration": 42,
    "start_time": "2023-06-21T07:18:35.441Z"
   },
   {
    "duration": 5,
    "start_time": "2023-06-21T07:18:35.485Z"
   },
   {
    "duration": 24,
    "start_time": "2023-06-21T07:18:35.492Z"
   },
   {
    "duration": 269,
    "start_time": "2023-06-21T07:18:35.518Z"
   },
   {
    "duration": 10,
    "start_time": "2023-06-21T07:18:35.789Z"
   },
   {
    "duration": 375,
    "start_time": "2023-06-21T07:18:35.800Z"
   },
   {
    "duration": 195,
    "start_time": "2023-06-21T07:18:36.177Z"
   },
   {
    "duration": 22,
    "start_time": "2023-06-21T07:18:36.374Z"
   },
   {
    "duration": 185,
    "start_time": "2023-06-21T07:18:36.397Z"
   },
   {
    "duration": 234,
    "start_time": "2023-06-21T07:18:36.584Z"
   },
   {
    "duration": 18,
    "start_time": "2023-06-21T07:18:36.820Z"
   },
   {
    "duration": 235,
    "start_time": "2023-06-21T07:18:36.840Z"
   },
   {
    "duration": 2597,
    "start_time": "2023-06-21T07:18:37.077Z"
   },
   {
    "duration": 22,
    "start_time": "2023-06-21T07:18:39.676Z"
   },
   {
    "duration": 394,
    "start_time": "2023-06-21T07:18:39.699Z"
   },
   {
    "duration": 592,
    "start_time": "2023-06-21T07:18:40.095Z"
   },
   {
    "duration": 14,
    "start_time": "2023-06-21T07:18:40.689Z"
   },
   {
    "duration": 164,
    "start_time": "2023-06-21T07:18:40.705Z"
   },
   {
    "duration": 16,
    "start_time": "2023-06-21T07:18:40.871Z"
   },
   {
    "duration": 29,
    "start_time": "2023-06-21T07:18:40.889Z"
   },
   {
    "duration": 171,
    "start_time": "2023-06-21T07:18:40.920Z"
   },
   {
    "duration": 19,
    "start_time": "2023-06-21T07:20:12.457Z"
   },
   {
    "duration": 8,
    "start_time": "2023-06-21T07:20:40.596Z"
   },
   {
    "duration": 62,
    "start_time": "2023-06-21T07:20:46.401Z"
   },
   {
    "duration": 20,
    "start_time": "2023-06-21T07:21:13.772Z"
   },
   {
    "duration": 19,
    "start_time": "2023-06-21T07:22:51.500Z"
   },
   {
    "duration": 20,
    "start_time": "2023-06-21T07:23:08.434Z"
   },
   {
    "duration": 26,
    "start_time": "2023-06-21T07:23:16.855Z"
   },
   {
    "duration": 22,
    "start_time": "2023-06-21T07:23:52.509Z"
   },
   {
    "duration": 22,
    "start_time": "2023-06-21T07:23:58.274Z"
   },
   {
    "duration": 21,
    "start_time": "2023-06-21T07:24:04.960Z"
   },
   {
    "duration": 22,
    "start_time": "2023-06-21T07:24:07.846Z"
   },
   {
    "duration": 20,
    "start_time": "2023-06-21T07:24:11.852Z"
   },
   {
    "duration": 21,
    "start_time": "2023-06-21T07:24:22.811Z"
   },
   {
    "duration": 20,
    "start_time": "2023-06-21T07:24:27.162Z"
   },
   {
    "duration": 21,
    "start_time": "2023-06-21T07:25:01.840Z"
   },
   {
    "duration": 22,
    "start_time": "2023-06-21T07:25:35.205Z"
   },
   {
    "duration": 20,
    "start_time": "2023-06-21T07:26:15.613Z"
   },
   {
    "duration": 21,
    "start_time": "2023-06-21T07:26:32.406Z"
   },
   {
    "duration": 13,
    "start_time": "2023-06-21T07:27:12.618Z"
   },
   {
    "duration": 22,
    "start_time": "2023-06-21T07:27:15.511Z"
   },
   {
    "duration": 12,
    "start_time": "2023-06-21T07:27:56.757Z"
   },
   {
    "duration": 21,
    "start_time": "2023-06-21T07:27:59.064Z"
   },
   {
    "duration": 16,
    "start_time": "2023-06-21T07:28:14.809Z"
   },
   {
    "duration": 31,
    "start_time": "2023-06-21T07:28:16.430Z"
   },
   {
    "duration": 21,
    "start_time": "2023-06-21T07:28:37.963Z"
   },
   {
    "duration": 33,
    "start_time": "2023-06-21T07:28:43.105Z"
   },
   {
    "duration": 32,
    "start_time": "2023-06-21T07:28:46.176Z"
   },
   {
    "duration": 28,
    "start_time": "2023-06-21T07:28:49.753Z"
   },
   {
    "duration": 35,
    "start_time": "2023-06-21T07:28:55.339Z"
   },
   {
    "duration": 23,
    "start_time": "2023-06-21T07:29:00.275Z"
   },
   {
    "duration": 21,
    "start_time": "2023-06-21T07:29:03.417Z"
   },
   {
    "duration": 33,
    "start_time": "2023-06-21T07:29:08.607Z"
   },
   {
    "duration": 26,
    "start_time": "2023-06-21T07:29:13.192Z"
   },
   {
    "duration": 13,
    "start_time": "2023-06-21T07:30:00.245Z"
   },
   {
    "duration": 31,
    "start_time": "2023-06-21T07:30:23.965Z"
   },
   {
    "duration": 34,
    "start_time": "2023-06-21T07:30:29.160Z"
   },
   {
    "duration": 30,
    "start_time": "2023-06-21T07:32:04.225Z"
   },
   {
    "duration": 22,
    "start_time": "2023-06-21T07:32:22.509Z"
   },
   {
    "duration": 25,
    "start_time": "2023-06-21T07:34:46.997Z"
   },
   {
    "duration": 26,
    "start_time": "2023-06-21T07:35:02.164Z"
   },
   {
    "duration": 23,
    "start_time": "2023-06-21T07:36:04.555Z"
   },
   {
    "duration": 26,
    "start_time": "2023-06-21T07:36:22.960Z"
   },
   {
    "duration": 17,
    "start_time": "2023-06-21T07:36:42.674Z"
   },
   {
    "duration": 15,
    "start_time": "2023-06-21T07:37:28.742Z"
   },
   {
    "duration": 17,
    "start_time": "2023-06-21T07:39:03.614Z"
   },
   {
    "duration": 24,
    "start_time": "2023-06-21T07:39:10.861Z"
   },
   {
    "duration": 14,
    "start_time": "2023-06-21T07:39:27.221Z"
   },
   {
    "duration": 52,
    "start_time": "2023-06-21T07:41:47.813Z"
   },
   {
    "duration": 37,
    "start_time": "2023-06-21T07:42:38.949Z"
   },
   {
    "duration": 36,
    "start_time": "2023-06-21T07:42:47.731Z"
   },
   {
    "duration": 21,
    "start_time": "2023-06-21T07:44:09.753Z"
   },
   {
    "duration": 108,
    "start_time": "2023-06-21T07:44:29.734Z"
   },
   {
    "duration": 137,
    "start_time": "2023-06-21T07:45:13.828Z"
   },
   {
    "duration": 88,
    "start_time": "2023-06-21T07:45:30.223Z"
   },
   {
    "duration": 30,
    "start_time": "2023-06-21T07:48:08.697Z"
   },
   {
    "duration": 21,
    "start_time": "2023-06-21T07:48:35.189Z"
   },
   {
    "duration": 97,
    "start_time": "2023-06-21T07:48:45.382Z"
   },
   {
    "duration": 59,
    "start_time": "2023-06-21T07:49:15.040Z"
   },
   {
    "duration": 64,
    "start_time": "2023-06-21T07:49:35.572Z"
   },
   {
    "duration": 65,
    "start_time": "2023-06-21T07:49:48.435Z"
   },
   {
    "duration": 22,
    "start_time": "2023-06-21T07:50:30.370Z"
   },
   {
    "duration": 22,
    "start_time": "2023-06-21T07:50:37.990Z"
   },
   {
    "duration": 62,
    "start_time": "2023-06-21T07:50:55.873Z"
   },
   {
    "duration": 15,
    "start_time": "2023-06-21T07:51:12.897Z"
   },
   {
    "duration": 71,
    "start_time": "2023-06-21T07:51:17.464Z"
   },
   {
    "duration": 72,
    "start_time": "2023-06-21T07:51:24.958Z"
   },
   {
    "duration": 48,
    "start_time": "2023-06-21T07:51:28.137Z"
   },
   {
    "duration": 56,
    "start_time": "2023-06-21T07:51:45.439Z"
   },
   {
    "duration": 68,
    "start_time": "2023-06-21T07:51:53.289Z"
   },
   {
    "duration": 48,
    "start_time": "2023-06-21T07:52:25.356Z"
   },
   {
    "duration": 63,
    "start_time": "2023-06-21T07:52:44.482Z"
   },
   {
    "duration": 63,
    "start_time": "2023-06-21T07:52:52.688Z"
   },
   {
    "duration": 80,
    "start_time": "2023-06-21T07:54:35.444Z"
   },
   {
    "duration": 164,
    "start_time": "2023-06-21T07:55:02.413Z"
   },
   {
    "duration": 7,
    "start_time": "2023-06-21T07:55:06.881Z"
   },
   {
    "duration": 71,
    "start_time": "2023-06-21T07:55:21.104Z"
   },
   {
    "duration": 97,
    "start_time": "2023-06-21T07:55:32.117Z"
   },
   {
    "duration": 18,
    "start_time": "2023-06-21T07:56:31.225Z"
   },
   {
    "duration": 62,
    "start_time": "2023-06-21T07:57:18.128Z"
   },
   {
    "duration": 73,
    "start_time": "2023-06-21T07:57:45.951Z"
   },
   {
    "duration": 293,
    "start_time": "2023-06-21T07:58:44.422Z"
   },
   {
    "duration": 112,
    "start_time": "2023-06-21T07:59:07.492Z"
   },
   {
    "duration": 22,
    "start_time": "2023-06-21T07:59:30.524Z"
   },
   {
    "duration": 81,
    "start_time": "2023-06-21T07:59:51.710Z"
   },
   {
    "duration": 59,
    "start_time": "2023-06-21T08:00:05.764Z"
   },
   {
    "duration": 83,
    "start_time": "2023-06-21T08:00:31.490Z"
   },
   {
    "duration": 72,
    "start_time": "2023-06-21T08:00:42.720Z"
   },
   {
    "duration": 71,
    "start_time": "2023-06-21T08:00:48.105Z"
   },
   {
    "duration": 101,
    "start_time": "2023-06-21T08:01:04.874Z"
   },
   {
    "duration": 63,
    "start_time": "2023-06-21T08:01:56.420Z"
   },
   {
    "duration": 59,
    "start_time": "2023-06-21T08:02:35.326Z"
   },
   {
    "duration": 29,
    "start_time": "2023-06-21T08:04:37.171Z"
   },
   {
    "duration": 118,
    "start_time": "2023-06-21T08:05:20.523Z"
   },
   {
    "duration": 136,
    "start_time": "2023-06-21T08:05:32.824Z"
   },
   {
    "duration": 16,
    "start_time": "2023-06-21T08:09:35.043Z"
   },
   {
    "duration": 134,
    "start_time": "2023-06-21T08:09:41.335Z"
   },
   {
    "duration": 98,
    "start_time": "2023-06-21T08:11:16.042Z"
   },
   {
    "duration": 102,
    "start_time": "2023-06-21T08:12:11.129Z"
   },
   {
    "duration": 241,
    "start_time": "2023-06-21T08:13:12.651Z"
   },
   {
    "duration": 17,
    "start_time": "2023-06-21T08:13:12.894Z"
   },
   {
    "duration": 97,
    "start_time": "2023-06-21T08:13:19.608Z"
   },
   {
    "duration": 102,
    "start_time": "2023-06-21T08:13:29.430Z"
   },
   {
    "duration": 116,
    "start_time": "2023-06-21T08:13:40.111Z"
   },
   {
    "duration": 98,
    "start_time": "2023-06-21T08:13:47.475Z"
   },
   {
    "duration": 99,
    "start_time": "2023-06-21T08:14:09.855Z"
   },
   {
    "duration": 109,
    "start_time": "2023-06-21T08:14:29.208Z"
   },
   {
    "duration": 109,
    "start_time": "2023-06-21T08:14:45.737Z"
   },
   {
    "duration": 232,
    "start_time": "2023-06-21T08:15:27.637Z"
   },
   {
    "duration": 125,
    "start_time": "2023-06-21T08:15:49.114Z"
   },
   {
    "duration": 97,
    "start_time": "2023-06-21T08:16:21.716Z"
   },
   {
    "duration": 99,
    "start_time": "2023-06-21T08:16:36.341Z"
   },
   {
    "duration": 107,
    "start_time": "2023-06-21T08:16:41.063Z"
   },
   {
    "duration": 107,
    "start_time": "2023-06-21T08:20:15.065Z"
   },
   {
    "duration": 21,
    "start_time": "2023-06-21T08:20:30.343Z"
   },
   {
    "duration": 17,
    "start_time": "2023-06-21T08:20:35.328Z"
   },
   {
    "duration": 14,
    "start_time": "2023-06-21T08:21:13.543Z"
   },
   {
    "duration": 12,
    "start_time": "2023-06-21T08:21:35.158Z"
   },
   {
    "duration": 107,
    "start_time": "2023-06-21T08:21:40.630Z"
   },
   {
    "duration": 100,
    "start_time": "2023-06-21T08:22:36.218Z"
   },
   {
    "duration": 254,
    "start_time": "2023-06-21T08:22:53.943Z"
   },
   {
    "duration": 121,
    "start_time": "2023-06-21T08:24:22.209Z"
   },
   {
    "duration": 111,
    "start_time": "2023-06-21T08:24:57.914Z"
   },
   {
    "duration": 184,
    "start_time": "2023-06-21T08:25:04.758Z"
   },
   {
    "duration": 102,
    "start_time": "2023-06-21T08:26:16.101Z"
   },
   {
    "duration": 106,
    "start_time": "2023-06-21T08:26:31.314Z"
   },
   {
    "duration": 127,
    "start_time": "2023-06-21T08:26:50.012Z"
   },
   {
    "duration": 122,
    "start_time": "2023-06-21T08:27:00.799Z"
   },
   {
    "duration": 133,
    "start_time": "2023-06-21T08:27:06.334Z"
   },
   {
    "duration": 250,
    "start_time": "2023-06-21T08:27:16.753Z"
   },
   {
    "duration": 115,
    "start_time": "2023-06-21T08:27:25.152Z"
   },
   {
    "duration": 124,
    "start_time": "2023-06-21T08:27:36.175Z"
   },
   {
    "duration": 125,
    "start_time": "2023-06-21T08:28:18.254Z"
   },
   {
    "duration": 108,
    "start_time": "2023-06-21T08:28:25.936Z"
   },
   {
    "duration": 146,
    "start_time": "2023-06-21T08:28:31.217Z"
   },
   {
    "duration": 107,
    "start_time": "2023-06-21T08:28:51.221Z"
   },
   {
    "duration": 129,
    "start_time": "2023-06-21T08:29:52.846Z"
   },
   {
    "duration": 109,
    "start_time": "2023-06-21T08:30:00.015Z"
   },
   {
    "duration": 124,
    "start_time": "2023-06-21T08:30:06.837Z"
   },
   {
    "duration": 238,
    "start_time": "2023-06-21T08:30:11.342Z"
   },
   {
    "duration": 110,
    "start_time": "2023-06-21T08:30:16.448Z"
   },
   {
    "duration": 118,
    "start_time": "2023-06-21T08:30:25.539Z"
   },
   {
    "duration": 116,
    "start_time": "2023-06-21T08:31:04.445Z"
   },
   {
    "duration": 119,
    "start_time": "2023-06-21T08:31:14.997Z"
   },
   {
    "duration": 131,
    "start_time": "2023-06-21T08:31:44.935Z"
   },
   {
    "duration": 180,
    "start_time": "2023-06-21T08:32:09.358Z"
   },
   {
    "duration": 111,
    "start_time": "2023-06-21T08:32:41.229Z"
   },
   {
    "duration": 125,
    "start_time": "2023-06-21T08:33:10.322Z"
   },
   {
    "duration": 1343,
    "start_time": "2023-06-21T11:17:38.055Z"
   },
   {
    "duration": 1296,
    "start_time": "2023-06-21T11:17:39.400Z"
   },
   {
    "duration": 5,
    "start_time": "2023-06-21T11:17:40.698Z"
   },
   {
    "duration": 52,
    "start_time": "2023-06-21T11:17:40.705Z"
   },
   {
    "duration": 8,
    "start_time": "2023-06-21T11:17:40.762Z"
   },
   {
    "duration": 58,
    "start_time": "2023-06-21T11:17:40.772Z"
   },
   {
    "duration": 42,
    "start_time": "2023-06-21T11:17:40.833Z"
   },
   {
    "duration": 48,
    "start_time": "2023-06-21T11:17:40.877Z"
   },
   {
    "duration": 6,
    "start_time": "2023-06-21T11:17:40.927Z"
   },
   {
    "duration": 16,
    "start_time": "2023-06-21T11:17:40.935Z"
   },
   {
    "duration": 28,
    "start_time": "2023-06-21T11:17:40.954Z"
   },
   {
    "duration": 34,
    "start_time": "2023-06-21T11:17:40.985Z"
   },
   {
    "duration": 34,
    "start_time": "2023-06-21T11:17:41.021Z"
   },
   {
    "duration": 27,
    "start_time": "2023-06-21T11:17:41.059Z"
   },
   {
    "duration": 7,
    "start_time": "2023-06-21T11:17:41.088Z"
   },
   {
    "duration": 34,
    "start_time": "2023-06-21T11:17:41.097Z"
   },
   {
    "duration": 41,
    "start_time": "2023-06-21T11:17:41.132Z"
   },
   {
    "duration": 33,
    "start_time": "2023-06-21T11:17:41.175Z"
   },
   {
    "duration": 14,
    "start_time": "2023-06-21T11:17:41.210Z"
   },
   {
    "duration": 42,
    "start_time": "2023-06-21T11:17:41.226Z"
   },
   {
    "duration": 33,
    "start_time": "2023-06-21T11:17:41.270Z"
   },
   {
    "duration": 36,
    "start_time": "2023-06-21T11:17:41.305Z"
   },
   {
    "duration": 19,
    "start_time": "2023-06-21T11:17:41.344Z"
   },
   {
    "duration": 21,
    "start_time": "2023-06-21T11:17:41.365Z"
   },
   {
    "duration": 26,
    "start_time": "2023-06-21T11:17:41.388Z"
   },
   {
    "duration": 9,
    "start_time": "2023-06-21T11:17:41.416Z"
   },
   {
    "duration": 29,
    "start_time": "2023-06-21T11:17:41.427Z"
   },
   {
    "duration": 44,
    "start_time": "2023-06-21T11:17:41.458Z"
   },
   {
    "duration": 56,
    "start_time": "2023-06-21T11:17:41.504Z"
   },
   {
    "duration": 149,
    "start_time": "2023-06-21T11:17:41.562Z"
   },
   {
    "duration": 41,
    "start_time": "2023-06-21T11:17:41.714Z"
   },
   {
    "duration": 16,
    "start_time": "2023-06-21T11:17:41.758Z"
   },
   {
    "duration": 23,
    "start_time": "2023-06-21T11:17:41.776Z"
   },
   {
    "duration": 25,
    "start_time": "2023-06-21T11:17:41.801Z"
   },
   {
    "duration": 40,
    "start_time": "2023-06-21T11:17:41.829Z"
   },
   {
    "duration": 8,
    "start_time": "2023-06-21T11:17:41.871Z"
   },
   {
    "duration": 30,
    "start_time": "2023-06-21T11:17:41.881Z"
   },
   {
    "duration": 15,
    "start_time": "2023-06-21T11:17:41.913Z"
   },
   {
    "duration": 24,
    "start_time": "2023-06-21T11:17:41.931Z"
   },
   {
    "duration": 14,
    "start_time": "2023-06-21T11:17:41.958Z"
   },
   {
    "duration": 27,
    "start_time": "2023-06-21T11:17:41.977Z"
   },
   {
    "duration": 11,
    "start_time": "2023-06-21T11:17:42.006Z"
   },
   {
    "duration": 11,
    "start_time": "2023-06-21T11:17:42.020Z"
   },
   {
    "duration": 27,
    "start_time": "2023-06-21T11:17:42.033Z"
   },
   {
    "duration": 30,
    "start_time": "2023-06-21T11:17:42.062Z"
   },
   {
    "duration": 31,
    "start_time": "2023-06-21T11:17:42.095Z"
   },
   {
    "duration": 13,
    "start_time": "2023-06-21T11:17:42.128Z"
   },
   {
    "duration": 29,
    "start_time": "2023-06-21T11:17:42.143Z"
   },
   {
    "duration": 314,
    "start_time": "2023-06-21T11:17:42.174Z"
   },
   {
    "duration": 10,
    "start_time": "2023-06-21T11:17:42.490Z"
   },
   {
    "duration": 417,
    "start_time": "2023-06-21T11:17:42.502Z"
   },
   {
    "duration": 181,
    "start_time": "2023-06-21T11:17:42.921Z"
   },
   {
    "duration": 21,
    "start_time": "2023-06-21T11:17:43.104Z"
   },
   {
    "duration": 200,
    "start_time": "2023-06-21T11:17:43.127Z"
   },
   {
    "duration": 247,
    "start_time": "2023-06-21T11:17:43.329Z"
   },
   {
    "duration": 16,
    "start_time": "2023-06-21T11:17:43.578Z"
   },
   {
    "duration": 219,
    "start_time": "2023-06-21T11:17:43.596Z"
   },
   {
    "duration": 2354,
    "start_time": "2023-06-21T11:17:43.816Z"
   },
   {
    "duration": 21,
    "start_time": "2023-06-21T11:17:46.171Z"
   },
   {
    "duration": 305,
    "start_time": "2023-06-21T11:17:46.194Z"
   },
   {
    "duration": 835,
    "start_time": "2023-06-21T11:17:46.501Z"
   },
   {
    "duration": 41,
    "start_time": "2023-06-21T11:17:47.338Z"
   },
   {
    "duration": 120,
    "start_time": "2023-06-21T11:17:47.381Z"
   },
   {
    "duration": 14,
    "start_time": "2023-06-21T11:17:47.503Z"
   },
   {
    "duration": 13,
    "start_time": "2023-06-21T11:17:47.518Z"
   },
   {
    "duration": 33,
    "start_time": "2023-06-21T11:17:47.568Z"
   },
   {
    "duration": 12,
    "start_time": "2023-06-21T11:17:47.603Z"
   },
   {
    "duration": 69,
    "start_time": "2023-06-21T11:17:47.617Z"
   },
   {
    "duration": 118,
    "start_time": "2023-06-21T11:17:47.688Z"
   },
   {
    "duration": 136,
    "start_time": "2023-06-21T11:17:47.808Z"
   },
   {
    "duration": 102,
    "start_time": "2023-06-21T11:18:23.728Z"
   },
   {
    "duration": 104,
    "start_time": "2023-06-21T11:18:30.436Z"
   },
   {
    "duration": 28,
    "start_time": "2023-06-21T11:22:36.191Z"
   },
   {
    "duration": 17,
    "start_time": "2023-06-21T11:22:44.155Z"
   },
   {
    "duration": 19,
    "start_time": "2023-06-21T11:25:24.992Z"
   },
   {
    "duration": 19,
    "start_time": "2023-06-21T11:26:29.135Z"
   },
   {
    "duration": 19,
    "start_time": "2023-06-21T11:26:41.108Z"
   },
   {
    "duration": 19,
    "start_time": "2023-06-21T11:26:47.954Z"
   },
   {
    "duration": 184,
    "start_time": "2023-06-21T11:27:24.407Z"
   },
   {
    "duration": 25,
    "start_time": "2023-06-21T11:27:29.610Z"
   },
   {
    "duration": 25,
    "start_time": "2023-06-21T11:28:08.337Z"
   },
   {
    "duration": 24,
    "start_time": "2023-06-21T11:28:35.403Z"
   },
   {
    "duration": 24,
    "start_time": "2023-06-21T11:28:40.819Z"
   },
   {
    "duration": 32,
    "start_time": "2023-06-21T11:33:11.507Z"
   },
   {
    "duration": 1068,
    "start_time": "2023-06-21T11:33:23.210Z"
   },
   {
    "duration": 23,
    "start_time": "2023-06-21T11:34:01.027Z"
   },
   {
    "duration": 22,
    "start_time": "2023-06-21T11:34:12.130Z"
   },
   {
    "duration": 496,
    "start_time": "2023-06-21T11:34:21.008Z"
   },
   {
    "duration": 312,
    "start_time": "2023-06-21T11:34:27.902Z"
   },
   {
    "duration": 31,
    "start_time": "2023-06-21T11:36:32.302Z"
   },
   {
    "duration": 499,
    "start_time": "2023-06-21T11:36:58.041Z"
   },
   {
    "duration": 1344,
    "start_time": "2023-06-21T11:40:59.213Z"
   },
   {
    "duration": 1865,
    "start_time": "2023-06-21T11:41:00.560Z"
   },
   {
    "duration": 6,
    "start_time": "2023-06-21T11:41:02.427Z"
   },
   {
    "duration": 83,
    "start_time": "2023-06-21T11:41:02.436Z"
   },
   {
    "duration": 37,
    "start_time": "2023-06-21T11:41:02.522Z"
   },
   {
    "duration": 141,
    "start_time": "2023-06-21T11:41:02.561Z"
   },
   {
    "duration": 19,
    "start_time": "2023-06-21T11:41:02.705Z"
   },
   {
    "duration": 87,
    "start_time": "2023-06-21T11:41:02.726Z"
   },
   {
    "duration": 12,
    "start_time": "2023-06-21T11:41:02.815Z"
   },
   {
    "duration": 52,
    "start_time": "2023-06-21T11:41:02.830Z"
   },
   {
    "duration": 16,
    "start_time": "2023-06-21T11:41:02.885Z"
   },
   {
    "duration": 24,
    "start_time": "2023-06-21T11:41:02.903Z"
   },
   {
    "duration": 34,
    "start_time": "2023-06-21T11:41:02.929Z"
   },
   {
    "duration": 38,
    "start_time": "2023-06-21T11:41:02.965Z"
   },
   {
    "duration": 23,
    "start_time": "2023-06-21T11:41:03.005Z"
   },
   {
    "duration": 22,
    "start_time": "2023-06-21T11:41:03.030Z"
   },
   {
    "duration": 17,
    "start_time": "2023-06-21T11:41:03.054Z"
   },
   {
    "duration": 15,
    "start_time": "2023-06-21T11:41:03.073Z"
   },
   {
    "duration": 42,
    "start_time": "2023-06-21T11:41:03.090Z"
   },
   {
    "duration": 53,
    "start_time": "2023-06-21T11:41:03.134Z"
   },
   {
    "duration": 16,
    "start_time": "2023-06-21T11:41:03.190Z"
   },
   {
    "duration": 14,
    "start_time": "2023-06-21T11:41:03.207Z"
   },
   {
    "duration": 34,
    "start_time": "2023-06-21T11:41:03.223Z"
   },
   {
    "duration": 22,
    "start_time": "2023-06-21T11:41:03.266Z"
   },
   {
    "duration": 10,
    "start_time": "2023-06-21T11:41:03.290Z"
   },
   {
    "duration": 5,
    "start_time": "2023-06-21T11:41:03.301Z"
   },
   {
    "duration": 20,
    "start_time": "2023-06-21T11:41:03.308Z"
   },
   {
    "duration": 6,
    "start_time": "2023-06-21T11:41:03.332Z"
   },
   {
    "duration": 61,
    "start_time": "2023-06-21T11:41:03.340Z"
   },
   {
    "duration": 19,
    "start_time": "2023-06-21T11:41:03.403Z"
   },
   {
    "duration": 5,
    "start_time": "2023-06-21T11:41:03.424Z"
   },
   {
    "duration": 37,
    "start_time": "2023-06-21T11:41:03.431Z"
   },
   {
    "duration": 38,
    "start_time": "2023-06-21T11:41:03.471Z"
   },
   {
    "duration": 48,
    "start_time": "2023-06-21T11:41:03.510Z"
   },
   {
    "duration": 39,
    "start_time": "2023-06-21T11:41:03.561Z"
   },
   {
    "duration": 21,
    "start_time": "2023-06-21T11:41:03.602Z"
   },
   {
    "duration": 21,
    "start_time": "2023-06-21T11:41:03.624Z"
   },
   {
    "duration": 10,
    "start_time": "2023-06-21T11:41:03.647Z"
   },
   {
    "duration": 32,
    "start_time": "2023-06-21T11:41:03.659Z"
   },
   {
    "duration": 28,
    "start_time": "2023-06-21T11:41:03.693Z"
   },
   {
    "duration": 26,
    "start_time": "2023-06-21T11:41:03.723Z"
   },
   {
    "duration": 11,
    "start_time": "2023-06-21T11:41:03.750Z"
   },
   {
    "duration": 14,
    "start_time": "2023-06-21T11:41:03.763Z"
   },
   {
    "duration": 26,
    "start_time": "2023-06-21T11:41:03.778Z"
   },
   {
    "duration": 16,
    "start_time": "2023-06-21T11:41:03.806Z"
   },
   {
    "duration": 20,
    "start_time": "2023-06-21T11:41:03.824Z"
   },
   {
    "duration": 23,
    "start_time": "2023-06-21T11:41:03.846Z"
   },
   {
    "duration": 24,
    "start_time": "2023-06-21T11:41:03.871Z"
   },
   {
    "duration": 412,
    "start_time": "2023-06-21T11:41:03.901Z"
   },
   {
    "duration": 11,
    "start_time": "2023-06-21T11:41:04.315Z"
   },
   {
    "duration": 422,
    "start_time": "2023-06-21T11:41:04.327Z"
   },
   {
    "duration": 189,
    "start_time": "2023-06-21T11:41:04.751Z"
   },
   {
    "duration": 35,
    "start_time": "2023-06-21T11:41:04.942Z"
   },
   {
    "duration": 171,
    "start_time": "2023-06-21T11:41:04.979Z"
   },
   {
    "duration": 238,
    "start_time": "2023-06-21T11:41:05.152Z"
   },
   {
    "duration": 21,
    "start_time": "2023-06-21T11:41:05.393Z"
   },
   {
    "duration": 218,
    "start_time": "2023-06-21T11:41:05.416Z"
   },
   {
    "duration": 2213,
    "start_time": "2023-06-21T11:41:05.637Z"
   },
   {
    "duration": 32,
    "start_time": "2023-06-21T11:41:07.853Z"
   },
   {
    "duration": 322,
    "start_time": "2023-06-21T11:41:07.887Z"
   },
   {
    "duration": 837,
    "start_time": "2023-06-21T11:41:08.211Z"
   },
   {
    "duration": 27,
    "start_time": "2023-06-21T11:41:09.050Z"
   },
   {
    "duration": 66,
    "start_time": "2023-06-21T11:41:09.078Z"
   },
   {
    "duration": 22,
    "start_time": "2023-06-21T11:41:09.146Z"
   },
   {
    "duration": 12,
    "start_time": "2023-06-21T11:41:09.169Z"
   },
   {
    "duration": 30,
    "start_time": "2023-06-21T11:41:09.183Z"
   },
   {
    "duration": 13,
    "start_time": "2023-06-21T11:41:09.214Z"
   },
   {
    "duration": 81,
    "start_time": "2023-06-21T11:41:09.229Z"
   },
   {
    "duration": 274,
    "start_time": "2023-06-21T11:41:09.312Z"
   },
   {
    "duration": 187,
    "start_time": "2023-06-21T11:41:09.589Z"
   },
   {
    "duration": 20,
    "start_time": "2023-06-21T11:41:09.778Z"
   },
   {
    "duration": 85,
    "start_time": "2023-06-21T11:41:09.801Z"
   },
   {
    "duration": 263,
    "start_time": "2023-06-21T11:41:09.888Z"
   },
   {
    "duration": 0,
    "start_time": "2023-06-21T11:41:10.153Z"
   },
   {
    "duration": 32,
    "start_time": "2023-06-21T11:41:18.893Z"
   },
   {
    "duration": 450,
    "start_time": "2023-06-21T11:41:21.727Z"
   },
   {
    "duration": 32,
    "start_time": "2023-06-21T11:43:41.711Z"
   },
   {
    "duration": 487,
    "start_time": "2023-06-21T11:45:51.425Z"
   },
   {
    "duration": 1301,
    "start_time": "2023-06-21T11:46:13.076Z"
   },
   {
    "duration": 970,
    "start_time": "2023-06-21T11:46:14.379Z"
   },
   {
    "duration": 4,
    "start_time": "2023-06-21T11:46:15.351Z"
   },
   {
    "duration": 23,
    "start_time": "2023-06-21T11:46:15.358Z"
   },
   {
    "duration": 28,
    "start_time": "2023-06-21T11:46:15.383Z"
   },
   {
    "duration": 32,
    "start_time": "2023-06-21T11:46:15.413Z"
   },
   {
    "duration": 11,
    "start_time": "2023-06-21T11:46:15.447Z"
   },
   {
    "duration": 34,
    "start_time": "2023-06-21T11:46:15.460Z"
   },
   {
    "duration": 8,
    "start_time": "2023-06-21T11:46:15.496Z"
   },
   {
    "duration": 22,
    "start_time": "2023-06-21T11:46:15.507Z"
   },
   {
    "duration": 9,
    "start_time": "2023-06-21T11:46:15.531Z"
   },
   {
    "duration": 14,
    "start_time": "2023-06-21T11:46:15.542Z"
   },
   {
    "duration": 20,
    "start_time": "2023-06-21T11:46:15.558Z"
   },
   {
    "duration": 30,
    "start_time": "2023-06-21T11:46:15.580Z"
   },
   {
    "duration": 6,
    "start_time": "2023-06-21T11:46:15.612Z"
   },
   {
    "duration": 25,
    "start_time": "2023-06-21T11:46:15.620Z"
   },
   {
    "duration": 32,
    "start_time": "2023-06-21T11:46:15.646Z"
   },
   {
    "duration": 10,
    "start_time": "2023-06-21T11:46:15.680Z"
   },
   {
    "duration": 10,
    "start_time": "2023-06-21T11:46:15.691Z"
   },
   {
    "duration": 31,
    "start_time": "2023-06-21T11:46:15.702Z"
   },
   {
    "duration": 13,
    "start_time": "2023-06-21T11:46:15.736Z"
   },
   {
    "duration": 21,
    "start_time": "2023-06-21T11:46:15.751Z"
   },
   {
    "duration": 33,
    "start_time": "2023-06-21T11:46:15.774Z"
   },
   {
    "duration": 19,
    "start_time": "2023-06-21T11:46:15.808Z"
   },
   {
    "duration": 13,
    "start_time": "2023-06-21T11:46:15.829Z"
   },
   {
    "duration": 8,
    "start_time": "2023-06-21T11:46:15.845Z"
   },
   {
    "duration": 39,
    "start_time": "2023-06-21T11:46:15.854Z"
   },
   {
    "duration": 5,
    "start_time": "2023-06-21T11:46:15.897Z"
   },
   {
    "duration": 48,
    "start_time": "2023-06-21T11:46:15.903Z"
   },
   {
    "duration": 14,
    "start_time": "2023-06-21T11:46:15.953Z"
   },
   {
    "duration": 17,
    "start_time": "2023-06-21T11:46:15.969Z"
   },
   {
    "duration": 10,
    "start_time": "2023-06-21T11:46:15.988Z"
   },
   {
    "duration": 20,
    "start_time": "2023-06-21T11:46:16.000Z"
   },
   {
    "duration": 19,
    "start_time": "2023-06-21T11:46:16.022Z"
   },
   {
    "duration": 33,
    "start_time": "2023-06-21T11:46:16.042Z"
   },
   {
    "duration": 5,
    "start_time": "2023-06-21T11:46:16.077Z"
   },
   {
    "duration": 10,
    "start_time": "2023-06-21T11:46:16.083Z"
   },
   {
    "duration": 6,
    "start_time": "2023-06-21T11:46:16.095Z"
   },
   {
    "duration": 13,
    "start_time": "2023-06-21T11:46:16.103Z"
   },
   {
    "duration": 18,
    "start_time": "2023-06-21T11:46:16.118Z"
   },
   {
    "duration": 13,
    "start_time": "2023-06-21T11:46:16.138Z"
   },
   {
    "duration": 31,
    "start_time": "2023-06-21T11:46:16.153Z"
   },
   {
    "duration": 11,
    "start_time": "2023-06-21T11:46:16.186Z"
   },
   {
    "duration": 33,
    "start_time": "2023-06-21T11:46:16.198Z"
   },
   {
    "duration": 17,
    "start_time": "2023-06-21T11:46:16.233Z"
   },
   {
    "duration": 18,
    "start_time": "2023-06-21T11:46:16.251Z"
   },
   {
    "duration": 4,
    "start_time": "2023-06-21T11:46:16.272Z"
   },
   {
    "duration": 21,
    "start_time": "2023-06-21T11:46:16.278Z"
   },
   {
    "duration": 270,
    "start_time": "2023-06-21T11:46:16.300Z"
   },
   {
    "duration": 11,
    "start_time": "2023-06-21T11:46:16.572Z"
   },
   {
    "duration": 370,
    "start_time": "2023-06-21T11:46:16.584Z"
   },
   {
    "duration": 165,
    "start_time": "2023-06-21T11:46:16.956Z"
   },
   {
    "duration": 21,
    "start_time": "2023-06-21T11:46:17.123Z"
   },
   {
    "duration": 193,
    "start_time": "2023-06-21T11:46:17.146Z"
   },
   {
    "duration": 219,
    "start_time": "2023-06-21T11:46:17.340Z"
   },
   {
    "duration": 17,
    "start_time": "2023-06-21T11:46:17.561Z"
   },
   {
    "duration": 197,
    "start_time": "2023-06-21T11:46:17.580Z"
   },
   {
    "duration": 2137,
    "start_time": "2023-06-21T11:46:17.780Z"
   },
   {
    "duration": 22,
    "start_time": "2023-06-21T11:46:19.919Z"
   },
   {
    "duration": 290,
    "start_time": "2023-06-21T11:46:19.943Z"
   },
   {
    "duration": 532,
    "start_time": "2023-06-21T11:46:20.235Z"
   },
   {
    "duration": 13,
    "start_time": "2023-06-21T11:46:20.769Z"
   },
   {
    "duration": 115,
    "start_time": "2023-06-21T11:46:20.783Z"
   },
   {
    "duration": 13,
    "start_time": "2023-06-21T11:46:20.900Z"
   },
   {
    "duration": 10,
    "start_time": "2023-06-21T11:46:20.914Z"
   },
   {
    "duration": 62,
    "start_time": "2023-06-21T11:46:20.925Z"
   },
   {
    "duration": 13,
    "start_time": "2023-06-21T11:46:20.988Z"
   },
   {
    "duration": 67,
    "start_time": "2023-06-21T11:46:21.003Z"
   },
   {
    "duration": 104,
    "start_time": "2023-06-21T11:46:21.072Z"
   },
   {
    "duration": 124,
    "start_time": "2023-06-21T11:46:21.178Z"
   },
   {
    "duration": 13,
    "start_time": "2023-06-21T11:46:21.303Z"
   },
   {
    "duration": 50,
    "start_time": "2023-06-21T11:46:21.318Z"
   },
   {
    "duration": 460,
    "start_time": "2023-06-21T11:46:21.369Z"
   },
   {
    "duration": 20,
    "start_time": "2023-06-21T11:46:21.831Z"
   },
   {
    "duration": 420,
    "start_time": "2023-06-21T11:46:21.852Z"
   },
   {
    "duration": 546,
    "start_time": "2023-06-21T11:47:24.226Z"
   },
   {
    "duration": 423,
    "start_time": "2023-06-21T11:47:39.220Z"
   },
   {
    "duration": 504,
    "start_time": "2023-06-21T11:48:53.727Z"
   },
   {
    "duration": 52,
    "start_time": "2023-06-21T11:49:32.831Z"
   },
   {
    "duration": 33,
    "start_time": "2023-06-21T11:49:42.799Z"
   },
   {
    "duration": 28,
    "start_time": "2023-06-21T11:49:50.771Z"
   },
   {
    "duration": 18,
    "start_time": "2023-06-21T11:50:11.333Z"
   },
   {
    "duration": 19,
    "start_time": "2023-06-21T11:50:32.187Z"
   },
   {
    "duration": 18,
    "start_time": "2023-06-21T11:50:38.986Z"
   },
   {
    "duration": 31,
    "start_time": "2023-06-21T11:50:42.382Z"
   },
   {
    "duration": 34,
    "start_time": "2023-06-21T11:51:02.283Z"
   },
   {
    "duration": 1296,
    "start_time": "2023-06-21T11:51:12.043Z"
   },
   {
    "duration": 1007,
    "start_time": "2023-06-21T11:51:13.341Z"
   },
   {
    "duration": 5,
    "start_time": "2023-06-21T11:51:14.349Z"
   },
   {
    "duration": 36,
    "start_time": "2023-06-21T11:51:14.356Z"
   },
   {
    "duration": 16,
    "start_time": "2023-06-21T11:51:14.395Z"
   },
   {
    "duration": 38,
    "start_time": "2023-06-21T11:51:14.413Z"
   },
   {
    "duration": 30,
    "start_time": "2023-06-21T11:51:14.452Z"
   },
   {
    "duration": 26,
    "start_time": "2023-06-21T11:51:14.484Z"
   },
   {
    "duration": 14,
    "start_time": "2023-06-21T11:51:14.512Z"
   },
   {
    "duration": 16,
    "start_time": "2023-06-21T11:51:14.529Z"
   },
   {
    "duration": 8,
    "start_time": "2023-06-21T11:51:14.546Z"
   },
   {
    "duration": 31,
    "start_time": "2023-06-21T11:51:14.556Z"
   },
   {
    "duration": 35,
    "start_time": "2023-06-21T11:51:14.589Z"
   },
   {
    "duration": 19,
    "start_time": "2023-06-21T11:51:14.626Z"
   },
   {
    "duration": 6,
    "start_time": "2023-06-21T11:51:14.646Z"
   },
   {
    "duration": 21,
    "start_time": "2023-06-21T11:51:14.653Z"
   },
   {
    "duration": 17,
    "start_time": "2023-06-21T11:51:14.676Z"
   },
   {
    "duration": 17,
    "start_time": "2023-06-21T11:51:14.695Z"
   },
   {
    "duration": 10,
    "start_time": "2023-06-21T11:51:14.714Z"
   },
   {
    "duration": 27,
    "start_time": "2023-06-21T11:51:14.726Z"
   },
   {
    "duration": 40,
    "start_time": "2023-06-21T11:51:14.755Z"
   },
   {
    "duration": 11,
    "start_time": "2023-06-21T11:51:14.797Z"
   },
   {
    "duration": 28,
    "start_time": "2023-06-21T11:51:14.810Z"
   },
   {
    "duration": 16,
    "start_time": "2023-06-21T11:51:14.840Z"
   },
   {
    "duration": 17,
    "start_time": "2023-06-21T11:51:14.858Z"
   },
   {
    "duration": 7,
    "start_time": "2023-06-21T11:51:14.878Z"
   },
   {
    "duration": 35,
    "start_time": "2023-06-21T11:51:14.887Z"
   },
   {
    "duration": 6,
    "start_time": "2023-06-21T11:51:14.927Z"
   },
   {
    "duration": 24,
    "start_time": "2023-06-21T11:51:14.935Z"
   },
   {
    "duration": 14,
    "start_time": "2023-06-21T11:51:14.967Z"
   },
   {
    "duration": 5,
    "start_time": "2023-06-21T11:51:14.983Z"
   },
   {
    "duration": 8,
    "start_time": "2023-06-21T11:51:14.989Z"
   },
   {
    "duration": 67,
    "start_time": "2023-06-21T11:51:15.000Z"
   },
   {
    "duration": 24,
    "start_time": "2023-06-21T11:51:15.069Z"
   },
   {
    "duration": 56,
    "start_time": "2023-06-21T11:51:15.094Z"
   },
   {
    "duration": 6,
    "start_time": "2023-06-21T11:51:15.152Z"
   },
   {
    "duration": 24,
    "start_time": "2023-06-21T11:51:15.160Z"
   },
   {
    "duration": 30,
    "start_time": "2023-06-21T11:51:15.187Z"
   },
   {
    "duration": 23,
    "start_time": "2023-06-21T11:51:15.219Z"
   },
   {
    "duration": 29,
    "start_time": "2023-06-21T11:51:15.244Z"
   },
   {
    "duration": 30,
    "start_time": "2023-06-21T11:51:15.275Z"
   },
   {
    "duration": 5,
    "start_time": "2023-06-21T11:51:15.308Z"
   },
   {
    "duration": 25,
    "start_time": "2023-06-21T11:51:15.314Z"
   },
   {
    "duration": 50,
    "start_time": "2023-06-21T11:51:15.341Z"
   },
   {
    "duration": 15,
    "start_time": "2023-06-21T11:51:15.393Z"
   },
   {
    "duration": 22,
    "start_time": "2023-06-21T11:51:15.410Z"
   },
   {
    "duration": 3,
    "start_time": "2023-06-21T11:51:15.434Z"
   },
   {
    "duration": 16,
    "start_time": "2023-06-21T11:51:15.439Z"
   },
   {
    "duration": 289,
    "start_time": "2023-06-21T11:51:15.457Z"
   },
   {
    "duration": 33,
    "start_time": "2023-06-21T11:51:15.748Z"
   },
   {
    "duration": 404,
    "start_time": "2023-06-21T11:51:15.783Z"
   },
   {
    "duration": 170,
    "start_time": "2023-06-21T11:51:16.189Z"
   },
   {
    "duration": 27,
    "start_time": "2023-06-21T11:51:16.373Z"
   },
   {
    "duration": 181,
    "start_time": "2023-06-21T11:51:16.402Z"
   },
   {
    "duration": 242,
    "start_time": "2023-06-21T11:51:16.585Z"
   },
   {
    "duration": 20,
    "start_time": "2023-06-21T11:51:16.829Z"
   },
   {
    "duration": 242,
    "start_time": "2023-06-21T11:51:16.851Z"
   },
   {
    "duration": 2384,
    "start_time": "2023-06-21T11:51:17.095Z"
   },
   {
    "duration": 26,
    "start_time": "2023-06-21T11:51:19.481Z"
   },
   {
    "duration": 338,
    "start_time": "2023-06-21T11:51:19.510Z"
   },
   {
    "duration": 554,
    "start_time": "2023-06-21T11:51:19.850Z"
   },
   {
    "duration": 13,
    "start_time": "2023-06-21T11:51:20.406Z"
   },
   {
    "duration": 158,
    "start_time": "2023-06-21T11:51:20.421Z"
   },
   {
    "duration": 14,
    "start_time": "2023-06-21T11:51:20.584Z"
   },
   {
    "duration": 10,
    "start_time": "2023-06-21T11:51:20.600Z"
   },
   {
    "duration": 32,
    "start_time": "2023-06-21T11:51:20.612Z"
   },
   {
    "duration": 44,
    "start_time": "2023-06-21T11:51:20.646Z"
   },
   {
    "duration": 59,
    "start_time": "2023-06-21T11:51:20.692Z"
   },
   {
    "duration": 129,
    "start_time": "2023-06-21T11:51:20.753Z"
   },
   {
    "duration": 121,
    "start_time": "2023-06-21T11:51:20.884Z"
   },
   {
    "duration": 13,
    "start_time": "2023-06-21T11:51:21.006Z"
   },
   {
    "duration": 58,
    "start_time": "2023-06-21T11:51:21.020Z"
   },
   {
    "duration": 404,
    "start_time": "2023-06-21T11:51:21.080Z"
   },
   {
    "duration": 18,
    "start_time": "2023-06-21T11:51:21.485Z"
   },
   {
    "duration": 412,
    "start_time": "2023-06-21T11:51:21.504Z"
   },
   {
    "duration": 198,
    "start_time": "2023-06-21T11:54:47.891Z"
   },
   {
    "duration": 586,
    "start_time": "2023-06-21T11:54:56.397Z"
   },
   {
    "duration": 16,
    "start_time": "2023-06-21T11:56:18.460Z"
   },
   {
    "duration": 5508,
    "start_time": "2023-06-21T12:06:40.405Z"
   },
   {
    "duration": 187,
    "start_time": "2023-06-21T12:08:33.211Z"
   },
   {
    "duration": 197,
    "start_time": "2023-06-21T12:08:54.152Z"
   },
   {
    "duration": 218,
    "start_time": "2023-06-21T12:09:22.208Z"
   },
   {
    "duration": 186,
    "start_time": "2023-06-21T12:10:35.318Z"
   },
   {
    "duration": 350,
    "start_time": "2023-06-21T12:11:04.860Z"
   },
   {
    "duration": 211,
    "start_time": "2023-06-21T12:11:28.841Z"
   },
   {
    "duration": 3,
    "start_time": "2023-06-21T12:23:47.509Z"
   },
   {
    "duration": 22,
    "start_time": "2023-06-21T12:23:58.924Z"
   },
   {
    "duration": 21,
    "start_time": "2023-06-21T12:25:53.724Z"
   },
   {
    "duration": 183,
    "start_time": "2023-06-21T12:30:34.325Z"
   },
   {
    "duration": 12,
    "start_time": "2023-06-21T12:30:52.510Z"
   },
   {
    "duration": 13,
    "start_time": "2023-06-21T12:31:28.659Z"
   },
   {
    "duration": 11,
    "start_time": "2023-06-21T12:32:11.112Z"
   },
   {
    "duration": 14,
    "start_time": "2023-06-21T12:32:19.045Z"
   },
   {
    "duration": 13,
    "start_time": "2023-06-21T12:32:27.058Z"
   },
   {
    "duration": 14,
    "start_time": "2023-06-21T12:32:31.221Z"
   },
   {
    "duration": 131,
    "start_time": "2023-06-21T12:33:25.718Z"
   },
   {
    "duration": 126,
    "start_time": "2023-06-21T12:33:32.740Z"
   },
   {
    "duration": 206,
    "start_time": "2023-06-21T12:33:53.926Z"
   },
   {
    "duration": 118,
    "start_time": "2023-06-21T12:35:36.714Z"
   },
   {
    "duration": 134,
    "start_time": "2023-06-21T12:35:49.947Z"
   },
   {
    "duration": 258,
    "start_time": "2023-06-21T12:35:57.917Z"
   },
   {
    "duration": 153,
    "start_time": "2023-06-21T12:36:07.161Z"
   },
   {
    "duration": 28,
    "start_time": "2023-06-21T12:46:34.099Z"
   },
   {
    "duration": 22,
    "start_time": "2023-06-21T12:48:55.822Z"
   },
   {
    "duration": 1419,
    "start_time": "2023-06-21T12:49:28.756Z"
   },
   {
    "duration": 950,
    "start_time": "2023-06-21T12:49:30.177Z"
   },
   {
    "duration": 5,
    "start_time": "2023-06-21T12:49:31.129Z"
   },
   {
    "duration": 66,
    "start_time": "2023-06-21T12:49:31.137Z"
   },
   {
    "duration": 62,
    "start_time": "2023-06-21T12:49:31.205Z"
   },
   {
    "duration": 52,
    "start_time": "2023-06-21T12:49:31.269Z"
   },
   {
    "duration": 53,
    "start_time": "2023-06-21T12:49:31.323Z"
   },
   {
    "duration": 101,
    "start_time": "2023-06-21T12:49:31.378Z"
   },
   {
    "duration": 64,
    "start_time": "2023-06-21T12:49:31.481Z"
   },
   {
    "duration": 59,
    "start_time": "2023-06-21T12:49:31.548Z"
   },
   {
    "duration": 100,
    "start_time": "2023-06-21T12:49:31.609Z"
   },
   {
    "duration": 132,
    "start_time": "2023-06-21T12:49:31.710Z"
   },
   {
    "duration": 62,
    "start_time": "2023-06-21T12:49:31.844Z"
   },
   {
    "duration": 42,
    "start_time": "2023-06-21T12:49:31.908Z"
   },
   {
    "duration": 12,
    "start_time": "2023-06-21T12:49:31.951Z"
   },
   {
    "duration": 41,
    "start_time": "2023-06-21T12:49:31.965Z"
   },
   {
    "duration": 61,
    "start_time": "2023-06-21T12:49:32.008Z"
   },
   {
    "duration": 21,
    "start_time": "2023-06-21T12:49:32.071Z"
   },
   {
    "duration": 42,
    "start_time": "2023-06-21T12:49:32.094Z"
   },
   {
    "duration": 43,
    "start_time": "2023-06-21T12:49:32.138Z"
   },
   {
    "duration": 18,
    "start_time": "2023-06-21T12:49:32.183Z"
   },
   {
    "duration": 55,
    "start_time": "2023-06-21T12:49:32.203Z"
   },
   {
    "duration": 26,
    "start_time": "2023-06-21T12:49:32.260Z"
   },
   {
    "duration": 26,
    "start_time": "2023-06-21T12:49:32.287Z"
   },
   {
    "duration": 28,
    "start_time": "2023-06-21T12:49:32.315Z"
   },
   {
    "duration": 14,
    "start_time": "2023-06-21T12:49:32.344Z"
   },
   {
    "duration": 35,
    "start_time": "2023-06-21T12:49:32.361Z"
   },
   {
    "duration": 8,
    "start_time": "2023-06-21T12:49:32.404Z"
   },
   {
    "duration": 39,
    "start_time": "2023-06-21T12:49:32.414Z"
   },
   {
    "duration": 31,
    "start_time": "2023-06-21T12:49:32.455Z"
   },
   {
    "duration": 5,
    "start_time": "2023-06-21T12:49:32.488Z"
   },
   {
    "duration": 37,
    "start_time": "2023-06-21T12:49:32.495Z"
   },
   {
    "duration": 35,
    "start_time": "2023-06-21T12:49:32.534Z"
   },
   {
    "duration": 39,
    "start_time": "2023-06-21T12:49:32.571Z"
   },
   {
    "duration": 50,
    "start_time": "2023-06-21T12:49:32.612Z"
   },
   {
    "duration": 8,
    "start_time": "2023-06-21T12:49:32.665Z"
   },
   {
    "duration": 6,
    "start_time": "2023-06-21T12:49:32.675Z"
   },
   {
    "duration": 15,
    "start_time": "2023-06-21T12:49:32.683Z"
   },
   {
    "duration": 20,
    "start_time": "2023-06-21T12:49:32.699Z"
   },
   {
    "duration": 54,
    "start_time": "2023-06-21T12:49:32.720Z"
   },
   {
    "duration": 11,
    "start_time": "2023-06-21T12:49:32.782Z"
   },
   {
    "duration": 13,
    "start_time": "2023-06-21T12:49:32.795Z"
   },
   {
    "duration": 8,
    "start_time": "2023-06-21T12:49:32.810Z"
   },
   {
    "duration": 24,
    "start_time": "2023-06-21T12:49:32.820Z"
   },
   {
    "duration": 27,
    "start_time": "2023-06-21T12:49:32.846Z"
   },
   {
    "duration": 21,
    "start_time": "2023-06-21T12:49:32.879Z"
   },
   {
    "duration": 15,
    "start_time": "2023-06-21T12:49:32.901Z"
   },
   {
    "duration": 44,
    "start_time": "2023-06-21T12:49:32.917Z"
   },
   {
    "duration": 295,
    "start_time": "2023-06-21T12:49:32.963Z"
   },
   {
    "duration": 23,
    "start_time": "2023-06-21T12:49:33.260Z"
   },
   {
    "duration": 394,
    "start_time": "2023-06-21T12:49:33.285Z"
   },
   {
    "duration": 168,
    "start_time": "2023-06-21T12:49:33.681Z"
   },
   {
    "duration": 35,
    "start_time": "2023-06-21T12:49:33.851Z"
   },
   {
    "duration": 192,
    "start_time": "2023-06-21T12:49:33.889Z"
   },
   {
    "duration": 279,
    "start_time": "2023-06-21T12:49:34.084Z"
   },
   {
    "duration": 21,
    "start_time": "2023-06-21T12:49:34.366Z"
   },
   {
    "duration": 217,
    "start_time": "2023-06-21T12:49:34.389Z"
   },
   {
    "duration": 2189,
    "start_time": "2023-06-21T12:49:34.608Z"
   },
   {
    "duration": 182,
    "start_time": "2023-06-21T12:49:36.799Z"
   },
   {
    "duration": 23,
    "start_time": "2023-06-21T12:49:36.982Z"
   },
   {
    "duration": 326,
    "start_time": "2023-06-21T12:49:37.007Z"
   },
   {
    "duration": 564,
    "start_time": "2023-06-21T12:49:37.334Z"
   },
   {
    "duration": 15,
    "start_time": "2023-06-21T12:49:37.901Z"
   },
   {
    "duration": 170,
    "start_time": "2023-06-21T12:49:37.918Z"
   },
   {
    "duration": 14,
    "start_time": "2023-06-21T12:49:38.089Z"
   },
   {
    "duration": 10,
    "start_time": "2023-06-21T12:49:38.105Z"
   },
   {
    "duration": 70,
    "start_time": "2023-06-21T12:49:38.116Z"
   },
   {
    "duration": 13,
    "start_time": "2023-06-21T12:49:38.188Z"
   },
   {
    "duration": 76,
    "start_time": "2023-06-21T12:49:38.203Z"
   },
   {
    "duration": 114,
    "start_time": "2023-06-21T12:49:38.284Z"
   },
   {
    "duration": 163,
    "start_time": "2023-06-21T12:49:38.399Z"
   },
   {
    "duration": 23,
    "start_time": "2023-06-21T12:49:38.564Z"
   },
   {
    "duration": 19,
    "start_time": "2023-06-21T12:49:38.588Z"
   },
   {
    "duration": 33,
    "start_time": "2023-06-21T12:49:38.608Z"
   },
   {
    "duration": 43,
    "start_time": "2023-06-21T12:49:38.643Z"
   },
   {
    "duration": 13,
    "start_time": "2023-06-21T12:49:38.688Z"
   },
   {
    "duration": 24,
    "start_time": "2023-06-21T12:49:38.703Z"
   },
   {
    "duration": 470,
    "start_time": "2023-06-21T12:49:38.729Z"
   },
   {
    "duration": 197,
    "start_time": "2023-06-21T12:51:21.510Z"
   },
   {
    "duration": 15,
    "start_time": "2023-06-21T12:51:50.547Z"
   },
   {
    "duration": 22,
    "start_time": "2023-06-21T12:51:54.466Z"
   },
   {
    "duration": 574,
    "start_time": "2023-06-21T12:51:58.066Z"
   },
   {
    "duration": 1402,
    "start_time": "2023-06-21T12:52:26.218Z"
   },
   {
    "duration": 1249,
    "start_time": "2023-06-21T12:52:27.622Z"
   },
   {
    "duration": 6,
    "start_time": "2023-06-21T12:52:28.887Z"
   },
   {
    "duration": 32,
    "start_time": "2023-06-21T12:52:28.895Z"
   },
   {
    "duration": 17,
    "start_time": "2023-06-21T12:52:28.929Z"
   },
   {
    "duration": 22,
    "start_time": "2023-06-21T12:52:28.948Z"
   },
   {
    "duration": 15,
    "start_time": "2023-06-21T12:52:28.973Z"
   },
   {
    "duration": 23,
    "start_time": "2023-06-21T12:52:28.990Z"
   },
   {
    "duration": 10,
    "start_time": "2023-06-21T12:52:29.015Z"
   },
   {
    "duration": 20,
    "start_time": "2023-06-21T12:52:29.027Z"
   },
   {
    "duration": 17,
    "start_time": "2023-06-21T12:52:29.049Z"
   },
   {
    "duration": 19,
    "start_time": "2023-06-21T12:52:29.068Z"
   },
   {
    "duration": 17,
    "start_time": "2023-06-21T12:52:29.089Z"
   },
   {
    "duration": 22,
    "start_time": "2023-06-21T12:52:29.109Z"
   },
   {
    "duration": 7,
    "start_time": "2023-06-21T12:52:29.132Z"
   },
   {
    "duration": 40,
    "start_time": "2023-06-21T12:52:29.141Z"
   },
   {
    "duration": 27,
    "start_time": "2023-06-21T12:52:29.193Z"
   },
   {
    "duration": 21,
    "start_time": "2023-06-21T12:52:29.222Z"
   },
   {
    "duration": 37,
    "start_time": "2023-06-21T12:52:29.245Z"
   },
   {
    "duration": 17,
    "start_time": "2023-06-21T12:52:29.284Z"
   },
   {
    "duration": 25,
    "start_time": "2023-06-21T12:52:29.303Z"
   },
   {
    "duration": 13,
    "start_time": "2023-06-21T12:52:29.329Z"
   },
   {
    "duration": 14,
    "start_time": "2023-06-21T12:52:29.343Z"
   },
   {
    "duration": 24,
    "start_time": "2023-06-21T12:52:29.358Z"
   },
   {
    "duration": 22,
    "start_time": "2023-06-21T12:52:29.384Z"
   },
   {
    "duration": 28,
    "start_time": "2023-06-21T12:52:29.408Z"
   },
   {
    "duration": 22,
    "start_time": "2023-06-21T12:52:29.438Z"
   },
   {
    "duration": 8,
    "start_time": "2023-06-21T12:52:29.461Z"
   },
   {
    "duration": 39,
    "start_time": "2023-06-21T12:52:29.470Z"
   },
   {
    "duration": 15,
    "start_time": "2023-06-21T12:52:29.511Z"
   },
   {
    "duration": 38,
    "start_time": "2023-06-21T12:52:29.528Z"
   },
   {
    "duration": 24,
    "start_time": "2023-06-21T12:52:29.569Z"
   },
   {
    "duration": 32,
    "start_time": "2023-06-21T12:52:29.595Z"
   },
   {
    "duration": 25,
    "start_time": "2023-06-21T12:52:29.630Z"
   },
   {
    "duration": 35,
    "start_time": "2023-06-21T12:52:29.657Z"
   },
   {
    "duration": 5,
    "start_time": "2023-06-21T12:52:29.694Z"
   },
   {
    "duration": 9,
    "start_time": "2023-06-21T12:52:29.701Z"
   },
   {
    "duration": 13,
    "start_time": "2023-06-21T12:52:29.712Z"
   },
   {
    "duration": 20,
    "start_time": "2023-06-21T12:52:29.726Z"
   },
   {
    "duration": 38,
    "start_time": "2023-06-21T12:52:29.748Z"
   },
   {
    "duration": 11,
    "start_time": "2023-06-21T12:52:29.792Z"
   },
   {
    "duration": 33,
    "start_time": "2023-06-21T12:52:29.805Z"
   },
   {
    "duration": 21,
    "start_time": "2023-06-21T12:52:29.840Z"
   },
   {
    "duration": 36,
    "start_time": "2023-06-21T12:52:29.863Z"
   },
   {
    "duration": 18,
    "start_time": "2023-06-21T12:52:29.900Z"
   },
   {
    "duration": 18,
    "start_time": "2023-06-21T12:52:29.920Z"
   },
   {
    "duration": 7,
    "start_time": "2023-06-21T12:52:29.940Z"
   },
   {
    "duration": 27,
    "start_time": "2023-06-21T12:52:29.949Z"
   },
   {
    "duration": 301,
    "start_time": "2023-06-21T12:52:29.981Z"
   },
   {
    "duration": 14,
    "start_time": "2023-06-21T12:52:30.284Z"
   },
   {
    "duration": 410,
    "start_time": "2023-06-21T12:52:30.301Z"
   },
   {
    "duration": 193,
    "start_time": "2023-06-21T12:52:30.714Z"
   },
   {
    "duration": 23,
    "start_time": "2023-06-21T12:52:30.909Z"
   },
   {
    "duration": 215,
    "start_time": "2023-06-21T12:52:30.934Z"
   },
   {
    "duration": 259,
    "start_time": "2023-06-21T12:52:31.151Z"
   },
   {
    "duration": 17,
    "start_time": "2023-06-21T12:52:31.412Z"
   },
   {
    "duration": 254,
    "start_time": "2023-06-21T12:52:31.432Z"
   },
   {
    "duration": 2336,
    "start_time": "2023-06-21T12:52:31.688Z"
   },
   {
    "duration": 205,
    "start_time": "2023-06-21T12:52:34.026Z"
   },
   {
    "duration": 44,
    "start_time": "2023-06-21T12:52:34.234Z"
   },
   {
    "duration": 312,
    "start_time": "2023-06-21T12:52:34.280Z"
   },
   {
    "duration": 574,
    "start_time": "2023-06-21T12:52:34.594Z"
   },
   {
    "duration": 23,
    "start_time": "2023-06-21T12:52:35.171Z"
   },
   {
    "duration": 137,
    "start_time": "2023-06-21T12:52:35.197Z"
   },
   {
    "duration": 50,
    "start_time": "2023-06-21T12:52:35.335Z"
   },
   {
    "duration": 59,
    "start_time": "2023-06-21T12:52:35.387Z"
   },
   {
    "duration": 39,
    "start_time": "2023-06-21T12:52:35.448Z"
   },
   {
    "duration": 271,
    "start_time": "2023-06-21T12:52:35.489Z"
   },
   {
    "duration": 125,
    "start_time": "2023-06-21T12:52:35.762Z"
   },
   {
    "duration": 113,
    "start_time": "2023-06-21T12:52:35.888Z"
   },
   {
    "duration": 139,
    "start_time": "2023-06-21T12:52:36.004Z"
   },
   {
    "duration": 32,
    "start_time": "2023-06-21T12:52:36.146Z"
   },
   {
    "duration": 26,
    "start_time": "2023-06-21T12:52:36.180Z"
   },
   {
    "duration": 30,
    "start_time": "2023-06-21T12:52:36.208Z"
   },
   {
    "duration": 40,
    "start_time": "2023-06-21T12:52:36.240Z"
   },
   {
    "duration": 32,
    "start_time": "2023-06-21T12:52:36.282Z"
   },
   {
    "duration": 474,
    "start_time": "2023-06-21T12:52:36.316Z"
   },
   {
    "duration": 589,
    "start_time": "2023-06-21T12:53:28.814Z"
   },
   {
    "duration": 491,
    "start_time": "2023-06-21T12:54:56.518Z"
   },
   {
    "duration": 446,
    "start_time": "2023-06-21T12:56:17.350Z"
   },
   {
    "duration": 483,
    "start_time": "2023-06-21T13:00:00.818Z"
   },
   {
    "duration": 25,
    "start_time": "2023-06-21T13:02:02.214Z"
   },
   {
    "duration": 211,
    "start_time": "2023-06-21T13:03:02.303Z"
   },
   {
    "duration": 29,
    "start_time": "2023-06-21T13:03:10.132Z"
   },
   {
    "duration": 30,
    "start_time": "2023-06-21T13:03:23.411Z"
   },
   {
    "duration": 33,
    "start_time": "2023-06-21T13:04:04.614Z"
   },
   {
    "duration": 1019,
    "start_time": "2023-06-21T13:04:07.867Z"
   },
   {
    "duration": 625,
    "start_time": "2023-06-21T13:05:06.738Z"
   },
   {
    "duration": 891,
    "start_time": "2023-06-21T13:05:15.511Z"
   },
   {
    "duration": 792,
    "start_time": "2023-06-21T13:05:23.738Z"
   },
   {
    "duration": 905,
    "start_time": "2023-06-21T13:05:33.409Z"
   },
   {
    "duration": 1021,
    "start_time": "2023-06-21T13:05:44.210Z"
   },
   {
    "duration": 613,
    "start_time": "2023-06-21T13:05:55.055Z"
   },
   {
    "duration": 1361,
    "start_time": "2023-06-21T13:06:36.345Z"
   },
   {
    "duration": 1016,
    "start_time": "2023-06-21T13:06:37.708Z"
   },
   {
    "duration": 4,
    "start_time": "2023-06-21T13:06:38.725Z"
   },
   {
    "duration": 14,
    "start_time": "2023-06-21T13:06:38.733Z"
   },
   {
    "duration": 7,
    "start_time": "2023-06-21T13:06:38.750Z"
   },
   {
    "duration": 21,
    "start_time": "2023-06-21T13:06:38.759Z"
   },
   {
    "duration": 15,
    "start_time": "2023-06-21T13:06:38.781Z"
   },
   {
    "duration": 23,
    "start_time": "2023-06-21T13:06:38.798Z"
   },
   {
    "duration": 7,
    "start_time": "2023-06-21T13:06:38.824Z"
   },
   {
    "duration": 8,
    "start_time": "2023-06-21T13:06:38.835Z"
   },
   {
    "duration": 28,
    "start_time": "2023-06-21T13:06:38.844Z"
   },
   {
    "duration": 11,
    "start_time": "2023-06-21T13:06:38.874Z"
   },
   {
    "duration": 21,
    "start_time": "2023-06-21T13:06:38.887Z"
   },
   {
    "duration": 23,
    "start_time": "2023-06-21T13:06:38.910Z"
   },
   {
    "duration": 33,
    "start_time": "2023-06-21T13:06:38.935Z"
   },
   {
    "duration": 8,
    "start_time": "2023-06-21T13:06:38.971Z"
   },
   {
    "duration": 13,
    "start_time": "2023-06-21T13:06:38.981Z"
   },
   {
    "duration": 11,
    "start_time": "2023-06-21T13:06:38.996Z"
   },
   {
    "duration": 8,
    "start_time": "2023-06-21T13:06:39.009Z"
   },
   {
    "duration": 19,
    "start_time": "2023-06-21T13:06:39.018Z"
   },
   {
    "duration": 41,
    "start_time": "2023-06-21T13:06:39.040Z"
   },
   {
    "duration": 13,
    "start_time": "2023-06-21T13:06:39.083Z"
   },
   {
    "duration": 15,
    "start_time": "2023-06-21T13:06:39.098Z"
   },
   {
    "duration": 13,
    "start_time": "2023-06-21T13:06:39.116Z"
   },
   {
    "duration": 44,
    "start_time": "2023-06-21T13:06:39.131Z"
   },
   {
    "duration": 5,
    "start_time": "2023-06-21T13:06:39.177Z"
   },
   {
    "duration": 19,
    "start_time": "2023-06-21T13:06:39.184Z"
   },
   {
    "duration": 6,
    "start_time": "2023-06-21T13:06:39.210Z"
   },
   {
    "duration": 68,
    "start_time": "2023-06-21T13:06:39.218Z"
   },
   {
    "duration": 21,
    "start_time": "2023-06-21T13:06:39.288Z"
   },
   {
    "duration": 5,
    "start_time": "2023-06-21T13:06:39.311Z"
   },
   {
    "duration": 9,
    "start_time": "2023-06-21T13:06:39.318Z"
   },
   {
    "duration": 9,
    "start_time": "2023-06-21T13:06:39.328Z"
   },
   {
    "duration": 37,
    "start_time": "2023-06-21T13:06:39.338Z"
   },
   {
    "duration": 30,
    "start_time": "2023-06-21T13:06:39.376Z"
   },
   {
    "duration": 6,
    "start_time": "2023-06-21T13:06:39.407Z"
   },
   {
    "duration": 8,
    "start_time": "2023-06-21T13:06:39.415Z"
   },
   {
    "duration": 12,
    "start_time": "2023-06-21T13:06:39.424Z"
   },
   {
    "duration": 37,
    "start_time": "2023-06-21T13:06:39.438Z"
   },
   {
    "duration": 22,
    "start_time": "2023-06-21T13:06:39.477Z"
   },
   {
    "duration": 11,
    "start_time": "2023-06-21T13:06:39.501Z"
   },
   {
    "duration": 6,
    "start_time": "2023-06-21T13:06:39.514Z"
   },
   {
    "duration": 15,
    "start_time": "2023-06-21T13:06:39.522Z"
   },
   {
    "duration": 41,
    "start_time": "2023-06-21T13:06:39.539Z"
   },
   {
    "duration": 16,
    "start_time": "2023-06-21T13:06:39.581Z"
   },
   {
    "duration": 17,
    "start_time": "2023-06-21T13:06:39.599Z"
   },
   {
    "duration": 7,
    "start_time": "2023-06-21T13:06:39.618Z"
   },
   {
    "duration": 44,
    "start_time": "2023-06-21T13:06:39.627Z"
   },
   {
    "duration": 294,
    "start_time": "2023-06-21T13:06:39.673Z"
   },
   {
    "duration": 12,
    "start_time": "2023-06-21T13:06:39.969Z"
   },
   {
    "duration": 379,
    "start_time": "2023-06-21T13:06:39.983Z"
   },
   {
    "duration": 160,
    "start_time": "2023-06-21T13:06:40.366Z"
   },
   {
    "duration": 22,
    "start_time": "2023-06-21T13:06:40.528Z"
   },
   {
    "duration": 172,
    "start_time": "2023-06-21T13:06:40.566Z"
   },
   {
    "duration": 250,
    "start_time": "2023-06-21T13:06:40.741Z"
   },
   {
    "duration": 17,
    "start_time": "2023-06-21T13:06:40.993Z"
   },
   {
    "duration": 217,
    "start_time": "2023-06-21T13:06:41.012Z"
   },
   {
    "duration": 2195,
    "start_time": "2023-06-21T13:06:41.232Z"
   },
   {
    "duration": 172,
    "start_time": "2023-06-21T13:06:43.429Z"
   },
   {
    "duration": 20,
    "start_time": "2023-06-21T13:06:43.603Z"
   },
   {
    "duration": 331,
    "start_time": "2023-06-21T13:06:43.625Z"
   },
   {
    "duration": 609,
    "start_time": "2023-06-21T13:06:43.959Z"
   },
   {
    "duration": 17,
    "start_time": "2023-06-21T13:06:44.570Z"
   },
   {
    "duration": 126,
    "start_time": "2023-06-21T13:06:44.589Z"
   },
   {
    "duration": 13,
    "start_time": "2023-06-21T13:06:44.717Z"
   },
   {
    "duration": 43,
    "start_time": "2023-06-21T13:06:44.732Z"
   },
   {
    "duration": 33,
    "start_time": "2023-06-21T13:06:44.777Z"
   },
   {
    "duration": 23,
    "start_time": "2023-06-21T13:06:44.813Z"
   },
   {
    "duration": 100,
    "start_time": "2023-06-21T13:06:44.838Z"
   },
   {
    "duration": 116,
    "start_time": "2023-06-21T13:06:44.939Z"
   },
   {
    "duration": 137,
    "start_time": "2023-06-21T13:06:45.057Z"
   },
   {
    "duration": 13,
    "start_time": "2023-06-21T13:06:45.197Z"
   },
   {
    "duration": 40,
    "start_time": "2023-06-21T13:06:45.212Z"
   },
   {
    "duration": 33,
    "start_time": "2023-06-21T13:06:45.254Z"
   },
   {
    "duration": 21,
    "start_time": "2023-06-21T13:06:45.289Z"
   },
   {
    "duration": 40,
    "start_time": "2023-06-21T13:06:45.312Z"
   },
   {
    "duration": 426,
    "start_time": "2023-06-21T13:06:45.354Z"
   },
   {
    "duration": 176,
    "start_time": "2023-06-21T13:07:47.070Z"
   },
   {
    "duration": 1334,
    "start_time": "2023-06-21T13:08:15.513Z"
   },
   {
    "duration": 1296,
    "start_time": "2023-06-21T13:08:16.850Z"
   },
   {
    "duration": 6,
    "start_time": "2023-06-21T13:08:18.148Z"
   },
   {
    "duration": 30,
    "start_time": "2023-06-21T13:08:18.155Z"
   },
   {
    "duration": 10,
    "start_time": "2023-06-21T13:08:18.188Z"
   },
   {
    "duration": 24,
    "start_time": "2023-06-21T13:08:18.200Z"
   },
   {
    "duration": 6,
    "start_time": "2023-06-21T13:08:18.226Z"
   },
   {
    "duration": 59,
    "start_time": "2023-06-21T13:08:18.234Z"
   },
   {
    "duration": 7,
    "start_time": "2023-06-21T13:08:18.294Z"
   },
   {
    "duration": 12,
    "start_time": "2023-06-21T13:08:18.303Z"
   },
   {
    "duration": 53,
    "start_time": "2023-06-21T13:08:18.317Z"
   },
   {
    "duration": 14,
    "start_time": "2023-06-21T13:08:18.372Z"
   },
   {
    "duration": 30,
    "start_time": "2023-06-21T13:08:18.388Z"
   },
   {
    "duration": 26,
    "start_time": "2023-06-21T13:08:18.423Z"
   },
   {
    "duration": 7,
    "start_time": "2023-06-21T13:08:18.467Z"
   },
   {
    "duration": 8,
    "start_time": "2023-06-21T13:08:18.476Z"
   },
   {
    "duration": 20,
    "start_time": "2023-06-21T13:08:18.486Z"
   },
   {
    "duration": 19,
    "start_time": "2023-06-21T13:08:18.508Z"
   },
   {
    "duration": 13,
    "start_time": "2023-06-21T13:08:18.529Z"
   },
   {
    "duration": 23,
    "start_time": "2023-06-21T13:08:18.544Z"
   },
   {
    "duration": 18,
    "start_time": "2023-06-21T13:08:18.569Z"
   },
   {
    "duration": 15,
    "start_time": "2023-06-21T13:08:18.588Z"
   },
   {
    "duration": 20,
    "start_time": "2023-06-21T13:08:18.605Z"
   },
   {
    "duration": 48,
    "start_time": "2023-06-21T13:08:18.627Z"
   },
   {
    "duration": 9,
    "start_time": "2023-06-21T13:08:18.677Z"
   },
   {
    "duration": 4,
    "start_time": "2023-06-21T13:08:18.688Z"
   },
   {
    "duration": 28,
    "start_time": "2023-06-21T13:08:18.694Z"
   },
   {
    "duration": 7,
    "start_time": "2023-06-21T13:08:18.723Z"
   },
   {
    "duration": 56,
    "start_time": "2023-06-21T13:08:18.732Z"
   },
   {
    "duration": 19,
    "start_time": "2023-06-21T13:08:18.790Z"
   },
   {
    "duration": 5,
    "start_time": "2023-06-21T13:08:18.812Z"
   },
   {
    "duration": 9,
    "start_time": "2023-06-21T13:08:18.820Z"
   },
   {
    "duration": 35,
    "start_time": "2023-06-21T13:08:18.831Z"
   },
   {
    "duration": 21,
    "start_time": "2023-06-21T13:08:18.869Z"
   },
   {
    "duration": 40,
    "start_time": "2023-06-21T13:08:18.892Z"
   },
   {
    "duration": 8,
    "start_time": "2023-06-21T13:08:18.935Z"
   },
   {
    "duration": 23,
    "start_time": "2023-06-21T13:08:18.945Z"
   },
   {
    "duration": 10,
    "start_time": "2023-06-21T13:08:18.970Z"
   },
   {
    "duration": 14,
    "start_time": "2023-06-21T13:08:18.982Z"
   },
   {
    "duration": 27,
    "start_time": "2023-06-21T13:08:18.998Z"
   },
   {
    "duration": 12,
    "start_time": "2023-06-21T13:08:19.029Z"
   },
   {
    "duration": 8,
    "start_time": "2023-06-21T13:08:19.067Z"
   },
   {
    "duration": 12,
    "start_time": "2023-06-21T13:08:19.078Z"
   },
   {
    "duration": 28,
    "start_time": "2023-06-21T13:08:19.092Z"
   },
   {
    "duration": 47,
    "start_time": "2023-06-21T13:08:19.122Z"
   },
   {
    "duration": 28,
    "start_time": "2023-06-21T13:08:19.170Z"
   },
   {
    "duration": 4,
    "start_time": "2023-06-21T13:08:19.200Z"
   },
   {
    "duration": 23,
    "start_time": "2023-06-21T13:08:19.206Z"
   },
   {
    "duration": 428,
    "start_time": "2023-06-21T13:08:19.231Z"
   },
   {
    "duration": 13,
    "start_time": "2023-06-21T13:08:19.668Z"
   },
   {
    "duration": 391,
    "start_time": "2023-06-21T13:08:19.684Z"
   },
   {
    "duration": 184,
    "start_time": "2023-06-21T13:08:20.077Z"
   },
   {
    "duration": 30,
    "start_time": "2023-06-21T13:08:20.263Z"
   },
   {
    "duration": 185,
    "start_time": "2023-06-21T13:08:20.295Z"
   },
   {
    "duration": 232,
    "start_time": "2023-06-21T13:08:20.482Z"
   },
   {
    "duration": 17,
    "start_time": "2023-06-21T13:08:20.716Z"
   },
   {
    "duration": 253,
    "start_time": "2023-06-21T13:08:20.734Z"
   },
   {
    "duration": 2118,
    "start_time": "2023-06-21T13:08:20.989Z"
   },
   {
    "duration": 186,
    "start_time": "2023-06-21T13:08:23.109Z"
   },
   {
    "duration": 22,
    "start_time": "2023-06-21T13:08:23.297Z"
   },
   {
    "duration": 306,
    "start_time": "2023-06-21T13:08:23.321Z"
   },
   {
    "duration": 599,
    "start_time": "2023-06-21T13:08:23.629Z"
   },
   {
    "duration": 52,
    "start_time": "2023-06-21T13:08:24.230Z"
   },
   {
    "duration": 143,
    "start_time": "2023-06-21T13:08:24.285Z"
   },
   {
    "duration": 49,
    "start_time": "2023-06-21T13:08:24.431Z"
   },
   {
    "duration": 13,
    "start_time": "2023-06-21T13:08:24.482Z"
   },
   {
    "duration": 27,
    "start_time": "2023-06-21T13:08:24.497Z"
   },
   {
    "duration": 45,
    "start_time": "2023-06-21T13:08:24.526Z"
   },
   {
    "duration": 67,
    "start_time": "2023-06-21T13:08:24.573Z"
   },
   {
    "duration": 151,
    "start_time": "2023-06-21T13:08:24.642Z"
   },
   {
    "duration": 136,
    "start_time": "2023-06-21T13:08:24.794Z"
   },
   {
    "duration": 11,
    "start_time": "2023-06-21T13:08:24.932Z"
   },
   {
    "duration": 31,
    "start_time": "2023-06-21T13:08:24.945Z"
   },
   {
    "duration": 268,
    "start_time": "2023-06-21T13:08:24.978Z"
   },
   {
    "duration": 0,
    "start_time": "2023-06-21T13:08:25.248Z"
   },
   {
    "duration": 0,
    "start_time": "2023-06-21T13:08:25.249Z"
   },
   {
    "duration": 0,
    "start_time": "2023-06-21T13:08:25.250Z"
   },
   {
    "duration": 6,
    "start_time": "2023-06-21T13:08:56.011Z"
   },
   {
    "duration": 5,
    "start_time": "2023-06-21T13:10:49.402Z"
   },
   {
    "duration": 19,
    "start_time": "2023-06-21T13:10:55.319Z"
   },
   {
    "duration": 1454,
    "start_time": "2023-06-21T13:11:38.841Z"
   },
   {
    "duration": 1007,
    "start_time": "2023-06-21T13:11:40.297Z"
   },
   {
    "duration": 5,
    "start_time": "2023-06-21T13:11:41.305Z"
   },
   {
    "duration": 16,
    "start_time": "2023-06-21T13:11:41.312Z"
   },
   {
    "duration": 8,
    "start_time": "2023-06-21T13:11:41.330Z"
   },
   {
    "duration": 45,
    "start_time": "2023-06-21T13:11:41.340Z"
   },
   {
    "duration": 4,
    "start_time": "2023-06-21T13:11:41.389Z"
   },
   {
    "duration": 22,
    "start_time": "2023-06-21T13:11:41.395Z"
   },
   {
    "duration": 5,
    "start_time": "2023-06-21T13:11:41.419Z"
   },
   {
    "duration": 10,
    "start_time": "2023-06-21T13:11:41.426Z"
   },
   {
    "duration": 35,
    "start_time": "2023-06-21T13:11:41.437Z"
   },
   {
    "duration": 29,
    "start_time": "2023-06-21T13:11:41.477Z"
   },
   {
    "duration": 18,
    "start_time": "2023-06-21T13:11:41.508Z"
   },
   {
    "duration": 21,
    "start_time": "2023-06-21T13:11:41.528Z"
   },
   {
    "duration": 5,
    "start_time": "2023-06-21T13:11:41.551Z"
   },
   {
    "duration": 13,
    "start_time": "2023-06-21T13:11:41.558Z"
   },
   {
    "duration": 23,
    "start_time": "2023-06-21T13:11:41.573Z"
   },
   {
    "duration": 16,
    "start_time": "2023-06-21T13:11:41.598Z"
   },
   {
    "duration": 6,
    "start_time": "2023-06-21T13:11:41.616Z"
   },
   {
    "duration": 17,
    "start_time": "2023-06-21T13:11:41.624Z"
   },
   {
    "duration": 14,
    "start_time": "2023-06-21T13:11:41.643Z"
   },
   {
    "duration": 25,
    "start_time": "2023-06-21T13:11:41.658Z"
   },
   {
    "duration": 19,
    "start_time": "2023-06-21T13:11:41.686Z"
   },
   {
    "duration": 18,
    "start_time": "2023-06-21T13:11:41.707Z"
   },
   {
    "duration": 42,
    "start_time": "2023-06-21T13:11:41.728Z"
   },
   {
    "duration": 9,
    "start_time": "2023-06-21T13:11:41.774Z"
   },
   {
    "duration": 18,
    "start_time": "2023-06-21T13:11:41.785Z"
   },
   {
    "duration": 5,
    "start_time": "2023-06-21T13:11:41.808Z"
   },
   {
    "duration": 26,
    "start_time": "2023-06-21T13:11:41.815Z"
   },
   {
    "duration": 45,
    "start_time": "2023-06-21T13:11:41.844Z"
   },
   {
    "duration": 5,
    "start_time": "2023-06-21T13:11:41.891Z"
   },
   {
    "duration": 5,
    "start_time": "2023-06-21T13:11:41.897Z"
   },
   {
    "duration": 6,
    "start_time": "2023-06-21T13:11:41.904Z"
   },
   {
    "duration": 9,
    "start_time": "2023-06-21T13:11:41.912Z"
   },
   {
    "duration": 51,
    "start_time": "2023-06-21T13:11:41.922Z"
   },
   {
    "duration": 6,
    "start_time": "2023-06-21T13:11:41.975Z"
   },
   {
    "duration": 8,
    "start_time": "2023-06-21T13:11:41.985Z"
   },
   {
    "duration": 9,
    "start_time": "2023-06-21T13:11:41.994Z"
   },
   {
    "duration": 14,
    "start_time": "2023-06-21T13:11:42.005Z"
   },
   {
    "duration": 16,
    "start_time": "2023-06-21T13:11:42.021Z"
   },
   {
    "duration": 43,
    "start_time": "2023-06-21T13:11:42.039Z"
   },
   {
    "duration": 6,
    "start_time": "2023-06-21T13:11:42.085Z"
   },
   {
    "duration": 8,
    "start_time": "2023-06-21T13:11:42.093Z"
   },
   {
    "duration": 23,
    "start_time": "2023-06-21T13:11:42.103Z"
   },
   {
    "duration": 54,
    "start_time": "2023-06-21T13:11:42.128Z"
   },
   {
    "duration": 23,
    "start_time": "2023-06-21T13:11:42.184Z"
   },
   {
    "duration": 4,
    "start_time": "2023-06-21T13:11:42.209Z"
   },
   {
    "duration": 18,
    "start_time": "2023-06-21T13:11:42.215Z"
   },
   {
    "duration": 301,
    "start_time": "2023-06-21T13:11:42.235Z"
   },
   {
    "duration": 10,
    "start_time": "2023-06-21T13:11:42.538Z"
   },
   {
    "duration": 428,
    "start_time": "2023-06-21T13:11:42.550Z"
   },
   {
    "duration": 166,
    "start_time": "2023-06-21T13:11:42.980Z"
   },
   {
    "duration": 42,
    "start_time": "2023-06-21T13:11:43.148Z"
   },
   {
    "duration": 207,
    "start_time": "2023-06-21T13:11:43.192Z"
   },
   {
    "duration": 235,
    "start_time": "2023-06-21T13:11:43.400Z"
   },
   {
    "duration": 16,
    "start_time": "2023-06-21T13:11:43.637Z"
   },
   {
    "duration": 253,
    "start_time": "2023-06-21T13:11:43.654Z"
   },
   {
    "duration": 2283,
    "start_time": "2023-06-21T13:11:43.909Z"
   },
   {
    "duration": 162,
    "start_time": "2023-06-21T13:11:46.194Z"
   },
   {
    "duration": 25,
    "start_time": "2023-06-21T13:11:46.366Z"
   },
   {
    "duration": 320,
    "start_time": "2023-06-21T13:11:46.393Z"
   },
   {
    "duration": 562,
    "start_time": "2023-06-21T13:11:46.715Z"
   },
   {
    "duration": 17,
    "start_time": "2023-06-21T13:11:47.281Z"
   },
   {
    "duration": 118,
    "start_time": "2023-06-21T13:11:47.299Z"
   },
   {
    "duration": 65,
    "start_time": "2023-06-21T13:11:47.419Z"
   },
   {
    "duration": 12,
    "start_time": "2023-06-21T13:11:47.486Z"
   },
   {
    "duration": 30,
    "start_time": "2023-06-21T13:11:47.500Z"
   },
   {
    "duration": 15,
    "start_time": "2023-06-21T13:11:47.532Z"
   },
   {
    "duration": 68,
    "start_time": "2023-06-21T13:11:47.566Z"
   },
   {
    "duration": 125,
    "start_time": "2023-06-21T13:11:47.636Z"
   },
   {
    "duration": 188,
    "start_time": "2023-06-21T13:11:47.766Z"
   },
   {
    "duration": 25,
    "start_time": "2023-06-21T13:11:47.957Z"
   },
   {
    "duration": 20,
    "start_time": "2023-06-21T13:11:47.983Z"
   },
   {
    "duration": 8,
    "start_time": "2023-06-21T13:11:48.005Z"
   },
   {
    "duration": 12,
    "start_time": "2023-06-21T13:11:48.014Z"
   },
   {
    "duration": 67,
    "start_time": "2023-06-21T13:11:48.028Z"
   },
   {
    "duration": 49,
    "start_time": "2023-06-21T13:11:48.097Z"
   },
   {
    "duration": 35,
    "start_time": "2023-06-21T13:11:48.148Z"
   },
   {
    "duration": 508,
    "start_time": "2023-06-21T13:11:48.185Z"
   },
   {
    "duration": 40,
    "start_time": "2023-06-21T13:12:39.637Z"
   },
   {
    "duration": 636,
    "start_time": "2023-06-21T13:12:53.463Z"
   },
   {
    "duration": 1366,
    "start_time": "2023-06-21T13:13:12.334Z"
   },
   {
    "duration": 1417,
    "start_time": "2023-06-21T13:13:13.702Z"
   },
   {
    "duration": 4,
    "start_time": "2023-06-21T13:13:15.121Z"
   },
   {
    "duration": 21,
    "start_time": "2023-06-21T13:13:15.127Z"
   },
   {
    "duration": 8,
    "start_time": "2023-06-21T13:13:15.149Z"
   },
   {
    "duration": 28,
    "start_time": "2023-06-21T13:13:15.159Z"
   },
   {
    "duration": 5,
    "start_time": "2023-06-21T13:13:15.189Z"
   },
   {
    "duration": 39,
    "start_time": "2023-06-21T13:13:15.195Z"
   },
   {
    "duration": 17,
    "start_time": "2023-06-21T13:13:15.235Z"
   },
   {
    "duration": 25,
    "start_time": "2023-06-21T13:13:15.255Z"
   },
   {
    "duration": 10,
    "start_time": "2023-06-21T13:13:15.282Z"
   },
   {
    "duration": 29,
    "start_time": "2023-06-21T13:13:15.294Z"
   },
   {
    "duration": 26,
    "start_time": "2023-06-21T13:13:15.325Z"
   },
   {
    "duration": 30,
    "start_time": "2023-06-21T13:13:15.353Z"
   },
   {
    "duration": 19,
    "start_time": "2023-06-21T13:13:15.386Z"
   },
   {
    "duration": 22,
    "start_time": "2023-06-21T13:13:15.407Z"
   },
   {
    "duration": 17,
    "start_time": "2023-06-21T13:13:15.431Z"
   },
   {
    "duration": 35,
    "start_time": "2023-06-21T13:13:15.450Z"
   },
   {
    "duration": 16,
    "start_time": "2023-06-21T13:13:15.486Z"
   },
   {
    "duration": 40,
    "start_time": "2023-06-21T13:13:15.503Z"
   },
   {
    "duration": 29,
    "start_time": "2023-06-21T13:13:15.545Z"
   },
   {
    "duration": 12,
    "start_time": "2023-06-21T13:13:15.584Z"
   },
   {
    "duration": 18,
    "start_time": "2023-06-21T13:13:15.598Z"
   },
   {
    "duration": 12,
    "start_time": "2023-06-21T13:13:15.618Z"
   },
   {
    "duration": 18,
    "start_time": "2023-06-21T13:13:15.632Z"
   },
   {
    "duration": 28,
    "start_time": "2023-06-21T13:13:15.652Z"
   },
   {
    "duration": 32,
    "start_time": "2023-06-21T13:13:15.681Z"
   },
   {
    "duration": 6,
    "start_time": "2023-06-21T13:13:15.717Z"
   },
   {
    "duration": 31,
    "start_time": "2023-06-21T13:13:15.725Z"
   },
   {
    "duration": 19,
    "start_time": "2023-06-21T13:13:15.758Z"
   },
   {
    "duration": 4,
    "start_time": "2023-06-21T13:13:15.785Z"
   },
   {
    "duration": 7,
    "start_time": "2023-06-21T13:13:15.791Z"
   },
   {
    "duration": 9,
    "start_time": "2023-06-21T13:13:15.800Z"
   },
   {
    "duration": 10,
    "start_time": "2023-06-21T13:13:15.811Z"
   },
   {
    "duration": 57,
    "start_time": "2023-06-21T13:13:15.823Z"
   },
   {
    "duration": 8,
    "start_time": "2023-06-21T13:13:15.884Z"
   },
   {
    "duration": 7,
    "start_time": "2023-06-21T13:13:15.894Z"
   },
   {
    "duration": 9,
    "start_time": "2023-06-21T13:13:15.903Z"
   },
   {
    "duration": 10,
    "start_time": "2023-06-21T13:13:15.914Z"
   },
   {
    "duration": 12,
    "start_time": "2023-06-21T13:13:15.926Z"
   },
   {
    "duration": 39,
    "start_time": "2023-06-21T13:13:15.940Z"
   },
   {
    "duration": 14,
    "start_time": "2023-06-21T13:13:15.981Z"
   },
   {
    "duration": 14,
    "start_time": "2023-06-21T13:13:15.997Z"
   },
   {
    "duration": 50,
    "start_time": "2023-06-21T13:13:16.013Z"
   },
   {
    "duration": 26,
    "start_time": "2023-06-21T13:13:16.065Z"
   },
   {
    "duration": 19,
    "start_time": "2023-06-21T13:13:16.093Z"
   },
   {
    "duration": 3,
    "start_time": "2023-06-21T13:13:16.114Z"
   },
   {
    "duration": 23,
    "start_time": "2023-06-21T13:13:16.119Z"
   },
   {
    "duration": 338,
    "start_time": "2023-06-21T13:13:16.144Z"
   },
   {
    "duration": 13,
    "start_time": "2023-06-21T13:13:16.484Z"
   },
   {
    "duration": 408,
    "start_time": "2023-06-21T13:13:16.499Z"
   },
   {
    "duration": 178,
    "start_time": "2023-06-21T13:13:16.910Z"
   },
   {
    "duration": 24,
    "start_time": "2023-06-21T13:13:17.090Z"
   },
   {
    "duration": 207,
    "start_time": "2023-06-21T13:13:17.116Z"
   },
   {
    "duration": 238,
    "start_time": "2023-06-21T13:13:17.325Z"
   },
   {
    "duration": 28,
    "start_time": "2023-06-21T13:13:17.566Z"
   },
   {
    "duration": 214,
    "start_time": "2023-06-21T13:13:17.595Z"
   },
   {
    "duration": 2182,
    "start_time": "2023-06-21T13:13:17.810Z"
   },
   {
    "duration": 186,
    "start_time": "2023-06-21T13:13:19.993Z"
   },
   {
    "duration": 24,
    "start_time": "2023-06-21T13:13:20.180Z"
   },
   {
    "duration": 320,
    "start_time": "2023-06-21T13:13:20.207Z"
   },
   {
    "duration": 570,
    "start_time": "2023-06-21T13:13:20.529Z"
   },
   {
    "duration": 18,
    "start_time": "2023-06-21T13:13:21.101Z"
   },
   {
    "duration": 163,
    "start_time": "2023-06-21T13:13:21.121Z"
   },
   {
    "duration": 15,
    "start_time": "2023-06-21T13:13:21.287Z"
   },
   {
    "duration": 27,
    "start_time": "2023-06-21T13:13:21.304Z"
   },
   {
    "duration": 55,
    "start_time": "2023-06-21T13:13:21.333Z"
   },
   {
    "duration": 100,
    "start_time": "2023-06-21T13:13:21.389Z"
   },
   {
    "duration": 64,
    "start_time": "2023-06-21T13:13:21.491Z"
   },
   {
    "duration": 123,
    "start_time": "2023-06-21T13:13:21.556Z"
   },
   {
    "duration": 135,
    "start_time": "2023-06-21T13:13:21.682Z"
   },
   {
    "duration": 11,
    "start_time": "2023-06-21T13:13:21.819Z"
   },
   {
    "duration": 44,
    "start_time": "2023-06-21T13:13:21.831Z"
   },
   {
    "duration": 5,
    "start_time": "2023-06-21T13:13:21.877Z"
   },
   {
    "duration": 6,
    "start_time": "2023-06-21T13:13:21.885Z"
   },
   {
    "duration": 24,
    "start_time": "2023-06-21T13:13:21.893Z"
   },
   {
    "duration": 33,
    "start_time": "2023-06-21T13:13:21.920Z"
   },
   {
    "duration": 72,
    "start_time": "2023-06-21T13:13:21.955Z"
   },
   {
    "duration": 458,
    "start_time": "2023-06-21T13:13:22.029Z"
   },
   {
    "duration": 885,
    "start_time": "2023-06-21T13:13:37.762Z"
   },
   {
    "duration": 1358,
    "start_time": "2023-06-21T13:14:05.703Z"
   },
   {
    "duration": 950,
    "start_time": "2023-06-21T13:14:07.063Z"
   },
   {
    "duration": 5,
    "start_time": "2023-06-21T13:14:08.014Z"
   },
   {
    "duration": 32,
    "start_time": "2023-06-21T13:14:08.021Z"
   },
   {
    "duration": 37,
    "start_time": "2023-06-21T13:14:08.055Z"
   },
   {
    "duration": 43,
    "start_time": "2023-06-21T13:14:08.094Z"
   },
   {
    "duration": 13,
    "start_time": "2023-06-21T13:14:08.139Z"
   },
   {
    "duration": 29,
    "start_time": "2023-06-21T13:14:08.154Z"
   },
   {
    "duration": 6,
    "start_time": "2023-06-21T13:14:08.185Z"
   },
   {
    "duration": 21,
    "start_time": "2023-06-21T13:14:08.195Z"
   },
   {
    "duration": 9,
    "start_time": "2023-06-21T13:14:08.218Z"
   },
   {
    "duration": 18,
    "start_time": "2023-06-21T13:14:08.229Z"
   },
   {
    "duration": 30,
    "start_time": "2023-06-21T13:14:08.249Z"
   },
   {
    "duration": 24,
    "start_time": "2023-06-21T13:14:08.283Z"
   },
   {
    "duration": 6,
    "start_time": "2023-06-21T13:14:08.309Z"
   },
   {
    "duration": 8,
    "start_time": "2023-06-21T13:14:08.316Z"
   },
   {
    "duration": 10,
    "start_time": "2023-06-21T13:14:08.326Z"
   },
   {
    "duration": 17,
    "start_time": "2023-06-21T13:14:08.338Z"
   },
   {
    "duration": 12,
    "start_time": "2023-06-21T13:14:08.367Z"
   },
   {
    "duration": 35,
    "start_time": "2023-06-21T13:14:08.381Z"
   },
   {
    "duration": 16,
    "start_time": "2023-06-21T13:14:08.418Z"
   },
   {
    "duration": 11,
    "start_time": "2023-06-21T13:14:08.436Z"
   },
   {
    "duration": 29,
    "start_time": "2023-06-21T13:14:08.449Z"
   },
   {
    "duration": 15,
    "start_time": "2023-06-21T13:14:08.480Z"
   },
   {
    "duration": 22,
    "start_time": "2023-06-21T13:14:08.496Z"
   },
   {
    "duration": 4,
    "start_time": "2023-06-21T13:14:08.520Z"
   },
   {
    "duration": 19,
    "start_time": "2023-06-21T13:14:08.526Z"
   },
   {
    "duration": 13,
    "start_time": "2023-06-21T13:14:08.566Z"
   },
   {
    "duration": 30,
    "start_time": "2023-06-21T13:14:08.582Z"
   },
   {
    "duration": 15,
    "start_time": "2023-06-21T13:14:08.614Z"
   },
   {
    "duration": 25,
    "start_time": "2023-06-21T13:14:08.631Z"
   },
   {
    "duration": 19,
    "start_time": "2023-06-21T13:14:08.658Z"
   },
   {
    "duration": 9,
    "start_time": "2023-06-21T13:14:08.679Z"
   },
   {
    "duration": 7,
    "start_time": "2023-06-21T13:14:08.690Z"
   },
   {
    "duration": 42,
    "start_time": "2023-06-21T13:14:08.698Z"
   },
   {
    "duration": 6,
    "start_time": "2023-06-21T13:14:08.742Z"
   },
   {
    "duration": 10,
    "start_time": "2023-06-21T13:14:08.749Z"
   },
   {
    "duration": 14,
    "start_time": "2023-06-21T13:14:08.772Z"
   },
   {
    "duration": 16,
    "start_time": "2023-06-21T13:14:08.788Z"
   },
   {
    "duration": 12,
    "start_time": "2023-06-21T13:14:08.806Z"
   },
   {
    "duration": 14,
    "start_time": "2023-06-21T13:14:08.820Z"
   },
   {
    "duration": 6,
    "start_time": "2023-06-21T13:14:08.837Z"
   },
   {
    "duration": 23,
    "start_time": "2023-06-21T13:14:08.846Z"
   },
   {
    "duration": 25,
    "start_time": "2023-06-21T13:14:08.871Z"
   },
   {
    "duration": 27,
    "start_time": "2023-06-21T13:14:08.898Z"
   },
   {
    "duration": 20,
    "start_time": "2023-06-21T13:14:08.927Z"
   },
   {
    "duration": 5,
    "start_time": "2023-06-21T13:14:08.949Z"
   },
   {
    "duration": 37,
    "start_time": "2023-06-21T13:14:08.966Z"
   },
   {
    "duration": 305,
    "start_time": "2023-06-21T13:14:09.005Z"
   },
   {
    "duration": 10,
    "start_time": "2023-06-21T13:14:09.312Z"
   },
   {
    "duration": 413,
    "start_time": "2023-06-21T13:14:09.324Z"
   },
   {
    "duration": 183,
    "start_time": "2023-06-21T13:14:09.739Z"
   },
   {
    "duration": 21,
    "start_time": "2023-06-21T13:14:09.924Z"
   },
   {
    "duration": 184,
    "start_time": "2023-06-21T13:14:09.947Z"
   },
   {
    "duration": 252,
    "start_time": "2023-06-21T13:14:10.133Z"
   },
   {
    "duration": 15,
    "start_time": "2023-06-21T13:14:10.387Z"
   },
   {
    "duration": 219,
    "start_time": "2023-06-21T13:14:10.404Z"
   },
   {
    "duration": 2170,
    "start_time": "2023-06-21T13:14:10.625Z"
   },
   {
    "duration": 177,
    "start_time": "2023-06-21T13:14:12.796Z"
   },
   {
    "duration": 26,
    "start_time": "2023-06-21T13:14:12.979Z"
   },
   {
    "duration": 325,
    "start_time": "2023-06-21T13:14:13.007Z"
   },
   {
    "duration": 567,
    "start_time": "2023-06-21T13:14:13.334Z"
   },
   {
    "duration": 16,
    "start_time": "2023-06-21T13:14:13.904Z"
   },
   {
    "duration": 196,
    "start_time": "2023-06-21T13:14:13.922Z"
   },
   {
    "duration": 16,
    "start_time": "2023-06-21T13:14:14.121Z"
   },
   {
    "duration": 33,
    "start_time": "2023-06-21T13:14:14.140Z"
   },
   {
    "duration": 41,
    "start_time": "2023-06-21T13:14:14.179Z"
   },
   {
    "duration": 16,
    "start_time": "2023-06-21T13:14:14.223Z"
   },
   {
    "duration": 93,
    "start_time": "2023-06-21T13:14:14.241Z"
   },
   {
    "duration": 125,
    "start_time": "2023-06-21T13:14:14.336Z"
   },
   {
    "duration": 146,
    "start_time": "2023-06-21T13:14:14.469Z"
   },
   {
    "duration": 15,
    "start_time": "2023-06-21T13:14:14.618Z"
   },
   {
    "duration": 42,
    "start_time": "2023-06-21T13:14:14.635Z"
   },
   {
    "duration": 15,
    "start_time": "2023-06-21T13:14:14.678Z"
   },
   {
    "duration": 36,
    "start_time": "2023-06-21T13:14:14.695Z"
   },
   {
    "duration": 28,
    "start_time": "2023-06-21T13:14:14.733Z"
   },
   {
    "duration": 50,
    "start_time": "2023-06-21T13:14:14.763Z"
   },
   {
    "duration": 467,
    "start_time": "2023-06-21T13:14:14.815Z"
   },
   {
    "duration": 842,
    "start_time": "2023-06-21T13:14:15.284Z"
   },
   {
    "duration": 46,
    "start_time": "2023-06-21T13:15:34.010Z"
   },
   {
    "duration": 44,
    "start_time": "2023-06-21T13:15:49.310Z"
   },
   {
    "duration": 550,
    "start_time": "2023-06-21T13:15:55.143Z"
   },
   {
    "duration": 1266,
    "start_time": "2023-06-21T13:16:01.122Z"
   },
   {
    "duration": 546,
    "start_time": "2023-06-21T13:16:13.106Z"
   },
   {
    "duration": 1506,
    "start_time": "2023-06-21T13:16:23.940Z"
   },
   {
    "duration": 1309,
    "start_time": "2023-06-21T13:16:25.449Z"
   },
   {
    "duration": 5,
    "start_time": "2023-06-21T13:16:26.760Z"
   },
   {
    "duration": 23,
    "start_time": "2023-06-21T13:16:26.767Z"
   },
   {
    "duration": 18,
    "start_time": "2023-06-21T13:16:26.792Z"
   },
   {
    "duration": 22,
    "start_time": "2023-06-21T13:16:26.812Z"
   },
   {
    "duration": 11,
    "start_time": "2023-06-21T13:16:26.836Z"
   },
   {
    "duration": 70,
    "start_time": "2023-06-21T13:16:26.852Z"
   },
   {
    "duration": 59,
    "start_time": "2023-06-21T13:16:26.925Z"
   },
   {
    "duration": 9,
    "start_time": "2023-06-21T13:16:26.988Z"
   },
   {
    "duration": 33,
    "start_time": "2023-06-21T13:16:26.998Z"
   },
   {
    "duration": 14,
    "start_time": "2023-06-21T13:16:27.033Z"
   },
   {
    "duration": 27,
    "start_time": "2023-06-21T13:16:27.048Z"
   },
   {
    "duration": 25,
    "start_time": "2023-06-21T13:16:27.080Z"
   },
   {
    "duration": 8,
    "start_time": "2023-06-21T13:16:27.107Z"
   },
   {
    "duration": 16,
    "start_time": "2023-06-21T13:16:27.117Z"
   },
   {
    "duration": 11,
    "start_time": "2023-06-21T13:16:27.135Z"
   },
   {
    "duration": 13,
    "start_time": "2023-06-21T13:16:27.147Z"
   },
   {
    "duration": 19,
    "start_time": "2023-06-21T13:16:27.169Z"
   },
   {
    "duration": 19,
    "start_time": "2023-06-21T13:16:27.190Z"
   },
   {
    "duration": 14,
    "start_time": "2023-06-21T13:16:27.211Z"
   },
   {
    "duration": 12,
    "start_time": "2023-06-21T13:16:27.226Z"
   },
   {
    "duration": 38,
    "start_time": "2023-06-21T13:16:27.239Z"
   },
   {
    "duration": 14,
    "start_time": "2023-06-21T13:16:27.280Z"
   },
   {
    "duration": 20,
    "start_time": "2023-06-21T13:16:27.296Z"
   },
   {
    "duration": 4,
    "start_time": "2023-06-21T13:16:27.318Z"
   },
   {
    "duration": 21,
    "start_time": "2023-06-21T13:16:27.323Z"
   },
   {
    "duration": 26,
    "start_time": "2023-06-21T13:16:27.349Z"
   },
   {
    "duration": 31,
    "start_time": "2023-06-21T13:16:27.377Z"
   },
   {
    "duration": 15,
    "start_time": "2023-06-21T13:16:27.410Z"
   },
   {
    "duration": 4,
    "start_time": "2023-06-21T13:16:27.427Z"
   },
   {
    "duration": 12,
    "start_time": "2023-06-21T13:16:27.433Z"
   },
   {
    "duration": 23,
    "start_time": "2023-06-21T13:16:27.447Z"
   },
   {
    "duration": 6,
    "start_time": "2023-06-21T13:16:27.471Z"
   },
   {
    "duration": 45,
    "start_time": "2023-06-21T13:16:27.485Z"
   },
   {
    "duration": 5,
    "start_time": "2023-06-21T13:16:27.532Z"
   },
   {
    "duration": 24,
    "start_time": "2023-06-21T13:16:27.539Z"
   },
   {
    "duration": 17,
    "start_time": "2023-06-21T13:16:27.565Z"
   },
   {
    "duration": 17,
    "start_time": "2023-06-21T13:16:27.584Z"
   },
   {
    "duration": 10,
    "start_time": "2023-06-21T13:16:27.603Z"
   },
   {
    "duration": 12,
    "start_time": "2023-06-21T13:16:27.615Z"
   },
   {
    "duration": 14,
    "start_time": "2023-06-21T13:16:27.628Z"
   },
   {
    "duration": 27,
    "start_time": "2023-06-21T13:16:27.644Z"
   },
   {
    "duration": 16,
    "start_time": "2023-06-21T13:16:27.673Z"
   },
   {
    "duration": 16,
    "start_time": "2023-06-21T13:16:27.690Z"
   },
   {
    "duration": 17,
    "start_time": "2023-06-21T13:16:27.707Z"
   },
   {
    "duration": 4,
    "start_time": "2023-06-21T13:16:27.726Z"
   },
   {
    "duration": 51,
    "start_time": "2023-06-21T13:16:27.731Z"
   },
   {
    "duration": 285,
    "start_time": "2023-06-21T13:16:27.783Z"
   },
   {
    "duration": 16,
    "start_time": "2023-06-21T13:16:28.072Z"
   },
   {
    "duration": 405,
    "start_time": "2023-06-21T13:16:28.090Z"
   },
   {
    "duration": 189,
    "start_time": "2023-06-21T13:16:28.497Z"
   },
   {
    "duration": 20,
    "start_time": "2023-06-21T13:16:28.689Z"
   },
   {
    "duration": 186,
    "start_time": "2023-06-21T13:16:28.711Z"
   },
   {
    "duration": 237,
    "start_time": "2023-06-21T13:16:28.902Z"
   },
   {
    "duration": 27,
    "start_time": "2023-06-21T13:16:29.141Z"
   },
   {
    "duration": 212,
    "start_time": "2023-06-21T13:16:29.174Z"
   },
   {
    "duration": 2197,
    "start_time": "2023-06-21T13:16:29.388Z"
   },
   {
    "duration": 168,
    "start_time": "2023-06-21T13:16:31.587Z"
   },
   {
    "duration": 36,
    "start_time": "2023-06-21T13:16:31.758Z"
   },
   {
    "duration": 345,
    "start_time": "2023-06-21T13:16:31.795Z"
   },
   {
    "duration": 636,
    "start_time": "2023-06-21T13:16:32.141Z"
   },
   {
    "duration": 20,
    "start_time": "2023-06-21T13:16:32.779Z"
   },
   {
    "duration": 130,
    "start_time": "2023-06-21T13:16:32.801Z"
   },
   {
    "duration": 52,
    "start_time": "2023-06-21T13:16:32.934Z"
   },
   {
    "duration": 11,
    "start_time": "2023-06-21T13:16:32.988Z"
   },
   {
    "duration": 28,
    "start_time": "2023-06-21T13:16:33.001Z"
   },
   {
    "duration": 57,
    "start_time": "2023-06-21T13:16:33.031Z"
   },
   {
    "duration": 68,
    "start_time": "2023-06-21T13:16:33.090Z"
   },
   {
    "duration": 136,
    "start_time": "2023-06-21T13:16:33.161Z"
   },
   {
    "duration": 129,
    "start_time": "2023-06-21T13:16:33.299Z"
   },
   {
    "duration": 11,
    "start_time": "2023-06-21T13:16:33.430Z"
   },
   {
    "duration": 45,
    "start_time": "2023-06-21T13:16:33.443Z"
   },
   {
    "duration": 6,
    "start_time": "2023-06-21T13:16:33.490Z"
   },
   {
    "duration": 25,
    "start_time": "2023-06-21T13:16:33.498Z"
   },
   {
    "duration": 43,
    "start_time": "2023-06-21T13:16:33.525Z"
   },
   {
    "duration": 50,
    "start_time": "2023-06-21T13:16:33.570Z"
   },
   {
    "duration": 510,
    "start_time": "2023-06-21T13:16:33.622Z"
   },
   {
    "duration": 1372,
    "start_time": "2023-06-21T13:17:48.469Z"
   },
   {
    "duration": 1058,
    "start_time": "2023-06-21T13:17:49.843Z"
   },
   {
    "duration": 5,
    "start_time": "2023-06-21T13:17:50.903Z"
   },
   {
    "duration": 19,
    "start_time": "2023-06-21T13:17:50.910Z"
   },
   {
    "duration": 9,
    "start_time": "2023-06-21T13:17:50.931Z"
   },
   {
    "duration": 42,
    "start_time": "2023-06-21T13:17:50.942Z"
   },
   {
    "duration": 6,
    "start_time": "2023-06-21T13:17:50.985Z"
   },
   {
    "duration": 27,
    "start_time": "2023-06-21T13:17:50.993Z"
   },
   {
    "duration": 6,
    "start_time": "2023-06-21T13:17:51.022Z"
   },
   {
    "duration": 12,
    "start_time": "2023-06-21T13:17:51.031Z"
   },
   {
    "duration": 26,
    "start_time": "2023-06-21T13:17:51.045Z"
   },
   {
    "duration": 11,
    "start_time": "2023-06-21T13:17:51.073Z"
   },
   {
    "duration": 32,
    "start_time": "2023-06-21T13:17:51.086Z"
   },
   {
    "duration": 22,
    "start_time": "2023-06-21T13:17:51.120Z"
   },
   {
    "duration": 28,
    "start_time": "2023-06-21T13:17:51.144Z"
   },
   {
    "duration": 33,
    "start_time": "2023-06-21T13:17:51.174Z"
   },
   {
    "duration": 10,
    "start_time": "2023-06-21T13:17:51.209Z"
   },
   {
    "duration": 20,
    "start_time": "2023-06-21T13:17:51.221Z"
   },
   {
    "duration": 9,
    "start_time": "2023-06-21T13:17:51.243Z"
   },
   {
    "duration": 26,
    "start_time": "2023-06-21T13:17:51.254Z"
   },
   {
    "duration": 13,
    "start_time": "2023-06-21T13:17:51.282Z"
   },
   {
    "duration": 12,
    "start_time": "2023-06-21T13:17:51.297Z"
   },
   {
    "duration": 14,
    "start_time": "2023-06-21T13:17:51.311Z"
   },
   {
    "duration": 52,
    "start_time": "2023-06-21T13:17:51.327Z"
   },
   {
    "duration": 13,
    "start_time": "2023-06-21T13:17:51.381Z"
   },
   {
    "duration": 6,
    "start_time": "2023-06-21T13:17:51.396Z"
   },
   {
    "duration": 24,
    "start_time": "2023-06-21T13:17:51.404Z"
   },
   {
    "duration": 6,
    "start_time": "2023-06-21T13:17:51.433Z"
   },
   {
    "duration": 54,
    "start_time": "2023-06-21T13:17:51.441Z"
   },
   {
    "duration": 16,
    "start_time": "2023-06-21T13:17:51.497Z"
   },
   {
    "duration": 5,
    "start_time": "2023-06-21T13:17:51.514Z"
   },
   {
    "duration": 19,
    "start_time": "2023-06-21T13:17:51.520Z"
   },
   {
    "duration": 12,
    "start_time": "2023-06-21T13:17:51.541Z"
   },
   {
    "duration": 26,
    "start_time": "2023-06-21T13:17:51.555Z"
   },
   {
    "duration": 40,
    "start_time": "2023-06-21T13:17:51.585Z"
   },
   {
    "duration": 7,
    "start_time": "2023-06-21T13:17:51.627Z"
   },
   {
    "duration": 12,
    "start_time": "2023-06-21T13:17:51.636Z"
   },
   {
    "duration": 15,
    "start_time": "2023-06-21T13:17:51.650Z"
   },
   {
    "duration": 37,
    "start_time": "2023-06-21T13:17:51.667Z"
   },
   {
    "duration": 31,
    "start_time": "2023-06-21T13:17:51.706Z"
   },
   {
    "duration": 16,
    "start_time": "2023-06-21T13:17:51.738Z"
   },
   {
    "duration": 17,
    "start_time": "2023-06-21T13:17:51.756Z"
   },
   {
    "duration": 31,
    "start_time": "2023-06-21T13:17:51.774Z"
   },
   {
    "duration": 21,
    "start_time": "2023-06-21T13:17:51.806Z"
   },
   {
    "duration": 17,
    "start_time": "2023-06-21T13:17:51.829Z"
   },
   {
    "duration": 18,
    "start_time": "2023-06-21T13:17:51.848Z"
   },
   {
    "duration": 15,
    "start_time": "2023-06-21T13:17:51.872Z"
   },
   {
    "duration": 20,
    "start_time": "2023-06-21T13:17:51.889Z"
   },
   {
    "duration": 282,
    "start_time": "2023-06-21T13:17:51.911Z"
   },
   {
    "duration": 12,
    "start_time": "2023-06-21T13:17:52.195Z"
   },
   {
    "duration": 446,
    "start_time": "2023-06-21T13:17:52.208Z"
   },
   {
    "duration": 200,
    "start_time": "2023-06-21T13:17:52.655Z"
   },
   {
    "duration": 39,
    "start_time": "2023-06-21T13:17:52.857Z"
   },
   {
    "duration": 177,
    "start_time": "2023-06-21T13:17:52.901Z"
   },
   {
    "duration": 241,
    "start_time": "2023-06-21T13:17:53.082Z"
   },
   {
    "duration": 17,
    "start_time": "2023-06-21T13:17:53.325Z"
   },
   {
    "duration": 241,
    "start_time": "2023-06-21T13:17:53.344Z"
   },
   {
    "duration": 2342,
    "start_time": "2023-06-21T13:17:53.593Z"
   },
   {
    "duration": 176,
    "start_time": "2023-06-21T13:17:55.937Z"
   },
   {
    "duration": 21,
    "start_time": "2023-06-21T13:17:56.115Z"
   },
   {
    "duration": 341,
    "start_time": "2023-06-21T13:17:56.138Z"
   },
   {
    "duration": 627,
    "start_time": "2023-06-21T13:17:56.481Z"
   },
   {
    "duration": 65,
    "start_time": "2023-06-21T13:17:57.110Z"
   },
   {
    "duration": 131,
    "start_time": "2023-06-21T13:17:57.177Z"
   },
   {
    "duration": 16,
    "start_time": "2023-06-21T13:17:57.310Z"
   },
   {
    "duration": 17,
    "start_time": "2023-06-21T13:17:57.327Z"
   },
   {
    "duration": 41,
    "start_time": "2023-06-21T13:17:57.367Z"
   },
   {
    "duration": 14,
    "start_time": "2023-06-21T13:17:57.410Z"
   },
   {
    "duration": 89,
    "start_time": "2023-06-21T13:17:57.425Z"
   },
   {
    "duration": 122,
    "start_time": "2023-06-21T13:17:57.516Z"
   },
   {
    "duration": 162,
    "start_time": "2023-06-21T13:17:57.639Z"
   },
   {
    "duration": 11,
    "start_time": "2023-06-21T13:17:57.803Z"
   },
   {
    "duration": 30,
    "start_time": "2023-06-21T13:17:57.816Z"
   },
   {
    "duration": 33,
    "start_time": "2023-06-21T13:17:57.848Z"
   },
   {
    "duration": 70,
    "start_time": "2023-06-21T13:17:57.884Z"
   },
   {
    "duration": 0,
    "start_time": "2023-06-21T13:17:57.957Z"
   },
   {
    "duration": 0,
    "start_time": "2023-06-21T13:17:57.959Z"
   },
   {
    "duration": 0,
    "start_time": "2023-06-21T13:17:57.960Z"
   },
   {
    "duration": 330,
    "start_time": "2023-06-21T13:18:08.554Z"
   },
   {
    "duration": 92,
    "start_time": "2023-06-21T13:18:15.615Z"
   },
   {
    "duration": 172,
    "start_time": "2023-06-21T13:18:24.178Z"
   },
   {
    "duration": 173,
    "start_time": "2023-06-21T13:18:27.938Z"
   },
   {
    "duration": 1374,
    "start_time": "2023-06-21T13:18:34.373Z"
   },
   {
    "duration": 1328,
    "start_time": "2023-06-21T13:18:35.749Z"
   },
   {
    "duration": 4,
    "start_time": "2023-06-21T13:18:37.078Z"
   },
   {
    "duration": 21,
    "start_time": "2023-06-21T13:18:37.083Z"
   },
   {
    "duration": 8,
    "start_time": "2023-06-21T13:18:37.107Z"
   },
   {
    "duration": 30,
    "start_time": "2023-06-21T13:18:37.117Z"
   },
   {
    "duration": 20,
    "start_time": "2023-06-21T13:18:37.149Z"
   },
   {
    "duration": 29,
    "start_time": "2023-06-21T13:18:37.170Z"
   },
   {
    "duration": 17,
    "start_time": "2023-06-21T13:18:37.201Z"
   },
   {
    "duration": 15,
    "start_time": "2023-06-21T13:18:37.219Z"
   },
   {
    "duration": 14,
    "start_time": "2023-06-21T13:18:37.235Z"
   },
   {
    "duration": 36,
    "start_time": "2023-06-21T13:18:37.251Z"
   },
   {
    "duration": 28,
    "start_time": "2023-06-21T13:18:37.289Z"
   },
   {
    "duration": 21,
    "start_time": "2023-06-21T13:18:37.320Z"
   },
   {
    "duration": 5,
    "start_time": "2023-06-21T13:18:37.343Z"
   },
   {
    "duration": 8,
    "start_time": "2023-06-21T13:18:37.350Z"
   },
   {
    "duration": 9,
    "start_time": "2023-06-21T13:18:37.360Z"
   },
   {
    "duration": 17,
    "start_time": "2023-06-21T13:18:37.371Z"
   },
   {
    "duration": 41,
    "start_time": "2023-06-21T13:18:37.390Z"
   },
   {
    "duration": 25,
    "start_time": "2023-06-21T13:18:37.433Z"
   },
   {
    "duration": 19,
    "start_time": "2023-06-21T13:18:37.460Z"
   },
   {
    "duration": 12,
    "start_time": "2023-06-21T13:18:37.481Z"
   },
   {
    "duration": 17,
    "start_time": "2023-06-21T13:18:37.495Z"
   },
   {
    "duration": 15,
    "start_time": "2023-06-21T13:18:37.514Z"
   },
   {
    "duration": 36,
    "start_time": "2023-06-21T13:18:37.531Z"
   },
   {
    "duration": 4,
    "start_time": "2023-06-21T13:18:37.569Z"
   },
   {
    "duration": 25,
    "start_time": "2023-06-21T13:18:37.574Z"
   },
   {
    "duration": 5,
    "start_time": "2023-06-21T13:18:37.600Z"
   },
   {
    "duration": 35,
    "start_time": "2023-06-21T13:18:37.607Z"
   },
   {
    "duration": 33,
    "start_time": "2023-06-21T13:18:37.644Z"
   },
   {
    "duration": 5,
    "start_time": "2023-06-21T13:18:37.678Z"
   },
   {
    "duration": 9,
    "start_time": "2023-06-21T13:18:37.684Z"
   },
   {
    "duration": 7,
    "start_time": "2023-06-21T13:18:37.695Z"
   },
   {
    "duration": 6,
    "start_time": "2023-06-21T13:18:37.704Z"
   },
   {
    "duration": 57,
    "start_time": "2023-06-21T13:18:37.711Z"
   },
   {
    "duration": 9,
    "start_time": "2023-06-21T13:18:37.770Z"
   },
   {
    "duration": 5,
    "start_time": "2023-06-21T13:18:37.781Z"
   },
   {
    "duration": 18,
    "start_time": "2023-06-21T13:18:37.788Z"
   },
   {
    "duration": 16,
    "start_time": "2023-06-21T13:18:37.808Z"
   },
   {
    "duration": 15,
    "start_time": "2023-06-21T13:18:37.826Z"
   },
   {
    "duration": 26,
    "start_time": "2023-06-21T13:18:37.847Z"
   },
   {
    "duration": 6,
    "start_time": "2023-06-21T13:18:37.875Z"
   },
   {
    "duration": 14,
    "start_time": "2023-06-21T13:18:37.882Z"
   },
   {
    "duration": 17,
    "start_time": "2023-06-21T13:18:37.898Z"
   },
   {
    "duration": 15,
    "start_time": "2023-06-21T13:18:37.917Z"
   },
   {
    "duration": 42,
    "start_time": "2023-06-21T13:18:37.934Z"
   },
   {
    "duration": 4,
    "start_time": "2023-06-21T13:18:37.978Z"
   },
   {
    "duration": 15,
    "start_time": "2023-06-21T13:18:37.984Z"
   },
   {
    "duration": 299,
    "start_time": "2023-06-21T13:18:38.001Z"
   },
   {
    "duration": 10,
    "start_time": "2023-06-21T13:18:38.301Z"
   },
   {
    "duration": 383,
    "start_time": "2023-06-21T13:18:38.313Z"
   },
   {
    "duration": 177,
    "start_time": "2023-06-21T13:18:38.698Z"
   },
   {
    "duration": 25,
    "start_time": "2023-06-21T13:18:38.877Z"
   },
   {
    "duration": 188,
    "start_time": "2023-06-21T13:18:38.905Z"
   },
   {
    "duration": 244,
    "start_time": "2023-06-21T13:18:39.095Z"
   },
   {
    "duration": 17,
    "start_time": "2023-06-21T13:18:39.340Z"
   },
   {
    "duration": 222,
    "start_time": "2023-06-21T13:18:39.358Z"
   },
   {
    "duration": 2090,
    "start_time": "2023-06-21T13:18:39.582Z"
   },
   {
    "duration": 168,
    "start_time": "2023-06-21T13:18:41.674Z"
   },
   {
    "duration": 34,
    "start_time": "2023-06-21T13:18:41.843Z"
   },
   {
    "duration": 312,
    "start_time": "2023-06-21T13:18:41.879Z"
   },
   {
    "duration": 574,
    "start_time": "2023-06-21T13:18:42.193Z"
   },
   {
    "duration": 14,
    "start_time": "2023-06-21T13:18:42.770Z"
   },
   {
    "duration": 118,
    "start_time": "2023-06-21T13:18:42.786Z"
   },
   {
    "duration": 16,
    "start_time": "2023-06-21T13:18:42.907Z"
   },
   {
    "duration": 51,
    "start_time": "2023-06-21T13:18:42.924Z"
   },
   {
    "duration": 38,
    "start_time": "2023-06-21T13:18:42.977Z"
   },
   {
    "duration": 15,
    "start_time": "2023-06-21T13:18:43.017Z"
   },
   {
    "duration": 74,
    "start_time": "2023-06-21T13:18:43.034Z"
   },
   {
    "duration": 130,
    "start_time": "2023-06-21T13:18:43.110Z"
   },
   {
    "duration": 143,
    "start_time": "2023-06-21T13:18:43.243Z"
   },
   {
    "duration": 12,
    "start_time": "2023-06-21T13:18:43.388Z"
   },
   {
    "duration": 32,
    "start_time": "2023-06-21T13:18:43.402Z"
   },
   {
    "duration": 27,
    "start_time": "2023-06-21T13:18:43.436Z"
   },
   {
    "duration": 81,
    "start_time": "2023-06-21T13:18:43.465Z"
   },
   {
    "duration": 0,
    "start_time": "2023-06-21T13:18:43.547Z"
   },
   {
    "duration": 0,
    "start_time": "2023-06-21T13:18:43.549Z"
   },
   {
    "duration": 0,
    "start_time": "2023-06-21T13:18:43.550Z"
   },
   {
    "duration": 208,
    "start_time": "2023-06-21T13:19:07.515Z"
   },
   {
    "duration": 20,
    "start_time": "2023-06-21T13:19:10.534Z"
   },
   {
    "duration": 1354,
    "start_time": "2023-06-21T13:19:22.277Z"
   },
   {
    "duration": 941,
    "start_time": "2023-06-21T13:19:23.633Z"
   },
   {
    "duration": 5,
    "start_time": "2023-06-21T13:19:24.575Z"
   },
   {
    "duration": 26,
    "start_time": "2023-06-21T13:19:24.583Z"
   },
   {
    "duration": 9,
    "start_time": "2023-06-21T13:19:24.612Z"
   },
   {
    "duration": 17,
    "start_time": "2023-06-21T13:19:24.623Z"
   },
   {
    "duration": 27,
    "start_time": "2023-06-21T13:19:24.642Z"
   },
   {
    "duration": 27,
    "start_time": "2023-06-21T13:19:24.671Z"
   },
   {
    "duration": 16,
    "start_time": "2023-06-21T13:19:24.699Z"
   },
   {
    "duration": 7,
    "start_time": "2023-06-21T13:19:24.718Z"
   },
   {
    "duration": 17,
    "start_time": "2023-06-21T13:19:24.727Z"
   },
   {
    "duration": 11,
    "start_time": "2023-06-21T13:19:24.746Z"
   },
   {
    "duration": 17,
    "start_time": "2023-06-21T13:19:24.767Z"
   },
   {
    "duration": 19,
    "start_time": "2023-06-21T13:19:24.786Z"
   },
   {
    "duration": 6,
    "start_time": "2023-06-21T13:19:24.806Z"
   },
   {
    "duration": 9,
    "start_time": "2023-06-21T13:19:24.813Z"
   },
   {
    "duration": 12,
    "start_time": "2023-06-21T13:19:24.824Z"
   },
   {
    "duration": 7,
    "start_time": "2023-06-21T13:19:24.867Z"
   },
   {
    "duration": 10,
    "start_time": "2023-06-21T13:19:24.876Z"
   },
   {
    "duration": 17,
    "start_time": "2023-06-21T13:19:24.888Z"
   },
   {
    "duration": 15,
    "start_time": "2023-06-21T13:19:24.907Z"
   },
   {
    "duration": 44,
    "start_time": "2023-06-21T13:19:24.923Z"
   },
   {
    "duration": 15,
    "start_time": "2023-06-21T13:19:24.969Z"
   },
   {
    "duration": 12,
    "start_time": "2023-06-21T13:19:24.986Z"
   },
   {
    "duration": 11,
    "start_time": "2023-06-21T13:19:24.999Z"
   },
   {
    "duration": 6,
    "start_time": "2023-06-21T13:19:25.011Z"
   },
   {
    "duration": 52,
    "start_time": "2023-06-21T13:19:25.018Z"
   },
   {
    "duration": 7,
    "start_time": "2023-06-21T13:19:25.076Z"
   },
   {
    "duration": 38,
    "start_time": "2023-06-21T13:19:25.085Z"
   },
   {
    "duration": 17,
    "start_time": "2023-06-21T13:19:25.125Z"
   },
   {
    "duration": 23,
    "start_time": "2023-06-21T13:19:25.144Z"
   },
   {
    "duration": 17,
    "start_time": "2023-06-21T13:19:25.169Z"
   },
   {
    "duration": 10,
    "start_time": "2023-06-21T13:19:25.188Z"
   },
   {
    "duration": 12,
    "start_time": "2023-06-21T13:19:25.200Z"
   },
   {
    "duration": 29,
    "start_time": "2023-06-21T13:19:25.214Z"
   },
   {
    "duration": 23,
    "start_time": "2023-06-21T13:19:25.245Z"
   },
   {
    "duration": 9,
    "start_time": "2023-06-21T13:19:25.270Z"
   },
   {
    "duration": 25,
    "start_time": "2023-06-21T13:19:25.281Z"
   },
   {
    "duration": 36,
    "start_time": "2023-06-21T13:19:25.307Z"
   },
   {
    "duration": 23,
    "start_time": "2023-06-21T13:19:25.345Z"
   },
   {
    "duration": 25,
    "start_time": "2023-06-21T13:19:25.370Z"
   },
   {
    "duration": 14,
    "start_time": "2023-06-21T13:19:25.397Z"
   },
   {
    "duration": 13,
    "start_time": "2023-06-21T13:19:25.413Z"
   },
   {
    "duration": 26,
    "start_time": "2023-06-21T13:19:25.428Z"
   },
   {
    "duration": 21,
    "start_time": "2023-06-21T13:19:25.456Z"
   },
   {
    "duration": 25,
    "start_time": "2023-06-21T13:19:25.479Z"
   },
   {
    "duration": 5,
    "start_time": "2023-06-21T13:19:25.505Z"
   },
   {
    "duration": 30,
    "start_time": "2023-06-21T13:19:25.512Z"
   },
   {
    "duration": 295,
    "start_time": "2023-06-21T13:19:25.544Z"
   },
   {
    "duration": 11,
    "start_time": "2023-06-21T13:19:25.841Z"
   },
   {
    "duration": 395,
    "start_time": "2023-06-21T13:19:25.854Z"
   },
   {
    "duration": 172,
    "start_time": "2023-06-21T13:19:26.251Z"
   },
   {
    "duration": 21,
    "start_time": "2023-06-21T13:19:26.425Z"
   },
   {
    "duration": 182,
    "start_time": "2023-06-21T13:19:26.449Z"
   },
   {
    "duration": 239,
    "start_time": "2023-06-21T13:19:26.633Z"
   },
   {
    "duration": 23,
    "start_time": "2023-06-21T13:19:26.874Z"
   },
   {
    "duration": 217,
    "start_time": "2023-06-21T13:19:26.899Z"
   },
   {
    "duration": 2097,
    "start_time": "2023-06-21T13:19:27.118Z"
   },
   {
    "duration": 161,
    "start_time": "2023-06-21T13:19:29.216Z"
   },
   {
    "duration": 21,
    "start_time": "2023-06-21T13:19:29.379Z"
   },
   {
    "duration": 296,
    "start_time": "2023-06-21T13:19:29.402Z"
   },
   {
    "duration": 537,
    "start_time": "2023-06-21T13:19:29.700Z"
   },
   {
    "duration": 40,
    "start_time": "2023-06-21T13:19:30.239Z"
   },
   {
    "duration": 119,
    "start_time": "2023-06-21T13:19:30.281Z"
   },
   {
    "duration": 14,
    "start_time": "2023-06-21T13:19:30.402Z"
   },
   {
    "duration": 47,
    "start_time": "2023-06-21T13:19:30.418Z"
   },
   {
    "duration": 60,
    "start_time": "2023-06-21T13:19:30.467Z"
   },
   {
    "duration": 69,
    "start_time": "2023-06-21T13:19:30.529Z"
   },
   {
    "duration": 75,
    "start_time": "2023-06-21T13:19:30.599Z"
   },
   {
    "duration": 113,
    "start_time": "2023-06-21T13:19:30.676Z"
   },
   {
    "duration": 149,
    "start_time": "2023-06-21T13:19:30.791Z"
   },
   {
    "duration": 25,
    "start_time": "2023-06-21T13:19:30.943Z"
   },
   {
    "duration": 59,
    "start_time": "2023-06-21T13:19:30.970Z"
   },
   {
    "duration": 88,
    "start_time": "2023-06-21T13:19:31.031Z"
   },
   {
    "duration": 116,
    "start_time": "2023-06-21T13:19:31.121Z"
   },
   {
    "duration": 78,
    "start_time": "2023-06-21T13:19:31.239Z"
   },
   {
    "duration": 114,
    "start_time": "2023-06-21T13:19:31.319Z"
   },
   {
    "duration": 498,
    "start_time": "2023-06-21T13:19:31.435Z"
   },
   {
    "duration": 589,
    "start_time": "2023-06-21T13:20:46.249Z"
   },
   {
    "duration": 12,
    "start_time": "2023-06-21T16:07:42.508Z"
   },
   {
    "duration": 216,
    "start_time": "2023-06-21T16:09:09.217Z"
   },
   {
    "duration": 250,
    "start_time": "2023-06-21T16:12:35.206Z"
   },
   {
    "duration": 319,
    "start_time": "2023-06-21T16:18:46.240Z"
   },
   {
    "duration": 330,
    "start_time": "2023-06-21T16:18:58.440Z"
   },
   {
    "duration": 484,
    "start_time": "2023-06-21T16:19:21.150Z"
   },
   {
    "duration": 378,
    "start_time": "2023-06-21T16:21:47.705Z"
   },
   {
    "duration": 356,
    "start_time": "2023-06-21T16:21:52.260Z"
   },
   {
    "duration": 326,
    "start_time": "2023-06-21T16:22:45.449Z"
   },
   {
    "duration": 300,
    "start_time": "2023-06-21T16:22:49.921Z"
   },
   {
    "duration": 12,
    "start_time": "2023-06-21T16:29:08.932Z"
   },
   {
    "duration": 213,
    "start_time": "2023-06-21T16:31:01.587Z"
   },
   {
    "duration": 15,
    "start_time": "2023-06-21T16:31:14.260Z"
   },
   {
    "duration": 101,
    "start_time": "2023-06-21T16:31:29.562Z"
   },
   {
    "duration": 11,
    "start_time": "2023-06-21T16:31:38.987Z"
   },
   {
    "duration": 103,
    "start_time": "2023-06-21T16:31:51.561Z"
   },
   {
    "duration": 113,
    "start_time": "2023-06-21T16:31:58.831Z"
   },
   {
    "duration": 116,
    "start_time": "2023-06-21T16:32:04.895Z"
   },
   {
    "duration": 98,
    "start_time": "2023-06-21T16:32:26.343Z"
   },
   {
    "duration": 102,
    "start_time": "2023-06-21T16:32:36.240Z"
   },
   {
    "duration": 98,
    "start_time": "2023-06-21T16:32:45.730Z"
   },
   {
    "duration": 105,
    "start_time": "2023-06-21T16:32:55.603Z"
   },
   {
    "duration": 101,
    "start_time": "2023-06-21T16:33:05.189Z"
   },
   {
    "duration": 97,
    "start_time": "2023-06-21T16:33:30.212Z"
   },
   {
    "duration": 95,
    "start_time": "2023-06-21T16:33:54.434Z"
   },
   {
    "duration": 9,
    "start_time": "2023-06-21T16:34:21.629Z"
   },
   {
    "duration": 11,
    "start_time": "2023-06-21T16:34:46.822Z"
   },
   {
    "duration": 1116,
    "start_time": "2023-06-21T16:35:13.491Z"
   },
   {
    "duration": 11,
    "start_time": "2023-06-21T16:37:40.239Z"
   },
   {
    "duration": 10,
    "start_time": "2023-06-21T16:38:10.027Z"
   },
   {
    "duration": 1326,
    "start_time": "2023-06-21T16:38:15.513Z"
   },
   {
    "duration": 913,
    "start_time": "2023-06-21T16:38:16.841Z"
   },
   {
    "duration": 5,
    "start_time": "2023-06-21T16:38:17.756Z"
   },
   {
    "duration": 25,
    "start_time": "2023-06-21T16:38:17.762Z"
   },
   {
    "duration": 15,
    "start_time": "2023-06-21T16:38:17.789Z"
   },
   {
    "duration": 33,
    "start_time": "2023-06-21T16:38:17.806Z"
   },
   {
    "duration": 11,
    "start_time": "2023-06-21T16:38:17.841Z"
   },
   {
    "duration": 42,
    "start_time": "2023-06-21T16:38:17.853Z"
   },
   {
    "duration": 5,
    "start_time": "2023-06-21T16:38:17.896Z"
   },
   {
    "duration": 49,
    "start_time": "2023-06-21T16:38:17.904Z"
   },
   {
    "duration": 22,
    "start_time": "2023-06-21T16:38:17.955Z"
   },
   {
    "duration": 29,
    "start_time": "2023-06-21T16:38:17.979Z"
   },
   {
    "duration": 22,
    "start_time": "2023-06-21T16:38:18.009Z"
   },
   {
    "duration": 20,
    "start_time": "2023-06-21T16:38:18.033Z"
   },
   {
    "duration": 6,
    "start_time": "2023-06-21T16:38:18.054Z"
   },
   {
    "duration": 16,
    "start_time": "2023-06-21T16:38:18.061Z"
   },
   {
    "duration": 6,
    "start_time": "2023-06-21T16:38:18.081Z"
   },
   {
    "duration": 6,
    "start_time": "2023-06-21T16:38:18.089Z"
   },
   {
    "duration": 5,
    "start_time": "2023-06-21T16:38:18.096Z"
   },
   {
    "duration": 19,
    "start_time": "2023-06-21T16:38:18.102Z"
   },
   {
    "duration": 13,
    "start_time": "2023-06-21T16:38:18.122Z"
   },
   {
    "duration": 36,
    "start_time": "2023-06-21T16:38:18.137Z"
   },
   {
    "duration": 17,
    "start_time": "2023-06-21T16:38:18.174Z"
   },
   {
    "duration": 13,
    "start_time": "2023-06-21T16:38:18.193Z"
   },
   {
    "duration": 19,
    "start_time": "2023-06-21T16:38:18.208Z"
   },
   {
    "duration": 5,
    "start_time": "2023-06-21T16:38:18.229Z"
   },
   {
    "duration": 52,
    "start_time": "2023-06-21T16:38:18.236Z"
   },
   {
    "duration": 5,
    "start_time": "2023-06-21T16:38:18.292Z"
   },
   {
    "duration": 32,
    "start_time": "2023-06-21T16:38:18.299Z"
   },
   {
    "duration": 35,
    "start_time": "2023-06-21T16:38:18.333Z"
   },
   {
    "duration": 7,
    "start_time": "2023-06-21T16:38:18.377Z"
   },
   {
    "duration": 19,
    "start_time": "2023-06-21T16:38:18.385Z"
   },
   {
    "duration": 24,
    "start_time": "2023-06-21T16:38:18.406Z"
   },
   {
    "duration": 10,
    "start_time": "2023-06-21T16:38:18.432Z"
   },
   {
    "duration": 42,
    "start_time": "2023-06-21T16:38:18.443Z"
   },
   {
    "duration": 7,
    "start_time": "2023-06-21T16:38:18.487Z"
   },
   {
    "duration": 13,
    "start_time": "2023-06-21T16:38:18.495Z"
   },
   {
    "duration": 15,
    "start_time": "2023-06-21T16:38:18.509Z"
   },
   {
    "duration": 13,
    "start_time": "2023-06-21T16:38:18.526Z"
   },
   {
    "duration": 27,
    "start_time": "2023-06-21T16:38:18.541Z"
   },
   {
    "duration": 22,
    "start_time": "2023-06-21T16:38:18.576Z"
   },
   {
    "duration": 12,
    "start_time": "2023-06-21T16:38:18.600Z"
   },
   {
    "duration": 9,
    "start_time": "2023-06-21T16:38:18.614Z"
   },
   {
    "duration": 14,
    "start_time": "2023-06-21T16:38:18.625Z"
   },
   {
    "duration": 33,
    "start_time": "2023-06-21T16:38:18.641Z"
   },
   {
    "duration": 25,
    "start_time": "2023-06-21T16:38:18.678Z"
   },
   {
    "duration": 9,
    "start_time": "2023-06-21T16:38:18.705Z"
   },
   {
    "duration": 14,
    "start_time": "2023-06-21T16:38:18.716Z"
   },
   {
    "duration": 316,
    "start_time": "2023-06-21T16:38:18.732Z"
   },
   {
    "duration": 30,
    "start_time": "2023-06-21T16:38:19.050Z"
   },
   {
    "duration": 431,
    "start_time": "2023-06-21T16:38:19.084Z"
   },
   {
    "duration": 198,
    "start_time": "2023-06-21T16:38:19.517Z"
   },
   {
    "duration": 27,
    "start_time": "2023-06-21T16:38:19.717Z"
   },
   {
    "duration": 208,
    "start_time": "2023-06-21T16:38:19.746Z"
   },
   {
    "duration": 243,
    "start_time": "2023-06-21T16:38:19.955Z"
   },
   {
    "duration": 17,
    "start_time": "2023-06-21T16:38:20.199Z"
   },
   {
    "duration": 237,
    "start_time": "2023-06-21T16:38:20.218Z"
   },
   {
    "duration": 2246,
    "start_time": "2023-06-21T16:38:20.457Z"
   },
   {
    "duration": 186,
    "start_time": "2023-06-21T16:38:22.705Z"
   },
   {
    "duration": 27,
    "start_time": "2023-06-21T16:38:22.895Z"
   },
   {
    "duration": 340,
    "start_time": "2023-06-21T16:38:22.923Z"
   },
   {
    "duration": 11,
    "start_time": "2023-06-21T16:38:23.267Z"
   },
   {
    "duration": 602,
    "start_time": "2023-06-21T16:38:23.280Z"
   },
   {
    "duration": 27,
    "start_time": "2023-06-21T16:38:23.884Z"
   },
   {
    "duration": 13,
    "start_time": "2023-06-21T16:38:23.913Z"
   },
   {
    "duration": 29,
    "start_time": "2023-06-21T16:38:23.967Z"
   },
   {
    "duration": 128,
    "start_time": "2023-06-21T16:38:24.000Z"
   },
   {
    "duration": 14,
    "start_time": "2023-06-21T16:38:24.131Z"
   },
   {
    "duration": 32,
    "start_time": "2023-06-21T16:38:24.147Z"
   },
   {
    "duration": 35,
    "start_time": "2023-06-21T16:38:24.182Z"
   },
   {
    "duration": 15,
    "start_time": "2023-06-21T16:38:24.219Z"
   },
   {
    "duration": 137,
    "start_time": "2023-06-21T16:38:24.237Z"
   },
   {
    "duration": 120,
    "start_time": "2023-06-21T16:38:24.376Z"
   },
   {
    "duration": 133,
    "start_time": "2023-06-21T16:38:24.498Z"
   },
   {
    "duration": 12,
    "start_time": "2023-06-21T16:38:24.633Z"
   },
   {
    "duration": 42,
    "start_time": "2023-06-21T16:38:24.647Z"
   },
   {
    "duration": 8,
    "start_time": "2023-06-21T16:38:24.692Z"
   },
   {
    "duration": 37,
    "start_time": "2023-06-21T16:38:24.702Z"
   },
   {
    "duration": 38,
    "start_time": "2023-06-21T16:38:24.741Z"
   },
   {
    "duration": 49,
    "start_time": "2023-06-21T16:38:24.781Z"
   },
   {
    "duration": 492,
    "start_time": "2023-06-21T16:38:24.832Z"
   },
   {
    "duration": 220,
    "start_time": "2023-06-21T16:39:28.320Z"
   },
   {
    "duration": 326,
    "start_time": "2023-06-21T17:18:45.007Z"
   },
   {
    "duration": 13,
    "start_time": "2023-06-21T17:22:44.247Z"
   },
   {
    "duration": 11,
    "start_time": "2023-06-21T17:23:07.656Z"
   },
   {
    "duration": 13,
    "start_time": "2023-06-21T17:29:12.450Z"
   },
   {
    "duration": 21,
    "start_time": "2023-06-21T17:29:35.067Z"
   },
   {
    "duration": 16,
    "start_time": "2023-06-21T17:30:48.720Z"
   },
   {
    "duration": 78,
    "start_time": "2023-06-21T17:31:20.141Z"
   },
   {
    "duration": 17,
    "start_time": "2023-06-21T17:31:26.363Z"
   },
   {
    "duration": 16,
    "start_time": "2023-06-21T17:31:35.089Z"
   },
   {
    "duration": 72,
    "start_time": "2023-06-21T17:33:17.524Z"
   },
   {
    "duration": 353,
    "start_time": "2023-06-21T17:33:25.055Z"
   },
   {
    "duration": 99,
    "start_time": "2023-06-21T17:33:39.103Z"
   },
   {
    "duration": 13,
    "start_time": "2023-06-21T17:40:17.556Z"
   },
   {
    "duration": 25,
    "start_time": "2023-06-21T17:47:12.493Z"
   },
   {
    "duration": 12,
    "start_time": "2023-06-21T17:47:25.496Z"
   },
   {
    "duration": 16,
    "start_time": "2023-06-21T17:47:39.635Z"
   },
   {
    "duration": 220,
    "start_time": "2023-06-21T17:53:31.492Z"
   },
   {
    "duration": 194,
    "start_time": "2023-06-21T17:53:49.433Z"
   },
   {
    "duration": 23,
    "start_time": "2023-06-21T18:10:44.722Z"
   },
   {
    "duration": 28,
    "start_time": "2023-06-21T18:10:51.590Z"
   },
   {
    "duration": 22,
    "start_time": "2023-06-21T18:11:29.222Z"
   },
   {
    "duration": 40,
    "start_time": "2023-06-21T18:16:25.209Z"
   },
   {
    "duration": 725,
    "start_time": "2023-06-21T18:16:41.954Z"
   },
   {
    "duration": 51,
    "start_time": "2023-06-21T18:17:16.010Z"
   },
   {
    "duration": 907,
    "start_time": "2023-06-21T18:17:20.147Z"
   },
   {
    "duration": 1309,
    "start_time": "2023-06-21T18:17:29.222Z"
   },
   {
    "duration": 1110,
    "start_time": "2023-06-21T18:17:30.533Z"
   },
   {
    "duration": 5,
    "start_time": "2023-06-21T18:17:31.645Z"
   },
   {
    "duration": 58,
    "start_time": "2023-06-21T18:17:31.653Z"
   },
   {
    "duration": 46,
    "start_time": "2023-06-21T18:17:31.713Z"
   },
   {
    "duration": 69,
    "start_time": "2023-06-21T18:17:31.761Z"
   },
   {
    "duration": 65,
    "start_time": "2023-06-21T18:17:31.831Z"
   },
   {
    "duration": 73,
    "start_time": "2023-06-21T18:17:31.897Z"
   },
   {
    "duration": 38,
    "start_time": "2023-06-21T18:17:31.980Z"
   },
   {
    "duration": 58,
    "start_time": "2023-06-21T18:17:32.022Z"
   },
   {
    "duration": 37,
    "start_time": "2023-06-21T18:17:32.084Z"
   },
   {
    "duration": 26,
    "start_time": "2023-06-21T18:17:32.123Z"
   },
   {
    "duration": 40,
    "start_time": "2023-06-21T18:17:32.151Z"
   },
   {
    "duration": 20,
    "start_time": "2023-06-21T18:17:32.193Z"
   },
   {
    "duration": 22,
    "start_time": "2023-06-21T18:17:32.214Z"
   },
   {
    "duration": 25,
    "start_time": "2023-06-21T18:17:32.238Z"
   },
   {
    "duration": 23,
    "start_time": "2023-06-21T18:17:32.265Z"
   },
   {
    "duration": 29,
    "start_time": "2023-06-21T18:17:32.291Z"
   },
   {
    "duration": 39,
    "start_time": "2023-06-21T18:17:32.322Z"
   },
   {
    "duration": 41,
    "start_time": "2023-06-21T18:17:32.364Z"
   },
   {
    "duration": 17,
    "start_time": "2023-06-21T18:17:32.407Z"
   },
   {
    "duration": 15,
    "start_time": "2023-06-21T18:17:32.427Z"
   },
   {
    "duration": 21,
    "start_time": "2023-06-21T18:17:32.445Z"
   },
   {
    "duration": 17,
    "start_time": "2023-06-21T18:17:32.472Z"
   },
   {
    "duration": 26,
    "start_time": "2023-06-21T18:17:32.493Z"
   },
   {
    "duration": 15,
    "start_time": "2023-06-21T18:17:32.522Z"
   },
   {
    "duration": 26,
    "start_time": "2023-06-21T18:17:32.539Z"
   },
   {
    "duration": 17,
    "start_time": "2023-06-21T18:17:32.569Z"
   },
   {
    "duration": 30,
    "start_time": "2023-06-21T18:17:32.591Z"
   },
   {
    "duration": 29,
    "start_time": "2023-06-21T18:17:32.623Z"
   },
   {
    "duration": 6,
    "start_time": "2023-06-21T18:17:32.657Z"
   },
   {
    "duration": 20,
    "start_time": "2023-06-21T18:17:32.665Z"
   },
   {
    "duration": 16,
    "start_time": "2023-06-21T18:17:32.686Z"
   },
   {
    "duration": 12,
    "start_time": "2023-06-21T18:17:32.704Z"
   },
   {
    "duration": 64,
    "start_time": "2023-06-21T18:17:32.718Z"
   },
   {
    "duration": 7,
    "start_time": "2023-06-21T18:17:32.784Z"
   },
   {
    "duration": 26,
    "start_time": "2023-06-21T18:17:32.794Z"
   },
   {
    "duration": 51,
    "start_time": "2023-06-21T18:17:32.822Z"
   },
   {
    "duration": 15,
    "start_time": "2023-06-21T18:17:32.875Z"
   },
   {
    "duration": 15,
    "start_time": "2023-06-21T18:17:32.893Z"
   },
   {
    "duration": 10,
    "start_time": "2023-06-21T18:17:32.910Z"
   },
   {
    "duration": 6,
    "start_time": "2023-06-21T18:17:32.922Z"
   },
   {
    "duration": 40,
    "start_time": "2023-06-21T18:17:32.930Z"
   },
   {
    "duration": 17,
    "start_time": "2023-06-21T18:17:32.972Z"
   },
   {
    "duration": 15,
    "start_time": "2023-06-21T18:17:32.991Z"
   },
   {
    "duration": 70,
    "start_time": "2023-06-21T18:17:33.009Z"
   },
   {
    "duration": 12,
    "start_time": "2023-06-21T18:17:33.081Z"
   },
   {
    "duration": 12,
    "start_time": "2023-06-21T18:17:33.095Z"
   },
   {
    "duration": 436,
    "start_time": "2023-06-21T18:17:33.109Z"
   },
   {
    "duration": 23,
    "start_time": "2023-06-21T18:17:33.547Z"
   },
   {
    "duration": 397,
    "start_time": "2023-06-21T18:17:33.572Z"
   },
   {
    "duration": 227,
    "start_time": "2023-06-21T18:17:33.971Z"
   },
   {
    "duration": 24,
    "start_time": "2023-06-21T18:17:34.199Z"
   },
   {
    "duration": 212,
    "start_time": "2023-06-21T18:17:34.226Z"
   },
   {
    "duration": 284,
    "start_time": "2023-06-21T18:17:34.440Z"
   },
   {
    "duration": 334,
    "start_time": "2023-06-21T18:17:34.726Z"
   },
   {
    "duration": 25,
    "start_time": "2023-06-21T18:17:35.062Z"
   },
   {
    "duration": 210,
    "start_time": "2023-06-21T18:17:35.090Z"
   },
   {
    "duration": 2115,
    "start_time": "2023-06-21T18:17:35.302Z"
   },
   {
    "duration": 177,
    "start_time": "2023-06-21T18:17:37.419Z"
   },
   {
    "duration": 21,
    "start_time": "2023-06-21T18:17:37.598Z"
   },
   {
    "duration": 322,
    "start_time": "2023-06-21T18:17:37.620Z"
   },
   {
    "duration": 8,
    "start_time": "2023-06-21T18:17:37.944Z"
   },
   {
    "duration": 421,
    "start_time": "2023-06-21T18:17:37.967Z"
   },
   {
    "duration": 12,
    "start_time": "2023-06-21T18:17:38.390Z"
   },
   {
    "duration": 17,
    "start_time": "2023-06-21T18:17:38.404Z"
   },
   {
    "duration": 58,
    "start_time": "2023-06-21T18:17:38.423Z"
   },
   {
    "duration": 66,
    "start_time": "2023-06-21T18:17:38.485Z"
   },
   {
    "duration": 24,
    "start_time": "2023-06-21T18:17:38.552Z"
   },
   {
    "duration": 29,
    "start_time": "2023-06-21T18:17:38.578Z"
   },
   {
    "duration": 35,
    "start_time": "2023-06-21T18:17:38.609Z"
   },
   {
    "duration": 14,
    "start_time": "2023-06-21T18:17:38.646Z"
   },
   {
    "duration": 79,
    "start_time": "2023-06-21T18:17:38.662Z"
   },
   {
    "duration": 124,
    "start_time": "2023-06-21T18:17:38.743Z"
   },
   {
    "duration": 139,
    "start_time": "2023-06-21T18:17:38.873Z"
   },
   {
    "duration": 11,
    "start_time": "2023-06-21T18:17:39.014Z"
   },
   {
    "duration": 41,
    "start_time": "2023-06-21T18:17:39.027Z"
   },
   {
    "duration": 18,
    "start_time": "2023-06-21T18:17:39.072Z"
   },
   {
    "duration": 22,
    "start_time": "2023-06-21T18:17:39.092Z"
   },
   {
    "duration": 21,
    "start_time": "2023-06-21T18:17:39.115Z"
   },
   {
    "duration": 69,
    "start_time": "2023-06-21T18:17:39.137Z"
   },
   {
    "duration": 575,
    "start_time": "2023-06-21T18:17:39.211Z"
   },
   {
    "duration": 64,
    "start_time": "2023-06-21T18:27:02.506Z"
   },
   {
    "duration": 23,
    "start_time": "2023-06-21T18:32:59.485Z"
   },
   {
    "duration": 31,
    "start_time": "2023-06-21T18:33:11.699Z"
   },
   {
    "duration": 24,
    "start_time": "2023-06-21T18:33:25.358Z"
   },
   {
    "duration": 65,
    "start_time": "2023-06-21T18:34:46.567Z"
   },
   {
    "duration": 138,
    "start_time": "2023-06-21T18:36:01.748Z"
   },
   {
    "duration": 27,
    "start_time": "2023-06-21T18:36:10.687Z"
   },
   {
    "duration": 34,
    "start_time": "2023-06-21T18:36:40.140Z"
   },
   {
    "duration": 26,
    "start_time": "2023-06-21T18:36:48.289Z"
   },
   {
    "duration": 25,
    "start_time": "2023-06-21T18:37:01.158Z"
   },
   {
    "duration": 32,
    "start_time": "2023-06-21T18:37:07.210Z"
   },
   {
    "duration": 34,
    "start_time": "2023-06-21T18:38:43.449Z"
   },
   {
    "duration": 84,
    "start_time": "2023-06-21T18:38:57.170Z"
   },
   {
    "duration": 28,
    "start_time": "2023-06-21T18:39:39.352Z"
   },
   {
    "duration": 45,
    "start_time": "2023-06-21T18:41:29.727Z"
   },
   {
    "duration": 44,
    "start_time": "2023-06-21T18:43:01.861Z"
   },
   {
    "duration": 47,
    "start_time": "2023-06-21T18:43:14.925Z"
   },
   {
    "duration": 22,
    "start_time": "2023-06-21T18:43:35.507Z"
   },
   {
    "duration": 49,
    "start_time": "2023-06-21T18:43:49.251Z"
   },
   {
    "duration": 28,
    "start_time": "2023-06-21T18:45:15.163Z"
   },
   {
    "duration": 86,
    "start_time": "2023-06-21T18:45:19.088Z"
   },
   {
    "duration": 77,
    "start_time": "2023-06-21T18:46:24.542Z"
   },
   {
    "duration": 22,
    "start_time": "2023-06-21T18:46:53.101Z"
   },
   {
    "duration": 41,
    "start_time": "2023-06-21T18:47:01.661Z"
   },
   {
    "duration": 32,
    "start_time": "2023-06-21T18:47:15.824Z"
   },
   {
    "duration": 31,
    "start_time": "2023-06-21T18:47:27.975Z"
   },
   {
    "duration": 29,
    "start_time": "2023-06-21T18:47:33.413Z"
   },
   {
    "duration": 20,
    "start_time": "2023-06-21T18:47:46.980Z"
   },
   {
    "duration": 31,
    "start_time": "2023-06-21T18:50:22.106Z"
   },
   {
    "duration": 19,
    "start_time": "2023-06-21T18:50:29.740Z"
   },
   {
    "duration": 26,
    "start_time": "2023-06-21T18:50:45.812Z"
   },
   {
    "duration": 28,
    "start_time": "2023-06-21T18:51:10.973Z"
   },
   {
    "duration": 43,
    "start_time": "2023-06-21T18:51:29.172Z"
   },
   {
    "duration": 43,
    "start_time": "2023-06-21T18:53:37.756Z"
   },
   {
    "duration": 44,
    "start_time": "2023-06-21T18:54:03.193Z"
   },
   {
    "duration": 21,
    "start_time": "2023-06-21T18:54:22.522Z"
   },
   {
    "duration": 36,
    "start_time": "2023-06-21T18:54:30.714Z"
   },
   {
    "duration": 23,
    "start_time": "2023-06-21T18:54:46.272Z"
   },
   {
    "duration": 28,
    "start_time": "2023-06-21T18:55:06.355Z"
   },
   {
    "duration": 27,
    "start_time": "2023-06-21T18:55:38.805Z"
   },
   {
    "duration": 24,
    "start_time": "2023-06-21T18:55:46.033Z"
   },
   {
    "duration": 27,
    "start_time": "2023-06-21T18:56:17.809Z"
   },
   {
    "duration": 21,
    "start_time": "2023-06-21T18:56:23.701Z"
   },
   {
    "duration": 33,
    "start_time": "2023-06-21T18:59:19.186Z"
   },
   {
    "duration": 22,
    "start_time": "2023-06-21T18:59:36.416Z"
   },
   {
    "duration": 22,
    "start_time": "2023-06-21T18:59:42.923Z"
   },
   {
    "duration": 32,
    "start_time": "2023-06-21T18:59:47.924Z"
   },
   {
    "duration": 25,
    "start_time": "2023-06-21T19:00:05.565Z"
   },
   {
    "duration": 24,
    "start_time": "2023-06-21T19:00:25.634Z"
   },
   {
    "duration": 32,
    "start_time": "2023-06-21T19:00:57.872Z"
   },
   {
    "duration": 28,
    "start_time": "2023-06-21T19:01:03.475Z"
   },
   {
    "duration": 24,
    "start_time": "2023-06-21T19:01:07.638Z"
   },
   {
    "duration": 24,
    "start_time": "2023-06-21T19:01:18.084Z"
   },
   {
    "duration": 34,
    "start_time": "2023-06-21T19:01:28.366Z"
   },
   {
    "duration": 33,
    "start_time": "2023-06-21T19:01:33.220Z"
   },
   {
    "duration": 34,
    "start_time": "2023-06-21T19:01:42.995Z"
   },
   {
    "duration": 21,
    "start_time": "2023-06-21T19:01:47.198Z"
   },
   {
    "duration": 30,
    "start_time": "2023-06-21T19:01:55.436Z"
   },
   {
    "duration": 22,
    "start_time": "2023-06-21T19:02:05.694Z"
   },
   {
    "duration": 22,
    "start_time": "2023-06-21T19:02:36.573Z"
   },
   {
    "duration": 33,
    "start_time": "2023-06-21T19:02:42.325Z"
   },
   {
    "duration": 25,
    "start_time": "2023-06-21T19:03:23.664Z"
   },
   {
    "duration": 28,
    "start_time": "2023-06-21T19:03:37.456Z"
   },
   {
    "duration": 29,
    "start_time": "2023-06-21T19:04:43.388Z"
   },
   {
    "duration": 32,
    "start_time": "2023-06-21T19:05:46.476Z"
   },
   {
    "duration": 22,
    "start_time": "2023-06-21T19:05:57.564Z"
   },
   {
    "duration": 19,
    "start_time": "2023-06-21T19:06:14.606Z"
   },
   {
    "duration": 22,
    "start_time": "2023-06-21T19:06:31.226Z"
   },
   {
    "duration": 21,
    "start_time": "2023-06-21T19:07:24.186Z"
   },
   {
    "duration": 34,
    "start_time": "2023-06-21T19:08:24.757Z"
   },
   {
    "duration": 26,
    "start_time": "2023-06-21T19:08:41.138Z"
   },
   {
    "duration": 24,
    "start_time": "2023-06-21T19:08:51.936Z"
   },
   {
    "duration": 20,
    "start_time": "2023-06-21T19:09:00.625Z"
   },
   {
    "duration": 22,
    "start_time": "2023-06-21T19:09:06.296Z"
   },
   {
    "duration": 23,
    "start_time": "2023-06-21T19:09:09.425Z"
   },
   {
    "duration": 19,
    "start_time": "2023-06-21T19:09:23.615Z"
   },
   {
    "duration": 22,
    "start_time": "2023-06-21T19:09:29.398Z"
   },
   {
    "duration": 31,
    "start_time": "2023-06-21T19:09:36.526Z"
   },
   {
    "duration": 26,
    "start_time": "2023-06-21T19:09:41.894Z"
   },
   {
    "duration": 21,
    "start_time": "2023-06-21T19:09:46.485Z"
   },
   {
    "duration": 22,
    "start_time": "2023-06-21T19:09:49.833Z"
   },
   {
    "duration": 25,
    "start_time": "2023-06-21T19:11:14.035Z"
   },
   {
    "duration": 24,
    "start_time": "2023-06-21T19:11:40.735Z"
   },
   {
    "duration": 135,
    "start_time": "2023-06-21T19:31:52.588Z"
   },
   {
    "duration": 39,
    "start_time": "2023-06-21T19:32:11.043Z"
   },
   {
    "duration": 16,
    "start_time": "2023-06-21T19:33:44.162Z"
   },
   {
    "duration": 28,
    "start_time": "2023-06-21T19:35:02.016Z"
   },
   {
    "duration": 22,
    "start_time": "2023-06-21T19:35:39.214Z"
   },
   {
    "duration": 23,
    "start_time": "2023-06-21T19:35:53.103Z"
   },
   {
    "duration": 10,
    "start_time": "2023-06-21T19:36:00.313Z"
   },
   {
    "duration": 25,
    "start_time": "2023-06-21T19:36:45.505Z"
   },
   {
    "duration": 23,
    "start_time": "2023-06-21T19:36:50.411Z"
   },
   {
    "duration": 10,
    "start_time": "2023-06-21T19:36:58.202Z"
   },
   {
    "duration": 20,
    "start_time": "2023-06-21T19:38:01.718Z"
   },
   {
    "duration": 21,
    "start_time": "2023-06-21T19:38:35.033Z"
   },
   {
    "duration": 32,
    "start_time": "2023-06-21T19:38:53.826Z"
   },
   {
    "duration": 16,
    "start_time": "2023-06-21T19:39:15.168Z"
   },
   {
    "duration": 23,
    "start_time": "2023-06-21T19:40:54.604Z"
   },
   {
    "duration": 22,
    "start_time": "2023-06-21T19:41:01.521Z"
   },
   {
    "duration": 24,
    "start_time": "2023-06-21T19:41:05.523Z"
   },
   {
    "duration": 24,
    "start_time": "2023-06-21T19:41:12.920Z"
   },
   {
    "duration": 22,
    "start_time": "2023-06-21T19:41:27.910Z"
   },
   {
    "duration": 23,
    "start_time": "2023-06-21T19:41:31.540Z"
   },
   {
    "duration": 25,
    "start_time": "2023-06-21T19:41:35.515Z"
   },
   {
    "duration": 24,
    "start_time": "2023-06-21T19:41:38.901Z"
   },
   {
    "duration": 27,
    "start_time": "2023-06-21T19:41:42.801Z"
   },
   {
    "duration": 22,
    "start_time": "2023-06-21T19:41:57.251Z"
   },
   {
    "duration": 8,
    "start_time": "2023-06-21T19:42:24.698Z"
   },
   {
    "duration": 30,
    "start_time": "2023-06-21T19:44:59.294Z"
   },
   {
    "duration": 24,
    "start_time": "2023-06-21T19:45:05.939Z"
   },
   {
    "duration": 20,
    "start_time": "2023-06-21T19:45:25.039Z"
   },
   {
    "duration": 9,
    "start_time": "2023-06-21T19:45:45.007Z"
   },
   {
    "duration": 30,
    "start_time": "2023-06-21T19:45:52.217Z"
   },
   {
    "duration": 30,
    "start_time": "2023-06-21T19:45:55.707Z"
   },
   {
    "duration": 33,
    "start_time": "2023-06-21T19:46:04.097Z"
   },
   {
    "duration": 8,
    "start_time": "2023-06-21T19:46:06.697Z"
   },
   {
    "duration": 39,
    "start_time": "2023-06-21T19:46:27.770Z"
   },
   {
    "duration": 17,
    "start_time": "2023-06-21T19:46:30.909Z"
   },
   {
    "duration": 28,
    "start_time": "2023-06-21T19:47:00.967Z"
   },
   {
    "duration": 14,
    "start_time": "2023-06-21T19:47:04.166Z"
   },
   {
    "duration": 22,
    "start_time": "2023-06-21T19:47:22.902Z"
   },
   {
    "duration": 23,
    "start_time": "2023-06-21T19:47:29.189Z"
   },
   {
    "duration": 8,
    "start_time": "2023-06-21T19:47:32.626Z"
   },
   {
    "duration": 22,
    "start_time": "2023-06-21T19:47:51.717Z"
   },
   {
    "duration": 14,
    "start_time": "2023-06-21T19:47:54.458Z"
   },
   {
    "duration": 22,
    "start_time": "2023-06-21T19:49:21.116Z"
   },
   {
    "duration": 8,
    "start_time": "2023-06-21T19:49:29.740Z"
   },
   {
    "duration": 26,
    "start_time": "2023-06-21T19:50:41.063Z"
   },
   {
    "duration": 9,
    "start_time": "2023-06-21T19:50:43.397Z"
   },
   {
    "duration": 22,
    "start_time": "2023-06-21T19:51:51.943Z"
   },
   {
    "duration": 13,
    "start_time": "2023-06-21T19:52:10.683Z"
   },
   {
    "duration": 32,
    "start_time": "2023-06-21T19:54:15.401Z"
   },
   {
    "duration": 33,
    "start_time": "2023-06-21T19:54:22.301Z"
   },
   {
    "duration": 7,
    "start_time": "2023-06-21T19:54:27.704Z"
   },
   {
    "duration": 25,
    "start_time": "2023-06-21T19:57:20.096Z"
   },
   {
    "duration": 8,
    "start_time": "2023-06-21T19:57:41.202Z"
   },
   {
    "duration": 1463,
    "start_time": "2023-06-21T19:58:02.554Z"
   },
   {
    "duration": 1069,
    "start_time": "2023-06-21T19:58:04.021Z"
   },
   {
    "duration": 7,
    "start_time": "2023-06-21T19:58:05.092Z"
   },
   {
    "duration": 21,
    "start_time": "2023-06-21T19:58:05.101Z"
   },
   {
    "duration": 18,
    "start_time": "2023-06-21T19:58:05.124Z"
   },
   {
    "duration": 38,
    "start_time": "2023-06-21T19:58:05.143Z"
   },
   {
    "duration": 9,
    "start_time": "2023-06-21T19:58:05.183Z"
   },
   {
    "duration": 36,
    "start_time": "2023-06-21T19:58:05.195Z"
   },
   {
    "duration": 38,
    "start_time": "2023-06-21T19:58:05.233Z"
   },
   {
    "duration": 27,
    "start_time": "2023-06-21T19:58:05.277Z"
   },
   {
    "duration": 22,
    "start_time": "2023-06-21T19:58:05.306Z"
   },
   {
    "duration": 19,
    "start_time": "2023-06-21T19:58:05.330Z"
   },
   {
    "duration": 51,
    "start_time": "2023-06-21T19:58:05.350Z"
   },
   {
    "duration": 21,
    "start_time": "2023-06-21T19:58:05.403Z"
   },
   {
    "duration": 6,
    "start_time": "2023-06-21T19:58:05.425Z"
   },
   {
    "duration": 27,
    "start_time": "2023-06-21T19:58:05.432Z"
   },
   {
    "duration": 16,
    "start_time": "2023-06-21T19:58:05.461Z"
   },
   {
    "duration": 19,
    "start_time": "2023-06-21T19:58:05.479Z"
   },
   {
    "duration": 14,
    "start_time": "2023-06-21T19:58:05.500Z"
   },
   {
    "duration": 24,
    "start_time": "2023-06-21T19:58:05.516Z"
   },
   {
    "duration": 14,
    "start_time": "2023-06-21T19:58:05.541Z"
   },
   {
    "duration": 12,
    "start_time": "2023-06-21T19:58:05.557Z"
   },
   {
    "duration": 21,
    "start_time": "2023-06-21T19:58:05.571Z"
   },
   {
    "duration": 15,
    "start_time": "2023-06-21T19:58:05.594Z"
   },
   {
    "duration": 21,
    "start_time": "2023-06-21T19:58:05.610Z"
   },
   {
    "duration": 13,
    "start_time": "2023-06-21T19:58:05.633Z"
   },
   {
    "duration": 50,
    "start_time": "2023-06-21T19:58:05.648Z"
   },
   {
    "duration": 7,
    "start_time": "2023-06-21T19:58:05.704Z"
   },
   {
    "duration": 43,
    "start_time": "2023-06-21T19:58:05.713Z"
   },
   {
    "duration": 37,
    "start_time": "2023-06-21T19:58:05.757Z"
   },
   {
    "duration": 8,
    "start_time": "2023-06-21T19:58:05.796Z"
   },
   {
    "duration": 40,
    "start_time": "2023-06-21T19:58:05.806Z"
   },
   {
    "duration": 12,
    "start_time": "2023-06-21T19:58:05.847Z"
   },
   {
    "duration": 24,
    "start_time": "2023-06-21T19:58:05.861Z"
   },
   {
    "duration": 41,
    "start_time": "2023-06-21T19:58:05.887Z"
   },
   {
    "duration": 5,
    "start_time": "2023-06-21T19:58:05.929Z"
   },
   {
    "duration": 30,
    "start_time": "2023-06-21T19:58:05.936Z"
   },
   {
    "duration": 19,
    "start_time": "2023-06-21T19:58:05.970Z"
   },
   {
    "duration": 20,
    "start_time": "2023-06-21T19:58:05.991Z"
   },
   {
    "duration": 30,
    "start_time": "2023-06-21T19:58:06.013Z"
   },
   {
    "duration": 12,
    "start_time": "2023-06-21T19:58:06.045Z"
   },
   {
    "duration": 25,
    "start_time": "2023-06-21T19:58:06.060Z"
   },
   {
    "duration": 28,
    "start_time": "2023-06-21T19:58:06.087Z"
   },
   {
    "duration": 34,
    "start_time": "2023-06-21T19:58:06.116Z"
   },
   {
    "duration": 16,
    "start_time": "2023-06-21T19:58:06.152Z"
   },
   {
    "duration": 37,
    "start_time": "2023-06-21T19:58:06.170Z"
   },
   {
    "duration": 4,
    "start_time": "2023-06-21T19:58:06.209Z"
   },
   {
    "duration": 16,
    "start_time": "2023-06-21T19:58:06.215Z"
   },
   {
    "duration": 303,
    "start_time": "2023-06-21T19:58:06.233Z"
   },
   {
    "duration": 10,
    "start_time": "2023-06-21T19:58:06.537Z"
   },
   {
    "duration": 452,
    "start_time": "2023-06-21T19:58:06.549Z"
   },
   {
    "duration": 183,
    "start_time": "2023-06-21T19:58:07.003Z"
   },
   {
    "duration": 27,
    "start_time": "2023-06-21T19:58:07.188Z"
   },
   {
    "duration": 165,
    "start_time": "2023-06-21T19:58:07.217Z"
   },
   {
    "duration": 315,
    "start_time": "2023-06-21T19:58:07.384Z"
   },
   {
    "duration": 333,
    "start_time": "2023-06-21T19:58:07.702Z"
   },
   {
    "duration": 16,
    "start_time": "2023-06-21T19:58:08.037Z"
   },
   {
    "duration": 247,
    "start_time": "2023-06-21T19:58:08.055Z"
   },
   {
    "duration": 2244,
    "start_time": "2023-06-21T19:58:08.304Z"
   },
   {
    "duration": 178,
    "start_time": "2023-06-21T19:58:10.550Z"
   },
   {
    "duration": 38,
    "start_time": "2023-06-21T19:58:10.730Z"
   },
   {
    "duration": 333,
    "start_time": "2023-06-21T19:58:10.769Z"
   },
   {
    "duration": 9,
    "start_time": "2023-06-21T19:58:11.104Z"
   },
   {
    "duration": 437,
    "start_time": "2023-06-21T19:58:11.114Z"
   },
   {
    "duration": 19,
    "start_time": "2023-06-21T19:58:11.553Z"
   },
   {
    "duration": 26,
    "start_time": "2023-06-21T19:58:11.574Z"
   },
   {
    "duration": 15,
    "start_time": "2023-06-21T19:58:11.604Z"
   },
   {
    "duration": 86,
    "start_time": "2023-06-21T19:58:11.621Z"
   },
   {
    "duration": 14,
    "start_time": "2023-06-21T19:58:11.709Z"
   },
   {
    "duration": 9,
    "start_time": "2023-06-21T19:58:11.725Z"
   },
   {
    "duration": 49,
    "start_time": "2023-06-21T19:58:11.736Z"
   },
   {
    "duration": 12,
    "start_time": "2023-06-21T19:58:11.789Z"
   },
   {
    "duration": 90,
    "start_time": "2023-06-21T19:58:11.803Z"
   },
   {
    "duration": 119,
    "start_time": "2023-06-21T19:58:11.896Z"
   },
   {
    "duration": 139,
    "start_time": "2023-06-21T19:58:12.017Z"
   },
   {
    "duration": 17,
    "start_time": "2023-06-21T19:58:12.158Z"
   },
   {
    "duration": 20,
    "start_time": "2023-06-21T19:58:12.179Z"
   },
   {
    "duration": 3,
    "start_time": "2023-06-21T19:58:12.205Z"
   },
   {
    "duration": 20,
    "start_time": "2023-06-21T19:58:12.210Z"
   },
   {
    "duration": 28,
    "start_time": "2023-06-21T19:58:12.269Z"
   },
   {
    "duration": 60,
    "start_time": "2023-06-21T19:58:12.299Z"
   },
   {
    "duration": 578,
    "start_time": "2023-06-21T19:58:12.373Z"
   },
   {
    "duration": 32,
    "start_time": "2023-06-21T19:58:12.953Z"
   },
   {
    "duration": 7,
    "start_time": "2023-06-21T19:58:12.987Z"
   },
   {
    "duration": 37,
    "start_time": "2023-06-21T19:58:12.996Z"
   },
   {
    "duration": 38,
    "start_time": "2023-06-21T19:58:13.035Z"
   },
   {
    "duration": 36,
    "start_time": "2023-06-21T19:58:13.075Z"
   },
   {
    "duration": 8,
    "start_time": "2023-06-21T19:58:13.113Z"
   },
   {
    "duration": 30,
    "start_time": "2023-06-21T19:58:13.123Z"
   },
   {
    "duration": 21,
    "start_time": "2023-06-21T19:58:13.155Z"
   },
   {
    "duration": 31,
    "start_time": "2023-06-21T19:58:13.182Z"
   },
   {
    "duration": 12,
    "start_time": "2023-06-21T19:58:13.214Z"
   },
   {
    "duration": 24,
    "start_time": "2023-06-21T19:58:13.228Z"
   },
   {
    "duration": 15,
    "start_time": "2023-06-21T19:58:13.254Z"
   },
   {
    "duration": 34,
    "start_time": "2023-06-21T19:58:13.272Z"
   },
   {
    "duration": 23,
    "start_time": "2023-06-21T19:59:10.639Z"
   },
   {
    "duration": 13,
    "start_time": "2023-06-21T19:59:14.376Z"
   },
   {
    "duration": 28,
    "start_time": "2023-06-21T20:01:12.476Z"
   },
   {
    "duration": 10,
    "start_time": "2023-06-21T20:01:36.413Z"
   },
   {
    "duration": 73,
    "start_time": "2023-06-21T20:15:27.189Z"
   },
   {
    "duration": 13,
    "start_time": "2023-06-21T20:16:33.123Z"
   },
   {
    "duration": 18,
    "start_time": "2023-06-21T20:17:02.493Z"
   },
   {
    "duration": 12,
    "start_time": "2023-06-21T20:17:05.933Z"
   },
   {
    "duration": 14,
    "start_time": "2023-06-21T20:17:10.597Z"
   },
   {
    "duration": 8,
    "start_time": "2023-06-21T20:17:36.384Z"
   },
   {
    "duration": 13,
    "start_time": "2023-06-21T20:17:38.497Z"
   },
   {
    "duration": 14,
    "start_time": "2023-06-21T20:17:42.053Z"
   },
   {
    "duration": 13,
    "start_time": "2023-06-21T20:17:51.713Z"
   },
   {
    "duration": 198,
    "start_time": "2023-06-21T20:24:40.300Z"
   },
   {
    "duration": 14,
    "start_time": "2023-06-21T20:24:45.131Z"
   },
   {
    "duration": 17,
    "start_time": "2023-06-21T20:24:57.130Z"
   },
   {
    "duration": 15,
    "start_time": "2023-06-21T20:25:17.028Z"
   },
   {
    "duration": 13,
    "start_time": "2023-06-21T20:25:32.015Z"
   },
   {
    "duration": 12,
    "start_time": "2023-06-21T20:25:37.286Z"
   },
   {
    "duration": 20,
    "start_time": "2023-06-21T20:26:33.492Z"
   },
   {
    "duration": 30,
    "start_time": "2023-06-21T20:26:46.458Z"
   },
   {
    "duration": 22,
    "start_time": "2023-06-21T20:26:50.909Z"
   },
   {
    "duration": 16,
    "start_time": "2023-06-21T20:27:15.822Z"
   },
   {
    "duration": 22,
    "start_time": "2023-06-21T20:27:30.286Z"
   },
   {
    "duration": 73,
    "start_time": "2023-06-21T20:52:22.034Z"
   },
   {
    "duration": 9,
    "start_time": "2023-06-21T20:58:12.144Z"
   },
   {
    "duration": 11,
    "start_time": "2023-06-21T21:00:12.089Z"
   },
   {
    "duration": 11,
    "start_time": "2023-06-21T21:02:43.024Z"
   },
   {
    "duration": 11,
    "start_time": "2023-06-21T21:03:03.228Z"
   },
   {
    "duration": 11,
    "start_time": "2023-06-21T21:06:39.336Z"
   },
   {
    "duration": 17,
    "start_time": "2023-06-21T21:13:11.232Z"
   },
   {
    "duration": 6,
    "start_time": "2023-06-21T21:13:21.524Z"
   },
   {
    "duration": 9,
    "start_time": "2023-06-21T21:13:29.340Z"
   },
   {
    "duration": 7,
    "start_time": "2023-06-21T21:13:54.490Z"
   },
   {
    "duration": 7,
    "start_time": "2023-06-21T21:14:07.189Z"
   },
   {
    "duration": 7,
    "start_time": "2023-06-21T21:14:14.506Z"
   },
   {
    "duration": 7,
    "start_time": "2023-06-21T21:14:54.918Z"
   },
   {
    "duration": 9,
    "start_time": "2023-06-21T21:17:50.060Z"
   },
   {
    "duration": 19,
    "start_time": "2023-06-21T21:20:28.618Z"
   },
   {
    "duration": 11,
    "start_time": "2023-06-21T21:20:35.330Z"
   },
   {
    "duration": 16,
    "start_time": "2023-06-21T21:21:04.834Z"
   },
   {
    "duration": 9,
    "start_time": "2023-06-21T21:22:06.847Z"
   },
   {
    "duration": 11,
    "start_time": "2023-06-21T21:23:19.825Z"
   },
   {
    "duration": 11,
    "start_time": "2023-06-21T21:24:49.585Z"
   },
   {
    "duration": 13,
    "start_time": "2023-06-21T21:25:01.204Z"
   },
   {
    "duration": 16,
    "start_time": "2023-06-21T21:25:09.404Z"
   },
   {
    "duration": 13,
    "start_time": "2023-06-21T21:25:24.889Z"
   },
   {
    "duration": 17,
    "start_time": "2023-06-21T21:25:39.611Z"
   },
   {
    "duration": 24,
    "start_time": "2023-06-21T21:26:04.859Z"
   },
   {
    "duration": 16,
    "start_time": "2023-06-21T21:27:07.086Z"
   },
   {
    "duration": 71,
    "start_time": "2023-06-21T21:27:47.094Z"
   },
   {
    "duration": 22,
    "start_time": "2023-06-21T21:28:40.834Z"
   },
   {
    "duration": 17,
    "start_time": "2023-06-21T21:29:47.398Z"
   },
   {
    "duration": 24,
    "start_time": "2023-06-21T21:29:53.449Z"
   },
   {
    "duration": 22,
    "start_time": "2023-06-21T21:31:30.583Z"
   },
   {
    "duration": 35,
    "start_time": "2023-06-21T21:32:21.146Z"
   },
   {
    "duration": 20,
    "start_time": "2023-06-21T21:33:28.754Z"
   },
   {
    "duration": 24,
    "start_time": "2023-06-21T21:33:57.063Z"
   },
   {
    "duration": 24,
    "start_time": "2023-06-21T21:34:09.731Z"
   },
   {
    "duration": 23,
    "start_time": "2023-06-21T21:34:25.687Z"
   },
   {
    "duration": 16,
    "start_time": "2023-06-21T21:34:40.185Z"
   },
   {
    "duration": 77,
    "start_time": "2023-06-21T21:34:49.021Z"
   },
   {
    "duration": 21,
    "start_time": "2023-06-21T21:35:34.046Z"
   },
   {
    "duration": 78,
    "start_time": "2023-06-21T21:35:47.440Z"
   },
   {
    "duration": 15,
    "start_time": "2023-06-21T21:36:33.786Z"
   },
   {
    "duration": 356,
    "start_time": "2023-06-21T22:04:21.826Z"
   },
   {
    "duration": 276,
    "start_time": "2023-06-21T22:06:13.317Z"
   },
   {
    "duration": 307,
    "start_time": "2023-06-21T22:06:23.052Z"
   },
   {
    "duration": 281,
    "start_time": "2023-06-21T22:06:30.824Z"
   },
   {
    "duration": 62,
    "start_time": "2023-06-21T22:07:31.282Z"
   },
   {
    "duration": 55,
    "start_time": "2023-06-21T22:07:59.702Z"
   },
   {
    "duration": 55,
    "start_time": "2023-06-21T22:08:02.980Z"
   },
   {
    "duration": 71,
    "start_time": "2023-06-21T22:08:15.200Z"
   },
   {
    "duration": 63,
    "start_time": "2023-06-21T22:08:31.491Z"
   },
   {
    "duration": 56,
    "start_time": "2023-06-21T22:08:40.525Z"
   },
   {
    "duration": 55,
    "start_time": "2023-06-21T22:09:08.232Z"
   },
   {
    "duration": 56,
    "start_time": "2023-06-21T22:09:22.906Z"
   },
   {
    "duration": 53,
    "start_time": "2023-06-21T22:09:27.180Z"
   },
   {
    "duration": 58,
    "start_time": "2023-06-21T22:09:31.448Z"
   },
   {
    "duration": 57,
    "start_time": "2023-06-21T22:09:34.938Z"
   },
   {
    "duration": 58,
    "start_time": "2023-06-21T22:09:38.610Z"
   },
   {
    "duration": 52,
    "start_time": "2023-06-21T22:09:53.576Z"
   },
   {
    "duration": 84,
    "start_time": "2023-06-21T22:10:03.138Z"
   },
   {
    "duration": 65,
    "start_time": "2023-06-21T22:10:10.293Z"
   },
   {
    "duration": 57,
    "start_time": "2023-06-21T22:10:15.962Z"
   },
   {
    "duration": 56,
    "start_time": "2023-06-21T22:10:28.517Z"
   },
   {
    "duration": 54,
    "start_time": "2023-06-21T22:10:35.537Z"
   },
   {
    "duration": 68,
    "start_time": "2023-06-21T22:10:51.082Z"
   },
   {
    "duration": 64,
    "start_time": "2023-06-21T22:11:34.271Z"
   },
   {
    "duration": 15,
    "start_time": "2023-06-21T22:12:35.549Z"
   },
   {
    "duration": 19,
    "start_time": "2023-06-21T22:12:44.048Z"
   },
   {
    "duration": 18,
    "start_time": "2023-06-21T22:12:50.070Z"
   },
   {
    "duration": 17,
    "start_time": "2023-06-21T22:12:55.554Z"
   },
   {
    "duration": 54,
    "start_time": "2023-06-21T22:13:38.752Z"
   },
   {
    "duration": 66,
    "start_time": "2023-06-21T22:13:55.234Z"
   },
   {
    "duration": 67,
    "start_time": "2023-06-21T22:14:12.099Z"
   },
   {
    "duration": 58,
    "start_time": "2023-06-21T22:14:24.728Z"
   },
   {
    "duration": 54,
    "start_time": "2023-06-21T22:14:49.054Z"
   },
   {
    "duration": 65,
    "start_time": "2023-06-21T22:14:57.812Z"
   },
   {
    "duration": 69,
    "start_time": "2023-06-21T22:15:06.114Z"
   },
   {
    "duration": 75,
    "start_time": "2023-06-21T22:15:17.062Z"
   },
   {
    "duration": 57,
    "start_time": "2023-06-21T22:15:28.997Z"
   },
   {
    "duration": 57,
    "start_time": "2023-06-21T22:16:05.554Z"
   },
   {
    "duration": 53,
    "start_time": "2023-06-21T22:16:14.521Z"
   },
   {
    "duration": 57,
    "start_time": "2023-06-21T22:17:41.228Z"
   },
   {
    "duration": 55,
    "start_time": "2023-06-21T22:17:53.356Z"
   },
   {
    "duration": 88,
    "start_time": "2023-06-21T22:18:03.842Z"
   },
   {
    "duration": 60,
    "start_time": "2023-06-21T22:18:10.364Z"
   },
   {
    "duration": 58,
    "start_time": "2023-06-21T22:18:30.713Z"
   },
   {
    "duration": 57,
    "start_time": "2023-06-21T22:18:39.916Z"
   },
   {
    "duration": 57,
    "start_time": "2023-06-21T22:18:46.746Z"
   },
   {
    "duration": 62,
    "start_time": "2023-06-21T22:18:58.337Z"
   },
   {
    "duration": 8,
    "start_time": "2023-06-21T22:25:05.886Z"
   },
   {
    "duration": 7,
    "start_time": "2023-06-21T22:25:13.696Z"
   },
   {
    "duration": 58,
    "start_time": "2023-06-21T22:25:29.458Z"
   },
   {
    "duration": 57,
    "start_time": "2023-06-21T22:25:39.115Z"
   },
   {
    "duration": 55,
    "start_time": "2023-06-21T22:25:58.255Z"
   },
   {
    "duration": 57,
    "start_time": "2023-06-21T22:26:09.751Z"
   },
   {
    "duration": 65,
    "start_time": "2023-06-21T22:26:16.832Z"
   },
   {
    "duration": 8,
    "start_time": "2023-06-21T22:32:08.453Z"
   },
   {
    "duration": 8,
    "start_time": "2023-06-21T22:32:22.808Z"
   },
   {
    "duration": 9,
    "start_time": "2023-06-21T22:32:56.176Z"
   },
   {
    "duration": 17,
    "start_time": "2023-06-21T22:33:20.794Z"
   },
   {
    "duration": 11,
    "start_time": "2023-06-21T22:33:26.481Z"
   },
   {
    "duration": 11,
    "start_time": "2023-06-21T22:33:41.775Z"
   },
   {
    "duration": 13,
    "start_time": "2023-06-21T22:33:43.929Z"
   },
   {
    "duration": 11,
    "start_time": "2023-06-21T22:34:08.043Z"
   },
   {
    "duration": 11,
    "start_time": "2023-06-21T22:34:40.642Z"
   },
   {
    "duration": 11,
    "start_time": "2023-06-21T22:35:10.225Z"
   },
   {
    "duration": 11,
    "start_time": "2023-06-21T22:35:30.149Z"
   },
   {
    "duration": 7,
    "start_time": "2023-06-21T22:38:57.294Z"
   },
   {
    "duration": 7,
    "start_time": "2023-06-21T22:39:04.240Z"
   },
   {
    "duration": 7,
    "start_time": "2023-06-21T22:39:07.331Z"
   },
   {
    "duration": 8,
    "start_time": "2023-06-21T22:39:10.195Z"
   },
   {
    "duration": 7,
    "start_time": "2023-06-21T22:39:14.876Z"
   },
   {
    "duration": 19,
    "start_time": "2023-06-21T22:42:47.554Z"
   },
   {
    "duration": 21,
    "start_time": "2023-06-21T22:43:08.074Z"
   },
   {
    "duration": 15,
    "start_time": "2023-06-21T22:44:09.349Z"
   },
   {
    "duration": 20,
    "start_time": "2023-06-21T22:44:21.683Z"
   },
   {
    "duration": 20,
    "start_time": "2023-06-21T22:44:39.967Z"
   },
   {
    "duration": 16,
    "start_time": "2023-06-22T11:41:47.023Z"
   },
   {
    "duration": 14,
    "start_time": "2023-06-22T11:42:08.524Z"
   },
   {
    "duration": 348,
    "start_time": "2023-06-22T11:57:36.806Z"
   },
   {
    "duration": 338,
    "start_time": "2023-06-22T11:57:44.323Z"
   },
   {
    "duration": 588,
    "start_time": "2023-06-22T11:57:49.913Z"
   },
   {
    "duration": 701,
    "start_time": "2023-06-22T12:25:08.001Z"
   },
   {
    "duration": 715,
    "start_time": "2023-06-22T12:25:14.468Z"
   },
   {
    "duration": 762,
    "start_time": "2023-06-22T12:25:22.322Z"
   },
   {
    "duration": 116,
    "start_time": "2023-06-22T13:08:39.020Z"
   },
   {
    "duration": 1836,
    "start_time": "2023-06-22T13:11:49.226Z"
   },
   {
    "duration": 1470,
    "start_time": "2023-06-22T13:11:51.065Z"
   },
   {
    "duration": 4,
    "start_time": "2023-06-22T13:11:52.537Z"
   },
   {
    "duration": 26,
    "start_time": "2023-06-22T13:11:52.543Z"
   },
   {
    "duration": 21,
    "start_time": "2023-06-22T13:11:52.573Z"
   },
   {
    "duration": 30,
    "start_time": "2023-06-22T13:11:52.597Z"
   },
   {
    "duration": 27,
    "start_time": "2023-06-22T13:11:52.630Z"
   },
   {
    "duration": 80,
    "start_time": "2023-06-22T13:11:52.660Z"
   },
   {
    "duration": 9,
    "start_time": "2023-06-22T13:11:52.744Z"
   },
   {
    "duration": 54,
    "start_time": "2023-06-22T13:11:52.755Z"
   },
   {
    "duration": 52,
    "start_time": "2023-06-22T13:11:52.811Z"
   },
   {
    "duration": 43,
    "start_time": "2023-06-22T13:11:52.866Z"
   },
   {
    "duration": 42,
    "start_time": "2023-06-22T13:11:52.911Z"
   },
   {
    "duration": 61,
    "start_time": "2023-06-22T13:11:52.958Z"
   },
   {
    "duration": 11,
    "start_time": "2023-06-22T13:11:53.025Z"
   },
   {
    "duration": 40,
    "start_time": "2023-06-22T13:11:53.042Z"
   },
   {
    "duration": 19,
    "start_time": "2023-06-22T13:11:53.085Z"
   },
   {
    "duration": 30,
    "start_time": "2023-06-22T13:11:53.107Z"
   },
   {
    "duration": 22,
    "start_time": "2023-06-22T13:11:53.140Z"
   },
   {
    "duration": 70,
    "start_time": "2023-06-22T13:11:53.164Z"
   },
   {
    "duration": 20,
    "start_time": "2023-06-22T13:11:53.241Z"
   },
   {
    "duration": 28,
    "start_time": "2023-06-22T13:11:53.264Z"
   },
   {
    "duration": 34,
    "start_time": "2023-06-22T13:11:53.306Z"
   },
   {
    "duration": 24,
    "start_time": "2023-06-22T13:11:53.351Z"
   },
   {
    "duration": 22,
    "start_time": "2023-06-22T13:11:53.382Z"
   },
   {
    "duration": 26,
    "start_time": "2023-06-22T13:11:53.410Z"
   },
   {
    "duration": 47,
    "start_time": "2023-06-22T13:11:53.441Z"
   },
   {
    "duration": 16,
    "start_time": "2023-06-22T13:11:53.490Z"
   },
   {
    "duration": 48,
    "start_time": "2023-06-22T13:11:53.508Z"
   },
   {
    "duration": 29,
    "start_time": "2023-06-22T13:11:53.558Z"
   },
   {
    "duration": 7,
    "start_time": "2023-06-22T13:11:53.589Z"
   },
   {
    "duration": 31,
    "start_time": "2023-06-22T13:11:53.598Z"
   },
   {
    "duration": 39,
    "start_time": "2023-06-22T13:11:53.631Z"
   },
   {
    "duration": 80,
    "start_time": "2023-06-22T13:11:53.671Z"
   },
   {
    "duration": 86,
    "start_time": "2023-06-22T13:11:53.753Z"
   },
   {
    "duration": 9,
    "start_time": "2023-06-22T13:11:53.841Z"
   },
   {
    "duration": 45,
    "start_time": "2023-06-22T13:11:53.853Z"
   },
   {
    "duration": 35,
    "start_time": "2023-06-22T13:11:53.905Z"
   },
   {
    "duration": 16,
    "start_time": "2023-06-22T13:11:53.946Z"
   },
   {
    "duration": 65,
    "start_time": "2023-06-22T13:11:53.965Z"
   },
   {
    "duration": 16,
    "start_time": "2023-06-22T13:11:54.049Z"
   },
   {
    "duration": 26,
    "start_time": "2023-06-22T13:11:54.068Z"
   },
   {
    "duration": 27,
    "start_time": "2023-06-22T13:11:54.102Z"
   },
   {
    "duration": 77,
    "start_time": "2023-06-22T13:11:54.131Z"
   },
   {
    "duration": 33,
    "start_time": "2023-06-22T13:11:54.211Z"
   },
   {
    "duration": 35,
    "start_time": "2023-06-22T13:11:54.246Z"
   },
   {
    "duration": 5,
    "start_time": "2023-06-22T13:11:54.283Z"
   },
   {
    "duration": 55,
    "start_time": "2023-06-22T13:11:54.290Z"
   },
   {
    "duration": 487,
    "start_time": "2023-06-22T13:11:54.348Z"
   },
   {
    "duration": 18,
    "start_time": "2023-06-22T13:11:54.841Z"
   },
   {
    "duration": 592,
    "start_time": "2023-06-22T13:11:54.862Z"
   },
   {
    "duration": 279,
    "start_time": "2023-06-22T13:11:55.456Z"
   },
   {
    "duration": 37,
    "start_time": "2023-06-22T13:11:55.740Z"
   },
   {
    "duration": 416,
    "start_time": "2023-06-22T13:11:55.779Z"
   },
   {
    "duration": 305,
    "start_time": "2023-06-22T13:11:56.197Z"
   },
   {
    "duration": 396,
    "start_time": "2023-06-22T13:11:56.505Z"
   },
   {
    "duration": 22,
    "start_time": "2023-06-22T13:11:56.903Z"
   },
   {
    "duration": 289,
    "start_time": "2023-06-22T13:11:56.930Z"
   },
   {
    "duration": 3002,
    "start_time": "2023-06-22T13:11:57.231Z"
   },
   {
    "duration": 255,
    "start_time": "2023-06-22T13:12:00.239Z"
   },
   {
    "duration": 57,
    "start_time": "2023-06-22T13:12:00.496Z"
   },
   {
    "duration": 530,
    "start_time": "2023-06-22T13:12:00.560Z"
   },
   {
    "duration": 39,
    "start_time": "2023-06-22T13:12:01.098Z"
   },
   {
    "duration": 3996,
    "start_time": "2023-06-22T13:12:01.147Z"
   },
   {
    "duration": 55,
    "start_time": "2023-06-22T13:12:05.153Z"
   },
   {
    "duration": 53,
    "start_time": "2023-06-22T13:12:05.219Z"
   },
   {
    "duration": 48,
    "start_time": "2023-06-22T13:12:05.295Z"
   },
   {
    "duration": 230,
    "start_time": "2023-06-22T13:12:05.346Z"
   },
   {
    "duration": 21,
    "start_time": "2023-06-22T13:12:05.583Z"
   },
   {
    "duration": 21,
    "start_time": "2023-06-22T13:12:05.607Z"
   },
   {
    "duration": 130,
    "start_time": "2023-06-22T13:12:05.631Z"
   },
   {
    "duration": 53,
    "start_time": "2023-06-22T13:12:05.764Z"
   },
   {
    "duration": 170,
    "start_time": "2023-06-22T13:12:05.822Z"
   },
   {
    "duration": 207,
    "start_time": "2023-06-22T13:12:05.999Z"
   },
   {
    "duration": 312,
    "start_time": "2023-06-22T13:12:06.211Z"
   },
   {
    "duration": 20,
    "start_time": "2023-06-22T13:12:06.528Z"
   },
   {
    "duration": 81,
    "start_time": "2023-06-22T13:12:06.551Z"
   },
   {
    "duration": 7,
    "start_time": "2023-06-22T13:12:06.635Z"
   },
   {
    "duration": 43,
    "start_time": "2023-06-22T13:12:06.644Z"
   },
   {
    "duration": 55,
    "start_time": "2023-06-22T13:12:06.697Z"
   },
   {
    "duration": 91,
    "start_time": "2023-06-22T13:12:06.755Z"
   },
   {
    "duration": 667,
    "start_time": "2023-06-22T13:12:06.848Z"
   },
   {
    "duration": 53,
    "start_time": "2023-06-22T13:12:07.519Z"
   },
   {
    "duration": 26,
    "start_time": "2023-06-22T13:12:07.577Z"
   },
   {
    "duration": 45,
    "start_time": "2023-06-22T13:12:07.605Z"
   },
   {
    "duration": 10,
    "start_time": "2023-06-22T13:12:07.652Z"
   },
   {
    "duration": 57,
    "start_time": "2023-06-22T13:12:07.664Z"
   },
   {
    "duration": 32,
    "start_time": "2023-06-22T13:12:07.724Z"
   },
   {
    "duration": 16,
    "start_time": "2023-06-22T13:12:07.758Z"
   },
   {
    "duration": 38,
    "start_time": "2023-06-22T13:12:07.776Z"
   },
   {
    "duration": 18,
    "start_time": "2023-06-22T13:12:07.819Z"
   },
   {
    "duration": 42,
    "start_time": "2023-06-22T13:12:07.844Z"
   },
   {
    "duration": 14,
    "start_time": "2023-06-22T13:12:07.893Z"
   },
   {
    "duration": 82,
    "start_time": "2023-06-22T13:12:07.914Z"
   },
   {
    "duration": 31,
    "start_time": "2023-06-22T13:12:08.004Z"
   },
   {
    "duration": 35,
    "start_time": "2023-06-22T13:12:08.040Z"
   },
   {
    "duration": 17,
    "start_time": "2023-06-22T13:12:08.078Z"
   },
   {
    "duration": 47,
    "start_time": "2023-06-22T13:12:08.098Z"
   },
   {
    "duration": 28,
    "start_time": "2023-06-22T13:12:08.152Z"
   },
   {
    "duration": 31,
    "start_time": "2023-06-22T13:12:08.183Z"
   },
   {
    "duration": 27,
    "start_time": "2023-06-22T13:12:08.221Z"
   },
   {
    "duration": 43,
    "start_time": "2023-06-22T13:12:08.251Z"
   },
   {
    "duration": 128,
    "start_time": "2023-06-22T13:12:08.298Z"
   },
   {
    "duration": 263,
    "start_time": "2023-06-22T13:12:08.435Z"
   },
   {
    "duration": 104,
    "start_time": "2023-06-22T13:12:08.701Z"
   },
   {
    "duration": 104,
    "start_time": "2023-06-22T13:12:08.808Z"
   },
   {
    "duration": 9,
    "start_time": "2023-06-22T13:12:08.914Z"
   },
   {
    "duration": 31,
    "start_time": "2023-06-22T13:12:08.926Z"
   },
   {
    "duration": 18,
    "start_time": "2023-06-22T13:12:08.959Z"
   },
   {
    "duration": 40,
    "start_time": "2023-06-22T13:12:08.979Z"
   },
   {
    "duration": 57,
    "start_time": "2023-06-22T13:12:09.021Z"
   },
   {
    "duration": 25,
    "start_time": "2023-06-22T13:12:09.085Z"
   },
   {
    "duration": 27,
    "start_time": "2023-06-22T13:12:09.112Z"
   },
   {
    "duration": 23,
    "start_time": "2023-06-22T13:12:09.141Z"
   },
   {
    "duration": 67,
    "start_time": "2023-06-22T13:12:09.167Z"
   },
   {
    "duration": 1436,
    "start_time": "2023-06-23T09:07:10.212Z"
   },
   {
    "duration": 1025,
    "start_time": "2023-06-23T09:07:11.653Z"
   },
   {
    "duration": 5,
    "start_time": "2023-06-23T09:07:12.680Z"
   },
   {
    "duration": 48,
    "start_time": "2023-06-23T09:07:12.687Z"
   },
   {
    "duration": 7,
    "start_time": "2023-06-23T09:07:12.738Z"
   },
   {
    "duration": 41,
    "start_time": "2023-06-23T09:07:12.747Z"
   },
   {
    "duration": 21,
    "start_time": "2023-06-23T09:07:12.790Z"
   },
   {
    "duration": 52,
    "start_time": "2023-06-23T09:07:12.814Z"
   },
   {
    "duration": 6,
    "start_time": "2023-06-23T09:07:12.868Z"
   },
   {
    "duration": 35,
    "start_time": "2023-06-23T09:07:12.876Z"
   },
   {
    "duration": 20,
    "start_time": "2023-06-23T09:07:12.913Z"
   },
   {
    "duration": 20,
    "start_time": "2023-06-23T09:07:12.935Z"
   },
   {
    "duration": 36,
    "start_time": "2023-06-23T09:07:12.956Z"
   },
   {
    "duration": 34,
    "start_time": "2023-06-23T09:07:12.995Z"
   },
   {
    "duration": 7,
    "start_time": "2023-06-23T09:07:13.032Z"
   },
   {
    "duration": 25,
    "start_time": "2023-06-23T09:07:13.040Z"
   },
   {
    "duration": 20,
    "start_time": "2023-06-23T09:07:13.066Z"
   },
   {
    "duration": 31,
    "start_time": "2023-06-23T09:07:13.088Z"
   },
   {
    "duration": 14,
    "start_time": "2023-06-23T09:07:13.120Z"
   },
   {
    "duration": 33,
    "start_time": "2023-06-23T09:07:13.137Z"
   },
   {
    "duration": 27,
    "start_time": "2023-06-23T09:07:13.173Z"
   },
   {
    "duration": 23,
    "start_time": "2023-06-23T09:07:13.202Z"
   },
   {
    "duration": 50,
    "start_time": "2023-06-23T09:07:13.227Z"
   },
   {
    "duration": 17,
    "start_time": "2023-06-23T09:07:13.280Z"
   },
   {
    "duration": 20,
    "start_time": "2023-06-23T09:07:13.299Z"
   },
   {
    "duration": 32,
    "start_time": "2023-06-23T09:07:13.322Z"
   },
   {
    "duration": 30,
    "start_time": "2023-06-23T09:07:13.356Z"
   },
   {
    "duration": 8,
    "start_time": "2023-06-23T09:07:13.388Z"
   },
   {
    "duration": 61,
    "start_time": "2023-06-23T09:07:13.399Z"
   },
   {
    "duration": 21,
    "start_time": "2023-06-23T09:07:13.463Z"
   },
   {
    "duration": 13,
    "start_time": "2023-06-23T09:07:13.486Z"
   },
   {
    "duration": 29,
    "start_time": "2023-06-23T09:07:13.501Z"
   },
   {
    "duration": 21,
    "start_time": "2023-06-23T09:07:13.532Z"
   },
   {
    "duration": 19,
    "start_time": "2023-06-23T09:07:13.556Z"
   },
   {
    "duration": 43,
    "start_time": "2023-06-23T09:07:13.577Z"
   },
   {
    "duration": 9,
    "start_time": "2023-06-23T09:07:13.622Z"
   },
   {
    "duration": 31,
    "start_time": "2023-06-23T09:07:13.633Z"
   },
   {
    "duration": 17,
    "start_time": "2023-06-23T09:07:13.666Z"
   },
   {
    "duration": 17,
    "start_time": "2023-06-23T09:07:13.685Z"
   },
   {
    "duration": 25,
    "start_time": "2023-06-23T09:07:13.704Z"
   },
   {
    "duration": 52,
    "start_time": "2023-06-23T09:07:13.738Z"
   },
   {
    "duration": 20,
    "start_time": "2023-06-23T09:07:13.792Z"
   },
   {
    "duration": 27,
    "start_time": "2023-06-23T09:07:13.814Z"
   },
   {
    "duration": 19,
    "start_time": "2023-06-23T09:07:13.844Z"
   },
   {
    "duration": 24,
    "start_time": "2023-06-23T09:07:13.866Z"
   },
   {
    "duration": 22,
    "start_time": "2023-06-23T09:07:13.893Z"
   },
   {
    "duration": 6,
    "start_time": "2023-06-23T09:07:13.917Z"
   },
   {
    "duration": 43,
    "start_time": "2023-06-23T09:07:13.924Z"
   },
   {
    "duration": 336,
    "start_time": "2023-06-23T09:07:13.969Z"
   },
   {
    "duration": 16,
    "start_time": "2023-06-23T09:07:14.307Z"
   },
   {
    "duration": 406,
    "start_time": "2023-06-23T09:07:14.327Z"
   },
   {
    "duration": 223,
    "start_time": "2023-06-23T09:07:14.734Z"
   },
   {
    "duration": 22,
    "start_time": "2023-06-23T09:07:14.959Z"
   },
   {
    "duration": 310,
    "start_time": "2023-06-23T09:07:14.983Z"
   },
   {
    "duration": 259,
    "start_time": "2023-06-23T09:07:15.295Z"
   },
   {
    "duration": 297,
    "start_time": "2023-06-23T09:07:15.556Z"
   },
   {
    "duration": 17,
    "start_time": "2023-06-23T09:07:15.856Z"
   },
   {
    "duration": 207,
    "start_time": "2023-06-23T09:07:15.875Z"
   },
   {
    "duration": 2165,
    "start_time": "2023-06-23T09:07:16.084Z"
   },
   {
    "duration": 176,
    "start_time": "2023-06-23T09:07:18.254Z"
   },
   {
    "duration": 39,
    "start_time": "2023-06-23T09:07:18.432Z"
   },
   {
    "duration": 348,
    "start_time": "2023-06-23T09:07:18.473Z"
   },
   {
    "duration": 11,
    "start_time": "2023-06-23T09:07:18.823Z"
   },
   {
    "duration": 528,
    "start_time": "2023-06-23T09:07:18.836Z"
   },
   {
    "duration": 11,
    "start_time": "2023-06-23T09:07:19.366Z"
   },
   {
    "duration": 34,
    "start_time": "2023-06-23T09:07:19.380Z"
   },
   {
    "duration": 61,
    "start_time": "2023-06-23T09:07:19.415Z"
   },
   {
    "duration": 110,
    "start_time": "2023-06-23T09:07:19.478Z"
   },
   {
    "duration": 13,
    "start_time": "2023-06-23T09:07:19.590Z"
   },
   {
    "duration": 43,
    "start_time": "2023-06-23T09:07:19.604Z"
   },
   {
    "duration": 93,
    "start_time": "2023-06-23T09:07:19.649Z"
   },
   {
    "duration": 14,
    "start_time": "2023-06-23T09:07:19.744Z"
   },
   {
    "duration": 96,
    "start_time": "2023-06-23T09:07:19.760Z"
   },
   {
    "duration": 119,
    "start_time": "2023-06-23T09:07:19.858Z"
   },
   {
    "duration": 152,
    "start_time": "2023-06-23T09:07:19.979Z"
   },
   {
    "duration": 22,
    "start_time": "2023-06-23T09:07:20.133Z"
   },
   {
    "duration": 64,
    "start_time": "2023-06-23T09:07:20.157Z"
   },
   {
    "duration": 38,
    "start_time": "2023-06-23T09:07:20.223Z"
   },
   {
    "duration": 43,
    "start_time": "2023-06-23T09:07:20.264Z"
   },
   {
    "duration": 41,
    "start_time": "2023-06-23T09:07:20.309Z"
   },
   {
    "duration": 120,
    "start_time": "2023-06-23T09:07:20.352Z"
   },
   {
    "duration": 568,
    "start_time": "2023-06-23T09:07:20.474Z"
   },
   {
    "duration": 28,
    "start_time": "2023-06-23T09:07:21.044Z"
   },
   {
    "duration": 24,
    "start_time": "2023-06-23T09:07:21.074Z"
   },
   {
    "duration": 78,
    "start_time": "2023-06-23T09:07:21.100Z"
   },
   {
    "duration": 28,
    "start_time": "2023-06-23T09:07:21.180Z"
   },
   {
    "duration": 73,
    "start_time": "2023-06-23T09:07:21.210Z"
   },
   {
    "duration": 79,
    "start_time": "2023-06-23T09:07:21.285Z"
   },
   {
    "duration": 94,
    "start_time": "2023-06-23T09:07:21.366Z"
   },
   {
    "duration": 106,
    "start_time": "2023-06-23T09:07:21.463Z"
   },
   {
    "duration": 50,
    "start_time": "2023-06-23T09:07:21.571Z"
   },
   {
    "duration": 154,
    "start_time": "2023-06-23T09:07:21.623Z"
   },
   {
    "duration": 47,
    "start_time": "2023-06-23T09:07:21.779Z"
   },
   {
    "duration": 60,
    "start_time": "2023-06-23T09:07:21.828Z"
   },
   {
    "duration": 25,
    "start_time": "2023-06-23T09:07:21.891Z"
   },
   {
    "duration": 81,
    "start_time": "2023-06-23T09:07:21.918Z"
   },
   {
    "duration": 106,
    "start_time": "2023-06-23T09:07:22.001Z"
   },
   {
    "duration": 149,
    "start_time": "2023-06-23T09:07:22.109Z"
   },
   {
    "duration": 136,
    "start_time": "2023-06-23T09:07:22.260Z"
   },
   {
    "duration": 51,
    "start_time": "2023-06-23T09:07:22.400Z"
   },
   {
    "duration": 63,
    "start_time": "2023-06-23T09:07:22.453Z"
   },
   {
    "duration": 48,
    "start_time": "2023-06-23T09:07:22.518Z"
   },
   {
    "duration": 126,
    "start_time": "2023-06-23T09:07:22.569Z"
   },
   {
    "duration": 214,
    "start_time": "2023-06-23T09:07:22.697Z"
   },
   {
    "duration": 74,
    "start_time": "2023-06-23T09:07:22.913Z"
   },
   {
    "duration": 68,
    "start_time": "2023-06-23T09:07:22.989Z"
   },
   {
    "duration": 8,
    "start_time": "2023-06-23T09:07:23.060Z"
   },
   {
    "duration": 39,
    "start_time": "2023-06-23T09:07:23.070Z"
   },
   {
    "duration": 34,
    "start_time": "2023-06-23T09:07:23.111Z"
   },
   {
    "duration": 58,
    "start_time": "2023-06-23T09:07:23.147Z"
   },
   {
    "duration": 35,
    "start_time": "2023-06-23T09:07:23.207Z"
   },
   {
    "duration": 43,
    "start_time": "2023-06-23T09:07:23.244Z"
   },
   {
    "duration": 30,
    "start_time": "2023-06-23T09:07:23.289Z"
   },
   {
    "duration": 34,
    "start_time": "2023-06-23T09:07:23.321Z"
   },
   {
    "duration": 25,
    "start_time": "2023-06-23T09:07:23.357Z"
   }
  ],
  "kernelspec": {
   "display_name": "Python 3 (ipykernel)",
   "language": "python",
   "name": "python3"
  },
  "language_info": {
   "codemirror_mode": {
    "name": "ipython",
    "version": 3
   },
   "file_extension": ".py",
   "mimetype": "text/x-python",
   "name": "python",
   "nbconvert_exporter": "python",
   "pygments_lexer": "ipython3",
   "version": "3.10.9"
  },
  "toc": {
   "base_numbering": 1,
   "nav_menu": {},
   "number_sections": true,
   "sideBar": true,
   "skip_h1_title": true,
   "title_cell": "Table of Contents",
   "title_sidebar": "Contents",
   "toc_cell": false,
   "toc_position": {},
   "toc_section_display": true,
   "toc_window_display": false
  }
 },
 "nbformat": 4,
 "nbformat_minor": 2
}
