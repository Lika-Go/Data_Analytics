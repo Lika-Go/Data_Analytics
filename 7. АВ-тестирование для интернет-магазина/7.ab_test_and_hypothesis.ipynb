{
 "cells": [
  {
   "cell_type": "markdown",
   "metadata": {},
   "source": [
    "# Принятие решений в бизнесе\n",
    "# Описание проекта\n",
    "Вы — аналитик крупного интернет-магазина. Вместе с отделом маркетинга вы подготовили список гипотез для увеличения выручки.\n",
    "<br>Приоритизируем гипотезы, запустим A/B-тест и проанализируем результаты. \n"
   ]
  },
  {
   "cell_type": "markdown",
   "metadata": {},
   "source": [
    "## Приоритизация гипотез.\n",
    "В файле */datasets/hypothesis.csv* 9 гипотез по увеличению выручки интернет-магазина с указанными параметрами *Reach, Impact, Confidence, Effort*. <br><br>\n",
    "**Задача**\n",
    "* Применим фреймворк ICE для приоритизации гипотез. Отсортируйте их по убыванию приоритета.\n",
    "* Применим фреймворк RICE для приоритизации гипотез. Отсортируйте их по убыванию приоритета.\n",
    "* Укажем, как изменилась приоритизация гипотез при применении RICE вместо ICE. Объясните, почему так произошло."
   ]
  },
  {
   "cell_type": "code",
   "execution_count": 1,
   "metadata": {},
   "outputs": [],
   "source": [
    "import pandas as pd\n",
    "import matplotlib.pyplot as plt\n",
    "import datetime as dt\n",
    "import numpy as np\n",
    "import scipy.stats as stats\n",
    "%matplotlib inline"
   ]
  },
  {
   "cell_type": "code",
   "execution_count": 2,
   "metadata": {},
   "outputs": [
    {
     "data": {
      "text/html": [
       "<div>\n",
       "<style scoped>\n",
       "    .dataframe tbody tr th:only-of-type {\n",
       "        vertical-align: middle;\n",
       "    }\n",
       "\n",
       "    .dataframe tbody tr th {\n",
       "        vertical-align: top;\n",
       "    }\n",
       "\n",
       "    .dataframe thead th {\n",
       "        text-align: right;\n",
       "    }\n",
       "</style>\n",
       "<table border=\"1\" class=\"dataframe\">\n",
       "  <thead>\n",
       "    <tr style=\"text-align: right;\">\n",
       "      <th></th>\n",
       "      <th>hypothesis</th>\n",
       "      <th>ICE</th>\n",
       "    </tr>\n",
       "  </thead>\n",
       "  <tbody>\n",
       "    <tr>\n",
       "      <th>8</th>\n",
       "      <td>Запустить акцию, дающую скидку на товар в день...</td>\n",
       "      <td>16.200000</td>\n",
       "    </tr>\n",
       "    <tr>\n",
       "      <th>0</th>\n",
       "      <td>Добавить два новых канала привлечения трафика,...</td>\n",
       "      <td>13.333333</td>\n",
       "    </tr>\n",
       "    <tr>\n",
       "      <th>7</th>\n",
       "      <td>Добавить форму подписки на все основные страни...</td>\n",
       "      <td>11.200000</td>\n",
       "    </tr>\n",
       "    <tr>\n",
       "      <th>6</th>\n",
       "      <td>Показать на главной странице баннеры с актуаль...</td>\n",
       "      <td>8.000000</td>\n",
       "    </tr>\n",
       "    <tr>\n",
       "      <th>2</th>\n",
       "      <td>Добавить блоки рекомендаций товаров на сайт ин...</td>\n",
       "      <td>7.000000</td>\n",
       "    </tr>\n",
       "    <tr>\n",
       "      <th>1</th>\n",
       "      <td>Запустить собственную службу доставки, что сок...</td>\n",
       "      <td>2.000000</td>\n",
       "    </tr>\n",
       "    <tr>\n",
       "      <th>5</th>\n",
       "      <td>Добавить страницу отзывов клиентов о магазине,...</td>\n",
       "      <td>1.333333</td>\n",
       "    </tr>\n",
       "    <tr>\n",
       "      <th>3</th>\n",
       "      <td>Изменить структура категорий, что увеличит кон...</td>\n",
       "      <td>1.125000</td>\n",
       "    </tr>\n",
       "    <tr>\n",
       "      <th>4</th>\n",
       "      <td>Изменить цвет фона главной страницы, чтобы уве...</td>\n",
       "      <td>1.000000</td>\n",
       "    </tr>\n",
       "  </tbody>\n",
       "</table>\n",
       "</div>"
      ],
      "text/plain": [
       "                                          hypothesis        ICE\n",
       "8  Запустить акцию, дающую скидку на товар в день...  16.200000\n",
       "0  Добавить два новых канала привлечения трафика,...  13.333333\n",
       "7  Добавить форму подписки на все основные страни...  11.200000\n",
       "6  Показать на главной странице баннеры с актуаль...   8.000000\n",
       "2  Добавить блоки рекомендаций товаров на сайт ин...   7.000000\n",
       "1  Запустить собственную службу доставки, что сок...   2.000000\n",
       "5  Добавить страницу отзывов клиентов о магазине,...   1.333333\n",
       "3  Изменить структура категорий, что увеличит кон...   1.125000\n",
       "4  Изменить цвет фона главной страницы, чтобы уве...   1.000000"
      ]
     },
     "metadata": {},
     "output_type": "display_data"
    }
   ],
   "source": [
    "#Откроем файл с гипотезами:\n",
    "data = pd.read_csv('/datasets/hypothesis.csv', sep=',')\n",
    "\n",
    "#Приведем названия столбцов к нижнему регистру:\n",
    "data.columns = data.columns.str.lower()\n",
    "\n",
    "#Применим фреймворк ICE:\n",
    "data['ICE'] = (data['impact'] * data['confidence'])/data['efforts']\n",
    "display(data[['hypothesis', 'ICE']].sort_values(by=['ICE'], ascending=False))"
   ]
  },
  {
   "cell_type": "code",
   "execution_count": 3,
   "metadata": {
    "scrolled": true
   },
   "outputs": [
    {
     "data": {
      "text/html": [
       "<div>\n",
       "<style scoped>\n",
       "    .dataframe tbody tr th:only-of-type {\n",
       "        vertical-align: middle;\n",
       "    }\n",
       "\n",
       "    .dataframe tbody tr th {\n",
       "        vertical-align: top;\n",
       "    }\n",
       "\n",
       "    .dataframe thead th {\n",
       "        text-align: right;\n",
       "    }\n",
       "</style>\n",
       "<table border=\"1\" class=\"dataframe\">\n",
       "  <thead>\n",
       "    <tr style=\"text-align: right;\">\n",
       "      <th></th>\n",
       "      <th>hypothesis</th>\n",
       "      <th>RICE</th>\n",
       "    </tr>\n",
       "  </thead>\n",
       "  <tbody>\n",
       "    <tr>\n",
       "      <th>7</th>\n",
       "      <td>Добавить форму подписки на все основные страни...</td>\n",
       "      <td>112.0</td>\n",
       "    </tr>\n",
       "    <tr>\n",
       "      <th>2</th>\n",
       "      <td>Добавить блоки рекомендаций товаров на сайт ин...</td>\n",
       "      <td>56.0</td>\n",
       "    </tr>\n",
       "    <tr>\n",
       "      <th>0</th>\n",
       "      <td>Добавить два новых канала привлечения трафика,...</td>\n",
       "      <td>40.0</td>\n",
       "    </tr>\n",
       "    <tr>\n",
       "      <th>6</th>\n",
       "      <td>Показать на главной странице баннеры с актуаль...</td>\n",
       "      <td>40.0</td>\n",
       "    </tr>\n",
       "    <tr>\n",
       "      <th>8</th>\n",
       "      <td>Запустить акцию, дающую скидку на товар в день...</td>\n",
       "      <td>16.2</td>\n",
       "    </tr>\n",
       "    <tr>\n",
       "      <th>3</th>\n",
       "      <td>Изменить структура категорий, что увеличит кон...</td>\n",
       "      <td>9.0</td>\n",
       "    </tr>\n",
       "    <tr>\n",
       "      <th>1</th>\n",
       "      <td>Запустить собственную службу доставки, что сок...</td>\n",
       "      <td>4.0</td>\n",
       "    </tr>\n",
       "    <tr>\n",
       "      <th>5</th>\n",
       "      <td>Добавить страницу отзывов клиентов о магазине,...</td>\n",
       "      <td>4.0</td>\n",
       "    </tr>\n",
       "    <tr>\n",
       "      <th>4</th>\n",
       "      <td>Изменить цвет фона главной страницы, чтобы уве...</td>\n",
       "      <td>3.0</td>\n",
       "    </tr>\n",
       "  </tbody>\n",
       "</table>\n",
       "</div>"
      ],
      "text/plain": [
       "                                          hypothesis   RICE\n",
       "7  Добавить форму подписки на все основные страни...  112.0\n",
       "2  Добавить блоки рекомендаций товаров на сайт ин...   56.0\n",
       "0  Добавить два новых канала привлечения трафика,...   40.0\n",
       "6  Показать на главной странице баннеры с актуаль...   40.0\n",
       "8  Запустить акцию, дающую скидку на товар в день...   16.2\n",
       "3  Изменить структура категорий, что увеличит кон...    9.0\n",
       "1  Запустить собственную службу доставки, что сок...    4.0\n",
       "5  Добавить страницу отзывов клиентов о магазине,...    4.0\n",
       "4  Изменить цвет фона главной страницы, чтобы уве...    3.0"
      ]
     },
     "metadata": {},
     "output_type": "display_data"
    }
   ],
   "source": [
    "#Применим фреймворк RICE:\n",
    "data['RICE'] = (data['reach'] * data['impact'] * data['confidence'])/data['efforts']\n",
    "display(data[['hypothesis', 'RICE']].sort_values(by=['RICE'], ascending=False))"
   ]
  },
  {
   "cell_type": "markdown",
   "metadata": {},
   "source": [
    " **Как изменилась приоритизация гипотез при применении RICE вместо ICE? Почему так произошло?**\n",
    " <br>\n",
    "При применении RICE в числителе формулы одним из множителей учитывается Reach — скольких пользователей затронет изменение, которое мы хотим внести. Таким образом, мы смогли оценить степень влияния каждой гипотезы, ее масштабность, охват.\n",
    "<br><br>\n",
    "Таким образом, по RICE наибольшее эффективны гипотезы **7,2,0**. А по ICE наиболее перспективны **8,0,7.**\n",
    "То есть благодаря RICE мы получаем в топе также 2-ю гипотезу, помимо 0-й и 7-й, которые вышли в топ ICE.<br>\n",
    "**Гипотеза 2:** *Добавить блоки рекомендаций товаров на сайт интернет магазина, чтобы повысить конверсию и средний чек заказа.*\n",
    "<br><br>\n",
    "Остальные части фреймворков RICE и ICE идентичны:<br>\n",
    "Impact — насколько сильно изменение повлияет на пользователей, их опыт и удовлетворение от продукта;<br>\n",
    "Confidence — насколько мы уверены, что это изменение повлияет на пользователей именно так; <br>\n",
    "Efforts — каких усилий стоит протестировать эту гипотезу. <br>\n"
   ]
  },
  {
   "cell_type": "markdown",
   "metadata": {},
   "source": [
    "## Анализ A/B-теста\n",
    "Мы провели A/B-тест и получили результаты, которые описаны в файлах */datasets/orders.csv* и */datasets/visitors.csv.*\n",
    "<br><br>\n",
    "**Задача** <br>\n",
    "Проанализируем A/B-тест:\n",
    "1. Построим график кумулятивной выручки по группам. Сделаем выводы и предположения.\n",
    "2. Построим график кумулятивного среднего чека по группам. Сделаем выводы и предположения.\n",
    "3. Построим график относительного изменения кумулятивного среднего чека группы B к группе A. Сделаем выводы и предположения.\n",
    "4. Построим график кумулятивного среднего количества заказов на посетителя по группам. Сделаем выводы и предположения.\n",
    "5. Построим график относительного изменения кумулятивного среднего количества заказов на посетителя группы B к группе A. Сделаем выводы и предположения.\n",
    "6. Построим точечный график количества заказов по пользователям. Сделаем выводы и предположения.\n",
    "7. Посчитаем 95-й и 99-й перцентили количества заказов на пользователя. Выберем границу для определения аномальных пользователей.\n",
    "8. Построим точечный график стоимостей заказов. Сделаем выводы и предположения.\n",
    "9. Посчитаем 95-й и 99-й перцентили стоимости заказов. Выберем границу для определения аномальных заказов.\n",
    "10. Посчитаем статистическую значимость различий в среднем количестве заказов на посетителя между группами по «сырым» данным. Сделаем выводы и предположения.\n",
    "11. Посчитаем статистическую значимость различий в среднем чеке заказа между группами по «сырым» данным. Сделаем выводы и предположения.\n",
    "12. Посчитаем статистическую значимость различий в среднем количестве заказов на посетителя между группами по «очищенным» данным. Сделаем выводы и предположения.\n",
    "13. Посчитаем статистическую значимость различий в среднем чеке заказа между группами по «очищенным» данным. Сделаем выводы и предположения.\n",
    "14. Примем решение по результатам теста и объясним его. Варианты решений: <br>\n",
    "А) Остановить тест, зафиксировать победу одной из групп.<br>\n",
    "Б) Остановить тест, зафиксировать отсутствие различий между группами.<br>\n",
    "В) Продолжить тест.\n",
    "<br>"
   ]
  },
  {
   "cell_type": "markdown",
   "metadata": {},
   "source": [
    "### Предобработка данных:"
   ]
  },
  {
   "cell_type": "code",
   "execution_count": 4,
   "metadata": {},
   "outputs": [
    {
     "data": {
      "text/html": [
       "<div>\n",
       "<style scoped>\n",
       "    .dataframe tbody tr th:only-of-type {\n",
       "        vertical-align: middle;\n",
       "    }\n",
       "\n",
       "    .dataframe tbody tr th {\n",
       "        vertical-align: top;\n",
       "    }\n",
       "\n",
       "    .dataframe thead th {\n",
       "        text-align: right;\n",
       "    }\n",
       "</style>\n",
       "<table border=\"1\" class=\"dataframe\">\n",
       "  <thead>\n",
       "    <tr style=\"text-align: right;\">\n",
       "      <th></th>\n",
       "      <th>transactionId</th>\n",
       "      <th>visitorId</th>\n",
       "      <th>date</th>\n",
       "      <th>revenue</th>\n",
       "      <th>group</th>\n",
       "    </tr>\n",
       "  </thead>\n",
       "  <tbody>\n",
       "    <tr>\n",
       "      <th>0</th>\n",
       "      <td>3667963787</td>\n",
       "      <td>3312258926</td>\n",
       "      <td>2019-08-15</td>\n",
       "      <td>1650</td>\n",
       "      <td>B</td>\n",
       "    </tr>\n",
       "    <tr>\n",
       "      <th>1</th>\n",
       "      <td>2804400009</td>\n",
       "      <td>3642806036</td>\n",
       "      <td>2019-08-15</td>\n",
       "      <td>730</td>\n",
       "      <td>B</td>\n",
       "    </tr>\n",
       "    <tr>\n",
       "      <th>2</th>\n",
       "      <td>2961555356</td>\n",
       "      <td>4069496402</td>\n",
       "      <td>2019-08-15</td>\n",
       "      <td>400</td>\n",
       "      <td>A</td>\n",
       "    </tr>\n",
       "    <tr>\n",
       "      <th>3</th>\n",
       "      <td>3797467345</td>\n",
       "      <td>1196621759</td>\n",
       "      <td>2019-08-15</td>\n",
       "      <td>9759</td>\n",
       "      <td>B</td>\n",
       "    </tr>\n",
       "    <tr>\n",
       "      <th>4</th>\n",
       "      <td>2282983706</td>\n",
       "      <td>2322279887</td>\n",
       "      <td>2019-08-15</td>\n",
       "      <td>2308</td>\n",
       "      <td>B</td>\n",
       "    </tr>\n",
       "  </tbody>\n",
       "</table>\n",
       "</div>"
      ],
      "text/plain": [
       "   transactionId   visitorId       date  revenue group\n",
       "0     3667963787  3312258926 2019-08-15     1650     B\n",
       "1     2804400009  3642806036 2019-08-15      730     B\n",
       "2     2961555356  4069496402 2019-08-15      400     A\n",
       "3     3797467345  1196621759 2019-08-15     9759     B\n",
       "4     2282983706  2322279887 2019-08-15     2308     B"
      ]
     },
     "metadata": {},
     "output_type": "display_data"
    },
    {
     "data": {
      "text/html": [
       "<div>\n",
       "<style scoped>\n",
       "    .dataframe tbody tr th:only-of-type {\n",
       "        vertical-align: middle;\n",
       "    }\n",
       "\n",
       "    .dataframe tbody tr th {\n",
       "        vertical-align: top;\n",
       "    }\n",
       "\n",
       "    .dataframe thead th {\n",
       "        text-align: right;\n",
       "    }\n",
       "</style>\n",
       "<table border=\"1\" class=\"dataframe\">\n",
       "  <thead>\n",
       "    <tr style=\"text-align: right;\">\n",
       "      <th></th>\n",
       "      <th>date</th>\n",
       "      <th>group</th>\n",
       "      <th>visitors</th>\n",
       "    </tr>\n",
       "  </thead>\n",
       "  <tbody>\n",
       "    <tr>\n",
       "      <th>0</th>\n",
       "      <td>2019-08-01</td>\n",
       "      <td>A</td>\n",
       "      <td>719</td>\n",
       "    </tr>\n",
       "    <tr>\n",
       "      <th>1</th>\n",
       "      <td>2019-08-02</td>\n",
       "      <td>A</td>\n",
       "      <td>619</td>\n",
       "    </tr>\n",
       "    <tr>\n",
       "      <th>2</th>\n",
       "      <td>2019-08-03</td>\n",
       "      <td>A</td>\n",
       "      <td>507</td>\n",
       "    </tr>\n",
       "    <tr>\n",
       "      <th>3</th>\n",
       "      <td>2019-08-04</td>\n",
       "      <td>A</td>\n",
       "      <td>717</td>\n",
       "    </tr>\n",
       "    <tr>\n",
       "      <th>4</th>\n",
       "      <td>2019-08-05</td>\n",
       "      <td>A</td>\n",
       "      <td>756</td>\n",
       "    </tr>\n",
       "  </tbody>\n",
       "</table>\n",
       "</div>"
      ],
      "text/plain": [
       "        date group  visitors\n",
       "0 2019-08-01     A       719\n",
       "1 2019-08-02     A       619\n",
       "2 2019-08-03     A       507\n",
       "3 2019-08-04     A       717\n",
       "4 2019-08-05     A       756"
      ]
     },
     "metadata": {},
     "output_type": "display_data"
    }
   ],
   "source": [
    "#Прочтём данные из файлов с результатами A/B-тестирования: \n",
    "\n",
    "orders = pd.read_csv('/datasets/orders.csv', sep=',')\n",
    "orders['date'] = orders['date'].map(\n",
    "    lambda x: dt.datetime.strptime(x, '%Y-%m-%d')\n",
    ")\n",
    "\n",
    "visitors = pd.read_csv(\n",
    "    '/datasets/visitors.csv', sep=','\n",
    ")\n",
    "visitors['date'] = visitors['date'].map(\n",
    "    lambda x: dt.datetime.strptime(x, '%Y-%m-%d')\n",
    ")\n",
    "\n",
    "display(orders.head())\n",
    "display(visitors.head()) "
   ]
  },
  {
   "cell_type": "markdown",
   "metadata": {},
   "source": [
    "**Столбцы датафрейма orders:**\n",
    "* *transactionId* — идентификатор транзакции / заказа;\n",
    "* *visitorId* — идентификатор пользователя, совершившего заказ;\n",
    "* *date* — дата заказа;\n",
    "* *revenue* — выручка с заказа;\n",
    "* *group* — группа A/B-теста (A или B).\n",
    "\n",
    "\n",
    "**Столбцы датафрейма visitors:** \n",
    "* *date* — дата;\n",
    "* *group* — группа A/B-теста (A или B);\n",
    "* *visitors* — количество посетителей интернет-магазина в определённой группе A/B-теста в указанную дату."
   ]
  },
  {
   "cell_type": "markdown",
   "metadata": {},
   "source": [
    "#### Типы данных"
   ]
  },
  {
   "cell_type": "code",
   "execution_count": 5,
   "metadata": {},
   "outputs": [
    {
     "name": "stdout",
     "output_type": "stream",
     "text": [
      "Типы данных в visitors\n",
      "<class 'pandas.core.frame.DataFrame'>\n",
      "RangeIndex: 62 entries, 0 to 61\n",
      "Data columns (total 3 columns):\n",
      " #   Column    Non-Null Count  Dtype         \n",
      "---  ------    --------------  -----         \n",
      " 0   date      62 non-null     datetime64[ns]\n",
      " 1   group     62 non-null     object        \n",
      " 2   visitors  62 non-null     int64         \n",
      "dtypes: datetime64[ns](1), int64(1), object(1)\n",
      "memory usage: 1.6+ KB\n",
      "None\n",
      "\n",
      "Типы данных в orders\n",
      "<class 'pandas.core.frame.DataFrame'>\n",
      "RangeIndex: 1197 entries, 0 to 1196\n",
      "Data columns (total 5 columns):\n",
      " #   Column         Non-Null Count  Dtype         \n",
      "---  ------         --------------  -----         \n",
      " 0   transactionId  1197 non-null   int64         \n",
      " 1   visitorId      1197 non-null   int64         \n",
      " 2   date           1197 non-null   datetime64[ns]\n",
      " 3   revenue        1197 non-null   int64         \n",
      " 4   group          1197 non-null   object        \n",
      "dtypes: datetime64[ns](1), int64(3), object(1)\n",
      "memory usage: 46.9+ KB\n",
      "None\n"
     ]
    }
   ],
   "source": [
    "#Узнаем, какие типы данных в наших датасетах:\n",
    "print('Типы данных в visitors')\n",
    "print(visitors.info())\n",
    "print()\n",
    "print('Типы данных в orders')\n",
    "print(orders.info())\n"
   ]
  },
  {
   "cell_type": "markdown",
   "metadata": {},
   "source": [
    "**Вывод:**\n",
    "* Типы данных соответствуют содержимому столбцов."
   ]
  },
  {
   "cell_type": "markdown",
   "metadata": {},
   "source": [
    "#### Пропуски данных\n",
    "\n",
    "Посмотрим, где пропущены значения и сколько всего пропусков в столбцах.<br>\n",
    "А также посчитаем общее количество строк в файлах."
   ]
  },
  {
   "cell_type": "code",
   "execution_count": 6,
   "metadata": {},
   "outputs": [
    {
     "name": "stdout",
     "output_type": "stream",
     "text": [
      "date        0\n",
      "group       0\n",
      "visitors    0\n",
      "dtype: int64\n",
      "Всего строк в visitors: 62\n",
      "\n",
      "transactionId    0\n",
      "visitorId        0\n",
      "date             0\n",
      "revenue          0\n",
      "group            0\n",
      "dtype: int64\n",
      "Всего строк в orders: 1197\n"
     ]
    }
   ],
   "source": [
    "no_visitors = visitors.isna().sum().sort_values(ascending=False)\n",
    "no_orders = orders.isna().sum().sort_values(ascending=False)\n",
    "\n",
    "print(no_visitors)\n",
    "print('Всего строк в visitors:', len(visitors))\n",
    "print()\n",
    "\n",
    "print(no_orders)\n",
    "print('Всего строк в orders:', len(orders))"
   ]
  },
  {
   "cell_type": "markdown",
   "metadata": {},
   "source": [
    "**Вывод:**\n",
    "* Все в порядке, пропусков нет.\n",
    "* В visitors 62 строки, в orders - 1197."
   ]
  },
  {
   "cell_type": "markdown",
   "metadata": {},
   "source": [
    "#### Проверим, сколько человек попали в группы А и В"
   ]
  },
  {
   "cell_type": "code",
   "execution_count": 7,
   "metadata": {},
   "outputs": [
    {
     "name": "stdout",
     "output_type": "stream",
     "text": [
      "       date  visitors\n",
      "group                \n",
      "A        31        31\n",
      "B        31        31\n"
     ]
    }
   ],
   "source": [
    "new_profiles = visitors.groupby(['group']).count()\n",
    "print(new_profiles)"
   ]
  },
  {
   "cell_type": "markdown",
   "metadata": {},
   "source": [
    "#### Проверка на дубликаты"
   ]
  },
  {
   "cell_type": "code",
   "execution_count": 8,
   "metadata": {
    "scrolled": true
   },
   "outputs": [
    {
     "name": "stdout",
     "output_type": "stream",
     "text": [
      "Полных совпадений строк в visitors: 0\n",
      "Полных совпадений строк в orders: 0\n",
      "\n",
      "Совпадений заказов по ID посетителя:\n",
      "4256040402    11\n",
      "2458001652    11\n",
      "2378935119     9\n",
      "2038680547     8\n",
      "199603092      5\n",
      "237748145      5\n",
      "3717692402     5\n",
      "3062433592     5\n",
      "3803269165     5\n",
      "1230306981     5\n",
      "2587333274     4\n",
      "1614305549     4\n",
      "457167155      4\n",
      "3967698036     3\n",
      "611059232      3\n",
      "Name: visitorId, dtype: int64\n"
     ]
    }
   ],
   "source": [
    "#Проверка на явные дубликаты:\n",
    "print('Полных совпадений строк в visitors:', visitors.duplicated().sum())\n",
    "print('Полных совпадений строк в orders:', orders.duplicated().sum())\n",
    "print()\n",
    "\n",
    "#Совпадения заказов по ID посетителя:\n",
    "print('Совпадений заказов по ID посетителя:')\n",
    "print(orders['visitorId'].value_counts().head(15))\n"
   ]
  },
  {
   "cell_type": "code",
   "execution_count": 9,
   "metadata": {
    "scrolled": false
   },
   "outputs": [
    {
     "name": "stdout",
     "output_type": "stream",
     "text": [
      "      transactionId   visitorId       date  revenue group\n",
      "60       1421016313  4256040402 2019-08-16    56650     B\n",
      "114      1120327437  4256040402 2019-08-01     5800     A\n",
      "187      2048878902  4256040402 2019-08-17     1550     A\n",
      "253      1610091760  4256040402 2019-08-23    16950     A\n",
      "263      2575861846  4256040402 2019-08-18    10970     B\n",
      "588      3700356838  4256040402 2019-08-20    17650     A\n",
      "873      2519737434  4256040402 2019-08-08    58220     B\n",
      "901      3402467119  4256040402 2019-08-27     1630     A\n",
      "1018     1415970216  4256040402 2019-08-31     5170     A\n",
      "1019      453824282  4256040402 2019-08-31     1850     B\n",
      "1091      750632879  4256040402 2019-08-12       50     A\n",
      "\n",
      "      transactionId   visitorId       date  revenue group\n",
      "133      3060563671  2458001652 2019-08-22     5190     A\n",
      "380      1177690313  2458001652 2019-08-25     2385     B\n",
      "454      3755354294  2458001652 2019-08-06     7349     B\n",
      "456       543654048  2458001652 2019-08-06     1620     A\n",
      "483      2280027650  2458001652 2019-08-06     6681     B\n",
      "611      1244084011  2458001652 2019-08-04      340     A\n",
      "692      3586870909  2458001652 2019-08-09     5227     B\n",
      "727      3959083601  2458001652 2019-08-07    17379     A\n",
      "883      2412219836  2458001652 2019-08-05     2420     B\n",
      "916       527333943  2458001652 2019-08-08     5227     B\n",
      "1062     1817215137  2458001652 2019-08-11     8280     A\n",
      "\n",
      "      transactionId   visitorId       date  revenue group\n",
      "33        486237576  2378935119 2019-08-15     1650     A\n",
      "118      4233533907  2378935119 2019-08-22     3390     A\n",
      "179      1784270968  2378935119 2019-08-17      310     A\n",
      "391      2213813903  2378935119 2019-08-25    21220     B\n",
      "435      2430683444  2378935119 2019-08-28    20450     B\n",
      "473      3224706027  2378935119 2019-08-28     4410     B\n",
      "697      1612868255  2378935119 2019-08-09    30649     B\n",
      "1029      469609643  2378935119 2019-08-10    58220     A\n",
      "1031     1661772358  2378935119 2019-08-10     2640     B\n",
      "\n",
      "     transactionId   visitorId       date  revenue group\n",
      "32      3666913472  2038680547 2019-08-15     1680     B\n",
      "117      722060263  2038680547 2019-08-22      760     A\n",
      "227     4267573899  2038680547 2019-08-17     3470     A\n",
      "390     2415738512  2038680547 2019-08-25      270     A\n",
      "577     3932236947  2038680547 2019-08-04     2800     B\n",
      "578     1570911533  2038680547 2019-08-04     1530     A\n",
      "605     1215730747  2038680547 2019-08-04     2540     A\n",
      "624     1666104258  2038680547 2019-08-29     2420     B\n",
      "\n",
      "      transactionId  visitorId       date  revenue group\n",
      "26       2223239646  199603092 2019-08-15     3488     A\n",
      "134        62794304  199603092 2019-08-22     6976     A\n",
      "246       437656952  199603092 2019-08-02     3488     B\n",
      "823      2971973105  199603092 2019-08-27     2790     A\n",
      "1102     1941707234  199603092 2019-08-12     6438     A\n",
      "\n",
      "      transactionId  visitorId       date  revenue group\n",
      "27       1630050528  237748145 2019-08-15     7620     B\n",
      "41       2594268419  237748145 2019-08-15     1090     A\n",
      "590      3702128013  237748145 2019-08-20     1290     A\n",
      "716       972407388  237748145 2019-08-27      470     A\n",
      "1097     3357467820  237748145 2019-08-12      340     A\n",
      "\n",
      "      transactionId   visitorId       date  revenue group\n",
      "359       615966907  3717692402 2019-08-28      910     B\n",
      "809      3362484972  3717692402 2019-08-21     2400     A\n",
      "838      1607016207  3717692402 2019-08-21     4170     B\n",
      "938      1575313118  3717692402 2019-08-08     1540     B\n",
      "1175     1373388206  3717692402 2019-08-14     2400     B\n",
      "\n",
      "      transactionId   visitorId       date  revenue group\n",
      "111      2736731761  3062433592 2019-08-01    14489     B\n",
      "112      1638982251  3062433592 2019-08-01     8470     B\n",
      "1096     3075787818  3062433592 2019-08-12    32610     B\n",
      "1098     1092419081  3062433592 2019-08-12    16920     A\n",
      "1100     1671551244  3062433592 2019-08-12     2970     B\n",
      "\n",
      "      transactionId   visitorId       date  revenue group\n",
      "29       2220299125  3803269165 2019-08-15      700     A\n",
      "252       473864496  3803269165 2019-08-23     2360     B\n",
      "693      3244441077  3803269165 2019-08-09      590     B\n",
      "1171     2860596918  3803269165 2019-08-14     6613     B\n",
      "1172     3898641900  3803269165 2019-08-14      790     B\n",
      "\n",
      "     transactionId   visitorId       date  revenue group\n",
      "672     3667885894  1230306981 2019-08-09     6613     A\n",
      "674     1748608673  1230306981 2019-08-09     6400     B\n",
      "675     2658936877  1230306981 2019-08-09     6440     B\n",
      "676      278311817  1230306981 2019-08-09     1690     A\n",
      "739     2541955961  1230306981 2019-08-09    10137     A\n",
      "\n",
      "     transactionId   visitorId       date  revenue group\n",
      "415     1825231501  2587333274 2019-08-06     8870     B\n",
      "729     2667448076  2587333274 2019-08-07     6170     B\n",
      "970     3478707774  2587333274 2019-08-08     3600     A\n",
      "972     2419539947  2587333274 2019-08-08     3600     B\n",
      "\n",
      "      transactionId   visitorId       date  revenue group\n",
      "685      2972137054  1614305549 2019-08-29     9680     B\n",
      "687      2663041816  1614305549 2019-08-29     1530     A\n",
      "767      1278695805  1614305549 2019-08-21      750     A\n",
      "1195     1947021204  1614305549 2019-08-14      100     A\n",
      "\n",
      "      transactionId  visitorId       date  revenue group\n",
      "94        252633006  457167155 2019-08-22     5970     B\n",
      "95        372616894  457167155 2019-08-22      987     B\n",
      "256      2370268995  457167155 2019-08-23     1620     A\n",
      "1074     3571123442  457167155 2019-08-12     1280     B\n"
     ]
    }
   ],
   "source": [
    "#Смотрим, в каких группах у нас посетители, которые совершали от 4 заказов:\n",
    "visitor_1 = orders.query('visitorId == 4256040402')\n",
    "visitor_2 = orders.query('visitorId == 2458001652')\n",
    "visitor_3 = orders.query('visitorId == 2378935119')\n",
    "visitor_4 = orders.query('visitorId == 2038680547')\n",
    "visitor_5 = orders.query('visitorId == 199603092')\n",
    "visitor_6 = orders.query('visitorId == 237748145')\n",
    "visitor_7 = orders.query('visitorId == 3717692402')\n",
    "visitor_8 = orders.query('visitorId == 3062433592')\n",
    "visitor_9 = orders.query('visitorId == 3803269165')\n",
    "visitor_10 = orders.query('visitorId == 1230306981')\n",
    "visitor_11 = orders.query('visitorId == 2587333274')\n",
    "visitor_12 = orders.query('visitorId == 1614305549')\n",
    "visitor_13 = orders.query('visitorId == 457167155')\n",
    "print(visitor_1)\n",
    "print()\n",
    "print(visitor_2)\n",
    "print()\n",
    "print(visitor_3)\n",
    "print()\n",
    "print(visitor_4)\n",
    "print()\n",
    "print(visitor_5)\n",
    "print()\n",
    "print(visitor_6)\n",
    "print()\n",
    "print(visitor_7)\n",
    "print()\n",
    "print(visitor_8)\n",
    "print()\n",
    "print(visitor_9)\n",
    "print()\n",
    "print(visitor_10)\n",
    "print()\n",
    "print(visitor_11)\n",
    "print()\n",
    "print(visitor_12)\n",
    "print()\n",
    "print(visitor_13)"
   ]
  },
  {
   "cell_type": "markdown",
   "metadata": {},
   "source": [
    "**Вывод:**\n",
    "* Действительно, как минимум 12 пользователей (visitorId) из файла orders, которые делали 4 и более заказов, попали в разные группы А и В."
   ]
  },
  {
   "cell_type": "markdown",
   "metadata": {},
   "source": [
    "### График кумулятивной выручки по группам:"
   ]
  },
  {
   "cell_type": "markdown",
   "metadata": {},
   "source": [
    "Чтобы построить графики, нужно собрать кумулятивные данные. \n",
    "Объявим датафрейм *cumulativeData* со столбцами: \n",
    "* *date* — дата;\n",
    "* *group* — группа A/B-теста (A или B);\n",
    "* *orders* — кумулятивное количество заказов на указанную дату в указанной группе;\n",
    "* *buyers* — кумулятивное количество пользователей, совершивших хотя бы один заказ, на указанную дату в указанной группе;\n",
    "* *revenue* — кумулятивная выручка на указанную дату в указанной группе (средний чек);\n",
    "* *visitors* — кумулятивное количество посетителей интернет-магазина на указанную дату в определённой группе.\n"
   ]
  },
  {
   "cell_type": "code",
   "execution_count": 10,
   "metadata": {},
   "outputs": [
    {
     "name": "stdout",
     "output_type": "stream",
     "text": [
      "        date group  orders  buyers  revenue  visitors\n",
      "0 2019-08-01     A      24      20   148579       719\n",
      "1 2019-08-01     B      21      20   101217       713\n",
      "2 2019-08-02     A      44      38   242401      1338\n",
      "3 2019-08-02     B      45      43   266748      1294\n",
      "4 2019-08-03     A      68      62   354874      1845\n"
     ]
    }
   ],
   "source": [
    "# создаем массив уникальных пар значений дат и групп теста\n",
    "datesGroups = orders[['date','group']].drop_duplicates()\n",
    "\n",
    "# получаем агрегированные кумулятивные по дням данные о заказах \n",
    "ordersAggregated = datesGroups.apply(lambda x: orders[np.logical_and(orders['date'] <= x['date'], orders['group'] == x['group'])].agg({'date' : 'max', 'group' : 'max', 'transactionId' : 'nunique', 'visitorId' : 'nunique', 'revenue' : 'sum'}), axis=1).sort_values(by=['date','group'])\n",
    "\n",
    "# получаем агрегированные кумулятивные по дням данные о посетителях интернет-магазина \n",
    "visitorsAggregated = datesGroups.apply(lambda x: visitors[np.logical_and(visitors['date'] <= x['date'], visitors['group'] == x['group'])].agg({'date' : 'max', 'group' : 'max', 'visitors' : 'sum'}), axis=1).sort_values(by=['date','group'])\n",
    "\n",
    "# объединяем кумулятивные данные в одной таблице и присваиваем ее столбцам понятные названия\n",
    "cumulativeData = ordersAggregated.merge(visitorsAggregated, left_on=['date', 'group'], right_on=['date', 'group'])\n",
    "cumulativeData.columns = ['date', 'group', 'orders', 'buyers', 'revenue', 'visitors']\n",
    "\n",
    "print(cumulativeData.head(5))"
   ]
  },
  {
   "cell_type": "code",
   "execution_count": 11,
   "metadata": {},
   "outputs": [
    {
     "data": {
      "image/png": "[encoded data removed]",
      "text/plain": [
       "<Figure size 1008x504 with 1 Axes>"
      ]
     },
     "metadata": {
      "needs_background": "light"
     },
     "output_type": "display_data"
    }
   ],
   "source": [
    "#Построим графики кумулятивной выручки по дням и группам A/B-тестирования.\n",
    "\n",
    "# датафрейм с кумулятивным количеством заказов и кумулятивной выручкой по дням в группе А\n",
    "cumulativeRevenueA = cumulativeData[cumulativeData['group']=='A'][['date','revenue', 'orders']]\n",
    "\n",
    "# датафрейм с кумулятивным количеством заказов и кумулятивной выручкой по дням в группе B\n",
    "cumulativeRevenueB = cumulativeData[cumulativeData['group']=='B'][['date','revenue', 'orders']]\n",
    "\n",
    "plt.figure(figsize=(14, 7))\n",
    "\n",
    "# Строим график выручки группы А\n",
    "plt.plot(cumulativeRevenueA['date'], cumulativeRevenueA['revenue'], label='A')\n",
    "\n",
    "# Строим график выручки группы B\n",
    "plt.plot(cumulativeRevenueB['date'], cumulativeRevenueB['revenue'], label='B')\n",
    "\n",
    "plt.title('График кумулятивной выручки по дням и группам A/B-тестирования')\n",
    "plt.ylabel('Выручка')\n",
    "plt.xlabel('Дата')\n",
    "plt.legend()\n",
    "plt.show()"
   ]
  },
  {
   "cell_type": "markdown",
   "metadata": {},
   "source": [
    "**Вывод:**\n",
    "* Выручка в группе А почти равномерно увеличивается в течение всего теста.\n",
    "* Выручка в группе В резко подскочила после 17 августа и далее росла с большим отрывом от группы А. Это может сигнализировать о всплесках числа заказов, либо о появлении очень дорогих заказов в выборке.\n",
    "* На графике вплоть до конца А/В-тестирования лидирует группа В."
   ]
  },
  {
   "cell_type": "markdown",
   "metadata": {},
   "source": [
    "### График кумулятивного среднего чека по группам"
   ]
  },
  {
   "cell_type": "code",
   "execution_count": 12,
   "metadata": {},
   "outputs": [
    {
     "data": {
      "image/png": "[encoded data removed]",
      "text/plain": [
       "<Figure size 1008x504 with 1 Axes>"
      ]
     },
     "metadata": {
      "needs_background": "light"
     },
     "output_type": "display_data"
    }
   ],
   "source": [
    "# Для нахождения кумулятивного среднего чека разделим кумулятивную выручку на кумулятивное число заказов:\n",
    "plt.figure(figsize=(14, 7))\n",
    "plt.plot(cumulativeRevenueA['date'], cumulativeRevenueA['revenue']/cumulativeRevenueA['orders'], label='A')\n",
    "plt.plot(cumulativeRevenueB['date'], cumulativeRevenueB['revenue']/cumulativeRevenueB['orders'], label='B')\n",
    "\n",
    "plt.title('График кумулятивного среднего чека')\n",
    "plt.ylabel('Размер среднего чека')\n",
    "plt.xlabel('Дата')\n",
    "plt.legend()\n",
    "plt.show()"
   ]
  },
  {
   "cell_type": "markdown",
   "metadata": {},
   "source": [
    "**Вывод:**\n",
    "* Средний чек скачет у обеих групп, но у группы А он становится равномерным  после 17 августа - примерно в районе 7000. \n",
    "* Для группы B средний чек резко увеличился до 10000 после 17 августа (в тот же момент, что и на предыдущем графике кумулятивной выручки) и далее несколько снизился (до 9500), но все равно остался в значительном отрыве от среднего чека группы А к концу тестирования. "
   ]
  },
  {
   "cell_type": "markdown",
   "metadata": {},
   "source": [
    "### График относительного изменения кумулятивного среднего чека группы B к группе A:"
   ]
  },
  {
   "cell_type": "code",
   "execution_count": 13,
   "metadata": {},
   "outputs": [
    {
     "data": {
      "image/png": "[encoded data removed]",
      "text/plain": [
       "<Figure size 1008x504 with 1 Axes>"
      ]
     },
     "metadata": {
      "needs_background": "light"
     },
     "output_type": "display_data"
    }
   ],
   "source": [
    "# собираем данные в одном датафрейме\n",
    "mergedCumulativeRevenue = cumulativeRevenueA.merge(cumulativeRevenueB, left_on='date', right_on='date', how='left', suffixes=['A', 'B'])\n",
    "\n",
    "# cтроим отношение средних чеков\n",
    "plt.figure(figsize=(14, 7))\n",
    "plt.plot(mergedCumulativeRevenue['date'], (mergedCumulativeRevenue['revenueB']/mergedCumulativeRevenue['ordersB'])/(mergedCumulativeRevenue['revenueA']/mergedCumulativeRevenue['ordersA'])-1)\n",
    "\n",
    "# добавляем ось X\n",
    "plt.axhline(y=0, color='black', linestyle='--')\n",
    "plt.title('График относительного изменения кумулятивного среднего чека')\n",
    "plt.ylabel('Относительное изменение кумулятивного среднего чека')\n",
    "plt.xlabel('Дата')\n",
    "plt.show()"
   ]
  },
  {
   "cell_type": "markdown",
   "metadata": {},
   "source": [
    "**Вывод:**\n",
    "* Так как график демонстрирует изменение кумулятивного среднего чека группы В относительно группы А, мы видим сильный разрыв между ними в пользу группы В, как и на предыдущем графике. Скорее всего, в группе В присутствуют особенно крупные заказы и выбросы. "
   ]
  },
  {
   "cell_type": "markdown",
   "metadata": {},
   "source": [
    "### График кумулятивного среднего количества заказов на посетителя по группам:"
   ]
  },
  {
   "cell_type": "code",
   "execution_count": 14,
   "metadata": {},
   "outputs": [
    {
     "data": {
      "image/png": "[encoded data removed]",
      "text/plain": [
       "<Figure size 1008x504 with 1 Axes>"
      ]
     },
     "metadata": {
      "needs_background": "light"
     },
     "output_type": "display_data"
    }
   ],
   "source": [
    "# считаем кумулятивное среднее количество заказов\n",
    "cumulativeData['conversion'] = cumulativeData['orders']/cumulativeData['visitors']\n",
    "\n",
    "# отделяем данные по группе A\n",
    "cumulativeDataA = cumulativeData[cumulativeData['group']=='A']\n",
    "\n",
    "# отделяем данные по группе B\n",
    "cumulativeDataB = cumulativeData[cumulativeData['group']=='B']\n",
    "\n",
    "# строим графики\n",
    "plt.figure(figsize=(14, 7))\n",
    "plt.plot(cumulativeDataA['date'], cumulativeDataA['conversion'], label='A')\n",
    "plt.plot(cumulativeDataB['date'], cumulativeDataB['conversion'], label='B')\n",
    "plt.legend()\n",
    "\n",
    "\n",
    "plt.title('График кумулятивного среднего количества заказов на посетителя по группам')\n",
    "plt.ylabel('Количество заказов')\n",
    "plt.xlabel('Дата')\n",
    "plt.show()"
   ]
  },
  {
   "cell_type": "markdown",
   "metadata": {},
   "source": [
    "**Вывод:**\n",
    "* Если в начале тестирования группы колебались двигались в одном направлении, то после 5 августа количество заказов группы В вырвалось вперёд и зафиксировалось, а количество заказов группы А просело и также зафиксировалось. В целом получился довольно симметричный график.\n"
   ]
  },
  {
   "cell_type": "markdown",
   "metadata": {},
   "source": [
    "### График относительного изменения кумулятивного среднего количества заказов на посетителя группы B к группе A. "
   ]
  },
  {
   "cell_type": "code",
   "execution_count": 15,
   "metadata": {},
   "outputs": [
    {
     "data": {
      "image/png": "[encoded data removed]",
      "text/plain": [
       "<Figure size 1008x504 with 1 Axes>"
      ]
     },
     "metadata": {
      "needs_background": "light"
     },
     "output_type": "display_data"
    }
   ],
   "source": [
    "mergedCumulativeConversions = cumulativeDataA[['date','conversion']].merge(cumulativeDataB[['date','conversion']], left_on='date', right_on='date', how='left', suffixes=['A', 'B'])\n",
    "\n",
    "plt.figure(figsize=(14, 7))\n",
    "plt.plot(mergedCumulativeConversions['date'], mergedCumulativeConversions['conversionB']/mergedCumulativeConversions['conversionA']-1, label=\"Относительный прирост среднего количества заказов на посетителя группы B относительно группы A\")\n",
    "plt.legend()\n",
    "\n",
    "plt.axhline(y=0, color='black', linestyle='--')\n",
    "plt.axhline(y=0.1, color='grey', linestyle='--')\n",
    "\n",
    "plt.title('График кумулятивного среднего количества заказов на посетителя по группам')\n",
    "plt.ylabel('Количество заказов')\n",
    "plt.xlabel('Дата')\n",
    "plt.show()"
   ]
  },
  {
   "cell_type": "markdown",
   "metadata": {},
   "source": [
    "**Вывод:**\n",
    "* В начале теста группа В немного проигрывала группе A, затем вырвалась вперёд. Среднее количество заказов группы В резко выросло после 5 августа и, немного опускаясь до линии поддержки в 0.1, отталкивалось от нее и колебалось в верхнем диапазоне до конца тестирования.\n",
    "* Следует проанализировать аномалии, возможно, они прояснят ситуацию. "
   ]
  },
  {
   "cell_type": "markdown",
   "metadata": {},
   "source": [
    "### Точечный график количества заказов по пользователям:"
   ]
  },
  {
   "cell_type": "code",
   "execution_count": 16,
   "metadata": {},
   "outputs": [
    {
     "data": {
      "image/png": "[encoded data removed]",
      "text/plain": [
       "<Figure size 864x432 with 1 Axes>"
      ]
     },
     "metadata": {
      "needs_background": "light"
     },
     "output_type": "display_data"
    }
   ],
   "source": [
    "data = pd.read_csv('/datasets/orders.csv', sep=',')\n",
    "data['date'] = data['date'].map(lambda x: dt.datetime.strptime(x, '%Y-%m-%d'))\n",
    "\n",
    "ordersByUsers = (\n",
    "    data.groupby('visitorId', as_index=False)\n",
    "    .agg({'transactionId': 'nunique'})\n",
    ")\n",
    "\n",
    "\n",
    "ordersByUsers.columns = ['visitorId', 'transactionId']\n",
    "\n",
    "plt.figure(figsize=(12, 6))\n",
    "\n",
    "x_values = pd.Series(range(0,len(ordersByUsers)))\n",
    "\n",
    "plt.scatter(x_values, ordersByUsers['transactionId']) \n",
    "plt.ylabel('Количество заказов')\n",
    "plt.xlabel('Пользователи')\n",
    "plt.title('Точечный график количества заказов по пользователям')\n",
    "plt.show()"
   ]
  },
  {
   "cell_type": "markdown",
   "metadata": {},
   "source": [
    "**Вывод:**\n",
    "* Некоторые пользователи заказывали 2 и более раз.\n",
    "* Есть пользователи, которые заказывали 5 и более раз.\n",
    "* А кое-кто даже заказывал больше 10 раз.\n",
    "\n",
    "Взглянем на выборочные перцентили количества заказов на одного пользователя.\n"
   ]
  },
  {
   "cell_type": "markdown",
   "metadata": {},
   "source": [
    "### 95-й и 99-й перцентили количества заказов на пользователя."
   ]
  },
  {
   "cell_type": "code",
   "execution_count": 17,
   "metadata": {},
   "outputs": [
    {
     "name": "stdout",
     "output_type": "stream",
     "text": [
      "[2. 4.]\n"
     ]
    }
   ],
   "source": [
    "print(np.percentile(ordersByUsers['transactionId'], [95, 99])) "
   ]
  },
  {
   "cell_type": "markdown",
   "metadata": {},
   "source": [
    "**Вывод:**\n",
    "* 5% пользователей заказывали 2 и более раз,\n",
    "* 1% пользователей заказывал 4 и более раз.   \n",
    "\n",
    "Разумно выбрать 4 и более заказов на одного пользователя за верхнюю границу числа заказов, и отсеять аномальных пользователей по ней. "
   ]
  },
  {
   "cell_type": "markdown",
   "metadata": {},
   "source": [
    "### Точечный график стоимостей заказов."
   ]
  },
  {
   "cell_type": "code",
   "execution_count": 18,
   "metadata": {},
   "outputs": [
    {
     "data": {
      "image/png": "[encoded data removed]",
      "text/plain": [
       "<Figure size 864x432 with 1 Axes>"
      ]
     },
     "metadata": {
      "needs_background": "light"
     },
     "output_type": "display_data"
    }
   ],
   "source": [
    "x_values = pd.Series(range(0,len(data['revenue'])))\n",
    "\n",
    "plt.figure(figsize=(12, 6))\n",
    "plt.scatter(x_values, data['revenue']) \n",
    "plt.ylabel('Стоимость заказов')\n",
    "plt.xlabel('Количество заказов')\n",
    "plt.title('Точечный график стоимостей заказов')\n",
    "plt.show()"
   ]
  },
  {
   "cell_type": "markdown",
   "metadata": {},
   "source": [
    "**Вывод:**\n",
    "* Судя по графику, имеются два значительных выброса на графике.\n",
    "* Попробуем сделать еще один график без выбросов, ограничим значение оси Y. "
   ]
  },
  {
   "cell_type": "code",
   "execution_count": 19,
   "metadata": {
    "scrolled": false
   },
   "outputs": [
    {
     "data": {
      "image/png": "[encoded data removed]",
      "text/plain": [
       "<Figure size 864x432 with 1 Axes>"
      ]
     },
     "metadata": {
      "needs_background": "light"
     },
     "output_type": "display_data"
    }
   ],
   "source": [
    "\n",
    "plt.figure(figsize=(12, 6))\n",
    "plt.scatter(x_values, data['revenue']) \n",
    "plt.ylabel('Стоимость заказов')\n",
    "plt.xlabel('Количество заказов')\n",
    "plt.ylim(0, 100000)\n",
    "plt.title('Точечный график стоимостей заказов')\n",
    "plt.show()"
   ]
  },
  {
   "cell_type": "markdown",
   "metadata": {},
   "source": [
    "**Вывод:**\n",
    "* Данный график более информативен - мы видим более явный разброс по стоимости и количеству заказов от 0 до 100 000 руб.\n",
    "* И все же большинство заказов менее 20 000 руб."
   ]
  },
  {
   "cell_type": "markdown",
   "metadata": {},
   "source": [
    "### 95-й и 99-й перцентили стоимости заказов"
   ]
  },
  {
   "cell_type": "code",
   "execution_count": 20,
   "metadata": {},
   "outputs": [
    {
     "name": "stdout",
     "output_type": "stream",
     "text": [
      "[28000.  58233.2]\n"
     ]
    }
   ],
   "source": [
    "print(np.percentile(data['revenue'], [95, 99])) "
   ]
  },
  {
   "cell_type": "markdown",
   "metadata": {},
   "source": [
    "**Вывод:**\n",
    "* Не более 5% заказов дороже 28 000 рублей и не более 1% дороже 58 233,2 рублей.\n",
    "\n",
    "Разумно выбрать 5% заказов дороже 28 000 рублей за верхнюю границу числа заказов, и отсеять аномальных пользователей по ней."
   ]
  },
  {
   "cell_type": "markdown",
   "metadata": {},
   "source": [
    "### Статистическая значимость различий в среднем количестве заказов на посетителя между группами по «сырым» данным.\n",
    "\n",
    "*По «сырым» данным — то есть без удаления аномальных пользователей.*\n",
    "\n",
    "**План действий таков:**\n",
    "\n",
    "1. Установим уровень значимости (alpha) равным 0.05.\n",
    "\n",
    "2. Сформулируем гипотезы: \n",
    "* **Нулевая:** различий в среднем количестве заказов между группами нет.\n",
    "* **Альтернативная:** различия в среднем между группами есть.\n",
    "\n",
    "3. Создадим переменные: *ordersByUsersA и ordersByUsersB* со столбцами *['userId', 'orders']*, где для пользователей, совершивших хотя бы 1 заказ, будет указано число заказов. \n",
    "\n",
    "4. Объявим переменные: *sampleA и sampleB*, в которых пользователям с заказами будет соответствовать число заказов пользователя. А пользователям без заказов — нули. \n",
    "\n",
    "5. Посчитаем статистическую значимость различия среднего количества заказов по результатам двух недель теста. Применим тест Манна-Уитни. \n",
    "\n",
    "6. Выведем p-value для сравнения среднего между группами. Округлим до 5 знаков после запятой. \n",
    "\n",
    "7. Вычислим и выведем относительное различие в среднем между группами. Округлим до 3 знаков после запятой."
   ]
  },
  {
   "cell_type": "code",
   "execution_count": 21,
   "metadata": {},
   "outputs": [],
   "source": [
    "\n",
    "visitorsADaily = visitors[visitors['group'] == 'A'][['date', 'visitors']]\n",
    "visitorsADaily.columns = ['date', 'visitorsPerDateA']\n",
    "\n",
    "visitorsACummulative = visitorsADaily.apply(\n",
    "    lambda x: visitorsADaily[visitorsADaily['date'] <= x['date']].agg(\n",
    "        {'date': 'max', 'visitorsPerDateA': 'sum'}\n",
    "    ),\n",
    "    axis=1,\n",
    ")\n",
    "visitorsACummulative.columns = ['date', 'visitorsCummulativeA']\n",
    "\n",
    "visitorsBDaily = visitors[visitors['group'] == 'B'][['date', 'visitors']]\n",
    "visitorsBDaily.columns = ['date', 'visitorsPerDateB']\n",
    "\n",
    "visitorsBCummulative = visitorsBDaily.apply(\n",
    "    lambda x: visitorsBDaily[visitorsBDaily['date'] <= x['date']].agg(\n",
    "        {'date': 'max', 'visitorsPerDateB': 'sum'}\n",
    "    ),\n",
    "    axis=1,\n",
    ")\n",
    "visitorsBCummulative.columns = ['date', 'visitorsCummulativeB']\n",
    "\n",
    "ordersADaily = (\n",
    "    orders[orders['group'] == 'A'][['date', 'transactionId', 'visitorId', 'revenue']]\n",
    "    .groupby('date', as_index=False)\n",
    "    .agg({'transactionId': pd.Series.nunique, 'revenue': 'sum'})\n",
    ")\n",
    "ordersADaily.columns = ['date', 'ordersPerDateA', 'revenuePerDateA']\n",
    "\n",
    "ordersACummulative = ordersADaily.apply(\n",
    "    lambda x: ordersADaily[ordersADaily['date'] <= x['date']].agg(\n",
    "        {'date': 'max', 'ordersPerDateA': 'sum', 'revenuePerDateA': 'sum'}\n",
    "    ),\n",
    "    axis=1,\n",
    ").sort_values(by=['date'])\n",
    "ordersACummulative.columns = [\n",
    "    'date',\n",
    "    'ordersCummulativeA',\n",
    "    'revenueCummulativeA',\n",
    "]\n",
    "\n",
    "ordersBDaily = (\n",
    "    orders[orders['group'] == 'B'][['date', 'transactionId', 'visitorId', 'revenue']]\n",
    "    .groupby('date', as_index=False)\n",
    "    .agg({'transactionId': pd.Series.nunique, 'revenue': 'sum'})\n",
    ")\n",
    "ordersBDaily.columns = ['date', 'ordersPerDateB', 'revenuePerDateB']\n",
    "\n",
    "ordersBCummulative = ordersBDaily.apply(\n",
    "    lambda x: ordersBDaily[ordersBDaily['date'] <= x['date']].agg(\n",
    "        {'date': 'max', 'ordersPerDateB': 'sum', 'revenuePerDateB': 'sum'}\n",
    "    ),\n",
    "    axis=1,\n",
    ").sort_values(by=['date'])\n",
    "ordersBCummulative.columns = [\n",
    "    'date',\n",
    "    'ordersCummulativeB',\n",
    "    'revenueCummulativeB',\n",
    "]\n",
    "\n",
    "data = (\n",
    "    ordersADaily.merge(\n",
    "        ordersBDaily, left_on='date', right_on='date', how='left'\n",
    "    )\n",
    "    .merge(ordersACummulative, left_on='date', right_on='date', how='left')\n",
    "    .merge(ordersBCummulative, left_on='date', right_on='date', how='left')\n",
    "    .merge(visitorsADaily, left_on='date', right_on='date', how='left')\n",
    "    .merge(visitorsBDaily, left_on='date', right_on='date', how='left')\n",
    "    .merge(visitorsACummulative, left_on='date', right_on='date', how='left')\n",
    "    .merge(visitorsBCummulative, left_on='date', right_on='date', how='left')\n",
    ")\n"
   ]
  },
  {
   "cell_type": "code",
   "execution_count": 22,
   "metadata": {},
   "outputs": [
    {
     "name": "stdout",
     "output_type": "stream",
     "text": [
      "P-value: 0.01679\n",
      "Относительный прирост среднего числа заказов группы B по сырым данным: 0.138\n"
     ]
    }
   ],
   "source": [
    "#Посчитаем статистическую значимость различий в среднем количестве заказов между группами теста по сырым данным:\n",
    "\n",
    "ordersByUsersA = (\n",
    "    orders[orders['group'] == 'A']\n",
    "    .groupby('visitorId', as_index=False)\n",
    "    .agg({'transactionId': pd.Series.nunique})\n",
    ")\n",
    "ordersByUsersA.columns = ['visitorId', 'orders']\n",
    "\n",
    "ordersByUsersB = (\n",
    "    orders[orders['group'] == 'B']\n",
    "    .groupby('visitorId', as_index=False)\n",
    "    .agg({'transactionId': pd.Series.nunique})\n",
    ")\n",
    "ordersByUsersB.columns = ['visitorId', 'orders']\n",
    "\n",
    "sampleA = pd.concat(\n",
    "    [\n",
    "        ordersByUsersA['orders'],\n",
    "        pd.Series(\n",
    "            0,\n",
    "            index=np.arange(\n",
    "                data['visitorsPerDateA'].sum() - len(ordersByUsersA['orders'])\n",
    "            ),\n",
    "            name='orders',\n",
    "        ),\n",
    "    ],\n",
    "    axis=0,\n",
    ")\n",
    "\n",
    "sampleB = pd.concat(\n",
    "    [\n",
    "        ordersByUsersB['orders'],\n",
    "        pd.Series(\n",
    "            0,\n",
    "            index=np.arange(\n",
    "                data['visitorsPerDateB'].sum() - len(ordersByUsersB['orders'])\n",
    "            ),\n",
    "            name='orders',\n",
    "        ),\n",
    "    ],\n",
    "    axis=0,\n",
    ")\n",
    "\n",
    "\n",
    "#Применим статистический критерий Манна-Уитни к полученным выборкам:\n",
    "print('P-value:', \"{0:.5f}\".format(stats.mannwhitneyu(sampleA, sampleB)[1]))\n",
    "\n",
    "print('Относительный прирост среднего числа заказов группы B по сырым данным:','{0:.3f}'.format((data['ordersPerDateB'].sum()/data['visitorsPerDateB'].sum())/(data['ordersPerDateA'].sum()/data['visitorsPerDateA'].sum())-1))"
   ]
  },
  {
   "cell_type": "markdown",
   "metadata": {},
   "source": [
    "**Вывод:**\n",
    "* По «сырым» данным различия в среднем числе заказов групп A и B есть. \n",
    "* Первое число - это p-value = 0.01679 значительно меньше 0.05. Значит, нулевую гипотезу о том, что статистически значимых различий в среднем числе заказов между группами нет, **отвергаем**. \n",
    "* Относительный прирост среднего числа заказов группы B по сырым данным по отношению к группе А равен 0.138, то есть 13,8%.\n"
   ]
  },
  {
   "cell_type": "markdown",
   "metadata": {},
   "source": [
    "### Статистическая значимость различий в среднем чеке заказа между группами по «сырым» данным.\n",
    "\n",
    "1. Сформулируем гипотезы:\n",
    "* **Нулевая гипотеза:** различий в среднем чеке между группами нет. \n",
    "* **Альтернативная гипотеза:** различия в среднем чеке между группами есть. \n",
    "\n",
    "2. Чтобы рассчитать статистическую значимость различий в среднем чеке, передадим критерию *mannwhitneyu()* данные о выручке с заказов. "
   ]
  },
  {
   "cell_type": "code",
   "execution_count": 23,
   "metadata": {
    "scrolled": true
   },
   "outputs": [
    {
     "name": "stdout",
     "output_type": "stream",
     "text": [
      "P-value: 0.729\n",
      "Относительный прирост среднего чека группы B по сырым данным: 0.259\n"
     ]
    }
   ],
   "source": [
    "print('P-value:', '{0:.3f}'.format(stats.mannwhitneyu(orders[orders['group']=='A']['revenue'], orders[orders['group']=='B']['revenue'])[1]))\n",
    "print('Относительный прирост среднего чека группы B по сырым данным:', '{0:.3f}'.format(orders[orders['group']=='B']['revenue'].mean()/orders[orders['group']=='A']['revenue'].mean()-1))\n"
   ]
  },
  {
   "cell_type": "markdown",
   "metadata": {},
   "source": [
    "**Вывод:**\n",
    "* P-value 0.729, что значительно больше 0.05. Значит, причин отвергать нулевую гипотезу и считать, что в среднем чеке есть различия, нет.\n",
    "* Средний чек группы B значительно выше среднего чека группы A, на 25,9%. \n",
    "\n",
    "Пора переходить к анализу аномалий."
   ]
  },
  {
   "cell_type": "markdown",
   "metadata": {},
   "source": [
    "### Статистическая значимость различий в среднем количестве заказов на посетителя между группами по «очищенным» данным.\n",
    "\n"
   ]
  },
  {
   "cell_type": "markdown",
   "metadata": {},
   "source": [
    "Вспомним, что 95 и 99 перцентили стоимости заказов 28000 и 58233,2 рублей соответственно. А 95-й и 99-й перцентили количества заказов на одного пользователя равны 2 и 4 заказам на пользователя. \n",
    "\n",
    "Примем за аномальных пользователей тех, кто совершил от 4 заказов или совершил заказ дороже 28000 рублей. \n",
    "\n",
    "Так мы уберём 1% пользователей с наибольшим числом заказов и от 1 до 5% пользователей с дорогими заказами. \n",
    "\n",
    "Сделаем срезы пользователей с числом заказов больше 4 — usersWithManyOrders и пользователей, совершивших заказы дороже 28000 руб — usersWithExpensiveOrders. \n",
    "\n",
    "Объединим их в таблице abnormalUsers. \n",
    "\n",
    "Узнаем, сколько всего аномальных пользователей атрибутом shape.\n"
   ]
  },
  {
   "cell_type": "code",
   "execution_count": 24,
   "metadata": {},
   "outputs": [
    {
     "name": "stdout",
     "output_type": "stream",
     "text": [
      "1099    148427295\n",
      "928     204675465\n",
      "684     358944393\n",
      "648     382846391\n",
      "1189    393266494\n",
      "Name: visitorId, dtype: int64\n",
      "59\n",
      "1197\n"
     ]
    }
   ],
   "source": [
    "usersWithManyOrders = pd.concat(\n",
    "    [\n",
    "        ordersByUsersA[ordersByUsersA['orders'] > 4]['visitorId'],\n",
    "        ordersByUsersB[ordersByUsersB['orders'] > 4]['visitorId'],\n",
    "    ],\n",
    "    axis=0,\n",
    ")\n",
    "usersWithExpensiveOrders = orders[orders['revenue'] > 28000]['visitorId']\n",
    "abnormalUsers = (\n",
    "    pd.concat([usersWithManyOrders, usersWithExpensiveOrders], axis=0)\n",
    "    .drop_duplicates()\n",
    "    .sort_values()\n",
    ")\n",
    "print(abnormalUsers.head(5))\n",
    "\n",
    "#Сколько аонимальных пользователей:\n",
    "print(abnormalUsers.shape[0]) \n",
    "\n",
    "#Сколько всего пользователей:\n",
    "print(orders['visitorId'].shape[0])"
   ]
  },
  {
   "cell_type": "markdown",
   "metadata": {},
   "source": [
    "**Всего 59 аномальных пользователей** из 1197, т.е. 4,92% от всех пользователей, что является допустимым размером для исключения из выборки.\n",
    "\n",
    "Узнаем, как их действия повлияли на результаты теста.\n",
    "\n",
    "1. Создадим переменные *sampleAFiltered и sampleBFiltered*, в которых сохраним очищенные данные о заказах — не включая аномальных пользователей. \n",
    "2. Выведем p-value для сравнения среднего между очищенными группами. \n",
    "3. Округлим p-value до пяти знаков после запятой. \n",
    "4. Выведем относительный прирост среднего очищенной группы B, округлив до трёх знаков после запятой."
   ]
  },
  {
   "cell_type": "markdown",
   "metadata": {},
   "source": [
    "Итак, мы проверяем статистическую значимость различий в среднем количестве заказов между сегментами А и В по очищенным данным. \n",
    "\n",
    "* **Нулевая гипотеза:** различий в среднем количестве заказов между группами А и В по очищенным данным нет. \n",
    "* **Альтернативная гипотеза:** различия в количестве заказов меду группами А и В по очищенным данным есть. "
   ]
  },
  {
   "cell_type": "code",
   "execution_count": 25,
   "metadata": {},
   "outputs": [
    {
     "name": "stdout",
     "output_type": "stream",
     "text": [
      "P-value: 0.018\n",
      "Относительный прирост среднего числа заказов группы B по очищенным данным: 0.145\n"
     ]
    }
   ],
   "source": [
    "#Посчитаем наконец статистическую значимость различий в среднем количестве заказов между группами теста по очищенным данным:\n",
    "sampleAFiltered = pd.concat(\n",
    "    [\n",
    "        ordersByUsersA[\n",
    "            np.logical_not(ordersByUsersA['visitorId'].isin(abnormalUsers))\n",
    "        ]['orders'],\n",
    "        pd.Series(\n",
    "            0,\n",
    "            index=np.arange(\n",
    "                data['visitorsPerDateA'].sum() - len(ordersByUsersA['orders'])\n",
    "            ),\n",
    "            name='orders',\n",
    "        ),\n",
    "    ],\n",
    "    axis=0,\n",
    ")\n",
    "\n",
    "sampleBFiltered = pd.concat(\n",
    "    [\n",
    "        ordersByUsersB[\n",
    "            np.logical_not(ordersByUsersB['visitorId'].isin(abnormalUsers))\n",
    "        ]['orders'],\n",
    "        pd.Series(\n",
    "            0,\n",
    "            index=np.arange(\n",
    "                data['visitorsPerDateB'].sum() - len(ordersByUsersB['orders'])\n",
    "            ),\n",
    "            name='orders',\n",
    "        ),\n",
    "    ],\n",
    "    axis=0,\n",
    ")\n",
    "\n",
    "#Применим статистический критерий Манна-Уитни к полученным выборкам:\n",
    "print('P-value:','{0:.3f}'.format(stats.mannwhitneyu(sampleAFiltered, sampleBFiltered)[1]))\n",
    "print('Относительный прирост среднего числа заказов группы B по очищенным данным:','{0:.3f}'.format(sampleBFiltered.mean()/sampleAFiltered.mean()-1))"
   ]
  },
  {
   "cell_type": "markdown",
   "metadata": {},
   "source": [
    "p-value равен сейчас 0.018, а по сырым данным был равен 0.0167, и оба значения меньше 0.05. \n",
    "И нулевую гипотезу о том, что статистически значимых различий в среднем числе заказов между группами нет, мы все равно отвергаем. \n",
    "\n",
    "Относительный прирост среднего количества заказов группы В к  среднему группы А равен 14,5%, а по сырым данным был равен 13,8%. То есть прирост после удаления аномалий получился еще выше, чем по сырым данным.\n",
    "\n",
    "По полученным **очищенным данным**, как и в случае с сырыми данными, статистическая значимость достигнута. Сегмент В значительно лучше сегмента А.\n",
    "\n",
    "Подтверждается альтернативная гипотеза: различия в среднем количестве заказов между группами А и В по очищенным данным есть. "
   ]
  },
  {
   "cell_type": "markdown",
   "metadata": {},
   "source": [
    "### Статистическая значимость различий в среднем чеке заказа между группами по «очищенным» данным."
   ]
  },
  {
   "cell_type": "markdown",
   "metadata": {},
   "source": [
    "1. Выведем p-value для сравнения средних чеков между очищенными группами. \n",
    "2. Округлим p-value до трёх знаков после запятой. \n",
    "3. Выведем относительный прирост среднего чека очищенной группы B, округлив до трёх знаков после запятой.\n",
    "\n",
    "* **Нулевая гипотеза:** различий в среднем чеке между группами А и В по очищенным данным нет. \n",
    "* **Альтернативная гипотеза:** различия в среднем чеке группами А и В по очищенным данным есть. "
   ]
  },
  {
   "cell_type": "code",
   "execution_count": 26,
   "metadata": {},
   "outputs": [
    {
     "name": "stdout",
     "output_type": "stream",
     "text": [
      "P-value: 0.961\n",
      "Относительный прирост среднего чека группы B по очищенным данным: -0.014\n"
     ]
    }
   ],
   "source": [
    "print('P-value:', '{0:.3f}'.format(stats.mannwhitneyu(orders[np.logical_and(orders['group'] == 'A', np.logical_not(orders['visitorId'].isin(abnormalUsers)),)]['revenue'],\n",
    "            orders[np.logical_and(orders['group'] == 'B', np.logical_not(orders['visitorId'].isin(abnormalUsers)),)\n",
    "            ]['revenue'],)[1]))\n",
    "\n",
    "print('Относительный прирост среднего чека группы B по очищенным данным:','{0:.3f}'.format(orders[np.logical_and(orders['group'] == 'B', np.logical_not(orders['visitorId'].isin(abnormalUsers)),)]\n",
    "     ['revenue'].mean()/ orders[np.logical_and(orders['group'] == 'A', np.logical_not(orders['visitorId'].isin(abnormalUsers)),)]['revenue'].mean() - 1))"
   ]
  },
  {
   "cell_type": "markdown",
   "metadata": {},
   "source": [
    "**Вывод:**\n",
    "* P-value стал 0.961, а был по сырым данным 0.729, оба значения больше 0.05. Причин отвергать нулевую гипотезу и считать, что в среднем чеке есть различия, нет.\n",
    "* Средний чек группы B после удаления аномалий перестал быть значительно выше среднего чека группы A (по сырым данным он был больше на 25,9%), а сейчас, наоборот, меньше на 1,4%. \n",
    "\n",
    "После удаления выбросов в данных меньше шума. Дисперсия снизилась, p-value вырос.\n",
    "\n",
    "Итак, мы подтвердили и оставляем нулевую гипотезу: различий в среднем чеке между группами А и В по очищенным данным нет."
   ]
  },
  {
   "cell_type": "markdown",
   "metadata": {},
   "source": [
    "**Общие выводы по результатам теста:**\n",
    "    \n",
    "* Есть статистически значимое различие по среднему количеству заказов между группами и по «сырым», и по очищенным от аномалий данным. Поэтому Нулевая гипотеза о том, что различий в среднем количестве заказов между группами нет, отвергается. Различия есть.\n",
    "\n",
    "* Нет статистически значимого различия по среднему чеку между группами ни по «сырым», ни по данным после фильтрации аномалий. Поэтому мы подтверждаем Нулевую гипотезу о том, что различий по среднему чеку нет.\n",
    "\n",
    "* График различия среднего количества заказов между группами сообщает, что результаты группы В существенно лучше группы А.\n"
   ]
  },
  {
   "cell_type": "markdown",
   "metadata": {},
   "source": [
    "### Итог\n",
    "Исходя из результатов, нам стоит остановить тест, признать его успешным и зафиксировать победу группы В."
   ]
  }
 ],
 "metadata": {
  "ExecuteTimeLog": [
   {
    "duration": 2109,
    "start_time": "2023-04-21T12:42:40.646Z"
   },
   {
    "duration": 35,
    "start_time": "2023-04-21T12:47:05.414Z"
   },
   {
    "duration": 12,
    "start_time": "2023-04-21T12:48:12.751Z"
   },
   {
    "duration": 48,
    "start_time": "2023-04-21T12:48:40.124Z"
   },
   {
    "duration": 9,
    "start_time": "2023-04-21T12:48:44.284Z"
   },
   {
    "duration": 463,
    "start_time": "2023-04-21T12:57:38.522Z"
   },
   {
    "duration": 8,
    "start_time": "2023-04-21T12:57:40.778Z"
   },
   {
    "duration": 30,
    "start_time": "2023-04-21T12:59:44.047Z"
   },
   {
    "duration": 12,
    "start_time": "2023-04-21T12:59:47.267Z"
   },
   {
    "duration": 472,
    "start_time": "2023-04-21T13:00:48.394Z"
   },
   {
    "duration": 83,
    "start_time": "2023-04-21T13:01:25.522Z"
   },
   {
    "duration": 277,
    "start_time": "2023-04-21T13:08:22.002Z"
   },
   {
    "duration": 253,
    "start_time": "2023-04-21T13:10:02.145Z"
   },
   {
    "duration": 189,
    "start_time": "2023-04-21T13:10:11.681Z"
   },
   {
    "duration": 218,
    "start_time": "2023-04-21T13:10:16.406Z"
   },
   {
    "duration": 161,
    "start_time": "2023-04-21T13:10:21.779Z"
   },
   {
    "duration": 341,
    "start_time": "2023-04-21T13:11:24.488Z"
   },
   {
    "duration": 143,
    "start_time": "2023-04-21T13:11:52.066Z"
   },
   {
    "duration": 292,
    "start_time": "2023-04-21T13:12:05.718Z"
   },
   {
    "duration": 202,
    "start_time": "2023-04-21T13:12:14.696Z"
   },
   {
    "duration": 163,
    "start_time": "2023-04-21T13:12:31.526Z"
   },
   {
    "duration": 182,
    "start_time": "2023-04-21T13:12:37.784Z"
   },
   {
    "duration": 202,
    "start_time": "2023-04-21T13:12:46.198Z"
   },
   {
    "duration": 169,
    "start_time": "2023-04-21T13:12:52.201Z"
   },
   {
    "duration": 162,
    "start_time": "2023-04-21T13:12:57.944Z"
   },
   {
    "duration": 255,
    "start_time": "2023-04-21T13:13:01.000Z"
   },
   {
    "duration": 212,
    "start_time": "2023-04-21T13:13:26.693Z"
   },
   {
    "duration": 239,
    "start_time": "2023-04-21T13:13:36.964Z"
   },
   {
    "duration": 208,
    "start_time": "2023-04-21T13:13:42.977Z"
   },
   {
    "duration": 240,
    "start_time": "2023-04-21T13:14:08.545Z"
   },
   {
    "duration": 195,
    "start_time": "2023-04-21T13:14:28.990Z"
   },
   {
    "duration": 207,
    "start_time": "2023-04-21T13:14:59.548Z"
   },
   {
    "duration": 254,
    "start_time": "2023-04-21T13:15:08.734Z"
   },
   {
    "duration": 653,
    "start_time": "2023-04-21T17:34:05.536Z"
   },
   {
    "duration": 8,
    "start_time": "2023-04-21T17:34:06.190Z"
   },
   {
    "duration": 64,
    "start_time": "2023-04-21T17:34:06.199Z"
   },
   {
    "duration": 264,
    "start_time": "2023-04-21T17:34:06.265Z"
   },
   {
    "duration": 282,
    "start_time": "2023-04-21T17:34:06.534Z"
   },
   {
    "duration": 201,
    "start_time": "2023-04-21T17:36:13.451Z"
   },
   {
    "duration": 216,
    "start_time": "2023-04-21T17:37:08.828Z"
   },
   {
    "duration": 338,
    "start_time": "2023-04-21T17:39:32.947Z"
   },
   {
    "duration": 293,
    "start_time": "2023-04-21T17:41:42.709Z"
   },
   {
    "duration": 209,
    "start_time": "2023-04-21T17:41:59.699Z"
   },
   {
    "duration": 217,
    "start_time": "2023-04-21T17:42:42.510Z"
   },
   {
    "duration": 222,
    "start_time": "2023-04-21T17:43:07.068Z"
   },
   {
    "duration": 326,
    "start_time": "2023-04-21T17:44:40.009Z"
   },
   {
    "duration": 354,
    "start_time": "2023-04-21T17:44:54.837Z"
   },
   {
    "duration": 356,
    "start_time": "2023-04-21T17:45:45.950Z"
   },
   {
    "duration": 12,
    "start_time": "2023-04-21T19:06:20.629Z"
   },
   {
    "duration": 622,
    "start_time": "2023-04-21T19:06:27.195Z"
   },
   {
    "duration": 7,
    "start_time": "2023-04-21T19:06:27.819Z"
   },
   {
    "duration": 63,
    "start_time": "2023-04-21T19:06:27.827Z"
   },
   {
    "duration": 258,
    "start_time": "2023-04-21T19:06:27.892Z"
   },
   {
    "duration": 275,
    "start_time": "2023-04-21T19:06:28.152Z"
   },
   {
    "duration": 206,
    "start_time": "2023-04-21T19:06:28.428Z"
   },
   {
    "duration": 317,
    "start_time": "2023-04-21T19:06:28.635Z"
   },
   {
    "duration": 273,
    "start_time": "2023-04-21T19:06:28.953Z"
   },
   {
    "duration": 341,
    "start_time": "2023-04-21T19:06:29.228Z"
   },
   {
    "duration": 79,
    "start_time": "2023-04-21T19:06:29.571Z"
   },
   {
    "duration": 9,
    "start_time": "2023-04-21T19:08:36.104Z"
   },
   {
    "duration": 10,
    "start_time": "2023-04-21T19:09:33.211Z"
   },
   {
    "duration": 652,
    "start_time": "2023-04-21T19:09:49.935Z"
   },
   {
    "duration": 8,
    "start_time": "2023-04-21T19:09:50.589Z"
   },
   {
    "duration": 67,
    "start_time": "2023-04-21T19:09:50.598Z"
   },
   {
    "duration": 255,
    "start_time": "2023-04-21T19:09:50.667Z"
   },
   {
    "duration": 289,
    "start_time": "2023-04-21T19:09:50.924Z"
   },
   {
    "duration": 213,
    "start_time": "2023-04-21T19:09:51.215Z"
   },
   {
    "duration": 322,
    "start_time": "2023-04-21T19:09:51.429Z"
   },
   {
    "duration": 272,
    "start_time": "2023-04-21T19:09:51.752Z"
   },
   {
    "duration": 338,
    "start_time": "2023-04-21T19:09:52.026Z"
   },
   {
    "duration": 76,
    "start_time": "2023-04-21T19:09:52.366Z"
   },
   {
    "duration": 165,
    "start_time": "2023-04-21T19:11:14.329Z"
   },
   {
    "duration": 145,
    "start_time": "2023-04-21T19:11:27.326Z"
   },
   {
    "duration": 171,
    "start_time": "2023-04-21T19:11:43.776Z"
   },
   {
    "duration": 150,
    "start_time": "2023-04-21T19:11:53.536Z"
   },
   {
    "duration": 152,
    "start_time": "2023-04-21T19:12:56.844Z"
   },
   {
    "duration": 164,
    "start_time": "2023-04-21T19:13:31.251Z"
   },
   {
    "duration": 594,
    "start_time": "2023-04-22T09:08:06.396Z"
   },
   {
    "duration": 8,
    "start_time": "2023-04-22T09:08:06.991Z"
   },
   {
    "duration": 66,
    "start_time": "2023-04-22T09:08:07.001Z"
   },
   {
    "duration": 258,
    "start_time": "2023-04-22T09:08:07.068Z"
   },
   {
    "duration": 277,
    "start_time": "2023-04-22T09:08:07.327Z"
   },
   {
    "duration": 191,
    "start_time": "2023-04-22T09:08:07.606Z"
   },
   {
    "duration": 289,
    "start_time": "2023-04-22T09:08:07.799Z"
   },
   {
    "duration": 256,
    "start_time": "2023-04-22T09:08:08.089Z"
   },
   {
    "duration": 312,
    "start_time": "2023-04-22T09:08:08.347Z"
   },
   {
    "duration": 154,
    "start_time": "2023-04-22T09:08:08.661Z"
   },
   {
    "duration": 626,
    "start_time": "2023-04-22T10:02:30.378Z"
   },
   {
    "duration": 8,
    "start_time": "2023-04-22T10:02:31.005Z"
   },
   {
    "duration": 92,
    "start_time": "2023-04-22T10:02:31.015Z"
   },
   {
    "duration": 271,
    "start_time": "2023-04-22T10:02:31.109Z"
   },
   {
    "duration": 280,
    "start_time": "2023-04-22T10:02:31.381Z"
   },
   {
    "duration": 206,
    "start_time": "2023-04-22T10:02:31.662Z"
   },
   {
    "duration": 303,
    "start_time": "2023-04-22T10:02:31.869Z"
   },
   {
    "duration": 278,
    "start_time": "2023-04-22T10:02:32.174Z"
   },
   {
    "duration": 337,
    "start_time": "2023-04-22T10:02:32.454Z"
   },
   {
    "duration": 154,
    "start_time": "2023-04-22T10:02:32.793Z"
   },
   {
    "duration": 343,
    "start_time": "2023-04-22T10:19:37.825Z"
   },
   {
    "duration": 190,
    "start_time": "2023-04-22T10:24:12.697Z"
   },
   {
    "duration": 210,
    "start_time": "2023-04-22T10:24:32.643Z"
   },
   {
    "duration": 1219,
    "start_time": "2023-04-22T10:27:09.413Z"
   },
   {
    "duration": 172,
    "start_time": "2023-04-22T10:27:16.745Z"
   },
   {
    "duration": 4,
    "start_time": "2023-04-22T10:28:36.513Z"
   },
   {
    "duration": 5,
    "start_time": "2023-04-22T10:28:53.823Z"
   },
   {
    "duration": 3,
    "start_time": "2023-04-22T10:28:58.244Z"
   },
   {
    "duration": 4,
    "start_time": "2023-04-22T10:31:13.045Z"
   },
   {
    "duration": 4,
    "start_time": "2023-04-22T10:31:25.845Z"
   },
   {
    "duration": 150,
    "start_time": "2023-04-22T10:34:49.235Z"
   },
   {
    "duration": 4,
    "start_time": "2023-04-22T10:38:11.825Z"
   },
   {
    "duration": 999,
    "start_time": "2023-04-22T10:44:27.297Z"
   },
   {
    "duration": 7,
    "start_time": "2023-04-22T10:44:28.298Z"
   },
   {
    "duration": 80,
    "start_time": "2023-04-22T10:44:28.306Z"
   },
   {
    "duration": 264,
    "start_time": "2023-04-22T10:44:28.388Z"
   },
   {
    "duration": 282,
    "start_time": "2023-04-22T10:44:28.654Z"
   },
   {
    "duration": 199,
    "start_time": "2023-04-22T10:44:28.937Z"
   },
   {
    "duration": 335,
    "start_time": "2023-04-22T10:44:29.138Z"
   },
   {
    "duration": 211,
    "start_time": "2023-04-22T10:44:29.474Z"
   },
   {
    "duration": 311,
    "start_time": "2023-04-22T10:44:29.686Z"
   },
   {
    "duration": 174,
    "start_time": "2023-04-22T10:44:29.999Z"
   },
   {
    "duration": 4,
    "start_time": "2023-04-22T10:44:30.174Z"
   },
   {
    "duration": 173,
    "start_time": "2023-04-22T10:44:30.180Z"
   },
   {
    "duration": 4,
    "start_time": "2023-04-22T10:44:30.354Z"
   },
   {
    "duration": 213,
    "start_time": "2023-04-22T10:51:13.102Z"
   },
   {
    "duration": 1084,
    "start_time": "2023-04-22T10:51:31.933Z"
   },
   {
    "duration": 8,
    "start_time": "2023-04-22T10:51:33.019Z"
   },
   {
    "duration": 64,
    "start_time": "2023-04-22T10:51:33.028Z"
   },
   {
    "duration": 264,
    "start_time": "2023-04-22T10:51:33.094Z"
   },
   {
    "duration": 285,
    "start_time": "2023-04-22T10:51:33.360Z"
   },
   {
    "duration": 200,
    "start_time": "2023-04-22T10:51:33.647Z"
   },
   {
    "duration": 301,
    "start_time": "2023-04-22T10:51:33.849Z"
   },
   {
    "duration": 217,
    "start_time": "2023-04-22T10:51:34.152Z"
   },
   {
    "duration": 317,
    "start_time": "2023-04-22T10:51:34.371Z"
   },
   {
    "duration": 223,
    "start_time": "2023-04-22T10:51:34.689Z"
   },
   {
    "duration": 4,
    "start_time": "2023-04-22T10:51:34.914Z"
   },
   {
    "duration": 155,
    "start_time": "2023-04-22T10:51:34.920Z"
   },
   {
    "duration": 4,
    "start_time": "2023-04-22T10:51:35.077Z"
   },
   {
    "duration": 197,
    "start_time": "2023-04-22T10:51:35.083Z"
   },
   {
    "duration": 132,
    "start_time": "2023-04-22T10:53:45.332Z"
   },
   {
    "duration": 100,
    "start_time": "2023-04-22T10:54:26.576Z"
   },
   {
    "duration": 267,
    "start_time": "2023-04-22T10:54:57.046Z"
   },
   {
    "duration": 143,
    "start_time": "2023-04-22T10:57:29.570Z"
   },
   {
    "duration": 9,
    "start_time": "2023-04-22T11:03:58.044Z"
   },
   {
    "duration": 10,
    "start_time": "2023-04-22T11:19:16.902Z"
   },
   {
    "duration": 8,
    "start_time": "2023-04-22T11:19:47.852Z"
   },
   {
    "duration": 8,
    "start_time": "2023-04-22T11:20:17.080Z"
   },
   {
    "duration": 8,
    "start_time": "2023-04-22T11:20:49.638Z"
   },
   {
    "duration": 8,
    "start_time": "2023-04-22T11:21:29.793Z"
   },
   {
    "duration": 28,
    "start_time": "2023-04-22T11:23:43.570Z"
   },
   {
    "duration": 150,
    "start_time": "2023-04-22T11:25:35.390Z"
   },
   {
    "duration": 200,
    "start_time": "2023-04-22T11:33:32.684Z"
   },
   {
    "duration": 15,
    "start_time": "2023-04-22T11:35:39.073Z"
   },
   {
    "duration": 629,
    "start_time": "2023-04-22T11:47:02.215Z"
   },
   {
    "duration": 12,
    "start_time": "2023-04-22T11:47:11.013Z"
   },
   {
    "duration": 1163,
    "start_time": "2023-04-22T11:48:10.180Z"
   },
   {
    "duration": 9,
    "start_time": "2023-04-22T11:48:11.345Z"
   },
   {
    "duration": 77,
    "start_time": "2023-04-22T11:48:11.356Z"
   },
   {
    "duration": 291,
    "start_time": "2023-04-22T11:48:11.435Z"
   },
   {
    "duration": 307,
    "start_time": "2023-04-22T11:48:11.734Z"
   },
   {
    "duration": 232,
    "start_time": "2023-04-22T11:48:12.043Z"
   },
   {
    "duration": 313,
    "start_time": "2023-04-22T11:48:12.278Z"
   },
   {
    "duration": 245,
    "start_time": "2023-04-22T11:48:12.593Z"
   },
   {
    "duration": 352,
    "start_time": "2023-04-22T11:48:12.840Z"
   },
   {
    "duration": 195,
    "start_time": "2023-04-22T11:48:13.194Z"
   },
   {
    "duration": 4,
    "start_time": "2023-04-22T11:48:13.390Z"
   },
   {
    "duration": 156,
    "start_time": "2023-04-22T11:48:13.396Z"
   },
   {
    "duration": 4,
    "start_time": "2023-04-22T11:48:13.554Z"
   },
   {
    "duration": 232,
    "start_time": "2023-04-22T11:48:13.559Z"
   },
   {
    "duration": 177,
    "start_time": "2023-04-22T11:48:13.792Z"
   },
   {
    "duration": 9,
    "start_time": "2023-04-22T11:48:13.971Z"
   },
   {
    "duration": 19,
    "start_time": "2023-04-22T11:48:13.982Z"
   },
   {
    "duration": 42,
    "start_time": "2023-04-22T11:48:14.002Z"
   },
   {
    "duration": 14,
    "start_time": "2023-04-22T11:48:14.045Z"
   },
   {
    "duration": 9,
    "start_time": "2023-04-22T12:01:00.870Z"
   },
   {
    "duration": 33,
    "start_time": "2023-04-22T12:01:04.780Z"
   },
   {
    "duration": 13,
    "start_time": "2023-04-22T12:01:20.648Z"
   },
   {
    "duration": 14,
    "start_time": "2023-04-22T12:02:54.270Z"
   },
   {
    "duration": 176,
    "start_time": "2023-04-22T12:04:23.645Z"
   },
   {
    "duration": 211,
    "start_time": "2023-04-22T12:04:29.413Z"
   },
   {
    "duration": 1390,
    "start_time": "2023-04-22T14:14:27.569Z"
   },
   {
    "duration": 9,
    "start_time": "2023-04-22T14:14:28.962Z"
   },
   {
    "duration": 233,
    "start_time": "2023-04-22T14:14:28.974Z"
   },
   {
    "duration": 305,
    "start_time": "2023-04-22T14:14:29.209Z"
   },
   {
    "duration": 358,
    "start_time": "2023-04-22T14:14:29.517Z"
   },
   {
    "duration": 256,
    "start_time": "2023-04-22T14:14:29.886Z"
   },
   {
    "duration": 369,
    "start_time": "2023-04-22T14:14:30.144Z"
   },
   {
    "duration": 374,
    "start_time": "2023-04-22T14:14:30.515Z"
   },
   {
    "duration": 414,
    "start_time": "2023-04-22T14:14:30.891Z"
   },
   {
    "duration": 221,
    "start_time": "2023-04-22T14:14:31.308Z"
   },
   {
    "duration": 5,
    "start_time": "2023-04-22T14:14:31.531Z"
   },
   {
    "duration": 198,
    "start_time": "2023-04-22T14:14:31.538Z"
   },
   {
    "duration": 5,
    "start_time": "2023-04-22T14:14:31.738Z"
   },
   {
    "duration": 257,
    "start_time": "2023-04-22T14:14:31.746Z"
   },
   {
    "duration": 198,
    "start_time": "2023-04-22T14:14:32.005Z"
   },
   {
    "duration": 16,
    "start_time": "2023-04-22T14:14:32.205Z"
   },
   {
    "duration": 12,
    "start_time": "2023-04-22T14:14:32.222Z"
   },
   {
    "duration": 39,
    "start_time": "2023-04-22T14:14:32.236Z"
   },
   {
    "duration": 27,
    "start_time": "2023-04-22T14:14:32.277Z"
   },
   {
    "duration": 1278,
    "start_time": "2023-04-22T15:39:50.864Z"
   },
   {
    "duration": 88,
    "start_time": "2023-04-22T15:40:32.186Z"
   },
   {
    "duration": 11,
    "start_time": "2023-04-22T15:40:39.683Z"
   },
   {
    "duration": 48,
    "start_time": "2023-04-22T15:48:09.435Z"
   },
   {
    "duration": 48,
    "start_time": "2023-04-22T15:48:57.777Z"
   },
   {
    "duration": 46,
    "start_time": "2023-04-22T15:51:20.958Z"
   },
   {
    "duration": 91,
    "start_time": "2023-04-22T15:51:43.575Z"
   },
   {
    "duration": 1146,
    "start_time": "2023-04-22T15:51:51.973Z"
   },
   {
    "duration": 44,
    "start_time": "2023-04-22T15:51:53.122Z"
   },
   {
    "duration": 17,
    "start_time": "2023-04-22T15:51:53.169Z"
   },
   {
    "duration": 159,
    "start_time": "2023-04-22T15:51:53.188Z"
   },
   {
    "duration": 321,
    "start_time": "2023-04-22T15:51:53.350Z"
   },
   {
    "duration": 367,
    "start_time": "2023-04-22T15:51:53.673Z"
   },
   {
    "duration": 276,
    "start_time": "2023-04-22T15:51:54.042Z"
   },
   {
    "duration": 353,
    "start_time": "2023-04-22T15:51:54.320Z"
   },
   {
    "duration": 225,
    "start_time": "2023-04-22T15:51:54.675Z"
   },
   {
    "duration": 306,
    "start_time": "2023-04-22T15:51:54.902Z"
   },
   {
    "duration": 193,
    "start_time": "2023-04-22T15:51:55.209Z"
   },
   {
    "duration": 5,
    "start_time": "2023-04-22T15:51:55.403Z"
   },
   {
    "duration": 170,
    "start_time": "2023-04-22T15:51:55.410Z"
   },
   {
    "duration": 4,
    "start_time": "2023-04-22T15:51:55.582Z"
   },
   {
    "duration": 228,
    "start_time": "2023-04-22T15:51:55.587Z"
   },
   {
    "duration": 152,
    "start_time": "2023-04-22T15:51:55.816Z"
   },
   {
    "duration": 9,
    "start_time": "2023-04-22T15:51:55.969Z"
   },
   {
    "duration": 9,
    "start_time": "2023-04-22T15:51:55.980Z"
   },
   {
    "duration": 28,
    "start_time": "2023-04-22T15:51:55.991Z"
   },
   {
    "duration": 39,
    "start_time": "2023-04-22T15:51:56.021Z"
   },
   {
    "duration": 68,
    "start_time": "2023-04-22T18:54:27.152Z"
   },
   {
    "duration": 1576,
    "start_time": "2023-04-22T18:54:49.550Z"
   },
   {
    "duration": 95,
    "start_time": "2023-04-22T18:54:51.129Z"
   },
   {
    "duration": 20,
    "start_time": "2023-04-22T18:54:51.227Z"
   },
   {
    "duration": 216,
    "start_time": "2023-04-22T18:54:51.249Z"
   },
   {
    "duration": 413,
    "start_time": "2023-04-22T18:54:51.467Z"
   },
   {
    "duration": 469,
    "start_time": "2023-04-22T18:54:51.886Z"
   },
   {
    "duration": 305,
    "start_time": "2023-04-22T18:54:52.358Z"
   },
   {
    "duration": 519,
    "start_time": "2023-04-22T18:54:52.664Z"
   },
   {
    "duration": 307,
    "start_time": "2023-04-22T18:54:53.185Z"
   },
   {
    "duration": 408,
    "start_time": "2023-04-22T18:54:53.503Z"
   },
   {
    "duration": 322,
    "start_time": "2023-04-22T18:54:53.917Z"
   },
   {
    "duration": 6,
    "start_time": "2023-04-22T18:54:54.242Z"
   },
   {
    "duration": 276,
    "start_time": "2023-04-22T18:54:54.251Z"
   },
   {
    "duration": 275,
    "start_time": "2023-04-22T18:54:54.530Z"
   },
   {
    "duration": 6,
    "start_time": "2023-04-22T18:54:54.808Z"
   },
   {
    "duration": 361,
    "start_time": "2023-04-22T18:54:54.822Z"
   },
   {
    "duration": 334,
    "start_time": "2023-04-22T18:54:55.185Z"
   },
   {
    "duration": 14,
    "start_time": "2023-04-22T18:54:55.522Z"
   },
   {
    "duration": 51,
    "start_time": "2023-04-22T18:54:55.540Z"
   },
   {
    "duration": 81,
    "start_time": "2023-04-22T18:54:55.593Z"
   },
   {
    "duration": 22,
    "start_time": "2023-04-22T18:54:55.676Z"
   },
   {
    "duration": 1745,
    "start_time": "2023-04-22T18:55:12.284Z"
   },
   {
    "duration": 1483,
    "start_time": "2023-04-22T18:55:24.186Z"
   },
   {
    "duration": 1772,
    "start_time": "2023-04-22T18:55:49.252Z"
   },
   {
    "duration": 1358,
    "start_time": "2023-04-22T18:56:03.223Z"
   },
   {
    "duration": 60,
    "start_time": "2023-04-22T18:56:04.584Z"
   },
   {
    "duration": 15,
    "start_time": "2023-04-22T18:56:04.647Z"
   },
   {
    "duration": 97,
    "start_time": "2023-04-22T18:56:04.664Z"
   },
   {
    "duration": 422,
    "start_time": "2023-04-22T18:56:04.764Z"
   },
   {
    "duration": 461,
    "start_time": "2023-04-22T18:56:05.188Z"
   },
   {
    "duration": 334,
    "start_time": "2023-04-22T18:56:05.651Z"
   },
   {
    "duration": 389,
    "start_time": "2023-04-22T18:56:05.987Z"
   },
   {
    "duration": 370,
    "start_time": "2023-04-22T18:56:06.378Z"
   },
   {
    "duration": 485,
    "start_time": "2023-04-22T18:56:06.751Z"
   },
   {
    "duration": 277,
    "start_time": "2023-04-22T18:56:07.239Z"
   },
   {
    "duration": 8,
    "start_time": "2023-04-22T18:56:07.518Z"
   },
   {
    "duration": 236,
    "start_time": "2023-04-22T18:56:07.528Z"
   },
   {
    "duration": 330,
    "start_time": "2023-04-22T18:56:07.767Z"
   },
   {
    "duration": 0,
    "start_time": "2023-04-22T18:56:08.101Z"
   },
   {
    "duration": 0,
    "start_time": "2023-04-22T18:56:08.103Z"
   },
   {
    "duration": 0,
    "start_time": "2023-04-22T18:56:08.104Z"
   },
   {
    "duration": 0,
    "start_time": "2023-04-22T18:56:08.105Z"
   },
   {
    "duration": 0,
    "start_time": "2023-04-22T18:56:08.107Z"
   },
   {
    "duration": 0,
    "start_time": "2023-04-22T18:56:08.108Z"
   },
   {
    "duration": 0,
    "start_time": "2023-04-22T18:56:08.110Z"
   },
   {
    "duration": 362,
    "start_time": "2023-04-22T18:56:34.916Z"
   },
   {
    "duration": 12,
    "start_time": "2023-04-22T18:57:23.741Z"
   },
   {
    "duration": 298,
    "start_time": "2023-04-22T18:57:30.662Z"
   },
   {
    "duration": 204,
    "start_time": "2023-04-22T18:58:09.240Z"
   },
   {
    "duration": 244,
    "start_time": "2023-04-22T18:59:19.533Z"
   },
   {
    "duration": 262,
    "start_time": "2023-04-22T18:59:38.615Z"
   },
   {
    "duration": 275,
    "start_time": "2023-04-22T18:59:44.505Z"
   },
   {
    "duration": 258,
    "start_time": "2023-04-22T18:59:57.912Z"
   },
   {
    "duration": 306,
    "start_time": "2023-04-22T19:00:03.532Z"
   },
   {
    "duration": 281,
    "start_time": "2023-04-22T19:00:09.687Z"
   },
   {
    "duration": 290,
    "start_time": "2023-04-22T19:00:21.688Z"
   },
   {
    "duration": 272,
    "start_time": "2023-04-22T19:00:27.974Z"
   },
   {
    "duration": 271,
    "start_time": "2023-04-22T19:00:33.315Z"
   },
   {
    "duration": 414,
    "start_time": "2023-04-22T19:01:24.459Z"
   },
   {
    "duration": 194,
    "start_time": "2023-04-22T19:03:25.862Z"
   },
   {
    "duration": 1360,
    "start_time": "2023-04-22T19:04:12.107Z"
   },
   {
    "duration": 59,
    "start_time": "2023-04-22T19:04:13.469Z"
   },
   {
    "duration": 18,
    "start_time": "2023-04-22T19:04:13.531Z"
   },
   {
    "duration": 111,
    "start_time": "2023-04-22T19:04:13.552Z"
   },
   {
    "duration": 367,
    "start_time": "2023-04-22T19:04:13.667Z"
   },
   {
    "duration": 423,
    "start_time": "2023-04-22T19:04:14.036Z"
   },
   {
    "duration": 298,
    "start_time": "2023-04-22T19:04:14.462Z"
   },
   {
    "duration": 468,
    "start_time": "2023-04-22T19:04:14.765Z"
   },
   {
    "duration": 405,
    "start_time": "2023-04-22T19:04:15.235Z"
   },
   {
    "duration": 522,
    "start_time": "2023-04-22T19:04:15.642Z"
   },
   {
    "duration": 329,
    "start_time": "2023-04-22T19:04:16.167Z"
   },
   {
    "duration": 7,
    "start_time": "2023-04-22T19:04:16.507Z"
   },
   {
    "duration": 302,
    "start_time": "2023-04-22T19:04:16.516Z"
   },
   {
    "duration": 279,
    "start_time": "2023-04-22T19:04:16.821Z"
   },
   {
    "duration": 9,
    "start_time": "2023-04-22T19:04:17.102Z"
   },
   {
    "duration": 484,
    "start_time": "2023-04-22T19:04:17.114Z"
   },
   {
    "duration": 338,
    "start_time": "2023-04-22T19:04:17.600Z"
   },
   {
    "duration": 17,
    "start_time": "2023-04-22T19:04:17.941Z"
   },
   {
    "duration": 37,
    "start_time": "2023-04-22T19:04:17.964Z"
   },
   {
    "duration": 62,
    "start_time": "2023-04-22T19:04:18.004Z"
   },
   {
    "duration": 28,
    "start_time": "2023-04-22T19:04:18.069Z"
   },
   {
    "duration": 50,
    "start_time": "2023-04-22T19:07:06.615Z"
   },
   {
    "duration": 54,
    "start_time": "2023-04-22T19:07:32.262Z"
   },
   {
    "duration": 50,
    "start_time": "2023-04-22T19:07:37.275Z"
   },
   {
    "duration": 32,
    "start_time": "2023-04-22T19:08:23.712Z"
   },
   {
    "duration": 62,
    "start_time": "2023-04-22T19:08:31.951Z"
   },
   {
    "duration": 22,
    "start_time": "2023-04-22T19:09:33.687Z"
   },
   {
    "duration": 15,
    "start_time": "2023-04-22T19:11:34.315Z"
   },
   {
    "duration": 49,
    "start_time": "2023-04-22T19:12:03.804Z"
   },
   {
    "duration": 20,
    "start_time": "2023-04-22T19:12:06.624Z"
   },
   {
    "duration": 1244,
    "start_time": "2023-04-25T11:25:44.823Z"
   },
   {
    "duration": 97,
    "start_time": "2023-04-25T11:25:46.069Z"
   },
   {
    "duration": 9,
    "start_time": "2023-04-25T11:25:46.168Z"
   },
   {
    "duration": 165,
    "start_time": "2023-04-25T11:25:46.179Z"
   },
   {
    "duration": 259,
    "start_time": "2023-04-25T11:25:46.346Z"
   },
   {
    "duration": 298,
    "start_time": "2023-04-25T11:25:46.606Z"
   },
   {
    "duration": 206,
    "start_time": "2023-04-25T11:25:46.905Z"
   },
   {
    "duration": 370,
    "start_time": "2023-04-25T11:25:47.112Z"
   },
   {
    "duration": 234,
    "start_time": "2023-04-25T11:25:47.483Z"
   },
   {
    "duration": 331,
    "start_time": "2023-04-25T11:25:47.719Z"
   },
   {
    "duration": 193,
    "start_time": "2023-04-25T11:25:48.052Z"
   },
   {
    "duration": 5,
    "start_time": "2023-04-25T11:25:48.247Z"
   },
   {
    "duration": 165,
    "start_time": "2023-04-25T11:25:48.254Z"
   },
   {
    "duration": 160,
    "start_time": "2023-04-25T11:25:48.421Z"
   },
   {
    "duration": 5,
    "start_time": "2023-04-25T11:25:48.583Z"
   },
   {
    "duration": 285,
    "start_time": "2023-04-25T11:25:48.590Z"
   },
   {
    "duration": 162,
    "start_time": "2023-04-25T11:25:48.876Z"
   },
   {
    "duration": 11,
    "start_time": "2023-04-25T11:25:49.040Z"
   },
   {
    "duration": 10,
    "start_time": "2023-04-25T11:25:49.053Z"
   },
   {
    "duration": 25,
    "start_time": "2023-04-25T11:25:49.065Z"
   },
   {
    "duration": 35,
    "start_time": "2023-04-25T11:25:49.091Z"
   },
   {
    "duration": 82,
    "start_time": "2023-04-25T11:26:17.952Z"
   },
   {
    "duration": 4,
    "start_time": "2023-04-25T11:28:41.547Z"
   },
   {
    "duration": 17,
    "start_time": "2023-04-25T11:29:23.130Z"
   },
   {
    "duration": 18,
    "start_time": "2023-04-25T11:29:28.997Z"
   },
   {
    "duration": 18,
    "start_time": "2023-04-25T11:29:34.880Z"
   },
   {
    "duration": 16,
    "start_time": "2023-04-25T11:29:45.306Z"
   },
   {
    "duration": 16,
    "start_time": "2023-04-25T11:29:48.897Z"
   },
   {
    "duration": 16,
    "start_time": "2023-04-25T11:29:53.998Z"
   },
   {
    "duration": 13,
    "start_time": "2023-04-25T11:33:40.999Z"
   },
   {
    "duration": 7,
    "start_time": "2023-04-25T11:33:52.315Z"
   },
   {
    "duration": 3,
    "start_time": "2023-04-25T11:46:41.628Z"
   },
   {
    "duration": 9,
    "start_time": "2023-04-25T11:48:13.698Z"
   },
   {
    "duration": 100,
    "start_time": "2023-04-25T11:48:40.838Z"
   },
   {
    "duration": 9,
    "start_time": "2023-04-25T11:50:18.905Z"
   },
   {
    "duration": 3,
    "start_time": "2023-04-25T11:50:24.608Z"
   },
   {
    "duration": 4,
    "start_time": "2023-04-25T11:50:38.208Z"
   },
   {
    "duration": 4,
    "start_time": "2023-04-25T11:50:44.569Z"
   },
   {
    "duration": 12,
    "start_time": "2023-04-25T11:51:49.699Z"
   },
   {
    "duration": 6,
    "start_time": "2023-04-25T11:51:54.897Z"
   },
   {
    "duration": 8,
    "start_time": "2023-04-25T11:53:25.040Z"
   },
   {
    "duration": 6,
    "start_time": "2023-04-25T11:53:29.264Z"
   },
   {
    "duration": 10,
    "start_time": "2023-04-25T11:53:59.419Z"
   },
   {
    "duration": 8,
    "start_time": "2023-04-25T11:54:11.416Z"
   },
   {
    "duration": 8,
    "start_time": "2023-04-25T11:54:20.925Z"
   },
   {
    "duration": 8,
    "start_time": "2023-04-25T11:54:26.495Z"
   },
   {
    "duration": 8,
    "start_time": "2023-04-25T11:54:52.716Z"
   },
   {
    "duration": 7,
    "start_time": "2023-04-25T11:54:59.193Z"
   },
   {
    "duration": 9,
    "start_time": "2023-04-25T11:55:12.123Z"
   },
   {
    "duration": 10,
    "start_time": "2023-04-25T11:55:42.512Z"
   },
   {
    "duration": 8,
    "start_time": "2023-04-25T11:56:00.023Z"
   },
   {
    "duration": 10,
    "start_time": "2023-04-25T11:56:06.777Z"
   },
   {
    "duration": 8,
    "start_time": "2023-04-25T11:56:13.724Z"
   },
   {
    "duration": 10,
    "start_time": "2023-04-25T12:01:12.765Z"
   },
   {
    "duration": 11,
    "start_time": "2023-04-25T12:01:24.514Z"
   },
   {
    "duration": 10,
    "start_time": "2023-04-25T12:01:44.112Z"
   },
   {
    "duration": 62,
    "start_time": "2023-04-25T12:01:51.735Z"
   },
   {
    "duration": 12,
    "start_time": "2023-04-25T12:01:56.240Z"
   },
   {
    "duration": 10,
    "start_time": "2023-04-25T12:02:00.866Z"
   },
   {
    "duration": 11,
    "start_time": "2023-04-25T12:02:07.841Z"
   },
   {
    "duration": 6,
    "start_time": "2023-04-25T12:02:51.673Z"
   },
   {
    "duration": 8,
    "start_time": "2023-04-25T12:02:59.132Z"
   },
   {
    "duration": 9,
    "start_time": "2023-04-25T12:03:15.510Z"
   },
   {
    "duration": 11,
    "start_time": "2023-04-25T12:03:21.152Z"
   },
   {
    "duration": 424,
    "start_time": "2023-04-25T12:03:34.611Z"
   },
   {
    "duration": 28,
    "start_time": "2023-04-25T12:03:39.241Z"
   },
   {
    "duration": 8,
    "start_time": "2023-04-25T12:04:47.550Z"
   },
   {
    "duration": 11,
    "start_time": "2023-04-25T12:05:55.842Z"
   },
   {
    "duration": 8,
    "start_time": "2023-04-25T12:06:42.168Z"
   },
   {
    "duration": 8,
    "start_time": "2023-04-25T12:07:00.259Z"
   },
   {
    "duration": 3,
    "start_time": "2023-04-25T12:07:07.593Z"
   },
   {
    "duration": 6,
    "start_time": "2023-04-25T12:07:13.040Z"
   },
   {
    "duration": 14,
    "start_time": "2023-04-25T12:07:42.502Z"
   },
   {
    "duration": 10,
    "start_time": "2023-04-25T12:07:59.154Z"
   },
   {
    "duration": 17,
    "start_time": "2023-04-25T12:09:34.724Z"
   },
   {
    "duration": 15,
    "start_time": "2023-04-25T12:10:00.331Z"
   },
   {
    "duration": 12,
    "start_time": "2023-04-25T12:11:14.239Z"
   },
   {
    "duration": 10,
    "start_time": "2023-04-25T12:11:32.842Z"
   },
   {
    "duration": 13,
    "start_time": "2023-04-25T12:11:44.062Z"
   },
   {
    "duration": 8,
    "start_time": "2023-04-25T12:12:26.601Z"
   },
   {
    "duration": 7,
    "start_time": "2023-04-25T12:12:37.476Z"
   },
   {
    "duration": 6,
    "start_time": "2023-04-25T12:12:45.928Z"
   },
   {
    "duration": 6,
    "start_time": "2023-04-25T12:13:18.654Z"
   },
   {
    "duration": 11,
    "start_time": "2023-04-25T12:14:05.638Z"
   },
   {
    "duration": 5,
    "start_time": "2023-04-25T12:14:19.177Z"
   },
   {
    "duration": 1044,
    "start_time": "2023-04-25T12:14:25.605Z"
   },
   {
    "duration": 42,
    "start_time": "2023-04-25T12:14:26.651Z"
   },
   {
    "duration": 14,
    "start_time": "2023-04-25T12:14:26.695Z"
   },
   {
    "duration": 72,
    "start_time": "2023-04-25T12:14:26.713Z"
   },
   {
    "duration": 17,
    "start_time": "2023-04-25T12:14:26.787Z"
   },
   {
    "duration": 9,
    "start_time": "2023-04-25T12:14:26.806Z"
   },
   {
    "duration": 15,
    "start_time": "2023-04-25T12:14:26.816Z"
   },
   {
    "duration": 8,
    "start_time": "2023-04-25T12:14:26.832Z"
   },
   {
    "duration": 24,
    "start_time": "2023-04-25T12:14:26.841Z"
   },
   {
    "duration": 9,
    "start_time": "2023-04-25T12:14:26.867Z"
   },
   {
    "duration": 8,
    "start_time": "2023-04-25T12:14:26.877Z"
   },
   {
    "duration": 269,
    "start_time": "2023-04-25T12:14:26.886Z"
   },
   {
    "duration": 311,
    "start_time": "2023-04-25T12:14:27.156Z"
   },
   {
    "duration": 213,
    "start_time": "2023-04-25T12:14:27.470Z"
   },
   {
    "duration": 337,
    "start_time": "2023-04-25T12:14:27.684Z"
   },
   {
    "duration": 213,
    "start_time": "2023-04-25T12:14:28.023Z"
   },
   {
    "duration": 308,
    "start_time": "2023-04-25T12:14:28.237Z"
   },
   {
    "duration": 188,
    "start_time": "2023-04-25T12:14:28.547Z"
   },
   {
    "duration": 4,
    "start_time": "2023-04-25T12:14:28.737Z"
   },
   {
    "duration": 153,
    "start_time": "2023-04-25T12:14:28.742Z"
   },
   {
    "duration": 156,
    "start_time": "2023-04-25T12:14:28.897Z"
   },
   {
    "duration": 4,
    "start_time": "2023-04-25T12:14:29.054Z"
   },
   {
    "duration": 273,
    "start_time": "2023-04-25T12:14:29.059Z"
   },
   {
    "duration": 165,
    "start_time": "2023-04-25T12:14:29.333Z"
   },
   {
    "duration": 21,
    "start_time": "2023-04-25T12:14:29.500Z"
   },
   {
    "duration": 9,
    "start_time": "2023-04-25T12:14:29.523Z"
   },
   {
    "duration": 23,
    "start_time": "2023-04-25T12:14:29.533Z"
   },
   {
    "duration": 12,
    "start_time": "2023-04-25T12:14:29.557Z"
   },
   {
    "duration": 6,
    "start_time": "2023-04-25T12:15:21.735Z"
   },
   {
    "duration": 6,
    "start_time": "2023-04-25T12:15:24.198Z"
   },
   {
    "duration": 19,
    "start_time": "2023-04-25T12:15:35.040Z"
   },
   {
    "duration": 6,
    "start_time": "2023-04-25T12:16:47.962Z"
   },
   {
    "duration": 6,
    "start_time": "2023-04-25T12:16:54.345Z"
   },
   {
    "duration": 6,
    "start_time": "2023-04-25T12:17:04.641Z"
   },
   {
    "duration": 63,
    "start_time": "2023-04-25T12:17:11.753Z"
   },
   {
    "duration": 103,
    "start_time": "2023-04-25T12:17:15.073Z"
   },
   {
    "duration": 12,
    "start_time": "2023-04-25T12:17:28.859Z"
   },
   {
    "duration": 6,
    "start_time": "2023-04-25T12:17:36.297Z"
   },
   {
    "duration": 23,
    "start_time": "2023-04-25T12:17:56.853Z"
   },
   {
    "duration": 6,
    "start_time": "2023-04-25T12:18:07.797Z"
   },
   {
    "duration": 6,
    "start_time": "2023-04-25T12:21:22.800Z"
   },
   {
    "duration": 31,
    "start_time": "2023-04-25T12:23:45.696Z"
   },
   {
    "duration": 8,
    "start_time": "2023-04-25T12:23:56.032Z"
   },
   {
    "duration": 15,
    "start_time": "2023-04-25T12:24:22.139Z"
   },
   {
    "duration": 13,
    "start_time": "2023-04-25T12:26:15.163Z"
   },
   {
    "duration": 7,
    "start_time": "2023-04-25T12:30:34.836Z"
   },
   {
    "duration": 7,
    "start_time": "2023-04-25T12:30:36.664Z"
   },
   {
    "duration": 1046,
    "start_time": "2023-04-25T12:30:49.115Z"
   },
   {
    "duration": 38,
    "start_time": "2023-04-25T12:30:50.163Z"
   },
   {
    "duration": 10,
    "start_time": "2023-04-25T12:30:50.202Z"
   },
   {
    "duration": 78,
    "start_time": "2023-04-25T12:30:50.214Z"
   },
   {
    "duration": 17,
    "start_time": "2023-04-25T12:30:50.293Z"
   },
   {
    "duration": 8,
    "start_time": "2023-04-25T12:30:50.312Z"
   },
   {
    "duration": 9,
    "start_time": "2023-04-25T12:30:50.321Z"
   },
   {
    "duration": 17,
    "start_time": "2023-04-25T12:30:50.331Z"
   },
   {
    "duration": 16,
    "start_time": "2023-04-25T12:30:50.350Z"
   },
   {
    "duration": 5,
    "start_time": "2023-04-25T12:30:50.368Z"
   },
   {
    "duration": 9,
    "start_time": "2023-04-25T12:30:50.374Z"
   },
   {
    "duration": 278,
    "start_time": "2023-04-25T12:30:50.385Z"
   },
   {
    "duration": 287,
    "start_time": "2023-04-25T12:30:50.664Z"
   },
   {
    "duration": 212,
    "start_time": "2023-04-25T12:30:50.952Z"
   },
   {
    "duration": 293,
    "start_time": "2023-04-25T12:30:51.165Z"
   },
   {
    "duration": 224,
    "start_time": "2023-04-25T12:30:51.460Z"
   },
   {
    "duration": 344,
    "start_time": "2023-04-25T12:30:51.686Z"
   },
   {
    "duration": 188,
    "start_time": "2023-04-25T12:30:52.032Z"
   },
   {
    "duration": 5,
    "start_time": "2023-04-25T12:30:52.221Z"
   },
   {
    "duration": 156,
    "start_time": "2023-04-25T12:30:52.227Z"
   },
   {
    "duration": 162,
    "start_time": "2023-04-25T12:30:52.384Z"
   },
   {
    "duration": 3,
    "start_time": "2023-04-25T12:30:52.548Z"
   },
   {
    "duration": 267,
    "start_time": "2023-04-25T12:30:52.553Z"
   },
   {
    "duration": 151,
    "start_time": "2023-04-25T12:30:52.822Z"
   },
   {
    "duration": 9,
    "start_time": "2023-04-25T12:30:52.975Z"
   },
   {
    "duration": 18,
    "start_time": "2023-04-25T12:30:52.986Z"
   },
   {
    "duration": 32,
    "start_time": "2023-04-25T12:30:53.005Z"
   },
   {
    "duration": 12,
    "start_time": "2023-04-25T12:30:53.040Z"
   },
   {
    "duration": 106,
    "start_time": "2023-04-25T12:33:32.488Z"
   },
   {
    "duration": 5,
    "start_time": "2023-04-25T12:33:37.092Z"
   },
   {
    "duration": 4,
    "start_time": "2023-04-25T12:33:58.717Z"
   },
   {
    "duration": 12,
    "start_time": "2023-04-25T12:34:02.446Z"
   },
   {
    "duration": 6,
    "start_time": "2023-04-25T12:34:22.475Z"
   },
   {
    "duration": 12,
    "start_time": "2023-04-25T12:34:49.882Z"
   },
   {
    "duration": 11,
    "start_time": "2023-04-25T12:34:59.870Z"
   },
   {
    "duration": 6,
    "start_time": "2023-04-25T12:35:04.229Z"
   },
   {
    "duration": 6,
    "start_time": "2023-04-25T12:35:49.940Z"
   },
   {
    "duration": 7,
    "start_time": "2023-04-25T12:35:52.116Z"
   },
   {
    "duration": 1065,
    "start_time": "2023-04-25T12:39:54.993Z"
   },
   {
    "duration": 38,
    "start_time": "2023-04-25T12:39:56.060Z"
   },
   {
    "duration": 9,
    "start_time": "2023-04-25T12:39:56.100Z"
   },
   {
    "duration": 78,
    "start_time": "2023-04-25T12:39:56.111Z"
   },
   {
    "duration": 16,
    "start_time": "2023-04-25T12:39:56.191Z"
   },
   {
    "duration": 11,
    "start_time": "2023-04-25T12:39:56.209Z"
   },
   {
    "duration": 8,
    "start_time": "2023-04-25T12:39:56.221Z"
   },
   {
    "duration": 9,
    "start_time": "2023-04-25T12:39:56.231Z"
   },
   {
    "duration": 16,
    "start_time": "2023-04-25T12:39:56.242Z"
   },
   {
    "duration": 23,
    "start_time": "2023-04-25T12:39:56.261Z"
   },
   {
    "duration": 6,
    "start_time": "2023-04-25T12:39:56.286Z"
   },
   {
    "duration": 6,
    "start_time": "2023-04-25T12:39:56.294Z"
   },
   {
    "duration": 284,
    "start_time": "2023-04-25T12:39:56.317Z"
   },
   {
    "duration": 315,
    "start_time": "2023-04-25T12:39:56.603Z"
   },
   {
    "duration": 205,
    "start_time": "2023-04-25T12:39:56.920Z"
   },
   {
    "duration": 335,
    "start_time": "2023-04-25T12:39:57.127Z"
   },
   {
    "duration": 226,
    "start_time": "2023-04-25T12:39:57.465Z"
   },
   {
    "duration": 359,
    "start_time": "2023-04-25T12:39:57.692Z"
   },
   {
    "duration": 209,
    "start_time": "2023-04-25T12:39:58.053Z"
   },
   {
    "duration": 4,
    "start_time": "2023-04-25T12:39:58.263Z"
   },
   {
    "duration": 162,
    "start_time": "2023-04-25T12:39:58.269Z"
   },
   {
    "duration": 160,
    "start_time": "2023-04-25T12:39:58.433Z"
   },
   {
    "duration": 3,
    "start_time": "2023-04-25T12:39:58.595Z"
   },
   {
    "duration": 268,
    "start_time": "2023-04-25T12:39:58.600Z"
   },
   {
    "duration": 152,
    "start_time": "2023-04-25T12:39:58.869Z"
   },
   {
    "duration": 9,
    "start_time": "2023-04-25T12:39:59.023Z"
   },
   {
    "duration": 9,
    "start_time": "2023-04-25T12:39:59.033Z"
   },
   {
    "duration": 28,
    "start_time": "2023-04-25T12:39:59.045Z"
   },
   {
    "duration": 13,
    "start_time": "2023-04-25T12:39:59.074Z"
   },
   {
    "duration": 7,
    "start_time": "2023-04-25T12:40:17.632Z"
   },
   {
    "duration": 4,
    "start_time": "2023-04-25T12:40:26.043Z"
   },
   {
    "duration": 6,
    "start_time": "2023-04-25T12:40:30.421Z"
   },
   {
    "duration": 48,
    "start_time": "2023-04-25T12:40:50.312Z"
   },
   {
    "duration": 8,
    "start_time": "2023-04-25T12:40:54.765Z"
   },
   {
    "duration": 7,
    "start_time": "2023-04-25T12:40:57.320Z"
   },
   {
    "duration": 8,
    "start_time": "2023-04-25T12:41:01.504Z"
   },
   {
    "duration": 8,
    "start_time": "2023-04-25T12:41:22.000Z"
   },
   {
    "duration": 6,
    "start_time": "2023-04-25T12:41:24.450Z"
   },
   {
    "duration": 7,
    "start_time": "2023-04-25T12:41:32.019Z"
   },
   {
    "duration": 6,
    "start_time": "2023-04-25T12:41:32.771Z"
   },
   {
    "duration": 7,
    "start_time": "2023-04-25T12:41:38.111Z"
   },
   {
    "duration": 109,
    "start_time": "2023-04-25T12:42:08.103Z"
   },
   {
    "duration": 8,
    "start_time": "2023-04-25T12:42:17.114Z"
   },
   {
    "duration": 3,
    "start_time": "2023-04-25T12:42:59.662Z"
   },
   {
    "duration": 7,
    "start_time": "2023-04-25T12:43:04.640Z"
   },
   {
    "duration": 5,
    "start_time": "2023-04-25T12:43:24.304Z"
   },
   {
    "duration": 7,
    "start_time": "2023-04-25T12:43:26.027Z"
   },
   {
    "duration": 1116,
    "start_time": "2023-04-25T12:43:43.150Z"
   },
   {
    "duration": 40,
    "start_time": "2023-04-25T12:43:44.268Z"
   },
   {
    "duration": 10,
    "start_time": "2023-04-25T12:43:44.310Z"
   },
   {
    "duration": 73,
    "start_time": "2023-04-25T12:43:44.322Z"
   },
   {
    "duration": 19,
    "start_time": "2023-04-25T12:43:44.397Z"
   },
   {
    "duration": 9,
    "start_time": "2023-04-25T12:43:44.417Z"
   },
   {
    "duration": 7,
    "start_time": "2023-04-25T12:43:44.428Z"
   },
   {
    "duration": 8,
    "start_time": "2023-04-25T12:43:44.437Z"
   },
   {
    "duration": 25,
    "start_time": "2023-04-25T12:43:44.447Z"
   },
   {
    "duration": 6,
    "start_time": "2023-04-25T12:43:44.475Z"
   },
   {
    "duration": 37,
    "start_time": "2023-04-25T12:43:44.482Z"
   },
   {
    "duration": 8,
    "start_time": "2023-04-25T12:43:44.521Z"
   },
   {
    "duration": 12,
    "start_time": "2023-04-25T12:43:44.531Z"
   },
   {
    "duration": 296,
    "start_time": "2023-04-25T12:43:44.545Z"
   },
   {
    "duration": 290,
    "start_time": "2023-04-25T12:43:44.843Z"
   },
   {
    "duration": 207,
    "start_time": "2023-04-25T12:43:45.135Z"
   },
   {
    "duration": 305,
    "start_time": "2023-04-25T12:43:45.344Z"
   },
   {
    "duration": 262,
    "start_time": "2023-04-25T12:43:45.650Z"
   },
   {
    "duration": 334,
    "start_time": "2023-04-25T12:43:45.913Z"
   },
   {
    "duration": 190,
    "start_time": "2023-04-25T12:43:46.249Z"
   },
   {
    "duration": 4,
    "start_time": "2023-04-25T12:43:46.440Z"
   },
   {
    "duration": 169,
    "start_time": "2023-04-25T12:43:46.445Z"
   },
   {
    "duration": 177,
    "start_time": "2023-04-25T12:43:46.618Z"
   },
   {
    "duration": 4,
    "start_time": "2023-04-25T12:43:46.797Z"
   },
   {
    "duration": 270,
    "start_time": "2023-04-25T12:43:46.802Z"
   },
   {
    "duration": 158,
    "start_time": "2023-04-25T12:43:47.073Z"
   },
   {
    "duration": 10,
    "start_time": "2023-04-25T12:43:47.233Z"
   },
   {
    "duration": 9,
    "start_time": "2023-04-25T12:43:47.246Z"
   },
   {
    "duration": 30,
    "start_time": "2023-04-25T12:43:47.256Z"
   },
   {
    "duration": 40,
    "start_time": "2023-04-25T12:43:47.288Z"
   },
   {
    "duration": 360,
    "start_time": "2023-04-25T12:44:30.503Z"
   },
   {
    "duration": 334,
    "start_time": "2023-04-25T12:44:34.573Z"
   },
   {
    "duration": 10,
    "start_time": "2023-04-25T12:46:40.571Z"
   },
   {
    "duration": 158,
    "start_time": "2023-04-25T12:48:33.782Z"
   },
   {
    "duration": 48,
    "start_time": "2023-04-25T12:49:39.450Z"
   },
   {
    "duration": 9,
    "start_time": "2023-04-25T12:51:36.649Z"
   },
   {
    "duration": 15,
    "start_time": "2023-04-25T12:51:47.852Z"
   },
   {
    "duration": 6,
    "start_time": "2023-04-25T12:52:00.333Z"
   },
   {
    "duration": 5,
    "start_time": "2023-04-25T12:53:14.112Z"
   },
   {
    "duration": 6,
    "start_time": "2023-04-25T12:53:16.706Z"
   },
   {
    "duration": 1062,
    "start_time": "2023-04-25T12:53:22.598Z"
   },
   {
    "duration": 41,
    "start_time": "2023-04-25T12:53:23.662Z"
   },
   {
    "duration": 11,
    "start_time": "2023-04-25T12:53:23.705Z"
   },
   {
    "duration": 77,
    "start_time": "2023-04-25T12:53:23.717Z"
   },
   {
    "duration": 18,
    "start_time": "2023-04-25T12:53:23.796Z"
   },
   {
    "duration": 8,
    "start_time": "2023-04-25T12:53:23.815Z"
   },
   {
    "duration": 10,
    "start_time": "2023-04-25T12:53:23.825Z"
   },
   {
    "duration": 10,
    "start_time": "2023-04-25T12:53:23.836Z"
   },
   {
    "duration": 16,
    "start_time": "2023-04-25T12:53:23.848Z"
   },
   {
    "duration": 13,
    "start_time": "2023-04-25T12:53:23.865Z"
   },
   {
    "duration": 17,
    "start_time": "2023-04-25T12:53:23.880Z"
   },
   {
    "duration": 19,
    "start_time": "2023-04-25T12:53:23.899Z"
   },
   {
    "duration": 10,
    "start_time": "2023-04-25T12:53:23.920Z"
   },
   {
    "duration": 287,
    "start_time": "2023-04-25T12:53:23.933Z"
   },
   {
    "duration": 291,
    "start_time": "2023-04-25T12:53:24.222Z"
   },
   {
    "duration": 217,
    "start_time": "2023-04-25T12:53:24.518Z"
   },
   {
    "duration": 308,
    "start_time": "2023-04-25T12:53:24.737Z"
   },
   {
    "duration": 246,
    "start_time": "2023-04-25T12:53:25.046Z"
   },
   {
    "duration": 349,
    "start_time": "2023-04-25T12:53:25.293Z"
   },
   {
    "duration": 196,
    "start_time": "2023-04-25T12:53:25.644Z"
   },
   {
    "duration": 5,
    "start_time": "2023-04-25T12:53:25.842Z"
   },
   {
    "duration": 158,
    "start_time": "2023-04-25T12:53:25.848Z"
   },
   {
    "duration": 155,
    "start_time": "2023-04-25T12:53:26.008Z"
   },
   {
    "duration": 4,
    "start_time": "2023-04-25T12:53:26.164Z"
   },
   {
    "duration": 271,
    "start_time": "2023-04-25T12:53:26.170Z"
   },
   {
    "duration": 160,
    "start_time": "2023-04-25T12:53:26.443Z"
   },
   {
    "duration": 16,
    "start_time": "2023-04-25T12:53:26.605Z"
   },
   {
    "duration": 9,
    "start_time": "2023-04-25T12:53:26.623Z"
   },
   {
    "duration": 26,
    "start_time": "2023-04-25T12:53:26.633Z"
   },
   {
    "duration": 13,
    "start_time": "2023-04-25T12:53:26.661Z"
   },
   {
    "duration": 924,
    "start_time": "2023-04-25T12:58:23.201Z"
   },
   {
    "duration": 9,
    "start_time": "2023-04-25T12:58:31.856Z"
   },
   {
    "duration": 8,
    "start_time": "2023-04-25T12:59:32.929Z"
   },
   {
    "duration": 10,
    "start_time": "2023-04-25T12:59:37.967Z"
   },
   {
    "duration": 8,
    "start_time": "2023-04-25T12:59:44.809Z"
   },
   {
    "duration": 14,
    "start_time": "2023-04-25T13:00:26.309Z"
   },
   {
    "duration": 16,
    "start_time": "2023-04-25T13:00:42.497Z"
   },
   {
    "duration": 19,
    "start_time": "2023-04-25T13:01:08.133Z"
   },
   {
    "duration": 25,
    "start_time": "2023-04-25T13:04:26.619Z"
   },
   {
    "duration": 36,
    "start_time": "2023-04-25T13:13:16.301Z"
   },
   {
    "duration": 41,
    "start_time": "2023-04-25T13:13:24.957Z"
   },
   {
    "duration": 38,
    "start_time": "2023-04-25T13:14:23.412Z"
   },
   {
    "duration": 8,
    "start_time": "2023-04-25T13:14:35.928Z"
   },
   {
    "duration": 48,
    "start_time": "2023-04-25T13:15:13.944Z"
   },
   {
    "duration": 2,
    "start_time": "2023-04-25T13:16:39.856Z"
   },
   {
    "duration": 2,
    "start_time": "2023-04-25T13:16:51.435Z"
   },
   {
    "duration": 1031,
    "start_time": "2023-04-25T13:20:11.032Z"
   },
   {
    "duration": 41,
    "start_time": "2023-04-25T13:20:12.065Z"
   },
   {
    "duration": 10,
    "start_time": "2023-04-25T13:20:12.108Z"
   },
   {
    "duration": 81,
    "start_time": "2023-04-25T13:20:12.121Z"
   },
   {
    "duration": 17,
    "start_time": "2023-04-25T13:20:12.204Z"
   },
   {
    "duration": 8,
    "start_time": "2023-04-25T13:20:12.223Z"
   },
   {
    "duration": 8,
    "start_time": "2023-04-25T13:20:12.233Z"
   },
   {
    "duration": 9,
    "start_time": "2023-04-25T13:20:12.242Z"
   },
   {
    "duration": 71,
    "start_time": "2023-04-25T13:20:12.253Z"
   },
   {
    "duration": 277,
    "start_time": "2023-04-25T13:20:12.327Z"
   },
   {
    "duration": 299,
    "start_time": "2023-04-25T13:20:12.606Z"
   },
   {
    "duration": 217,
    "start_time": "2023-04-25T13:20:12.907Z"
   },
   {
    "duration": 317,
    "start_time": "2023-04-25T13:20:13.126Z"
   },
   {
    "duration": 239,
    "start_time": "2023-04-25T13:20:13.444Z"
   },
   {
    "duration": 364,
    "start_time": "2023-04-25T13:20:13.684Z"
   },
   {
    "duration": 199,
    "start_time": "2023-04-25T13:20:14.050Z"
   },
   {
    "duration": 4,
    "start_time": "2023-04-25T13:20:14.251Z"
   },
   {
    "duration": 173,
    "start_time": "2023-04-25T13:20:14.256Z"
   },
   {
    "duration": 153,
    "start_time": "2023-04-25T13:20:14.430Z"
   },
   {
    "duration": 3,
    "start_time": "2023-04-25T13:20:14.584Z"
   },
   {
    "duration": 273,
    "start_time": "2023-04-25T13:20:14.589Z"
   },
   {
    "duration": 172,
    "start_time": "2023-04-25T13:20:14.863Z"
   },
   {
    "duration": 11,
    "start_time": "2023-04-25T13:20:15.037Z"
   },
   {
    "duration": 18,
    "start_time": "2023-04-25T13:20:15.049Z"
   },
   {
    "duration": 25,
    "start_time": "2023-04-25T13:20:15.069Z"
   },
   {
    "duration": 33,
    "start_time": "2023-04-25T13:20:15.096Z"
   },
   {
    "duration": 9,
    "start_time": "2023-04-25T13:21:09.213Z"
   },
   {
    "duration": 52,
    "start_time": "2023-04-25T13:22:07.801Z"
   },
   {
    "duration": 7,
    "start_time": "2023-04-25T13:22:56.829Z"
   },
   {
    "duration": 1317,
    "start_time": "2023-04-26T13:09:14.333Z"
   },
   {
    "duration": 110,
    "start_time": "2023-04-26T13:09:15.653Z"
   },
   {
    "duration": 12,
    "start_time": "2023-04-26T13:09:15.765Z"
   },
   {
    "duration": 196,
    "start_time": "2023-04-26T13:09:15.780Z"
   },
   {
    "duration": 19,
    "start_time": "2023-04-26T13:09:15.978Z"
   },
   {
    "duration": 16,
    "start_time": "2023-04-26T13:09:15.999Z"
   },
   {
    "duration": 22,
    "start_time": "2023-04-26T13:09:16.017Z"
   },
   {
    "duration": 22,
    "start_time": "2023-04-26T13:09:16.041Z"
   },
   {
    "duration": 52,
    "start_time": "2023-04-26T13:09:16.065Z"
   },
   {
    "duration": 305,
    "start_time": "2023-04-26T13:09:16.120Z"
   },
   {
    "duration": 310,
    "start_time": "2023-04-26T13:09:16.427Z"
   },
   {
    "duration": 220,
    "start_time": "2023-04-26T13:09:16.739Z"
   },
   {
    "duration": 376,
    "start_time": "2023-04-26T13:09:16.961Z"
   },
   {
    "duration": 246,
    "start_time": "2023-04-26T13:09:17.339Z"
   },
   {
    "duration": 349,
    "start_time": "2023-04-26T13:09:17.587Z"
   },
   {
    "duration": 200,
    "start_time": "2023-04-26T13:09:17.937Z"
   },
   {
    "duration": 4,
    "start_time": "2023-04-26T13:09:18.139Z"
   },
   {
    "duration": 171,
    "start_time": "2023-04-26T13:09:18.145Z"
   },
   {
    "duration": 167,
    "start_time": "2023-04-26T13:09:18.318Z"
   },
   {
    "duration": 4,
    "start_time": "2023-04-26T13:09:18.487Z"
   },
   {
    "duration": 291,
    "start_time": "2023-04-26T13:09:18.492Z"
   },
   {
    "duration": 160,
    "start_time": "2023-04-26T13:09:18.785Z"
   },
   {
    "duration": 18,
    "start_time": "2023-04-26T13:09:18.947Z"
   },
   {
    "duration": 9,
    "start_time": "2023-04-26T13:09:18.966Z"
   },
   {
    "duration": 27,
    "start_time": "2023-04-26T13:09:18.976Z"
   },
   {
    "duration": 12,
    "start_time": "2023-04-26T13:09:19.005Z"
   },
   {
    "duration": 54,
    "start_time": "2023-04-26T17:31:26.759Z"
   },
   {
    "duration": 1398,
    "start_time": "2023-04-26T17:31:31.491Z"
   },
   {
    "duration": 100,
    "start_time": "2023-04-26T17:31:32.892Z"
   },
   {
    "duration": 13,
    "start_time": "2023-04-26T17:31:32.996Z"
   },
   {
    "duration": 200,
    "start_time": "2023-04-26T17:31:33.010Z"
   },
   {
    "duration": 21,
    "start_time": "2023-04-26T17:31:33.212Z"
   },
   {
    "duration": 13,
    "start_time": "2023-04-26T17:31:33.235Z"
   },
   {
    "duration": 20,
    "start_time": "2023-04-26T17:31:33.251Z"
   },
   {
    "duration": 17,
    "start_time": "2023-04-26T17:31:33.272Z"
   },
   {
    "duration": 60,
    "start_time": "2023-04-26T17:31:33.291Z"
   },
   {
    "duration": 371,
    "start_time": "2023-04-26T17:31:33.352Z"
   },
   {
    "duration": 345,
    "start_time": "2023-04-26T17:31:33.725Z"
   },
   {
    "duration": 243,
    "start_time": "2023-04-26T17:31:34.072Z"
   },
   {
    "duration": 369,
    "start_time": "2023-04-26T17:31:34.317Z"
   },
   {
    "duration": 266,
    "start_time": "2023-04-26T17:31:34.689Z"
   },
   {
    "duration": 392,
    "start_time": "2023-04-26T17:31:34.957Z"
   },
   {
    "duration": 211,
    "start_time": "2023-04-26T17:31:35.351Z"
   },
   {
    "duration": 5,
    "start_time": "2023-04-26T17:31:35.563Z"
   },
   {
    "duration": 201,
    "start_time": "2023-04-26T17:31:35.570Z"
   },
   {
    "duration": 175,
    "start_time": "2023-04-26T17:31:35.773Z"
   },
   {
    "duration": 5,
    "start_time": "2023-04-26T17:31:35.949Z"
   },
   {
    "duration": 335,
    "start_time": "2023-04-26T17:31:35.956Z"
   },
   {
    "duration": 201,
    "start_time": "2023-04-26T17:31:36.293Z"
   },
   {
    "duration": 14,
    "start_time": "2023-04-26T17:31:36.496Z"
   },
   {
    "duration": 51,
    "start_time": "2023-04-26T17:31:36.513Z"
   },
   {
    "duration": 35,
    "start_time": "2023-04-26T17:31:36.565Z"
   },
   {
    "duration": 15,
    "start_time": "2023-04-26T17:31:36.602Z"
   },
   {
    "duration": 55,
    "start_time": "2023-04-26T17:38:13.101Z"
   },
   {
    "duration": 1290,
    "start_time": "2023-04-27T14:43:32.085Z"
   },
   {
    "duration": 86,
    "start_time": "2023-04-27T14:43:33.377Z"
   },
   {
    "duration": 11,
    "start_time": "2023-04-27T14:43:33.465Z"
   },
   {
    "duration": 167,
    "start_time": "2023-04-27T14:43:33.478Z"
   },
   {
    "duration": 18,
    "start_time": "2023-04-27T14:43:33.648Z"
   },
   {
    "duration": 8,
    "start_time": "2023-04-27T14:43:33.669Z"
   },
   {
    "duration": 6,
    "start_time": "2023-04-27T14:43:33.679Z"
   },
   {
    "duration": 12,
    "start_time": "2023-04-27T14:43:33.686Z"
   },
   {
    "duration": 60,
    "start_time": "2023-04-27T14:43:33.699Z"
   },
   {
    "duration": 301,
    "start_time": "2023-04-27T14:43:33.761Z"
   },
   {
    "duration": 316,
    "start_time": "2023-04-27T14:43:34.064Z"
   },
   {
    "duration": 231,
    "start_time": "2023-04-27T14:43:34.382Z"
   },
   {
    "duration": 388,
    "start_time": "2023-04-27T14:43:34.614Z"
   },
   {
    "duration": 253,
    "start_time": "2023-04-27T14:43:35.005Z"
   },
   {
    "duration": 372,
    "start_time": "2023-04-27T14:43:35.259Z"
   },
   {
    "duration": 201,
    "start_time": "2023-04-27T14:43:35.633Z"
   },
   {
    "duration": 5,
    "start_time": "2023-04-27T14:43:35.835Z"
   },
   {
    "duration": 181,
    "start_time": "2023-04-27T14:43:35.842Z"
   },
   {
    "duration": 171,
    "start_time": "2023-04-27T14:43:36.024Z"
   },
   {
    "duration": 4,
    "start_time": "2023-04-27T14:43:36.197Z"
   },
   {
    "duration": 310,
    "start_time": "2023-04-27T14:43:36.203Z"
   },
   {
    "duration": 162,
    "start_time": "2023-04-27T14:43:36.515Z"
   },
   {
    "duration": 19,
    "start_time": "2023-04-27T14:43:36.679Z"
   },
   {
    "duration": 9,
    "start_time": "2023-04-27T14:43:36.700Z"
   },
   {
    "duration": 27,
    "start_time": "2023-04-27T14:43:36.710Z"
   },
   {
    "duration": 13,
    "start_time": "2023-04-27T14:43:36.738Z"
   }
  ],
  "kernelspec": {
   "display_name": "Python 3 (ipykernel)",
   "language": "python",
   "name": "python3"
  },
  "language_info": {
   "codemirror_mode": {
    "name": "ipython",
    "version": 3
   },
   "file_extension": ".py",
   "mimetype": "text/x-python",
   "name": "python",
   "nbconvert_exporter": "python",
   "pygments_lexer": "ipython3",
   "version": "3.10.9"
  },
  "toc": {
   "base_numbering": 1,
   "nav_menu": {},
   "number_sections": true,
   "sideBar": true,
   "skip_h1_title": true,
   "title_cell": "Table of Contents",
   "title_sidebar": "Contents",
   "toc_cell": false,
   "toc_position": {},
   "toc_section_display": true,
   "toc_window_display": false
  }
 },
 "nbformat": 4,
 "nbformat_minor": 2
}
