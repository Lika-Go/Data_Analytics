{
 "cells": [
  {
   "cell_type": "markdown",
   "metadata": {},
   "source": [
    "# Анализ А/B-теста рекомендательной системы"
   ]
  },
  {
   "cell_type": "markdown",
   "metadata": {},
   "source": [
    "# Цель\n",
    "Провести оценку результатов A/B-теста:\n",
    "* Оценить корректность проведения теста.\n",
    "* Проанализировать результаты теста.\n",
    "\n",
    "# Задачи\n",
    "* Проверить, есть ли пересечение тестовой аудитории с конкурирующим тестом и есть ли пользователи, участвующие в двух группах теста одновременно.\n",
    "* Проверить равномерность распределения пользователей по тестовым группам и правильность их формирования.\n"
   ]
  },
  {
   "cell_type": "markdown",
   "metadata": {},
   "source": [
    "# Техническое задание\n",
    "* Название теста: `recommender_system_test`;\n",
    "* Группы: А (контрольная), B (новая платёжная воронка);\n",
    "* Дата запуска: 2020-12-07;\n",
    "* Дата остановки набора новых пользователей: 2020-12-21;\n",
    "* Дата остановки: 2021-01-04;\n",
    "* Аудитория: 15% новых пользователей из региона EU;\n",
    "* Назначение теста: тестирование изменений, связанных с внедрением улучшенной рекомендательной системы;\n",
    "* Ожидаемое количество участников теста: 6000.\n",
    "* Ожидаемый эффект: за 14 дней с момента регистрации в системе пользователи покажут улучшение каждой метрики не менее, чем на 10%:\n",
    "    * конверсии в просмотр карточек товаров — событие `product_page`\n",
    "    * просмотры корзины — `product_cart`\n",
    "    * покупки — `purchase`. \n",
    "    \n",
    "Загрузить данные теста, проверить корректность его проведения и проанализировать полученные результаты."
   ]
  },
  {
   "cell_type": "markdown",
   "metadata": {},
   "source": [
    "# Описание данных\n",
    "\n",
    "**`ab_project_marketing_events.csv`** — календарь маркетинговых событий на 2020 год. <br>\n",
    "\n",
    "Структура файла:\n",
    "\n",
    "* `name` — название маркетингового события;\n",
    "* `regions` — регионы, в которых будет проводиться рекламная кампания;\n",
    "* `start_dt` — дата начала кампании;\n",
    "* `finish_dt` — дата завершения кампании.\n",
    "<br><br>\n",
    "\n",
    "**`final_ab_new_users.csv`** — пользователи, зарегистрировавшиеся с 7 по 21 декабря 2020 года.<br>\n",
    "\n",
    "Структура файла:\n",
    "\n",
    "* `user_id` — идентификатор пользователя;\n",
    "* `first_date` — дата регистрации;\n",
    "* `region` — регион пользователя;\n",
    "* `device` — устройство, с которого происходила регистрация.\n",
    "<br><br>\n",
    "\n",
    "**`final_ab_events.csv`** — действия новых пользователей в период с 7 декабря 2020 по 4 января 2021 года.\n",
    "<br>\n",
    "\n",
    "Структура файла:\n",
    "\n",
    "* `user_id` — идентификатор пользователя;\n",
    "* `event_dt` — дата и время события;\n",
    "* `event_name` — тип события;\n",
    "* `details` — дополнительные данные о событии. Например, для покупок, purchase, в этом поле хранится стоимость покупки в долларах.\n",
    "<br><br>\n",
    "\n",
    "**`final_ab_participants.csv`** — таблица участников тестов.\n",
    "<br>\n",
    "\n",
    "Структура файла:\n",
    "\n",
    "* `user_id` — идентификатор пользователя;\n",
    "* `ab_test` — название теста;\n",
    "* `group` — группа пользователя."
   ]
  },
  {
   "cell_type": "markdown",
   "metadata": {},
   "source": [
    "# План действий:\n",
    "\n",
    "**1. Загрузка библиотек и баз данных.** <br> <br>\n",
    "**2. Просмотр и предобработка (пропуски, дубликаты, типы данных) следующих датасетов:** <br>\n",
    "    2.1 Датасет ab_project_marketing_events <br>\n",
    "    2.2 Датасет final_ab_new_users <br>\n",
    "    2.3 Датасет final_ab_events <br>\n",
    "    2.4 Датасет final_ab_participants <br>\n",
    "    2.5 Завершая предобработку. <br>\n",
    "    2.6 Промежуточный вывод. <br>\n",
    "    <br>\n",
    "    \n",
    "**3. Оценка корректности проведения теста:**<br>\n",
    "    3.1 Соответствие данных требованиям технического задания. <br>\n",
    "    3.2 Время проведения теста. Убедимся, что оно не совпадает с маркетинговыми и другими активностями.<br>\n",
    "    3.3 Аудитория теста. Удостоверимся, что нет пересечений с конкурирующим тестом и нет пользователей, участвующих в двух группах теста одновременно. Проверим равномерность распределения пользователей по тестовым группам.\n",
    "<br><br>\n",
    "\n",
    "**4. Исследовательский анализ данных:** <br>\n",
    "    4.1 Количество событий на пользователя одинаково распределены в выборках? <br>\n",
    "    4.2 Как число событий в выборках распределено по дням? <br>\n",
    "    4.3 Как меняется конверсия в воронке в выборках на разных этапах? <br>\n",
    "    4.4 Какие особенности данных нужно учесть, прежде чем приступать к A/B-тестированию?<br>\n",
    "\n",
    "**5. Результаты А/В-теста:** <br>\n",
    "    5.1 Результаты A/B-тестирования, проверка статистической разницы долей z-критерием.<br>\n",
    "\n",
    "**6. Выводы и общее заключение** <br>\n",
    "<br>\n"
   ]
  },
  {
   "cell_type": "markdown",
   "metadata": {},
   "source": [
    "## Загрузка библиотек и баз данных"
   ]
  },
  {
   "cell_type": "code",
   "execution_count": 80,
   "metadata": {},
   "outputs": [],
   "source": [
    "# Импортируем библиотеки:\n",
    "\n",
    "import pandas as pd\n",
    "import numpy as np\n",
    "import seaborn as sns\n",
    "import matplotlib.pyplot as plt\n",
    "import matplotlib.patches as mpatches\n",
    "import math as mth\n",
    "\n",
    "import plotly.io as pio \n",
    "pio.renderers.default = 'notebook+jupyterlab+png'\n",
    "pio.renderers['png'].scale = 1.0\n",
    "\n",
    "import plotly.express as px\n",
    "from plotly import graph_objects as go\n",
    "from plotly.subplots import make_subplots\n",
    "from scipy import stats as st\n",
    "import datetime as dt\n",
    "from pandas.plotting import register_matplotlib_converters\n",
    "import os\n",
    "import warnings\n",
    "register_matplotlib_converters()\n",
    "pd.options.display.float_format = '{:,.2f}'.format\n",
    "import warnings\n",
    "warnings.filterwarnings('ignore')\n",
    "%matplotlib inline"
   ]
  },
  {
   "cell_type": "code",
   "execution_count": 2,
   "metadata": {},
   "outputs": [],
   "source": [
    "# Загружаем датасеты:\n",
    "\n",
    "marketing_events = pd.read_csv('https://code.s3.yandex.net/datasets/ab_project_marketing_events.csv')\n",
    "new_users = pd.read_csv('https://code.s3.yandex.net/datasets/final_ab_new_users.csv')\n",
    "ab_events = pd.read_csv('https://code.s3.yandex.net/datasets/final_ab_events.csv')\n",
    "ab_participants = pd.read_csv('https://code.s3.yandex.net/datasets/final_ab_participants.csv')   "
   ]
  },
  {
   "cell_type": "markdown",
   "metadata": {},
   "source": [
    "## Просмотр и предобработка датасетов"
   ]
  },
  {
   "cell_type": "markdown",
   "metadata": {},
   "source": [
    "### Датасет marketing_events"
   ]
  },
  {
   "cell_type": "code",
   "execution_count": 3,
   "metadata": {},
   "outputs": [
    {
     "data": {
      "text/html": [
       "<div>\n",
       "<style scoped>\n",
       "    .dataframe tbody tr th:only-of-type {\n",
       "        vertical-align: middle;\n",
       "    }\n",
       "\n",
       "    .dataframe tbody tr th {\n",
       "        vertical-align: top;\n",
       "    }\n",
       "\n",
       "    .dataframe thead th {\n",
       "        text-align: right;\n",
       "    }\n",
       "</style>\n",
       "<table border=\"1\" class=\"dataframe\">\n",
       "  <thead>\n",
       "    <tr style=\"text-align: right;\">\n",
       "      <th></th>\n",
       "      <th>name</th>\n",
       "      <th>regions</th>\n",
       "      <th>start_dt</th>\n",
       "      <th>finish_dt</th>\n",
       "    </tr>\n",
       "  </thead>\n",
       "  <tbody>\n",
       "    <tr>\n",
       "      <th>0</th>\n",
       "      <td>Christmas&amp;New Year Promo</td>\n",
       "      <td>EU, N.America</td>\n",
       "      <td>2020-12-25</td>\n",
       "      <td>2021-01-03</td>\n",
       "    </tr>\n",
       "    <tr>\n",
       "      <th>1</th>\n",
       "      <td>St. Valentine's Day Giveaway</td>\n",
       "      <td>EU, CIS, APAC, N.America</td>\n",
       "      <td>2020-02-14</td>\n",
       "      <td>2020-02-16</td>\n",
       "    </tr>\n",
       "    <tr>\n",
       "      <th>2</th>\n",
       "      <td>St. Patric's Day Promo</td>\n",
       "      <td>EU, N.America</td>\n",
       "      <td>2020-03-17</td>\n",
       "      <td>2020-03-19</td>\n",
       "    </tr>\n",
       "    <tr>\n",
       "      <th>3</th>\n",
       "      <td>Easter Promo</td>\n",
       "      <td>EU, CIS, APAC, N.America</td>\n",
       "      <td>2020-04-12</td>\n",
       "      <td>2020-04-19</td>\n",
       "    </tr>\n",
       "    <tr>\n",
       "      <th>4</th>\n",
       "      <td>4th of July Promo</td>\n",
       "      <td>N.America</td>\n",
       "      <td>2020-07-04</td>\n",
       "      <td>2020-07-11</td>\n",
       "    </tr>\n",
       "    <tr>\n",
       "      <th>5</th>\n",
       "      <td>Black Friday Ads Campaign</td>\n",
       "      <td>EU, CIS, APAC, N.America</td>\n",
       "      <td>2020-11-26</td>\n",
       "      <td>2020-12-01</td>\n",
       "    </tr>\n",
       "    <tr>\n",
       "      <th>6</th>\n",
       "      <td>Chinese New Year Promo</td>\n",
       "      <td>APAC</td>\n",
       "      <td>2020-01-25</td>\n",
       "      <td>2020-02-07</td>\n",
       "    </tr>\n",
       "    <tr>\n",
       "      <th>7</th>\n",
       "      <td>Labor day (May 1st) Ads Campaign</td>\n",
       "      <td>EU, CIS, APAC</td>\n",
       "      <td>2020-05-01</td>\n",
       "      <td>2020-05-03</td>\n",
       "    </tr>\n",
       "    <tr>\n",
       "      <th>8</th>\n",
       "      <td>International Women's Day Promo</td>\n",
       "      <td>EU, CIS, APAC</td>\n",
       "      <td>2020-03-08</td>\n",
       "      <td>2020-03-10</td>\n",
       "    </tr>\n",
       "    <tr>\n",
       "      <th>9</th>\n",
       "      <td>Victory Day CIS (May 9th) Event</td>\n",
       "      <td>CIS</td>\n",
       "      <td>2020-05-09</td>\n",
       "      <td>2020-05-11</td>\n",
       "    </tr>\n",
       "    <tr>\n",
       "      <th>10</th>\n",
       "      <td>CIS New Year Gift Lottery</td>\n",
       "      <td>CIS</td>\n",
       "      <td>2020-12-30</td>\n",
       "      <td>2021-01-07</td>\n",
       "    </tr>\n",
       "    <tr>\n",
       "      <th>11</th>\n",
       "      <td>Dragon Boat Festival Giveaway</td>\n",
       "      <td>APAC</td>\n",
       "      <td>2020-06-25</td>\n",
       "      <td>2020-07-01</td>\n",
       "    </tr>\n",
       "    <tr>\n",
       "      <th>12</th>\n",
       "      <td>Single's Day Gift Promo</td>\n",
       "      <td>APAC</td>\n",
       "      <td>2020-11-11</td>\n",
       "      <td>2020-11-12</td>\n",
       "    </tr>\n",
       "    <tr>\n",
       "      <th>13</th>\n",
       "      <td>Chinese Moon Festival</td>\n",
       "      <td>APAC</td>\n",
       "      <td>2020-10-01</td>\n",
       "      <td>2020-10-07</td>\n",
       "    </tr>\n",
       "  </tbody>\n",
       "</table>\n",
       "</div>"
      ],
      "text/plain": [
       "                                name                   regions    start_dt  \\\n",
       "0           Christmas&New Year Promo             EU, N.America  2020-12-25   \n",
       "1       St. Valentine's Day Giveaway  EU, CIS, APAC, N.America  2020-02-14   \n",
       "2             St. Patric's Day Promo             EU, N.America  2020-03-17   \n",
       "3                       Easter Promo  EU, CIS, APAC, N.America  2020-04-12   \n",
       "4                  4th of July Promo                 N.America  2020-07-04   \n",
       "5          Black Friday Ads Campaign  EU, CIS, APAC, N.America  2020-11-26   \n",
       "6             Chinese New Year Promo                      APAC  2020-01-25   \n",
       "7   Labor day (May 1st) Ads Campaign             EU, CIS, APAC  2020-05-01   \n",
       "8    International Women's Day Promo             EU, CIS, APAC  2020-03-08   \n",
       "9    Victory Day CIS (May 9th) Event                       CIS  2020-05-09   \n",
       "10         CIS New Year Gift Lottery                       CIS  2020-12-30   \n",
       "11     Dragon Boat Festival Giveaway                      APAC  2020-06-25   \n",
       "12           Single's Day Gift Promo                      APAC  2020-11-11   \n",
       "13             Chinese Moon Festival                      APAC  2020-10-01   \n",
       "\n",
       "     finish_dt  \n",
       "0   2021-01-03  \n",
       "1   2020-02-16  \n",
       "2   2020-03-19  \n",
       "3   2020-04-19  \n",
       "4   2020-07-11  \n",
       "5   2020-12-01  \n",
       "6   2020-02-07  \n",
       "7   2020-05-03  \n",
       "8   2020-03-10  \n",
       "9   2020-05-11  \n",
       "10  2021-01-07  \n",
       "11  2020-07-01  \n",
       "12  2020-11-12  \n",
       "13  2020-10-07  "
      ]
     },
     "metadata": {},
     "output_type": "display_data"
    },
    {
     "name": "stdout",
     "output_type": "stream",
     "text": [
      "\n",
      "<class 'pandas.core.frame.DataFrame'>\n",
      "RangeIndex: 14 entries, 0 to 13\n",
      "Data columns (total 4 columns):\n",
      " #   Column     Non-Null Count  Dtype \n",
      "---  ------     --------------  ----- \n",
      " 0   name       14 non-null     object\n",
      " 1   regions    14 non-null     object\n",
      " 2   start_dt   14 non-null     object\n",
      " 3   finish_dt  14 non-null     object\n",
      "dtypes: object(4)\n",
      "memory usage: 576.0+ bytes\n"
     ]
    }
   ],
   "source": [
    "# Отобразим marketing_events:\n",
    "display(marketing_events)\n",
    "print()\n",
    "marketing_events.info()"
   ]
  },
  {
   "cell_type": "code",
   "execution_count": 4,
   "metadata": {},
   "outputs": [
    {
     "data": {
      "text/plain": [
       "0"
      ]
     },
     "execution_count": 4,
     "metadata": {},
     "output_type": "execute_result"
    }
   ],
   "source": [
    "# Явные дубликаты в marketing_events:\n",
    "marketing_events.duplicated().sum()"
   ]
  },
  {
   "cell_type": "code",
   "execution_count": 5,
   "metadata": {},
   "outputs": [
    {
     "data": {
      "text/plain": [
       "'2020-01-25'"
      ]
     },
     "execution_count": 5,
     "metadata": {},
     "output_type": "execute_result"
    }
   ],
   "source": [
    "# Данные в датасете marketing_events в промежутке от:\n",
    "marketing_events.start_dt.min()"
   ]
  },
  {
   "cell_type": "code",
   "execution_count": 6,
   "metadata": {},
   "outputs": [
    {
     "data": {
      "text/plain": [
       "'2021-01-07'"
      ]
     },
     "execution_count": 6,
     "metadata": {},
     "output_type": "execute_result"
    }
   ],
   "source": [
    "# Данные в датасете marketing_events в промежутке до:\n",
    "marketing_events.finish_dt.max()"
   ]
  },
  {
   "cell_type": "code",
   "execution_count": 7,
   "metadata": {},
   "outputs": [
    {
     "data": {
      "text/plain": [
       "APAC                        4\n",
       "EU, CIS, APAC, N.America    3\n",
       "EU, N.America               2\n",
       "EU, CIS, APAC               2\n",
       "CIS                         2\n",
       "N.America                   1\n",
       "Name: regions, dtype: int64"
      ]
     },
     "execution_count": 7,
     "metadata": {},
     "output_type": "execute_result"
    }
   ],
   "source": [
    "marketing_events.regions.value_counts()"
   ]
  },
  {
   "cell_type": "code",
   "execution_count": 8,
   "metadata": {},
   "outputs": [
    {
     "data": {
      "text/plain": [
       "Christmas&New Year Promo            1\n",
       "St. Valentine's Day Giveaway        1\n",
       "St. Patric's Day Promo              1\n",
       "Easter Promo                        1\n",
       "4th of July Promo                   1\n",
       "Black Friday Ads Campaign           1\n",
       "Chinese New Year Promo              1\n",
       "Labor day (May 1st) Ads Campaign    1\n",
       "International Women's Day Promo     1\n",
       "Victory Day CIS (May 9th) Event     1\n",
       "CIS New Year Gift Lottery           1\n",
       "Dragon Boat Festival Giveaway       1\n",
       "Single's Day Gift Promo             1\n",
       "Chinese Moon Festival               1\n",
       "Name: name, dtype: int64"
      ]
     },
     "execution_count": 8,
     "metadata": {},
     "output_type": "execute_result"
    }
   ],
   "source": [
    "marketing_events.name.value_counts()"
   ]
  },
  {
   "cell_type": "code",
   "execution_count": 9,
   "metadata": {},
   "outputs": [
    {
     "data": {
      "text/plain": [
       "14"
      ]
     },
     "execution_count": 9,
     "metadata": {},
     "output_type": "execute_result"
    }
   ],
   "source": [
    "len(marketing_events.name.unique())"
   ]
  },
  {
   "cell_type": "markdown",
   "metadata": {},
   "source": [
    "**Комментарий к датасету marketing_events:**\n",
    "* 14 строк, 4 столбца.\n",
    "* Типы данных всех столбцов - object. \n",
    "* Name и regions можно оставить как object.\n",
    "* Нужно перевести start_dt и finish_dt в datetime, формат даты и времени.\n",
    "* Явных дубликатов нет.\n",
    "* Пропусков нет.\n",
    "* Данные в диапазоне от 25.01.2020 до 07.01.2021.\n",
    "* Больше всего маркетинговых событий в регионе ATAC (АТР - Азиатско-Тихоокеанский регион). \n",
    "* Среди названий маркетинговых событий мы видим акции к разным праздникам. Всего таких уникальных событий 14. Каждое успели провести по 1 разу."
   ]
  },
  {
   "cell_type": "markdown",
   "metadata": {},
   "source": [
    "### Датасет new_users"
   ]
  },
  {
   "cell_type": "code",
   "execution_count": 10,
   "metadata": {},
   "outputs": [
    {
     "data": {
      "text/html": [
       "<div>\n",
       "<style scoped>\n",
       "    .dataframe tbody tr th:only-of-type {\n",
       "        vertical-align: middle;\n",
       "    }\n",
       "\n",
       "    .dataframe tbody tr th {\n",
       "        vertical-align: top;\n",
       "    }\n",
       "\n",
       "    .dataframe thead th {\n",
       "        text-align: right;\n",
       "    }\n",
       "</style>\n",
       "<table border=\"1\" class=\"dataframe\">\n",
       "  <thead>\n",
       "    <tr style=\"text-align: right;\">\n",
       "      <th></th>\n",
       "      <th>user_id</th>\n",
       "      <th>first_date</th>\n",
       "      <th>region</th>\n",
       "      <th>device</th>\n",
       "    </tr>\n",
       "  </thead>\n",
       "  <tbody>\n",
       "    <tr>\n",
       "      <th>0</th>\n",
       "      <td>D72A72121175D8BE</td>\n",
       "      <td>2020-12-07</td>\n",
       "      <td>EU</td>\n",
       "      <td>PC</td>\n",
       "    </tr>\n",
       "    <tr>\n",
       "      <th>1</th>\n",
       "      <td>F1C668619DFE6E65</td>\n",
       "      <td>2020-12-07</td>\n",
       "      <td>N.America</td>\n",
       "      <td>Android</td>\n",
       "    </tr>\n",
       "    <tr>\n",
       "      <th>2</th>\n",
       "      <td>2E1BF1D4C37EA01F</td>\n",
       "      <td>2020-12-07</td>\n",
       "      <td>EU</td>\n",
       "      <td>PC</td>\n",
       "    </tr>\n",
       "    <tr>\n",
       "      <th>3</th>\n",
       "      <td>50734A22C0C63768</td>\n",
       "      <td>2020-12-07</td>\n",
       "      <td>EU</td>\n",
       "      <td>iPhone</td>\n",
       "    </tr>\n",
       "    <tr>\n",
       "      <th>4</th>\n",
       "      <td>E1BDDCE0DAFA2679</td>\n",
       "      <td>2020-12-07</td>\n",
       "      <td>N.America</td>\n",
       "      <td>iPhone</td>\n",
       "    </tr>\n",
       "    <tr>\n",
       "      <th>...</th>\n",
       "      <td>...</td>\n",
       "      <td>...</td>\n",
       "      <td>...</td>\n",
       "      <td>...</td>\n",
       "    </tr>\n",
       "    <tr>\n",
       "      <th>61728</th>\n",
       "      <td>1DB53B933257165D</td>\n",
       "      <td>2020-12-20</td>\n",
       "      <td>EU</td>\n",
       "      <td>Android</td>\n",
       "    </tr>\n",
       "    <tr>\n",
       "      <th>61729</th>\n",
       "      <td>538643EB4527ED03</td>\n",
       "      <td>2020-12-20</td>\n",
       "      <td>EU</td>\n",
       "      <td>Mac</td>\n",
       "    </tr>\n",
       "    <tr>\n",
       "      <th>61730</th>\n",
       "      <td>7ADEE837D5D8CBBD</td>\n",
       "      <td>2020-12-20</td>\n",
       "      <td>EU</td>\n",
       "      <td>PC</td>\n",
       "    </tr>\n",
       "    <tr>\n",
       "      <th>61731</th>\n",
       "      <td>1C7D23927835213F</td>\n",
       "      <td>2020-12-20</td>\n",
       "      <td>EU</td>\n",
       "      <td>iPhone</td>\n",
       "    </tr>\n",
       "    <tr>\n",
       "      <th>61732</th>\n",
       "      <td>8F04273BB2860229</td>\n",
       "      <td>2020-12-20</td>\n",
       "      <td>EU</td>\n",
       "      <td>Android</td>\n",
       "    </tr>\n",
       "  </tbody>\n",
       "</table>\n",
       "<p>61733 rows × 4 columns</p>\n",
       "</div>"
      ],
      "text/plain": [
       "                user_id  first_date     region   device\n",
       "0      D72A72121175D8BE  2020-12-07         EU       PC\n",
       "1      F1C668619DFE6E65  2020-12-07  N.America  Android\n",
       "2      2E1BF1D4C37EA01F  2020-12-07         EU       PC\n",
       "3      50734A22C0C63768  2020-12-07         EU   iPhone\n",
       "4      E1BDDCE0DAFA2679  2020-12-07  N.America   iPhone\n",
       "...                 ...         ...        ...      ...\n",
       "61728  1DB53B933257165D  2020-12-20         EU  Android\n",
       "61729  538643EB4527ED03  2020-12-20         EU      Mac\n",
       "61730  7ADEE837D5D8CBBD  2020-12-20         EU       PC\n",
       "61731  1C7D23927835213F  2020-12-20         EU   iPhone\n",
       "61732  8F04273BB2860229  2020-12-20         EU  Android\n",
       "\n",
       "[61733 rows x 4 columns]"
      ]
     },
     "metadata": {},
     "output_type": "display_data"
    },
    {
     "name": "stdout",
     "output_type": "stream",
     "text": [
      "\n",
      "<class 'pandas.core.frame.DataFrame'>\n",
      "RangeIndex: 61733 entries, 0 to 61732\n",
      "Data columns (total 4 columns):\n",
      " #   Column      Non-Null Count  Dtype \n",
      "---  ------      --------------  ----- \n",
      " 0   user_id     61733 non-null  object\n",
      " 1   first_date  61733 non-null  object\n",
      " 2   region      61733 non-null  object\n",
      " 3   device      61733 non-null  object\n",
      "dtypes: object(4)\n",
      "memory usage: 1.9+ MB\n"
     ]
    }
   ],
   "source": [
    "# Отобразим new_users:\n",
    "display(new_users)\n",
    "print()\n",
    "new_users.info()"
   ]
  },
  {
   "cell_type": "code",
   "execution_count": 11,
   "metadata": {},
   "outputs": [
    {
     "data": {
      "text/plain": [
       "0"
      ]
     },
     "execution_count": 11,
     "metadata": {},
     "output_type": "execute_result"
    }
   ],
   "source": [
    "# Явные дубликаты в new_users:\n",
    "new_users.duplicated().sum()"
   ]
  },
  {
   "cell_type": "code",
   "execution_count": 12,
   "metadata": {},
   "outputs": [
    {
     "data": {
      "text/plain": [
       "'2020-12-07'"
      ]
     },
     "execution_count": 12,
     "metadata": {},
     "output_type": "execute_result"
    }
   ],
   "source": [
    "# Данные new_users начинаются от:\n",
    "new_users.first_date.min()"
   ]
  },
  {
   "cell_type": "code",
   "execution_count": 13,
   "metadata": {},
   "outputs": [
    {
     "data": {
      "text/plain": [
       "EU           46270\n",
       "N.America     9155\n",
       "CIS           3155\n",
       "APAC          3153\n",
       "Name: region, dtype: int64"
      ]
     },
     "execution_count": 13,
     "metadata": {},
     "output_type": "execute_result"
    }
   ],
   "source": [
    "new_users.region.value_counts()"
   ]
  },
  {
   "cell_type": "code",
   "execution_count": 14,
   "metadata": {},
   "outputs": [
    {
     "data": {
      "text/plain": [
       "Android    27520\n",
       "PC         15599\n",
       "iPhone     12530\n",
       "Mac         6084\n",
       "Name: device, dtype: int64"
      ]
     },
     "execution_count": 14,
     "metadata": {},
     "output_type": "execute_result"
    }
   ],
   "source": [
    "new_users.device.value_counts()"
   ]
  },
  {
   "cell_type": "markdown",
   "metadata": {},
   "source": [
    "**Комментарий к датасету new_users:**\n",
    "* 61733 строк, 4 столбца.\n",
    "* Типы данных всех столбцов - object. \n",
    "* User_id, region и device можно оставить как object.\n",
    "* Нужно перевести first_date в datetime, формат даты и времени.\n",
    "* Явных дубликатов нет.\n",
    "* Пропусков нет.\n",
    "* Данные начинаются от 07.12.2020.\n",
    "* Всего 4 региона: EU (ЕС), N.America (США и Канада), CIS (СНГ), APAC (АТР - Азиатско-Тихоокеанский регион). \n",
    "* Больше всего пользователей из EU.\n",
    "* Всего видов устройств 4: Android, PC, iPhone, Mac. \n",
    "* Больше всего пользователей на Android."
   ]
  },
  {
   "cell_type": "markdown",
   "metadata": {},
   "source": [
    "### Датасет ab_events"
   ]
  },
  {
   "cell_type": "code",
   "execution_count": 15,
   "metadata": {},
   "outputs": [
    {
     "data": {
      "text/html": [
       "<div>\n",
       "<style scoped>\n",
       "    .dataframe tbody tr th:only-of-type {\n",
       "        vertical-align: middle;\n",
       "    }\n",
       "\n",
       "    .dataframe tbody tr th {\n",
       "        vertical-align: top;\n",
       "    }\n",
       "\n",
       "    .dataframe thead th {\n",
       "        text-align: right;\n",
       "    }\n",
       "</style>\n",
       "<table border=\"1\" class=\"dataframe\">\n",
       "  <thead>\n",
       "    <tr style=\"text-align: right;\">\n",
       "      <th></th>\n",
       "      <th>user_id</th>\n",
       "      <th>event_dt</th>\n",
       "      <th>event_name</th>\n",
       "      <th>details</th>\n",
       "    </tr>\n",
       "  </thead>\n",
       "  <tbody>\n",
       "    <tr>\n",
       "      <th>0</th>\n",
       "      <td>E1BDDCE0DAFA2679</td>\n",
       "      <td>2020-12-07 20:22:03</td>\n",
       "      <td>purchase</td>\n",
       "      <td>99.99</td>\n",
       "    </tr>\n",
       "    <tr>\n",
       "      <th>1</th>\n",
       "      <td>7B6452F081F49504</td>\n",
       "      <td>2020-12-07 09:22:53</td>\n",
       "      <td>purchase</td>\n",
       "      <td>9.99</td>\n",
       "    </tr>\n",
       "    <tr>\n",
       "      <th>2</th>\n",
       "      <td>9CD9F34546DF254C</td>\n",
       "      <td>2020-12-07 12:59:29</td>\n",
       "      <td>purchase</td>\n",
       "      <td>4.99</td>\n",
       "    </tr>\n",
       "    <tr>\n",
       "      <th>3</th>\n",
       "      <td>96F27A054B191457</td>\n",
       "      <td>2020-12-07 04:02:40</td>\n",
       "      <td>purchase</td>\n",
       "      <td>4.99</td>\n",
       "    </tr>\n",
       "    <tr>\n",
       "      <th>4</th>\n",
       "      <td>1FD7660FDF94CA1F</td>\n",
       "      <td>2020-12-07 10:15:09</td>\n",
       "      <td>purchase</td>\n",
       "      <td>4.99</td>\n",
       "    </tr>\n",
       "    <tr>\n",
       "      <th>...</th>\n",
       "      <td>...</td>\n",
       "      <td>...</td>\n",
       "      <td>...</td>\n",
       "      <td>...</td>\n",
       "    </tr>\n",
       "    <tr>\n",
       "      <th>440312</th>\n",
       "      <td>245E85F65C358E08</td>\n",
       "      <td>2020-12-30 19:35:55</td>\n",
       "      <td>login</td>\n",
       "      <td>NaN</td>\n",
       "    </tr>\n",
       "    <tr>\n",
       "      <th>440313</th>\n",
       "      <td>9385A108F5A0A7A7</td>\n",
       "      <td>2020-12-30 10:54:15</td>\n",
       "      <td>login</td>\n",
       "      <td>NaN</td>\n",
       "    </tr>\n",
       "    <tr>\n",
       "      <th>440314</th>\n",
       "      <td>DB650B7559AC6EAC</td>\n",
       "      <td>2020-12-30 10:59:09</td>\n",
       "      <td>login</td>\n",
       "      <td>NaN</td>\n",
       "    </tr>\n",
       "    <tr>\n",
       "      <th>440315</th>\n",
       "      <td>F80C9BDDEA02E53C</td>\n",
       "      <td>2020-12-30 09:53:39</td>\n",
       "      <td>login</td>\n",
       "      <td>NaN</td>\n",
       "    </tr>\n",
       "    <tr>\n",
       "      <th>440316</th>\n",
       "      <td>7AEC61159B672CC5</td>\n",
       "      <td>2020-12-30 11:36:13</td>\n",
       "      <td>login</td>\n",
       "      <td>NaN</td>\n",
       "    </tr>\n",
       "  </tbody>\n",
       "</table>\n",
       "<p>440317 rows × 4 columns</p>\n",
       "</div>"
      ],
      "text/plain": [
       "                 user_id             event_dt event_name  details\n",
       "0       E1BDDCE0DAFA2679  2020-12-07 20:22:03   purchase    99.99\n",
       "1       7B6452F081F49504  2020-12-07 09:22:53   purchase     9.99\n",
       "2       9CD9F34546DF254C  2020-12-07 12:59:29   purchase     4.99\n",
       "3       96F27A054B191457  2020-12-07 04:02:40   purchase     4.99\n",
       "4       1FD7660FDF94CA1F  2020-12-07 10:15:09   purchase     4.99\n",
       "...                  ...                  ...        ...      ...\n",
       "440312  245E85F65C358E08  2020-12-30 19:35:55      login      NaN\n",
       "440313  9385A108F5A0A7A7  2020-12-30 10:54:15      login      NaN\n",
       "440314  DB650B7559AC6EAC  2020-12-30 10:59:09      login      NaN\n",
       "440315  F80C9BDDEA02E53C  2020-12-30 09:53:39      login      NaN\n",
       "440316  7AEC61159B672CC5  2020-12-30 11:36:13      login      NaN\n",
       "\n",
       "[440317 rows x 4 columns]"
      ]
     },
     "metadata": {},
     "output_type": "display_data"
    },
    {
     "name": "stdout",
     "output_type": "stream",
     "text": [
      "\n",
      "<class 'pandas.core.frame.DataFrame'>\n",
      "RangeIndex: 440317 entries, 0 to 440316\n",
      "Data columns (total 4 columns):\n",
      " #   Column      Non-Null Count   Dtype  \n",
      "---  ------      --------------   -----  \n",
      " 0   user_id     440317 non-null  object \n",
      " 1   event_dt    440317 non-null  object \n",
      " 2   event_name  440317 non-null  object \n",
      " 3   details     62740 non-null   float64\n",
      "dtypes: float64(1), object(3)\n",
      "memory usage: 13.4+ MB\n"
     ]
    }
   ],
   "source": [
    "# Отобразим events:\n",
    "display(ab_events)\n",
    "print()\n",
    "ab_events.info()"
   ]
  },
  {
   "cell_type": "code",
   "execution_count": 16,
   "metadata": {},
   "outputs": [
    {
     "data": {
      "text/plain": [
       "0"
      ]
     },
     "execution_count": 16,
     "metadata": {},
     "output_type": "execute_result"
    }
   ],
   "source": [
    "# Явные дубликаты в ab_events:\n",
    "ab_events.duplicated().sum()"
   ]
  },
  {
   "cell_type": "code",
   "execution_count": 17,
   "metadata": {},
   "outputs": [
    {
     "name": "stdout",
     "output_type": "stream",
     "text": [
      "user_id            0\n",
      "event_dt           0\n",
      "event_name         0\n",
      "details       377577\n",
      "dtype: int64\n"
     ]
    }
   ],
   "source": [
    "# Посчитаем, сколько пропусков в столбцах ab_events:\n",
    "ab_counter = ab_events.isnull().sum()\n",
    "print(ab_counter)"
   ]
  },
  {
   "cell_type": "code",
   "execution_count": 18,
   "metadata": {},
   "outputs": [
    {
     "data": {
      "text/plain": [
       "'2020-12-07 00:00:33'"
      ]
     },
     "execution_count": 18,
     "metadata": {},
     "output_type": "execute_result"
    }
   ],
   "source": [
    "# Данные ab_events в диапазоне от:\n",
    "ab_events.event_dt.min()"
   ]
  },
  {
   "cell_type": "code",
   "execution_count": 19,
   "metadata": {},
   "outputs": [
    {
     "data": {
      "text/plain": [
       "'2020-12-30 23:36:33'"
      ]
     },
     "execution_count": 19,
     "metadata": {},
     "output_type": "execute_result"
    }
   ],
   "source": [
    "# Данные ab_events в диапазоне до:\n",
    "ab_events.event_dt.max()"
   ]
  },
  {
   "cell_type": "code",
   "execution_count": 20,
   "metadata": {},
   "outputs": [
    {
     "data": {
      "text/plain": [
       "login           189552\n",
       "product_page    125563\n",
       "purchase         62740\n",
       "product_cart     62462\n",
       "Name: event_name, dtype: int64"
      ]
     },
     "execution_count": 20,
     "metadata": {},
     "output_type": "execute_result"
    }
   ],
   "source": [
    "# События в ab_events:\n",
    "ab_events.event_name.value_counts()"
   ]
  },
  {
   "cell_type": "code",
   "execution_count": 21,
   "metadata": {},
   "outputs": [
    {
     "data": {
      "text/plain": [
       "array([ 99.99,   9.99,   4.99, 499.99,    nan])"
      ]
     },
     "execution_count": 21,
     "metadata": {},
     "output_type": "execute_result"
    }
   ],
   "source": [
    "# Детали в ab_events:\n",
    "ab_events.details.unique()"
   ]
  },
  {
   "cell_type": "code",
   "execution_count": 22,
   "metadata": {},
   "outputs": [
    {
     "data": {
      "text/plain": [
       "4.99      46362\n",
       "9.99       9530\n",
       "99.99      5631\n",
       "499.99     1217\n",
       "Name: details, dtype: int64"
      ]
     },
     "execution_count": 22,
     "metadata": {},
     "output_type": "execute_result"
    }
   ],
   "source": [
    "# Детали в ab_events:\n",
    "ab_events.details.value_counts()"
   ]
  },
  {
   "cell_type": "markdown",
   "metadata": {},
   "source": [
    "**Комментарий к датасету ab_events:**\n",
    "* 440 317 строк, 4 столбца.\n",
    "* Типы данных трех столбцов user_id, event_dt, event_name - object, а столбца details - float64. \n",
    "* User_id, event_name  можно оставить как object.\n",
    "* Нужно перевести event_dt в datetime, формат даты и времени.\n",
    "* Явных дубликатов нет.\n",
    "* Пропуски есть в столбце details - 377 577 строк.\n",
    "* Данные в диапазоне от 07.12.2020 до 30.12.2020.\n",
    "* Всего 4 уникальных события: login (вход в профиль), product_page (страница продукта), product_cart (продукт в корзине), purchase (покупка).\n",
    "* Всего 5 деталей в ab_events: 4.9, 9.9, 99.99, 499.99, NaN."
   ]
  },
  {
   "cell_type": "markdown",
   "metadata": {},
   "source": [
    "### Датасет ab_participants"
   ]
  },
  {
   "cell_type": "code",
   "execution_count": 23,
   "metadata": {},
   "outputs": [
    {
     "data": {
      "text/html": [
       "<div>\n",
       "<style scoped>\n",
       "    .dataframe tbody tr th:only-of-type {\n",
       "        vertical-align: middle;\n",
       "    }\n",
       "\n",
       "    .dataframe tbody tr th {\n",
       "        vertical-align: top;\n",
       "    }\n",
       "\n",
       "    .dataframe thead th {\n",
       "        text-align: right;\n",
       "    }\n",
       "</style>\n",
       "<table border=\"1\" class=\"dataframe\">\n",
       "  <thead>\n",
       "    <tr style=\"text-align: right;\">\n",
       "      <th></th>\n",
       "      <th>user_id</th>\n",
       "      <th>group</th>\n",
       "      <th>ab_test</th>\n",
       "    </tr>\n",
       "  </thead>\n",
       "  <tbody>\n",
       "    <tr>\n",
       "      <th>0</th>\n",
       "      <td>D1ABA3E2887B6A73</td>\n",
       "      <td>A</td>\n",
       "      <td>recommender_system_test</td>\n",
       "    </tr>\n",
       "    <tr>\n",
       "      <th>1</th>\n",
       "      <td>A7A3664BD6242119</td>\n",
       "      <td>A</td>\n",
       "      <td>recommender_system_test</td>\n",
       "    </tr>\n",
       "    <tr>\n",
       "      <th>2</th>\n",
       "      <td>DABC14FDDFADD29E</td>\n",
       "      <td>A</td>\n",
       "      <td>recommender_system_test</td>\n",
       "    </tr>\n",
       "    <tr>\n",
       "      <th>3</th>\n",
       "      <td>04988C5DF189632E</td>\n",
       "      <td>A</td>\n",
       "      <td>recommender_system_test</td>\n",
       "    </tr>\n",
       "    <tr>\n",
       "      <th>4</th>\n",
       "      <td>482F14783456D21B</td>\n",
       "      <td>B</td>\n",
       "      <td>recommender_system_test</td>\n",
       "    </tr>\n",
       "    <tr>\n",
       "      <th>...</th>\n",
       "      <td>...</td>\n",
       "      <td>...</td>\n",
       "      <td>...</td>\n",
       "    </tr>\n",
       "    <tr>\n",
       "      <th>18263</th>\n",
       "      <td>1D302F8688B91781</td>\n",
       "      <td>B</td>\n",
       "      <td>interface_eu_test</td>\n",
       "    </tr>\n",
       "    <tr>\n",
       "      <th>18264</th>\n",
       "      <td>3DE51B726983B657</td>\n",
       "      <td>A</td>\n",
       "      <td>interface_eu_test</td>\n",
       "    </tr>\n",
       "    <tr>\n",
       "      <th>18265</th>\n",
       "      <td>F501F79D332BE86C</td>\n",
       "      <td>A</td>\n",
       "      <td>interface_eu_test</td>\n",
       "    </tr>\n",
       "    <tr>\n",
       "      <th>18266</th>\n",
       "      <td>63FBE257B05F2245</td>\n",
       "      <td>A</td>\n",
       "      <td>interface_eu_test</td>\n",
       "    </tr>\n",
       "    <tr>\n",
       "      <th>18267</th>\n",
       "      <td>79F9ABFB029CF724</td>\n",
       "      <td>B</td>\n",
       "      <td>interface_eu_test</td>\n",
       "    </tr>\n",
       "  </tbody>\n",
       "</table>\n",
       "<p>18268 rows × 3 columns</p>\n",
       "</div>"
      ],
      "text/plain": [
       "                user_id group                  ab_test\n",
       "0      D1ABA3E2887B6A73     A  recommender_system_test\n",
       "1      A7A3664BD6242119     A  recommender_system_test\n",
       "2      DABC14FDDFADD29E     A  recommender_system_test\n",
       "3      04988C5DF189632E     A  recommender_system_test\n",
       "4      482F14783456D21B     B  recommender_system_test\n",
       "...                 ...   ...                      ...\n",
       "18263  1D302F8688B91781     B        interface_eu_test\n",
       "18264  3DE51B726983B657     A        interface_eu_test\n",
       "18265  F501F79D332BE86C     A        interface_eu_test\n",
       "18266  63FBE257B05F2245     A        interface_eu_test\n",
       "18267  79F9ABFB029CF724     B        interface_eu_test\n",
       "\n",
       "[18268 rows x 3 columns]"
      ]
     },
     "metadata": {},
     "output_type": "display_data"
    },
    {
     "name": "stdout",
     "output_type": "stream",
     "text": [
      "\n",
      "<class 'pandas.core.frame.DataFrame'>\n",
      "RangeIndex: 18268 entries, 0 to 18267\n",
      "Data columns (total 3 columns):\n",
      " #   Column   Non-Null Count  Dtype \n",
      "---  ------   --------------  ----- \n",
      " 0   user_id  18268 non-null  object\n",
      " 1   group    18268 non-null  object\n",
      " 2   ab_test  18268 non-null  object\n",
      "dtypes: object(3)\n",
      "memory usage: 428.3+ KB\n"
     ]
    }
   ],
   "source": [
    "# Отобразим ab_participants:\n",
    "display(ab_participants)\n",
    "print()\n",
    "ab_participants.info()"
   ]
  },
  {
   "cell_type": "code",
   "execution_count": 24,
   "metadata": {},
   "outputs": [
    {
     "data": {
      "text/plain": [
       "0"
      ]
     },
     "execution_count": 24,
     "metadata": {},
     "output_type": "execute_result"
    }
   ],
   "source": [
    "# Явные дубликаты в ab_participants:\n",
    "ab_participants.duplicated().sum()"
   ]
  },
  {
   "cell_type": "code",
   "execution_count": 25,
   "metadata": {},
   "outputs": [
    {
     "name": "stdout",
     "output_type": "stream",
     "text": [
      "user_id    0\n",
      "group      0\n",
      "ab_test    0\n",
      "dtype: int64\n"
     ]
    }
   ],
   "source": [
    "# Посчитаем, сколько пропусков в столбцах ab_participants:\n",
    "par_counter = ab_participants.isnull().sum()\n",
    "print(par_counter)"
   ]
  },
  {
   "cell_type": "code",
   "execution_count": 26,
   "metadata": {},
   "outputs": [
    {
     "data": {
      "text/plain": [
       "A    9655\n",
       "B    8613\n",
       "Name: group, dtype: int64"
      ]
     },
     "execution_count": 26,
     "metadata": {},
     "output_type": "execute_result"
    }
   ],
   "source": [
    "# Проверим уникальные группы в ab_participants:\n",
    "ab_participants.group.value_counts()"
   ]
  },
  {
   "cell_type": "code",
   "execution_count": 27,
   "metadata": {},
   "outputs": [
    {
     "data": {
      "text/plain": [
       "interface_eu_test          11567\n",
       "recommender_system_test     6701\n",
       "Name: ab_test, dtype: int64"
      ]
     },
     "execution_count": 27,
     "metadata": {},
     "output_type": "execute_result"
    }
   ],
   "source": [
    "# Проверим уникальные результаты в ab_participants:\n",
    "ab_participants.ab_test.value_counts()"
   ]
  },
  {
   "cell_type": "markdown",
   "metadata": {},
   "source": [
    "**Комментарий к датасету ab_participants:**\n",
    "* 18 268 строк, 3 столбца.\n",
    "* Типы данных трех столбцов user_id, group, ab_test - object, оставим их как есть.\n",
    "* Явных дубликатов нет.\n",
    "* Пропусков нет.\n",
    "* Всего 2 уникальных группы: А и В. Группа А на 12% больше группы В - 9655 против 8613.\n",
    "* Всего 2 результата в столбце ab_test: recommender_system_test, interface_eu_test. Результатов interface_eu_test почти в 2 раза больше."
   ]
  },
  {
   "cell_type": "markdown",
   "metadata": {},
   "source": [
    "### Завершая предобработку:\n",
    "1. Привести к формату datetime: start_dt и finish_dt в marketing_events, first_date в new_users, event_dt в ab_events. \n",
    "2. Решить вопрос с пропусками в датасете ab_events. Пропуски есть в столбце details - 377 577 строк."
   ]
  },
  {
   "cell_type": "markdown",
   "metadata": {},
   "source": [
    "#### Приводим к формату datetime"
   ]
  },
  {
   "cell_type": "code",
   "execution_count": 28,
   "metadata": {},
   "outputs": [
    {
     "name": "stdout",
     "output_type": "stream",
     "text": [
      "<class 'pandas.core.frame.DataFrame'>\n",
      "RangeIndex: 14 entries, 0 to 13\n",
      "Data columns (total 4 columns):\n",
      " #   Column     Non-Null Count  Dtype         \n",
      "---  ------     --------------  -----         \n",
      " 0   name       14 non-null     object        \n",
      " 1   regions    14 non-null     object        \n",
      " 2   start_dt   14 non-null     datetime64[ns]\n",
      " 3   finish_dt  14 non-null     datetime64[ns]\n",
      "dtypes: datetime64[ns](2), object(2)\n",
      "memory usage: 576.0+ bytes\n"
     ]
    }
   ],
   "source": [
    "marketing_events['start_dt'] = pd.to_datetime(marketing_events['start_dt'], format='%Y-%m-%d')\n",
    "marketing_events['finish_dt'] = pd.to_datetime(marketing_events['finish_dt'], format='%Y-%m-%d')\n",
    "marketing_events.info()"
   ]
  },
  {
   "cell_type": "code",
   "execution_count": 29,
   "metadata": {
    "scrolled": true
   },
   "outputs": [
    {
     "name": "stdout",
     "output_type": "stream",
     "text": [
      "<class 'pandas.core.frame.DataFrame'>\n",
      "RangeIndex: 61733 entries, 0 to 61732\n",
      "Data columns (total 4 columns):\n",
      " #   Column      Non-Null Count  Dtype         \n",
      "---  ------      --------------  -----         \n",
      " 0   user_id     61733 non-null  object        \n",
      " 1   first_date  61733 non-null  datetime64[ns]\n",
      " 2   region      61733 non-null  object        \n",
      " 3   device      61733 non-null  object        \n",
      "dtypes: datetime64[ns](1), object(3)\n",
      "memory usage: 1.9+ MB\n"
     ]
    }
   ],
   "source": [
    "new_users['first_date'] = pd.to_datetime(new_users['first_date'], format='%Y-%m-%d')\n",
    "new_users.info()"
   ]
  },
  {
   "cell_type": "markdown",
   "metadata": {},
   "source": [
    "**Комментарий:**\n",
    "    \n",
    "Столбец event_dt в ab_events отличается от других, т.к. здесь есть данные не только о годе, месяце и дне, но и часы, минуты и секунды.\n",
    "Такая информация нам не нужна, создадим новый столбец и нормализуем данные, приведем их в соответствие с форматом год-месяц-день."
   ]
  },
  {
   "cell_type": "code",
   "execution_count": 30,
   "metadata": {
    "scrolled": false
   },
   "outputs": [
    {
     "data": {
      "text/plain": [
       "0         2020-12-07 20:22:03\n",
       "1         2020-12-07 09:22:53\n",
       "2         2020-12-07 12:59:29\n",
       "3         2020-12-07 04:02:40\n",
       "4         2020-12-07 10:15:09\n",
       "                 ...         \n",
       "440312    2020-12-30 19:35:55\n",
       "440313    2020-12-30 10:54:15\n",
       "440314    2020-12-30 10:59:09\n",
       "440315    2020-12-30 09:53:39\n",
       "440316    2020-12-30 11:36:13\n",
       "Name: event_dt, Length: 440317, dtype: object"
      ]
     },
     "execution_count": 30,
     "metadata": {},
     "output_type": "execute_result"
    }
   ],
   "source": [
    "ab_events['event_dt']"
   ]
  },
  {
   "cell_type": "code",
   "execution_count": 31,
   "metadata": {},
   "outputs": [
    {
     "data": {
      "text/html": [
       "<div>\n",
       "<style scoped>\n",
       "    .dataframe tbody tr th:only-of-type {\n",
       "        vertical-align: middle;\n",
       "    }\n",
       "\n",
       "    .dataframe tbody tr th {\n",
       "        vertical-align: top;\n",
       "    }\n",
       "\n",
       "    .dataframe thead th {\n",
       "        text-align: right;\n",
       "    }\n",
       "</style>\n",
       "<table border=\"1\" class=\"dataframe\">\n",
       "  <thead>\n",
       "    <tr style=\"text-align: right;\">\n",
       "      <th></th>\n",
       "      <th>user_id</th>\n",
       "      <th>event_dt</th>\n",
       "      <th>event_name</th>\n",
       "      <th>details</th>\n",
       "      <th>date</th>\n",
       "    </tr>\n",
       "  </thead>\n",
       "  <tbody>\n",
       "    <tr>\n",
       "      <th>0</th>\n",
       "      <td>E1BDDCE0DAFA2679</td>\n",
       "      <td>2020-12-07 20:22:03</td>\n",
       "      <td>purchase</td>\n",
       "      <td>99.99</td>\n",
       "      <td>2020-12-07</td>\n",
       "    </tr>\n",
       "    <tr>\n",
       "      <th>1</th>\n",
       "      <td>7B6452F081F49504</td>\n",
       "      <td>2020-12-07 09:22:53</td>\n",
       "      <td>purchase</td>\n",
       "      <td>9.99</td>\n",
       "      <td>2020-12-07</td>\n",
       "    </tr>\n",
       "    <tr>\n",
       "      <th>2</th>\n",
       "      <td>9CD9F34546DF254C</td>\n",
       "      <td>2020-12-07 12:59:29</td>\n",
       "      <td>purchase</td>\n",
       "      <td>4.99</td>\n",
       "      <td>2020-12-07</td>\n",
       "    </tr>\n",
       "    <tr>\n",
       "      <th>3</th>\n",
       "      <td>96F27A054B191457</td>\n",
       "      <td>2020-12-07 04:02:40</td>\n",
       "      <td>purchase</td>\n",
       "      <td>4.99</td>\n",
       "      <td>2020-12-07</td>\n",
       "    </tr>\n",
       "    <tr>\n",
       "      <th>4</th>\n",
       "      <td>1FD7660FDF94CA1F</td>\n",
       "      <td>2020-12-07 10:15:09</td>\n",
       "      <td>purchase</td>\n",
       "      <td>4.99</td>\n",
       "      <td>2020-12-07</td>\n",
       "    </tr>\n",
       "    <tr>\n",
       "      <th>...</th>\n",
       "      <td>...</td>\n",
       "      <td>...</td>\n",
       "      <td>...</td>\n",
       "      <td>...</td>\n",
       "      <td>...</td>\n",
       "    </tr>\n",
       "    <tr>\n",
       "      <th>440312</th>\n",
       "      <td>245E85F65C358E08</td>\n",
       "      <td>2020-12-30 19:35:55</td>\n",
       "      <td>login</td>\n",
       "      <td>NaN</td>\n",
       "      <td>2020-12-30</td>\n",
       "    </tr>\n",
       "    <tr>\n",
       "      <th>440313</th>\n",
       "      <td>9385A108F5A0A7A7</td>\n",
       "      <td>2020-12-30 10:54:15</td>\n",
       "      <td>login</td>\n",
       "      <td>NaN</td>\n",
       "      <td>2020-12-30</td>\n",
       "    </tr>\n",
       "    <tr>\n",
       "      <th>440314</th>\n",
       "      <td>DB650B7559AC6EAC</td>\n",
       "      <td>2020-12-30 10:59:09</td>\n",
       "      <td>login</td>\n",
       "      <td>NaN</td>\n",
       "      <td>2020-12-30</td>\n",
       "    </tr>\n",
       "    <tr>\n",
       "      <th>440315</th>\n",
       "      <td>F80C9BDDEA02E53C</td>\n",
       "      <td>2020-12-30 09:53:39</td>\n",
       "      <td>login</td>\n",
       "      <td>NaN</td>\n",
       "      <td>2020-12-30</td>\n",
       "    </tr>\n",
       "    <tr>\n",
       "      <th>440316</th>\n",
       "      <td>7AEC61159B672CC5</td>\n",
       "      <td>2020-12-30 11:36:13</td>\n",
       "      <td>login</td>\n",
       "      <td>NaN</td>\n",
       "      <td>2020-12-30</td>\n",
       "    </tr>\n",
       "  </tbody>\n",
       "</table>\n",
       "<p>440317 rows × 5 columns</p>\n",
       "</div>"
      ],
      "text/plain": [
       "                 user_id             event_dt event_name  details       date\n",
       "0       E1BDDCE0DAFA2679  2020-12-07 20:22:03   purchase    99.99 2020-12-07\n",
       "1       7B6452F081F49504  2020-12-07 09:22:53   purchase     9.99 2020-12-07\n",
       "2       9CD9F34546DF254C  2020-12-07 12:59:29   purchase     4.99 2020-12-07\n",
       "3       96F27A054B191457  2020-12-07 04:02:40   purchase     4.99 2020-12-07\n",
       "4       1FD7660FDF94CA1F  2020-12-07 10:15:09   purchase     4.99 2020-12-07\n",
       "...                  ...                  ...        ...      ...        ...\n",
       "440312  245E85F65C358E08  2020-12-30 19:35:55      login      NaN 2020-12-30\n",
       "440313  9385A108F5A0A7A7  2020-12-30 10:54:15      login      NaN 2020-12-30\n",
       "440314  DB650B7559AC6EAC  2020-12-30 10:59:09      login      NaN 2020-12-30\n",
       "440315  F80C9BDDEA02E53C  2020-12-30 09:53:39      login      NaN 2020-12-30\n",
       "440316  7AEC61159B672CC5  2020-12-30 11:36:13      login      NaN 2020-12-30\n",
       "\n",
       "[440317 rows x 5 columns]"
      ]
     },
     "execution_count": 31,
     "metadata": {},
     "output_type": "execute_result"
    }
   ],
   "source": [
    "ab_events['date'] = pd.to_datetime(ab_events['event_dt']).dt.normalize()\n",
    "ab_events"
   ]
  },
  {
   "cell_type": "markdown",
   "metadata": {},
   "source": [
    "#### Пропуски в датасете ab_events в столбце details"
   ]
  },
  {
   "cell_type": "code",
   "execution_count": 32,
   "metadata": {},
   "outputs": [
    {
     "data": {
      "text/plain": [
       "event_name\n",
       "login               0\n",
       "product_cart        0\n",
       "product_page        0\n",
       "purchase        62740\n",
       "Name: details, dtype: int64"
      ]
     },
     "execution_count": 32,
     "metadata": {},
     "output_type": "execute_result"
    }
   ],
   "source": [
    "#Кол-во значений в столбце details с группировкой по event_name:\n",
    "ab_events.groupby('event_name').details.count()"
   ]
  },
  {
   "cell_type": "code",
   "execution_count": 33,
   "metadata": {
    "scrolled": true
   },
   "outputs": [
    {
     "data": {
      "text/plain": [
       "array([ 99.99,   9.99,   4.99, 499.99,    nan])"
      ]
     },
     "execution_count": 33,
     "metadata": {},
     "output_type": "execute_result"
    }
   ],
   "source": [
    "# Детали в ab_events:\n",
    "ab_events.details.unique()"
   ]
  },
  {
   "cell_type": "code",
   "execution_count": 34,
   "metadata": {},
   "outputs": [
    {
     "data": {
      "text/html": [
       "<div>\n",
       "<style scoped>\n",
       "    .dataframe tbody tr th:only-of-type {\n",
       "        vertical-align: middle;\n",
       "    }\n",
       "\n",
       "    .dataframe tbody tr th {\n",
       "        vertical-align: top;\n",
       "    }\n",
       "\n",
       "    .dataframe thead th {\n",
       "        text-align: right;\n",
       "    }\n",
       "</style>\n",
       "<table border=\"1\" class=\"dataframe\">\n",
       "  <thead>\n",
       "    <tr style=\"text-align: right;\">\n",
       "      <th></th>\n",
       "      <th>user_id</th>\n",
       "      <th>event_dt</th>\n",
       "      <th>event_name</th>\n",
       "      <th>details</th>\n",
       "      <th>date</th>\n",
       "    </tr>\n",
       "  </thead>\n",
       "  <tbody>\n",
       "    <tr>\n",
       "      <th>204140</th>\n",
       "      <td>BB8D78A288D3D1E3</td>\n",
       "      <td>2020-12-21 12:53:32</td>\n",
       "      <td>product_page</td>\n",
       "      <td>NaN</td>\n",
       "      <td>2020-12-21</td>\n",
       "    </tr>\n",
       "    <tr>\n",
       "      <th>146459</th>\n",
       "      <td>997D854249AE2712</td>\n",
       "      <td>2020-12-12 08:58:15</td>\n",
       "      <td>product_page</td>\n",
       "      <td>NaN</td>\n",
       "      <td>2020-12-12</td>\n",
       "    </tr>\n",
       "    <tr>\n",
       "      <th>146457</th>\n",
       "      <td>B85C1F7E8F7C0B68</td>\n",
       "      <td>2020-12-12 23:05:12</td>\n",
       "      <td>product_page</td>\n",
       "      <td>NaN</td>\n",
       "      <td>2020-12-12</td>\n",
       "    </tr>\n",
       "    <tr>\n",
       "      <th>146456</th>\n",
       "      <td>BF7DCC17FE95D46C</td>\n",
       "      <td>2020-12-12 11:29:58</td>\n",
       "      <td>product_page</td>\n",
       "      <td>NaN</td>\n",
       "      <td>2020-12-12</td>\n",
       "    </tr>\n",
       "    <tr>\n",
       "      <th>146455</th>\n",
       "      <td>412AB0DDE6AC3E13</td>\n",
       "      <td>2020-12-12 23:23:25</td>\n",
       "      <td>product_page</td>\n",
       "      <td>NaN</td>\n",
       "      <td>2020-12-12</td>\n",
       "    </tr>\n",
       "  </tbody>\n",
       "</table>\n",
       "</div>"
      ],
      "text/plain": [
       "                 user_id             event_dt    event_name  details  \\\n",
       "204140  BB8D78A288D3D1E3  2020-12-21 12:53:32  product_page      NaN   \n",
       "146459  997D854249AE2712  2020-12-12 08:58:15  product_page      NaN   \n",
       "146457  B85C1F7E8F7C0B68  2020-12-12 23:05:12  product_page      NaN   \n",
       "146456  BF7DCC17FE95D46C  2020-12-12 11:29:58  product_page      NaN   \n",
       "146455  412AB0DDE6AC3E13  2020-12-12 23:23:25  product_page      NaN   \n",
       "\n",
       "             date  \n",
       "204140 2020-12-21  \n",
       "146459 2020-12-12  \n",
       "146457 2020-12-12  \n",
       "146456 2020-12-12  \n",
       "146455 2020-12-12  "
      ]
     },
     "execution_count": 34,
     "metadata": {},
     "output_type": "execute_result"
    }
   ],
   "source": [
    "# Соберем строки с пропущенными значениями в details в отдельную табличку:\n",
    "ab_events_sorted = ab_events.loc[ab_events['details'].isna()].sort_values(by='event_name', ascending=False)\n",
    "ab_events_sorted.head()"
   ]
  },
  {
   "cell_type": "code",
   "execution_count": 35,
   "metadata": {},
   "outputs": [
    {
     "data": {
      "text/plain": [
       "array(['product_page', 'product_cart', 'login'], dtype=object)"
      ]
     },
     "execution_count": 35,
     "metadata": {},
     "output_type": "execute_result"
    }
   ],
   "source": [
    "# Табличку с пропущенными строками проверим по столбцу event_name:\n",
    "ab_events_sorted.event_name.unique()"
   ]
  },
  {
   "cell_type": "markdown",
   "metadata": {},
   "source": [
    "**Комментарий:**\n",
    "\n",
    "* Значения в details характерны только для события purchase, т.е. для покупок. Мы видим, как другие значения похожи на цену. <br>\n",
    "* У всех остальных событий нет значений в столбце details.  <br>\n",
    "* Пропущенные значения здесь, возможно, являются особенностью сбора данных, следовательно, нет необходимости заменять их на что-либо <br>"
   ]
  },
  {
   "cell_type": "markdown",
   "metadata": {},
   "source": [
    "### Промежуточный вывод:\n",
    "\n",
    "В процессе знакомства с данными были даны краткие характеристики каждому датасету:\n",
    "\n",
    "**I. marketing_events:**\n",
    "* 14 строк, 4 столбца.\n",
    "* Типы данных всех столбцов - object. \n",
    "* Name и regions можно оставить как object.\n",
    "* Нужно перевести start_dt и finish_dt в datetime, формат даты и времени.\n",
    "* Явных дубликатов нет.\n",
    "* Пропусков нет.\n",
    "* Данные в диапазоне от 25.01.2020 до 07.01.2021.\n",
    "* Больше всего маркетинговых событий в регионе ATAC (АТР - Азиатско-Тихоокеанский регион). \n",
    "* Среди названий маркетинговых событий мы видим акции к разным праздникам. Всего таких уникальных событий 14. Каждое успели провести по 1 разу.\n",
    "\n",
    "\n",
    "**II. new_users:**\n",
    "* 61733 строк, 4 столбца.\n",
    "* Типы данных всех столбцов - object. \n",
    "* User_id, region и device можно оставить как object.\n",
    "* Нужно перевести first_date в datetime, формат даты и времени.\n",
    "* Явных дубликатов нет.\n",
    "* Пропусков нет.\n",
    "* Данные начинаются от 07.12.2020.\n",
    "* Всего 4 региона: EU (ЕС), N.America (США и Канада), CIS (СНГ), APAC (АТР - Азиатско-Тихоокеанский регион). \n",
    "* Больше всего пользователей из EU.\n",
    "* Всего видов устройств 4: Android, PC, iPhone, Mac. \n",
    "* Больше всего пользователей на Android.\n",
    "\n",
    "\n",
    "**III. ab_events:**\n",
    "* 440 317 строк, 4 столбца.\n",
    "* Типы данных трех столбцов user_id, event_dt, event_name - object, а столбца details - float64. \n",
    "* User_id, event_name  можно оставить как object.\n",
    "* Нужно перевести event_dt в datetime, формат даты и времени.\n",
    "* Явных дубликатов нет.\n",
    "* Пропуски есть в столбце details - 377 577 строк.\n",
    "* Данные в диапазоне от 07.12.2020 до 30.12.2020.\n",
    "* Всего 4 уникальных события: login (вход в профиль), product_page (страница продукта), product_cart (продукт в корзине), purchase (покупка).\n",
    "* Всего 5 деталей в ab_events: 4.9, 9.9, 99.99, 499.99, NaN.\n",
    "\n",
    "\n",
    "**IV. ab_participants:**\n",
    "* 18 268 строк, 3 столбца.\n",
    "* Типы данных трех столбцов user_id, group, ab_test - object, оставим их как есть.\n",
    "* Явных дубликатов нет.\n",
    "* Пропусков нет.\n",
    "* Всего 2 уникальных группы: А и В. Группа А на 12% больше группы В - 9655 против 8613.\n",
    "* Всего 2 результата в столбце ab_test: recommender_system_test, interface_eu_test. Результатов interface_eu_test почти в 2 раза больше.\n",
    "\n",
    "<hr> \n",
    "\n",
    "**Также были выявлены следующие проблемы:**\n",
    "1. Некорректный тип предоставления данных - object вместо формата datetime: start_dt и finish_dt в marketing_events, first_date в new_users, event_dt в ab_events.\n",
    "2. Пропуски в датасете ab_events в столбце details - 377 577 строк.\n",
    "\n",
    "\n",
    "**Была проведена предобработка:**\n",
    "1. Тип данных изменён на datetime в следующих столбцах датафреймов:\n",
    "* marketing_events - start_dt и finish_dt;\n",
    "* new_users - first_date;\n",
    "* ab_events - event_dt.\n",
    "* В датафрейм ab_events добавлен столбец date с датой в формате datetime.\n",
    "\n",
    "2. Была исследована природа пропусков, они оставлены без изменений. \n",
    "\n",
    "В процессе предобработки явных аномалий и дубликатов замечено не было. Можно приступить к исследованию полученных данных."
   ]
  },
  {
   "cell_type": "markdown",
   "metadata": {},
   "source": [
    "## Оценка корректности проведения теста"
   ]
  },
  {
   "cell_type": "markdown",
   "metadata": {},
   "source": [
    "### Соответствие данных требованиям технического задания. \n",
    "Проверьте корректность всех пунктов технического задания."
   ]
  },
  {
   "cell_type": "markdown",
   "metadata": {},
   "source": [
    "**Пункт 1. Название теста: `recommender_system_test`**"
   ]
  },
  {
   "cell_type": "code",
   "execution_count": 36,
   "metadata": {},
   "outputs": [
    {
     "data": {
      "text/plain": [
       "interface_eu_test          11567\n",
       "recommender_system_test     6701\n",
       "Name: ab_test, dtype: int64"
      ]
     },
     "execution_count": 36,
     "metadata": {},
     "output_type": "execute_result"
    }
   ],
   "source": [
    "#Подсчитаем значения столбца ab_test в датасете ab_participants:\n",
    "ab_participants.ab_test.value_counts()"
   ]
  },
  {
   "cell_type": "markdown",
   "metadata": {},
   "source": [
    "В датасете два вида A/B-тестов: recommender_system_test (рекомендательной системы) и interface_eu_test (тест интерфейса в ЕС). \n",
    "Сохраним нужный нам тест отдельно в part_rec_test:"
   ]
  },
  {
   "cell_type": "code",
   "execution_count": 37,
   "metadata": {},
   "outputs": [
    {
     "data": {
      "text/html": [
       "<div>\n",
       "<style scoped>\n",
       "    .dataframe tbody tr th:only-of-type {\n",
       "        vertical-align: middle;\n",
       "    }\n",
       "\n",
       "    .dataframe tbody tr th {\n",
       "        vertical-align: top;\n",
       "    }\n",
       "\n",
       "    .dataframe thead th {\n",
       "        text-align: right;\n",
       "    }\n",
       "</style>\n",
       "<table border=\"1\" class=\"dataframe\">\n",
       "  <thead>\n",
       "    <tr style=\"text-align: right;\">\n",
       "      <th></th>\n",
       "      <th>user_id</th>\n",
       "      <th>group</th>\n",
       "      <th>ab_test</th>\n",
       "    </tr>\n",
       "  </thead>\n",
       "  <tbody>\n",
       "    <tr>\n",
       "      <th>0</th>\n",
       "      <td>D1ABA3E2887B6A73</td>\n",
       "      <td>A</td>\n",
       "      <td>recommender_system_test</td>\n",
       "    </tr>\n",
       "    <tr>\n",
       "      <th>1</th>\n",
       "      <td>A7A3664BD6242119</td>\n",
       "      <td>A</td>\n",
       "      <td>recommender_system_test</td>\n",
       "    </tr>\n",
       "    <tr>\n",
       "      <th>2</th>\n",
       "      <td>DABC14FDDFADD29E</td>\n",
       "      <td>A</td>\n",
       "      <td>recommender_system_test</td>\n",
       "    </tr>\n",
       "    <tr>\n",
       "      <th>3</th>\n",
       "      <td>04988C5DF189632E</td>\n",
       "      <td>A</td>\n",
       "      <td>recommender_system_test</td>\n",
       "    </tr>\n",
       "    <tr>\n",
       "      <th>4</th>\n",
       "      <td>482F14783456D21B</td>\n",
       "      <td>B</td>\n",
       "      <td>recommender_system_test</td>\n",
       "    </tr>\n",
       "    <tr>\n",
       "      <th>5</th>\n",
       "      <td>4FF2998A348C484F</td>\n",
       "      <td>A</td>\n",
       "      <td>recommender_system_test</td>\n",
       "    </tr>\n",
       "    <tr>\n",
       "      <th>6</th>\n",
       "      <td>7473E0943673C09E</td>\n",
       "      <td>A</td>\n",
       "      <td>recommender_system_test</td>\n",
       "    </tr>\n",
       "    <tr>\n",
       "      <th>7</th>\n",
       "      <td>C46FE336D240A054</td>\n",
       "      <td>A</td>\n",
       "      <td>recommender_system_test</td>\n",
       "    </tr>\n",
       "    <tr>\n",
       "      <th>8</th>\n",
       "      <td>92CB588012C10D3D</td>\n",
       "      <td>A</td>\n",
       "      <td>recommender_system_test</td>\n",
       "    </tr>\n",
       "    <tr>\n",
       "      <th>9</th>\n",
       "      <td>057AB296296C7FC0</td>\n",
       "      <td>B</td>\n",
       "      <td>recommender_system_test</td>\n",
       "    </tr>\n",
       "  </tbody>\n",
       "</table>\n",
       "</div>"
      ],
      "text/plain": [
       "            user_id group                  ab_test\n",
       "0  D1ABA3E2887B6A73     A  recommender_system_test\n",
       "1  A7A3664BD6242119     A  recommender_system_test\n",
       "2  DABC14FDDFADD29E     A  recommender_system_test\n",
       "3  04988C5DF189632E     A  recommender_system_test\n",
       "4  482F14783456D21B     B  recommender_system_test\n",
       "5  4FF2998A348C484F     A  recommender_system_test\n",
       "6  7473E0943673C09E     A  recommender_system_test\n",
       "7  C46FE336D240A054     A  recommender_system_test\n",
       "8  92CB588012C10D3D     A  recommender_system_test\n",
       "9  057AB296296C7FC0     B  recommender_system_test"
      ]
     },
     "execution_count": 37,
     "metadata": {},
     "output_type": "execute_result"
    }
   ],
   "source": [
    "part_rec_test = ab_participants.query('ab_test == \"recommender_system_test\"')\n",
    "part_rec_test.head(10)"
   ]
  },
  {
   "cell_type": "markdown",
   "metadata": {},
   "source": [
    "**Пункт 2. Группы: А (контрольная), B (новая платёжная воронка)**"
   ]
  },
  {
   "cell_type": "code",
   "execution_count": 38,
   "metadata": {},
   "outputs": [
    {
     "data": {
      "text/plain": [
       "A    3824\n",
       "B    2877\n",
       "Name: group, dtype: int64"
      ]
     },
     "execution_count": 38,
     "metadata": {},
     "output_type": "execute_result"
    }
   ],
   "source": [
    "part_rec_test.group.value_counts()"
   ]
  },
  {
   "cell_type": "code",
   "execution_count": 39,
   "metadata": {},
   "outputs": [
    {
     "name": "stdout",
     "output_type": "stream",
     "text": [
      "Разница между группами: 947 чел.\n"
     ]
    }
   ],
   "source": [
    "diff = part_rec_test.query('group == \"A\"').group.count() - part_rec_test.query('group == \"B\"').group.count()\n",
    "print('Разница между группами: {} чел.'.format(diff))"
   ]
  },
  {
   "cell_type": "markdown",
   "metadata": {},
   "source": [
    "**Комментарий:** <br>\n",
    "В нашей выборке для теста рекомендательной системы действительно есть А и В группы, но они представлены не равномерно. Группа А больше группы В на 947 человек. Но, учитывая что сравнивать придется относительные показатели, влияние разницы в размере групп на результаты A/B-теста значимым не будет."
   ]
  },
  {
   "cell_type": "markdown",
   "metadata": {},
   "source": [
    "**Пункт 3. Дата запуска: 2020-12-07**\n",
    "\n",
    "Данные имеются в датасете ab_events в столбце date."
   ]
  },
  {
   "cell_type": "code",
   "execution_count": 40,
   "metadata": {},
   "outputs": [
    {
     "name": "stdout",
     "output_type": "stream",
     "text": [
      "Дата запуска теста: 2020-12-07 00:00:00\n"
     ]
    }
   ],
   "source": [
    "print('Дата запуска теста:', ab_events.date.min())"
   ]
  },
  {
   "cell_type": "markdown",
   "metadata": {},
   "source": [
    "Дата запуска теста **соответствует ТЗ.**"
   ]
  },
  {
   "cell_type": "markdown",
   "metadata": {},
   "source": [
    "**Пункт 4. Дата остановки набора новых пользователей: 2020-12-21**\n",
    "\n",
    "Данные имеются в датасете new_users в столбце first_date."
   ]
  },
  {
   "cell_type": "markdown",
   "metadata": {},
   "source": [
    "Так как в наших датасетах содержатся данные по двум тестам, проводимым одновременно, отфильтруем new_users и объединим их с участниками нужного теста - part_rec_test."
   ]
  },
  {
   "cell_type": "code",
   "execution_count": 41,
   "metadata": {
    "scrolled": true
   },
   "outputs": [
    {
     "data": {
      "text/html": [
       "<div>\n",
       "<style scoped>\n",
       "    .dataframe tbody tr th:only-of-type {\n",
       "        vertical-align: middle;\n",
       "    }\n",
       "\n",
       "    .dataframe tbody tr th {\n",
       "        vertical-align: top;\n",
       "    }\n",
       "\n",
       "    .dataframe thead th {\n",
       "        text-align: right;\n",
       "    }\n",
       "</style>\n",
       "<table border=\"1\" class=\"dataframe\">\n",
       "  <thead>\n",
       "    <tr style=\"text-align: right;\">\n",
       "      <th></th>\n",
       "      <th>user_id</th>\n",
       "      <th>group</th>\n",
       "      <th>ab_test</th>\n",
       "      <th>first_date</th>\n",
       "      <th>region</th>\n",
       "      <th>device</th>\n",
       "    </tr>\n",
       "  </thead>\n",
       "  <tbody>\n",
       "    <tr>\n",
       "      <th>0</th>\n",
       "      <td>D1ABA3E2887B6A73</td>\n",
       "      <td>A</td>\n",
       "      <td>recommender_system_test</td>\n",
       "      <td>2020-12-07</td>\n",
       "      <td>EU</td>\n",
       "      <td>PC</td>\n",
       "    </tr>\n",
       "    <tr>\n",
       "      <th>1</th>\n",
       "      <td>A7A3664BD6242119</td>\n",
       "      <td>A</td>\n",
       "      <td>recommender_system_test</td>\n",
       "      <td>2020-12-20</td>\n",
       "      <td>EU</td>\n",
       "      <td>iPhone</td>\n",
       "    </tr>\n",
       "    <tr>\n",
       "      <th>2</th>\n",
       "      <td>DABC14FDDFADD29E</td>\n",
       "      <td>A</td>\n",
       "      <td>recommender_system_test</td>\n",
       "      <td>2020-12-08</td>\n",
       "      <td>EU</td>\n",
       "      <td>Mac</td>\n",
       "    </tr>\n",
       "    <tr>\n",
       "      <th>3</th>\n",
       "      <td>04988C5DF189632E</td>\n",
       "      <td>A</td>\n",
       "      <td>recommender_system_test</td>\n",
       "      <td>2020-12-14</td>\n",
       "      <td>EU</td>\n",
       "      <td>iPhone</td>\n",
       "    </tr>\n",
       "    <tr>\n",
       "      <th>4</th>\n",
       "      <td>482F14783456D21B</td>\n",
       "      <td>B</td>\n",
       "      <td>recommender_system_test</td>\n",
       "      <td>2020-12-14</td>\n",
       "      <td>EU</td>\n",
       "      <td>PC</td>\n",
       "    </tr>\n",
       "  </tbody>\n",
       "</table>\n",
       "</div>"
      ],
      "text/plain": [
       "            user_id group                  ab_test first_date region  device\n",
       "0  D1ABA3E2887B6A73     A  recommender_system_test 2020-12-07     EU      PC\n",
       "1  A7A3664BD6242119     A  recommender_system_test 2020-12-20     EU  iPhone\n",
       "2  DABC14FDDFADD29E     A  recommender_system_test 2020-12-08     EU     Mac\n",
       "3  04988C5DF189632E     A  recommender_system_test 2020-12-14     EU  iPhone\n",
       "4  482F14783456D21B     B  recommender_system_test 2020-12-14     EU      PC"
      ]
     },
     "execution_count": 41,
     "metadata": {},
     "output_type": "execute_result"
    }
   ],
   "source": [
    "nu_rec_test = part_rec_test.merge(new_users, on='user_id', how='left')\n",
    "nu_rec_test.head()"
   ]
  },
  {
   "cell_type": "code",
   "execution_count": 42,
   "metadata": {},
   "outputs": [
    {
     "name": "stdout",
     "output_type": "stream",
     "text": [
      "Дата остановки набора новых пользователей: 2020-12-21 00:00:00\n"
     ]
    }
   ],
   "source": [
    "# Дата остановки набора новых пользователей:\n",
    "print('Дата остановки набора новых пользователей:', nu_rec_test.first_date.max())"
   ]
  },
  {
   "cell_type": "markdown",
   "metadata": {},
   "source": [
    "Дата остановки набора новых пользователей **соответствует ТЗ.**"
   ]
  },
  {
   "cell_type": "markdown",
   "metadata": {},
   "source": [
    "**Пункт 5. Дата остановки: 2021-01-04**\n",
    "\n",
    "Данные имеются в датасете ab_events в столбце date"
   ]
  },
  {
   "cell_type": "code",
   "execution_count": 43,
   "metadata": {},
   "outputs": [
    {
     "name": "stdout",
     "output_type": "stream",
     "text": [
      "Дата остановки теста: 2020-12-30 00:00:00\n"
     ]
    }
   ],
   "source": [
    "# Данные в датасете marketing_events в промежутке до:\n",
    "print('Дата остановки теста:', ab_events.date.max())"
   ]
  },
  {
   "cell_type": "markdown",
   "metadata": {},
   "source": [
    "Дата остановки теста **не соответствует ТЗ.**"
   ]
  },
  {
   "cell_type": "code",
   "execution_count": 44,
   "metadata": {},
   "outputs": [
    {
     "name": "stdout",
     "output_type": "stream",
     "text": [
      "Реальная продожительность A/B-теста: 23 days 00:00:00\n"
     ]
    }
   ],
   "source": [
    "real_duration = pd.Timedelta(ab_events.date.max() - ab_events.date.min())\n",
    "print('Реальная продожительность A/B-теста: {}'.format(real_duration))"
   ]
  },
  {
   "cell_type": "markdown",
   "metadata": {},
   "source": [
    "Длительность теста должна была составить 28 дней, и все участники теста должны были прожить минимум 14 дней с момента регистрации.\n",
    "\n",
    "Но так как тест остановили на 5 дней раньше, то это условие нарушено, и часть действий пользователей в горизонт анализа уже не попадёт."
   ]
  },
  {
   "cell_type": "markdown",
   "metadata": {},
   "source": [
    "**Пункты 6 и 8. Аудитория: 15% новых пользователей из региона EU. Ожидаемое количество участников теста: 6000**\n",
    "\n",
    "Т.е. новых участников (из датасета new_users) должно было 900 и более человек."
   ]
  },
  {
   "cell_type": "code",
   "execution_count": 45,
   "metadata": {},
   "outputs": [
    {
     "name": "stdout",
     "output_type": "stream",
     "text": [
      "Количество участников теста из ЕС: 6351\n"
     ]
    }
   ],
   "source": [
    "users_EU = (nu_rec_test.query('region == \"EU\"').user_id.count())\n",
    "\n",
    "print('Количество участников теста из ЕС: {}'.format(users_EU))"
   ]
  },
  {
   "cell_type": "code",
   "execution_count": 46,
   "metadata": {},
   "outputs": [
    {
     "name": "stdout",
     "output_type": "stream",
     "text": [
      "Участников A/B-теста из ЕС: 13.7%\n"
     ]
    }
   ],
   "source": [
    "print('Участников A/B-теста из ЕС: {:.1%}'.format(users_EU / new_users.query('region==\"EU\"').user_id.count()))"
   ]
  },
  {
   "cell_type": "markdown",
   "metadata": {},
   "source": [
    "* Ожидаемое количество участников теста **соответствует ТЗ.**\n",
    "* Процентное соотношение новых пользователей из EU **не соответствует ТЗ.**"
   ]
  },
  {
   "cell_type": "markdown",
   "metadata": {},
   "source": [
    "**Пункт 7. Назначение теста: тестирование изменений, связанных с внедрением улучшенной рекомендательной системы**\n",
    "Выше мы уже обнаружили, что в датасете ab_participants были представлены участники двух тестов.\n",
    "\n",
    "Мы уже выделили участников нашего теста recommender_system_test в part_rec_test и присоединили к получившемся датасету табличку new_users, назвав все это nu_rec_test.\n",
    "\n",
    "Теперь данные **соответствуют ТЗ.**"
   ]
  },
  {
   "cell_type": "code",
   "execution_count": 47,
   "metadata": {},
   "outputs": [
    {
     "data": {
      "text/html": [
       "<div>\n",
       "<style scoped>\n",
       "    .dataframe tbody tr th:only-of-type {\n",
       "        vertical-align: middle;\n",
       "    }\n",
       "\n",
       "    .dataframe tbody tr th {\n",
       "        vertical-align: top;\n",
       "    }\n",
       "\n",
       "    .dataframe thead th {\n",
       "        text-align: right;\n",
       "    }\n",
       "</style>\n",
       "<table border=\"1\" class=\"dataframe\">\n",
       "  <thead>\n",
       "    <tr style=\"text-align: right;\">\n",
       "      <th></th>\n",
       "      <th>user_id</th>\n",
       "      <th>group</th>\n",
       "      <th>ab_test</th>\n",
       "      <th>first_date</th>\n",
       "      <th>region</th>\n",
       "      <th>device</th>\n",
       "    </tr>\n",
       "  </thead>\n",
       "  <tbody>\n",
       "    <tr>\n",
       "      <th>0</th>\n",
       "      <td>D1ABA3E2887B6A73</td>\n",
       "      <td>A</td>\n",
       "      <td>recommender_system_test</td>\n",
       "      <td>2020-12-07</td>\n",
       "      <td>EU</td>\n",
       "      <td>PC</td>\n",
       "    </tr>\n",
       "    <tr>\n",
       "      <th>1</th>\n",
       "      <td>A7A3664BD6242119</td>\n",
       "      <td>A</td>\n",
       "      <td>recommender_system_test</td>\n",
       "      <td>2020-12-20</td>\n",
       "      <td>EU</td>\n",
       "      <td>iPhone</td>\n",
       "    </tr>\n",
       "    <tr>\n",
       "      <th>2</th>\n",
       "      <td>DABC14FDDFADD29E</td>\n",
       "      <td>A</td>\n",
       "      <td>recommender_system_test</td>\n",
       "      <td>2020-12-08</td>\n",
       "      <td>EU</td>\n",
       "      <td>Mac</td>\n",
       "    </tr>\n",
       "    <tr>\n",
       "      <th>3</th>\n",
       "      <td>04988C5DF189632E</td>\n",
       "      <td>A</td>\n",
       "      <td>recommender_system_test</td>\n",
       "      <td>2020-12-14</td>\n",
       "      <td>EU</td>\n",
       "      <td>iPhone</td>\n",
       "    </tr>\n",
       "    <tr>\n",
       "      <th>4</th>\n",
       "      <td>482F14783456D21B</td>\n",
       "      <td>B</td>\n",
       "      <td>recommender_system_test</td>\n",
       "      <td>2020-12-14</td>\n",
       "      <td>EU</td>\n",
       "      <td>PC</td>\n",
       "    </tr>\n",
       "    <tr>\n",
       "      <th>...</th>\n",
       "      <td>...</td>\n",
       "      <td>...</td>\n",
       "      <td>...</td>\n",
       "      <td>...</td>\n",
       "      <td>...</td>\n",
       "      <td>...</td>\n",
       "    </tr>\n",
       "    <tr>\n",
       "      <th>6696</th>\n",
       "      <td>053FB26D6D49EDDC</td>\n",
       "      <td>A</td>\n",
       "      <td>recommender_system_test</td>\n",
       "      <td>2020-12-10</td>\n",
       "      <td>N.America</td>\n",
       "      <td>Android</td>\n",
       "    </tr>\n",
       "    <tr>\n",
       "      <th>6697</th>\n",
       "      <td>9D263B8EF15CF188</td>\n",
       "      <td>B</td>\n",
       "      <td>recommender_system_test</td>\n",
       "      <td>2020-12-16</td>\n",
       "      <td>N.America</td>\n",
       "      <td>Mac</td>\n",
       "    </tr>\n",
       "    <tr>\n",
       "      <th>6698</th>\n",
       "      <td>F2FBBA33F37DEC46</td>\n",
       "      <td>A</td>\n",
       "      <td>recommender_system_test</td>\n",
       "      <td>2020-12-18</td>\n",
       "      <td>APAC</td>\n",
       "      <td>Mac</td>\n",
       "    </tr>\n",
       "    <tr>\n",
       "      <th>6699</th>\n",
       "      <td>29C92313A98B1176</td>\n",
       "      <td>B</td>\n",
       "      <td>recommender_system_test</td>\n",
       "      <td>2020-12-07</td>\n",
       "      <td>APAC</td>\n",
       "      <td>Android</td>\n",
       "    </tr>\n",
       "    <tr>\n",
       "      <th>6700</th>\n",
       "      <td>6715343AFBA285AE</td>\n",
       "      <td>B</td>\n",
       "      <td>recommender_system_test</td>\n",
       "      <td>2020-12-07</td>\n",
       "      <td>CIS</td>\n",
       "      <td>Android</td>\n",
       "    </tr>\n",
       "  </tbody>\n",
       "</table>\n",
       "<p>6701 rows × 6 columns</p>\n",
       "</div>"
      ],
      "text/plain": [
       "               user_id group                  ab_test first_date     region  \\\n",
       "0     D1ABA3E2887B6A73     A  recommender_system_test 2020-12-07         EU   \n",
       "1     A7A3664BD6242119     A  recommender_system_test 2020-12-20         EU   \n",
       "2     DABC14FDDFADD29E     A  recommender_system_test 2020-12-08         EU   \n",
       "3     04988C5DF189632E     A  recommender_system_test 2020-12-14         EU   \n",
       "4     482F14783456D21B     B  recommender_system_test 2020-12-14         EU   \n",
       "...                ...   ...                      ...        ...        ...   \n",
       "6696  053FB26D6D49EDDC     A  recommender_system_test 2020-12-10  N.America   \n",
       "6697  9D263B8EF15CF188     B  recommender_system_test 2020-12-16  N.America   \n",
       "6698  F2FBBA33F37DEC46     A  recommender_system_test 2020-12-18       APAC   \n",
       "6699  29C92313A98B1176     B  recommender_system_test 2020-12-07       APAC   \n",
       "6700  6715343AFBA285AE     B  recommender_system_test 2020-12-07        CIS   \n",
       "\n",
       "       device  \n",
       "0          PC  \n",
       "1      iPhone  \n",
       "2         Mac  \n",
       "3      iPhone  \n",
       "4          PC  \n",
       "...       ...  \n",
       "6696  Android  \n",
       "6697      Mac  \n",
       "6698      Mac  \n",
       "6699  Android  \n",
       "6700  Android  \n",
       "\n",
       "[6701 rows x 6 columns]"
      ]
     },
     "execution_count": 47,
     "metadata": {},
     "output_type": "execute_result"
    }
   ],
   "source": [
    "nu_rec_test"
   ]
  },
  {
   "cell_type": "markdown",
   "metadata": {},
   "source": [
    "### Время проведения теста. \n",
    "\n",
    "Результаты теста могли исказить активности не только в сам период теста (с 07.12.20 по 04.01.21), но и начавшиеся или закончившиеся чуть раньше или позже нашего теста, но частично совпавшие со временем его проведения. "
   ]
  },
  {
   "cell_type": "code",
   "execution_count": 48,
   "metadata": {},
   "outputs": [
    {
     "data": {
      "text/html": [
       "<div>\n",
       "<style scoped>\n",
       "    .dataframe tbody tr th:only-of-type {\n",
       "        vertical-align: middle;\n",
       "    }\n",
       "\n",
       "    .dataframe tbody tr th {\n",
       "        vertical-align: top;\n",
       "    }\n",
       "\n",
       "    .dataframe thead th {\n",
       "        text-align: right;\n",
       "    }\n",
       "</style>\n",
       "<table border=\"1\" class=\"dataframe\">\n",
       "  <thead>\n",
       "    <tr style=\"text-align: right;\">\n",
       "      <th></th>\n",
       "      <th>name</th>\n",
       "      <th>regions</th>\n",
       "      <th>start_dt</th>\n",
       "      <th>finish_dt</th>\n",
       "    </tr>\n",
       "  </thead>\n",
       "  <tbody>\n",
       "    <tr>\n",
       "      <th>0</th>\n",
       "      <td>Christmas&amp;New Year Promo</td>\n",
       "      <td>EU, N.America</td>\n",
       "      <td>2020-12-25</td>\n",
       "      <td>2021-01-03</td>\n",
       "    </tr>\n",
       "    <tr>\n",
       "      <th>10</th>\n",
       "      <td>CIS New Year Gift Lottery</td>\n",
       "      <td>CIS</td>\n",
       "      <td>2020-12-30</td>\n",
       "      <td>2021-01-07</td>\n",
       "    </tr>\n",
       "  </tbody>\n",
       "</table>\n",
       "</div>"
      ],
      "text/plain": [
       "                         name        regions   start_dt  finish_dt\n",
       "0    Christmas&New Year Promo  EU, N.America 2020-12-25 2021-01-03\n",
       "10  CIS New Year Gift Lottery            CIS 2020-12-30 2021-01-07"
      ]
     },
     "execution_count": 48,
     "metadata": {},
     "output_type": "execute_result"
    }
   ],
   "source": [
    "# Отберем в календаре маркетинговые события, хотя бы частично совпадающие по датам с тестом:\n",
    "marketing_events.query ('start_dt > \"2020-12-07\" or finish_dt > \"2020-12-07\"')"
   ]
  },
  {
   "cell_type": "markdown",
   "metadata": {},
   "source": [
    "Поскольку тест был развернут на аудиторию из ЕС (EU), нас интересует только 1 маркетинговая активность - Christmas&New Year Promo. \n",
    "\n",
    "Акция проходила с 25.12.20 по 03.01.21, а наш тест - с 07.12.20 по 04.01.21, т.е. акция могла повлиять на пользователей и исказить результаты теста."
   ]
  },
  {
   "cell_type": "markdown",
   "metadata": {},
   "source": [
    "### Аудитория теста. \n",
    "\n",
    "Необходимо уточнить количество пользователей, попавших сразу в оба теста: recommender_system_test и interface_eu_test.\n",
    "\n",
    "Также нужно узнать, как эти пользователи распределены между группами в нашем тесте (recommender_system_test)."
   ]
  },
  {
   "cell_type": "code",
   "execution_count": 49,
   "metadata": {},
   "outputs": [
    {
     "data": {
      "text/html": [
       "<div>\n",
       "<style scoped>\n",
       "    .dataframe tbody tr th:only-of-type {\n",
       "        vertical-align: middle;\n",
       "    }\n",
       "\n",
       "    .dataframe tbody tr th {\n",
       "        vertical-align: top;\n",
       "    }\n",
       "\n",
       "    .dataframe thead th {\n",
       "        text-align: right;\n",
       "    }\n",
       "</style>\n",
       "<table border=\"1\" class=\"dataframe\">\n",
       "  <thead>\n",
       "    <tr style=\"text-align: right;\">\n",
       "      <th></th>\n",
       "      <th>user_id</th>\n",
       "      <th>group</th>\n",
       "      <th>ab_test</th>\n",
       "    </tr>\n",
       "  </thead>\n",
       "  <tbody>\n",
       "    <tr>\n",
       "      <th>17892</th>\n",
       "      <td>001064FEAAB631A1</td>\n",
       "      <td>B</td>\n",
       "      <td>interface_eu_test</td>\n",
       "    </tr>\n",
       "    <tr>\n",
       "      <th>235</th>\n",
       "      <td>001064FEAAB631A1</td>\n",
       "      <td>B</td>\n",
       "      <td>recommender_system_test</td>\n",
       "    </tr>\n",
       "    <tr>\n",
       "      <th>16961</th>\n",
       "      <td>00341D8401F0F665</td>\n",
       "      <td>A</td>\n",
       "      <td>interface_eu_test</td>\n",
       "    </tr>\n",
       "    <tr>\n",
       "      <th>2137</th>\n",
       "      <td>00341D8401F0F665</td>\n",
       "      <td>A</td>\n",
       "      <td>recommender_system_test</td>\n",
       "    </tr>\n",
       "    <tr>\n",
       "      <th>8143</th>\n",
       "      <td>003B6786B4FF5B03</td>\n",
       "      <td>A</td>\n",
       "      <td>interface_eu_test</td>\n",
       "    </tr>\n",
       "    <tr>\n",
       "      <th>...</th>\n",
       "      <td>...</td>\n",
       "      <td>...</td>\n",
       "      <td>...</td>\n",
       "    </tr>\n",
       "    <tr>\n",
       "      <th>5213</th>\n",
       "      <td>FFC53FD45DDA5EE8</td>\n",
       "      <td>B</td>\n",
       "      <td>recommender_system_test</td>\n",
       "    </tr>\n",
       "    <tr>\n",
       "      <th>5667</th>\n",
       "      <td>FFED90241D04503F</td>\n",
       "      <td>B</td>\n",
       "      <td>recommender_system_test</td>\n",
       "    </tr>\n",
       "    <tr>\n",
       "      <th>14158</th>\n",
       "      <td>FFED90241D04503F</td>\n",
       "      <td>B</td>\n",
       "      <td>interface_eu_test</td>\n",
       "    </tr>\n",
       "    <tr>\n",
       "      <th>3448</th>\n",
       "      <td>FFF28D02B1EACBE1</td>\n",
       "      <td>B</td>\n",
       "      <td>recommender_system_test</td>\n",
       "    </tr>\n",
       "    <tr>\n",
       "      <th>7238</th>\n",
       "      <td>FFF28D02B1EACBE1</td>\n",
       "      <td>A</td>\n",
       "      <td>interface_eu_test</td>\n",
       "    </tr>\n",
       "  </tbody>\n",
       "</table>\n",
       "<p>3204 rows × 3 columns</p>\n",
       "</div>"
      ],
      "text/plain": [
       "                user_id group                  ab_test\n",
       "17892  001064FEAAB631A1     B        interface_eu_test\n",
       "235    001064FEAAB631A1     B  recommender_system_test\n",
       "16961  00341D8401F0F665     A        interface_eu_test\n",
       "2137   00341D8401F0F665     A  recommender_system_test\n",
       "8143   003B6786B4FF5B03     A        interface_eu_test\n",
       "...                 ...   ...                      ...\n",
       "5213   FFC53FD45DDA5EE8     B  recommender_system_test\n",
       "5667   FFED90241D04503F     B  recommender_system_test\n",
       "14158  FFED90241D04503F     B        interface_eu_test\n",
       "3448   FFF28D02B1EACBE1     B  recommender_system_test\n",
       "7238   FFF28D02B1EACBE1     A        interface_eu_test\n",
       "\n",
       "[3204 rows x 3 columns]"
      ]
     },
     "metadata": {},
     "output_type": "display_data"
    },
    {
     "name": "stdout",
     "output_type": "stream",
     "text": [
      "1602.0\n"
     ]
    }
   ],
   "source": [
    "# Найдем пользователей, попавших в оба теста:\n",
    "\n",
    "duplicates = ab_participants[ab_participants['user_id'].duplicated(keep=False)==True]\n",
    "duplicates = duplicates.sort_values(by='user_id', ascending=True)\n",
    "display(duplicates)\n",
    "print(len(duplicates)/2)"
   ]
  },
  {
   "cell_type": "markdown",
   "metadata": {},
   "source": [
    "Такие пользователи действительно есть. Судя по строкам, их 1602 человека.\n",
    "\n",
    "Проверим, как они распределены по группам нашего теста."
   ]
  },
  {
   "cell_type": "code",
   "execution_count": 50,
   "metadata": {},
   "outputs": [
    {
     "data": {
      "text/plain": [
       "A    921\n",
       "B    681\n",
       "Name: group, dtype: int64"
      ]
     },
     "execution_count": 50,
     "metadata": {},
     "output_type": "execute_result"
    }
   ],
   "source": [
    "duplicates[duplicates['ab_test']=='recommender_system_test']['group'].value_counts()"
   ]
  },
  {
   "cell_type": "markdown",
   "metadata": {},
   "source": [
    "Большая часть дублируемых пользователей приходится на группу А, но в группе В их тоже немало.\n",
    "Узнаем, какую долю от всех пользователей в каждой группе занимают дублируемые пользователи:"
   ]
  },
  {
   "cell_type": "code",
   "execution_count": 51,
   "metadata": {},
   "outputs": [
    {
     "data": {
      "text/plain": [
       "A    3824\n",
       "B    2877\n",
       "Name: group, dtype: int64"
      ]
     },
     "execution_count": 51,
     "metadata": {},
     "output_type": "execute_result"
    }
   ],
   "source": [
    "nu_rec_test.group.value_counts()"
   ]
  },
  {
   "cell_type": "code",
   "execution_count": 52,
   "metadata": {},
   "outputs": [
    {
     "name": "stdout",
     "output_type": "stream",
     "text": [
      "В группе А дублируемые пользователи составляют: 24.1%\n",
      "В группе B дублируемые пользователи составляют: 23.7%\n"
     ]
    }
   ],
   "source": [
    "dup_a = duplicates.query (\n",
    "    'ab_test == \"recommender_system_test\" & group == \"A\"')['user_id'].count() /  nu_rec_test[nu_rec_test['group']=='A']['user_id'].nunique() * 100\n",
    "dup_a = dup_a.round(1)  \n",
    "\n",
    "dup_b = duplicates.query (\n",
    "    'ab_test == \"recommender_system_test\" & group == \"B\"')['user_id'].count() / nu_rec_test[nu_rec_test['group']=='B']['user_id'].nunique() * 100\n",
    "\n",
    "dup_b = dup_b.round(1) \n",
    "    \n",
    "print ('В группе А дублируемые пользователи составляют: {}%'.format(dup_a))\n",
    "print ('В группе B дублируемые пользователи составляют: {}%'.format(dup_b))\n"
   ]
  },
  {
   "cell_type": "markdown",
   "metadata": {},
   "source": [
    "Итак, дублируемые пользователи распределены по А и В группам нашего теста примерно равномерно - это чуть меньше четверти всех пользователей.\n",
    "Конечно, в будущем следует избегать подобных пересечений тестов, особенно в период Рождества и Нового года, но в данном случае мы не можем выкинуть из нашего теста почти четверть исследуемых. \n",
    "\n",
    "Принято решение оставить как есть, уточнив у коллег из отдела маркетинга детали насчет второго теста. Возможно, его влияние не было столь сильным."
   ]
  },
  {
   "cell_type": "markdown",
   "metadata": {},
   "source": [
    "## Исследовательский анализ данных\n",
    "\n",
    "Перед началом исследования завершим объединение нужных нам данных из трех датасетов.\n",
    "\n",
    "Ранее мы уже объединили ab_participants, которые участвовали в recommender_system_test, вместе с датасетом new_users, и получился nu_rec_test.\n",
    "\n",
    "Теперь объединим nu_rec_test с ab_events."
   ]
  },
  {
   "cell_type": "code",
   "execution_count": 53,
   "metadata": {
    "scrolled": true
   },
   "outputs": [
    {
     "data": {
      "text/html": [
       "<div>\n",
       "<style scoped>\n",
       "    .dataframe tbody tr th:only-of-type {\n",
       "        vertical-align: middle;\n",
       "    }\n",
       "\n",
       "    .dataframe tbody tr th {\n",
       "        vertical-align: top;\n",
       "    }\n",
       "\n",
       "    .dataframe thead th {\n",
       "        text-align: right;\n",
       "    }\n",
       "</style>\n",
       "<table border=\"1\" class=\"dataframe\">\n",
       "  <thead>\n",
       "    <tr style=\"text-align: right;\">\n",
       "      <th></th>\n",
       "      <th>user_id</th>\n",
       "      <th>group</th>\n",
       "      <th>ab_test</th>\n",
       "      <th>first_date</th>\n",
       "      <th>region</th>\n",
       "      <th>device</th>\n",
       "      <th>event_dt</th>\n",
       "      <th>event_name</th>\n",
       "      <th>details</th>\n",
       "      <th>date</th>\n",
       "    </tr>\n",
       "  </thead>\n",
       "  <tbody>\n",
       "    <tr>\n",
       "      <th>0</th>\n",
       "      <td>D1ABA3E2887B6A73</td>\n",
       "      <td>A</td>\n",
       "      <td>recommender_system_test</td>\n",
       "      <td>2020-12-07</td>\n",
       "      <td>EU</td>\n",
       "      <td>PC</td>\n",
       "      <td>2020-12-07 14:43:27</td>\n",
       "      <td>purchase</td>\n",
       "      <td>99.99</td>\n",
       "      <td>2020-12-07</td>\n",
       "    </tr>\n",
       "    <tr>\n",
       "      <th>1</th>\n",
       "      <td>D1ABA3E2887B6A73</td>\n",
       "      <td>A</td>\n",
       "      <td>recommender_system_test</td>\n",
       "      <td>2020-12-07</td>\n",
       "      <td>EU</td>\n",
       "      <td>PC</td>\n",
       "      <td>2020-12-25 00:04:56</td>\n",
       "      <td>purchase</td>\n",
       "      <td>4.99</td>\n",
       "      <td>2020-12-25</td>\n",
       "    </tr>\n",
       "    <tr>\n",
       "      <th>2</th>\n",
       "      <td>D1ABA3E2887B6A73</td>\n",
       "      <td>A</td>\n",
       "      <td>recommender_system_test</td>\n",
       "      <td>2020-12-07</td>\n",
       "      <td>EU</td>\n",
       "      <td>PC</td>\n",
       "      <td>2020-12-07 14:43:29</td>\n",
       "      <td>product_cart</td>\n",
       "      <td>NaN</td>\n",
       "      <td>2020-12-07</td>\n",
       "    </tr>\n",
       "    <tr>\n",
       "      <th>3</th>\n",
       "      <td>D1ABA3E2887B6A73</td>\n",
       "      <td>A</td>\n",
       "      <td>recommender_system_test</td>\n",
       "      <td>2020-12-07</td>\n",
       "      <td>EU</td>\n",
       "      <td>PC</td>\n",
       "      <td>2020-12-25 00:04:57</td>\n",
       "      <td>product_cart</td>\n",
       "      <td>NaN</td>\n",
       "      <td>2020-12-25</td>\n",
       "    </tr>\n",
       "    <tr>\n",
       "      <th>4</th>\n",
       "      <td>D1ABA3E2887B6A73</td>\n",
       "      <td>A</td>\n",
       "      <td>recommender_system_test</td>\n",
       "      <td>2020-12-07</td>\n",
       "      <td>EU</td>\n",
       "      <td>PC</td>\n",
       "      <td>2020-12-07 14:43:27</td>\n",
       "      <td>product_page</td>\n",
       "      <td>NaN</td>\n",
       "      <td>2020-12-07</td>\n",
       "    </tr>\n",
       "  </tbody>\n",
       "</table>\n",
       "</div>"
      ],
      "text/plain": [
       "            user_id group                  ab_test first_date region device  \\\n",
       "0  D1ABA3E2887B6A73     A  recommender_system_test 2020-12-07     EU     PC   \n",
       "1  D1ABA3E2887B6A73     A  recommender_system_test 2020-12-07     EU     PC   \n",
       "2  D1ABA3E2887B6A73     A  recommender_system_test 2020-12-07     EU     PC   \n",
       "3  D1ABA3E2887B6A73     A  recommender_system_test 2020-12-07     EU     PC   \n",
       "4  D1ABA3E2887B6A73     A  recommender_system_test 2020-12-07     EU     PC   \n",
       "\n",
       "              event_dt    event_name  details       date  \n",
       "0  2020-12-07 14:43:27      purchase    99.99 2020-12-07  \n",
       "1  2020-12-25 00:04:56      purchase     4.99 2020-12-25  \n",
       "2  2020-12-07 14:43:29  product_cart      NaN 2020-12-07  \n",
       "3  2020-12-25 00:04:57  product_cart      NaN 2020-12-25  \n",
       "4  2020-12-07 14:43:27  product_page      NaN 2020-12-07  "
      ]
     },
     "execution_count": 53,
     "metadata": {},
     "output_type": "execute_result"
    }
   ],
   "source": [
    "# data - полный датасет для исследования, только с участниками целевого теста:\n",
    "data = (nu_rec_test.merge(ab_events, on='user_id', how='left'))\n",
    "data.head()"
   ]
  },
  {
   "cell_type": "code",
   "execution_count": 54,
   "metadata": {},
   "outputs": [
    {
     "data": {
      "text/plain": [
       "0"
      ]
     },
     "execution_count": 54,
     "metadata": {},
     "output_type": "execute_result"
    }
   ],
   "source": [
    "# На всякий случай проверим количество дубликатов:\n",
    "data.duplicated().sum()"
   ]
  },
  {
   "cell_type": "code",
   "execution_count": 55,
   "metadata": {},
   "outputs": [
    {
     "name": "stdout",
     "output_type": "stream",
     "text": [
      "<class 'pandas.core.frame.DataFrame'>\n",
      "Int64Index: 27724 entries, 0 to 27723\n",
      "Data columns (total 10 columns):\n",
      " #   Column      Non-Null Count  Dtype         \n",
      "---  ------      --------------  -----         \n",
      " 0   user_id     27724 non-null  object        \n",
      " 1   group       27724 non-null  object        \n",
      " 2   ab_test     27724 non-null  object        \n",
      " 3   first_date  27724 non-null  datetime64[ns]\n",
      " 4   region      27724 non-null  object        \n",
      " 5   device      27724 non-null  object        \n",
      " 6   event_dt    24698 non-null  object        \n",
      " 7   event_name  24698 non-null  object        \n",
      " 8   details     3331 non-null   float64       \n",
      " 9   date        24698 non-null  datetime64[ns]\n",
      "dtypes: datetime64[ns](2), float64(1), object(7)\n",
      "memory usage: 2.3+ MB\n"
     ]
    }
   ],
   "source": [
    "# Проверим количество строк и типы данных:\n",
    "data.info()"
   ]
  },
  {
   "cell_type": "markdown",
   "metadata": {},
   "source": [
    "В сводном датасете появились пропуски в столбцах event_dt, event_name, date. \n",
    "\n",
    "Пропуски в details уже были прежде.\n",
    "\n",
    "Отобразим строки с пропусками в event_dt и event_name, чтобы лучше понять их происхождение."
   ]
  },
  {
   "cell_type": "code",
   "execution_count": 56,
   "metadata": {
    "scrolled": true
   },
   "outputs": [
    {
     "data": {
      "text/html": [
       "<div>\n",
       "<style scoped>\n",
       "    .dataframe tbody tr th:only-of-type {\n",
       "        vertical-align: middle;\n",
       "    }\n",
       "\n",
       "    .dataframe tbody tr th {\n",
       "        vertical-align: top;\n",
       "    }\n",
       "\n",
       "    .dataframe thead th {\n",
       "        text-align: right;\n",
       "    }\n",
       "</style>\n",
       "<table border=\"1\" class=\"dataframe\">\n",
       "  <thead>\n",
       "    <tr style=\"text-align: right;\">\n",
       "      <th></th>\n",
       "      <th>user_id</th>\n",
       "      <th>group</th>\n",
       "      <th>ab_test</th>\n",
       "      <th>first_date</th>\n",
       "      <th>region</th>\n",
       "      <th>device</th>\n",
       "      <th>event_dt</th>\n",
       "      <th>event_name</th>\n",
       "      <th>details</th>\n",
       "      <th>date</th>\n",
       "    </tr>\n",
       "  </thead>\n",
       "  <tbody>\n",
       "    <tr>\n",
       "      <th>24080</th>\n",
       "      <td>000ABE35EE11412F</td>\n",
       "      <td>A</td>\n",
       "      <td>recommender_system_test</td>\n",
       "      <td>2020-12-08</td>\n",
       "      <td>EU</td>\n",
       "      <td>PC</td>\n",
       "      <td>NaN</td>\n",
       "      <td>NaN</td>\n",
       "      <td>NaN</td>\n",
       "      <td>NaT</td>\n",
       "    </tr>\n",
       "    <tr>\n",
       "      <th>3101</th>\n",
       "      <td>001C05E87D336C59</td>\n",
       "      <td>A</td>\n",
       "      <td>recommender_system_test</td>\n",
       "      <td>2020-12-10</td>\n",
       "      <td>EU</td>\n",
       "      <td>iPhone</td>\n",
       "      <td>NaN</td>\n",
       "      <td>NaN</td>\n",
       "      <td>NaN</td>\n",
       "      <td>NaT</td>\n",
       "    </tr>\n",
       "    <tr>\n",
       "      <th>13055</th>\n",
       "      <td>003B6786B4FF5B03</td>\n",
       "      <td>A</td>\n",
       "      <td>recommender_system_test</td>\n",
       "      <td>2020-12-13</td>\n",
       "      <td>EU</td>\n",
       "      <td>Android</td>\n",
       "      <td>NaN</td>\n",
       "      <td>NaN</td>\n",
       "      <td>NaN</td>\n",
       "      <td>NaT</td>\n",
       "    </tr>\n",
       "    <tr>\n",
       "      <th>20732</th>\n",
       "      <td>006D4BE0C4EA616F</td>\n",
       "      <td>B</td>\n",
       "      <td>recommender_system_test</td>\n",
       "      <td>2020-12-10</td>\n",
       "      <td>EU</td>\n",
       "      <td>PC</td>\n",
       "      <td>NaN</td>\n",
       "      <td>NaN</td>\n",
       "      <td>NaN</td>\n",
       "      <td>NaT</td>\n",
       "    </tr>\n",
       "    <tr>\n",
       "      <th>25572</th>\n",
       "      <td>007B7DE3A2E44050</td>\n",
       "      <td>B</td>\n",
       "      <td>recommender_system_test</td>\n",
       "      <td>2020-12-21</td>\n",
       "      <td>EU</td>\n",
       "      <td>iPhone</td>\n",
       "      <td>NaN</td>\n",
       "      <td>NaN</td>\n",
       "      <td>NaN</td>\n",
       "      <td>NaT</td>\n",
       "    </tr>\n",
       "    <tr>\n",
       "      <th>...</th>\n",
       "      <td>...</td>\n",
       "      <td>...</td>\n",
       "      <td>...</td>\n",
       "      <td>...</td>\n",
       "      <td>...</td>\n",
       "      <td>...</td>\n",
       "      <td>...</td>\n",
       "      <td>...</td>\n",
       "      <td>...</td>\n",
       "      <td>...</td>\n",
       "    </tr>\n",
       "    <tr>\n",
       "      <th>2805</th>\n",
       "      <td>FFB3F647898BA928</td>\n",
       "      <td>B</td>\n",
       "      <td>recommender_system_test</td>\n",
       "      <td>2020-12-13</td>\n",
       "      <td>EU</td>\n",
       "      <td>PC</td>\n",
       "      <td>NaN</td>\n",
       "      <td>NaN</td>\n",
       "      <td>NaN</td>\n",
       "      <td>NaT</td>\n",
       "    </tr>\n",
       "    <tr>\n",
       "      <th>3955</th>\n",
       "      <td>FFC2C5F898D1245B</td>\n",
       "      <td>B</td>\n",
       "      <td>recommender_system_test</td>\n",
       "      <td>2020-12-10</td>\n",
       "      <td>EU</td>\n",
       "      <td>Android</td>\n",
       "      <td>NaN</td>\n",
       "      <td>NaN</td>\n",
       "      <td>NaN</td>\n",
       "      <td>NaT</td>\n",
       "    </tr>\n",
       "    <tr>\n",
       "      <th>21769</th>\n",
       "      <td>FFC53FD45DDA5EE8</td>\n",
       "      <td>B</td>\n",
       "      <td>recommender_system_test</td>\n",
       "      <td>2020-12-19</td>\n",
       "      <td>EU</td>\n",
       "      <td>iPhone</td>\n",
       "      <td>NaN</td>\n",
       "      <td>NaN</td>\n",
       "      <td>NaN</td>\n",
       "      <td>NaT</td>\n",
       "    </tr>\n",
       "    <tr>\n",
       "      <th>17185</th>\n",
       "      <td>FFE858A7845F005E</td>\n",
       "      <td>A</td>\n",
       "      <td>recommender_system_test</td>\n",
       "      <td>2020-12-08</td>\n",
       "      <td>EU</td>\n",
       "      <td>PC</td>\n",
       "      <td>NaN</td>\n",
       "      <td>NaN</td>\n",
       "      <td>NaN</td>\n",
       "      <td>NaT</td>\n",
       "    </tr>\n",
       "    <tr>\n",
       "      <th>23661</th>\n",
       "      <td>FFED90241D04503F</td>\n",
       "      <td>B</td>\n",
       "      <td>recommender_system_test</td>\n",
       "      <td>2020-12-08</td>\n",
       "      <td>EU</td>\n",
       "      <td>Android</td>\n",
       "      <td>NaN</td>\n",
       "      <td>NaN</td>\n",
       "      <td>NaN</td>\n",
       "      <td>NaT</td>\n",
       "    </tr>\n",
       "  </tbody>\n",
       "</table>\n",
       "<p>3026 rows × 10 columns</p>\n",
       "</div>"
      ],
      "text/plain": [
       "                user_id group                  ab_test first_date region  \\\n",
       "24080  000ABE35EE11412F     A  recommender_system_test 2020-12-08     EU   \n",
       "3101   001C05E87D336C59     A  recommender_system_test 2020-12-10     EU   \n",
       "13055  003B6786B4FF5B03     A  recommender_system_test 2020-12-13     EU   \n",
       "20732  006D4BE0C4EA616F     B  recommender_system_test 2020-12-10     EU   \n",
       "25572  007B7DE3A2E44050     B  recommender_system_test 2020-12-21     EU   \n",
       "...                 ...   ...                      ...        ...    ...   \n",
       "2805   FFB3F647898BA928     B  recommender_system_test 2020-12-13     EU   \n",
       "3955   FFC2C5F898D1245B     B  recommender_system_test 2020-12-10     EU   \n",
       "21769  FFC53FD45DDA5EE8     B  recommender_system_test 2020-12-19     EU   \n",
       "17185  FFE858A7845F005E     A  recommender_system_test 2020-12-08     EU   \n",
       "23661  FFED90241D04503F     B  recommender_system_test 2020-12-08     EU   \n",
       "\n",
       "        device event_dt event_name  details date  \n",
       "24080       PC      NaN        NaN      NaN  NaT  \n",
       "3101    iPhone      NaN        NaN      NaN  NaT  \n",
       "13055  Android      NaN        NaN      NaN  NaT  \n",
       "20732       PC      NaN        NaN      NaN  NaT  \n",
       "25572   iPhone      NaN        NaN      NaN  NaT  \n",
       "...        ...      ...        ...      ...  ...  \n",
       "2805        PC      NaN        NaN      NaN  NaT  \n",
       "3955   Android      NaN        NaN      NaN  NaT  \n",
       "21769   iPhone      NaN        NaN      NaN  NaT  \n",
       "17185       PC      NaN        NaN      NaN  NaT  \n",
       "23661  Android      NaN        NaN      NaN  NaT  \n",
       "\n",
       "[3026 rows x 10 columns]"
      ]
     },
     "execution_count": 56,
     "metadata": {},
     "output_type": "execute_result"
    }
   ],
   "source": [
    "losses = data.query('event_dt.isna() & event_name.isna()').sort_values(by='user_id', ascending=True)\n",
    "losses"
   ]
  },
  {
   "cell_type": "code",
   "execution_count": 57,
   "metadata": {},
   "outputs": [
    {
     "data": {
      "text/plain": [
       "6701"
      ]
     },
     "execution_count": 57,
     "metadata": {},
     "output_type": "execute_result"
    }
   ],
   "source": [
    "#Всего уникальных пользователей в нашем сводном датасете data:\n",
    "users_in_data = len(data.user_id.unique())     \n",
    "users_in_data"
   ]
  },
  {
   "cell_type": "code",
   "execution_count": 58,
   "metadata": {
    "scrolled": true
   },
   "outputs": [
    {
     "name": "stdout",
     "output_type": "stream",
     "text": [
      "Уникальных пользователей в пропусках: 3026\n",
      "Доля от всех пользователей сводного датасета data: 45.2\n"
     ]
    }
   ],
   "source": [
    "#Уникальных пользователей с пропущенными значениями в losses из data:\n",
    "users_in_losses = len(losses.user_id.unique())    \n",
    "share = round(((users_in_losses / users_in_data)*100),1)\n",
    "\n",
    "print(\"Уникальных пользователей в пропусках: {}\".format(users_in_losses))\n",
    "print(\"Доля от всех пользователей сводного датасета data: {}\".format(share))"
   ]
  },
  {
   "cell_type": "markdown",
   "metadata": {},
   "source": [
    "**Комментарий:** <br>\n",
    "Пользователи в пропусках (losses) не повторяются.\n",
    "Можем предположить, что данные пользователи зарегистрировались, попали в наш тест, но никаких действий за время его проведения не совершили, поэтому и нет информации в столбцах event_dt и event_name. \n",
    "\n",
    "И таких неактивных пользователей - 3026 из 6701 или 45,2%.\n",
    "Для удобства выделим их в табличку inactive и изучим внимательнее:"
   ]
  },
  {
   "cell_type": "code",
   "execution_count": 59,
   "metadata": {},
   "outputs": [
    {
     "data": {
      "text/plain": [
       "B    1949\n",
       "A    1077\n",
       "Name: group, dtype: int64"
      ]
     },
     "execution_count": 59,
     "metadata": {},
     "output_type": "execute_result"
    }
   ],
   "source": [
    "inactive = data.query('event_dt.isna() & event_name.isna()')\n",
    "inactive.group.value_counts()"
   ]
  },
  {
   "cell_type": "markdown",
   "metadata": {},
   "source": [
    "В группе B неактивных пользователей почти в 2 раза больше, чем в группе А. \n",
    "\n",
    "Для наглядности построим график динамики неактивных пользователей в каждой группе по дням:"
   ]
  },
  {
   "cell_type": "code",
   "execution_count": 60,
   "metadata": {},
   "outputs": [
    {
     "data": {
      "image/png": "[encoded data removed]",
      "text/plain": [
       "<Figure size 1400x700 with 1 Axes>"
      ]
     },
     "metadata": {},
     "output_type": "display_data"
    }
   ],
   "source": [
    "plt.figure(figsize=(14,7))\n",
    "inactive_by_day = (inactive.groupby(['first_date', 'group']).agg({'user_id': 'count'}).reset_index())\n",
    "with sns.color_palette(\"tab10\"):\n",
    "    sns.lineplot(data=inactive_by_day, y='user_id', x='first_date', hue ='group')\n",
    "plt.title('Динамика прироста неактивных пользователей в рамках А/В теста')\n",
    "plt.xlabel('Дни')\n",
    "plt.ylabel('Количество пользователей')\n",
    "plt.show()"
   ]
  },
  {
   "cell_type": "markdown",
   "metadata": {},
   "source": [
    "Комментарий:\n",
    "Само по себе наличие неактивных пользователей абсолютно естественно. Смутила именно большая разница между группами А и В. \n",
    "\n",
    "График подтверждает аномалию и демонстрирует, как с 07.12.20 по 12.12.20 динамика прироста неактивных пользователей двух групп была более-менее равномерной.\n",
    "\n",
    "13.12. что-то приозошло, и в группе А перестали появляться неактивные пользователи, в то время как в группе В их приток продолжался.\n",
    "\n",
    "Можем предположить, что причина носит технический характер - либо часть данных при выгрузке была утеряна, либо у всех пользователей из обеих групп были некие трудности с регистрацией или дальнейшим отображением сайта, но 13.12 для группы А эти проблемы решили, а для группы В - нет.\n",
    "\n",
    "В любом случае, учитывая явную аномалию данной ситуации, нам **необходимо исключить неактивных пользователей из датасета data** во избежание искажения результатов теста:"
   ]
  },
  {
   "cell_type": "code",
   "execution_count": 61,
   "metadata": {},
   "outputs": [
    {
     "name": "stdout",
     "output_type": "stream",
     "text": [
      "<class 'pandas.core.frame.DataFrame'>\n",
      "Int64Index: 24698 entries, 0 to 27723\n",
      "Data columns (total 10 columns):\n",
      " #   Column      Non-Null Count  Dtype         \n",
      "---  ------      --------------  -----         \n",
      " 0   user_id     24698 non-null  object        \n",
      " 1   group       24698 non-null  object        \n",
      " 2   ab_test     24698 non-null  object        \n",
      " 3   first_date  24698 non-null  datetime64[ns]\n",
      " 4   region      24698 non-null  object        \n",
      " 5   device      24698 non-null  object        \n",
      " 6   event_dt    24698 non-null  object        \n",
      " 7   event_name  24698 non-null  object        \n",
      " 8   details     3331 non-null   float64       \n",
      " 9   date        24698 non-null  datetime64[ns]\n",
      "dtypes: datetime64[ns](2), float64(1), object(7)\n",
      "memory usage: 2.1+ MB\n"
     ]
    }
   ],
   "source": [
    "#Исключаем неактивных пользователей из теста во избежание его искажения:\n",
    "inactive_filter = inactive.user_id.to_list()\n",
    "data = data.query('not user_id in @inactive_filter')\n",
    "data.info()"
   ]
  },
  {
   "cell_type": "markdown",
   "metadata": {},
   "source": [
    "Итак, мы избавились от пропусков во всех столбцах кроме известного нам details. <br>\n",
    "Теперь количество строк - 24 698. <br>\n",
    "Можно приступать к исследованию. <br>"
   ]
  },
  {
   "cell_type": "markdown",
   "metadata": {},
   "source": [
    "### Количество событий на пользователя одинаково распределены в выборках?"
   ]
  },
  {
   "cell_type": "code",
   "execution_count": 62,
   "metadata": {
    "scrolled": false
   },
   "outputs": [
    {
     "data": {
      "image/png": "[encoded data removed]",
      "text/plain": [
       "<Figure size 1400x800 with 1 Axes>"
      ]
     },
     "metadata": {},
     "output_type": "display_data"
    }
   ],
   "source": [
    "# Отобразим распределение события по пользователям с учетом групп А и В:\n",
    "plot_data_user = data.groupby(['group', 'user_id']).agg({'event_name': 'count'}).reset_index()\n",
    "\n",
    "with sns.color_palette(\"icefire\"):\n",
    "    plot = sns.displot(plot_data_user, x='event_name', hue='group', kde=True)\n",
    "plt.title('Гистограмма количества событий на пользователя')\n",
    "plt.xlabel('Количество событий')\n",
    "plt.ylabel('Количество пользователей')\n",
    "plot.fig.set_figwidth(14)\n",
    "plot.fig.set_figheight(8)\n",
    "plt.show()"
   ]
  },
  {
   "cell_type": "code",
   "execution_count": 63,
   "metadata": {},
   "outputs": [
    {
     "data": {
      "image/png": "[encoded data removed]",
      "text/plain": [
       "<Figure size 800x800 with 1 Axes>"
      ]
     },
     "metadata": {},
     "output_type": "display_data"
    }
   ],
   "source": [
    "plt.figure(figsize=(8,8))\n",
    "sns.boxplot(x='group', y='event_name', data=plot_data_user, palette='tab20', linewidth=2.5)\n",
    "plt.title('Диаграмма размаха количества событий на пользователя')\n",
    "plt.xlabel('Группы')\n",
    "plt.ylabel('Количество событий')\n",
    "plt.show()"
   ]
  },
  {
   "cell_type": "code",
   "execution_count": 64,
   "metadata": {},
   "outputs": [
    {
     "name": "stdout",
     "output_type": "stream",
     "text": [
      "Для всех участников теста количество событий min: 1, std: 3.8, mean: 6.72, median: 6.0, sum: 28.\n"
     ]
    }
   ],
   "source": [
    "min_b = plot_data_user['event_name'].min()\n",
    "std_b = round(plot_data_user['event_name'].std(), 1)\n",
    "mean_b = round(plot_data_user['event_name'].mean(), 2)\n",
    "median_b = plot_data_user['event_name'].median()\n",
    "max_b = plot_data_user['event_name'].max()\n",
    "\n",
    "print('Для всех участников теста количество событий min: {}, std: {}, mean: {}, median: {}, sum: {}.'.format(min_b, std_b, mean_b, median_b, max_b))"
   ]
  },
  {
   "cell_type": "code",
   "execution_count": 65,
   "metadata": {},
   "outputs": [
    {
     "data": {
      "text/plain": [
       "A    19304\n",
       "B     5394\n",
       "Name: group, dtype: int64"
      ]
     },
     "execution_count": 65,
     "metadata": {},
     "output_type": "execute_result"
    }
   ],
   "source": [
    "data.group.value_counts()"
   ]
  },
  {
   "cell_type": "markdown",
   "metadata": {},
   "source": [
    "**Комментарий:**\n",
    "* В группе А больше всего пользователей совершает 6 событий.\n",
    "* В группе В пользователи совершают чаще всего или 4, или 6 событий.\n",
    "* Среднее арифметическо количество событий по обеим группам - 6,72, а медиана - 6.\n",
    "* Активность в группе В в целом ниже, чем в группе А. Скорее всего, из-за того, что группа В меньше по количеству.\n",
    "* В обеих группах есть аномально высокая активность у части пользователей - 15 событий на пользователя и больше. Особенно в группе В, как это демонстрирует диаграмма размаха."
   ]
  },
  {
   "cell_type": "markdown",
   "metadata": {},
   "source": [
    "### Как число событий в выборках распределено по дням?"
   ]
  },
  {
   "cell_type": "code",
   "execution_count": 66,
   "metadata": {
    "scrolled": false
   },
   "outputs": [
    {
     "data": {
      "text/html": [
       "<div>\n",
       "<style scoped>\n",
       "    .dataframe tbody tr th:only-of-type {\n",
       "        vertical-align: middle;\n",
       "    }\n",
       "\n",
       "    .dataframe tbody tr th {\n",
       "        vertical-align: top;\n",
       "    }\n",
       "\n",
       "    .dataframe thead th {\n",
       "        text-align: right;\n",
       "    }\n",
       "</style>\n",
       "<table border=\"1\" class=\"dataframe\">\n",
       "  <thead>\n",
       "    <tr style=\"text-align: right;\">\n",
       "      <th></th>\n",
       "      <th>group</th>\n",
       "      <th>event_dt</th>\n",
       "      <th>event_name</th>\n",
       "    </tr>\n",
       "  </thead>\n",
       "  <tbody>\n",
       "    <tr>\n",
       "      <th>0</th>\n",
       "      <td>A</td>\n",
       "      <td>2020-12-07 00:14:01</td>\n",
       "      <td>2</td>\n",
       "    </tr>\n",
       "    <tr>\n",
       "      <th>1</th>\n",
       "      <td>A</td>\n",
       "      <td>2020-12-07 00:16:00</td>\n",
       "      <td>3</td>\n",
       "    </tr>\n",
       "    <tr>\n",
       "      <th>2</th>\n",
       "      <td>A</td>\n",
       "      <td>2020-12-07 00:31:08</td>\n",
       "      <td>2</td>\n",
       "    </tr>\n",
       "    <tr>\n",
       "      <th>3</th>\n",
       "      <td>A</td>\n",
       "      <td>2020-12-07 00:35:15</td>\n",
       "      <td>2</td>\n",
       "    </tr>\n",
       "    <tr>\n",
       "      <th>4</th>\n",
       "      <td>A</td>\n",
       "      <td>2020-12-07 00:39:13</td>\n",
       "      <td>1</td>\n",
       "    </tr>\n",
       "    <tr>\n",
       "      <th>...</th>\n",
       "      <td>...</td>\n",
       "      <td>...</td>\n",
       "      <td>...</td>\n",
       "    </tr>\n",
       "    <tr>\n",
       "      <th>16542</th>\n",
       "      <td>B</td>\n",
       "      <td>2020-12-29 23:24:34</td>\n",
       "      <td>1</td>\n",
       "    </tr>\n",
       "    <tr>\n",
       "      <th>16543</th>\n",
       "      <td>B</td>\n",
       "      <td>2020-12-29 23:27:00</td>\n",
       "      <td>1</td>\n",
       "    </tr>\n",
       "    <tr>\n",
       "      <th>16544</th>\n",
       "      <td>B</td>\n",
       "      <td>2020-12-30 06:42:52</td>\n",
       "      <td>2</td>\n",
       "    </tr>\n",
       "    <tr>\n",
       "      <th>16545</th>\n",
       "      <td>B</td>\n",
       "      <td>2020-12-30 12:42:56</td>\n",
       "      <td>1</td>\n",
       "    </tr>\n",
       "    <tr>\n",
       "      <th>16546</th>\n",
       "      <td>B</td>\n",
       "      <td>2020-12-30 12:42:57</td>\n",
       "      <td>1</td>\n",
       "    </tr>\n",
       "  </tbody>\n",
       "</table>\n",
       "<p>16547 rows × 3 columns</p>\n",
       "</div>"
      ],
      "text/plain": [
       "      group             event_dt  event_name\n",
       "0         A  2020-12-07 00:14:01           2\n",
       "1         A  2020-12-07 00:16:00           3\n",
       "2         A  2020-12-07 00:31:08           2\n",
       "3         A  2020-12-07 00:35:15           2\n",
       "4         A  2020-12-07 00:39:13           1\n",
       "...     ...                  ...         ...\n",
       "16542     B  2020-12-29 23:24:34           1\n",
       "16543     B  2020-12-29 23:27:00           1\n",
       "16544     B  2020-12-30 06:42:52           2\n",
       "16545     B  2020-12-30 12:42:56           1\n",
       "16546     B  2020-12-30 12:42:57           1\n",
       "\n",
       "[16547 rows x 3 columns]"
      ]
     },
     "execution_count": 66,
     "metadata": {},
     "output_type": "execute_result"
    }
   ],
   "source": [
    "#Сначала сгруппируем данные для гистограммы по группам и дням:\n",
    "plot_data_day = data.groupby(['group', 'event_dt']).agg({'event_name': 'count'}).reset_index()\n",
    "plot_data_day"
   ]
  },
  {
   "cell_type": "code",
   "execution_count": 81,
   "metadata": {},
   "outputs": [
    {
     "data": {
      "image/png": "[encoded data removed]"
     },
     "metadata": {},
     "output_type": "display_data"
    }
   ],
   "source": [
    "# Строим гистограмму:\n",
    "fig = px.histogram(plot_data_day, x='event_dt', y='event_name', color=\"group\", color_discrete_map = {0:'#abd0de',1:'#ed6c34'}, opacity=0.5, \n",
    "                   width=1000, height=600, title=\"Распределение количества событий по дням\", barmode='overlay')\n",
    "fig.update_layout(xaxis_title='Дни',\n",
    "                   yaxis_title='Количество событий') \n",
    "pio.show(fig, renderer='png', width=900, scale=1.2)"
   ]
  },
  {
   "cell_type": "markdown",
   "metadata": {},
   "source": [
    "**Комментарии:**\n",
    "* В группе А наблюдается резкий рост активности с 14 декабря.\n",
    "* Пик активности группы А пришелся на 20-21 декабря.\n",
    "* Активность группы В более-менее равномерна на протяжении всего теста.\n",
    "* В целом активность группы В существенно ниже группы А.\n",
    "\n",
    "Можно было бы сказать, что причина резкого скачка активности - в рождественском ажиотажном спросе, но тогда выросли бы показатели и группы В. \n",
    "\n",
    "Для поиска причины такого роста взглянем на динамику регистрации новых пользователей в группах.\n",
    "Возможно, в группе А вдруг оказалось много новых и активных пользователей."
   ]
  },
  {
   "cell_type": "code",
   "execution_count": 68,
   "metadata": {},
   "outputs": [
    {
     "data": {
      "text/html": [
       "<div>\n",
       "<style scoped>\n",
       "    .dataframe tbody tr th:only-of-type {\n",
       "        vertical-align: middle;\n",
       "    }\n",
       "\n",
       "    .dataframe tbody tr th {\n",
       "        vertical-align: top;\n",
       "    }\n",
       "\n",
       "    .dataframe thead th {\n",
       "        text-align: right;\n",
       "    }\n",
       "</style>\n",
       "<table border=\"1\" class=\"dataframe\">\n",
       "  <thead>\n",
       "    <tr style=\"text-align: right;\">\n",
       "      <th></th>\n",
       "      <th>group</th>\n",
       "      <th>first_date</th>\n",
       "      <th>user_id</th>\n",
       "    </tr>\n",
       "  </thead>\n",
       "  <tbody>\n",
       "    <tr>\n",
       "      <th>0</th>\n",
       "      <td>A</td>\n",
       "      <td>2020-12-07</td>\n",
       "      <td>163</td>\n",
       "    </tr>\n",
       "    <tr>\n",
       "      <th>1</th>\n",
       "      <td>A</td>\n",
       "      <td>2020-12-08</td>\n",
       "      <td>98</td>\n",
       "    </tr>\n",
       "    <tr>\n",
       "      <th>2</th>\n",
       "      <td>A</td>\n",
       "      <td>2020-12-09</td>\n",
       "      <td>82</td>\n",
       "    </tr>\n",
       "    <tr>\n",
       "      <th>3</th>\n",
       "      <td>A</td>\n",
       "      <td>2020-12-10</td>\n",
       "      <td>66</td>\n",
       "    </tr>\n",
       "    <tr>\n",
       "      <th>4</th>\n",
       "      <td>A</td>\n",
       "      <td>2020-12-11</td>\n",
       "      <td>92</td>\n",
       "    </tr>\n",
       "  </tbody>\n",
       "</table>\n",
       "</div>"
      ],
      "text/plain": [
       "  group   first_date  user_id\n",
       "0     A  2020-12-07       163\n",
       "1     A  2020-12-08        98\n",
       "2     A  2020-12-09        82\n",
       "3     A  2020-12-10        66\n",
       "4     A  2020-12-11        92"
      ]
     },
     "execution_count": 68,
     "metadata": {},
     "output_type": "execute_result"
    }
   ],
   "source": [
    "#Собираем табличку для новой гистограммы - с новыми пользователями и их регистрациями по дням:\n",
    "plot_data_new_users = data.groupby(['group', 'first_date']).agg({'user_id': 'nunique'}).reset_index()\n",
    "plot_data_new_users['first_date'] = plot_data_new_users['first_date'].astype(object)\n",
    "plot_data_new_users['first_date'] = plot_data_new_users['first_date'].astype(str).str[:-8].astype(object)\n",
    "plot_data_new_users.head()"
   ]
  },
  {
   "cell_type": "code",
   "execution_count": 69,
   "metadata": {
    "scrolled": false
   },
   "outputs": [
    {
     "data": {
      "image/png": "[encoded data removed]",
      "text/plain": [
       "<Figure size 1800x700 with 1 Axes>"
      ]
     },
     "metadata": {},
     "output_type": "display_data"
    }
   ],
   "source": [
    "import matplotlib.dates as mdates\n",
    "\n",
    "#Строим гистограмму с динамикой регистрации новых пользователей по дням:\n",
    "plt.figure(figsize=(18,7))\n",
    "sns.barplot(data=plot_data_new_users, x='first_date', y='user_id', hue='group', ci=None)\n",
    "plt.title('Динамика регистраций пользователей')\n",
    "plt.xlabel(\"Дни\", size = 11)\n",
    "plt.xticks(rotation=45)\n",
    "plt.ylabel(\"Количество зарегистрированных пользователей\", size = 11)\n",
    "plt.show()"
   ]
  },
  {
   "cell_type": "markdown",
   "metadata": {},
   "source": [
    "**Комментарий:**\n",
    "* Всплеск активности группы А с 14 декабря объясняется таким же резким скачком регистраций новых пользователей в этой группе, начиная с 14 декабря и далее.\n",
    "* Похоже, снова была допущена техническая ошибка при делении пользователей на группы для А/В-теста, которая явно повлияет на его результаты. К сожалению, исправить эту ошибку сейчас уже невозможно."
   ]
  },
  {
   "cell_type": "markdown",
   "metadata": {},
   "source": [
    "### Как меняется конверсия в воронке в выборках на разных этапах?\n",
    "\n",
    "Рассмотрим события не только по группам А и В, но и по этапам воронки, которую сейчас построим, исходя из полученных выше данных.\n",
    "\n",
    "**Наша воронка продаж состоит из 4 этапов:**\n",
    "\n",
    "1. `login` - авторизация пользователя\n",
    "2. `product_page` - просмотр карточки товара\n",
    "3. `product_cart` - просмотр корзины\n",
    "4. `purchase` - покупка."
   ]
  },
  {
   "cell_type": "code",
   "execution_count": 70,
   "metadata": {},
   "outputs": [
    {
     "data": {
      "text/html": [
       "<div>\n",
       "<style scoped>\n",
       "    .dataframe tbody tr th:only-of-type {\n",
       "        vertical-align: middle;\n",
       "    }\n",
       "\n",
       "    .dataframe tbody tr th {\n",
       "        vertical-align: top;\n",
       "    }\n",
       "\n",
       "    .dataframe thead th {\n",
       "        text-align: right;\n",
       "    }\n",
       "</style>\n",
       "<table border=\"1\" class=\"dataframe\">\n",
       "  <thead>\n",
       "    <tr style=\"text-align: right;\">\n",
       "      <th></th>\n",
       "      <th>user_id</th>\n",
       "      <th>group</th>\n",
       "      <th>ab_test</th>\n",
       "      <th>first_date</th>\n",
       "      <th>region</th>\n",
       "      <th>device</th>\n",
       "      <th>event_dt</th>\n",
       "      <th>event_name</th>\n",
       "      <th>details</th>\n",
       "      <th>date</th>\n",
       "      <th>days</th>\n",
       "    </tr>\n",
       "  </thead>\n",
       "  <tbody>\n",
       "    <tr>\n",
       "      <th>12383</th>\n",
       "      <td>10863662C3B5AB49</td>\n",
       "      <td>B</td>\n",
       "      <td>recommender_system_test</td>\n",
       "      <td>2020-12-09</td>\n",
       "      <td>EU</td>\n",
       "      <td>Android</td>\n",
       "      <td>2020-12-23</td>\n",
       "      <td>product_page</td>\n",
       "      <td>NaN</td>\n",
       "      <td>2020-12-23</td>\n",
       "      <td>14 days</td>\n",
       "    </tr>\n",
       "    <tr>\n",
       "      <th>11261</th>\n",
       "      <td>AF34780719AA1BA3</td>\n",
       "      <td>B</td>\n",
       "      <td>recommender_system_test</td>\n",
       "      <td>2020-12-12</td>\n",
       "      <td>EU</td>\n",
       "      <td>PC</td>\n",
       "      <td>2020-12-26</td>\n",
       "      <td>product_page</td>\n",
       "      <td>NaN</td>\n",
       "      <td>2020-12-26</td>\n",
       "      <td>14 days</td>\n",
       "    </tr>\n",
       "    <tr>\n",
       "      <th>18956</th>\n",
       "      <td>75062DC10C9CC2A3</td>\n",
       "      <td>A</td>\n",
       "      <td>recommender_system_test</td>\n",
       "      <td>2020-12-15</td>\n",
       "      <td>EU</td>\n",
       "      <td>PC</td>\n",
       "      <td>2020-12-29</td>\n",
       "      <td>login</td>\n",
       "      <td>NaN</td>\n",
       "      <td>2020-12-29</td>\n",
       "      <td>14 days</td>\n",
       "    </tr>\n",
       "    <tr>\n",
       "      <th>18954</th>\n",
       "      <td>75062DC10C9CC2A3</td>\n",
       "      <td>A</td>\n",
       "      <td>recommender_system_test</td>\n",
       "      <td>2020-12-15</td>\n",
       "      <td>EU</td>\n",
       "      <td>PC</td>\n",
       "      <td>2020-12-29</td>\n",
       "      <td>product_page</td>\n",
       "      <td>NaN</td>\n",
       "      <td>2020-12-29</td>\n",
       "      <td>14 days</td>\n",
       "    </tr>\n",
       "    <tr>\n",
       "      <th>4286</th>\n",
       "      <td>9D7F535B9A8DE4F0</td>\n",
       "      <td>B</td>\n",
       "      <td>recommender_system_test</td>\n",
       "      <td>2020-12-09</td>\n",
       "      <td>EU</td>\n",
       "      <td>Android</td>\n",
       "      <td>2020-12-23</td>\n",
       "      <td>login</td>\n",
       "      <td>NaN</td>\n",
       "      <td>2020-12-23</td>\n",
       "      <td>14 days</td>\n",
       "    </tr>\n",
       "  </tbody>\n",
       "</table>\n",
       "</div>"
      ],
      "text/plain": [
       "                user_id group                  ab_test first_date region  \\\n",
       "12383  10863662C3B5AB49     B  recommender_system_test 2020-12-09     EU   \n",
       "11261  AF34780719AA1BA3     B  recommender_system_test 2020-12-12     EU   \n",
       "18956  75062DC10C9CC2A3     A  recommender_system_test 2020-12-15     EU   \n",
       "18954  75062DC10C9CC2A3     A  recommender_system_test 2020-12-15     EU   \n",
       "4286   9D7F535B9A8DE4F0     B  recommender_system_test 2020-12-09     EU   \n",
       "\n",
       "        device   event_dt    event_name  details       date    days  \n",
       "12383  Android 2020-12-23  product_page      NaN 2020-12-23 14 days  \n",
       "11261       PC 2020-12-26  product_page      NaN 2020-12-26 14 days  \n",
       "18956       PC 2020-12-29         login      NaN 2020-12-29 14 days  \n",
       "18954       PC 2020-12-29  product_page      NaN 2020-12-29 14 days  \n",
       "4286   Android 2020-12-23         login      NaN 2020-12-23 14 days  "
      ]
     },
     "execution_count": 70,
     "metadata": {},
     "output_type": "execute_result"
    }
   ],
   "source": [
    "# Добавим в таблицу столбец с информацией о количестве дней с момента регистрации:\n",
    "data['event_dt'] = pd.to_datetime(data['event_dt']).dt.normalize()\n",
    "data['first_date'] = pd.to_datetime(data['first_date']).dt.normalize()\n",
    "\n",
    "data['days'] = data['event_dt'] - data['first_date']\n",
    "data = data.sort_values(by='days', ascending=False)\n",
    "\n",
    "# Сохраним в датасете только те события, которые произошли в течение 14 дней с момента регистрации пользователя:\n",
    "data = data[data['days']<='14 days']\n",
    "data.head()"
   ]
  },
  {
   "cell_type": "code",
   "execution_count": 71,
   "metadata": {},
   "outputs": [
    {
     "data": {
      "text/html": [
       "<div>\n",
       "<style scoped>\n",
       "    .dataframe tbody tr th:only-of-type {\n",
       "        vertical-align: middle;\n",
       "    }\n",
       "\n",
       "    .dataframe tbody tr th {\n",
       "        vertical-align: top;\n",
       "    }\n",
       "\n",
       "    .dataframe thead th {\n",
       "        text-align: right;\n",
       "    }\n",
       "</style>\n",
       "<table border=\"1\" class=\"dataframe\">\n",
       "  <thead>\n",
       "    <tr style=\"text-align: right;\">\n",
       "      <th></th>\n",
       "      <th>user_id</th>\n",
       "    </tr>\n",
       "    <tr>\n",
       "      <th>event_name</th>\n",
       "      <th></th>\n",
       "    </tr>\n",
       "  </thead>\n",
       "  <tbody>\n",
       "    <tr>\n",
       "      <th>login</th>\n",
       "      <td>2747</td>\n",
       "    </tr>\n",
       "    <tr>\n",
       "      <th>product_page</th>\n",
       "      <td>1780</td>\n",
       "    </tr>\n",
       "    <tr>\n",
       "      <th>purchase</th>\n",
       "      <td>872</td>\n",
       "    </tr>\n",
       "    <tr>\n",
       "      <th>product_cart</th>\n",
       "      <td>824</td>\n",
       "    </tr>\n",
       "  </tbody>\n",
       "</table>\n",
       "</div>"
      ],
      "text/plain": [
       "              user_id\n",
       "event_name           \n",
       "login            2747\n",
       "product_page     1780\n",
       "purchase          872\n",
       "product_cart      824"
      ]
     },
     "execution_count": 71,
     "metadata": {},
     "output_type": "execute_result"
    }
   ],
   "source": [
    "# Начнем строить таблицу-воронку для группы А:\n",
    "funnel_A = (data.query('group == \"A\"').groupby('event_name')\n",
    "            .agg({'user_id': 'nunique'}).sort_values(by='user_id', ascending=False))\n",
    "\n",
    "funnel_A"
   ]
  },
  {
   "cell_type": "code",
   "execution_count": 72,
   "metadata": {},
   "outputs": [
    {
     "data": {
      "text/html": [
       "<div>\n",
       "<style scoped>\n",
       "    .dataframe tbody tr th:only-of-type {\n",
       "        vertical-align: middle;\n",
       "    }\n",
       "\n",
       "    .dataframe tbody tr th {\n",
       "        vertical-align: top;\n",
       "    }\n",
       "\n",
       "    .dataframe thead th {\n",
       "        text-align: right;\n",
       "    }\n",
       "</style>\n",
       "<table border=\"1\" class=\"dataframe\">\n",
       "  <thead>\n",
       "    <tr style=\"text-align: right;\">\n",
       "      <th></th>\n",
       "      <th>user_id</th>\n",
       "    </tr>\n",
       "    <tr>\n",
       "      <th>event_name</th>\n",
       "      <th></th>\n",
       "    </tr>\n",
       "  </thead>\n",
       "  <tbody>\n",
       "    <tr>\n",
       "      <th>login</th>\n",
       "      <td>927</td>\n",
       "    </tr>\n",
       "    <tr>\n",
       "      <th>product_page</th>\n",
       "      <td>523</td>\n",
       "    </tr>\n",
       "    <tr>\n",
       "      <th>purchase</th>\n",
       "      <td>256</td>\n",
       "    </tr>\n",
       "    <tr>\n",
       "      <th>product_cart</th>\n",
       "      <td>255</td>\n",
       "    </tr>\n",
       "  </tbody>\n",
       "</table>\n",
       "</div>"
      ],
      "text/plain": [
       "              user_id\n",
       "event_name           \n",
       "login             927\n",
       "product_page      523\n",
       "purchase          256\n",
       "product_cart      255"
      ]
     },
     "execution_count": 72,
     "metadata": {},
     "output_type": "execute_result"
    }
   ],
   "source": [
    "# Начнем строить таблицу-воронку для группы B:\n",
    "funnel_B = (data.query('group == \"B\"').groupby('event_name')\n",
    "            .agg({'user_id': 'nunique'}).sort_values(by='user_id', ascending=False))\n",
    "\n",
    "funnel_B"
   ]
  },
  {
   "cell_type": "markdown",
   "metadata": {},
   "source": [
    "**Комментарий:** <br>\n",
    "Во двум воронкам видно, что некоторые оформляют покупку непосредственно со страницы продукта, не заходя корзину. <br>\n",
    "Поэтому на шаге purchase пользователей больше, чем в product_cart. <br>\n",
    "Отсортируем по порядку:<br>"
   ]
  },
  {
   "cell_type": "code",
   "execution_count": 73,
   "metadata": {},
   "outputs": [
    {
     "data": {
      "text/html": [
       "<div>\n",
       "<style scoped>\n",
       "    .dataframe tbody tr th:only-of-type {\n",
       "        vertical-align: middle;\n",
       "    }\n",
       "\n",
       "    .dataframe tbody tr th {\n",
       "        vertical-align: top;\n",
       "    }\n",
       "\n",
       "    .dataframe thead th {\n",
       "        text-align: right;\n",
       "    }\n",
       "</style>\n",
       "<table border=\"1\" class=\"dataframe\">\n",
       "  <thead>\n",
       "    <tr style=\"text-align: right;\">\n",
       "      <th></th>\n",
       "      <th>user_id</th>\n",
       "    </tr>\n",
       "    <tr>\n",
       "      <th>event_name</th>\n",
       "      <th></th>\n",
       "    </tr>\n",
       "  </thead>\n",
       "  <tbody>\n",
       "    <tr>\n",
       "      <th>login</th>\n",
       "      <td>2747</td>\n",
       "    </tr>\n",
       "    <tr>\n",
       "      <th>product_page</th>\n",
       "      <td>1780</td>\n",
       "    </tr>\n",
       "    <tr>\n",
       "      <th>product_cart</th>\n",
       "      <td>824</td>\n",
       "    </tr>\n",
       "    <tr>\n",
       "      <th>purchase</th>\n",
       "      <td>872</td>\n",
       "    </tr>\n",
       "  </tbody>\n",
       "</table>\n",
       "</div>"
      ],
      "text/plain": [
       "              user_id\n",
       "event_name           \n",
       "login            2747\n",
       "product_page     1780\n",
       "product_cart      824\n",
       "purchase          872"
      ]
     },
     "metadata": {},
     "output_type": "display_data"
    },
    {
     "data": {
      "text/html": [
       "<div>\n",
       "<style scoped>\n",
       "    .dataframe tbody tr th:only-of-type {\n",
       "        vertical-align: middle;\n",
       "    }\n",
       "\n",
       "    .dataframe tbody tr th {\n",
       "        vertical-align: top;\n",
       "    }\n",
       "\n",
       "    .dataframe thead th {\n",
       "        text-align: right;\n",
       "    }\n",
       "</style>\n",
       "<table border=\"1\" class=\"dataframe\">\n",
       "  <thead>\n",
       "    <tr style=\"text-align: right;\">\n",
       "      <th></th>\n",
       "      <th>user_id</th>\n",
       "    </tr>\n",
       "    <tr>\n",
       "      <th>event_name</th>\n",
       "      <th></th>\n",
       "    </tr>\n",
       "  </thead>\n",
       "  <tbody>\n",
       "    <tr>\n",
       "      <th>login</th>\n",
       "      <td>927</td>\n",
       "    </tr>\n",
       "    <tr>\n",
       "      <th>product_page</th>\n",
       "      <td>523</td>\n",
       "    </tr>\n",
       "    <tr>\n",
       "      <th>product_cart</th>\n",
       "      <td>255</td>\n",
       "    </tr>\n",
       "    <tr>\n",
       "      <th>purchase</th>\n",
       "      <td>256</td>\n",
       "    </tr>\n",
       "  </tbody>\n",
       "</table>\n",
       "</div>"
      ],
      "text/plain": [
       "              user_id\n",
       "event_name           \n",
       "login             927\n",
       "product_page      523\n",
       "product_cart      255\n",
       "purchase          256"
      ]
     },
     "metadata": {},
     "output_type": "display_data"
    }
   ],
   "source": [
    "funnel_A = funnel_A.reindex(['login', 'product_page', 'product_cart', 'purchase'])\n",
    "funnel_B = funnel_B.reindex(['login', 'product_page', 'product_cart', 'purchase'])\n",
    "display(funnel_A)\n",
    "display(funnel_B)"
   ]
  },
  {
   "cell_type": "code",
   "execution_count": 82,
   "metadata": {},
   "outputs": [
    {
     "data": {
      "image/png": "[encoded data removed]"
     },
     "metadata": {},
     "output_type": "display_data"
    }
   ],
   "source": [
    "# Построим воронку продаж с разбивкой по группам А и В и отображением в % перехода с этапа на этап:\n",
    "fig = go.Figure()\n",
    "\n",
    "fig.add_trace(go.Funnel(\n",
    "    name = 'Группа А',\n",
    "    y = funnel_A.index,\n",
    "    x = funnel_A.user_id.values,\n",
    "    textinfo = \"value+percent initial\"))\n",
    "\n",
    "fig.add_trace(go.Funnel(\n",
    "    name = 'Группа B',\n",
    "    orientation = \"h\",\n",
    "    y = funnel_B.index,\n",
    "    x = funnel_B.user_id.values,\n",
    "    textposition = \"inside\",\n",
    "    textinfo = \"value+percent initial\"))\n",
    "\n",
    "fig.update_layout(title_text='Воронка с разбивкой по группам А и В переходом пользователей от события к событию', title_x=0.5)\n",
    "pio.show(fig, renderer='png', width=900, scale=1.2)"
   ]
  },
  {
   "cell_type": "markdown",
   "metadata": {},
   "source": [
    "**Вывод:**<br>\n",
    "* Из 100% зарегистрировавшихся пользователей до покупки доходят 32% в группе А и 28% в группу В.\n",
    "* Самые большие потери на двух этапах:\n",
    "    * от этапа регистрации до карточки товара (login -> product_page) мы теряем 35% из группы А и 44% из группы В. \n",
    "    * от карточки товара до перехода в корзину (product_page -> product_cart) мы теряем еще 35% из группы А и 29% из группы В.\n",
    "* Зато успешную покупку совершают чуть больше, чем переходящие в корзину.\n",
    "* Тем не менее, результаты у воронки группы В даже хуже, чем у группы А, хотя предполагался иной исход.\n",
    "\n",
    "**Согласно ТЗ**, за 14 дней с момента регистрации в системе пользователи должны были показать улучшение каждой метрики не менее, чем на 10%:\n",
    "product_page, product_cart, purchase.\n",
    "\n",
    "**Согласно воронке** product_page упала на 9% - с 65 до 56 (между группами), product cart - на 3%, а purchase - на 4%."
   ]
  },
  {
   "cell_type": "markdown",
   "metadata": {},
   "source": [
    "### Особенности данных, оказывающие влияние на А/В-тестирование\n",
    "\n",
    "Прежде чем провести анализ А/В-теста, повторим найденные особенности данных, оказывающие влияние на результат:"
   ]
  },
  {
   "cell_type": "markdown",
   "metadata": {},
   "source": [
    "**1. Неравномерная выборка в группы А и В.**\n",
    "\n",
    "Изначально в участниках теста оказалось 6701 чел.  <br>\n",
    "Из них в группе А - 3824 чел., в группе В - 2877 чел.  <br>\n",
    "То есть группа А больше группы В на 947 человек.  <br>\n",
    "\n",
    "Далее было обнаружено 3026 неактивных пользователей. Из них 1077 из группы А и 1949 из группы В.  <br>\n",
    "В силу технических причин с 13 декабря в группе А перестали появляться неактивные пользователи, в то время как в группе В их приток продолжался. <br> <br>\n",
    "Нам пришлось исключить неактивных пользователей из датасета data во избежание искажения результатов теста, и перекос в сторону увеличения группы А по сравнению с группой В, к сожалению, усилился.\n",
    "\n",
    "\n",
    "**2. Укороченная длительность теста.**  \n",
    "\n",
    "Длительность теста должна была составить 28 дней, и все участники теста должны были *прожить* минимум 14 дней с момента регистрации.\n",
    "Но так как тест остановили на 5 дней раньше, то это условие оказалось нарушено.\n",
    "\n",
    "**3. Риск влияния маркетинговых кампаний**\n",
    "\n",
    "Тест совпал по времени с рождественской и новогодней активностью - Christmas&New Year Promo с 25.12.20 по 03.01.21. А тест проходил с 07.12.20 по 30.12.20 (по факту). Акция могла повлиять на пользователей и исказить результаты теста.  <br>\n",
    "\n",
    "**4. Пересекающиеся пользователи из другого теста** \n",
    "\n",
    "1602 человека попали сразу в оба теста: recommender_system_test и interface_eu_test.\n",
    "В группе А дублируемые пользователи составили 24.1% от всей группы (921 из 3824), в группе B - 23.7% от всей группы (681 из 2877).\n",
    "Дублируемых в двух тестах пользователей удалять не стали, оставили как есть.\n",
    "\n",
    "**5. Резкий скачок активности в группе А в середине теста**\n",
    "\n",
    "Резкий скачок активности в группе А с 14 декабря связан с не менее аномальным ростом регистрации новых пользователей.\n",
    "К сожалению, узнать причины этого явления с текущими данными нельзя.\n",
    "\n",
    "Резюмируя: ожидаемый в ТЗ результат - увеличение конверсии на всех событиях не менее, чем на 10% - маловероятен."
   ]
  },
  {
   "cell_type": "markdown",
   "metadata": {},
   "source": [
    "## Результаты A/B-теста\n",
    "\n",
    "Проверим гипотезы о равенстве долей при помощи z-теста.\n",
    "Посчитаем доли пользователей, совершивших то или иное событие от числа пользователей на шаге входа на сайт (login), и проверим статистическую значимость отличий.\n",
    "\n",
    "Установим нулевую и альтернативную гипотезы:\n",
    "\n",
    "Н0 - Нет различий между группами А и B.\n",
    "\n",
    "Н1 - Есть различия между группами А и B. \n",
    "\n",
    "Напишем функцию для отрисовки таблицы с результатами теста."
   ]
  },
  {
   "cell_type": "markdown",
   "metadata": {},
   "source": [
    "### Результаты A/B-тестирования, проверка статистической разницы долей z-критерием\n"
   ]
  },
  {
   "cell_type": "code",
   "execution_count": 75,
   "metadata": {
    "scrolled": true
   },
   "outputs": [
    {
     "data": {
      "text/html": [
       "<div>\n",
       "<style scoped>\n",
       "    .dataframe tbody tr th:only-of-type {\n",
       "        vertical-align: middle;\n",
       "    }\n",
       "\n",
       "    .dataframe tbody tr th {\n",
       "        vertical-align: top;\n",
       "    }\n",
       "\n",
       "    .dataframe thead th {\n",
       "        text-align: right;\n",
       "    }\n",
       "</style>\n",
       "<table border=\"1\" class=\"dataframe\">\n",
       "  <thead>\n",
       "    <tr style=\"text-align: right;\">\n",
       "      <th>group</th>\n",
       "      <th>A</th>\n",
       "      <th>B</th>\n",
       "    </tr>\n",
       "    <tr>\n",
       "      <th>event_name</th>\n",
       "      <th></th>\n",
       "      <th></th>\n",
       "    </tr>\n",
       "  </thead>\n",
       "  <tbody>\n",
       "    <tr>\n",
       "      <th>login</th>\n",
       "      <td>2747</td>\n",
       "      <td>927</td>\n",
       "    </tr>\n",
       "    <tr>\n",
       "      <th>product_cart</th>\n",
       "      <td>824</td>\n",
       "      <td>255</td>\n",
       "    </tr>\n",
       "    <tr>\n",
       "      <th>product_page</th>\n",
       "      <td>1780</td>\n",
       "      <td>523</td>\n",
       "    </tr>\n",
       "    <tr>\n",
       "      <th>purchase</th>\n",
       "      <td>872</td>\n",
       "      <td>256</td>\n",
       "    </tr>\n",
       "  </tbody>\n",
       "</table>\n",
       "</div>"
      ],
      "text/plain": [
       "group            A    B\n",
       "event_name             \n",
       "login         2747  927\n",
       "product_cart   824  255\n",
       "product_page  1780  523\n",
       "purchase       872  256"
      ]
     },
     "execution_count": 75,
     "metadata": {},
     "output_type": "execute_result"
    }
   ],
   "source": [
    "# Готовим данные для теста:\n",
    "ab_test_result = data.pivot_table(index='event_name', values='user_id', columns='group', aggfunc='nunique')                                    \n",
    "ab_test_result"
   ]
  },
  {
   "cell_type": "code",
   "execution_count": 84,
   "metadata": {},
   "outputs": [],
   "source": [
    "# Пишем функцию для расчета конверсии\n",
    "def conversion (group1, event1, group2, event2):\n",
    "\n",
    "    # уровень альфа:\n",
    "    alpha = 0.05/3\n",
    "\n",
    "    # считаем количество человек на каждом из двух шагов для первой группы:\n",
    "    first_group1 = ab_test_result.query ('event_name==@event1')[group1][0]\n",
    "    second_group1 = ab_test_result.query ('event_name==@event2')[group1][0]\n",
    "    \n",
    "    # считаем количество человек на каждом из двух шагов для второй группы:\n",
    "    first_group2 = ab_test_result.query ('event_name==@event1')[group2][0]\n",
    "    second_group2 = ab_test_result.query ('event_name==@event2')[group2][0]\n",
    "    \n",
    "    #  соотношение доли к общему в первой группе:\n",
    "    conversion_first = second_group1 / first_group1\n",
    "    print ('Конверсия для группы', group1, ':', conversion_first)\n",
    "    \n",
    "    #соотношение доли к общему во второй группе:\n",
    "    conversion_second = second_group2 / first_group2\n",
    "    print ('Конверсия для группы', group2, ':', conversion_second)\n",
    "\n",
    "    # соотношение доли к общему в сумме:\n",
    "    c_combined = (second_group1+second_group2)/(first_group1+first_group2)\n",
    "\n",
    "    # разница соотношений:\n",
    "    difference = conversion_first - conversion_second\n",
    "\n",
    "    # z-критерий:\n",
    "    z_value = difference / mth.sqrt(c_combined * (1 - c_combined) * (1/first_group1 + 1/first_group2))\n",
    "    \n",
    "    #распределение\n",
    "    distr = st.norm(0, 1)  \n",
    "\n",
    "    p_value = (1 - distr.cdf(abs(z_value))) * 2\n",
    "    print('p-value: ', p_value)\n",
    "\n",
    "    if p_value < alpha:\n",
    "        print('Ho отвергаем. Между группами есть статзначимая разница.')\n",
    "    else:\n",
    "        print(\n",
    "        'Не получилось отвергнуть Ho, между группами нет статзначимой разницы.') "
   ]
  },
  {
   "cell_type": "markdown",
   "metadata": {},
   "source": [
    "#### Конверсия в просмотр карточки товара (login -> product_page)\n",
    "\n",
    "Cформулируем гипотезы:\n",
    "\n",
    "**Нулевая гипотеза Ho:** различий в конверсии в просмотр карточки товара между группами А и В нет. <br>\n",
    "**Альтернативная гипотеза H1:** различия между группами А и В есть."
   ]
  },
  {
   "cell_type": "code",
   "execution_count": 77,
   "metadata": {},
   "outputs": [
    {
     "name": "stdout",
     "output_type": "stream",
     "text": [
      "Конверсия для группы A : 0.6479796141244994\n",
      "Конверсия для группы B : 0.564185544768069\n",
      "p-value:  5.084368080776613e-06\n",
      "Ho отвергаем. Между группами есть статзначимая разница.\n"
     ]
    }
   ],
   "source": [
    "# Вызываем функцию conversion для расчета конверсии и уровня статразницы между первым и вторым этапами:\n",
    "conversion ('A', 'login', 'B', 'product_page')"
   ]
  },
  {
   "cell_type": "markdown",
   "metadata": {},
   "source": [
    "#### Конверсия в просмотр корзины (product_page -> product_cart)\n",
    "\n",
    "Cформулируем гипотезы:\n",
    "\n",
    "**Нулевая гипотеза Ho:** различий в конверсии в просмотр корзины между группами А и В нет. <br>\n",
    "**Альтернативная гипотеза H1:** различия между группами А и В есть."
   ]
  },
  {
   "cell_type": "code",
   "execution_count": 78,
   "metadata": {},
   "outputs": [
    {
     "name": "stdout",
     "output_type": "stream",
     "text": [
      "Конверсия для группы A : 0.46292134831460674\n",
      "Конверсия для группы B : 0.4875717017208413\n",
      "p-value:  0.32062049601759046\n",
      "Не получилось отвергнуть Ho, между группами нет статзначимой разницы.\n"
     ]
    }
   ],
   "source": [
    "# Вызываем функцию conversion для расчета конверсии и уровня статразницы между вторым и третьим этапами:\n",
    "conversion ('A', 'product_page', 'B', 'product_cart')"
   ]
  },
  {
   "cell_type": "markdown",
   "metadata": {},
   "source": [
    "#### Конверсия в покупку (product_page -> purchase)\n",
    "\n",
    "Мы выбрали такой путь, так как в нашем случае многие клиенты покупают напрямую из карточки товара.\n",
    "\n",
    "Cформулируем гипотезы:\n",
    "\n",
    "**Нулевая гипотеза Ho:** различий в конверсии в покупку между группами А и В нет. <br>\n",
    "**Альтернативная гипотеза H1:** различия между группами А и В есть."
   ]
  },
  {
   "cell_type": "code",
   "execution_count": 79,
   "metadata": {},
   "outputs": [
    {
     "name": "stdout",
     "output_type": "stream",
     "text": [
      "Конверсия для группы A : 0.4898876404494382\n",
      "Конверсия для группы B : 0.4894837476099426\n",
      "p-value:  0.9870395092337259\n",
      "Не получилось отвергнуть Ho, между группами нет статзначимой разницы.\n"
     ]
    }
   ],
   "source": [
    "# Вызываем функцию conversion для расчета конверсии и уровня статразницы между вторым и четвертым этапами:\n",
    "conversion ('A', 'product_page', 'B', 'purchase')"
   ]
  },
  {
   "cell_type": "markdown",
   "metadata": {},
   "source": [
    "**Резюме:** существенная разница в конверсиях наблюдается только для этапа из login -> product_page, а на остальных этапах между конверсиями в группах А и В нет различий."
   ]
  },
  {
   "cell_type": "markdown",
   "metadata": {},
   "source": [
    "## Выводы и общее заключение"
   ]
  },
  {
   "cell_type": "markdown",
   "metadata": {},
   "source": [
    "**Мы предварительно подготовили данные для анализа А/В-теста:** <br>\n",
    "1. Тип данных был изменён на datetime в следующих столбцах датафреймов:\n",
    "    * marketing_events - start_dt и finish_dt;\n",
    "    * new_users - first_date;\n",
    "    * ab_events - event_dt.\n",
    "    * В датафрейм ab_events был добавлен столбец date с датой в формате datetime. <br>\n",
    "2. Была исследована природа пропусков, они оставлены без изменений. \n",
    "<br><br>\n",
    "\n",
    "**Были выявлены факторы, влияющие на корректность данных и результат тестирования:** \n",
    "* данные не полностью соответствуют ТЗ, \n",
    "* группы А и В различаются по размеру, группа А существенно больше,\n",
    "* часть аудитории попала сразу в два теста, \n",
    "* из-за несоответствия даты остановки теста не для всех пользователей успело пройти 14 дней с момента регистрации,\n",
    "* проведение теста совпало с рождественско-новогодней маркетинговой активностью.\n",
    "<br><br>\n",
    "\n",
    "**Была построена воронка, по итогам изучения которой сделаны выводы:**<br>\n",
    "* Из 100% зарегистрировавшихся пользователей до покупки доходят 32% в группе А и 28% в группу В.\n",
    "* Самые большие потери на двух этапах:\n",
    "    * от этапа регистрации до карточки товара (login -> product_page) мы теряем 35% из группы А и 44% из группы В. \n",
    "    * от карточки товара до перехода в корзину (product_page -> product_cart) мы теряем еще 35% из группы А и 29% из группы В.\n",
    "* Зато успешную покупку совершают чуть больше, чем переходящие в корзину.\n",
    "* Тем не менее, результаты у воронки группы В даже хуже, чем у группы А, хотя предполагался иной исход.\n",
    "<br><br>\n",
    "\n",
    "**Для проверки использовался множественный z-тест**, где сравнивались доли пользователей на каждом из шагов воронки.\n",
    "\n",
    "1) Проведенный анализ показал наличие статистически значимой разницы на этапы конверсии из авторизации в просмотр карточки товара (login -> product_page). Группа В показала более низкую конверсию, чем группа А. <br>\n",
    "\n",
    "**Гипотезы Ho:** \"различий в конверсии в покупку между группами А и В нет\" и \"различий в конверсии в просмотр корзины между группами А и В нет\" **были отвергнуты.**\n",
    "\n",
    "<br>\n",
    "2) Проведенный анализ также показал отсутствие статистически значимой разницы в значениях конверсии в группах А и В на этапах конверсии в просмотр корзины (product_page -> product_cart) и конверсии в покупку (product_page -> purchase). <br>\n",
    "\n",
    "**Гипотеза Ho** \"различий в конверсии в просмотр карточки товара между группами А и В нет\" **была принята.**\n",
    "<br><br>\n",
    "**В ходе исследования было выявлено,** что А/В-тест не соответствует условиям ТЗ и данные искажены, поэтому доверять его результатам не получится.\n",
    "<br>\n",
    "\n",
    "**Рекомендовано:**\n",
    "1. Предварительно провести А/А-тест между двумя контрольными группами, чтобы убедиться, что нет скрытых проблем и ошибок.\n",
    "2. Тщательно подготовиться к повторному A/B-тесту, а именно: \n",
    "    * группы А и В должны быть сбалансированы,\n",
    "    * не проводить два теста одновременно,\n",
    "    * исключить период праздников и любых маркетинговых активностей, которые могут исказить результат,\n",
    "    * строго соблюдать период проведения теста, не заканчивать его раньше даты.\n",
    "3. Провести повторный A/B-тест."
   ]
  }
 ],
 "metadata": {
  "ExecuteTimeLog": [
   {
    "duration": 1515,
    "start_time": "2023-06-25T06:48:19.529Z"
   },
   {
    "duration": 12,
    "start_time": "2023-06-25T06:49:12.359Z"
   },
   {
    "duration": 141,
    "start_time": "2023-06-25T06:51:20.669Z"
   },
   {
    "duration": 6,
    "start_time": "2023-06-25T06:51:34.329Z"
   },
   {
    "duration": 1972,
    "start_time": "2023-06-25T06:51:35.819Z"
   },
   {
    "duration": 13,
    "start_time": "2023-06-25T06:52:21.509Z"
   },
   {
    "duration": 9,
    "start_time": "2023-06-25T06:52:28.539Z"
   },
   {
    "duration": 11,
    "start_time": "2023-06-25T06:52:34.739Z"
   },
   {
    "duration": 17,
    "start_time": "2023-06-25T06:52:48.166Z"
   },
   {
    "duration": 17,
    "start_time": "2023-06-25T06:53:07.879Z"
   },
   {
    "duration": 28,
    "start_time": "2023-06-25T06:53:37.835Z"
   },
   {
    "duration": 72,
    "start_time": "2023-06-25T06:54:08.759Z"
   },
   {
    "duration": 596,
    "start_time": "2023-06-25T06:54:30.779Z"
   },
   {
    "duration": 1369,
    "start_time": "2023-06-25T06:54:46.389Z"
   },
   {
    "duration": 619,
    "start_time": "2023-06-25T06:54:47.760Z"
   },
   {
    "duration": 28,
    "start_time": "2023-06-25T06:54:48.380Z"
   },
   {
    "duration": 48,
    "start_time": "2023-06-25T06:54:48.411Z"
   },
   {
    "duration": 134,
    "start_time": "2023-06-25T06:54:48.462Z"
   },
   {
    "duration": 6,
    "start_time": "2023-06-25T06:57:49.709Z"
   },
   {
    "duration": 6,
    "start_time": "2023-06-25T06:58:17.410Z"
   },
   {
    "duration": 6,
    "start_time": "2023-06-25T06:59:42.389Z"
   },
   {
    "duration": 5,
    "start_time": "2023-06-25T07:00:05.289Z"
   },
   {
    "duration": 4,
    "start_time": "2023-06-25T07:00:31.999Z"
   },
   {
    "duration": 6,
    "start_time": "2023-06-25T07:00:37.510Z"
   },
   {
    "duration": 18,
    "start_time": "2023-06-25T07:02:58.842Z"
   },
   {
    "duration": 35,
    "start_time": "2023-06-25T07:04:02.769Z"
   },
   {
    "duration": 8,
    "start_time": "2023-06-25T07:06:51.559Z"
   },
   {
    "duration": 7,
    "start_time": "2023-06-25T07:06:52.559Z"
   },
   {
    "duration": 7,
    "start_time": "2023-06-25T07:07:06.020Z"
   },
   {
    "duration": 104,
    "start_time": "2023-06-25T07:07:22.859Z"
   },
   {
    "duration": 5,
    "start_time": "2023-06-25T07:07:30.748Z"
   },
   {
    "duration": 295,
    "start_time": "2023-06-25T07:11:07.979Z"
   },
   {
    "duration": 302,
    "start_time": "2023-06-25T07:11:35.531Z"
   },
   {
    "duration": 42,
    "start_time": "2023-06-25T07:11:36.152Z"
   },
   {
    "duration": 32,
    "start_time": "2023-06-25T07:11:58.066Z"
   },
   {
    "duration": 29,
    "start_time": "2023-06-25T07:12:25.819Z"
   },
   {
    "duration": 23,
    "start_time": "2023-06-25T07:12:33.419Z"
   },
   {
    "duration": 6,
    "start_time": "2023-06-25T07:12:51.288Z"
   },
   {
    "duration": 58,
    "start_time": "2023-06-25T07:15:55.419Z"
   },
   {
    "duration": 11,
    "start_time": "2023-06-25T07:19:08.791Z"
   },
   {
    "duration": 78,
    "start_time": "2023-06-25T09:47:35.441Z"
   },
   {
    "duration": 11,
    "start_time": "2023-06-25T09:48:06.912Z"
   },
   {
    "duration": 6,
    "start_time": "2023-06-25T09:48:52.301Z"
   },
   {
    "duration": 6,
    "start_time": "2023-06-25T09:49:06.411Z"
   },
   {
    "duration": 18,
    "start_time": "2023-06-25T11:57:07.627Z"
   },
   {
    "duration": 1056,
    "start_time": "2023-06-25T11:57:32.029Z"
   },
   {
    "duration": 13,
    "start_time": "2023-06-25T11:58:10.494Z"
   },
   {
    "duration": 5,
    "start_time": "2023-06-25T11:58:49.810Z"
   },
   {
    "duration": 27,
    "start_time": "2023-06-25T11:59:07.782Z"
   },
   {
    "duration": 2082,
    "start_time": "2023-06-25T11:59:41.510Z"
   },
   {
    "duration": 15,
    "start_time": "2023-06-25T11:59:57.750Z"
   },
   {
    "duration": 129,
    "start_time": "2023-06-25T12:00:50.310Z"
   },
   {
    "duration": 199,
    "start_time": "2023-06-25T12:00:57.310Z"
   },
   {
    "duration": 38,
    "start_time": "2023-06-25T12:02:08.078Z"
   },
   {
    "duration": 51,
    "start_time": "2023-06-25T12:02:35.140Z"
   },
   {
    "duration": 9,
    "start_time": "2023-06-25T12:03:26.172Z"
   },
   {
    "duration": 51,
    "start_time": "2023-06-25T12:05:43.348Z"
   },
   {
    "duration": 45,
    "start_time": "2023-06-25T12:05:49.738Z"
   },
   {
    "duration": 32,
    "start_time": "2023-06-25T12:06:10.171Z"
   },
   {
    "duration": 16,
    "start_time": "2023-06-25T12:06:18.988Z"
   },
   {
    "duration": 10,
    "start_time": "2023-06-25T12:06:22.868Z"
   },
   {
    "duration": 10,
    "start_time": "2023-06-25T12:06:28.793Z"
   },
   {
    "duration": 276,
    "start_time": "2023-06-25T12:07:29.309Z"
   },
   {
    "duration": 273,
    "start_time": "2023-06-25T12:07:41.909Z"
   },
   {
    "duration": 274,
    "start_time": "2023-06-25T12:08:14.749Z"
   },
   {
    "duration": 269,
    "start_time": "2023-06-25T12:08:27.608Z"
   },
   {
    "duration": 23,
    "start_time": "2023-06-25T12:08:42.918Z"
   },
   {
    "duration": 272,
    "start_time": "2023-06-25T12:09:53.599Z"
   },
   {
    "duration": 29,
    "start_time": "2023-06-25T12:10:20.050Z"
   },
   {
    "duration": 2,
    "start_time": "2023-06-25T12:10:43.688Z"
   },
   {
    "duration": 5,
    "start_time": "2023-06-25T12:11:51.219Z"
   },
   {
    "duration": 4,
    "start_time": "2023-06-25T12:12:34.309Z"
   },
   {
    "duration": 10,
    "start_time": "2023-06-25T12:13:30.685Z"
   },
   {
    "duration": 10,
    "start_time": "2023-06-25T12:13:51.307Z"
   },
   {
    "duration": 6,
    "start_time": "2023-06-25T12:16:20.399Z"
   },
   {
    "duration": 5,
    "start_time": "2023-06-25T12:17:04.439Z"
   },
   {
    "duration": 57,
    "start_time": "2023-06-25T12:20:09.530Z"
   },
   {
    "duration": 12,
    "start_time": "2023-06-25T12:20:17.867Z"
   },
   {
    "duration": 6,
    "start_time": "2023-06-25T12:20:28.609Z"
   },
   {
    "duration": 10,
    "start_time": "2023-06-25T12:21:13.251Z"
   },
   {
    "duration": 8,
    "start_time": "2023-06-25T12:21:27.120Z"
   },
   {
    "duration": 13,
    "start_time": "2023-06-25T12:31:43.419Z"
   },
   {
    "duration": 9,
    "start_time": "2023-06-25T12:34:41.307Z"
   },
   {
    "duration": 10,
    "start_time": "2023-06-25T12:34:46.327Z"
   },
   {
    "duration": 12,
    "start_time": "2023-06-25T12:34:55.327Z"
   },
   {
    "duration": 18,
    "start_time": "2023-06-25T12:35:18.557Z"
   },
   {
    "duration": 11,
    "start_time": "2023-06-25T12:35:27.608Z"
   },
   {
    "duration": 15,
    "start_time": "2023-06-25T12:35:31.269Z"
   },
   {
    "duration": 12,
    "start_time": "2023-06-25T12:36:15.897Z"
   },
   {
    "duration": 14,
    "start_time": "2023-06-25T12:36:25.497Z"
   },
   {
    "duration": 10,
    "start_time": "2023-06-25T12:36:29.806Z"
   },
   {
    "duration": 1564,
    "start_time": "2023-06-25T19:34:27.819Z"
   },
   {
    "duration": 1135,
    "start_time": "2023-06-25T19:34:29.386Z"
   },
   {
    "duration": 26,
    "start_time": "2023-06-25T19:34:30.523Z"
   },
   {
    "duration": 52,
    "start_time": "2023-06-25T19:34:30.551Z"
   },
   {
    "duration": 42,
    "start_time": "2023-06-25T19:34:30.605Z"
   },
   {
    "duration": 36,
    "start_time": "2023-06-25T19:34:30.649Z"
   },
   {
    "duration": 90,
    "start_time": "2023-06-25T19:34:30.687Z"
   },
   {
    "duration": 42,
    "start_time": "2023-06-25T19:34:30.779Z"
   },
   {
    "duration": 55,
    "start_time": "2023-06-25T19:34:30.822Z"
   },
   {
    "duration": 76,
    "start_time": "2023-06-25T19:34:30.878Z"
   },
   {
    "duration": 74,
    "start_time": "2023-06-25T19:34:30.955Z"
   },
   {
    "duration": 15,
    "start_time": "2023-06-25T19:34:31.030Z"
   },
   {
    "duration": 50,
    "start_time": "2023-06-25T19:34:31.047Z"
   },
   {
    "duration": 46,
    "start_time": "2023-06-25T19:34:31.100Z"
   },
   {
    "duration": 132,
    "start_time": "2023-06-25T19:34:31.148Z"
   },
   {
    "duration": 331,
    "start_time": "2023-06-25T19:34:31.282Z"
   },
   {
    "duration": 74,
    "start_time": "2023-06-25T19:34:31.615Z"
   },
   {
    "duration": 43,
    "start_time": "2023-06-25T19:34:31.692Z"
   },
   {
    "duration": 124,
    "start_time": "2023-06-25T19:34:31.737Z"
   },
   {
    "duration": 65,
    "start_time": "2023-06-25T19:34:31.862Z"
   },
   {
    "duration": 32,
    "start_time": "2023-06-25T19:34:31.929Z"
   },
   {
    "duration": 27,
    "start_time": "2023-06-25T19:34:31.963Z"
   },
   {
    "duration": 31,
    "start_time": "2023-06-25T19:34:31.992Z"
   },
   {
    "duration": 29,
    "start_time": "2023-06-25T19:34:32.024Z"
   },
   {
    "duration": 25,
    "start_time": "2023-06-25T19:34:32.054Z"
   },
   {
    "duration": 21,
    "start_time": "2023-06-25T19:34:32.080Z"
   },
   {
    "duration": 101,
    "start_time": "2023-06-25T19:34:32.102Z"
   },
   {
    "duration": 53,
    "start_time": "2023-06-25T19:34:32.205Z"
   },
   {
    "duration": 71,
    "start_time": "2023-06-25T19:34:32.260Z"
   },
   {
    "duration": 41,
    "start_time": "2023-06-25T19:34:32.333Z"
   },
   {
    "duration": 1034,
    "start_time": "2023-06-25T19:34:32.376Z"
   },
   {
    "duration": 0,
    "start_time": "2023-06-25T19:34:33.412Z"
   },
   {
    "duration": 0,
    "start_time": "2023-06-25T19:34:33.413Z"
   },
   {
    "duration": 0,
    "start_time": "2023-06-25T19:34:33.414Z"
   },
   {
    "duration": 0,
    "start_time": "2023-06-25T19:34:33.416Z"
   },
   {
    "duration": 0,
    "start_time": "2023-06-25T19:34:33.417Z"
   },
   {
    "duration": 11,
    "start_time": "2023-06-25T19:36:26.512Z"
   },
   {
    "duration": 901,
    "start_time": "2023-06-25T19:40:45.589Z"
   },
   {
    "duration": 318,
    "start_time": "2023-06-25T19:40:50.803Z"
   },
   {
    "duration": 81,
    "start_time": "2023-06-25T19:41:31.312Z"
   },
   {
    "duration": 78,
    "start_time": "2023-06-25T19:41:39.201Z"
   },
   {
    "duration": 1255,
    "start_time": "2023-06-25T19:41:45.002Z"
   },
   {
    "duration": 592,
    "start_time": "2023-06-25T19:41:46.258Z"
   },
   {
    "duration": 18,
    "start_time": "2023-06-25T19:41:46.851Z"
   },
   {
    "duration": 14,
    "start_time": "2023-06-25T19:41:46.870Z"
   },
   {
    "duration": 25,
    "start_time": "2023-06-25T19:41:46.886Z"
   },
   {
    "duration": 8,
    "start_time": "2023-06-25T19:41:46.913Z"
   },
   {
    "duration": 44,
    "start_time": "2023-06-25T19:41:46.923Z"
   },
   {
    "duration": 23,
    "start_time": "2023-06-25T19:41:46.969Z"
   },
   {
    "duration": 10,
    "start_time": "2023-06-25T19:41:46.994Z"
   },
   {
    "duration": 37,
    "start_time": "2023-06-25T19:41:47.005Z"
   },
   {
    "duration": 31,
    "start_time": "2023-06-25T19:41:47.044Z"
   },
   {
    "duration": 8,
    "start_time": "2023-06-25T19:41:47.077Z"
   },
   {
    "duration": 26,
    "start_time": "2023-06-25T19:41:47.086Z"
   },
   {
    "duration": 38,
    "start_time": "2023-06-25T19:41:47.116Z"
   },
   {
    "duration": 89,
    "start_time": "2023-06-25T19:41:47.155Z"
   },
   {
    "duration": 286,
    "start_time": "2023-06-25T19:41:47.247Z"
   },
   {
    "duration": 63,
    "start_time": "2023-06-25T19:41:47.536Z"
   },
   {
    "duration": 83,
    "start_time": "2023-06-25T19:41:47.601Z"
   },
   {
    "duration": 61,
    "start_time": "2023-06-25T19:41:47.685Z"
   },
   {
    "duration": 52,
    "start_time": "2023-06-25T19:41:47.748Z"
   },
   {
    "duration": 24,
    "start_time": "2023-06-25T19:41:47.802Z"
   },
   {
    "duration": 60,
    "start_time": "2023-06-25T19:41:47.828Z"
   },
   {
    "duration": 23,
    "start_time": "2023-06-25T19:41:47.889Z"
   },
   {
    "duration": 17,
    "start_time": "2023-06-25T19:41:47.914Z"
   },
   {
    "duration": 34,
    "start_time": "2023-06-25T19:41:47.933Z"
   },
   {
    "duration": 24,
    "start_time": "2023-06-25T19:41:47.969Z"
   },
   {
    "duration": 57,
    "start_time": "2023-06-25T19:41:47.995Z"
   },
   {
    "duration": 48,
    "start_time": "2023-06-25T19:41:48.054Z"
   },
   {
    "duration": 99,
    "start_time": "2023-06-25T19:41:48.104Z"
   },
   {
    "duration": 5,
    "start_time": "2023-06-25T19:41:48.205Z"
   },
   {
    "duration": 104,
    "start_time": "2023-06-25T19:41:48.212Z"
   },
   {
    "duration": 6,
    "start_time": "2023-06-25T19:41:48.318Z"
   },
   {
    "duration": 73,
    "start_time": "2023-06-25T19:41:48.331Z"
   },
   {
    "duration": 11,
    "start_time": "2023-06-25T19:41:48.406Z"
   },
   {
    "duration": 297,
    "start_time": "2023-06-25T19:41:48.419Z"
   },
   {
    "duration": 33,
    "start_time": "2023-06-25T19:41:48.718Z"
   },
   {
    "duration": 81,
    "start_time": "2023-06-25T19:41:57.217Z"
   },
   {
    "duration": 105,
    "start_time": "2023-06-25T19:53:52.353Z"
   },
   {
    "duration": 6,
    "start_time": "2023-06-25T19:54:20.297Z"
   },
   {
    "duration": 11,
    "start_time": "2023-06-25T19:56:34.263Z"
   },
   {
    "duration": 20,
    "start_time": "2023-06-25T19:56:38.043Z"
   },
   {
    "duration": 11,
    "start_time": "2023-06-25T19:56:43.760Z"
   },
   {
    "duration": 5,
    "start_time": "2023-06-25T19:57:32.089Z"
   },
   {
    "duration": 101,
    "start_time": "2023-06-25T19:58:28.692Z"
   },
   {
    "duration": 82,
    "start_time": "2023-06-25T19:58:56.399Z"
   },
   {
    "duration": 117,
    "start_time": "2023-06-25T19:59:08.493Z"
   },
   {
    "duration": 9,
    "start_time": "2023-06-25T19:59:30.705Z"
   },
   {
    "duration": 3,
    "start_time": "2023-06-25T20:03:44.489Z"
   },
   {
    "duration": 3,
    "start_time": "2023-06-25T20:04:02.960Z"
   },
   {
    "duration": 3,
    "start_time": "2023-06-25T20:04:10.391Z"
   },
   {
    "duration": 252,
    "start_time": "2023-06-25T20:05:36.346Z"
   },
   {
    "duration": 40,
    "start_time": "2023-06-25T20:09:09.838Z"
   },
   {
    "duration": 4,
    "start_time": "2023-06-25T20:10:14.790Z"
   },
   {
    "duration": 11,
    "start_time": "2023-06-25T20:13:57.353Z"
   },
   {
    "duration": 5,
    "start_time": "2023-06-25T20:14:02.555Z"
   },
   {
    "duration": 8,
    "start_time": "2023-06-25T20:14:51.093Z"
   },
   {
    "duration": 7,
    "start_time": "2023-06-25T20:14:58.057Z"
   },
   {
    "duration": 5,
    "start_time": "2023-06-25T20:17:33.894Z"
   },
   {
    "duration": 4,
    "start_time": "2023-06-25T20:18:07.699Z"
   },
   {
    "duration": 6,
    "start_time": "2023-06-25T20:18:18.356Z"
   },
   {
    "duration": 10,
    "start_time": "2023-06-25T20:22:35.341Z"
   },
   {
    "duration": 11,
    "start_time": "2023-06-25T20:24:14.393Z"
   },
   {
    "duration": 15,
    "start_time": "2023-06-25T20:24:22.138Z"
   },
   {
    "duration": 1443,
    "start_time": "2023-06-25T20:30:16.065Z"
   },
   {
    "duration": 11,
    "start_time": "2023-06-25T20:32:30.080Z"
   },
   {
    "duration": 209,
    "start_time": "2023-06-25T20:32:34.705Z"
   },
   {
    "duration": 201,
    "start_time": "2023-06-25T20:34:51.182Z"
   },
   {
    "duration": 19,
    "start_time": "2023-06-25T20:35:29.697Z"
   },
   {
    "duration": 14,
    "start_time": "2023-06-25T20:36:36.198Z"
   },
   {
    "duration": 1430,
    "start_time": "2023-06-25T20:37:44.642Z"
   },
   {
    "duration": 1360,
    "start_time": "2023-06-25T20:37:47.309Z"
   },
   {
    "duration": 17,
    "start_time": "2023-06-25T20:38:01.244Z"
   },
   {
    "duration": 19,
    "start_time": "2023-06-25T20:38:24.110Z"
   },
   {
    "duration": 20,
    "start_time": "2023-06-25T20:38:28.806Z"
   },
   {
    "duration": 24,
    "start_time": "2023-06-25T20:38:36.056Z"
   },
   {
    "duration": 38,
    "start_time": "2023-06-25T20:38:40.807Z"
   },
   {
    "duration": 32,
    "start_time": "2023-06-25T20:39:13.660Z"
   },
   {
    "duration": 26,
    "start_time": "2023-06-25T20:39:17.953Z"
   },
   {
    "duration": 17,
    "start_time": "2023-06-25T20:39:35.356Z"
   },
   {
    "duration": 20,
    "start_time": "2023-06-25T20:39:50.899Z"
   },
   {
    "duration": 23,
    "start_time": "2023-06-25T20:40:29.694Z"
   },
   {
    "duration": 1211,
    "start_time": "2023-06-26T06:14:25.404Z"
   },
   {
    "duration": 548,
    "start_time": "2023-06-26T06:14:26.617Z"
   },
   {
    "duration": 18,
    "start_time": "2023-06-26T06:14:27.167Z"
   },
   {
    "duration": 5,
    "start_time": "2023-06-26T06:14:27.187Z"
   },
   {
    "duration": 9,
    "start_time": "2023-06-26T06:14:27.194Z"
   },
   {
    "duration": 13,
    "start_time": "2023-06-26T06:14:27.205Z"
   },
   {
    "duration": 15,
    "start_time": "2023-06-26T06:14:27.219Z"
   },
   {
    "duration": 14,
    "start_time": "2023-06-26T06:14:27.235Z"
   },
   {
    "duration": 11,
    "start_time": "2023-06-26T06:14:27.250Z"
   },
   {
    "duration": 27,
    "start_time": "2023-06-26T06:14:27.262Z"
   },
   {
    "duration": 29,
    "start_time": "2023-06-26T06:14:27.290Z"
   },
   {
    "duration": 14,
    "start_time": "2023-06-26T06:14:27.321Z"
   },
   {
    "duration": 12,
    "start_time": "2023-06-26T06:14:27.337Z"
   },
   {
    "duration": 25,
    "start_time": "2023-06-26T06:14:27.351Z"
   },
   {
    "duration": 73,
    "start_time": "2023-06-26T06:14:27.378Z"
   },
   {
    "duration": 286,
    "start_time": "2023-06-26T06:14:27.453Z"
   },
   {
    "duration": 54,
    "start_time": "2023-06-26T06:14:27.740Z"
   },
   {
    "duration": 42,
    "start_time": "2023-06-26T06:14:27.796Z"
   },
   {
    "duration": 37,
    "start_time": "2023-06-26T06:14:27.839Z"
   },
   {
    "duration": 45,
    "start_time": "2023-06-26T06:14:27.878Z"
   },
   {
    "duration": 57,
    "start_time": "2023-06-26T06:14:27.925Z"
   },
   {
    "duration": 12,
    "start_time": "2023-06-26T06:14:27.984Z"
   },
   {
    "duration": 20,
    "start_time": "2023-06-26T06:14:27.998Z"
   },
   {
    "duration": 10,
    "start_time": "2023-06-26T06:14:28.019Z"
   },
   {
    "duration": 24,
    "start_time": "2023-06-26T06:14:28.030Z"
   },
   {
    "duration": 12,
    "start_time": "2023-06-26T06:14:28.056Z"
   },
   {
    "duration": 16,
    "start_time": "2023-06-26T06:14:28.069Z"
   },
   {
    "duration": 17,
    "start_time": "2023-06-26T06:14:28.086Z"
   },
   {
    "duration": 28,
    "start_time": "2023-06-26T06:14:28.105Z"
   },
   {
    "duration": 5,
    "start_time": "2023-06-26T06:14:28.134Z"
   },
   {
    "duration": 93,
    "start_time": "2023-06-26T06:14:28.140Z"
   },
   {
    "duration": 34,
    "start_time": "2023-06-26T06:14:28.235Z"
   },
   {
    "duration": 6,
    "start_time": "2023-06-26T06:14:28.270Z"
   },
   {
    "duration": 290,
    "start_time": "2023-06-26T06:14:28.277Z"
   },
   {
    "duration": 20,
    "start_time": "2023-06-26T06:14:28.569Z"
   },
   {
    "duration": 16,
    "start_time": "2023-06-26T06:14:28.590Z"
   },
   {
    "duration": 17,
    "start_time": "2023-06-26T06:14:28.607Z"
   },
   {
    "duration": 9,
    "start_time": "2023-06-26T06:14:28.625Z"
   },
   {
    "duration": 9,
    "start_time": "2023-06-26T06:14:28.636Z"
   },
   {
    "duration": 6,
    "start_time": "2023-06-26T06:14:28.646Z"
   },
   {
    "duration": 40,
    "start_time": "2023-06-26T06:14:28.656Z"
   },
   {
    "duration": 4,
    "start_time": "2023-06-26T06:14:28.698Z"
   },
   {
    "duration": 15,
    "start_time": "2023-06-26T06:14:28.703Z"
   },
   {
    "duration": 16,
    "start_time": "2023-06-26T06:14:28.720Z"
   },
   {
    "duration": 7,
    "start_time": "2023-06-26T06:14:28.738Z"
   },
   {
    "duration": 20,
    "start_time": "2023-06-26T06:14:28.747Z"
   },
   {
    "duration": 356,
    "start_time": "2023-06-26T06:15:25.715Z"
   },
   {
    "duration": 13,
    "start_time": "2023-06-26T06:17:38.337Z"
   },
   {
    "duration": 10,
    "start_time": "2023-06-26T06:24:15.358Z"
   },
   {
    "duration": 11,
    "start_time": "2023-06-26T06:25:29.025Z"
   },
   {
    "duration": 11,
    "start_time": "2023-06-26T06:27:27.483Z"
   },
   {
    "duration": 12,
    "start_time": "2023-06-26T06:34:37.430Z"
   },
   {
    "duration": 14,
    "start_time": "2023-06-26T06:35:00.704Z"
   },
   {
    "duration": 13,
    "start_time": "2023-06-26T06:35:12.322Z"
   },
   {
    "duration": 14,
    "start_time": "2023-06-26T06:35:17.551Z"
   },
   {
    "duration": 86,
    "start_time": "2023-06-26T06:35:49.004Z"
   },
   {
    "duration": 7,
    "start_time": "2023-06-26T06:36:26.913Z"
   },
   {
    "duration": 14,
    "start_time": "2023-06-26T06:37:14.104Z"
   },
   {
    "duration": 121,
    "start_time": "2023-06-26T06:41:00.625Z"
   },
   {
    "duration": 103,
    "start_time": "2023-06-26T06:41:11.599Z"
   },
   {
    "duration": 12,
    "start_time": "2023-06-26T06:41:18.092Z"
   },
   {
    "duration": 117,
    "start_time": "2023-06-26T06:41:41.866Z"
   },
   {
    "duration": 161,
    "start_time": "2023-06-26T06:41:51.688Z"
   },
   {
    "duration": 122,
    "start_time": "2023-06-26T06:42:09.063Z"
   },
   {
    "duration": 16,
    "start_time": "2023-06-26T06:42:12.695Z"
   },
   {
    "duration": 13,
    "start_time": "2023-06-26T06:42:47.791Z"
   },
   {
    "duration": 19,
    "start_time": "2023-06-26T06:43:04.696Z"
   },
   {
    "duration": 6,
    "start_time": "2023-06-26T06:45:04.260Z"
   },
   {
    "duration": 17,
    "start_time": "2023-06-26T06:46:04.599Z"
   },
   {
    "duration": 149,
    "start_time": "2023-06-26T06:55:50.140Z"
   },
   {
    "duration": 125,
    "start_time": "2023-06-26T06:56:16.295Z"
   },
   {
    "duration": 20,
    "start_time": "2023-06-26T06:56:49.230Z"
   },
   {
    "duration": 26,
    "start_time": "2023-06-26T06:57:29.040Z"
   },
   {
    "duration": 87,
    "start_time": "2023-06-26T06:57:58.447Z"
   },
   {
    "duration": 107,
    "start_time": "2023-06-26T06:59:43.100Z"
   },
   {
    "duration": 32,
    "start_time": "2023-06-26T06:59:48.920Z"
   },
   {
    "duration": 6,
    "start_time": "2023-06-26T07:00:27.347Z"
   },
   {
    "duration": 43,
    "start_time": "2023-06-26T07:00:57.451Z"
   },
   {
    "duration": 28,
    "start_time": "2023-06-26T07:01:21.798Z"
   },
   {
    "duration": 12,
    "start_time": "2023-06-26T07:01:40.959Z"
   },
   {
    "duration": 8,
    "start_time": "2023-06-26T07:01:43.993Z"
   },
   {
    "duration": 7,
    "start_time": "2023-06-26T07:02:05.745Z"
   },
   {
    "duration": 4,
    "start_time": "2023-06-26T07:02:35.123Z"
   },
   {
    "duration": 5,
    "start_time": "2023-06-26T07:02:39.723Z"
   },
   {
    "duration": 15,
    "start_time": "2023-06-26T07:07:19.800Z"
   },
   {
    "duration": 124,
    "start_time": "2023-06-26T07:08:36.909Z"
   },
   {
    "duration": 6,
    "start_time": "2023-06-26T07:08:43.751Z"
   },
   {
    "duration": 11,
    "start_time": "2023-06-26T07:09:12.001Z"
   },
   {
    "duration": 6,
    "start_time": "2023-06-26T07:09:20.410Z"
   },
   {
    "duration": 11,
    "start_time": "2023-06-26T07:09:28.273Z"
   },
   {
    "duration": 6,
    "start_time": "2023-06-26T07:09:35.037Z"
   },
   {
    "duration": 13,
    "start_time": "2023-06-26T07:09:39.553Z"
   },
   {
    "duration": 7,
    "start_time": "2023-06-26T07:09:43.319Z"
   },
   {
    "duration": 5,
    "start_time": "2023-06-26T07:10:12.601Z"
   },
   {
    "duration": 5,
    "start_time": "2023-06-26T07:10:42.823Z"
   },
   {
    "duration": 11,
    "start_time": "2023-06-26T07:10:57.751Z"
   },
   {
    "duration": 5,
    "start_time": "2023-06-26T07:11:53.205Z"
   },
   {
    "duration": 8,
    "start_time": "2023-06-26T07:12:11.812Z"
   },
   {
    "duration": 4,
    "start_time": "2023-06-26T07:12:41.824Z"
   },
   {
    "duration": 14,
    "start_time": "2023-06-26T07:14:14.867Z"
   },
   {
    "duration": 16,
    "start_time": "2023-06-26T07:14:29.554Z"
   },
   {
    "duration": 316,
    "start_time": "2023-06-26T07:17:20.902Z"
   },
   {
    "duration": 208,
    "start_time": "2023-06-26T07:17:27.314Z"
   },
   {
    "duration": 207,
    "start_time": "2023-06-26T07:18:45.708Z"
   },
   {
    "duration": 205,
    "start_time": "2023-06-26T07:18:50.138Z"
   },
   {
    "duration": 209,
    "start_time": "2023-06-26T07:19:00.210Z"
   },
   {
    "duration": 233,
    "start_time": "2023-06-26T07:19:17.559Z"
   },
   {
    "duration": 339,
    "start_time": "2023-06-26T07:19:32.232Z"
   },
   {
    "duration": 219,
    "start_time": "2023-06-26T07:20:01.525Z"
   },
   {
    "duration": 206,
    "start_time": "2023-06-26T07:21:49.401Z"
   },
   {
    "duration": 25,
    "start_time": "2023-06-26T07:26:43.926Z"
   },
   {
    "duration": 26,
    "start_time": "2023-06-26T07:27:01.611Z"
   },
   {
    "duration": 24,
    "start_time": "2023-06-26T07:27:33.808Z"
   },
   {
    "duration": 26,
    "start_time": "2023-06-26T07:27:44.472Z"
   },
   {
    "duration": 79,
    "start_time": "2023-06-26T07:28:22.232Z"
   },
   {
    "duration": 158,
    "start_time": "2023-06-26T07:29:20.155Z"
   },
   {
    "duration": 165,
    "start_time": "2023-06-26T07:29:29.527Z"
   },
   {
    "duration": 677,
    "start_time": "2023-06-26T07:31:47.811Z"
   },
   {
    "duration": 649,
    "start_time": "2023-06-26T07:32:55.408Z"
   },
   {
    "duration": 123,
    "start_time": "2023-06-26T07:33:14.830Z"
   },
   {
    "duration": 683,
    "start_time": "2023-06-26T07:33:19.922Z"
   },
   {
    "duration": 735,
    "start_time": "2023-06-26T07:33:55.667Z"
   },
   {
    "duration": 716,
    "start_time": "2023-06-26T07:35:16.300Z"
   },
   {
    "duration": 669,
    "start_time": "2023-06-26T07:35:32.136Z"
   },
   {
    "duration": 748,
    "start_time": "2023-06-26T07:36:39.765Z"
   },
   {
    "duration": 661,
    "start_time": "2023-06-26T07:36:45.440Z"
   },
   {
    "duration": 783,
    "start_time": "2023-06-26T07:36:50.944Z"
   },
   {
    "duration": 776,
    "start_time": "2023-06-26T07:38:41.205Z"
   },
   {
    "duration": 672,
    "start_time": "2023-06-26T07:38:46.252Z"
   },
   {
    "duration": 673,
    "start_time": "2023-06-26T07:39:03.537Z"
   },
   {
    "duration": 695,
    "start_time": "2023-06-26T07:39:09.129Z"
   },
   {
    "duration": 706,
    "start_time": "2023-06-26T07:39:14.519Z"
   },
   {
    "duration": 25,
    "start_time": "2023-06-26T07:39:29.309Z"
   },
   {
    "duration": 859,
    "start_time": "2023-06-26T07:39:42.164Z"
   },
   {
    "duration": 692,
    "start_time": "2023-06-26T07:39:48.001Z"
   },
   {
    "duration": 684,
    "start_time": "2023-06-26T07:39:56.405Z"
   },
   {
    "duration": 665,
    "start_time": "2023-06-26T07:40:06.038Z"
   },
   {
    "duration": 685,
    "start_time": "2023-06-26T07:40:12.613Z"
   },
   {
    "duration": 758,
    "start_time": "2023-06-26T07:40:21.842Z"
   },
   {
    "duration": 661,
    "start_time": "2023-06-26T07:40:51.925Z"
   },
   {
    "duration": 678,
    "start_time": "2023-06-26T07:41:32.113Z"
   },
   {
    "duration": 679,
    "start_time": "2023-06-26T07:41:37.247Z"
   },
   {
    "duration": 659,
    "start_time": "2023-06-26T07:41:53.434Z"
   },
   {
    "duration": 11,
    "start_time": "2023-06-26T07:44:44.864Z"
   },
   {
    "duration": 6,
    "start_time": "2023-06-26T07:45:40.738Z"
   },
   {
    "duration": 5,
    "start_time": "2023-06-26T07:46:18.897Z"
   },
   {
    "duration": 6,
    "start_time": "2023-06-26T07:46:37.800Z"
   },
   {
    "duration": 13,
    "start_time": "2023-06-26T07:47:35.928Z"
   },
   {
    "duration": 7,
    "start_time": "2023-06-26T07:47:53.932Z"
   },
   {
    "duration": 6,
    "start_time": "2023-06-26T07:48:10.812Z"
   },
   {
    "duration": 7,
    "start_time": "2023-06-26T07:49:48.040Z"
   },
   {
    "duration": 109,
    "start_time": "2023-06-26T07:51:12.394Z"
   },
   {
    "duration": 26,
    "start_time": "2023-06-26T07:51:21.658Z"
   },
   {
    "duration": 106,
    "start_time": "2023-06-26T07:51:26.904Z"
   },
   {
    "duration": 233,
    "start_time": "2023-06-26T07:51:30.250Z"
   },
   {
    "duration": 115,
    "start_time": "2023-06-26T07:51:33.612Z"
   },
   {
    "duration": 115,
    "start_time": "2023-06-26T07:51:59.467Z"
   },
   {
    "duration": 119,
    "start_time": "2023-06-26T07:52:03.460Z"
   },
   {
    "duration": 117,
    "start_time": "2023-06-26T07:52:20.104Z"
   },
   {
    "duration": 1173,
    "start_time": "2023-06-26T07:59:47.542Z"
   },
   {
    "duration": 544,
    "start_time": "2023-06-26T07:59:48.717Z"
   },
   {
    "duration": 17,
    "start_time": "2023-06-26T07:59:49.263Z"
   },
   {
    "duration": 11,
    "start_time": "2023-06-26T07:59:49.282Z"
   },
   {
    "duration": 15,
    "start_time": "2023-06-26T07:59:49.294Z"
   },
   {
    "duration": 20,
    "start_time": "2023-06-26T07:59:49.310Z"
   },
   {
    "duration": 8,
    "start_time": "2023-06-26T07:59:49.332Z"
   },
   {
    "duration": 34,
    "start_time": "2023-06-26T07:59:49.341Z"
   },
   {
    "duration": 7,
    "start_time": "2023-06-26T07:59:49.376Z"
   },
   {
    "duration": 30,
    "start_time": "2023-06-26T07:59:49.385Z"
   },
   {
    "duration": 26,
    "start_time": "2023-06-26T07:59:49.417Z"
   },
   {
    "duration": 6,
    "start_time": "2023-06-26T07:59:49.444Z"
   },
   {
    "duration": 25,
    "start_time": "2023-06-26T07:59:49.452Z"
   },
   {
    "duration": 12,
    "start_time": "2023-06-26T07:59:49.478Z"
   },
   {
    "duration": 66,
    "start_time": "2023-06-26T07:59:49.491Z"
   },
   {
    "duration": 270,
    "start_time": "2023-06-26T07:59:49.558Z"
   },
   {
    "duration": 52,
    "start_time": "2023-06-26T07:59:49.830Z"
   },
   {
    "duration": 52,
    "start_time": "2023-06-26T07:59:49.884Z"
   },
   {
    "duration": 42,
    "start_time": "2023-06-26T07:59:49.937Z"
   },
   {
    "duration": 59,
    "start_time": "2023-06-26T07:59:49.981Z"
   },
   {
    "duration": 56,
    "start_time": "2023-06-26T07:59:50.041Z"
   },
   {
    "duration": 33,
    "start_time": "2023-06-26T07:59:50.099Z"
   },
   {
    "duration": 71,
    "start_time": "2023-06-26T07:59:50.133Z"
   },
   {
    "duration": 54,
    "start_time": "2023-06-26T07:59:50.205Z"
   },
   {
    "duration": 31,
    "start_time": "2023-06-26T07:59:50.261Z"
   },
   {
    "duration": 47,
    "start_time": "2023-06-26T07:59:50.293Z"
   },
   {
    "duration": 27,
    "start_time": "2023-06-26T07:59:50.342Z"
   },
   {
    "duration": 35,
    "start_time": "2023-06-26T07:59:50.374Z"
   },
   {
    "duration": 97,
    "start_time": "2023-06-26T07:59:50.410Z"
   },
   {
    "duration": 62,
    "start_time": "2023-06-26T07:59:50.509Z"
   },
   {
    "duration": 127,
    "start_time": "2023-06-26T07:59:50.572Z"
   },
   {
    "duration": 86,
    "start_time": "2023-06-26T07:59:50.701Z"
   },
   {
    "duration": 14,
    "start_time": "2023-06-26T07:59:50.788Z"
   },
   {
    "duration": 282,
    "start_time": "2023-06-26T07:59:50.803Z"
   },
   {
    "duration": 20,
    "start_time": "2023-06-26T07:59:51.086Z"
   },
   {
    "duration": 28,
    "start_time": "2023-06-26T07:59:51.107Z"
   },
   {
    "duration": 22,
    "start_time": "2023-06-26T07:59:51.137Z"
   },
   {
    "duration": 25,
    "start_time": "2023-06-26T07:59:51.161Z"
   },
   {
    "duration": 38,
    "start_time": "2023-06-26T07:59:51.187Z"
   },
   {
    "duration": 29,
    "start_time": "2023-06-26T07:59:51.227Z"
   },
   {
    "duration": 69,
    "start_time": "2023-06-26T07:59:51.258Z"
   },
   {
    "duration": 3,
    "start_time": "2023-06-26T07:59:51.329Z"
   },
   {
    "duration": 30,
    "start_time": "2023-06-26T07:59:51.333Z"
   },
   {
    "duration": 37,
    "start_time": "2023-06-26T07:59:51.364Z"
   },
   {
    "duration": 13,
    "start_time": "2023-06-26T07:59:51.403Z"
   },
   {
    "duration": 42,
    "start_time": "2023-06-26T07:59:51.418Z"
   },
   {
    "duration": 22,
    "start_time": "2023-06-26T07:59:51.462Z"
   },
   {
    "duration": 46,
    "start_time": "2023-06-26T07:59:51.485Z"
   },
   {
    "duration": 40,
    "start_time": "2023-06-26T07:59:51.532Z"
   },
   {
    "duration": 14,
    "start_time": "2023-06-26T07:59:51.573Z"
   },
   {
    "duration": 19,
    "start_time": "2023-06-26T07:59:51.589Z"
   },
   {
    "duration": 32,
    "start_time": "2023-06-26T07:59:51.609Z"
   },
   {
    "duration": 169,
    "start_time": "2023-06-26T07:59:51.642Z"
   },
   {
    "duration": 37,
    "start_time": "2023-06-26T07:59:51.812Z"
   },
   {
    "duration": 22,
    "start_time": "2023-06-26T07:59:51.851Z"
   },
   {
    "duration": 52,
    "start_time": "2023-06-26T07:59:51.875Z"
   },
   {
    "duration": 10,
    "start_time": "2023-06-26T07:59:51.928Z"
   },
   {
    "duration": 23,
    "start_time": "2023-06-26T07:59:51.939Z"
   },
   {
    "duration": 31,
    "start_time": "2023-06-26T07:59:51.964Z"
   },
   {
    "duration": 283,
    "start_time": "2023-06-26T07:59:51.996Z"
   },
   {
    "duration": 24,
    "start_time": "2023-06-26T07:59:52.280Z"
   },
   {
    "duration": 688,
    "start_time": "2023-06-26T07:59:52.306Z"
   },
   {
    "duration": 107,
    "start_time": "2023-06-26T07:59:52.996Z"
   },
   {
    "duration": 0,
    "start_time": "2023-06-26T07:59:53.104Z"
   },
   {
    "duration": 0,
    "start_time": "2023-06-26T07:59:53.105Z"
   },
   {
    "duration": 0,
    "start_time": "2023-06-26T07:59:53.106Z"
   },
   {
    "duration": 0,
    "start_time": "2023-06-26T07:59:53.107Z"
   },
   {
    "duration": 0,
    "start_time": "2023-06-26T07:59:53.108Z"
   },
   {
    "duration": 46,
    "start_time": "2023-06-26T08:00:16.650Z"
   },
   {
    "duration": 1277,
    "start_time": "2023-06-26T08:01:16.848Z"
   },
   {
    "duration": 565,
    "start_time": "2023-06-26T08:01:18.127Z"
   },
   {
    "duration": 18,
    "start_time": "2023-06-26T08:01:18.693Z"
   },
   {
    "duration": 5,
    "start_time": "2023-06-26T08:01:18.713Z"
   },
   {
    "duration": 20,
    "start_time": "2023-06-26T08:01:18.720Z"
   },
   {
    "duration": 19,
    "start_time": "2023-06-26T08:01:18.741Z"
   },
   {
    "duration": 10,
    "start_time": "2023-06-26T08:01:18.761Z"
   },
   {
    "duration": 17,
    "start_time": "2023-06-26T08:01:18.772Z"
   },
   {
    "duration": 9,
    "start_time": "2023-06-26T08:01:18.791Z"
   },
   {
    "duration": 29,
    "start_time": "2023-06-26T08:01:18.802Z"
   },
   {
    "duration": 29,
    "start_time": "2023-06-26T08:01:18.832Z"
   },
   {
    "duration": 7,
    "start_time": "2023-06-26T08:01:18.862Z"
   },
   {
    "duration": 18,
    "start_time": "2023-06-26T08:01:18.870Z"
   },
   {
    "duration": 17,
    "start_time": "2023-06-26T08:01:18.889Z"
   },
   {
    "duration": 93,
    "start_time": "2023-06-26T08:01:18.907Z"
   },
   {
    "duration": 294,
    "start_time": "2023-06-26T08:01:19.002Z"
   },
   {
    "duration": 55,
    "start_time": "2023-06-26T08:01:19.297Z"
   },
   {
    "duration": 29,
    "start_time": "2023-06-26T08:01:19.354Z"
   },
   {
    "duration": 48,
    "start_time": "2023-06-26T08:01:19.384Z"
   },
   {
    "duration": 36,
    "start_time": "2023-06-26T08:01:19.434Z"
   },
   {
    "duration": 16,
    "start_time": "2023-06-26T08:01:19.471Z"
   },
   {
    "duration": 12,
    "start_time": "2023-06-26T08:01:19.489Z"
   },
   {
    "duration": 28,
    "start_time": "2023-06-26T08:01:19.503Z"
   },
   {
    "duration": 8,
    "start_time": "2023-06-26T08:01:19.533Z"
   },
   {
    "duration": 12,
    "start_time": "2023-06-26T08:01:19.542Z"
   },
   {
    "duration": 13,
    "start_time": "2023-06-26T08:01:19.555Z"
   },
   {
    "duration": 11,
    "start_time": "2023-06-26T08:01:19.570Z"
   },
   {
    "duration": 15,
    "start_time": "2023-06-26T08:01:19.585Z"
   },
   {
    "duration": 36,
    "start_time": "2023-06-26T08:01:19.601Z"
   },
   {
    "duration": 5,
    "start_time": "2023-06-26T08:01:19.639Z"
   },
   {
    "duration": 105,
    "start_time": "2023-06-26T08:01:19.645Z"
   },
   {
    "duration": 34,
    "start_time": "2023-06-26T08:01:19.752Z"
   },
   {
    "duration": 6,
    "start_time": "2023-06-26T08:01:19.787Z"
   },
   {
    "duration": 267,
    "start_time": "2023-06-26T08:01:19.794Z"
   },
   {
    "duration": 20,
    "start_time": "2023-06-26T08:01:20.063Z"
   },
   {
    "duration": 14,
    "start_time": "2023-06-26T08:01:20.085Z"
   },
   {
    "duration": 27,
    "start_time": "2023-06-26T08:01:20.100Z"
   },
   {
    "duration": 5,
    "start_time": "2023-06-26T08:01:20.129Z"
   },
   {
    "duration": 15,
    "start_time": "2023-06-26T08:01:20.135Z"
   },
   {
    "duration": 43,
    "start_time": "2023-06-26T08:01:20.151Z"
   },
   {
    "duration": 54,
    "start_time": "2023-06-26T08:01:20.196Z"
   },
   {
    "duration": 5,
    "start_time": "2023-06-26T08:01:20.252Z"
   },
   {
    "duration": 21,
    "start_time": "2023-06-26T08:01:20.259Z"
   },
   {
    "duration": 25,
    "start_time": "2023-06-26T08:01:20.282Z"
   },
   {
    "duration": 47,
    "start_time": "2023-06-26T08:01:20.309Z"
   },
   {
    "duration": 24,
    "start_time": "2023-06-26T08:01:20.358Z"
   },
   {
    "duration": 27,
    "start_time": "2023-06-26T08:01:20.383Z"
   },
   {
    "duration": 27,
    "start_time": "2023-06-26T08:01:20.412Z"
   },
   {
    "duration": 117,
    "start_time": "2023-06-26T08:01:20.441Z"
   },
   {
    "duration": 33,
    "start_time": "2023-06-26T08:01:20.560Z"
   },
   {
    "duration": 18,
    "start_time": "2023-06-26T08:01:20.595Z"
   },
   {
    "duration": 49,
    "start_time": "2023-06-26T08:01:20.615Z"
   },
   {
    "duration": 244,
    "start_time": "2023-06-26T08:01:20.666Z"
   },
   {
    "duration": 33,
    "start_time": "2023-06-26T08:01:20.912Z"
   },
   {
    "duration": 46,
    "start_time": "2023-06-26T08:01:20.946Z"
   },
   {
    "duration": 29,
    "start_time": "2023-06-26T08:01:20.994Z"
   },
   {
    "duration": 6,
    "start_time": "2023-06-26T08:01:21.024Z"
   },
   {
    "duration": 27,
    "start_time": "2023-06-26T08:01:21.031Z"
   },
   {
    "duration": 23,
    "start_time": "2023-06-26T08:01:21.060Z"
   },
   {
    "duration": 321,
    "start_time": "2023-06-26T08:01:21.085Z"
   },
   {
    "duration": 35,
    "start_time": "2023-06-26T08:01:21.408Z"
   },
   {
    "duration": 728,
    "start_time": "2023-06-26T08:01:21.444Z"
   },
   {
    "duration": 106,
    "start_time": "2023-06-26T08:01:22.173Z"
   },
   {
    "duration": 0,
    "start_time": "2023-06-26T08:01:22.280Z"
   },
   {
    "duration": 1,
    "start_time": "2023-06-26T08:01:22.281Z"
   },
   {
    "duration": 0,
    "start_time": "2023-06-26T08:01:22.283Z"
   },
   {
    "duration": 0,
    "start_time": "2023-06-26T08:01:22.284Z"
   },
   {
    "duration": 0,
    "start_time": "2023-06-26T08:01:22.285Z"
   },
   {
    "duration": 11,
    "start_time": "2023-06-26T08:02:31.440Z"
   },
   {
    "duration": 47,
    "start_time": "2023-06-26T08:02:38.530Z"
   },
   {
    "duration": 1704,
    "start_time": "2023-06-26T08:03:23.611Z"
   },
   {
    "duration": 562,
    "start_time": "2023-06-26T08:03:25.317Z"
   },
   {
    "duration": 18,
    "start_time": "2023-06-26T08:03:25.880Z"
   },
   {
    "duration": 8,
    "start_time": "2023-06-26T08:03:25.899Z"
   },
   {
    "duration": 12,
    "start_time": "2023-06-26T08:03:25.908Z"
   },
   {
    "duration": 16,
    "start_time": "2023-06-26T08:03:25.922Z"
   },
   {
    "duration": 15,
    "start_time": "2023-06-26T08:03:25.939Z"
   },
   {
    "duration": 14,
    "start_time": "2023-06-26T08:03:25.955Z"
   },
   {
    "duration": 14,
    "start_time": "2023-06-26T08:03:25.970Z"
   },
   {
    "duration": 34,
    "start_time": "2023-06-26T08:03:25.986Z"
   },
   {
    "duration": 52,
    "start_time": "2023-06-26T08:03:26.022Z"
   },
   {
    "duration": 7,
    "start_time": "2023-06-26T08:03:26.075Z"
   },
   {
    "duration": 31,
    "start_time": "2023-06-26T08:03:26.083Z"
   },
   {
    "duration": 19,
    "start_time": "2023-06-26T08:03:26.116Z"
   },
   {
    "duration": 69,
    "start_time": "2023-06-26T08:03:26.136Z"
   },
   {
    "duration": 260,
    "start_time": "2023-06-26T08:03:26.206Z"
   },
   {
    "duration": 50,
    "start_time": "2023-06-26T08:03:26.468Z"
   },
   {
    "duration": 57,
    "start_time": "2023-06-26T08:03:26.520Z"
   },
   {
    "duration": 38,
    "start_time": "2023-06-26T08:03:26.579Z"
   },
   {
    "duration": 37,
    "start_time": "2023-06-26T08:03:26.619Z"
   },
   {
    "duration": 15,
    "start_time": "2023-06-26T08:03:26.657Z"
   },
   {
    "duration": 17,
    "start_time": "2023-06-26T08:03:26.673Z"
   },
   {
    "duration": 19,
    "start_time": "2023-06-26T08:03:26.691Z"
   },
   {
    "duration": 9,
    "start_time": "2023-06-26T08:03:26.711Z"
   },
   {
    "duration": 18,
    "start_time": "2023-06-26T08:03:26.722Z"
   },
   {
    "duration": 22,
    "start_time": "2023-06-26T08:03:26.741Z"
   },
   {
    "duration": 16,
    "start_time": "2023-06-26T08:03:26.765Z"
   },
   {
    "duration": 16,
    "start_time": "2023-06-26T08:03:26.785Z"
   },
   {
    "duration": 28,
    "start_time": "2023-06-26T08:03:26.802Z"
   },
   {
    "duration": 5,
    "start_time": "2023-06-26T08:03:26.832Z"
   },
   {
    "duration": 93,
    "start_time": "2023-06-26T08:03:26.838Z"
   },
   {
    "duration": 41,
    "start_time": "2023-06-26T08:03:26.933Z"
   },
   {
    "duration": 20,
    "start_time": "2023-06-26T08:03:26.976Z"
   },
   {
    "duration": 263,
    "start_time": "2023-06-26T08:03:26.998Z"
   },
   {
    "duration": 19,
    "start_time": "2023-06-26T08:03:27.262Z"
   },
   {
    "duration": 28,
    "start_time": "2023-06-26T08:03:27.282Z"
   },
   {
    "duration": 23,
    "start_time": "2023-06-26T08:03:27.311Z"
   },
   {
    "duration": 41,
    "start_time": "2023-06-26T08:03:27.335Z"
   },
   {
    "duration": 46,
    "start_time": "2023-06-26T08:03:27.378Z"
   },
   {
    "duration": 17,
    "start_time": "2023-06-26T08:03:27.426Z"
   },
   {
    "duration": 49,
    "start_time": "2023-06-26T08:03:27.444Z"
   },
   {
    "duration": 4,
    "start_time": "2023-06-26T08:03:27.495Z"
   },
   {
    "duration": 24,
    "start_time": "2023-06-26T08:03:27.501Z"
   },
   {
    "duration": 32,
    "start_time": "2023-06-26T08:03:27.527Z"
   },
   {
    "duration": 31,
    "start_time": "2023-06-26T08:03:27.561Z"
   },
   {
    "duration": 34,
    "start_time": "2023-06-26T08:03:27.593Z"
   },
   {
    "duration": 26,
    "start_time": "2023-06-26T08:03:27.628Z"
   },
   {
    "duration": 18,
    "start_time": "2023-06-26T08:03:27.655Z"
   },
   {
    "duration": 51,
    "start_time": "2023-06-26T08:03:27.674Z"
   },
   {
    "duration": 16,
    "start_time": "2023-06-26T08:03:27.726Z"
   },
   {
    "duration": 22,
    "start_time": "2023-06-26T08:03:27.744Z"
   },
   {
    "duration": 34,
    "start_time": "2023-06-26T08:03:27.767Z"
   },
   {
    "duration": 162,
    "start_time": "2023-06-26T08:03:27.802Z"
   },
   {
    "duration": 26,
    "start_time": "2023-06-26T08:03:27.966Z"
   },
   {
    "duration": 20,
    "start_time": "2023-06-26T08:03:27.993Z"
   },
   {
    "duration": 31,
    "start_time": "2023-06-26T08:03:28.031Z"
   },
   {
    "duration": 5,
    "start_time": "2023-06-26T08:03:28.063Z"
   },
   {
    "duration": 8,
    "start_time": "2023-06-26T08:03:28.069Z"
   },
   {
    "duration": 34,
    "start_time": "2023-06-26T08:03:28.079Z"
   },
   {
    "duration": 307,
    "start_time": "2023-06-26T08:03:28.114Z"
   },
   {
    "duration": 30,
    "start_time": "2023-06-26T08:03:28.423Z"
   },
   {
    "duration": 646,
    "start_time": "2023-06-26T08:03:28.454Z"
   },
   {
    "duration": 103,
    "start_time": "2023-06-26T08:03:29.102Z"
   },
   {
    "duration": 0,
    "start_time": "2023-06-26T08:03:29.206Z"
   },
   {
    "duration": 0,
    "start_time": "2023-06-26T08:03:29.208Z"
   },
   {
    "duration": 0,
    "start_time": "2023-06-26T08:03:29.209Z"
   },
   {
    "duration": 0,
    "start_time": "2023-06-26T08:03:29.210Z"
   },
   {
    "duration": 0,
    "start_time": "2023-06-26T08:03:29.211Z"
   },
   {
    "duration": 117,
    "start_time": "2023-06-26T08:03:53.008Z"
   },
   {
    "duration": 6,
    "start_time": "2023-06-26T08:03:56.024Z"
   },
   {
    "duration": 6,
    "start_time": "2023-06-26T08:03:56.612Z"
   },
   {
    "duration": 53,
    "start_time": "2023-06-26T08:03:59.652Z"
   },
   {
    "duration": 1352,
    "start_time": "2023-06-26T08:05:56.502Z"
   },
   {
    "duration": 640,
    "start_time": "2023-06-26T08:05:57.857Z"
   },
   {
    "duration": 20,
    "start_time": "2023-06-26T08:05:58.499Z"
   },
   {
    "duration": 5,
    "start_time": "2023-06-26T08:05:58.521Z"
   },
   {
    "duration": 4,
    "start_time": "2023-06-26T08:05:58.534Z"
   },
   {
    "duration": 15,
    "start_time": "2023-06-26T08:05:58.545Z"
   },
   {
    "duration": 10,
    "start_time": "2023-06-26T08:05:58.562Z"
   },
   {
    "duration": 24,
    "start_time": "2023-06-26T08:05:58.573Z"
   },
   {
    "duration": 10,
    "start_time": "2023-06-26T08:05:58.599Z"
   },
   {
    "duration": 33,
    "start_time": "2023-06-26T08:05:58.610Z"
   },
   {
    "duration": 32,
    "start_time": "2023-06-26T08:05:58.645Z"
   },
   {
    "duration": 7,
    "start_time": "2023-06-26T08:05:58.679Z"
   },
   {
    "duration": 33,
    "start_time": "2023-06-26T08:05:58.688Z"
   },
   {
    "duration": 28,
    "start_time": "2023-06-26T08:05:58.724Z"
   },
   {
    "duration": 103,
    "start_time": "2023-06-26T08:05:58.753Z"
   },
   {
    "duration": 289,
    "start_time": "2023-06-26T08:05:58.858Z"
   },
   {
    "duration": 54,
    "start_time": "2023-06-26T08:05:59.149Z"
   },
   {
    "duration": 50,
    "start_time": "2023-06-26T08:05:59.204Z"
   },
   {
    "duration": 32,
    "start_time": "2023-06-26T08:05:59.256Z"
   },
   {
    "duration": 62,
    "start_time": "2023-06-26T08:05:59.290Z"
   },
   {
    "duration": 20,
    "start_time": "2023-06-26T08:05:59.354Z"
   },
   {
    "duration": 12,
    "start_time": "2023-06-26T08:05:59.375Z"
   },
   {
    "duration": 21,
    "start_time": "2023-06-26T08:05:59.388Z"
   },
   {
    "duration": 9,
    "start_time": "2023-06-26T08:05:59.410Z"
   },
   {
    "duration": 11,
    "start_time": "2023-06-26T08:05:59.432Z"
   },
   {
    "duration": 44,
    "start_time": "2023-06-26T08:05:59.445Z"
   },
   {
    "duration": 29,
    "start_time": "2023-06-26T08:05:59.491Z"
   },
   {
    "duration": 34,
    "start_time": "2023-06-26T08:05:59.521Z"
   },
   {
    "duration": 36,
    "start_time": "2023-06-26T08:05:59.556Z"
   },
   {
    "duration": 5,
    "start_time": "2023-06-26T08:05:59.593Z"
   },
   {
    "duration": 110,
    "start_time": "2023-06-26T08:05:59.600Z"
   },
   {
    "duration": 47,
    "start_time": "2023-06-26T08:05:59.711Z"
   },
   {
    "duration": 31,
    "start_time": "2023-06-26T08:05:59.760Z"
   },
   {
    "duration": 290,
    "start_time": "2023-06-26T08:05:59.792Z"
   },
   {
    "duration": 19,
    "start_time": "2023-06-26T08:06:00.084Z"
   },
   {
    "duration": 48,
    "start_time": "2023-06-26T08:06:00.105Z"
   },
   {
    "duration": 33,
    "start_time": "2023-06-26T08:06:00.154Z"
   },
   {
    "duration": 14,
    "start_time": "2023-06-26T08:06:00.188Z"
   },
   {
    "duration": 25,
    "start_time": "2023-06-26T08:06:00.203Z"
   },
   {
    "duration": 35,
    "start_time": "2023-06-26T08:06:00.230Z"
   },
   {
    "duration": 53,
    "start_time": "2023-06-26T08:06:00.270Z"
   },
   {
    "duration": 4,
    "start_time": "2023-06-26T08:06:00.325Z"
   },
   {
    "duration": 49,
    "start_time": "2023-06-26T08:06:00.330Z"
   },
   {
    "duration": 24,
    "start_time": "2023-06-26T08:06:00.380Z"
   },
   {
    "duration": 43,
    "start_time": "2023-06-26T08:06:00.406Z"
   },
   {
    "duration": 56,
    "start_time": "2023-06-26T08:06:00.450Z"
   },
   {
    "duration": 54,
    "start_time": "2023-06-26T08:06:00.507Z"
   },
   {
    "duration": 146,
    "start_time": "2023-06-26T08:06:00.562Z"
   },
   {
    "duration": 79,
    "start_time": "2023-06-26T08:06:00.709Z"
   },
   {
    "duration": 103,
    "start_time": "2023-06-26T08:06:00.790Z"
   },
   {
    "duration": 216,
    "start_time": "2023-06-26T08:06:00.894Z"
   },
   {
    "duration": 252,
    "start_time": "2023-06-26T08:06:01.112Z"
   },
   {
    "duration": 339,
    "start_time": "2023-06-26T08:06:01.365Z"
   },
   {
    "duration": 124,
    "start_time": "2023-06-26T08:06:01.705Z"
   },
   {
    "duration": 165,
    "start_time": "2023-06-26T08:06:01.831Z"
   },
   {
    "duration": 68,
    "start_time": "2023-06-26T08:06:01.998Z"
   },
   {
    "duration": 52,
    "start_time": "2023-06-26T08:06:02.068Z"
   },
   {
    "duration": 69,
    "start_time": "2023-06-26T08:06:02.122Z"
   },
   {
    "duration": 61,
    "start_time": "2023-06-26T08:06:02.193Z"
   },
   {
    "duration": 345,
    "start_time": "2023-06-26T08:06:02.256Z"
   },
   {
    "duration": 30,
    "start_time": "2023-06-26T08:06:02.602Z"
   },
   {
    "duration": 688,
    "start_time": "2023-06-26T08:06:02.633Z"
   },
   {
    "duration": 162,
    "start_time": "2023-06-26T08:06:03.322Z"
   },
   {
    "duration": 6,
    "start_time": "2023-06-26T08:06:03.486Z"
   },
   {
    "duration": 19,
    "start_time": "2023-06-26T08:06:03.493Z"
   },
   {
    "duration": 1880,
    "start_time": "2023-06-26T10:14:41.549Z"
   },
   {
    "duration": 1212,
    "start_time": "2023-06-26T10:14:43.431Z"
   },
   {
    "duration": 35,
    "start_time": "2023-06-26T10:14:44.647Z"
   },
   {
    "duration": 48,
    "start_time": "2023-06-26T10:14:44.684Z"
   },
   {
    "duration": 45,
    "start_time": "2023-06-26T10:14:44.734Z"
   },
   {
    "duration": 31,
    "start_time": "2023-06-26T10:14:44.781Z"
   },
   {
    "duration": 32,
    "start_time": "2023-06-26T10:14:44.815Z"
   },
   {
    "duration": 38,
    "start_time": "2023-06-26T10:14:44.849Z"
   },
   {
    "duration": 37,
    "start_time": "2023-06-26T10:14:44.889Z"
   },
   {
    "duration": 67,
    "start_time": "2023-06-26T10:14:44.928Z"
   },
   {
    "duration": 48,
    "start_time": "2023-06-26T10:14:44.998Z"
   },
   {
    "duration": 47,
    "start_time": "2023-06-26T10:14:45.047Z"
   },
   {
    "duration": 52,
    "start_time": "2023-06-26T10:14:45.097Z"
   },
   {
    "duration": 68,
    "start_time": "2023-06-26T10:14:45.151Z"
   },
   {
    "duration": 113,
    "start_time": "2023-06-26T10:14:45.221Z"
   },
   {
    "duration": 360,
    "start_time": "2023-06-26T10:14:45.337Z"
   },
   {
    "duration": 81,
    "start_time": "2023-06-26T10:14:45.699Z"
   },
   {
    "duration": 45,
    "start_time": "2023-06-26T10:14:45.782Z"
   },
   {
    "duration": 69,
    "start_time": "2023-06-26T10:14:45.828Z"
   },
   {
    "duration": 90,
    "start_time": "2023-06-26T10:14:45.899Z"
   },
   {
    "duration": 69,
    "start_time": "2023-06-26T10:14:45.991Z"
   },
   {
    "duration": 26,
    "start_time": "2023-06-26T10:14:46.063Z"
   },
   {
    "duration": 45,
    "start_time": "2023-06-26T10:14:46.090Z"
   },
   {
    "duration": 40,
    "start_time": "2023-06-26T10:14:46.137Z"
   },
   {
    "duration": 35,
    "start_time": "2023-06-26T10:14:46.179Z"
   },
   {
    "duration": 45,
    "start_time": "2023-06-26T10:14:46.216Z"
   },
   {
    "duration": 20,
    "start_time": "2023-06-26T10:14:46.263Z"
   },
   {
    "duration": 43,
    "start_time": "2023-06-26T10:14:46.285Z"
   },
   {
    "duration": 68,
    "start_time": "2023-06-26T10:14:46.330Z"
   },
   {
    "duration": 7,
    "start_time": "2023-06-26T10:14:46.401Z"
   },
   {
    "duration": 164,
    "start_time": "2023-06-26T10:14:46.411Z"
   },
   {
    "duration": 38,
    "start_time": "2023-06-26T10:14:46.577Z"
   },
   {
    "duration": 9,
    "start_time": "2023-06-26T10:14:46.616Z"
   },
   {
    "duration": 341,
    "start_time": "2023-06-26T10:14:46.626Z"
   },
   {
    "duration": 27,
    "start_time": "2023-06-26T10:14:46.970Z"
   },
   {
    "duration": 19,
    "start_time": "2023-06-26T10:14:46.998Z"
   },
   {
    "duration": 34,
    "start_time": "2023-06-26T10:14:47.018Z"
   },
   {
    "duration": 27,
    "start_time": "2023-06-26T10:14:47.057Z"
   },
   {
    "duration": 12,
    "start_time": "2023-06-26T10:14:47.086Z"
   },
   {
    "duration": 16,
    "start_time": "2023-06-26T10:14:47.104Z"
   },
   {
    "duration": 77,
    "start_time": "2023-06-26T10:14:47.122Z"
   },
   {
    "duration": 5,
    "start_time": "2023-06-26T10:14:47.202Z"
   },
   {
    "duration": 65,
    "start_time": "2023-06-26T10:14:47.209Z"
   },
   {
    "duration": 50,
    "start_time": "2023-06-26T10:14:47.276Z"
   },
   {
    "duration": 39,
    "start_time": "2023-06-26T10:14:47.329Z"
   },
   {
    "duration": 36,
    "start_time": "2023-06-26T10:14:47.370Z"
   },
   {
    "duration": 43,
    "start_time": "2023-06-26T10:14:47.408Z"
   },
   {
    "duration": 35,
    "start_time": "2023-06-26T10:14:47.453Z"
   },
   {
    "duration": 68,
    "start_time": "2023-06-26T10:14:47.491Z"
   },
   {
    "duration": 20,
    "start_time": "2023-06-26T10:14:47.561Z"
   },
   {
    "duration": 42,
    "start_time": "2023-06-26T10:14:47.584Z"
   },
   {
    "duration": 42,
    "start_time": "2023-06-26T10:14:47.627Z"
   },
   {
    "duration": 206,
    "start_time": "2023-06-26T10:14:47.673Z"
   },
   {
    "duration": 28,
    "start_time": "2023-06-26T10:14:47.881Z"
   },
   {
    "duration": 78,
    "start_time": "2023-06-26T10:14:47.911Z"
   },
   {
    "duration": 55,
    "start_time": "2023-06-26T10:14:47.991Z"
   },
   {
    "duration": 13,
    "start_time": "2023-06-26T10:14:48.048Z"
   },
   {
    "duration": 38,
    "start_time": "2023-06-26T10:14:48.063Z"
   },
   {
    "duration": 100,
    "start_time": "2023-06-26T10:14:48.103Z"
   },
   {
    "duration": 416,
    "start_time": "2023-06-26T10:14:48.204Z"
   },
   {
    "duration": 45,
    "start_time": "2023-06-26T10:14:48.621Z"
   },
   {
    "duration": 911,
    "start_time": "2023-06-26T10:14:48.669Z"
   },
   {
    "duration": 163,
    "start_time": "2023-06-26T10:14:49.582Z"
   },
   {
    "duration": 20,
    "start_time": "2023-06-26T10:14:49.754Z"
   },
   {
    "duration": 30,
    "start_time": "2023-06-26T10:14:49.777Z"
   },
   {
    "duration": 1632,
    "start_time": "2023-06-26T10:23:42.363Z"
   },
   {
    "duration": 734,
    "start_time": "2023-06-26T10:23:43.997Z"
   },
   {
    "duration": 23,
    "start_time": "2023-06-26T10:23:44.733Z"
   },
   {
    "duration": 22,
    "start_time": "2023-06-26T10:23:44.761Z"
   },
   {
    "duration": 19,
    "start_time": "2023-06-26T10:23:44.786Z"
   },
   {
    "duration": 17,
    "start_time": "2023-06-26T10:23:44.807Z"
   },
   {
    "duration": 12,
    "start_time": "2023-06-26T10:23:44.826Z"
   },
   {
    "duration": 8,
    "start_time": "2023-06-26T10:23:44.840Z"
   },
   {
    "duration": 27,
    "start_time": "2023-06-26T10:23:44.850Z"
   },
   {
    "duration": 44,
    "start_time": "2023-06-26T10:23:44.879Z"
   },
   {
    "duration": 40,
    "start_time": "2023-06-26T10:23:44.925Z"
   },
   {
    "duration": 9,
    "start_time": "2023-06-26T10:23:44.967Z"
   },
   {
    "duration": 35,
    "start_time": "2023-06-26T10:23:44.978Z"
   },
   {
    "duration": 59,
    "start_time": "2023-06-26T10:23:45.015Z"
   },
   {
    "duration": 137,
    "start_time": "2023-06-26T10:23:45.076Z"
   },
   {
    "duration": 373,
    "start_time": "2023-06-26T10:23:45.215Z"
   },
   {
    "duration": 67,
    "start_time": "2023-06-26T10:23:45.590Z"
   },
   {
    "duration": 42,
    "start_time": "2023-06-26T10:23:45.662Z"
   },
   {
    "duration": 52,
    "start_time": "2023-06-26T10:23:45.706Z"
   },
   {
    "duration": 46,
    "start_time": "2023-06-26T10:23:45.765Z"
   },
   {
    "duration": 21,
    "start_time": "2023-06-26T10:23:45.813Z"
   },
   {
    "duration": 12,
    "start_time": "2023-06-26T10:23:45.836Z"
   },
   {
    "duration": 29,
    "start_time": "2023-06-26T10:23:45.855Z"
   },
   {
    "duration": 19,
    "start_time": "2023-06-26T10:23:45.887Z"
   },
   {
    "duration": 9,
    "start_time": "2023-06-26T10:23:45.908Z"
   },
   {
    "duration": 40,
    "start_time": "2023-06-26T10:23:45.919Z"
   },
   {
    "duration": 22,
    "start_time": "2023-06-26T10:23:45.961Z"
   },
   {
    "duration": 21,
    "start_time": "2023-06-26T10:23:45.987Z"
   },
   {
    "duration": 124,
    "start_time": "2023-06-26T10:23:46.010Z"
   },
   {
    "duration": 7,
    "start_time": "2023-06-26T10:23:46.137Z"
   },
   {
    "duration": 156,
    "start_time": "2023-06-26T10:23:46.147Z"
   },
   {
    "duration": 65,
    "start_time": "2023-06-26T10:23:46.305Z"
   },
   {
    "duration": 31,
    "start_time": "2023-06-26T10:23:46.372Z"
   },
   {
    "duration": 334,
    "start_time": "2023-06-26T10:23:46.405Z"
   },
   {
    "duration": 44,
    "start_time": "2023-06-26T10:23:46.741Z"
   },
   {
    "duration": 31,
    "start_time": "2023-06-26T10:23:46.787Z"
   },
   {
    "duration": 58,
    "start_time": "2023-06-26T10:23:46.821Z"
   },
   {
    "duration": 32,
    "start_time": "2023-06-26T10:23:46.881Z"
   },
   {
    "duration": 64,
    "start_time": "2023-06-26T10:23:46.915Z"
   },
   {
    "duration": 54,
    "start_time": "2023-06-26T10:23:46.982Z"
   },
   {
    "duration": 105,
    "start_time": "2023-06-26T10:23:47.038Z"
   },
   {
    "duration": 17,
    "start_time": "2023-06-26T10:23:47.145Z"
   },
   {
    "duration": 37,
    "start_time": "2023-06-26T10:23:47.165Z"
   },
   {
    "duration": 18,
    "start_time": "2023-06-26T10:23:47.204Z"
   },
   {
    "duration": 68,
    "start_time": "2023-06-26T10:23:47.224Z"
   },
   {
    "duration": 47,
    "start_time": "2023-06-26T10:23:47.294Z"
   },
   {
    "duration": 63,
    "start_time": "2023-06-26T10:23:47.343Z"
   },
   {
    "duration": 44,
    "start_time": "2023-06-26T10:23:47.407Z"
   },
   {
    "duration": 70,
    "start_time": "2023-06-26T10:23:47.453Z"
   },
   {
    "duration": 120,
    "start_time": "2023-06-26T10:23:47.525Z"
   },
   {
    "duration": 43,
    "start_time": "2023-06-26T10:23:47.647Z"
   },
   {
    "duration": 56,
    "start_time": "2023-06-26T10:23:47.692Z"
   },
   {
    "duration": 233,
    "start_time": "2023-06-26T10:23:47.750Z"
   },
   {
    "duration": 39,
    "start_time": "2023-06-26T10:23:47.987Z"
   },
   {
    "duration": 51,
    "start_time": "2023-06-26T10:23:48.028Z"
   },
   {
    "duration": 50,
    "start_time": "2023-06-26T10:23:48.082Z"
   },
   {
    "duration": 16,
    "start_time": "2023-06-26T10:23:48.134Z"
   },
   {
    "duration": 32,
    "start_time": "2023-06-26T10:23:48.152Z"
   },
   {
    "duration": 45,
    "start_time": "2023-06-26T10:23:48.186Z"
   },
   {
    "duration": 422,
    "start_time": "2023-06-26T10:23:48.233Z"
   },
   {
    "duration": 40,
    "start_time": "2023-06-26T10:23:48.658Z"
   },
   {
    "duration": 990,
    "start_time": "2023-06-26T10:23:48.700Z"
   },
   {
    "duration": 168,
    "start_time": "2023-06-26T10:23:49.692Z"
   },
   {
    "duration": 10,
    "start_time": "2023-06-26T10:23:49.862Z"
   },
   {
    "duration": 51,
    "start_time": "2023-06-26T10:23:49.873Z"
   },
   {
    "duration": 1692,
    "start_time": "2023-06-26T10:24:12.290Z"
   },
   {
    "duration": 845,
    "start_time": "2023-06-26T10:24:13.989Z"
   },
   {
    "duration": 33,
    "start_time": "2023-06-26T10:24:14.837Z"
   },
   {
    "duration": 42,
    "start_time": "2023-06-26T10:24:14.872Z"
   },
   {
    "duration": 56,
    "start_time": "2023-06-26T10:24:14.916Z"
   },
   {
    "duration": 73,
    "start_time": "2023-06-26T10:24:14.973Z"
   },
   {
    "duration": 67,
    "start_time": "2023-06-26T10:24:15.049Z"
   },
   {
    "duration": 35,
    "start_time": "2023-06-26T10:24:15.118Z"
   },
   {
    "duration": 61,
    "start_time": "2023-06-26T10:24:15.156Z"
   },
   {
    "duration": 61,
    "start_time": "2023-06-26T10:24:15.219Z"
   },
   {
    "duration": 44,
    "start_time": "2023-06-26T10:24:15.283Z"
   },
   {
    "duration": 11,
    "start_time": "2023-06-26T10:24:15.330Z"
   },
   {
    "duration": 40,
    "start_time": "2023-06-26T10:24:15.358Z"
   },
   {
    "duration": 24,
    "start_time": "2023-06-26T10:24:15.404Z"
   },
   {
    "duration": 141,
    "start_time": "2023-06-26T10:24:15.429Z"
   },
   {
    "duration": 358,
    "start_time": "2023-06-26T10:24:15.584Z"
   },
   {
    "duration": 122,
    "start_time": "2023-06-26T10:24:15.944Z"
   },
   {
    "duration": 94,
    "start_time": "2023-06-26T10:24:16.072Z"
   },
   {
    "duration": 106,
    "start_time": "2023-06-26T10:24:16.168Z"
   },
   {
    "duration": 120,
    "start_time": "2023-06-26T10:24:16.275Z"
   },
   {
    "duration": 20,
    "start_time": "2023-06-26T10:24:16.404Z"
   },
   {
    "duration": 24,
    "start_time": "2023-06-26T10:24:16.427Z"
   },
   {
    "duration": 75,
    "start_time": "2023-06-26T10:24:16.453Z"
   },
   {
    "duration": 75,
    "start_time": "2023-06-26T10:24:16.530Z"
   },
   {
    "duration": 19,
    "start_time": "2023-06-26T10:24:16.607Z"
   },
   {
    "duration": 38,
    "start_time": "2023-06-26T10:24:16.628Z"
   },
   {
    "duration": 43,
    "start_time": "2023-06-26T10:24:16.668Z"
   },
   {
    "duration": 101,
    "start_time": "2023-06-26T10:24:16.713Z"
   },
   {
    "duration": 31,
    "start_time": "2023-06-26T10:24:16.816Z"
   },
   {
    "duration": 17,
    "start_time": "2023-06-26T10:24:16.849Z"
   },
   {
    "duration": 181,
    "start_time": "2023-06-26T10:24:16.868Z"
   },
   {
    "duration": 69,
    "start_time": "2023-06-26T10:24:17.059Z"
   },
   {
    "duration": 8,
    "start_time": "2023-06-26T10:24:17.130Z"
   },
   {
    "duration": 434,
    "start_time": "2023-06-26T10:24:17.140Z"
   },
   {
    "duration": 45,
    "start_time": "2023-06-26T10:24:17.576Z"
   },
   {
    "duration": 9,
    "start_time": "2023-06-26T10:24:17.623Z"
   },
   {
    "duration": 33,
    "start_time": "2023-06-26T10:24:17.634Z"
   },
   {
    "duration": 38,
    "start_time": "2023-06-26T10:24:17.671Z"
   },
   {
    "duration": 18,
    "start_time": "2023-06-26T10:24:17.711Z"
   },
   {
    "duration": 33,
    "start_time": "2023-06-26T10:24:17.731Z"
   },
   {
    "duration": 50,
    "start_time": "2023-06-26T10:24:17.783Z"
   },
   {
    "duration": 5,
    "start_time": "2023-06-26T10:24:17.836Z"
   },
   {
    "duration": 67,
    "start_time": "2023-06-26T10:24:17.844Z"
   },
   {
    "duration": 31,
    "start_time": "2023-06-26T10:24:17.913Z"
   },
   {
    "duration": 68,
    "start_time": "2023-06-26T10:24:17.946Z"
   },
   {
    "duration": 30,
    "start_time": "2023-06-26T10:24:18.016Z"
   },
   {
    "duration": 34,
    "start_time": "2023-06-26T10:24:18.049Z"
   },
   {
    "duration": 76,
    "start_time": "2023-06-26T10:24:18.085Z"
   },
   {
    "duration": 69,
    "start_time": "2023-06-26T10:24:18.166Z"
   },
   {
    "duration": 24,
    "start_time": "2023-06-26T10:24:18.237Z"
   },
   {
    "duration": 48,
    "start_time": "2023-06-26T10:24:18.268Z"
   },
   {
    "duration": 28,
    "start_time": "2023-06-26T10:24:18.319Z"
   },
   {
    "duration": 257,
    "start_time": "2023-06-26T10:24:18.349Z"
   },
   {
    "duration": 52,
    "start_time": "2023-06-26T10:24:18.608Z"
   },
   {
    "duration": 47,
    "start_time": "2023-06-26T10:24:18.662Z"
   },
   {
    "duration": 63,
    "start_time": "2023-06-26T10:24:18.711Z"
   },
   {
    "duration": 20,
    "start_time": "2023-06-26T10:24:18.785Z"
   },
   {
    "duration": 24,
    "start_time": "2023-06-26T10:24:18.808Z"
   },
   {
    "duration": 33,
    "start_time": "2023-06-26T10:24:18.835Z"
   },
   {
    "duration": 575,
    "start_time": "2023-06-26T10:24:18.870Z"
   },
   {
    "duration": 61,
    "start_time": "2023-06-26T10:24:19.448Z"
   },
   {
    "duration": 1015,
    "start_time": "2023-06-26T10:24:19.515Z"
   },
   {
    "duration": 193,
    "start_time": "2023-06-26T10:24:20.532Z"
   },
   {
    "duration": 8,
    "start_time": "2023-06-26T10:24:20.727Z"
   },
   {
    "duration": 77,
    "start_time": "2023-06-26T10:24:20.737Z"
   },
   {
    "duration": 1556,
    "start_time": "2023-06-26T10:30:23.760Z"
   },
   {
    "duration": 764,
    "start_time": "2023-06-26T10:30:25.318Z"
   },
   {
    "duration": 23,
    "start_time": "2023-06-26T10:30:26.086Z"
   },
   {
    "duration": 7,
    "start_time": "2023-06-26T10:30:26.113Z"
   },
   {
    "duration": 24,
    "start_time": "2023-06-26T10:30:26.122Z"
   },
   {
    "duration": 50,
    "start_time": "2023-06-26T10:30:26.148Z"
   },
   {
    "duration": 33,
    "start_time": "2023-06-26T10:30:26.201Z"
   },
   {
    "duration": 56,
    "start_time": "2023-06-26T10:30:26.236Z"
   },
   {
    "duration": 20,
    "start_time": "2023-06-26T10:30:26.295Z"
   },
   {
    "duration": 66,
    "start_time": "2023-06-26T10:30:26.320Z"
   },
   {
    "duration": 81,
    "start_time": "2023-06-26T10:30:26.389Z"
   },
   {
    "duration": 15,
    "start_time": "2023-06-26T10:30:26.483Z"
   },
   {
    "duration": 30,
    "start_time": "2023-06-26T10:30:26.501Z"
   },
   {
    "duration": 45,
    "start_time": "2023-06-26T10:30:26.533Z"
   },
   {
    "duration": 138,
    "start_time": "2023-06-26T10:30:26.582Z"
   },
   {
    "duration": 432,
    "start_time": "2023-06-26T10:30:26.722Z"
   },
   {
    "duration": 72,
    "start_time": "2023-06-26T10:30:27.164Z"
   },
   {
    "duration": 66,
    "start_time": "2023-06-26T10:30:27.238Z"
   },
   {
    "duration": 52,
    "start_time": "2023-06-26T10:30:27.306Z"
   },
   {
    "duration": 75,
    "start_time": "2023-06-26T10:30:27.360Z"
   },
   {
    "duration": 41,
    "start_time": "2023-06-26T10:30:27.437Z"
   },
   {
    "duration": 9,
    "start_time": "2023-06-26T10:30:27.481Z"
   },
   {
    "duration": 47,
    "start_time": "2023-06-26T10:30:27.492Z"
   },
   {
    "duration": 34,
    "start_time": "2023-06-26T10:30:27.541Z"
   },
   {
    "duration": 33,
    "start_time": "2023-06-26T10:30:27.577Z"
   },
   {
    "duration": 17,
    "start_time": "2023-06-26T10:30:27.612Z"
   },
   {
    "duration": 28,
    "start_time": "2023-06-26T10:30:27.632Z"
   },
   {
    "duration": 44,
    "start_time": "2023-06-26T10:30:27.665Z"
   },
   {
    "duration": 59,
    "start_time": "2023-06-26T10:30:27.711Z"
   },
   {
    "duration": 8,
    "start_time": "2023-06-26T10:30:27.776Z"
   },
   {
    "duration": 122,
    "start_time": "2023-06-26T10:30:27.785Z"
   },
   {
    "duration": 74,
    "start_time": "2023-06-26T10:30:27.909Z"
   },
   {
    "duration": 19,
    "start_time": "2023-06-26T10:30:27.985Z"
   },
   {
    "duration": 393,
    "start_time": "2023-06-26T10:30:28.007Z"
   },
   {
    "duration": 61,
    "start_time": "2023-06-26T10:30:28.402Z"
   },
   {
    "duration": 10,
    "start_time": "2023-06-26T10:30:28.465Z"
   },
   {
    "duration": 25,
    "start_time": "2023-06-26T10:30:28.481Z"
   },
   {
    "duration": 13,
    "start_time": "2023-06-26T10:30:28.508Z"
   },
   {
    "duration": 24,
    "start_time": "2023-06-26T10:30:28.524Z"
   },
   {
    "duration": 27,
    "start_time": "2023-06-26T10:30:28.553Z"
   },
   {
    "duration": 68,
    "start_time": "2023-06-26T10:30:28.583Z"
   },
   {
    "duration": 15,
    "start_time": "2023-06-26T10:30:28.653Z"
   },
   {
    "duration": 48,
    "start_time": "2023-06-26T10:30:28.674Z"
   },
   {
    "duration": 26,
    "start_time": "2023-06-26T10:30:28.724Z"
   },
   {
    "duration": 35,
    "start_time": "2023-06-26T10:30:28.752Z"
   },
   {
    "duration": 33,
    "start_time": "2023-06-26T10:30:28.789Z"
   },
   {
    "duration": 36,
    "start_time": "2023-06-26T10:30:28.824Z"
   },
   {
    "duration": 42,
    "start_time": "2023-06-26T10:30:28.862Z"
   },
   {
    "duration": 55,
    "start_time": "2023-06-26T10:30:28.907Z"
   },
   {
    "duration": 163,
    "start_time": "2023-06-26T10:30:28.965Z"
   },
   {
    "duration": 17,
    "start_time": "2023-06-26T10:30:29.131Z"
   },
   {
    "duration": 46,
    "start_time": "2023-06-26T10:30:29.151Z"
   },
   {
    "duration": 214,
    "start_time": "2023-06-26T10:30:29.200Z"
   },
   {
    "duration": 28,
    "start_time": "2023-06-26T10:30:29.416Z"
   },
   {
    "duration": 145,
    "start_time": "2023-06-26T10:30:29.455Z"
   },
   {
    "duration": 45,
    "start_time": "2023-06-26T10:30:29.603Z"
   },
   {
    "duration": 13,
    "start_time": "2023-06-26T10:30:29.651Z"
   },
   {
    "duration": 23,
    "start_time": "2023-06-26T10:30:29.666Z"
   },
   {
    "duration": 27,
    "start_time": "2023-06-26T10:30:29.692Z"
   },
   {
    "duration": 527,
    "start_time": "2023-06-26T10:30:29.721Z"
   },
   {
    "duration": 45,
    "start_time": "2023-06-26T10:30:30.250Z"
   },
   {
    "duration": 921,
    "start_time": "2023-06-26T10:30:30.297Z"
   },
   {
    "duration": 189,
    "start_time": "2023-06-26T10:30:31.220Z"
   },
   {
    "duration": 8,
    "start_time": "2023-06-26T10:30:31.411Z"
   },
   {
    "duration": 85,
    "start_time": "2023-06-26T10:30:31.421Z"
   },
   {
    "duration": 157,
    "start_time": "2023-06-26T10:30:31.508Z"
   },
   {
    "duration": 1611,
    "start_time": "2023-06-26T10:34:30.732Z"
   },
   {
    "duration": 974,
    "start_time": "2023-06-26T10:34:32.346Z"
   },
   {
    "duration": 8,
    "start_time": "2023-06-26T10:34:33.322Z"
   },
   {
    "duration": 78,
    "start_time": "2023-06-26T10:34:33.333Z"
   },
   {
    "duration": 26,
    "start_time": "2023-06-26T10:34:33.414Z"
   },
   {
    "duration": 14,
    "start_time": "2023-06-26T10:34:33.442Z"
   },
   {
    "duration": 60,
    "start_time": "2023-06-26T10:34:33.458Z"
   },
   {
    "duration": 60,
    "start_time": "2023-06-26T10:34:33.520Z"
   },
   {
    "duration": 26,
    "start_time": "2023-06-26T10:34:33.583Z"
   },
   {
    "duration": 9,
    "start_time": "2023-06-26T10:34:33.611Z"
   },
   {
    "duration": 62,
    "start_time": "2023-06-26T10:34:33.622Z"
   },
   {
    "duration": 52,
    "start_time": "2023-06-26T10:34:33.686Z"
   },
   {
    "duration": 20,
    "start_time": "2023-06-26T10:34:33.741Z"
   },
   {
    "duration": 370,
    "start_time": "2023-06-26T10:34:33.768Z"
   },
   {
    "duration": 33,
    "start_time": "2023-06-26T10:34:34.140Z"
   },
   {
    "duration": 174,
    "start_time": "2023-06-26T10:34:34.177Z"
   },
   {
    "duration": 445,
    "start_time": "2023-06-26T10:34:34.354Z"
   },
   {
    "duration": 85,
    "start_time": "2023-06-26T10:34:34.801Z"
   },
   {
    "duration": 57,
    "start_time": "2023-06-26T10:34:34.887Z"
   },
   {
    "duration": 70,
    "start_time": "2023-06-26T10:34:34.946Z"
   },
   {
    "duration": 92,
    "start_time": "2023-06-26T10:34:35.018Z"
   },
   {
    "duration": 47,
    "start_time": "2023-06-26T10:34:35.112Z"
   },
   {
    "duration": 40,
    "start_time": "2023-06-26T10:34:35.161Z"
   },
   {
    "duration": 40,
    "start_time": "2023-06-26T10:34:35.202Z"
   },
   {
    "duration": 62,
    "start_time": "2023-06-26T10:34:35.245Z"
   },
   {
    "duration": 18,
    "start_time": "2023-06-26T10:34:35.309Z"
   },
   {
    "duration": 58,
    "start_time": "2023-06-26T10:34:35.329Z"
   },
   {
    "duration": 32,
    "start_time": "2023-06-26T10:34:35.389Z"
   },
   {
    "duration": 51,
    "start_time": "2023-06-26T10:34:35.423Z"
   },
   {
    "duration": 101,
    "start_time": "2023-06-26T10:34:35.477Z"
   },
   {
    "duration": 8,
    "start_time": "2023-06-26T10:34:35.587Z"
   },
   {
    "duration": 288,
    "start_time": "2023-06-26T10:34:35.598Z"
   },
   {
    "duration": 89,
    "start_time": "2023-06-26T10:34:35.889Z"
   },
   {
    "duration": 12,
    "start_time": "2023-06-26T10:34:35.980Z"
   },
   {
    "duration": 544,
    "start_time": "2023-06-26T10:34:35.995Z"
   },
   {
    "duration": 54,
    "start_time": "2023-06-26T10:34:36.542Z"
   },
   {
    "duration": 23,
    "start_time": "2023-06-26T10:34:36.598Z"
   },
   {
    "duration": 37,
    "start_time": "2023-06-26T10:34:36.623Z"
   },
   {
    "duration": 43,
    "start_time": "2023-06-26T10:34:36.662Z"
   },
   {
    "duration": 42,
    "start_time": "2023-06-26T10:34:36.708Z"
   },
   {
    "duration": 49,
    "start_time": "2023-06-26T10:34:36.756Z"
   },
   {
    "duration": 71,
    "start_time": "2023-06-26T10:34:36.807Z"
   },
   {
    "duration": 5,
    "start_time": "2023-06-26T10:34:36.881Z"
   },
   {
    "duration": 163,
    "start_time": "2023-06-26T10:34:36.888Z"
   },
   {
    "duration": 36,
    "start_time": "2023-06-26T10:34:37.053Z"
   },
   {
    "duration": 15,
    "start_time": "2023-06-26T10:34:37.091Z"
   },
   {
    "duration": 18,
    "start_time": "2023-06-26T10:34:37.108Z"
   },
   {
    "duration": 20,
    "start_time": "2023-06-26T10:34:37.128Z"
   },
   {
    "duration": 29,
    "start_time": "2023-06-26T10:34:37.151Z"
   },
   {
    "duration": 46,
    "start_time": "2023-06-26T10:34:37.183Z"
   },
   {
    "duration": 10,
    "start_time": "2023-06-26T10:34:37.231Z"
   },
   {
    "duration": 16,
    "start_time": "2023-06-26T10:34:37.243Z"
   },
   {
    "duration": 38,
    "start_time": "2023-06-26T10:34:37.262Z"
   },
   {
    "duration": 280,
    "start_time": "2023-06-26T10:34:37.302Z"
   },
   {
    "duration": 44,
    "start_time": "2023-06-26T10:34:37.584Z"
   },
   {
    "duration": 55,
    "start_time": "2023-06-26T10:34:37.630Z"
   },
   {
    "duration": 93,
    "start_time": "2023-06-26T10:34:37.688Z"
   },
   {
    "duration": 26,
    "start_time": "2023-06-26T10:34:37.783Z"
   },
   {
    "duration": 23,
    "start_time": "2023-06-26T10:34:37.812Z"
   },
   {
    "duration": 70,
    "start_time": "2023-06-26T10:34:37.838Z"
   },
   {
    "duration": 568,
    "start_time": "2023-06-26T10:34:37.910Z"
   },
   {
    "duration": 45,
    "start_time": "2023-06-26T10:34:38.487Z"
   },
   {
    "duration": 1074,
    "start_time": "2023-06-26T10:34:38.535Z"
   },
   {
    "duration": 233,
    "start_time": "2023-06-26T10:34:39.612Z"
   },
   {
    "duration": 14,
    "start_time": "2023-06-26T10:34:39.848Z"
   },
   {
    "duration": 46,
    "start_time": "2023-06-26T10:34:39.870Z"
   },
   {
    "duration": 114,
    "start_time": "2023-06-26T10:34:39.918Z"
   },
   {
    "duration": 1680,
    "start_time": "2023-06-26T10:38:56.395Z"
   },
   {
    "duration": 792,
    "start_time": "2023-06-26T10:38:58.078Z"
   },
   {
    "duration": 11,
    "start_time": "2023-06-26T10:38:58.873Z"
   },
   {
    "duration": 49,
    "start_time": "2023-06-26T10:38:58.886Z"
   },
   {
    "duration": 54,
    "start_time": "2023-06-26T10:38:58.937Z"
   },
   {
    "duration": 34,
    "start_time": "2023-06-26T10:38:58.994Z"
   },
   {
    "duration": 67,
    "start_time": "2023-06-26T10:38:59.032Z"
   },
   {
    "duration": 85,
    "start_time": "2023-06-26T10:38:59.103Z"
   },
   {
    "duration": 30,
    "start_time": "2023-06-26T10:38:59.190Z"
   },
   {
    "duration": 30,
    "start_time": "2023-06-26T10:38:59.222Z"
   },
   {
    "duration": 89,
    "start_time": "2023-06-26T10:38:59.254Z"
   },
   {
    "duration": 63,
    "start_time": "2023-06-26T10:38:59.346Z"
   },
   {
    "duration": 15,
    "start_time": "2023-06-26T10:38:59.411Z"
   },
   {
    "duration": 58,
    "start_time": "2023-06-26T10:38:59.429Z"
   },
   {
    "duration": 35,
    "start_time": "2023-06-26T10:38:59.489Z"
   },
   {
    "duration": 105,
    "start_time": "2023-06-26T10:38:59.527Z"
   },
   {
    "duration": 384,
    "start_time": "2023-06-26T10:38:59.634Z"
   },
   {
    "duration": 95,
    "start_time": "2023-06-26T10:39:00.020Z"
   },
   {
    "duration": 130,
    "start_time": "2023-06-26T10:39:00.117Z"
   },
   {
    "duration": 211,
    "start_time": "2023-06-26T10:39:00.249Z"
   },
   {
    "duration": 177,
    "start_time": "2023-06-26T10:39:00.465Z"
   },
   {
    "duration": 112,
    "start_time": "2023-06-26T10:39:00.644Z"
   },
   {
    "duration": 115,
    "start_time": "2023-06-26T10:39:00.760Z"
   },
   {
    "duration": 126,
    "start_time": "2023-06-26T10:39:00.880Z"
   },
   {
    "duration": 150,
    "start_time": "2023-06-26T10:39:01.008Z"
   },
   {
    "duration": 113,
    "start_time": "2023-06-26T10:39:01.161Z"
   },
   {
    "duration": 107,
    "start_time": "2023-06-26T10:39:01.281Z"
   },
   {
    "duration": 73,
    "start_time": "2023-06-26T10:39:01.390Z"
   },
   {
    "duration": 220,
    "start_time": "2023-06-26T10:39:01.469Z"
   },
   {
    "duration": 325,
    "start_time": "2023-06-26T10:39:01.692Z"
   },
   {
    "duration": 126,
    "start_time": "2023-06-26T10:39:02.019Z"
   },
   {
    "duration": 323,
    "start_time": "2023-06-26T10:39:02.148Z"
   },
   {
    "duration": 162,
    "start_time": "2023-06-26T10:39:02.473Z"
   },
   {
    "duration": 31,
    "start_time": "2023-06-26T10:39:02.637Z"
   },
   {
    "duration": 488,
    "start_time": "2023-06-26T10:39:02.672Z"
   },
   {
    "duration": 31,
    "start_time": "2023-06-26T10:39:03.162Z"
   },
   {
    "duration": 75,
    "start_time": "2023-06-26T10:39:03.194Z"
   },
   {
    "duration": 55,
    "start_time": "2023-06-26T10:39:03.271Z"
   },
   {
    "duration": 16,
    "start_time": "2023-06-26T10:39:03.327Z"
   },
   {
    "duration": 56,
    "start_time": "2023-06-26T10:39:03.346Z"
   },
   {
    "duration": 48,
    "start_time": "2023-06-26T10:39:03.408Z"
   },
   {
    "duration": 95,
    "start_time": "2023-06-26T10:39:03.457Z"
   },
   {
    "duration": 14,
    "start_time": "2023-06-26T10:39:03.554Z"
   },
   {
    "duration": 41,
    "start_time": "2023-06-26T10:39:03.582Z"
   },
   {
    "duration": 82,
    "start_time": "2023-06-26T10:39:03.626Z"
   },
   {
    "duration": 60,
    "start_time": "2023-06-26T10:39:03.710Z"
   },
   {
    "duration": 67,
    "start_time": "2023-06-26T10:39:03.772Z"
   },
   {
    "duration": 41,
    "start_time": "2023-06-26T10:39:03.841Z"
   },
   {
    "duration": 51,
    "start_time": "2023-06-26T10:39:03.884Z"
   },
   {
    "duration": 72,
    "start_time": "2023-06-26T10:39:03.937Z"
   },
   {
    "duration": 36,
    "start_time": "2023-06-26T10:39:04.011Z"
   },
   {
    "duration": 76,
    "start_time": "2023-06-26T10:39:04.049Z"
   },
   {
    "duration": 42,
    "start_time": "2023-06-26T10:39:04.127Z"
   },
   {
    "duration": 318,
    "start_time": "2023-06-26T10:39:04.175Z"
   },
   {
    "duration": 30,
    "start_time": "2023-06-26T10:39:04.496Z"
   },
   {
    "duration": 52,
    "start_time": "2023-06-26T10:39:04.528Z"
   },
   {
    "duration": 51,
    "start_time": "2023-06-26T10:39:04.584Z"
   },
   {
    "duration": 12,
    "start_time": "2023-06-26T10:39:04.637Z"
   },
   {
    "duration": 72,
    "start_time": "2023-06-26T10:39:04.652Z"
   },
   {
    "duration": 80,
    "start_time": "2023-06-26T10:39:04.726Z"
   },
   {
    "duration": 526,
    "start_time": "2023-06-26T10:39:04.808Z"
   },
   {
    "duration": 54,
    "start_time": "2023-06-26T10:39:05.336Z"
   },
   {
    "duration": 920,
    "start_time": "2023-06-26T10:39:05.392Z"
   },
   {
    "duration": 204,
    "start_time": "2023-06-26T10:39:06.314Z"
   },
   {
    "duration": 8,
    "start_time": "2023-06-26T10:39:06.520Z"
   },
   {
    "duration": 84,
    "start_time": "2023-06-26T10:39:06.531Z"
   },
   {
    "duration": 71,
    "start_time": "2023-06-26T10:39:06.617Z"
   },
   {
    "duration": 89,
    "start_time": "2023-06-26T10:39:06.690Z"
   },
   {
    "duration": 25,
    "start_time": "2023-06-26T10:39:06.789Z"
   },
   {
    "duration": 314,
    "start_time": "2023-06-26T10:39:06.817Z"
   },
   {
    "duration": 0,
    "start_time": "2023-06-26T10:39:07.133Z"
   },
   {
    "duration": 813,
    "start_time": "2023-06-26T10:39:22.005Z"
   },
   {
    "duration": 1740,
    "start_time": "2023-06-26T10:40:17.848Z"
   },
   {
    "duration": 772,
    "start_time": "2023-06-26T10:40:19.590Z"
   },
   {
    "duration": 17,
    "start_time": "2023-06-26T10:40:20.363Z"
   },
   {
    "duration": 36,
    "start_time": "2023-06-26T10:40:20.384Z"
   },
   {
    "duration": 6,
    "start_time": "2023-06-26T10:40:20.422Z"
   },
   {
    "duration": 13,
    "start_time": "2023-06-26T10:40:20.430Z"
   },
   {
    "duration": 46,
    "start_time": "2023-06-26T10:40:20.445Z"
   },
   {
    "duration": 35,
    "start_time": "2023-06-26T10:40:20.493Z"
   },
   {
    "duration": 15,
    "start_time": "2023-06-26T10:40:20.530Z"
   },
   {
    "duration": 42,
    "start_time": "2023-06-26T10:40:20.548Z"
   },
   {
    "duration": 44,
    "start_time": "2023-06-26T10:40:20.592Z"
   },
   {
    "duration": 58,
    "start_time": "2023-06-26T10:40:20.638Z"
   },
   {
    "duration": 11,
    "start_time": "2023-06-26T10:40:20.699Z"
   },
   {
    "duration": 46,
    "start_time": "2023-06-26T10:40:20.712Z"
   },
   {
    "duration": 44,
    "start_time": "2023-06-26T10:40:20.767Z"
   },
   {
    "duration": 112,
    "start_time": "2023-06-26T10:40:20.813Z"
   },
   {
    "duration": 400,
    "start_time": "2023-06-26T10:40:20.928Z"
   },
   {
    "duration": 91,
    "start_time": "2023-06-26T10:40:21.330Z"
   },
   {
    "duration": 71,
    "start_time": "2023-06-26T10:40:21.424Z"
   },
   {
    "duration": 42,
    "start_time": "2023-06-26T10:40:21.497Z"
   },
   {
    "duration": 95,
    "start_time": "2023-06-26T10:40:21.541Z"
   },
   {
    "duration": 55,
    "start_time": "2023-06-26T10:40:21.638Z"
   },
   {
    "duration": 18,
    "start_time": "2023-06-26T10:40:21.696Z"
   },
   {
    "duration": 31,
    "start_time": "2023-06-26T10:40:21.716Z"
   },
   {
    "duration": 48,
    "start_time": "2023-06-26T10:40:21.750Z"
   },
   {
    "duration": 20,
    "start_time": "2023-06-26T10:40:21.800Z"
   },
   {
    "duration": 20,
    "start_time": "2023-06-26T10:40:21.822Z"
   },
   {
    "duration": 45,
    "start_time": "2023-06-26T10:40:21.847Z"
   },
   {
    "duration": 30,
    "start_time": "2023-06-26T10:40:21.894Z"
   },
   {
    "duration": 55,
    "start_time": "2023-06-26T10:40:21.926Z"
   },
   {
    "duration": 7,
    "start_time": "2023-06-26T10:40:21.982Z"
   },
   {
    "duration": 184,
    "start_time": "2023-06-26T10:40:21.991Z"
   },
   {
    "duration": 50,
    "start_time": "2023-06-26T10:40:22.176Z"
   },
   {
    "duration": 14,
    "start_time": "2023-06-26T10:40:22.230Z"
   },
   {
    "duration": 453,
    "start_time": "2023-06-26T10:40:22.246Z"
   },
   {
    "duration": 37,
    "start_time": "2023-06-26T10:40:22.704Z"
   },
   {
    "duration": 25,
    "start_time": "2023-06-26T10:40:22.743Z"
   },
   {
    "duration": 77,
    "start_time": "2023-06-26T10:40:22.770Z"
   },
   {
    "duration": 53,
    "start_time": "2023-06-26T10:40:22.850Z"
   },
   {
    "duration": 18,
    "start_time": "2023-06-26T10:40:22.906Z"
   },
   {
    "duration": 135,
    "start_time": "2023-06-26T10:40:22.927Z"
   },
   {
    "duration": 73,
    "start_time": "2023-06-26T10:40:23.064Z"
   },
   {
    "duration": 6,
    "start_time": "2023-06-26T10:40:23.139Z"
   },
   {
    "duration": 53,
    "start_time": "2023-06-26T10:40:23.146Z"
   },
   {
    "duration": 10,
    "start_time": "2023-06-26T10:40:23.201Z"
   },
   {
    "duration": 12,
    "start_time": "2023-06-26T10:40:23.213Z"
   },
   {
    "duration": 40,
    "start_time": "2023-06-26T10:40:23.227Z"
   },
   {
    "duration": 42,
    "start_time": "2023-06-26T10:40:23.269Z"
   },
   {
    "duration": 15,
    "start_time": "2023-06-26T10:40:23.313Z"
   },
   {
    "duration": 63,
    "start_time": "2023-06-26T10:40:23.330Z"
   },
   {
    "duration": 26,
    "start_time": "2023-06-26T10:40:23.396Z"
   },
   {
    "duration": 9,
    "start_time": "2023-06-26T10:40:23.425Z"
   },
   {
    "duration": 50,
    "start_time": "2023-06-26T10:40:23.436Z"
   },
   {
    "duration": 249,
    "start_time": "2023-06-26T10:40:23.490Z"
   },
   {
    "duration": 52,
    "start_time": "2023-06-26T10:40:23.741Z"
   },
   {
    "duration": 30,
    "start_time": "2023-06-26T10:40:23.797Z"
   },
   {
    "duration": 60,
    "start_time": "2023-06-26T10:40:23.829Z"
   },
   {
    "duration": 6,
    "start_time": "2023-06-26T10:40:23.891Z"
   },
   {
    "duration": 21,
    "start_time": "2023-06-26T10:40:23.899Z"
   },
   {
    "duration": 49,
    "start_time": "2023-06-26T10:40:23.921Z"
   },
   {
    "duration": 483,
    "start_time": "2023-06-26T10:40:23.972Z"
   },
   {
    "duration": 52,
    "start_time": "2023-06-26T10:40:24.457Z"
   },
   {
    "duration": 911,
    "start_time": "2023-06-26T10:40:24.510Z"
   },
   {
    "duration": 185,
    "start_time": "2023-06-26T10:40:25.423Z"
   },
   {
    "duration": 7,
    "start_time": "2023-06-26T10:40:25.610Z"
   },
   {
    "duration": 18,
    "start_time": "2023-06-26T10:40:25.619Z"
   },
   {
    "duration": 68,
    "start_time": "2023-06-26T10:40:25.639Z"
   },
   {
    "duration": 104,
    "start_time": "2023-06-26T10:40:25.710Z"
   },
   {
    "duration": 19,
    "start_time": "2023-06-26T10:40:25.817Z"
   },
   {
    "duration": 758,
    "start_time": "2023-06-26T10:40:25.838Z"
   },
   {
    "duration": 13,
    "start_time": "2023-06-26T10:40:26.598Z"
   },
   {
    "duration": 776,
    "start_time": "2023-06-26T10:40:52.828Z"
   },
   {
    "duration": 865,
    "start_time": "2023-06-26T10:41:17.521Z"
   },
   {
    "duration": 963,
    "start_time": "2023-06-26T10:41:34.535Z"
   },
   {
    "duration": 986,
    "start_time": "2023-06-26T10:42:11.512Z"
   },
   {
    "duration": 30,
    "start_time": "2023-06-26T10:43:22.501Z"
   },
   {
    "duration": 967,
    "start_time": "2023-06-26T10:46:34.643Z"
   },
   {
    "duration": 1092,
    "start_time": "2023-06-26T10:46:43.117Z"
   },
   {
    "duration": 86,
    "start_time": "2023-06-26T10:47:02.315Z"
   },
   {
    "duration": 178,
    "start_time": "2023-06-26T10:47:18.098Z"
   },
   {
    "duration": 67,
    "start_time": "2023-06-26T10:47:26.237Z"
   },
   {
    "duration": 71,
    "start_time": "2023-06-26T10:48:18.706Z"
   },
   {
    "duration": 76,
    "start_time": "2023-06-26T10:48:57.698Z"
   },
   {
    "duration": 359,
    "start_time": "2023-06-26T10:49:07.938Z"
   },
   {
    "duration": 32,
    "start_time": "2023-06-26T10:49:22.387Z"
   },
   {
    "duration": 1384,
    "start_time": "2023-06-26T10:49:30.194Z"
   },
   {
    "duration": 694,
    "start_time": "2023-06-26T10:49:31.580Z"
   },
   {
    "duration": 8,
    "start_time": "2023-06-26T10:49:32.276Z"
   },
   {
    "duration": 52,
    "start_time": "2023-06-26T10:49:32.286Z"
   },
   {
    "duration": 22,
    "start_time": "2023-06-26T10:49:32.341Z"
   },
   {
    "duration": 50,
    "start_time": "2023-06-26T10:49:32.368Z"
   },
   {
    "duration": 28,
    "start_time": "2023-06-26T10:49:32.421Z"
   },
   {
    "duration": 48,
    "start_time": "2023-06-26T10:49:32.450Z"
   },
   {
    "duration": 37,
    "start_time": "2023-06-26T10:49:32.500Z"
   },
   {
    "duration": 55,
    "start_time": "2023-06-26T10:49:32.541Z"
   },
   {
    "duration": 52,
    "start_time": "2023-06-26T10:49:32.598Z"
   },
   {
    "duration": 43,
    "start_time": "2023-06-26T10:49:32.652Z"
   },
   {
    "duration": 14,
    "start_time": "2023-06-26T10:49:32.697Z"
   },
   {
    "duration": 65,
    "start_time": "2023-06-26T10:49:32.713Z"
   },
   {
    "duration": 25,
    "start_time": "2023-06-26T10:49:32.781Z"
   },
   {
    "duration": 127,
    "start_time": "2023-06-26T10:49:32.808Z"
   },
   {
    "duration": 333,
    "start_time": "2023-06-26T10:49:32.937Z"
   },
   {
    "duration": 57,
    "start_time": "2023-06-26T10:49:33.272Z"
   },
   {
    "duration": 58,
    "start_time": "2023-06-26T10:49:33.330Z"
   },
   {
    "duration": 56,
    "start_time": "2023-06-26T10:49:33.390Z"
   },
   {
    "duration": 57,
    "start_time": "2023-06-26T10:49:33.453Z"
   },
   {
    "duration": 15,
    "start_time": "2023-06-26T10:49:33.512Z"
   },
   {
    "duration": 25,
    "start_time": "2023-06-26T10:49:33.528Z"
   },
   {
    "duration": 37,
    "start_time": "2023-06-26T10:49:33.558Z"
   },
   {
    "duration": 22,
    "start_time": "2023-06-26T10:49:33.597Z"
   },
   {
    "duration": 7,
    "start_time": "2023-06-26T10:49:33.621Z"
   },
   {
    "duration": 10,
    "start_time": "2023-06-26T10:49:33.630Z"
   },
   {
    "duration": 6,
    "start_time": "2023-06-26T10:49:33.645Z"
   },
   {
    "duration": 35,
    "start_time": "2023-06-26T10:49:33.653Z"
   },
   {
    "duration": 34,
    "start_time": "2023-06-26T10:49:33.690Z"
   },
   {
    "duration": 8,
    "start_time": "2023-06-26T10:49:33.726Z"
   },
   {
    "duration": 141,
    "start_time": "2023-06-26T10:49:33.736Z"
   },
   {
    "duration": 38,
    "start_time": "2023-06-26T10:49:33.879Z"
   },
   {
    "duration": 7,
    "start_time": "2023-06-26T10:49:33.919Z"
   },
   {
    "duration": 388,
    "start_time": "2023-06-26T10:49:33.928Z"
   },
   {
    "duration": 47,
    "start_time": "2023-06-26T10:49:34.318Z"
   },
   {
    "duration": 10,
    "start_time": "2023-06-26T10:49:34.369Z"
   },
   {
    "duration": 27,
    "start_time": "2023-06-26T10:49:34.381Z"
   },
   {
    "duration": 14,
    "start_time": "2023-06-26T10:49:34.410Z"
   },
   {
    "duration": 24,
    "start_time": "2023-06-26T10:49:34.426Z"
   },
   {
    "duration": 29,
    "start_time": "2023-06-26T10:49:34.453Z"
   },
   {
    "duration": 64,
    "start_time": "2023-06-26T10:49:34.485Z"
   },
   {
    "duration": 14,
    "start_time": "2023-06-26T10:49:34.551Z"
   },
   {
    "duration": 58,
    "start_time": "2023-06-26T10:49:34.566Z"
   },
   {
    "duration": 10,
    "start_time": "2023-06-26T10:49:34.626Z"
   },
   {
    "duration": 8,
    "start_time": "2023-06-26T10:49:34.638Z"
   },
   {
    "duration": 36,
    "start_time": "2023-06-26T10:49:34.647Z"
   },
   {
    "duration": 18,
    "start_time": "2023-06-26T10:49:34.685Z"
   },
   {
    "duration": 15,
    "start_time": "2023-06-26T10:49:34.705Z"
   },
   {
    "duration": 25,
    "start_time": "2023-06-26T10:49:34.722Z"
   },
   {
    "duration": 12,
    "start_time": "2023-06-26T10:49:34.749Z"
   },
   {
    "duration": 14,
    "start_time": "2023-06-26T10:49:34.769Z"
   },
   {
    "duration": 25,
    "start_time": "2023-06-26T10:49:34.786Z"
   },
   {
    "duration": 186,
    "start_time": "2023-06-26T10:49:34.813Z"
   },
   {
    "duration": 28,
    "start_time": "2023-06-26T10:49:35.001Z"
   },
   {
    "duration": 46,
    "start_time": "2023-06-26T10:49:35.031Z"
   },
   {
    "duration": 48,
    "start_time": "2023-06-26T10:49:35.078Z"
   },
   {
    "duration": 8,
    "start_time": "2023-06-26T10:49:35.127Z"
   },
   {
    "duration": 40,
    "start_time": "2023-06-26T10:49:35.137Z"
   },
   {
    "duration": 24,
    "start_time": "2023-06-26T10:49:35.179Z"
   },
   {
    "duration": 377,
    "start_time": "2023-06-26T10:49:35.205Z"
   },
   {
    "duration": 29,
    "start_time": "2023-06-26T10:49:35.584Z"
   },
   {
    "duration": 864,
    "start_time": "2023-06-26T10:49:35.615Z"
   },
   {
    "duration": 160,
    "start_time": "2023-06-26T10:49:36.481Z"
   },
   {
    "duration": 16,
    "start_time": "2023-06-26T10:49:36.642Z"
   },
   {
    "duration": 50,
    "start_time": "2023-06-26T10:49:36.666Z"
   },
   {
    "duration": 107,
    "start_time": "2023-06-26T10:49:36.718Z"
   },
   {
    "duration": 762,
    "start_time": "2023-06-26T10:49:36.827Z"
   },
   {
    "duration": 67,
    "start_time": "2023-06-26T10:50:32.546Z"
   },
   {
    "duration": 327,
    "start_time": "2023-06-26T10:50:37.946Z"
   },
   {
    "duration": 226,
    "start_time": "2023-06-26T10:51:18.732Z"
   },
   {
    "duration": 313,
    "start_time": "2023-06-26T10:51:24.272Z"
   },
   {
    "duration": 258,
    "start_time": "2023-06-26T10:51:46.335Z"
   },
   {
    "duration": 230,
    "start_time": "2023-06-26T10:52:07.514Z"
   },
   {
    "duration": 332,
    "start_time": "2023-06-26T10:52:25.515Z"
   },
   {
    "duration": 248,
    "start_time": "2023-06-26T10:54:09.925Z"
   },
   {
    "duration": 29,
    "start_time": "2023-06-26T10:54:13.849Z"
   },
   {
    "duration": 128,
    "start_time": "2023-06-26T10:54:37.503Z"
   },
   {
    "duration": 240,
    "start_time": "2023-06-26T10:54:52.262Z"
   },
   {
    "duration": 562,
    "start_time": "2023-06-26T11:03:06.941Z"
   },
   {
    "duration": 588,
    "start_time": "2023-06-26T11:03:32.001Z"
   },
   {
    "duration": 14,
    "start_time": "2023-06-26T11:04:12.701Z"
   },
   {
    "duration": 692,
    "start_time": "2023-06-26T11:04:32.628Z"
   },
   {
    "duration": 568,
    "start_time": "2023-06-26T11:04:38.517Z"
   },
   {
    "duration": 568,
    "start_time": "2023-06-26T11:04:47.946Z"
   },
   {
    "duration": 600,
    "start_time": "2023-06-26T11:04:53.772Z"
   },
   {
    "duration": 604,
    "start_time": "2023-06-26T11:05:00.568Z"
   },
   {
    "duration": 628,
    "start_time": "2023-06-26T11:05:05.135Z"
   },
   {
    "duration": 637,
    "start_time": "2023-06-26T11:05:27.768Z"
   },
   {
    "duration": 18,
    "start_time": "2023-06-26T11:05:44.915Z"
   },
   {
    "duration": 584,
    "start_time": "2023-06-26T11:06:29.337Z"
   },
   {
    "duration": 19,
    "start_time": "2023-06-26T11:07:18.505Z"
   },
   {
    "duration": 657,
    "start_time": "2023-06-26T11:07:21.797Z"
   },
   {
    "duration": 32,
    "start_time": "2023-06-26T11:07:37.449Z"
   },
   {
    "duration": 638,
    "start_time": "2023-06-26T11:07:48.996Z"
   },
   {
    "duration": 456,
    "start_time": "2023-06-26T11:08:37.014Z"
   },
   {
    "duration": 330,
    "start_time": "2023-06-26T11:10:16.195Z"
   },
   {
    "duration": 315,
    "start_time": "2023-06-26T11:10:27.165Z"
   },
   {
    "duration": 314,
    "start_time": "2023-06-26T11:10:48.417Z"
   },
   {
    "duration": 339,
    "start_time": "2023-06-26T11:10:54.141Z"
   },
   {
    "duration": 337,
    "start_time": "2023-06-26T11:12:54.034Z"
   },
   {
    "duration": 282,
    "start_time": "2023-06-26T11:13:07.210Z"
   },
   {
    "duration": 278,
    "start_time": "2023-06-26T11:13:16.614Z"
   },
   {
    "duration": 299,
    "start_time": "2023-06-26T11:14:17.542Z"
   },
   {
    "duration": 302,
    "start_time": "2023-06-26T11:14:22.838Z"
   },
   {
    "duration": 305,
    "start_time": "2023-06-26T11:15:12.006Z"
   },
   {
    "duration": 442,
    "start_time": "2023-06-26T11:15:19.035Z"
   },
   {
    "duration": 302,
    "start_time": "2023-06-26T11:15:29.502Z"
   },
   {
    "duration": 320,
    "start_time": "2023-06-26T11:15:34.712Z"
   },
   {
    "duration": 313,
    "start_time": "2023-06-26T11:15:43.464Z"
   },
   {
    "duration": 19,
    "start_time": "2023-06-26T11:17:39.267Z"
   },
   {
    "duration": 18,
    "start_time": "2023-06-26T11:17:52.302Z"
   },
   {
    "duration": 20,
    "start_time": "2023-06-26T11:18:02.324Z"
   },
   {
    "duration": 22,
    "start_time": "2023-06-26T11:19:08.693Z"
   },
   {
    "duration": 34,
    "start_time": "2023-06-26T11:19:41.838Z"
   },
   {
    "duration": 23,
    "start_time": "2023-06-26T11:20:41.805Z"
   },
   {
    "duration": 19,
    "start_time": "2023-06-26T11:22:02.365Z"
   },
   {
    "duration": 21,
    "start_time": "2023-06-26T11:22:37.414Z"
   },
   {
    "duration": 18,
    "start_time": "2023-06-26T11:22:41.914Z"
   },
   {
    "duration": 24,
    "start_time": "2023-06-26T11:22:49.052Z"
   },
   {
    "duration": 17,
    "start_time": "2023-06-26T11:23:15.810Z"
   },
   {
    "duration": 270,
    "start_time": "2023-06-26T11:23:20.827Z"
   },
   {
    "duration": 342,
    "start_time": "2023-06-26T11:23:58.565Z"
   },
   {
    "duration": 331,
    "start_time": "2023-06-26T11:25:10.405Z"
   },
   {
    "duration": 18,
    "start_time": "2023-06-26T11:32:08.691Z"
   },
   {
    "duration": 18,
    "start_time": "2023-06-26T11:32:25.013Z"
   },
   {
    "duration": 11,
    "start_time": "2023-06-26T11:36:10.660Z"
   },
   {
    "duration": 12,
    "start_time": "2023-06-26T11:36:32.217Z"
   },
   {
    "duration": 13,
    "start_time": "2023-06-26T11:36:41.357Z"
   },
   {
    "duration": 94,
    "start_time": "2023-06-26T11:36:45.475Z"
   },
   {
    "duration": 15,
    "start_time": "2023-06-26T11:36:49.005Z"
   },
   {
    "duration": 14,
    "start_time": "2023-06-26T11:37:33.522Z"
   },
   {
    "duration": 10,
    "start_time": "2023-06-26T11:38:09.875Z"
   },
   {
    "duration": 17,
    "start_time": "2023-06-26T11:38:32.802Z"
   },
   {
    "duration": 11,
    "start_time": "2023-06-26T11:38:40.802Z"
   },
   {
    "duration": 13,
    "start_time": "2023-06-26T11:39:26.858Z"
   },
   {
    "duration": 15,
    "start_time": "2023-06-26T11:40:35.001Z"
   },
   {
    "duration": 13,
    "start_time": "2023-06-26T11:40:47.800Z"
   },
   {
    "duration": 11,
    "start_time": "2023-06-26T11:40:56.844Z"
   },
   {
    "duration": 15,
    "start_time": "2023-06-26T11:41:07.765Z"
   },
   {
    "duration": 12,
    "start_time": "2023-06-26T11:41:16.468Z"
   },
   {
    "duration": 13,
    "start_time": "2023-06-26T11:41:19.801Z"
   },
   {
    "duration": 2,
    "start_time": "2023-06-26T11:44:10.034Z"
   },
   {
    "duration": 20,
    "start_time": "2023-06-26T12:44:05.397Z"
   },
   {
    "duration": 23,
    "start_time": "2023-06-26T12:44:45.157Z"
   },
   {
    "duration": 24,
    "start_time": "2023-06-26T12:45:13.218Z"
   },
   {
    "duration": 7,
    "start_time": "2023-06-26T12:55:50.905Z"
   },
   {
    "duration": 10,
    "start_time": "2023-06-26T12:57:00.761Z"
   },
   {
    "duration": 6,
    "start_time": "2023-06-26T13:00:30.145Z"
   },
   {
    "duration": 15,
    "start_time": "2023-06-26T13:01:54.239Z"
   },
   {
    "duration": 448,
    "start_time": "2023-06-26T13:03:16.635Z"
   },
   {
    "duration": 13,
    "start_time": "2023-06-26T13:03:17.397Z"
   },
   {
    "duration": 202,
    "start_time": "2023-06-26T13:03:22.439Z"
   },
   {
    "duration": 7,
    "start_time": "2023-06-26T13:03:29.518Z"
   },
   {
    "duration": 9,
    "start_time": "2023-06-26T13:03:49.468Z"
   },
   {
    "duration": 7,
    "start_time": "2023-06-26T13:04:04.799Z"
   },
   {
    "duration": 15,
    "start_time": "2023-06-26T13:04:07.517Z"
   },
   {
    "duration": 6,
    "start_time": "2023-06-26T13:04:16.599Z"
   },
   {
    "duration": 10,
    "start_time": "2023-06-26T13:04:21.636Z"
   },
   {
    "duration": 18,
    "start_time": "2023-06-26T13:04:24.144Z"
   },
   {
    "duration": 11,
    "start_time": "2023-06-26T13:04:35.950Z"
   },
   {
    "duration": 180,
    "start_time": "2023-06-26T13:05:32.275Z"
   },
   {
    "duration": 13,
    "start_time": "2023-06-26T13:06:16.488Z"
   },
   {
    "duration": 15,
    "start_time": "2023-06-26T13:06:18.591Z"
   },
   {
    "duration": 184,
    "start_time": "2023-06-26T13:07:02.468Z"
   },
   {
    "duration": 23,
    "start_time": "2023-06-26T13:07:47.894Z"
   },
   {
    "duration": 13,
    "start_time": "2023-06-26T13:08:51.914Z"
   },
   {
    "duration": 6,
    "start_time": "2023-06-26T14:16:13.197Z"
   },
   {
    "duration": 14,
    "start_time": "2023-06-26T14:16:14.230Z"
   },
   {
    "duration": 11,
    "start_time": "2023-06-26T14:16:15.217Z"
   },
   {
    "duration": 12,
    "start_time": "2023-06-26T14:16:15.905Z"
   },
   {
    "duration": 1524,
    "start_time": "2023-06-26T15:09:58.151Z"
   },
   {
    "duration": 733,
    "start_time": "2023-06-26T15:09:59.678Z"
   },
   {
    "duration": 26,
    "start_time": "2023-06-26T15:10:00.413Z"
   },
   {
    "duration": 333,
    "start_time": "2023-06-26T15:10:00.443Z"
   },
   {
    "duration": 123,
    "start_time": "2023-06-26T15:10:00.779Z"
   },
   {
    "duration": 61,
    "start_time": "2023-06-26T15:10:00.905Z"
   },
   {
    "duration": 171,
    "start_time": "2023-06-26T15:10:00.968Z"
   },
   {
    "duration": 137,
    "start_time": "2023-06-26T15:10:01.141Z"
   },
   {
    "duration": 236,
    "start_time": "2023-06-26T15:10:01.281Z"
   },
   {
    "duration": 239,
    "start_time": "2023-06-26T15:10:01.521Z"
   },
   {
    "duration": 79,
    "start_time": "2023-06-26T15:10:01.763Z"
   },
   {
    "duration": 12,
    "start_time": "2023-06-26T15:10:01.844Z"
   },
   {
    "duration": 70,
    "start_time": "2023-06-26T15:10:01.858Z"
   },
   {
    "duration": 191,
    "start_time": "2023-06-26T15:10:01.931Z"
   },
   {
    "duration": 128,
    "start_time": "2023-06-26T15:10:02.125Z"
   },
   {
    "duration": 400,
    "start_time": "2023-06-26T15:10:02.255Z"
   },
   {
    "duration": 72,
    "start_time": "2023-06-26T15:10:02.657Z"
   },
   {
    "duration": 112,
    "start_time": "2023-06-26T15:10:02.731Z"
   },
   {
    "duration": 78,
    "start_time": "2023-06-26T15:10:02.846Z"
   },
   {
    "duration": 54,
    "start_time": "2023-06-26T15:10:02.926Z"
   },
   {
    "duration": 21,
    "start_time": "2023-06-26T15:10:02.982Z"
   },
   {
    "duration": 26,
    "start_time": "2023-06-26T15:10:03.005Z"
   },
   {
    "duration": 70,
    "start_time": "2023-06-26T15:10:03.033Z"
   },
   {
    "duration": 35,
    "start_time": "2023-06-26T15:10:03.105Z"
   },
   {
    "duration": 44,
    "start_time": "2023-06-26T15:10:03.142Z"
   },
   {
    "duration": 50,
    "start_time": "2023-06-26T15:10:03.189Z"
   },
   {
    "duration": 38,
    "start_time": "2023-06-26T15:10:03.242Z"
   },
   {
    "duration": 34,
    "start_time": "2023-06-26T15:10:03.291Z"
   },
   {
    "duration": 45,
    "start_time": "2023-06-26T15:10:03.327Z"
   },
   {
    "duration": 32,
    "start_time": "2023-06-26T15:10:03.374Z"
   },
   {
    "duration": 146,
    "start_time": "2023-06-26T15:10:03.408Z"
   },
   {
    "duration": 75,
    "start_time": "2023-06-26T15:10:03.556Z"
   },
   {
    "duration": 31,
    "start_time": "2023-06-26T15:10:03.633Z"
   },
   {
    "duration": 256,
    "start_time": "2023-06-26T15:10:03.666Z"
   },
   {
    "duration": 24,
    "start_time": "2023-06-26T15:10:03.924Z"
   },
   {
    "duration": 22,
    "start_time": "2023-06-26T15:10:03.950Z"
   },
   {
    "duration": 42,
    "start_time": "2023-06-26T15:10:03.974Z"
   },
   {
    "duration": 30,
    "start_time": "2023-06-26T15:10:04.019Z"
   },
   {
    "duration": 26,
    "start_time": "2023-06-26T15:10:04.052Z"
   },
   {
    "duration": 64,
    "start_time": "2023-06-26T15:10:04.081Z"
   },
   {
    "duration": 90,
    "start_time": "2023-06-26T15:10:04.148Z"
   },
   {
    "duration": 5,
    "start_time": "2023-06-26T15:10:04.240Z"
   },
   {
    "duration": 18,
    "start_time": "2023-06-26T15:10:04.246Z"
   },
   {
    "duration": 12,
    "start_time": "2023-06-26T15:10:04.266Z"
   },
   {
    "duration": 34,
    "start_time": "2023-06-26T15:10:04.280Z"
   },
   {
    "duration": 26,
    "start_time": "2023-06-26T15:10:04.316Z"
   },
   {
    "duration": 16,
    "start_time": "2023-06-26T15:10:04.343Z"
   },
   {
    "duration": 49,
    "start_time": "2023-06-26T15:10:04.361Z"
   },
   {
    "duration": 47,
    "start_time": "2023-06-26T15:10:04.412Z"
   },
   {
    "duration": 11,
    "start_time": "2023-06-26T15:10:04.461Z"
   },
   {
    "duration": 15,
    "start_time": "2023-06-26T15:10:04.473Z"
   },
   {
    "duration": 32,
    "start_time": "2023-06-26T15:10:04.489Z"
   },
   {
    "duration": 230,
    "start_time": "2023-06-26T15:10:04.523Z"
   },
   {
    "duration": 33,
    "start_time": "2023-06-26T15:10:04.755Z"
   },
   {
    "duration": 42,
    "start_time": "2023-06-26T15:10:04.791Z"
   },
   {
    "duration": 87,
    "start_time": "2023-06-26T15:10:04.836Z"
   },
   {
    "duration": 11,
    "start_time": "2023-06-26T15:10:04.926Z"
   },
   {
    "duration": 34,
    "start_time": "2023-06-26T15:10:04.940Z"
   },
   {
    "duration": 34,
    "start_time": "2023-06-26T15:10:04.976Z"
   },
   {
    "duration": 367,
    "start_time": "2023-06-26T15:10:05.012Z"
   },
   {
    "duration": 43,
    "start_time": "2023-06-26T15:10:05.381Z"
   },
   {
    "duration": 930,
    "start_time": "2023-06-26T15:10:05.427Z"
   },
   {
    "duration": 206,
    "start_time": "2023-06-26T15:10:06.359Z"
   },
   {
    "duration": 12,
    "start_time": "2023-06-26T15:10:06.567Z"
   },
   {
    "duration": 33,
    "start_time": "2023-06-26T15:10:06.582Z"
   },
   {
    "duration": 105,
    "start_time": "2023-06-26T15:10:06.621Z"
   },
   {
    "duration": 902,
    "start_time": "2023-06-26T15:10:06.729Z"
   },
   {
    "duration": 79,
    "start_time": "2023-06-26T15:10:07.633Z"
   },
   {
    "duration": 455,
    "start_time": "2023-06-26T15:10:07.715Z"
   },
   {
    "duration": 38,
    "start_time": "2023-06-26T15:10:08.172Z"
   },
   {
    "duration": 79,
    "start_time": "2023-06-26T15:10:08.213Z"
   },
   {
    "duration": 175,
    "start_time": "2023-06-26T15:10:08.294Z"
   },
   {
    "duration": 56,
    "start_time": "2023-06-26T15:10:08.472Z"
   },
   {
    "duration": 35,
    "start_time": "2023-06-26T15:10:08.531Z"
   },
   {
    "duration": 32,
    "start_time": "2023-06-26T15:10:08.567Z"
   },
   {
    "duration": 72,
    "start_time": "2023-06-26T15:10:08.602Z"
   },
   {
    "duration": 71,
    "start_time": "2023-06-26T15:10:08.676Z"
   },
   {
    "duration": 30,
    "start_time": "2023-06-26T15:10:08.749Z"
   },
   {
    "duration": 66,
    "start_time": "2023-06-26T16:22:43.903Z"
   },
   {
    "duration": 1646,
    "start_time": "2023-06-26T16:22:49.813Z"
   },
   {
    "duration": 1172,
    "start_time": "2023-06-26T16:22:51.462Z"
   },
   {
    "duration": 24,
    "start_time": "2023-06-26T16:22:52.636Z"
   },
   {
    "duration": 9,
    "start_time": "2023-06-26T16:22:52.663Z"
   },
   {
    "duration": 26,
    "start_time": "2023-06-26T16:22:52.675Z"
   },
   {
    "duration": 25,
    "start_time": "2023-06-26T16:22:52.703Z"
   },
   {
    "duration": 21,
    "start_time": "2023-06-26T16:22:52.730Z"
   },
   {
    "duration": 15,
    "start_time": "2023-06-26T16:22:52.754Z"
   },
   {
    "duration": 13,
    "start_time": "2023-06-26T16:22:52.771Z"
   },
   {
    "duration": 34,
    "start_time": "2023-06-26T16:22:52.786Z"
   },
   {
    "duration": 61,
    "start_time": "2023-06-26T16:22:52.822Z"
   },
   {
    "duration": 7,
    "start_time": "2023-06-26T16:22:52.885Z"
   },
   {
    "duration": 19,
    "start_time": "2023-06-26T16:22:52.894Z"
   },
   {
    "duration": 15,
    "start_time": "2023-06-26T16:22:52.916Z"
   },
   {
    "duration": 84,
    "start_time": "2023-06-26T16:22:52.933Z"
   },
   {
    "duration": 384,
    "start_time": "2023-06-26T16:22:53.020Z"
   },
   {
    "duration": 69,
    "start_time": "2023-06-26T16:22:53.406Z"
   },
   {
    "duration": 44,
    "start_time": "2023-06-26T16:22:53.477Z"
   },
   {
    "duration": 41,
    "start_time": "2023-06-26T16:22:53.523Z"
   },
   {
    "duration": 42,
    "start_time": "2023-06-26T16:22:53.566Z"
   },
   {
    "duration": 17,
    "start_time": "2023-06-26T16:22:53.610Z"
   },
   {
    "duration": 14,
    "start_time": "2023-06-26T16:22:53.630Z"
   },
   {
    "duration": 31,
    "start_time": "2023-06-26T16:22:53.653Z"
   },
   {
    "duration": 12,
    "start_time": "2023-06-26T16:22:53.686Z"
   },
   {
    "duration": 9,
    "start_time": "2023-06-26T16:22:53.700Z"
   },
   {
    "duration": 9,
    "start_time": "2023-06-26T16:22:53.711Z"
   },
   {
    "duration": 34,
    "start_time": "2023-06-26T16:22:53.722Z"
   },
   {
    "duration": 18,
    "start_time": "2023-06-26T16:22:53.758Z"
   },
   {
    "duration": 31,
    "start_time": "2023-06-26T16:22:53.778Z"
   },
   {
    "duration": 6,
    "start_time": "2023-06-26T16:22:53.810Z"
   },
   {
    "duration": 120,
    "start_time": "2023-06-26T16:22:53.818Z"
   },
   {
    "duration": 52,
    "start_time": "2023-06-26T16:22:53.940Z"
   },
   {
    "duration": 11,
    "start_time": "2023-06-26T16:22:53.993Z"
   },
   {
    "duration": 266,
    "start_time": "2023-06-26T16:22:54.006Z"
   },
   {
    "duration": 24,
    "start_time": "2023-06-26T16:22:54.274Z"
   },
   {
    "duration": 7,
    "start_time": "2023-06-26T16:22:54.300Z"
   },
   {
    "duration": 18,
    "start_time": "2023-06-26T16:22:54.309Z"
   },
   {
    "duration": 30,
    "start_time": "2023-06-26T16:22:54.328Z"
   },
   {
    "duration": 26,
    "start_time": "2023-06-26T16:22:54.361Z"
   },
   {
    "duration": 11,
    "start_time": "2023-06-26T16:22:54.389Z"
   },
   {
    "duration": 49,
    "start_time": "2023-06-26T16:22:54.405Z"
   },
   {
    "duration": 9,
    "start_time": "2023-06-26T16:22:54.457Z"
   },
   {
    "duration": 24,
    "start_time": "2023-06-26T16:22:54.468Z"
   },
   {
    "duration": 10,
    "start_time": "2023-06-26T16:22:54.494Z"
   },
   {
    "duration": 11,
    "start_time": "2023-06-26T16:22:54.506Z"
   },
   {
    "duration": 15,
    "start_time": "2023-06-26T16:22:54.519Z"
   },
   {
    "duration": 24,
    "start_time": "2023-06-26T16:22:54.536Z"
   },
   {
    "duration": 21,
    "start_time": "2023-06-26T16:22:54.562Z"
   },
   {
    "duration": 24,
    "start_time": "2023-06-26T16:22:54.585Z"
   },
   {
    "duration": 7,
    "start_time": "2023-06-26T16:22:54.611Z"
   },
   {
    "duration": 11,
    "start_time": "2023-06-26T16:22:54.620Z"
   },
   {
    "duration": 17,
    "start_time": "2023-06-26T16:22:54.652Z"
   },
   {
    "duration": 217,
    "start_time": "2023-06-26T16:22:54.672Z"
   },
   {
    "duration": 32,
    "start_time": "2023-06-26T16:22:54.890Z"
   },
   {
    "duration": 37,
    "start_time": "2023-06-26T16:22:54.924Z"
   },
   {
    "duration": 37,
    "start_time": "2023-06-26T16:22:54.963Z"
   },
   {
    "duration": 7,
    "start_time": "2023-06-26T16:22:55.002Z"
   },
   {
    "duration": 10,
    "start_time": "2023-06-26T16:22:55.010Z"
   },
   {
    "duration": 43,
    "start_time": "2023-06-26T16:22:55.022Z"
   },
   {
    "duration": 388,
    "start_time": "2023-06-26T16:22:55.067Z"
   },
   {
    "duration": 30,
    "start_time": "2023-06-26T16:22:55.457Z"
   },
   {
    "duration": 892,
    "start_time": "2023-06-26T16:22:55.489Z"
   },
   {
    "duration": 159,
    "start_time": "2023-06-26T16:22:56.384Z"
   },
   {
    "duration": 11,
    "start_time": "2023-06-26T16:22:56.545Z"
   },
   {
    "duration": 34,
    "start_time": "2023-06-26T16:22:56.558Z"
   },
   {
    "duration": 67,
    "start_time": "2023-06-26T16:22:56.594Z"
   },
   {
    "duration": 704,
    "start_time": "2023-06-26T16:22:56.663Z"
   },
   {
    "duration": 84,
    "start_time": "2023-06-26T16:22:57.370Z"
   },
   {
    "duration": 438,
    "start_time": "2023-06-26T16:22:57.455Z"
   },
   {
    "duration": 22,
    "start_time": "2023-06-26T16:22:57.895Z"
   },
   {
    "duration": 1915,
    "start_time": "2023-06-26T16:22:57.919Z"
   },
   {
    "duration": 0,
    "start_time": "2023-06-26T16:22:59.836Z"
   },
   {
    "duration": 0,
    "start_time": "2023-06-26T16:22:59.838Z"
   },
   {
    "duration": 0,
    "start_time": "2023-06-26T16:22:59.840Z"
   },
   {
    "duration": 0,
    "start_time": "2023-06-26T16:22:59.841Z"
   },
   {
    "duration": 0,
    "start_time": "2023-06-26T16:22:59.843Z"
   },
   {
    "duration": 0,
    "start_time": "2023-06-26T16:22:59.844Z"
   },
   {
    "duration": 0,
    "start_time": "2023-06-26T16:22:59.845Z"
   },
   {
    "duration": 0,
    "start_time": "2023-06-26T16:22:59.847Z"
   },
   {
    "duration": 0,
    "start_time": "2023-06-26T16:22:59.848Z"
   },
   {
    "duration": 22,
    "start_time": "2023-06-26T16:24:41.878Z"
   },
   {
    "duration": 16,
    "start_time": "2023-06-26T16:27:01.398Z"
   },
   {
    "duration": 1462,
    "start_time": "2023-06-26T16:28:41.317Z"
   },
   {
    "duration": 711,
    "start_time": "2023-06-26T16:28:42.781Z"
   },
   {
    "duration": 24,
    "start_time": "2023-06-26T16:28:43.494Z"
   },
   {
    "duration": 5,
    "start_time": "2023-06-26T16:28:43.521Z"
   },
   {
    "duration": 9,
    "start_time": "2023-06-26T16:28:43.528Z"
   },
   {
    "duration": 18,
    "start_time": "2023-06-26T16:28:43.539Z"
   },
   {
    "duration": 25,
    "start_time": "2023-06-26T16:28:43.559Z"
   },
   {
    "duration": 12,
    "start_time": "2023-06-26T16:28:43.587Z"
   },
   {
    "duration": 8,
    "start_time": "2023-06-26T16:28:43.600Z"
   },
   {
    "duration": 32,
    "start_time": "2023-06-26T16:28:43.611Z"
   },
   {
    "duration": 41,
    "start_time": "2023-06-26T16:28:43.646Z"
   },
   {
    "duration": 7,
    "start_time": "2023-06-26T16:28:43.689Z"
   },
   {
    "duration": 16,
    "start_time": "2023-06-26T16:28:43.698Z"
   },
   {
    "duration": 36,
    "start_time": "2023-06-26T16:28:43.716Z"
   },
   {
    "duration": 80,
    "start_time": "2023-06-26T16:28:43.754Z"
   },
   {
    "duration": 373,
    "start_time": "2023-06-26T16:28:43.836Z"
   },
   {
    "duration": 69,
    "start_time": "2023-06-26T16:28:44.220Z"
   },
   {
    "duration": 34,
    "start_time": "2023-06-26T16:28:44.291Z"
   },
   {
    "duration": 60,
    "start_time": "2023-06-26T16:28:44.327Z"
   },
   {
    "duration": 121,
    "start_time": "2023-06-26T16:28:44.389Z"
   },
   {
    "duration": 42,
    "start_time": "2023-06-26T16:28:44.513Z"
   },
   {
    "duration": 32,
    "start_time": "2023-06-26T16:28:44.557Z"
   },
   {
    "duration": 26,
    "start_time": "2023-06-26T16:28:44.591Z"
   },
   {
    "duration": 14,
    "start_time": "2023-06-26T16:28:44.620Z"
   },
   {
    "duration": 10,
    "start_time": "2023-06-26T16:28:44.636Z"
   },
   {
    "duration": 23,
    "start_time": "2023-06-26T16:28:44.648Z"
   },
   {
    "duration": 21,
    "start_time": "2023-06-26T16:28:44.673Z"
   },
   {
    "duration": 21,
    "start_time": "2023-06-26T16:28:44.702Z"
   },
   {
    "duration": 49,
    "start_time": "2023-06-26T16:28:44.725Z"
   },
   {
    "duration": 7,
    "start_time": "2023-06-26T16:28:44.776Z"
   },
   {
    "duration": 125,
    "start_time": "2023-06-26T16:28:44.785Z"
   },
   {
    "duration": 53,
    "start_time": "2023-06-26T16:28:44.912Z"
   },
   {
    "duration": 9,
    "start_time": "2023-06-26T16:28:44.968Z"
   },
   {
    "duration": 281,
    "start_time": "2023-06-26T16:28:44.979Z"
   },
   {
    "duration": 23,
    "start_time": "2023-06-26T16:28:45.271Z"
   },
   {
    "duration": 9,
    "start_time": "2023-06-26T16:28:45.296Z"
   },
   {
    "duration": 33,
    "start_time": "2023-06-26T16:28:45.307Z"
   },
   {
    "duration": 42,
    "start_time": "2023-06-26T16:28:45.343Z"
   },
   {
    "duration": 17,
    "start_time": "2023-06-26T16:28:45.387Z"
   },
   {
    "duration": 10,
    "start_time": "2023-06-26T16:28:45.406Z"
   },
   {
    "duration": 54,
    "start_time": "2023-06-26T16:28:45.418Z"
   },
   {
    "duration": 6,
    "start_time": "2023-06-26T16:28:45.475Z"
   },
   {
    "duration": 12,
    "start_time": "2023-06-26T16:28:45.483Z"
   },
   {
    "duration": 11,
    "start_time": "2023-06-26T16:28:45.498Z"
   },
   {
    "duration": 9,
    "start_time": "2023-06-26T16:28:45.511Z"
   },
   {
    "duration": 32,
    "start_time": "2023-06-26T16:28:45.522Z"
   },
   {
    "duration": 16,
    "start_time": "2023-06-26T16:28:45.555Z"
   },
   {
    "duration": 19,
    "start_time": "2023-06-26T16:28:45.572Z"
   },
   {
    "duration": 17,
    "start_time": "2023-06-26T16:28:45.593Z"
   },
   {
    "duration": 10,
    "start_time": "2023-06-26T16:28:45.612Z"
   },
   {
    "duration": 35,
    "start_time": "2023-06-26T16:28:45.624Z"
   },
   {
    "duration": 27,
    "start_time": "2023-06-26T16:28:45.661Z"
   },
   {
    "duration": 240,
    "start_time": "2023-06-26T16:28:45.690Z"
   },
   {
    "duration": 50,
    "start_time": "2023-06-26T16:28:45.932Z"
   },
   {
    "duration": 35,
    "start_time": "2023-06-26T16:28:45.984Z"
   },
   {
    "duration": 69,
    "start_time": "2023-06-26T16:28:46.021Z"
   },
   {
    "duration": 5,
    "start_time": "2023-06-26T16:28:46.092Z"
   },
   {
    "duration": 31,
    "start_time": "2023-06-26T16:28:46.099Z"
   },
   {
    "duration": 25,
    "start_time": "2023-06-26T16:28:46.132Z"
   },
   {
    "duration": 417,
    "start_time": "2023-06-26T16:28:46.159Z"
   },
   {
    "duration": 43,
    "start_time": "2023-06-26T16:28:46.581Z"
   },
   {
    "duration": 835,
    "start_time": "2023-06-26T16:28:46.626Z"
   },
   {
    "duration": 160,
    "start_time": "2023-06-26T16:28:47.463Z"
   },
   {
    "duration": 8,
    "start_time": "2023-06-26T16:28:47.625Z"
   },
   {
    "duration": 40,
    "start_time": "2023-06-26T16:28:47.635Z"
   },
   {
    "duration": 62,
    "start_time": "2023-06-26T16:28:47.679Z"
   },
   {
    "duration": 713,
    "start_time": "2023-06-26T16:28:47.743Z"
   },
   {
    "duration": 34,
    "start_time": "2023-06-26T16:28:48.458Z"
   },
   {
    "duration": 569,
    "start_time": "2023-06-26T16:28:48.495Z"
   },
   {
    "duration": 198,
    "start_time": "2023-06-26T16:28:49.067Z"
   },
   {
    "duration": 0,
    "start_time": "2023-06-26T16:28:49.268Z"
   },
   {
    "duration": 0,
    "start_time": "2023-06-26T16:28:49.270Z"
   },
   {
    "duration": 0,
    "start_time": "2023-06-26T16:28:49.271Z"
   },
   {
    "duration": 0,
    "start_time": "2023-06-26T16:28:49.272Z"
   },
   {
    "duration": 0,
    "start_time": "2023-06-26T16:28:49.274Z"
   },
   {
    "duration": 1,
    "start_time": "2023-06-26T16:28:49.275Z"
   },
   {
    "duration": 0,
    "start_time": "2023-06-26T16:28:49.277Z"
   },
   {
    "duration": 0,
    "start_time": "2023-06-26T16:28:49.278Z"
   },
   {
    "duration": 0,
    "start_time": "2023-06-26T16:28:49.279Z"
   },
   {
    "duration": 60,
    "start_time": "2023-06-26T16:30:35.099Z"
   },
   {
    "duration": 198,
    "start_time": "2023-06-26T16:31:06.023Z"
   },
   {
    "duration": 66,
    "start_time": "2023-06-26T16:31:10.678Z"
   },
   {
    "duration": 66,
    "start_time": "2023-06-26T16:31:23.951Z"
   },
   {
    "duration": 1802,
    "start_time": "2023-06-26T16:31:31.373Z"
   },
   {
    "duration": 753,
    "start_time": "2023-06-26T16:31:33.178Z"
   },
   {
    "duration": 24,
    "start_time": "2023-06-26T16:31:33.933Z"
   },
   {
    "duration": 24,
    "start_time": "2023-06-26T16:31:33.964Z"
   },
   {
    "duration": 17,
    "start_time": "2023-06-26T16:31:33.994Z"
   },
   {
    "duration": 20,
    "start_time": "2023-06-26T16:31:34.013Z"
   },
   {
    "duration": 18,
    "start_time": "2023-06-26T16:31:34.035Z"
   },
   {
    "duration": 38,
    "start_time": "2023-06-26T16:31:34.060Z"
   },
   {
    "duration": 11,
    "start_time": "2023-06-26T16:31:34.100Z"
   },
   {
    "duration": 56,
    "start_time": "2023-06-26T16:31:34.113Z"
   },
   {
    "duration": 51,
    "start_time": "2023-06-26T16:31:34.171Z"
   },
   {
    "duration": 12,
    "start_time": "2023-06-26T16:31:34.224Z"
   },
   {
    "duration": 32,
    "start_time": "2023-06-26T16:31:34.238Z"
   },
   {
    "duration": 44,
    "start_time": "2023-06-26T16:31:34.281Z"
   },
   {
    "duration": 93,
    "start_time": "2023-06-26T16:31:34.327Z"
   },
   {
    "duration": 393,
    "start_time": "2023-06-26T16:31:34.423Z"
   },
   {
    "duration": 71,
    "start_time": "2023-06-26T16:31:34.818Z"
   },
   {
    "duration": 39,
    "start_time": "2023-06-26T16:31:34.891Z"
   },
   {
    "duration": 55,
    "start_time": "2023-06-26T16:31:34.932Z"
   },
   {
    "duration": 40,
    "start_time": "2023-06-26T16:31:34.991Z"
   },
   {
    "duration": 22,
    "start_time": "2023-06-26T16:31:35.032Z"
   },
   {
    "duration": 36,
    "start_time": "2023-06-26T16:31:35.055Z"
   },
   {
    "duration": 28,
    "start_time": "2023-06-26T16:31:35.093Z"
   },
   {
    "duration": 20,
    "start_time": "2023-06-26T16:31:35.124Z"
   },
   {
    "duration": 46,
    "start_time": "2023-06-26T16:31:35.147Z"
   },
   {
    "duration": 48,
    "start_time": "2023-06-26T16:31:35.195Z"
   },
   {
    "duration": 83,
    "start_time": "2023-06-26T16:31:35.245Z"
   },
   {
    "duration": 81,
    "start_time": "2023-06-26T16:31:35.330Z"
   },
   {
    "duration": 57,
    "start_time": "2023-06-26T16:31:35.413Z"
   },
   {
    "duration": 37,
    "start_time": "2023-06-26T16:31:35.471Z"
   },
   {
    "duration": 157,
    "start_time": "2023-06-26T16:31:35.510Z"
   },
   {
    "duration": 94,
    "start_time": "2023-06-26T16:31:35.669Z"
   },
   {
    "duration": 28,
    "start_time": "2023-06-26T16:31:35.765Z"
   },
   {
    "duration": 354,
    "start_time": "2023-06-26T16:31:35.795Z"
   },
   {
    "duration": 38,
    "start_time": "2023-06-26T16:31:36.156Z"
   },
   {
    "duration": 8,
    "start_time": "2023-06-26T16:31:36.196Z"
   },
   {
    "duration": 22,
    "start_time": "2023-06-26T16:31:36.205Z"
   },
   {
    "duration": 26,
    "start_time": "2023-06-26T16:31:36.229Z"
   },
   {
    "duration": 12,
    "start_time": "2023-06-26T16:31:36.259Z"
   },
   {
    "duration": 30,
    "start_time": "2023-06-26T16:31:36.273Z"
   },
   {
    "duration": 83,
    "start_time": "2023-06-26T16:31:36.308Z"
   },
   {
    "duration": 4,
    "start_time": "2023-06-26T16:31:36.393Z"
   },
   {
    "duration": 25,
    "start_time": "2023-06-26T16:31:36.399Z"
   },
   {
    "duration": 62,
    "start_time": "2023-06-26T16:31:36.426Z"
   },
   {
    "duration": 17,
    "start_time": "2023-06-26T16:31:36.491Z"
   },
   {
    "duration": 23,
    "start_time": "2023-06-26T16:31:36.511Z"
   },
   {
    "duration": 23,
    "start_time": "2023-06-26T16:31:36.537Z"
   },
   {
    "duration": 49,
    "start_time": "2023-06-26T16:31:36.562Z"
   },
   {
    "duration": 26,
    "start_time": "2023-06-26T16:31:36.613Z"
   },
   {
    "duration": 10,
    "start_time": "2023-06-26T16:31:36.640Z"
   },
   {
    "duration": 40,
    "start_time": "2023-06-26T16:31:36.654Z"
   },
   {
    "duration": 21,
    "start_time": "2023-06-26T16:31:36.695Z"
   },
   {
    "duration": 241,
    "start_time": "2023-06-26T16:31:36.718Z"
   },
   {
    "duration": 43,
    "start_time": "2023-06-26T16:31:36.964Z"
   },
   {
    "duration": 25,
    "start_time": "2023-06-26T16:31:37.008Z"
   },
   {
    "duration": 60,
    "start_time": "2023-06-26T16:31:37.035Z"
   },
   {
    "duration": 9,
    "start_time": "2023-06-26T16:31:37.097Z"
   },
   {
    "duration": 7,
    "start_time": "2023-06-26T16:31:37.109Z"
   },
   {
    "duration": 53,
    "start_time": "2023-06-26T16:31:37.118Z"
   },
   {
    "duration": 427,
    "start_time": "2023-06-26T16:31:37.173Z"
   },
   {
    "duration": 59,
    "start_time": "2023-06-26T16:31:37.603Z"
   },
   {
    "duration": 856,
    "start_time": "2023-06-26T16:31:37.664Z"
   },
   {
    "duration": 222,
    "start_time": "2023-06-26T16:31:38.526Z"
   },
   {
    "duration": 19,
    "start_time": "2023-06-26T16:31:38.750Z"
   },
   {
    "duration": 39,
    "start_time": "2023-06-26T16:31:38.774Z"
   },
   {
    "duration": 118,
    "start_time": "2023-06-26T16:31:38.816Z"
   },
   {
    "duration": 854,
    "start_time": "2023-06-26T16:31:38.936Z"
   },
   {
    "duration": 27,
    "start_time": "2023-06-26T16:31:39.793Z"
   },
   {
    "duration": 404,
    "start_time": "2023-06-26T16:31:39.855Z"
   },
   {
    "duration": 75,
    "start_time": "2023-06-26T16:31:40.261Z"
   },
   {
    "duration": 51,
    "start_time": "2023-06-26T16:31:40.338Z"
   },
   {
    "duration": 23,
    "start_time": "2023-06-26T16:31:40.392Z"
   },
   {
    "duration": 44,
    "start_time": "2023-06-26T16:31:40.417Z"
   },
   {
    "duration": 60,
    "start_time": "2023-06-26T16:31:40.465Z"
   },
   {
    "duration": 57,
    "start_time": "2023-06-26T16:31:40.527Z"
   },
   {
    "duration": 25,
    "start_time": "2023-06-26T16:31:40.586Z"
   },
   {
    "duration": 32,
    "start_time": "2023-06-26T16:31:40.612Z"
   },
   {
    "duration": 17,
    "start_time": "2023-06-26T16:31:40.647Z"
   },
   {
    "duration": 41,
    "start_time": "2023-06-26T16:31:40.666Z"
   },
   {
    "duration": 167,
    "start_time": "2023-06-26T16:31:55.849Z"
   },
   {
    "duration": 46,
    "start_time": "2023-06-26T16:31:59.539Z"
   },
   {
    "duration": 66,
    "start_time": "2023-06-26T16:32:06.744Z"
   },
   {
    "duration": 70,
    "start_time": "2023-06-26T16:32:15.310Z"
   },
   {
    "duration": 24,
    "start_time": "2023-06-26T16:32:20.480Z"
   },
   {
    "duration": 63,
    "start_time": "2023-06-26T16:33:12.382Z"
   },
   {
    "duration": 1560,
    "start_time": "2023-06-26T16:33:19.476Z"
   },
   {
    "duration": 694,
    "start_time": "2023-06-26T16:33:21.038Z"
   },
   {
    "duration": 33,
    "start_time": "2023-06-26T16:33:21.735Z"
   },
   {
    "duration": 7,
    "start_time": "2023-06-26T16:33:21.770Z"
   },
   {
    "duration": 4,
    "start_time": "2023-06-26T16:33:21.779Z"
   },
   {
    "duration": 13,
    "start_time": "2023-06-26T16:33:21.785Z"
   },
   {
    "duration": 12,
    "start_time": "2023-06-26T16:33:21.800Z"
   },
   {
    "duration": 18,
    "start_time": "2023-06-26T16:33:21.814Z"
   },
   {
    "duration": 24,
    "start_time": "2023-06-26T16:33:21.833Z"
   },
   {
    "duration": 43,
    "start_time": "2023-06-26T16:33:21.859Z"
   },
   {
    "duration": 50,
    "start_time": "2023-06-26T16:33:21.903Z"
   },
   {
    "duration": 17,
    "start_time": "2023-06-26T16:33:21.954Z"
   },
   {
    "duration": 16,
    "start_time": "2023-06-26T16:33:21.974Z"
   },
   {
    "duration": 14,
    "start_time": "2023-06-26T16:33:21.993Z"
   },
   {
    "duration": 107,
    "start_time": "2023-06-26T16:33:22.010Z"
   },
   {
    "duration": 371,
    "start_time": "2023-06-26T16:33:22.120Z"
   },
   {
    "duration": 69,
    "start_time": "2023-06-26T16:33:22.494Z"
   },
   {
    "duration": 39,
    "start_time": "2023-06-26T16:33:22.570Z"
   },
   {
    "duration": 53,
    "start_time": "2023-06-26T16:33:22.611Z"
   },
   {
    "duration": 69,
    "start_time": "2023-06-26T16:33:22.667Z"
   },
   {
    "duration": 20,
    "start_time": "2023-06-26T16:33:22.738Z"
   },
   {
    "duration": 16,
    "start_time": "2023-06-26T16:33:22.761Z"
   },
   {
    "duration": 22,
    "start_time": "2023-06-26T16:33:22.779Z"
   },
   {
    "duration": 11,
    "start_time": "2023-06-26T16:33:22.802Z"
   },
   {
    "duration": 9,
    "start_time": "2023-06-26T16:33:22.815Z"
   },
   {
    "duration": 34,
    "start_time": "2023-06-26T16:33:22.826Z"
   },
   {
    "duration": 25,
    "start_time": "2023-06-26T16:33:22.861Z"
   },
   {
    "duration": 17,
    "start_time": "2023-06-26T16:33:22.888Z"
   },
   {
    "duration": 46,
    "start_time": "2023-06-26T16:33:22.907Z"
   },
   {
    "duration": 12,
    "start_time": "2023-06-26T16:33:22.956Z"
   },
   {
    "duration": 130,
    "start_time": "2023-06-26T16:33:22.971Z"
   },
   {
    "duration": 67,
    "start_time": "2023-06-26T16:33:23.103Z"
   },
   {
    "duration": 13,
    "start_time": "2023-06-26T16:33:23.172Z"
   },
   {
    "duration": 345,
    "start_time": "2023-06-26T16:33:23.187Z"
   },
   {
    "duration": 33,
    "start_time": "2023-06-26T16:33:23.534Z"
   },
   {
    "duration": 14,
    "start_time": "2023-06-26T16:33:23.569Z"
   },
   {
    "duration": 16,
    "start_time": "2023-06-26T16:33:23.585Z"
   },
   {
    "duration": 8,
    "start_time": "2023-06-26T16:33:23.603Z"
   },
   {
    "duration": 14,
    "start_time": "2023-06-26T16:33:23.613Z"
   },
   {
    "duration": 33,
    "start_time": "2023-06-26T16:33:23.629Z"
   },
   {
    "duration": 49,
    "start_time": "2023-06-26T16:33:23.668Z"
   },
   {
    "duration": 6,
    "start_time": "2023-06-26T16:33:23.719Z"
   },
   {
    "duration": 35,
    "start_time": "2023-06-26T16:33:23.726Z"
   },
   {
    "duration": 21,
    "start_time": "2023-06-26T16:33:23.763Z"
   },
   {
    "duration": 10,
    "start_time": "2023-06-26T16:33:23.786Z"
   },
   {
    "duration": 16,
    "start_time": "2023-06-26T16:33:23.798Z"
   },
   {
    "duration": 47,
    "start_time": "2023-06-26T16:33:23.816Z"
   },
   {
    "duration": 18,
    "start_time": "2023-06-26T16:33:23.868Z"
   },
   {
    "duration": 22,
    "start_time": "2023-06-26T16:33:23.887Z"
   },
   {
    "duration": 10,
    "start_time": "2023-06-26T16:33:23.912Z"
   },
   {
    "duration": 32,
    "start_time": "2023-06-26T16:33:23.925Z"
   },
   {
    "duration": 21,
    "start_time": "2023-06-26T16:33:23.961Z"
   },
   {
    "duration": 238,
    "start_time": "2023-06-26T16:33:23.984Z"
   },
   {
    "duration": 58,
    "start_time": "2023-06-26T16:33:24.224Z"
   },
   {
    "duration": 27,
    "start_time": "2023-06-26T16:33:24.284Z"
   },
   {
    "duration": 58,
    "start_time": "2023-06-26T16:33:24.313Z"
   },
   {
    "duration": 8,
    "start_time": "2023-06-26T16:33:24.374Z"
   },
   {
    "duration": 6,
    "start_time": "2023-06-26T16:33:24.384Z"
   },
   {
    "duration": 28,
    "start_time": "2023-06-26T16:33:24.392Z"
   },
   {
    "duration": 364,
    "start_time": "2023-06-26T16:33:24.452Z"
   },
   {
    "duration": 45,
    "start_time": "2023-06-26T16:33:24.819Z"
   },
   {
    "duration": 802,
    "start_time": "2023-06-26T16:33:24.874Z"
   },
   {
    "duration": 214,
    "start_time": "2023-06-26T16:33:25.679Z"
   },
   {
    "duration": 9,
    "start_time": "2023-06-26T16:33:25.896Z"
   },
   {
    "duration": 23,
    "start_time": "2023-06-26T16:33:25.907Z"
   },
   {
    "duration": 85,
    "start_time": "2023-06-26T16:33:25.932Z"
   },
   {
    "duration": 768,
    "start_time": "2023-06-26T16:33:26.018Z"
   },
   {
    "duration": 74,
    "start_time": "2023-06-26T16:33:26.788Z"
   },
   {
    "duration": 437,
    "start_time": "2023-06-26T16:33:26.864Z"
   },
   {
    "duration": 104,
    "start_time": "2023-06-26T16:33:27.304Z"
   },
   {
    "duration": 22,
    "start_time": "2023-06-26T16:33:27.410Z"
   },
   {
    "duration": 40,
    "start_time": "2023-06-26T16:33:27.434Z"
   },
   {
    "duration": 57,
    "start_time": "2023-06-26T16:33:27.478Z"
   },
   {
    "duration": 44,
    "start_time": "2023-06-26T16:33:27.537Z"
   },
   {
    "duration": 49,
    "start_time": "2023-06-26T16:33:27.583Z"
   },
   {
    "duration": 7,
    "start_time": "2023-06-26T16:33:27.634Z"
   },
   {
    "duration": 45,
    "start_time": "2023-06-26T16:33:27.645Z"
   },
   {
    "duration": 17,
    "start_time": "2023-06-26T16:33:27.692Z"
   },
   {
    "duration": 26,
    "start_time": "2023-06-26T16:33:27.711Z"
   },
   {
    "duration": 193,
    "start_time": "2023-06-26T16:34:09.184Z"
   },
   {
    "duration": 60,
    "start_time": "2023-06-26T16:34:13.795Z"
   },
   {
    "duration": 44,
    "start_time": "2023-06-26T16:34:17.181Z"
   },
   {
    "duration": 1476,
    "start_time": "2023-06-26T16:44:27.144Z"
   },
   {
    "duration": 698,
    "start_time": "2023-06-26T16:44:28.623Z"
   },
   {
    "duration": 24,
    "start_time": "2023-06-26T16:44:29.323Z"
   },
   {
    "duration": 21,
    "start_time": "2023-06-26T16:44:29.349Z"
   },
   {
    "duration": 46,
    "start_time": "2023-06-26T16:44:29.372Z"
   },
   {
    "duration": 30,
    "start_time": "2023-06-26T16:44:29.420Z"
   },
   {
    "duration": 21,
    "start_time": "2023-06-26T16:44:29.452Z"
   },
   {
    "duration": 57,
    "start_time": "2023-06-26T16:44:29.475Z"
   },
   {
    "duration": 29,
    "start_time": "2023-06-26T16:44:29.534Z"
   },
   {
    "duration": 73,
    "start_time": "2023-06-26T16:44:29.567Z"
   },
   {
    "duration": 41,
    "start_time": "2023-06-26T16:44:29.643Z"
   },
   {
    "duration": 9,
    "start_time": "2023-06-26T16:44:29.708Z"
   },
   {
    "duration": 37,
    "start_time": "2023-06-26T16:44:29.719Z"
   },
   {
    "duration": 35,
    "start_time": "2023-06-26T16:44:29.758Z"
   },
   {
    "duration": 143,
    "start_time": "2023-06-26T16:44:29.797Z"
   },
   {
    "duration": 389,
    "start_time": "2023-06-26T16:44:29.942Z"
   },
   {
    "duration": 55,
    "start_time": "2023-06-26T16:44:30.332Z"
   },
   {
    "duration": 122,
    "start_time": "2023-06-26T16:44:30.389Z"
   },
   {
    "duration": 91,
    "start_time": "2023-06-26T16:44:30.513Z"
   },
   {
    "duration": 94,
    "start_time": "2023-06-26T16:44:30.606Z"
   },
   {
    "duration": 69,
    "start_time": "2023-06-26T16:44:30.703Z"
   },
   {
    "duration": 77,
    "start_time": "2023-06-26T16:44:30.775Z"
   },
   {
    "duration": 63,
    "start_time": "2023-06-26T16:44:30.855Z"
   },
   {
    "duration": 59,
    "start_time": "2023-06-26T16:44:30.920Z"
   },
   {
    "duration": 46,
    "start_time": "2023-06-26T16:44:30.981Z"
   },
   {
    "duration": 89,
    "start_time": "2023-06-26T16:44:31.029Z"
   },
   {
    "duration": 71,
    "start_time": "2023-06-26T16:44:31.121Z"
   },
   {
    "duration": 59,
    "start_time": "2023-06-26T16:44:31.199Z"
   },
   {
    "duration": 163,
    "start_time": "2023-06-26T16:44:31.260Z"
   },
   {
    "duration": 40,
    "start_time": "2023-06-26T16:44:31.426Z"
   },
   {
    "duration": 153,
    "start_time": "2023-06-26T16:44:31.469Z"
   },
   {
    "duration": 41,
    "start_time": "2023-06-26T16:44:31.623Z"
   },
   {
    "duration": 15,
    "start_time": "2023-06-26T16:44:31.666Z"
   },
   {
    "duration": 270,
    "start_time": "2023-06-26T16:44:31.710Z"
   },
   {
    "duration": 32,
    "start_time": "2023-06-26T16:44:31.982Z"
   },
   {
    "duration": 108,
    "start_time": "2023-06-26T16:44:32.018Z"
   },
   {
    "duration": 75,
    "start_time": "2023-06-26T16:44:32.130Z"
   },
   {
    "duration": 104,
    "start_time": "2023-06-26T16:44:32.207Z"
   },
   {
    "duration": 137,
    "start_time": "2023-06-26T16:44:32.314Z"
   },
   {
    "duration": 27,
    "start_time": "2023-06-26T16:44:32.455Z"
   },
   {
    "duration": 81,
    "start_time": "2023-06-26T16:44:32.485Z"
   },
   {
    "duration": 6,
    "start_time": "2023-06-26T16:44:32.568Z"
   },
   {
    "duration": 78,
    "start_time": "2023-06-26T16:44:32.576Z"
   },
   {
    "duration": 63,
    "start_time": "2023-06-26T16:44:32.657Z"
   },
   {
    "duration": 28,
    "start_time": "2023-06-26T16:44:32.722Z"
   },
   {
    "duration": 58,
    "start_time": "2023-06-26T16:44:32.754Z"
   },
   {
    "duration": 42,
    "start_time": "2023-06-26T16:44:32.814Z"
   },
   {
    "duration": 100,
    "start_time": "2023-06-26T16:44:32.859Z"
   },
   {
    "duration": 58,
    "start_time": "2023-06-26T16:44:32.960Z"
   },
   {
    "duration": 30,
    "start_time": "2023-06-26T16:44:33.020Z"
   },
   {
    "duration": 36,
    "start_time": "2023-06-26T16:44:33.052Z"
   },
   {
    "duration": 40,
    "start_time": "2023-06-26T16:44:33.090Z"
   },
   {
    "duration": 254,
    "start_time": "2023-06-26T16:44:33.133Z"
   },
   {
    "duration": 47,
    "start_time": "2023-06-26T16:44:33.389Z"
   },
   {
    "duration": 27,
    "start_time": "2023-06-26T16:44:33.438Z"
   },
   {
    "duration": 118,
    "start_time": "2023-06-26T16:44:33.466Z"
   },
   {
    "duration": 6,
    "start_time": "2023-06-26T16:44:33.586Z"
   },
   {
    "duration": 43,
    "start_time": "2023-06-26T16:44:33.594Z"
   },
   {
    "duration": 102,
    "start_time": "2023-06-26T16:44:33.639Z"
   },
   {
    "duration": 368,
    "start_time": "2023-06-26T16:44:33.743Z"
   },
   {
    "duration": 60,
    "start_time": "2023-06-26T16:44:34.113Z"
   },
   {
    "duration": 826,
    "start_time": "2023-06-26T16:44:34.175Z"
   },
   {
    "duration": 172,
    "start_time": "2023-06-26T16:44:35.003Z"
   },
   {
    "duration": 8,
    "start_time": "2023-06-26T16:44:35.178Z"
   },
   {
    "duration": 46,
    "start_time": "2023-06-26T16:44:35.187Z"
   },
   {
    "duration": 102,
    "start_time": "2023-06-26T16:44:35.235Z"
   },
   {
    "duration": 913,
    "start_time": "2023-06-26T16:44:35.339Z"
   },
   {
    "duration": 63,
    "start_time": "2023-06-26T16:44:36.255Z"
   },
   {
    "duration": 440,
    "start_time": "2023-06-26T16:44:36.321Z"
   },
   {
    "duration": 85,
    "start_time": "2023-06-26T16:44:36.763Z"
   },
   {
    "duration": 23,
    "start_time": "2023-06-26T16:44:36.850Z"
   },
   {
    "duration": 55,
    "start_time": "2023-06-26T16:44:36.876Z"
   },
   {
    "duration": 25,
    "start_time": "2023-06-26T16:44:36.934Z"
   },
   {
    "duration": 25,
    "start_time": "2023-06-26T16:44:36.961Z"
   },
   {
    "duration": 103,
    "start_time": "2023-06-26T16:44:37.010Z"
   },
   {
    "duration": 26,
    "start_time": "2023-06-26T16:44:37.115Z"
   },
   {
    "duration": 39,
    "start_time": "2023-06-26T16:44:37.145Z"
   },
   {
    "duration": 28,
    "start_time": "2023-06-26T16:44:37.188Z"
   },
   {
    "duration": 27,
    "start_time": "2023-06-26T16:44:37.219Z"
   }
  ],
  "kernelspec": {
   "display_name": "Python 3 (ipykernel)",
   "language": "python",
   "name": "python3"
  },
  "language_info": {
   "codemirror_mode": {
    "name": "ipython",
    "version": 3
   },
   "file_extension": ".py",
   "mimetype": "text/x-python",
   "name": "python",
   "nbconvert_exporter": "python",
   "pygments_lexer": "ipython3",
   "version": "3.10.9"
  },
  "toc": {
   "base_numbering": 1,
   "nav_menu": {},
   "number_sections": true,
   "sideBar": true,
   "skip_h1_title": true,
   "title_cell": "Table of Contents",
   "title_sidebar": "Contents",
   "toc_cell": false,
   "toc_position": {},
   "toc_section_display": true,
   "toc_window_display": false
  }
 },
 "nbformat": 4,
 "nbformat_minor": 2
}
