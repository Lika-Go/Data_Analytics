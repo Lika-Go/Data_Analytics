{
 "cells": [
  {
   "cell_type": "markdown",
   "metadata": {},
   "source": [
    "# Определение оптимального тарифа телеком-компании"
   ]
  },
  {
   "cell_type": "markdown",
   "metadata": {
    "deletable": false,
    "editable": false,
    "id": "NzOeQM6C_oCY"
   },
   "source": [
    "### Откроем файл с данными и изучим общую информацию"
   ]
  },
  {
   "cell_type": "code",
   "execution_count": 1,
   "metadata": {
    "deletable": false,
    "id": "RrVHWePG_oCV"
   },
   "outputs": [],
   "source": [
    "import pandas as pd\n",
    "import matplotlib.pyplot as plt\n",
    "import numpy as np\n",
    "from scipy import stats as st\n",
    "import seaborn as sns"
   ]
  },
  {
   "cell_type": "markdown",
   "metadata": {
    "deletable": false,
    "editable": false,
    "id": "jC2O2Xp9_oCZ",
    "tags": [
     "start_task"
    ]
   },
   "source": [
    "Сохраним датафрейм в переменную `calls`."
   ]
  },
  {
   "cell_type": "code",
   "execution_count": 2,
   "metadata": {
    "deletable": false,
    "id": "lPo8_mWg_oCZ"
   },
   "outputs": [],
   "source": [
    "calls = pd.read_csv('https://code.s3.yandex.net/datasets/calls.csv')"
   ]
  },
  {
   "cell_type": "markdown",
   "metadata": {
    "deletable": false,
    "editable": false,
    "id": "3TyWmQAR_oCZ",
    "tags": [
     "start_task"
    ]
   },
   "source": [
    "Выведем первые 5 строк датафрейма `calls`."
   ]
  },
  {
   "cell_type": "code",
   "execution_count": 3,
   "metadata": {
    "deletable": false,
    "id": "mdxHj-qz_oCZ"
   },
   "outputs": [
    {
     "data": {
      "text/html": [
       "<div>\n",
       "<style scoped>\n",
       "    .dataframe tbody tr th:only-of-type {\n",
       "        vertical-align: middle;\n",
       "    }\n",
       "\n",
       "    .dataframe tbody tr th {\n",
       "        vertical-align: top;\n",
       "    }\n",
       "\n",
       "    .dataframe thead th {\n",
       "        text-align: right;\n",
       "    }\n",
       "</style>\n",
       "<table border=\"1\" class=\"dataframe\">\n",
       "  <thead>\n",
       "    <tr style=\"text-align: right;\">\n",
       "      <th></th>\n",
       "      <th>id</th>\n",
       "      <th>call_date</th>\n",
       "      <th>duration</th>\n",
       "      <th>user_id</th>\n",
       "    </tr>\n",
       "  </thead>\n",
       "  <tbody>\n",
       "    <tr>\n",
       "      <th>0</th>\n",
       "      <td>1000_0</td>\n",
       "      <td>2018-07-25</td>\n",
       "      <td>0.00</td>\n",
       "      <td>1000</td>\n",
       "    </tr>\n",
       "    <tr>\n",
       "      <th>1</th>\n",
       "      <td>1000_1</td>\n",
       "      <td>2018-08-17</td>\n",
       "      <td>0.00</td>\n",
       "      <td>1000</td>\n",
       "    </tr>\n",
       "    <tr>\n",
       "      <th>2</th>\n",
       "      <td>1000_2</td>\n",
       "      <td>2018-06-11</td>\n",
       "      <td>2.85</td>\n",
       "      <td>1000</td>\n",
       "    </tr>\n",
       "    <tr>\n",
       "      <th>3</th>\n",
       "      <td>1000_3</td>\n",
       "      <td>2018-09-21</td>\n",
       "      <td>13.80</td>\n",
       "      <td>1000</td>\n",
       "    </tr>\n",
       "    <tr>\n",
       "      <th>4</th>\n",
       "      <td>1000_4</td>\n",
       "      <td>2018-12-15</td>\n",
       "      <td>5.18</td>\n",
       "      <td>1000</td>\n",
       "    </tr>\n",
       "  </tbody>\n",
       "</table>\n",
       "</div>"
      ],
      "text/plain": [
       "       id   call_date  duration  user_id\n",
       "0  1000_0  2018-07-25      0.00     1000\n",
       "1  1000_1  2018-08-17      0.00     1000\n",
       "2  1000_2  2018-06-11      2.85     1000\n",
       "3  1000_3  2018-09-21     13.80     1000\n",
       "4  1000_4  2018-12-15      5.18     1000"
      ]
     },
     "execution_count": 3,
     "metadata": {},
     "output_type": "execute_result"
    }
   ],
   "source": [
    "calls.head()"
   ]
  },
  {
   "cell_type": "markdown",
   "metadata": {
    "deletable": false,
    "editable": false,
    "id": "7pmWVJ8J_oCa",
    "tags": [
     "start_task"
    ]
   },
   "source": [
    "Выведем основную информацию для датафрейма `calls` с помощью метода `info()`."
   ]
  },
  {
   "cell_type": "code",
   "execution_count": 4,
   "metadata": {
    "deletable": false,
    "id": "wiDgaGnA_oCa"
   },
   "outputs": [
    {
     "name": "stdout",
     "output_type": "stream",
     "text": [
      "<class 'pandas.core.frame.DataFrame'>\n",
      "RangeIndex: 202607 entries, 0 to 202606\n",
      "Data columns (total 4 columns):\n",
      " #   Column     Non-Null Count   Dtype  \n",
      "---  ------     --------------   -----  \n",
      " 0   id         202607 non-null  object \n",
      " 1   call_date  202607 non-null  object \n",
      " 2   duration   202607 non-null  float64\n",
      " 3   user_id    202607 non-null  int64  \n",
      "dtypes: float64(1), int64(1), object(2)\n",
      "memory usage: 6.2+ MB\n"
     ]
    }
   ],
   "source": [
    "calls.info()"
   ]
  },
  {
   "cell_type": "markdown",
   "metadata": {
    "deletable": false,
    "editable": false,
    "id": "IVqIQLOq_oCa",
    "tags": [
     "start_task"
    ]
   },
   "source": [
    "С помощью метода `hist()` выведем гистограмму для столбца с продолжительностью звонков."
   ]
  },
  {
   "cell_type": "code",
   "execution_count": 5,
   "metadata": {
    "deletable": false,
    "id": "sKOklkAe_oCa"
   },
   "outputs": [
    {
     "data": {
      "image/png": "[encoded data removed]",
      "text/plain": [
       "<Figure size 700x700 with 1 Axes>"
      ]
     },
     "metadata": {},
     "output_type": "display_data"
    }
   ],
   "source": [
    "calls.hist('duration', figsize=(7, 7), legend=True)\n",
    "plt.title('Продолжительность звонков')\n",
    "plt.xlabel('Минуты')\n",
    "plt.ylabel('Количество звонков')\n",
    "plt.show()"
   ]
  },
  {
   "cell_type": "markdown",
   "metadata": {
    "deletable": false,
    "editable": false,
    "id": "NAXd4x_4_oCa",
    "tags": [
     "start_task"
    ]
   },
   "source": [
    "Откроем файл `/datasets/internet.csv`, сохраним датафрейм в переменную `sessions`."
   ]
  },
  {
   "cell_type": "code",
   "execution_count": 6,
   "metadata": {
    "deletable": false,
    "id": "Wf_f3Vkc_oCa"
   },
   "outputs": [],
   "source": [
    "sessions = pd.read_csv('https://code.s3.yandex.net/datasets/internet.csv')"
   ]
  },
  {
   "cell_type": "markdown",
   "metadata": {
    "deletable": false,
    "editable": false,
    "id": "StL-wNRI_oCb",
    "tags": [
     "start_task"
    ]
   },
   "source": [
    "Выведем первые 5 строк датафрейма `sessions`."
   ]
  },
  {
   "cell_type": "code",
   "execution_count": 7,
   "metadata": {
    "deletable": false,
    "id": "LsRkGeG7_oCb"
   },
   "outputs": [
    {
     "data": {
      "text/html": [
       "<div>\n",
       "<style scoped>\n",
       "    .dataframe tbody tr th:only-of-type {\n",
       "        vertical-align: middle;\n",
       "    }\n",
       "\n",
       "    .dataframe tbody tr th {\n",
       "        vertical-align: top;\n",
       "    }\n",
       "\n",
       "    .dataframe thead th {\n",
       "        text-align: right;\n",
       "    }\n",
       "</style>\n",
       "<table border=\"1\" class=\"dataframe\">\n",
       "  <thead>\n",
       "    <tr style=\"text-align: right;\">\n",
       "      <th></th>\n",
       "      <th>Unnamed: 0</th>\n",
       "      <th>id</th>\n",
       "      <th>mb_used</th>\n",
       "      <th>session_date</th>\n",
       "      <th>user_id</th>\n",
       "    </tr>\n",
       "  </thead>\n",
       "  <tbody>\n",
       "    <tr>\n",
       "      <th>0</th>\n",
       "      <td>0</td>\n",
       "      <td>1000_0</td>\n",
       "      <td>112.95</td>\n",
       "      <td>2018-11-25</td>\n",
       "      <td>1000</td>\n",
       "    </tr>\n",
       "    <tr>\n",
       "      <th>1</th>\n",
       "      <td>1</td>\n",
       "      <td>1000_1</td>\n",
       "      <td>1052.81</td>\n",
       "      <td>2018-09-07</td>\n",
       "      <td>1000</td>\n",
       "    </tr>\n",
       "    <tr>\n",
       "      <th>2</th>\n",
       "      <td>2</td>\n",
       "      <td>1000_2</td>\n",
       "      <td>1197.26</td>\n",
       "      <td>2018-06-25</td>\n",
       "      <td>1000</td>\n",
       "    </tr>\n",
       "    <tr>\n",
       "      <th>3</th>\n",
       "      <td>3</td>\n",
       "      <td>1000_3</td>\n",
       "      <td>550.27</td>\n",
       "      <td>2018-08-22</td>\n",
       "      <td>1000</td>\n",
       "    </tr>\n",
       "    <tr>\n",
       "      <th>4</th>\n",
       "      <td>4</td>\n",
       "      <td>1000_4</td>\n",
       "      <td>302.56</td>\n",
       "      <td>2018-09-24</td>\n",
       "      <td>1000</td>\n",
       "    </tr>\n",
       "  </tbody>\n",
       "</table>\n",
       "</div>"
      ],
      "text/plain": [
       "   Unnamed: 0      id  mb_used session_date  user_id\n",
       "0           0  1000_0   112.95   2018-11-25     1000\n",
       "1           1  1000_1  1052.81   2018-09-07     1000\n",
       "2           2  1000_2  1197.26   2018-06-25     1000\n",
       "3           3  1000_3   550.27   2018-08-22     1000\n",
       "4           4  1000_4   302.56   2018-09-24     1000"
      ]
     },
     "execution_count": 7,
     "metadata": {},
     "output_type": "execute_result"
    }
   ],
   "source": [
    "sessions.head()"
   ]
  },
  {
   "cell_type": "markdown",
   "metadata": {
    "deletable": false,
    "editable": false,
    "id": "WyUFK2C6_oCb",
    "tags": [
     "start_task"
    ]
   },
   "source": [
    "Выведем основную информацию для датафрейма `sessions` с помощью метода `info()`. "
   ]
  },
  {
   "cell_type": "code",
   "execution_count": 8,
   "metadata": {
    "deletable": false,
    "id": "0fLAUTTQ_oCb"
   },
   "outputs": [
    {
     "name": "stdout",
     "output_type": "stream",
     "text": [
      "<class 'pandas.core.frame.DataFrame'>\n",
      "RangeIndex: 149396 entries, 0 to 149395\n",
      "Data columns (total 5 columns):\n",
      " #   Column        Non-Null Count   Dtype  \n",
      "---  ------        --------------   -----  \n",
      " 0   Unnamed: 0    149396 non-null  int64  \n",
      " 1   id            149396 non-null  object \n",
      " 2   mb_used       149396 non-null  float64\n",
      " 3   session_date  149396 non-null  object \n",
      " 4   user_id       149396 non-null  int64  \n",
      "dtypes: float64(1), int64(2), object(2)\n",
      "memory usage: 5.7+ MB\n"
     ]
    }
   ],
   "source": [
    "sessions.info()"
   ]
  },
  {
   "cell_type": "markdown",
   "metadata": {
    "deletable": false,
    "editable": false,
    "id": "DpvGfws5_oCb",
    "tags": [
     "start_task"
    ]
   },
   "source": [
    "С помощью метода `hist()` выведем гистограмму для столбца с количеством потраченных мегабайт."
   ]
  },
  {
   "cell_type": "code",
   "execution_count": 9,
   "metadata": {
    "deletable": false,
    "id": "_uke6m2-_oCb"
   },
   "outputs": [
    {
     "data": {
      "image/png": "[encoded data removed]",
      "text/plain": [
       "<Figure size 700x700 with 1 Axes>"
      ]
     },
     "metadata": {},
     "output_type": "display_data"
    }
   ],
   "source": [
    "sessions.hist('mb_used', figsize=(7, 7), legend=True)\n",
    "plt.title('Количество потраченных мегабайт')\n",
    "plt.show()"
   ]
  },
  {
   "cell_type": "markdown",
   "metadata": {
    "deletable": false,
    "editable": false,
    "id": "OhXx4G1f_oCb",
    "tags": [
     "start_task"
    ]
   },
   "source": [
    "Откроем файл `/datasets/messages.csv`, сохраним датафрейм в переменную `messages`."
   ]
  },
  {
   "cell_type": "code",
   "execution_count": 10,
   "metadata": {
    "deletable": false,
    "id": "UKrQhgvV_oCc"
   },
   "outputs": [],
   "source": [
    "messages = pd.read_csv('https://code.s3.yandex.net/datasets/messages.csv')"
   ]
  },
  {
   "cell_type": "markdown",
   "metadata": {
    "deletable": false,
    "editable": false,
    "id": "SyaWBm9T_oCc",
    "tags": [
     "start_task"
    ]
   },
   "source": [
    "Выведем первые 5 строк датафрейма `messages`."
   ]
  },
  {
   "cell_type": "code",
   "execution_count": 11,
   "metadata": {
    "deletable": false,
    "id": "1_zOkvJO_oCc"
   },
   "outputs": [
    {
     "data": {
      "text/html": [
       "<div>\n",
       "<style scoped>\n",
       "    .dataframe tbody tr th:only-of-type {\n",
       "        vertical-align: middle;\n",
       "    }\n",
       "\n",
       "    .dataframe tbody tr th {\n",
       "        vertical-align: top;\n",
       "    }\n",
       "\n",
       "    .dataframe thead th {\n",
       "        text-align: right;\n",
       "    }\n",
       "</style>\n",
       "<table border=\"1\" class=\"dataframe\">\n",
       "  <thead>\n",
       "    <tr style=\"text-align: right;\">\n",
       "      <th></th>\n",
       "      <th>id</th>\n",
       "      <th>message_date</th>\n",
       "      <th>user_id</th>\n",
       "    </tr>\n",
       "  </thead>\n",
       "  <tbody>\n",
       "    <tr>\n",
       "      <th>0</th>\n",
       "      <td>1000_0</td>\n",
       "      <td>2018-06-27</td>\n",
       "      <td>1000</td>\n",
       "    </tr>\n",
       "    <tr>\n",
       "      <th>1</th>\n",
       "      <td>1000_1</td>\n",
       "      <td>2018-10-08</td>\n",
       "      <td>1000</td>\n",
       "    </tr>\n",
       "    <tr>\n",
       "      <th>2</th>\n",
       "      <td>1000_2</td>\n",
       "      <td>2018-08-04</td>\n",
       "      <td>1000</td>\n",
       "    </tr>\n",
       "    <tr>\n",
       "      <th>3</th>\n",
       "      <td>1000_3</td>\n",
       "      <td>2018-06-16</td>\n",
       "      <td>1000</td>\n",
       "    </tr>\n",
       "    <tr>\n",
       "      <th>4</th>\n",
       "      <td>1000_4</td>\n",
       "      <td>2018-12-05</td>\n",
       "      <td>1000</td>\n",
       "    </tr>\n",
       "  </tbody>\n",
       "</table>\n",
       "</div>"
      ],
      "text/plain": [
       "       id message_date  user_id\n",
       "0  1000_0   2018-06-27     1000\n",
       "1  1000_1   2018-10-08     1000\n",
       "2  1000_2   2018-08-04     1000\n",
       "3  1000_3   2018-06-16     1000\n",
       "4  1000_4   2018-12-05     1000"
      ]
     },
     "execution_count": 11,
     "metadata": {},
     "output_type": "execute_result"
    }
   ],
   "source": [
    "messages.head()"
   ]
  },
  {
   "cell_type": "markdown",
   "metadata": {
    "deletable": false,
    "editable": false,
    "id": "0VBJNN-T_oCc",
    "tags": [
     "start_task"
    ]
   },
   "source": [
    "**Задание 11.** Выведите основную информацию для датафрейма `messages` с помощью метода `info()`. "
   ]
  },
  {
   "cell_type": "code",
   "execution_count": 12,
   "metadata": {
    "deletable": false,
    "id": "wrgl0LdX_oCc"
   },
   "outputs": [
    {
     "name": "stdout",
     "output_type": "stream",
     "text": [
      "<class 'pandas.core.frame.DataFrame'>\n",
      "RangeIndex: 123036 entries, 0 to 123035\n",
      "Data columns (total 3 columns):\n",
      " #   Column        Non-Null Count   Dtype \n",
      "---  ------        --------------   ----- \n",
      " 0   id            123036 non-null  object\n",
      " 1   message_date  123036 non-null  object\n",
      " 2   user_id       123036 non-null  int64 \n",
      "dtypes: int64(1), object(2)\n",
      "memory usage: 2.8+ MB\n"
     ]
    }
   ],
   "source": [
    "messages.info()"
   ]
  },
  {
   "cell_type": "markdown",
   "metadata": {
    "deletable": false,
    "editable": false,
    "id": "KhSrBR96_oCc",
    "tags": [
     "start_task"
    ]
   },
   "source": [
    "**Задание 12.** Откройте файл `/datasets/tariffs.csv`, сохраните датафрейм в переменную `tariffs`."
   ]
  },
  {
   "cell_type": "code",
   "execution_count": 13,
   "metadata": {
    "deletable": false,
    "id": "3V2mBbx5_oCc"
   },
   "outputs": [],
   "source": [
    "tariffs = pd.read_csv('https://code.s3.yandex.net/datasets/tariffs.csv')"
   ]
  },
  {
   "cell_type": "markdown",
   "metadata": {
    "deletable": false,
    "editable": false,
    "id": "oGNMcS4U_oCc",
    "tags": [
     "start_task"
    ]
   },
   "source": [
    "**Задание 13.** Выведите весь датафрейм `tariffs`."
   ]
  },
  {
   "cell_type": "code",
   "execution_count": 14,
   "metadata": {
    "deletable": false,
    "id": "aa6cdOI9_oCd"
   },
   "outputs": [
    {
     "name": "stdout",
     "output_type": "stream",
     "text": [
      "   messages_included  mb_per_month_included  minutes_included  \\\n",
      "0                 50                  15360               500   \n",
      "1               1000                  30720              3000   \n",
      "\n",
      "   rub_monthly_fee  rub_per_gb  rub_per_message  rub_per_minute tariff_name  \n",
      "0              550         200                3               3       smart  \n",
      "1             1950         150                1               1       ultra  \n"
     ]
    }
   ],
   "source": [
    "print(tariffs)"
   ]
  },
  {
   "cell_type": "markdown",
   "metadata": {
    "deletable": false,
    "editable": false,
    "id": "jDruO0mX_oCd",
    "tags": [
     "start_task"
    ]
   },
   "source": [
    "**Задание 14.** Выведите основную информацию для датафрейма `tariffs` с помощью метода `info()`."
   ]
  },
  {
   "cell_type": "code",
   "execution_count": 15,
   "metadata": {
    "deletable": false,
    "id": "YgK7d8XT_oCd"
   },
   "outputs": [
    {
     "name": "stdout",
     "output_type": "stream",
     "text": [
      "<class 'pandas.core.frame.DataFrame'>\n",
      "RangeIndex: 2 entries, 0 to 1\n",
      "Data columns (total 8 columns):\n",
      " #   Column                 Non-Null Count  Dtype \n",
      "---  ------                 --------------  ----- \n",
      " 0   messages_included      2 non-null      int64 \n",
      " 1   mb_per_month_included  2 non-null      int64 \n",
      " 2   minutes_included       2 non-null      int64 \n",
      " 3   rub_monthly_fee        2 non-null      int64 \n",
      " 4   rub_per_gb             2 non-null      int64 \n",
      " 5   rub_per_message        2 non-null      int64 \n",
      " 6   rub_per_minute         2 non-null      int64 \n",
      " 7   tariff_name            2 non-null      object\n",
      "dtypes: int64(7), object(1)\n",
      "memory usage: 256.0+ bytes\n"
     ]
    }
   ],
   "source": [
    "tariffs.info()"
   ]
  },
  {
   "cell_type": "markdown",
   "metadata": {
    "deletable": false,
    "editable": false,
    "id": "20KVeYwe_oCd",
    "tags": [
     "start_task"
    ]
   },
   "source": [
    "**Задание 15.** Откройте файл `/datasets/users.csv`, сохраните датафрейм в переменную `users`."
   ]
  },
  {
   "cell_type": "code",
   "execution_count": 16,
   "metadata": {
    "deletable": false,
    "id": "v5NwQmKo_oCd"
   },
   "outputs": [],
   "source": [
    "users = pd.read_csv('https://code.s3.yandex.net/datasets/users.csv')"
   ]
  },
  {
   "cell_type": "markdown",
   "metadata": {
    "deletable": false,
    "editable": false,
    "id": "q0SqMiTs_oCd",
    "tags": [
     "start_task"
    ]
   },
   "source": [
    "**Задание 16.** Выведите первые 5 строк датафрейма `users`."
   ]
  },
  {
   "cell_type": "code",
   "execution_count": 17,
   "metadata": {
    "deletable": false,
    "id": "TwMOUDXV_oCe"
   },
   "outputs": [
    {
     "data": {
      "text/html": [
       "<div>\n",
       "<style scoped>\n",
       "    .dataframe tbody tr th:only-of-type {\n",
       "        vertical-align: middle;\n",
       "    }\n",
       "\n",
       "    .dataframe tbody tr th {\n",
       "        vertical-align: top;\n",
       "    }\n",
       "\n",
       "    .dataframe thead th {\n",
       "        text-align: right;\n",
       "    }\n",
       "</style>\n",
       "<table border=\"1\" class=\"dataframe\">\n",
       "  <thead>\n",
       "    <tr style=\"text-align: right;\">\n",
       "      <th></th>\n",
       "      <th>user_id</th>\n",
       "      <th>age</th>\n",
       "      <th>churn_date</th>\n",
       "      <th>city</th>\n",
       "      <th>first_name</th>\n",
       "      <th>last_name</th>\n",
       "      <th>reg_date</th>\n",
       "      <th>tariff</th>\n",
       "    </tr>\n",
       "  </thead>\n",
       "  <tbody>\n",
       "    <tr>\n",
       "      <th>0</th>\n",
       "      <td>1000</td>\n",
       "      <td>52</td>\n",
       "      <td>NaN</td>\n",
       "      <td>Краснодар</td>\n",
       "      <td>Рафаил</td>\n",
       "      <td>Верещагин</td>\n",
       "      <td>2018-05-25</td>\n",
       "      <td>ultra</td>\n",
       "    </tr>\n",
       "    <tr>\n",
       "      <th>1</th>\n",
       "      <td>1001</td>\n",
       "      <td>41</td>\n",
       "      <td>NaN</td>\n",
       "      <td>Москва</td>\n",
       "      <td>Иван</td>\n",
       "      <td>Ежов</td>\n",
       "      <td>2018-11-01</td>\n",
       "      <td>smart</td>\n",
       "    </tr>\n",
       "    <tr>\n",
       "      <th>2</th>\n",
       "      <td>1002</td>\n",
       "      <td>59</td>\n",
       "      <td>NaN</td>\n",
       "      <td>Стерлитамак</td>\n",
       "      <td>Евгений</td>\n",
       "      <td>Абрамович</td>\n",
       "      <td>2018-06-17</td>\n",
       "      <td>smart</td>\n",
       "    </tr>\n",
       "    <tr>\n",
       "      <th>3</th>\n",
       "      <td>1003</td>\n",
       "      <td>23</td>\n",
       "      <td>NaN</td>\n",
       "      <td>Москва</td>\n",
       "      <td>Белла</td>\n",
       "      <td>Белякова</td>\n",
       "      <td>2018-08-17</td>\n",
       "      <td>ultra</td>\n",
       "    </tr>\n",
       "    <tr>\n",
       "      <th>4</th>\n",
       "      <td>1004</td>\n",
       "      <td>68</td>\n",
       "      <td>NaN</td>\n",
       "      <td>Новокузнецк</td>\n",
       "      <td>Татьяна</td>\n",
       "      <td>Авдеенко</td>\n",
       "      <td>2018-05-14</td>\n",
       "      <td>ultra</td>\n",
       "    </tr>\n",
       "  </tbody>\n",
       "</table>\n",
       "</div>"
      ],
      "text/plain": [
       "   user_id  age churn_date         city first_name  last_name    reg_date  \\\n",
       "0     1000   52        NaN    Краснодар     Рафаил  Верещагин  2018-05-25   \n",
       "1     1001   41        NaN       Москва       Иван       Ежов  2018-11-01   \n",
       "2     1002   59        NaN  Стерлитамак    Евгений  Абрамович  2018-06-17   \n",
       "3     1003   23        NaN       Москва      Белла   Белякова  2018-08-17   \n",
       "4     1004   68        NaN  Новокузнецк    Татьяна   Авдеенко  2018-05-14   \n",
       "\n",
       "  tariff  \n",
       "0  ultra  \n",
       "1  smart  \n",
       "2  smart  \n",
       "3  ultra  \n",
       "4  ultra  "
      ]
     },
     "execution_count": 17,
     "metadata": {},
     "output_type": "execute_result"
    }
   ],
   "source": [
    "users.head()"
   ]
  },
  {
   "cell_type": "markdown",
   "metadata": {
    "deletable": false,
    "editable": false,
    "id": "YE-wtjlL_oCe",
    "tags": [
     "start_task"
    ]
   },
   "source": [
    "**Задание 17.** Выведите основную информацию для датафрейма `users` с помощью метода `info()`."
   ]
  },
  {
   "cell_type": "code",
   "execution_count": 18,
   "metadata": {
    "deletable": false,
    "id": "WgiCfvjJ_oCe"
   },
   "outputs": [
    {
     "name": "stdout",
     "output_type": "stream",
     "text": [
      "<class 'pandas.core.frame.DataFrame'>\n",
      "RangeIndex: 500 entries, 0 to 499\n",
      "Data columns (total 8 columns):\n",
      " #   Column      Non-Null Count  Dtype \n",
      "---  ------      --------------  ----- \n",
      " 0   user_id     500 non-null    int64 \n",
      " 1   age         500 non-null    int64 \n",
      " 2   churn_date  38 non-null     object\n",
      " 3   city        500 non-null    object\n",
      " 4   first_name  500 non-null    object\n",
      " 5   last_name   500 non-null    object\n",
      " 6   reg_date    500 non-null    object\n",
      " 7   tariff      500 non-null    object\n",
      "dtypes: int64(2), object(6)\n",
      "memory usage: 31.4+ KB\n"
     ]
    }
   ],
   "source": [
    "users.info()"
   ]
  },
  {
   "cell_type": "markdown",
   "metadata": {
    "deletable": false,
    "editable": false,
    "id": "Y0kllEng_oCf"
   },
   "source": [
    "### Подготовьте данные"
   ]
  },
  {
   "cell_type": "markdown",
   "metadata": {
    "deletable": false,
    "editable": false,
    "id": "EyLIy5lh_oCf",
    "tags": [
     "start_task"
    ]
   },
   "source": [
    "**Задание 18.**  Приведите столбцы\n",
    "\n",
    "- `reg_date` из таблицы `users`\n",
    "- `churn_date` из таблицы `users`\n",
    "- `call_date` из таблицы `calls`\n",
    "- `message_date` из таблицы `messages`\n",
    "- `session_date` из таблицы `sessions`\n",
    "\n",
    "к новому типу с помощью метода `to_datetime()`."
   ]
  },
  {
   "cell_type": "code",
   "execution_count": 19,
   "metadata": {
    "deletable": false,
    "id": "Ig2hAtil_oCh"
   },
   "outputs": [],
   "source": [
    "# обработка столбца reg_date\n",
    "users['reg_date'] = pd.to_datetime(users['reg_date'], format='%Y-%m-%dT%H:%M:%S')\n",
    "\n",
    "# обработка столбца churn_date\n",
    "users['churn_date'] = pd.to_datetime(users['churn_date'], format='%Y-%m-%dT%H:%M:%S')\n",
    "\n",
    "# обработка столбца call_date\n",
    "calls['call_date'] = pd.to_datetime(calls['call_date'], format='%Y-%m-%dT%H:%M:%S')\n",
    "\n",
    "# обработка столбца message_date\n",
    "messages['message_date'] = pd.to_datetime(messages['message_date'], format='%Y-%m-%dT%H:%M:%S')\n",
    "\n",
    "# обработка столбца session_date\n",
    "sessions['session_date'] = pd.to_datetime(sessions['session_date'], format='%Y-%m-%dT%H:%M:%S')\n"
   ]
  },
  {
   "cell_type": "markdown",
   "metadata": {
    "deletable": false,
    "editable": false,
    "id": "xZgEKVdX_oCi",
    "tags": [
     "start_task"
    ]
   },
   "source": [
    "**Задание 19.** В данных вы найдёте звонки с нулевой продолжительностью. Это не ошибка: нулями обозначены пропущенные звонки, поэтому их не нужно удалять.\n",
    "\n",
    "Однако в столбце `duration` датафрейма `calls` значения дробные. Округлите значения столбца `duration` вверх с помощью метода `numpy.ceil()` и приведите столбец `duration` к типу `int`."
   ]
  },
  {
   "cell_type": "code",
   "execution_count": 20,
   "metadata": {
    "deletable": false,
    "id": "7Msb3UqS_oCj"
   },
   "outputs": [],
   "source": [
    "calls['duration'] = np.ceil(calls['duration']).astype('int')\n",
    "\n",
    "# округление значений столбца duration с помощью np.ceil() и приведение типа к int"
   ]
  },
  {
   "cell_type": "markdown",
   "metadata": {
    "deletable": false,
    "editable": false,
    "id": "u-6V42lj_oCj",
    "tags": [
     "start_task"
    ]
   },
   "source": [
    "**Задание 20.** Удалите столбец `Unnamed: 0` из датафрейма `sessions`. Столбец с таким названием возникает, когда данные сохраняют с указанием индекса (`df.to_csv(..., index=column)`). Он сейчас не понадобится."
   ]
  },
  {
   "cell_type": "code",
   "execution_count": 21,
   "metadata": {
    "deletable": false,
    "id": "0qBUTIJK_oCj"
   },
   "outputs": [],
   "source": [
    "sessions.head()\n",
    "sessions = sessions.drop(columns=['Unnamed: 0'])"
   ]
  },
  {
   "cell_type": "markdown",
   "metadata": {
    "deletable": false,
    "editable": false,
    "id": "HlB1e_bN_oCj",
    "tags": [
     "start_task"
    ]
   },
   "source": [
    "**Задание 21.** Создайте столбец `month` в датафрейме `calls` с номером месяца из столбца `call_date`."
   ]
  },
  {
   "cell_type": "code",
   "execution_count": 22,
   "metadata": {
    "deletable": false,
    "id": "qepFbMhq_oCj"
   },
   "outputs": [
    {
     "data": {
      "text/html": [
       "<div>\n",
       "<style scoped>\n",
       "    .dataframe tbody tr th:only-of-type {\n",
       "        vertical-align: middle;\n",
       "    }\n",
       "\n",
       "    .dataframe tbody tr th {\n",
       "        vertical-align: top;\n",
       "    }\n",
       "\n",
       "    .dataframe thead th {\n",
       "        text-align: right;\n",
       "    }\n",
       "</style>\n",
       "<table border=\"1\" class=\"dataframe\">\n",
       "  <thead>\n",
       "    <tr style=\"text-align: right;\">\n",
       "      <th></th>\n",
       "      <th>id</th>\n",
       "      <th>call_date</th>\n",
       "      <th>duration</th>\n",
       "      <th>user_id</th>\n",
       "      <th>month</th>\n",
       "    </tr>\n",
       "  </thead>\n",
       "  <tbody>\n",
       "    <tr>\n",
       "      <th>0</th>\n",
       "      <td>1000_0</td>\n",
       "      <td>2018-07-25</td>\n",
       "      <td>0</td>\n",
       "      <td>1000</td>\n",
       "      <td>7</td>\n",
       "    </tr>\n",
       "    <tr>\n",
       "      <th>1</th>\n",
       "      <td>1000_1</td>\n",
       "      <td>2018-08-17</td>\n",
       "      <td>0</td>\n",
       "      <td>1000</td>\n",
       "      <td>8</td>\n",
       "    </tr>\n",
       "    <tr>\n",
       "      <th>2</th>\n",
       "      <td>1000_2</td>\n",
       "      <td>2018-06-11</td>\n",
       "      <td>3</td>\n",
       "      <td>1000</td>\n",
       "      <td>6</td>\n",
       "    </tr>\n",
       "    <tr>\n",
       "      <th>3</th>\n",
       "      <td>1000_3</td>\n",
       "      <td>2018-09-21</td>\n",
       "      <td>14</td>\n",
       "      <td>1000</td>\n",
       "      <td>9</td>\n",
       "    </tr>\n",
       "    <tr>\n",
       "      <th>4</th>\n",
       "      <td>1000_4</td>\n",
       "      <td>2018-12-15</td>\n",
       "      <td>6</td>\n",
       "      <td>1000</td>\n",
       "      <td>12</td>\n",
       "    </tr>\n",
       "  </tbody>\n",
       "</table>\n",
       "</div>"
      ],
      "text/plain": [
       "       id  call_date  duration  user_id  month\n",
       "0  1000_0 2018-07-25         0     1000      7\n",
       "1  1000_1 2018-08-17         0     1000      8\n",
       "2  1000_2 2018-06-11         3     1000      6\n",
       "3  1000_3 2018-09-21        14     1000      9\n",
       "4  1000_4 2018-12-15         6     1000     12"
      ]
     },
     "execution_count": 22,
     "metadata": {},
     "output_type": "execute_result"
    }
   ],
   "source": [
    "calls = calls.assign(month = lambda x: calls['call_date'].dt.month)\n",
    "calls.head()            \n"
   ]
  },
  {
   "cell_type": "markdown",
   "metadata": {
    "deletable": false,
    "editable": false,
    "id": "nQUHs3Gx_oCk",
    "tags": [
     "start_task"
    ]
   },
   "source": [
    "**Задание 22.** Создайте столбец `month` в датафрейме `messages` с номером месяца из столбца `message_date`."
   ]
  },
  {
   "cell_type": "code",
   "execution_count": 23,
   "metadata": {
    "deletable": false,
    "id": "2evOzw_K_oCk"
   },
   "outputs": [
    {
     "data": {
      "text/html": [
       "<div>\n",
       "<style scoped>\n",
       "    .dataframe tbody tr th:only-of-type {\n",
       "        vertical-align: middle;\n",
       "    }\n",
       "\n",
       "    .dataframe tbody tr th {\n",
       "        vertical-align: top;\n",
       "    }\n",
       "\n",
       "    .dataframe thead th {\n",
       "        text-align: right;\n",
       "    }\n",
       "</style>\n",
       "<table border=\"1\" class=\"dataframe\">\n",
       "  <thead>\n",
       "    <tr style=\"text-align: right;\">\n",
       "      <th></th>\n",
       "      <th>id</th>\n",
       "      <th>message_date</th>\n",
       "      <th>user_id</th>\n",
       "      <th>month</th>\n",
       "    </tr>\n",
       "  </thead>\n",
       "  <tbody>\n",
       "    <tr>\n",
       "      <th>0</th>\n",
       "      <td>1000_0</td>\n",
       "      <td>2018-06-27</td>\n",
       "      <td>1000</td>\n",
       "      <td>6</td>\n",
       "    </tr>\n",
       "    <tr>\n",
       "      <th>1</th>\n",
       "      <td>1000_1</td>\n",
       "      <td>2018-10-08</td>\n",
       "      <td>1000</td>\n",
       "      <td>10</td>\n",
       "    </tr>\n",
       "    <tr>\n",
       "      <th>2</th>\n",
       "      <td>1000_2</td>\n",
       "      <td>2018-08-04</td>\n",
       "      <td>1000</td>\n",
       "      <td>8</td>\n",
       "    </tr>\n",
       "    <tr>\n",
       "      <th>3</th>\n",
       "      <td>1000_3</td>\n",
       "      <td>2018-06-16</td>\n",
       "      <td>1000</td>\n",
       "      <td>6</td>\n",
       "    </tr>\n",
       "    <tr>\n",
       "      <th>4</th>\n",
       "      <td>1000_4</td>\n",
       "      <td>2018-12-05</td>\n",
       "      <td>1000</td>\n",
       "      <td>12</td>\n",
       "    </tr>\n",
       "  </tbody>\n",
       "</table>\n",
       "</div>"
      ],
      "text/plain": [
       "       id message_date  user_id  month\n",
       "0  1000_0   2018-06-27     1000      6\n",
       "1  1000_1   2018-10-08     1000     10\n",
       "2  1000_2   2018-08-04     1000      8\n",
       "3  1000_3   2018-06-16     1000      6\n",
       "4  1000_4   2018-12-05     1000     12"
      ]
     },
     "execution_count": 23,
     "metadata": {},
     "output_type": "execute_result"
    }
   ],
   "source": [
    "messages = messages.assign(month = lambda x: messages['message_date'].dt.month)\n",
    "messages.head() "
   ]
  },
  {
   "cell_type": "markdown",
   "metadata": {
    "deletable": false,
    "editable": false,
    "id": "IbLqO0z-_oCk",
    "tags": [
     "start_task"
    ]
   },
   "source": [
    "**Задание 23.** Создайте столбец `month` в датафрейме `sessions` с номером месяца из столбца `session_date`."
   ]
  },
  {
   "cell_type": "code",
   "execution_count": 24,
   "metadata": {
    "deletable": false,
    "id": "dKZPB_eo_oCk"
   },
   "outputs": [
    {
     "data": {
      "text/html": [
       "<div>\n",
       "<style scoped>\n",
       "    .dataframe tbody tr th:only-of-type {\n",
       "        vertical-align: middle;\n",
       "    }\n",
       "\n",
       "    .dataframe tbody tr th {\n",
       "        vertical-align: top;\n",
       "    }\n",
       "\n",
       "    .dataframe thead th {\n",
       "        text-align: right;\n",
       "    }\n",
       "</style>\n",
       "<table border=\"1\" class=\"dataframe\">\n",
       "  <thead>\n",
       "    <tr style=\"text-align: right;\">\n",
       "      <th></th>\n",
       "      <th>id</th>\n",
       "      <th>mb_used</th>\n",
       "      <th>session_date</th>\n",
       "      <th>user_id</th>\n",
       "      <th>month</th>\n",
       "    </tr>\n",
       "  </thead>\n",
       "  <tbody>\n",
       "    <tr>\n",
       "      <th>0</th>\n",
       "      <td>1000_0</td>\n",
       "      <td>112.95</td>\n",
       "      <td>2018-11-25</td>\n",
       "      <td>1000</td>\n",
       "      <td>11</td>\n",
       "    </tr>\n",
       "    <tr>\n",
       "      <th>1</th>\n",
       "      <td>1000_1</td>\n",
       "      <td>1052.81</td>\n",
       "      <td>2018-09-07</td>\n",
       "      <td>1000</td>\n",
       "      <td>9</td>\n",
       "    </tr>\n",
       "    <tr>\n",
       "      <th>2</th>\n",
       "      <td>1000_2</td>\n",
       "      <td>1197.26</td>\n",
       "      <td>2018-06-25</td>\n",
       "      <td>1000</td>\n",
       "      <td>6</td>\n",
       "    </tr>\n",
       "    <tr>\n",
       "      <th>3</th>\n",
       "      <td>1000_3</td>\n",
       "      <td>550.27</td>\n",
       "      <td>2018-08-22</td>\n",
       "      <td>1000</td>\n",
       "      <td>8</td>\n",
       "    </tr>\n",
       "    <tr>\n",
       "      <th>4</th>\n",
       "      <td>1000_4</td>\n",
       "      <td>302.56</td>\n",
       "      <td>2018-09-24</td>\n",
       "      <td>1000</td>\n",
       "      <td>9</td>\n",
       "    </tr>\n",
       "  </tbody>\n",
       "</table>\n",
       "</div>"
      ],
      "text/plain": [
       "       id  mb_used session_date  user_id  month\n",
       "0  1000_0   112.95   2018-11-25     1000     11\n",
       "1  1000_1  1052.81   2018-09-07     1000      9\n",
       "2  1000_2  1197.26   2018-06-25     1000      6\n",
       "3  1000_3   550.27   2018-08-22     1000      8\n",
       "4  1000_4   302.56   2018-09-24     1000      9"
      ]
     },
     "execution_count": 24,
     "metadata": {},
     "output_type": "execute_result"
    }
   ],
   "source": [
    "sessions = sessions.assign(month = lambda x: sessions['session_date'].dt.month)\n",
    "sessions.head() "
   ]
  },
  {
   "cell_type": "markdown",
   "metadata": {
    "deletable": false,
    "editable": false,
    "id": "VLMTL8f0_oCk",
    "tags": [
     "start_task"
    ]
   },
   "source": [
    "**Задание 24.** Посчитайте количество сделанных звонков разговора для каждого пользователя по месяцам."
   ]
  },
  {
   "cell_type": "code",
   "execution_count": 25,
   "metadata": {
    "deletable": false,
    "id": "tMAmcPhC_oCl"
   },
   "outputs": [],
   "source": [
    "# подсчёт количества звонков для каждого пользователя по месяцам\n",
    "calls_per_month = calls.groupby(['user_id', 'month'])\n",
    "calls_per_month = calls_per_month.agg(calls=('duration', 'count'))"
   ]
  },
  {
   "cell_type": "code",
   "execution_count": 26,
   "metadata": {
    "deletable": false,
    "id": "r8pvxWhj_oCl"
   },
   "outputs": [
    {
     "name": "stdout",
     "output_type": "stream",
     "text": [
      "               calls\n",
      "user_id month       \n",
      "1000    5         22\n",
      "        6         43\n",
      "        7         47\n",
      "        8         52\n",
      "        9         58\n",
      "        10        57\n",
      "        11        43\n",
      "        12        46\n",
      "1001    11        59\n",
      "        12        63\n",
      "1002    6         15\n",
      "        7         26\n",
      "        8         42\n",
      "        9         36\n",
      "        10        33\n",
      "        11        32\n",
      "        12        33\n",
      "1003    8         55\n",
      "        9        134\n",
      "        10       108\n",
      "        11       115\n",
      "        12       108\n",
      "1004    5          9\n",
      "        6         31\n",
      "        7         22\n",
      "        8         19\n",
      "        9         26\n",
      "        10        29\n",
      "        11        19\n",
      "        12        21\n"
     ]
    }
   ],
   "source": [
    "# вывод 30 первых строк на экран\n",
    "print(calls_per_month.head(30))"
   ]
  },
  {
   "cell_type": "markdown",
   "metadata": {
    "deletable": false,
    "editable": false,
    "id": "2DUx3WnM_oCl",
    "tags": [
     "start_task"
    ]
   },
   "source": [
    "**Задание 25.** Посчитайте количество израсходованных минут разговора для каждого пользователя по месяцам и сохраните в переменную `minutes_per_month`. Вам понадобится\n",
    "\n",
    "- сгруппировать датафрейм с информацией о звонках по двум столбцам — с идентификаторами пользователей и номерами месяцев;\n",
    "- после группировки выбрать столбец `duration`\n",
    "- затем применить метод для подсчёта суммы.\n",
    "\n",
    "Выведите первые 30 строчек `minutes_per_month`."
   ]
  },
  {
   "cell_type": "code",
   "execution_count": 27,
   "metadata": {
    "deletable": false,
    "id": "ehr5Lhq-_oCl"
   },
   "outputs": [],
   "source": [
    "# подсчёт израсходованных минут для каждого пользователя по месяцам\n",
    "minutes_per_month = calls.groupby(['user_id', 'month'])\n",
    "minutes_per_month = minutes_per_month.agg(minutes=('duration', 'sum'))"
   ]
  },
  {
   "cell_type": "code",
   "execution_count": 28,
   "metadata": {
    "deletable": false,
    "id": "-vbsnfVq_oCl"
   },
   "outputs": [
    {
     "name": "stdout",
     "output_type": "stream",
     "text": [
      "               minutes\n",
      "user_id month         \n",
      "1000    5          159\n",
      "        6          172\n",
      "        7          340\n",
      "        8          408\n",
      "        9          466\n",
      "        10         350\n",
      "        11         338\n",
      "        12         333\n",
      "1001    11         430\n",
      "        12         414\n",
      "1002    6          117\n",
      "        7          214\n",
      "        8          289\n",
      "        9          206\n",
      "        10         212\n",
      "        11         243\n",
      "        12         236\n",
      "1003    8          380\n",
      "        9          961\n",
      "        10         855\n",
      "        11         824\n",
      "        12         802\n",
      "1004    5           35\n",
      "        6          171\n",
      "        7          135\n",
      "        8          137\n",
      "        9          117\n",
      "        10         145\n",
      "        11         117\n",
      "        12         130\n"
     ]
    }
   ],
   "source": [
    "# вывод первых 30 строк на экран\n",
    "print(minutes_per_month.head(30))"
   ]
  },
  {
   "cell_type": "markdown",
   "metadata": {
    "deletable": false,
    "editable": false,
    "id": "bjTWE47D_oCl",
    "tags": [
     "start_task"
    ]
   },
   "source": [
    "**Задание 26.** Посчитайте количество отправленных сообщений по месяцам для каждого пользователя и сохраните в переменную `messages_per_month`. Вам понадобится\n",
    "\n",
    "- сгруппировать датафрейм с информацией о сообщениях по двум столбцам — с идентификаторами пользователей и номерами месяцев;\n",
    "- после группировки выбрать столбец `message_date`;\n",
    "- затем применить метод для подсчёта количества.\n",
    "\n",
    "Выведите первые 30 строчек `messages_per_month`."
   ]
  },
  {
   "cell_type": "code",
   "execution_count": 29,
   "metadata": {
    "deletable": false,
    "id": "YiS9waG7_oCl"
   },
   "outputs": [],
   "source": [
    "# подсчёт количества отправленных сообщений для каждого пользователя по месяцам\n",
    "messages_per_month = messages.groupby(['user_id', 'month'])\n",
    "messages_per_month = messages_per_month.agg(messages=('message_date', 'count'))"
   ]
  },
  {
   "cell_type": "code",
   "execution_count": 30,
   "metadata": {
    "deletable": false,
    "id": "aaDNanZ0_oCm"
   },
   "outputs": [
    {
     "name": "stdout",
     "output_type": "stream",
     "text": [
      "               messages\n",
      "user_id month          \n",
      "1000    5            22\n",
      "        6            60\n",
      "        7            75\n",
      "        8            81\n",
      "        9            57\n",
      "        10           73\n",
      "        11           58\n",
      "        12           70\n",
      "1002    6             4\n",
      "        7            11\n",
      "        8            13\n",
      "        9             4\n",
      "        10           10\n",
      "        11           16\n",
      "        12           12\n",
      "1003    8            37\n",
      "        9            91\n",
      "        10           83\n",
      "        11           94\n",
      "        12           75\n",
      "1004    5            95\n",
      "        6           134\n",
      "        7           181\n",
      "        8           151\n",
      "        9           146\n",
      "        10          165\n",
      "        11          158\n",
      "        12          162\n",
      "1005    1             7\n",
      "        2            38\n"
     ]
    }
   ],
   "source": [
    "# вывод первых 30 строк на экран\n",
    "print(messages_per_month.head(30))"
   ]
  },
  {
   "cell_type": "markdown",
   "metadata": {
    "deletable": false,
    "editable": false,
    "id": "9PZFHjUU_oCm",
    "tags": [
     "start_task"
    ]
   },
   "source": [
    "**Задание 27.** Посчитайте количество потраченных мегабайт по месяцам для каждого пользователя и сохраните в переменную `sessions_per_month`. Вам понадобится\n",
    "\n",
    "- сгруппировать датафрейм с информацией о сообщениях по двум столбцам — с идентификаторами пользователей и номерами месяцев;\n",
    "- затем применить метод для подсчёта суммы: `.agg({'mb_used': 'sum'})`"
   ]
  },
  {
   "cell_type": "code",
   "execution_count": 31,
   "metadata": {
    "deletable": false,
    "id": "-ITlvcsU_oCm"
   },
   "outputs": [],
   "source": [
    "# подсчёт потраченных мегабайт для каждого пользователя по месяцам\n",
    "sessions_per_month = sessions.groupby(['user_id', 'month'])\n",
    "sessions_per_month = sessions_per_month.agg({'mb_used': 'sum'})"
   ]
  },
  {
   "cell_type": "code",
   "execution_count": 32,
   "metadata": {
    "deletable": false,
    "id": "YF7FQfXf_oCm"
   },
   "outputs": [
    {
     "name": "stdout",
     "output_type": "stream",
     "text": [
      "                mb_used\n",
      "user_id month          \n",
      "1000    5       2253.49\n",
      "        6      23233.77\n",
      "        7      14003.64\n",
      "        8      14055.93\n",
      "        9      14568.91\n",
      "        10     14702.49\n",
      "        11     14756.47\n",
      "        12      9817.61\n",
      "1001    11     18429.34\n",
      "        12     14036.66\n",
      "1002    6      10856.82\n",
      "        7      17580.10\n",
      "        8      20319.26\n",
      "        9      16691.08\n",
      "        10     13888.25\n",
      "        11     18587.28\n",
      "        12     18113.73\n",
      "1003    8       8565.21\n",
      "        9      12468.87\n",
      "        10     14768.14\n",
      "        11     11356.89\n",
      "        12     10121.53\n",
      "1004    5      13403.98\n",
      "        6      17600.02\n",
      "        7      22229.58\n",
      "        8      28584.37\n",
      "        9      15109.03\n",
      "        10     18475.44\n",
      "        11     15616.02\n",
      "        12     18021.04\n"
     ]
    }
   ],
   "source": [
    "# вывод первых 30 строк на экран\n",
    "print(sessions_per_month.head(30))"
   ]
  },
  {
   "cell_type": "markdown",
   "metadata": {
    "deletable": false,
    "editable": false,
    "id": "GF37Inq-_oCn"
   },
   "source": [
    "### Анализ данных и подсчёт выручки"
   ]
  },
  {
   "cell_type": "markdown",
   "metadata": {
    "deletable": false,
    "editable": false,
    "id": "7U9eZ81t_oCn"
   },
   "source": [
    "Объединяем все посчитанные выше значения в один датафрейм `user_behavior`.\n",
    "Для каждой пары «пользователь — месяц» будут доступны информация о тарифе, количестве звонков, сообщений и потраченных мегабайтах."
   ]
  },
  {
   "cell_type": "code",
   "execution_count": 33,
   "metadata": {
    "deletable": false,
    "id": "SDchqQI5_oCn",
    "outputId": "760b21d8-9344-46a3-9c6e-a3cbbc7dd542"
   },
   "outputs": [
    {
     "data": {
      "text/plain": [
       "7.6"
      ]
     },
     "execution_count": 33,
     "metadata": {},
     "output_type": "execute_result"
    }
   ],
   "source": [
    "users['churn_date'].count() / users['churn_date'].shape[0] * 100"
   ]
  },
  {
   "cell_type": "markdown",
   "metadata": {
    "deletable": false,
    "editable": false,
    "id": "7jb0qJhe_oCn"
   },
   "source": [
    "Расторгли договор 7.6% клиентов из датасета"
   ]
  },
  {
   "cell_type": "code",
   "execution_count": 34,
   "metadata": {
    "deletable": false,
    "id": "QJuiD1cd_oCo",
    "outputId": "60af33ba-196b-464c-e15d-239dd446a4f4"
   },
   "outputs": [
    {
     "data": {
      "text/html": [
       "<div>\n",
       "<style scoped>\n",
       "    .dataframe tbody tr th:only-of-type {\n",
       "        vertical-align: middle;\n",
       "    }\n",
       "\n",
       "    .dataframe tbody tr th {\n",
       "        vertical-align: top;\n",
       "    }\n",
       "\n",
       "    .dataframe thead th {\n",
       "        text-align: right;\n",
       "    }\n",
       "</style>\n",
       "<table border=\"1\" class=\"dataframe\">\n",
       "  <thead>\n",
       "    <tr style=\"text-align: right;\">\n",
       "      <th></th>\n",
       "      <th>user_id</th>\n",
       "      <th>month</th>\n",
       "      <th>calls</th>\n",
       "      <th>messages</th>\n",
       "      <th>mb_used</th>\n",
       "      <th>minutes</th>\n",
       "      <th>age</th>\n",
       "      <th>churn_date</th>\n",
       "      <th>city</th>\n",
       "      <th>first_name</th>\n",
       "      <th>last_name</th>\n",
       "      <th>reg_date</th>\n",
       "      <th>tariff</th>\n",
       "    </tr>\n",
       "  </thead>\n",
       "  <tbody>\n",
       "    <tr>\n",
       "      <th>0</th>\n",
       "      <td>1000</td>\n",
       "      <td>5</td>\n",
       "      <td>22.0</td>\n",
       "      <td>22.0</td>\n",
       "      <td>2253.49</td>\n",
       "      <td>159.0</td>\n",
       "      <td>52</td>\n",
       "      <td>NaT</td>\n",
       "      <td>Краснодар</td>\n",
       "      <td>Рафаил</td>\n",
       "      <td>Верещагин</td>\n",
       "      <td>2018-05-25</td>\n",
       "      <td>ultra</td>\n",
       "    </tr>\n",
       "    <tr>\n",
       "      <th>1</th>\n",
       "      <td>1000</td>\n",
       "      <td>6</td>\n",
       "      <td>43.0</td>\n",
       "      <td>60.0</td>\n",
       "      <td>23233.77</td>\n",
       "      <td>172.0</td>\n",
       "      <td>52</td>\n",
       "      <td>NaT</td>\n",
       "      <td>Краснодар</td>\n",
       "      <td>Рафаил</td>\n",
       "      <td>Верещагин</td>\n",
       "      <td>2018-05-25</td>\n",
       "      <td>ultra</td>\n",
       "    </tr>\n",
       "    <tr>\n",
       "      <th>2</th>\n",
       "      <td>1000</td>\n",
       "      <td>7</td>\n",
       "      <td>47.0</td>\n",
       "      <td>75.0</td>\n",
       "      <td>14003.64</td>\n",
       "      <td>340.0</td>\n",
       "      <td>52</td>\n",
       "      <td>NaT</td>\n",
       "      <td>Краснодар</td>\n",
       "      <td>Рафаил</td>\n",
       "      <td>Верещагин</td>\n",
       "      <td>2018-05-25</td>\n",
       "      <td>ultra</td>\n",
       "    </tr>\n",
       "    <tr>\n",
       "      <th>3</th>\n",
       "      <td>1000</td>\n",
       "      <td>8</td>\n",
       "      <td>52.0</td>\n",
       "      <td>81.0</td>\n",
       "      <td>14055.93</td>\n",
       "      <td>408.0</td>\n",
       "      <td>52</td>\n",
       "      <td>NaT</td>\n",
       "      <td>Краснодар</td>\n",
       "      <td>Рафаил</td>\n",
       "      <td>Верещагин</td>\n",
       "      <td>2018-05-25</td>\n",
       "      <td>ultra</td>\n",
       "    </tr>\n",
       "    <tr>\n",
       "      <th>4</th>\n",
       "      <td>1000</td>\n",
       "      <td>9</td>\n",
       "      <td>58.0</td>\n",
       "      <td>57.0</td>\n",
       "      <td>14568.91</td>\n",
       "      <td>466.0</td>\n",
       "      <td>52</td>\n",
       "      <td>NaT</td>\n",
       "      <td>Краснодар</td>\n",
       "      <td>Рафаил</td>\n",
       "      <td>Верещагин</td>\n",
       "      <td>2018-05-25</td>\n",
       "      <td>ultra</td>\n",
       "    </tr>\n",
       "  </tbody>\n",
       "</table>\n",
       "</div>"
      ],
      "text/plain": [
       "   user_id  month  calls  messages   mb_used  minutes  age churn_date  \\\n",
       "0     1000      5   22.0      22.0   2253.49    159.0   52        NaT   \n",
       "1     1000      6   43.0      60.0  23233.77    172.0   52        NaT   \n",
       "2     1000      7   47.0      75.0  14003.64    340.0   52        NaT   \n",
       "3     1000      8   52.0      81.0  14055.93    408.0   52        NaT   \n",
       "4     1000      9   58.0      57.0  14568.91    466.0   52        NaT   \n",
       "\n",
       "        city first_name  last_name   reg_date tariff  \n",
       "0  Краснодар     Рафаил  Верещагин 2018-05-25  ultra  \n",
       "1  Краснодар     Рафаил  Верещагин 2018-05-25  ultra  \n",
       "2  Краснодар     Рафаил  Верещагин 2018-05-25  ultra  \n",
       "3  Краснодар     Рафаил  Верещагин 2018-05-25  ultra  \n",
       "4  Краснодар     Рафаил  Верещагин 2018-05-25  ultra  "
      ]
     },
     "execution_count": 34,
     "metadata": {},
     "output_type": "execute_result"
    }
   ],
   "source": [
    "user_behavior = calls_per_month\\\n",
    "    .merge(messages_per_month, left_index=True, right_index=True, how='outer')\\\n",
    "    .merge(sessions_per_month, left_index=True, right_index=True, how='outer')\\\n",
    "    .merge(minutes_per_month, left_index=True, right_index=True, how='outer')\\\n",
    "    .reset_index()\\\n",
    "    .merge(users, how='left', left_on='user_id', right_on='user_id')\\\n",
    "\n",
    "user_behavior.head()"
   ]
  },
  {
   "cell_type": "markdown",
   "metadata": {
    "deletable": false,
    "editable": false,
    "id": "9Kif7-vi_oCo"
   },
   "source": [
    "Проверим пропуски в таблице `user_behavior` после объединения:"
   ]
  },
  {
   "cell_type": "code",
   "execution_count": 35,
   "metadata": {
    "deletable": false,
    "id": "MExwRr6x_oCo",
    "outputId": "1362c11d-ba78-47b6-8495-ba877c2cae38"
   },
   "outputs": [
    {
     "data": {
      "text/plain": [
       "user_id          0\n",
       "month            0\n",
       "calls           40\n",
       "messages       497\n",
       "mb_used         11\n",
       "minutes         40\n",
       "age              0\n",
       "churn_date    3027\n",
       "city             0\n",
       "first_name       0\n",
       "last_name        0\n",
       "reg_date         0\n",
       "tariff           0\n",
       "dtype: int64"
      ]
     },
     "execution_count": 35,
     "metadata": {},
     "output_type": "execute_result"
    }
   ],
   "source": [
    "user_behavior.isna().sum()"
   ]
  },
  {
   "cell_type": "markdown",
   "metadata": {
    "deletable": false,
    "editable": false,
    "id": "eNUHBFPI_oCo"
   },
   "source": [
    "Заполним образовавшиеся пропуски в данных:"
   ]
  },
  {
   "cell_type": "code",
   "execution_count": 36,
   "metadata": {
    "deletable": false,
    "id": "2aCyfvNX_oCo"
   },
   "outputs": [],
   "source": [
    "user_behavior['calls'] = user_behavior['calls'].fillna(0)\n",
    "user_behavior['minutes'] = user_behavior['minutes'].fillna(0)\n",
    "user_behavior['messages'] = user_behavior['messages'].fillna(0)\n",
    "user_behavior['mb_used'] = user_behavior['mb_used'].fillna(0)"
   ]
  },
  {
   "cell_type": "markdown",
   "metadata": {
    "deletable": false,
    "editable": false,
    "id": "JTszP_Iy_oCo"
   },
   "source": [
    "Присоединяем информацию о тарифах"
   ]
  },
  {
   "cell_type": "code",
   "execution_count": 37,
   "metadata": {
    "deletable": false,
    "id": "zmnnqTIq_oCo"
   },
   "outputs": [],
   "source": [
    "# переименование столбца tariff_name на более простое tariff\n",
    "\n",
    "tariffs = tariffs.rename(\n",
    "    columns={\n",
    "        'tariff_name': 'tariff'\n",
    "    }\n",
    ")"
   ]
  },
  {
   "cell_type": "code",
   "execution_count": 38,
   "metadata": {
    "deletable": false,
    "id": "hop7kFhB_oCp"
   },
   "outputs": [],
   "source": [
    "user_behavior = user_behavior.merge(tariffs, on='tariff')"
   ]
  },
  {
   "cell_type": "markdown",
   "metadata": {
    "deletable": false,
    "editable": false,
    "id": "aJZeqJwL_oCp"
   },
   "source": [
    "Считаем количество минут разговора, сообщений и мегабайт, превышающих включённые в тариф\n"
   ]
  },
  {
   "cell_type": "code",
   "execution_count": 39,
   "metadata": {
    "deletable": false,
    "id": "1Tcf3IxI_oCp"
   },
   "outputs": [],
   "source": [
    "user_behavior['paid_minutes'] = user_behavior['minutes'] - user_behavior['minutes_included']\n",
    "user_behavior['paid_messages'] = user_behavior['messages'] - user_behavior['messages_included']\n",
    "user_behavior['paid_mb'] = user_behavior['mb_used'] - user_behavior['mb_per_month_included']\n",
    "\n",
    "for col in ['paid_messages', 'paid_minutes', 'paid_mb']:\n",
    "    user_behavior.loc[user_behavior[col] < 0, col] = 0"
   ]
  },
  {
   "cell_type": "markdown",
   "metadata": {
    "deletable": false,
    "editable": false,
    "id": "9mf7Pko9_oCp"
   },
   "source": [
    "Переводим превышающие тариф мегабайты в гигабайты и сохраняем в столбец `paid_gb`"
   ]
  },
  {
   "cell_type": "code",
   "execution_count": 40,
   "metadata": {
    "deletable": false,
    "id": "cct5ZB60_oCp"
   },
   "outputs": [],
   "source": [
    "user_behavior['paid_gb'] = np.ceil(user_behavior['paid_mb'] / 1024).astype(int)"
   ]
  },
  {
   "cell_type": "markdown",
   "metadata": {
    "deletable": false,
    "editable": false,
    "id": "KEZ1rO-r_oCp"
   },
   "source": [
    "Считаем выручку за минуты разговора, сообщения и интернет"
   ]
  },
  {
   "cell_type": "code",
   "execution_count": 41,
   "metadata": {
    "deletable": false,
    "id": "U302RLm6_oCp"
   },
   "outputs": [],
   "source": [
    "user_behavior['cost_minutes'] = user_behavior['paid_minutes'] * user_behavior['rub_per_minute']\n",
    "user_behavior['cost_messages'] = user_behavior['paid_messages'] * user_behavior['rub_per_message']\n",
    "user_behavior['cost_gb'] = user_behavior['paid_gb'] * user_behavior['rub_per_gb']"
   ]
  },
  {
   "cell_type": "markdown",
   "metadata": {
    "deletable": false,
    "editable": false,
    "id": "18ruYfTJ_oCp"
   },
   "source": [
    "Считаем помесячную выручку с каждого пользователя, она будет храниться в столбце `total_cost`"
   ]
  },
  {
   "cell_type": "code",
   "execution_count": 42,
   "metadata": {
    "deletable": false,
    "id": "Uf2YyazE_oCp"
   },
   "outputs": [],
   "source": [
    "user_behavior['total_cost'] = \\\n",
    "      user_behavior['rub_monthly_fee']\\\n",
    "    + user_behavior['cost_minutes']\\\n",
    "    + user_behavior['cost_messages']\\\n",
    "    + user_behavior['cost_gb']"
   ]
  },
  {
   "cell_type": "markdown",
   "metadata": {
    "deletable": false,
    "editable": false,
    "id": "49WKdXmA_oCp"
   },
   "source": [
    "Датафрейм `stats_df` для каждой пары «месяц — тариф» будет хранить основные характеристики"
   ]
  },
  {
   "cell_type": "code",
   "execution_count": 43,
   "metadata": {
    "deletable": false,
    "id": "4V-Kl67S_oCp",
    "outputId": "ed8b1220-debd-42f0-9941-3acb27e94db1"
   },
   "outputs": [
    {
     "data": {
      "text/html": [
       "<div>\n",
       "<style scoped>\n",
       "    .dataframe tbody tr th:only-of-type {\n",
       "        vertical-align: middle;\n",
       "    }\n",
       "\n",
       "    .dataframe tbody tr th {\n",
       "        vertical-align: top;\n",
       "    }\n",
       "\n",
       "    .dataframe thead th {\n",
       "        text-align: right;\n",
       "    }\n",
       "</style>\n",
       "<table border=\"1\" class=\"dataframe\">\n",
       "  <thead>\n",
       "    <tr style=\"text-align: right;\">\n",
       "      <th></th>\n",
       "      <th>month</th>\n",
       "      <th>tariff</th>\n",
       "      <th>calls_mean</th>\n",
       "      <th>sessions_mean</th>\n",
       "      <th>messages_mean</th>\n",
       "      <th>minutes_mean</th>\n",
       "      <th>calls_std</th>\n",
       "      <th>sessions_std</th>\n",
       "      <th>messages_std</th>\n",
       "      <th>minutes_std</th>\n",
       "      <th>calls_median</th>\n",
       "      <th>sessions_median</th>\n",
       "      <th>messages_median</th>\n",
       "      <th>minutes_median</th>\n",
       "    </tr>\n",
       "  </thead>\n",
       "  <tbody>\n",
       "    <tr>\n",
       "      <th>0</th>\n",
       "      <td>1</td>\n",
       "      <td>smart</td>\n",
       "      <td>27.68</td>\n",
       "      <td>8513.72</td>\n",
       "      <td>18.24</td>\n",
       "      <td>203.85</td>\n",
       "      <td>20.81</td>\n",
       "      <td>6444.68</td>\n",
       "      <td>16.20</td>\n",
       "      <td>154.23</td>\n",
       "      <td>20.5</td>\n",
       "      <td>7096.18</td>\n",
       "      <td>15.0</td>\n",
       "      <td>162.5</td>\n",
       "    </tr>\n",
       "    <tr>\n",
       "      <th>1</th>\n",
       "      <td>1</td>\n",
       "      <td>ultra</td>\n",
       "      <td>59.44</td>\n",
       "      <td>13140.68</td>\n",
       "      <td>33.78</td>\n",
       "      <td>428.11</td>\n",
       "      <td>41.64</td>\n",
       "      <td>6865.35</td>\n",
       "      <td>30.67</td>\n",
       "      <td>269.76</td>\n",
       "      <td>51.0</td>\n",
       "      <td>14791.37</td>\n",
       "      <td>32.0</td>\n",
       "      <td>382.0</td>\n",
       "    </tr>\n",
       "    <tr>\n",
       "      <th>2</th>\n",
       "      <td>2</td>\n",
       "      <td>smart</td>\n",
       "      <td>40.19</td>\n",
       "      <td>11597.05</td>\n",
       "      <td>24.09</td>\n",
       "      <td>298.69</td>\n",
       "      <td>25.39</td>\n",
       "      <td>6247.35</td>\n",
       "      <td>21.75</td>\n",
       "      <td>190.82</td>\n",
       "      <td>38.5</td>\n",
       "      <td>12553.71</td>\n",
       "      <td>20.0</td>\n",
       "      <td>258.0</td>\n",
       "    </tr>\n",
       "    <tr>\n",
       "      <th>3</th>\n",
       "      <td>2</td>\n",
       "      <td>ultra</td>\n",
       "      <td>41.54</td>\n",
       "      <td>11775.94</td>\n",
       "      <td>21.96</td>\n",
       "      <td>297.12</td>\n",
       "      <td>40.97</td>\n",
       "      <td>10644.64</td>\n",
       "      <td>26.77</td>\n",
       "      <td>296.51</td>\n",
       "      <td>25.0</td>\n",
       "      <td>7327.12</td>\n",
       "      <td>5.5</td>\n",
       "      <td>168.0</td>\n",
       "    </tr>\n",
       "    <tr>\n",
       "      <th>4</th>\n",
       "      <td>3</td>\n",
       "      <td>smart</td>\n",
       "      <td>54.32</td>\n",
       "      <td>15104.16</td>\n",
       "      <td>31.86</td>\n",
       "      <td>390.05</td>\n",
       "      <td>25.54</td>\n",
       "      <td>5828.24</td>\n",
       "      <td>26.80</td>\n",
       "      <td>191.89</td>\n",
       "      <td>59.0</td>\n",
       "      <td>15670.25</td>\n",
       "      <td>23.0</td>\n",
       "      <td>409.0</td>\n",
       "    </tr>\n",
       "    <tr>\n",
       "      <th>5</th>\n",
       "      <td>3</td>\n",
       "      <td>ultra</td>\n",
       "      <td>67.68</td>\n",
       "      <td>17535.55</td>\n",
       "      <td>32.30</td>\n",
       "      <td>489.65</td>\n",
       "      <td>44.84</td>\n",
       "      <td>10951.79</td>\n",
       "      <td>41.62</td>\n",
       "      <td>333.74</td>\n",
       "      <td>57.0</td>\n",
       "      <td>17495.18</td>\n",
       "      <td>20.0</td>\n",
       "      <td>403.0</td>\n",
       "    </tr>\n",
       "    <tr>\n",
       "      <th>6</th>\n",
       "      <td>4</td>\n",
       "      <td>smart</td>\n",
       "      <td>51.31</td>\n",
       "      <td>13462.18</td>\n",
       "      <td>30.74</td>\n",
       "      <td>367.13</td>\n",
       "      <td>25.70</td>\n",
       "      <td>5698.25</td>\n",
       "      <td>24.54</td>\n",
       "      <td>186.49</td>\n",
       "      <td>52.0</td>\n",
       "      <td>14087.65</td>\n",
       "      <td>28.0</td>\n",
       "      <td>368.5</td>\n",
       "    </tr>\n",
       "    <tr>\n",
       "      <th>7</th>\n",
       "      <td>4</td>\n",
       "      <td>ultra</td>\n",
       "      <td>64.09</td>\n",
       "      <td>16828.13</td>\n",
       "      <td>31.56</td>\n",
       "      <td>458.02</td>\n",
       "      <td>36.27</td>\n",
       "      <td>9718.65</td>\n",
       "      <td>37.51</td>\n",
       "      <td>267.68</td>\n",
       "      <td>61.0</td>\n",
       "      <td>16645.78</td>\n",
       "      <td>17.0</td>\n",
       "      <td>453.0</td>\n",
       "    </tr>\n",
       "    <tr>\n",
       "      <th>8</th>\n",
       "      <td>5</td>\n",
       "      <td>smart</td>\n",
       "      <td>55.24</td>\n",
       "      <td>15805.18</td>\n",
       "      <td>33.77</td>\n",
       "      <td>387.36</td>\n",
       "      <td>25.38</td>\n",
       "      <td>5978.23</td>\n",
       "      <td>27.04</td>\n",
       "      <td>186.60</td>\n",
       "      <td>59.0</td>\n",
       "      <td>16323.94</td>\n",
       "      <td>30.0</td>\n",
       "      <td>433.0</td>\n",
       "    </tr>\n",
       "    <tr>\n",
       "      <th>9</th>\n",
       "      <td>5</td>\n",
       "      <td>ultra</td>\n",
       "      <td>72.51</td>\n",
       "      <td>19363.15</td>\n",
       "      <td>37.85</td>\n",
       "      <td>510.33</td>\n",
       "      <td>41.08</td>\n",
       "      <td>10046.11</td>\n",
       "      <td>40.31</td>\n",
       "      <td>289.60</td>\n",
       "      <td>75.0</td>\n",
       "      <td>18696.43</td>\n",
       "      <td>25.0</td>\n",
       "      <td>519.0</td>\n",
       "    </tr>\n",
       "  </tbody>\n",
       "</table>\n",
       "</div>"
      ],
      "text/plain": [
       "   month tariff  calls_mean  sessions_mean  messages_mean  minutes_mean  \\\n",
       "0      1  smart       27.68        8513.72          18.24        203.85   \n",
       "1      1  ultra       59.44       13140.68          33.78        428.11   \n",
       "2      2  smart       40.19       11597.05          24.09        298.69   \n",
       "3      2  ultra       41.54       11775.94          21.96        297.12   \n",
       "4      3  smart       54.32       15104.16          31.86        390.05   \n",
       "5      3  ultra       67.68       17535.55          32.30        489.65   \n",
       "6      4  smart       51.31       13462.18          30.74        367.13   \n",
       "7      4  ultra       64.09       16828.13          31.56        458.02   \n",
       "8      5  smart       55.24       15805.18          33.77        387.36   \n",
       "9      5  ultra       72.51       19363.15          37.85        510.33   \n",
       "\n",
       "   calls_std  sessions_std  messages_std  minutes_std  calls_median  \\\n",
       "0      20.81       6444.68         16.20       154.23          20.5   \n",
       "1      41.64       6865.35         30.67       269.76          51.0   \n",
       "2      25.39       6247.35         21.75       190.82          38.5   \n",
       "3      40.97      10644.64         26.77       296.51          25.0   \n",
       "4      25.54       5828.24         26.80       191.89          59.0   \n",
       "5      44.84      10951.79         41.62       333.74          57.0   \n",
       "6      25.70       5698.25         24.54       186.49          52.0   \n",
       "7      36.27       9718.65         37.51       267.68          61.0   \n",
       "8      25.38       5978.23         27.04       186.60          59.0   \n",
       "9      41.08      10046.11         40.31       289.60          75.0   \n",
       "\n",
       "   sessions_median  messages_median  minutes_median  \n",
       "0          7096.18             15.0           162.5  \n",
       "1         14791.37             32.0           382.0  \n",
       "2         12553.71             20.0           258.0  \n",
       "3          7327.12              5.5           168.0  \n",
       "4         15670.25             23.0           409.0  \n",
       "5         17495.18             20.0           403.0  \n",
       "6         14087.65             28.0           368.5  \n",
       "7         16645.78             17.0           453.0  \n",
       "8         16323.94             30.0           433.0  \n",
       "9         18696.43             25.0           519.0  "
      ]
     },
     "execution_count": 43,
     "metadata": {},
     "output_type": "execute_result"
    }
   ],
   "source": [
    "# сохранение статистических метрик для каждой пары месяц-тариф\n",
    "# в одной таблице stats_df (среднее значение, стандартное отклонение, медиана)\n",
    "\n",
    "stats_df = user_behavior.pivot_table(\n",
    "            index=['month', 'tariff'],\\\n",
    "            values=['calls', 'minutes', 'messages', 'mb_used'],\\\n",
    "            aggfunc=['mean', 'std', 'median']\\\n",
    ").round(2).reset_index()\n",
    "\n",
    "stats_df.columns=['month', 'tariff', 'calls_mean', 'sessions_mean', 'messages_mean', 'minutes_mean',\n",
    "                                     'calls_std',  'sessions_std', 'messages_std', 'minutes_std', \n",
    "                                     'calls_median', 'sessions_median', 'messages_median',  'minutes_median']\n",
    "\n",
    "stats_df.head(10)"
   ]
  },
  {
   "cell_type": "markdown",
   "metadata": {
    "deletable": false,
    "editable": false,
    "id": "HBjTHsiq_oCq"
   },
   "source": [
    "Распределение среднего количества звонков по видам тарифов и месяцам"
   ]
  },
  {
   "cell_type": "code",
   "execution_count": 44,
   "metadata": {
    "deletable": false,
    "id": "HKlQp7la_oCq",
    "outputId": "18ba7a99-d460-44f5-9c08-a67e71e18aa2"
   },
   "outputs": [
    {
     "data": {
      "image/png": "[encoded data removed]",
      "text/plain": [
       "<Figure size 640x480 with 1 Axes>"
      ]
     },
     "metadata": {},
     "output_type": "display_data"
    }
   ],
   "source": [
    "ax = sns.barplot(x='month',\n",
    "            y='calls_mean',\n",
    "            hue=\"tariff\",\n",
    "            data=stats_df,\n",
    "            palette=['lightblue', 'blue'])\n",
    "\n",
    "ax.set_title('Распределение количества звонков по видам тарифов и месяцам')\n",
    "ax.set(xlabel='Номер месяца', ylabel='Среднее количество звонков');"
   ]
  },
  {
   "cell_type": "code",
   "execution_count": 45,
   "metadata": {
    "deletable": false,
    "id": "LBzNZDS1_oCq",
    "outputId": "12f9ceca-41e4-4ff9-ebf7-1a778751b299"
   },
   "outputs": [
    {
     "data": {
      "image/png": "[encoded data removed]",
      "text/plain": [
       "<Figure size 640x480 with 1 Axes>"
      ]
     },
     "metadata": {},
     "output_type": "display_data"
    }
   ],
   "source": [
    "import matplotlib.pyplot as plt\n",
    "\n",
    "user_behavior.groupby('tariff')['calls'].plot(kind='hist', bins=35, alpha=0.5)\n",
    "plt.legend(['Smart', 'Ultra'])\n",
    "plt.xlabel('Количество звонков')\n",
    "plt.ylabel('Количество клиентов')\n",
    "plt.show()"
   ]
  },
  {
   "cell_type": "markdown",
   "metadata": {
    "deletable": false,
    "editable": false,
    "id": "6ApNiP3G_oCq"
   },
   "source": [
    "Распределение средней продолжительности звонков по видам тарифов и месяцам"
   ]
  },
  {
   "cell_type": "code",
   "execution_count": 46,
   "metadata": {
    "deletable": false,
    "id": "NB9xuopA_oCq",
    "outputId": "f4f1696b-7a58-41b3-8085-f86e0c866bc9"
   },
   "outputs": [
    {
     "data": {
      "image/png": "[encoded data removed]",
      "text/plain": [
       "<Figure size 640x480 with 1 Axes>"
      ]
     },
     "metadata": {},
     "output_type": "display_data"
    }
   ],
   "source": [
    "ax = sns.barplot(x='month',\n",
    "            y='minutes_mean',\n",
    "            hue=\"tariff\",\n",
    "            data=stats_df,\n",
    "            palette=['lightblue', 'blue'])\n",
    "\n",
    "ax.set_title('Распределение продолжительности звонков по видам тарифов и месяцам')\n",
    "ax.set(xlabel='Номер месяца', ylabel='Средняя продолжительность звонков');"
   ]
  },
  {
   "cell_type": "code",
   "execution_count": 47,
   "metadata": {
    "deletable": false,
    "id": "eL5SHsdq_oCq",
    "outputId": "21d15fb2-0f41-46cb-b0ab-a31874d3d201"
   },
   "outputs": [
    {
     "data": {
      "image/png": "[encoded data removed]",
      "text/plain": [
       "<Figure size 640x480 with 1 Axes>"
      ]
     },
     "metadata": {},
     "output_type": "display_data"
    }
   ],
   "source": [
    "user_behavior[user_behavior['tariff'] =='smart']['minutes'].hist(bins=35, alpha=0.5, color='green')\n",
    "user_behavior[user_behavior['tariff'] =='ultra']['minutes'].hist(bins=35, alpha=0.5, color='blue');"
   ]
  },
  {
   "cell_type": "markdown",
   "metadata": {
    "deletable": false,
    "editable": false,
    "id": "G3NDyWZy_oCq"
   },
   "source": [
    "Средняя длительность разговоров у абонентов тарифа Ultra больше, чем у абонентов тарифа Smart. В течение года пользователи обоих тарифов увеличивают среднюю продолжительность своих разговоров. Рост средней длительности разговоров у абонентов тарифа Smart равномерный в течение года. Пользователи тарифа Ultra не проявляют подобной линейной стабильности. Стоит отметить, что феврале у абонентов обоих тарифных планов наблюдались самые низкие показатели."
   ]
  },
  {
   "cell_type": "markdown",
   "metadata": {
    "deletable": false,
    "editable": false,
    "id": "ils1vnE7_oCq"
   },
   "source": [
    "Распределение среднего количества сообщений по видам тарифов и месяцам"
   ]
  },
  {
   "cell_type": "code",
   "execution_count": 48,
   "metadata": {
    "deletable": false,
    "id": "zkSEsDH__oCq",
    "outputId": "34370df8-5375-4a80-b1f5-ad6d556f6a54"
   },
   "outputs": [
    {
     "data": {
      "image/png": "[encoded data removed]",
      "text/plain": [
       "<Figure size 640x480 with 1 Axes>"
      ]
     },
     "metadata": {},
     "output_type": "display_data"
    }
   ],
   "source": [
    "ax = sns.barplot(x='month',\n",
    "            y='messages_mean',\n",
    "            hue=\"tariff\",\n",
    "            data=stats_df,\n",
    "            palette=['lightblue', 'blue']\n",
    ")\n",
    "\n",
    "ax.set_title('Распределение количества сообщений по видам тарифов и месяцам')\n",
    "ax.set(xlabel='Номер месяца', ylabel='Среднее количество сообщений');"
   ]
  },
  {
   "cell_type": "code",
   "execution_count": 49,
   "metadata": {
    "deletable": false,
    "id": "I97vMndq_oCq",
    "outputId": "87f68d2f-ac58-4253-ccbb-70e81f073a41"
   },
   "outputs": [
    {
     "data": {
      "image/png": "[encoded data removed]",
      "text/plain": [
       "<Figure size 640x480 with 1 Axes>"
      ]
     },
     "metadata": {},
     "output_type": "display_data"
    }
   ],
   "source": [
    "user_behavior[user_behavior['tariff'] =='smart']['messages'].hist(bins=35, alpha=0.5, color='green')\n",
    "user_behavior[user_behavior['tariff'] =='ultra']['messages'].hist(bins=35, alpha=0.5, color='blue');"
   ]
  },
  {
   "cell_type": "markdown",
   "metadata": {
    "id": "IKu7ZqEy_oCq"
   },
   "source": [
    "В среднем пользователи тарифа Ultra отправляют больше сообщений — почти на 20 сообщений больше, чем пользователи тарифа Smart. Количество сообщений в течение года на обоих тарифах растёт. Динамика по отправке сообщений схожа с тенденциями по длительности разговоров: в феврале отмечено наименьшее количество сообщений за год и пользователи тарифа Ultra также проявляют нелинейную положительную динамику."
   ]
  },
  {
   "cell_type": "code",
   "execution_count": 50,
   "metadata": {
    "deletable": false,
    "id": "q866NzDW_oCr",
    "outputId": "18a00f1a-0227-4176-da41-47d448aecc0b"
   },
   "outputs": [
    {
     "data": {
      "image/png": "[encoded data removed]",
      "text/plain": [
       "<Figure size 640x480 with 1 Axes>"
      ]
     },
     "metadata": {},
     "output_type": "display_data"
    }
   ],
   "source": [
    "ax = sns.barplot(x='month',\n",
    "            y='sessions_mean',\n",
    "            hue='tariff',\n",
    "            data=stats_df,\n",
    "            palette=['lightblue', 'blue']\n",
    ")\n",
    "\n",
    "ax.set_title('Распределение количества потраченного трафика (Мб) по видам тарифов и месяцам')\n",
    "ax.set(xlabel='Номер месяца', ylabel='Среднее количество мегабайт');"
   ]
  },
  {
   "cell_type": "markdown",
   "metadata": {
    "deletable": false,
    "editable": false,
    "id": "an1c3noO_oCr"
   },
   "source": [
    "Сравнение потраченных мегабайт среди пользователей тарифов Smart и Ultra"
   ]
  },
  {
   "cell_type": "code",
   "execution_count": 51,
   "metadata": {
    "deletable": false,
    "id": "Czm2mIhd_oCr",
    "outputId": "af40db5d-21b7-4991-bcfb-cd57eec6bb3d"
   },
   "outputs": [
    {
     "data": {
      "image/png": "[encoded data removed]",
      "text/plain": [
       "<Figure size 640x480 with 1 Axes>"
      ]
     },
     "metadata": {},
     "output_type": "display_data"
    }
   ],
   "source": [
    "user_behavior[user_behavior['tariff'] =='smart']['mb_used'].hist(bins=35, alpha=0.5, color='green')\n",
    "user_behavior[user_behavior['tariff'] =='ultra']['mb_used'].hist(bins=35, alpha=0.5, color='blue');"
   ]
  },
  {
   "cell_type": "markdown",
   "metadata": {
    "deletable": false,
    "editable": false,
    "id": "DQp_KGw1_oCr"
   },
   "source": [
    "Меньше всего пользователи использовали интернет в январе, феврале и апреле. Чаще всего абоненты тарифа Smart тратят 15–17 Гб, а абоненты тарифного плана Ultra — 19–21 ГБ."
   ]
  },
  {
   "cell_type": "markdown",
   "metadata": {
    "deletable": false,
    "editable": false,
    "id": "aKJz6DhN_oCr"
   },
   "source": [
    "### Проверка гипотез"
   ]
  },
  {
   "cell_type": "markdown",
   "metadata": {
    "deletable": false,
    "editable": false,
    "id": "FW2jChme_oCr",
    "tags": [
     "start_task"
    ]
   },
   "source": [
    "**Задание 28.** Проверка гипотезы: средняя выручка пользователей тарифов «Ультра» и «Смарт» различается;\n",
    "\n",
    "```\n",
    "H_0: Выручка (total_cost) пользователей \"Ультра\" = выручка (total_cost) пользователей \"Смарт\"`\n",
    "H_a: Выручка (total_cost) пользователей \"Ультра\" ≠ выручка (total_cost) пользователей \"Смарт\"`\n",
    "alpha = 0.05\n",
    "```"
   ]
  },
  {
   "cell_type": "code",
   "execution_count": null,
   "metadata": {
    "deletable": false,
    "id": "02sfJAHr_oCr"
   },
   "outputs": [],
   "source": []
  },
  {
   "cell_type": "code",
   "execution_count": 52,
   "metadata": {
    "deletable": false,
    "id": "OxsrhJXE_oCr"
   },
   "outputs": [
    {
     "data": {
      "text/plain": [
       "4.2606313931076085e-250"
      ]
     },
     "metadata": {},
     "output_type": "display_data"
    },
    {
     "name": "stdout",
     "output_type": "stream",
     "text": [
      "Отвергаем нулевую гипотезу\n"
     ]
    }
   ],
   "source": [
    "# results = вызов метода для проверки гипотезы\n",
    "results = st.ttest_ind(user_behavior.loc[user_behavior.tariff == 'smart', 'total_cost'], user_behavior.loc[user_behavior.tariff == 'ultra', 'total_cost'], equal_var=False)\n",
    "\n",
    "alpha = 0.05\n",
    "\n",
    "# вывод значения p-value на экран \n",
    "display(results.pvalue)\n",
    "if results.pvalue < alpha:\n",
    "    print('Отвергаем нулевую гипотезу')\n",
    "else:\n",
    "    print('Не получилось отвергнуть нулевую гипотезу')\n",
    "\n",
    "# условный оператор с выводом строки с ответом"
   ]
  },
  {
   "cell_type": "markdown",
   "metadata": {
    "deletable": false,
    "editable": false,
    "id": "-ENs-XhC_oCr",
    "tags": [
     "start_task"
    ]
   },
   "source": [
    "**Задание 29.** Проверка гипотезы: средняя выручка с пользователей из Москвы отличается от выручки c пользователей других регионов; \n",
    "\n",
    "```\n",
    "H_0: Выручка (total_cost) пользователей из Москвы = выручка (total_cost) пользователей не из Москвы`\n",
    "H_1: Выручка (total_cost) пользователей из Москвы ≠ выручка (total_cost) пользователей не из Москвы`\n",
    "alpha = 0.05\n",
    "```"
   ]
  },
  {
   "cell_type": "code",
   "execution_count": 53,
   "metadata": {
    "deletable": false,
    "id": "RznkRUuu_oCr"
   },
   "outputs": [
    {
     "data": {
      "text/plain": [
       "0.5989670526299276"
      ]
     },
     "metadata": {},
     "output_type": "display_data"
    },
    {
     "name": "stdout",
     "output_type": "stream",
     "text": [
      "Не получилось отвергнуть нулевую гипотезу\n"
     ]
    }
   ],
   "source": [
    "# results = вызов метода для проверки гипотезы\n",
    "results = st.ttest_ind(user_behavior.loc[user_behavior.city == 'Москва', 'total_cost'], user_behavior.loc[user_behavior.tariff != 'Москва', 'total_cost'], equal_var=False)\n",
    "\n",
    "alpha = 0.05\n",
    "\n",
    "# вывод значения p-value на экран \n",
    "display(results.pvalue)\n",
    "if results.pvalue < alpha:\n",
    "    print('Отвергаем нулевую гипотезу')\n",
    "else:\n",
    "    print('Не получилось отвергнуть нулевую гипотезу')\n",
    "\n",
    "# условный оператор с выводом строки с ответом"
   ]
  },
  {
   "cell_type": "markdown",
   "metadata": {},
   "source": [
    "**Выводы:**\n",
    " * Средняя выручка от пользователей тарифов «Ультра» и «Смарт» различается.\n",
    " * Средняя выручка от пользователей из Москвы не отличается от выручки c пользователей других регионов.\n",
    " \n",
    "**Рекомендации:**\n",
    "* Рекомендовано сосредоточиться на рекламном продвижении тарифного плана \"Ультра\", поскольку он является наиболее выгодным для оператора, а его пользователи активны и стабильны в использовании сервисов плана.\n",
    "* Не имеет смысла сосредотачиваться на продвижении в Москве, т.к. ее абоненты вносят такой же вклад, как и пользователи из регионов. Однако, будет не лишним провести отдельное исследование предпочтения тарифных планов в зависимости от города, чтобы сделать рекламную политику более сфокусированной.\n",
    "* Относительно тарифа \"Смарт\" можно сказать следующее: несмотря на частые выходы за лимиты, абоненты всё же выбирают его вдвое чаще, чем тариф \"Ультра\". Это обуславливается большей его доступностью ввиду сниженной абонентской платы. Однако стоит вынести на рассмотрение вопрос о повышении выручки с данного тарифа - либо за счёт привлечения большего количества пользователей, либо разумным повышением его лимитов и, как следствие, абонентской платы."
   ]
  }
 ],
 "metadata": {
  "ExecuteTimeLog": [
   {
    "duration": 430,
    "start_time": "2023-02-13T20:12:17.825Z"
   },
   {
    "duration": 211,
    "start_time": "2023-02-13T20:12:45.289Z"
   },
   {
    "duration": 14,
    "start_time": "2023-02-13T20:12:55.398Z"
   },
   {
    "duration": 24,
    "start_time": "2023-02-13T20:13:13.165Z"
   },
   {
    "duration": 609,
    "start_time": "2023-02-13T20:15:04.362Z"
   },
   {
    "duration": 246,
    "start_time": "2023-02-13T20:15:19.713Z"
   },
   {
    "duration": 4,
    "start_time": "2023-02-13T20:16:51.437Z"
   },
   {
    "duration": 148,
    "start_time": "2023-02-13T20:16:57.553Z"
   },
   {
    "duration": 8,
    "start_time": "2023-02-13T20:16:59.389Z"
   },
   {
    "duration": 27,
    "start_time": "2023-02-13T20:17:02.237Z"
   },
   {
    "duration": 192,
    "start_time": "2023-02-13T20:17:04.610Z"
   },
   {
    "duration": 187,
    "start_time": "2023-02-13T20:18:20.733Z"
   },
   {
    "duration": 447,
    "start_time": "2023-02-13T20:18:57.136Z"
   },
   {
    "duration": 9,
    "start_time": "2023-02-13T20:19:11.491Z"
   },
   {
    "duration": 22,
    "start_time": "2023-02-13T20:19:32.452Z"
   },
   {
    "duration": 385,
    "start_time": "2023-02-14T12:48:35.748Z"
   },
   {
    "duration": 150,
    "start_time": "2023-02-14T12:48:36.134Z"
   },
   {
    "duration": 13,
    "start_time": "2023-02-14T12:48:36.286Z"
   },
   {
    "duration": 35,
    "start_time": "2023-02-14T12:48:36.301Z"
   },
   {
    "duration": 368,
    "start_time": "2023-02-14T12:48:36.338Z"
   },
   {
    "duration": 118,
    "start_time": "2023-02-14T12:48:36.708Z"
   },
   {
    "duration": 11,
    "start_time": "2023-02-14T12:48:36.828Z"
   },
   {
    "duration": 32,
    "start_time": "2023-02-14T12:48:36.840Z"
   },
   {
    "duration": 171,
    "start_time": "2023-02-14T12:48:36.874Z"
   },
   {
    "duration": 135,
    "start_time": "2023-02-14T12:48:37.048Z"
   },
   {
    "duration": 8,
    "start_time": "2023-02-14T12:48:37.184Z"
   },
   {
    "duration": 21,
    "start_time": "2023-02-14T12:48:37.193Z"
   },
   {
    "duration": 72,
    "start_time": "2023-02-14T12:48:37.216Z"
   },
   {
    "duration": 10,
    "start_time": "2023-02-14T12:48:37.290Z"
   },
   {
    "duration": 30,
    "start_time": "2023-02-14T12:48:37.302Z"
   },
   {
    "duration": 71,
    "start_time": "2023-02-14T12:48:37.333Z"
   },
   {
    "duration": 9,
    "start_time": "2023-02-14T12:48:37.406Z"
   },
   {
    "duration": 13,
    "start_time": "2023-02-14T12:48:37.417Z"
   },
   {
    "duration": 75,
    "start_time": "2023-02-14T12:48:37.431Z"
   },
   {
    "duration": 6,
    "start_time": "2023-02-14T12:48:37.508Z"
   },
   {
    "duration": 725,
    "start_time": "2023-02-14T12:48:37.515Z"
   },
   {
    "duration": 0,
    "start_time": "2023-02-14T12:48:38.242Z"
   },
   {
    "duration": 0,
    "start_time": "2023-02-14T12:48:38.244Z"
   },
   {
    "duration": 0,
    "start_time": "2023-02-14T12:48:38.245Z"
   },
   {
    "duration": 0,
    "start_time": "2023-02-14T12:48:38.246Z"
   },
   {
    "duration": 0,
    "start_time": "2023-02-14T12:48:38.246Z"
   },
   {
    "duration": 0,
    "start_time": "2023-02-14T12:48:38.247Z"
   },
   {
    "duration": 0,
    "start_time": "2023-02-14T12:48:38.248Z"
   },
   {
    "duration": 0,
    "start_time": "2023-02-14T12:48:38.249Z"
   },
   {
    "duration": 0,
    "start_time": "2023-02-14T12:48:38.251Z"
   },
   {
    "duration": 0,
    "start_time": "2023-02-14T12:48:38.251Z"
   },
   {
    "duration": 0,
    "start_time": "2023-02-14T12:48:38.252Z"
   },
   {
    "duration": 0,
    "start_time": "2023-02-14T12:48:38.253Z"
   },
   {
    "duration": 0,
    "start_time": "2023-02-14T12:48:38.254Z"
   },
   {
    "duration": 0,
    "start_time": "2023-02-14T12:48:38.255Z"
   },
   {
    "duration": 0,
    "start_time": "2023-02-14T12:48:38.256Z"
   },
   {
    "duration": 1,
    "start_time": "2023-02-14T12:48:38.256Z"
   },
   {
    "duration": 0,
    "start_time": "2023-02-14T12:48:38.257Z"
   },
   {
    "duration": 0,
    "start_time": "2023-02-14T12:48:38.258Z"
   },
   {
    "duration": 0,
    "start_time": "2023-02-14T12:48:38.259Z"
   },
   {
    "duration": 0,
    "start_time": "2023-02-14T12:48:38.260Z"
   },
   {
    "duration": 0,
    "start_time": "2023-02-14T12:48:38.261Z"
   },
   {
    "duration": 0,
    "start_time": "2023-02-14T12:48:38.262Z"
   },
   {
    "duration": 0,
    "start_time": "2023-02-14T12:48:38.263Z"
   },
   {
    "duration": 0,
    "start_time": "2023-02-14T12:48:38.264Z"
   },
   {
    "duration": 0,
    "start_time": "2023-02-14T12:48:38.265Z"
   },
   {
    "duration": 0,
    "start_time": "2023-02-14T12:48:38.266Z"
   },
   {
    "duration": 0,
    "start_time": "2023-02-14T12:48:38.267Z"
   },
   {
    "duration": 0,
    "start_time": "2023-02-14T12:48:38.268Z"
   },
   {
    "duration": 0,
    "start_time": "2023-02-14T12:48:38.269Z"
   },
   {
    "duration": 0,
    "start_time": "2023-02-14T12:48:38.270Z"
   },
   {
    "duration": 13,
    "start_time": "2023-02-14T12:49:26.320Z"
   },
   {
    "duration": 26,
    "start_time": "2023-02-14T12:50:42.420Z"
   },
   {
    "duration": 10,
    "start_time": "2023-02-14T12:51:19.014Z"
   },
   {
    "duration": 8,
    "start_time": "2023-02-14T12:52:32.333Z"
   },
   {
    "duration": 362,
    "start_time": "2023-02-14T12:52:43.082Z"
   },
   {
    "duration": 144,
    "start_time": "2023-02-14T12:52:43.446Z"
   },
   {
    "duration": 14,
    "start_time": "2023-02-14T12:52:43.592Z"
   },
   {
    "duration": 30,
    "start_time": "2023-02-14T12:52:43.607Z"
   },
   {
    "duration": 359,
    "start_time": "2023-02-14T12:52:43.639Z"
   },
   {
    "duration": 118,
    "start_time": "2023-02-14T12:52:43.999Z"
   },
   {
    "duration": 8,
    "start_time": "2023-02-14T12:52:44.119Z"
   },
   {
    "duration": 23,
    "start_time": "2023-02-14T12:52:44.128Z"
   },
   {
    "duration": 171,
    "start_time": "2023-02-14T12:52:44.152Z"
   },
   {
    "duration": 81,
    "start_time": "2023-02-14T12:52:44.325Z"
   },
   {
    "duration": 7,
    "start_time": "2023-02-14T12:52:44.408Z"
   },
   {
    "duration": 26,
    "start_time": "2023-02-14T12:52:44.416Z"
   },
   {
    "duration": 14,
    "start_time": "2023-02-14T12:52:44.443Z"
   },
   {
    "duration": 5,
    "start_time": "2023-02-14T12:52:44.460Z"
   },
   {
    "duration": 11,
    "start_time": "2023-02-14T12:52:44.466Z"
   },
   {
    "duration": 35,
    "start_time": "2023-02-14T12:52:44.478Z"
   },
   {
    "duration": 9,
    "start_time": "2023-02-14T12:52:44.514Z"
   },
   {
    "duration": 12,
    "start_time": "2023-02-14T12:52:44.524Z"
   },
   {
    "duration": 68,
    "start_time": "2023-02-14T12:52:44.538Z"
   },
   {
    "duration": 6,
    "start_time": "2023-02-14T12:52:44.607Z"
   },
   {
    "duration": 23,
    "start_time": "2023-02-14T12:52:44.614Z"
   },
   {
    "duration": 2,
    "start_time": "2023-02-14T12:52:44.639Z"
   },
   {
    "duration": 6,
    "start_time": "2023-02-14T12:52:44.642Z"
   },
   {
    "duration": 5,
    "start_time": "2023-02-14T12:52:44.649Z"
   },
   {
    "duration": 5,
    "start_time": "2023-02-14T12:52:44.655Z"
   },
   {
    "duration": 5,
    "start_time": "2023-02-14T12:52:44.661Z"
   },
   {
    "duration": 6,
    "start_time": "2023-02-14T12:52:44.667Z"
   },
   {
    "duration": 5,
    "start_time": "2023-02-14T12:52:44.674Z"
   },
   {
    "duration": 8,
    "start_time": "2023-02-14T12:52:44.680Z"
   },
   {
    "duration": 6,
    "start_time": "2023-02-14T12:52:44.689Z"
   },
   {
    "duration": 73,
    "start_time": "2023-02-14T12:52:44.697Z"
   },
   {
    "duration": 0,
    "start_time": "2023-02-14T12:52:44.773Z"
   },
   {
    "duration": 0,
    "start_time": "2023-02-14T12:52:44.774Z"
   },
   {
    "duration": 0,
    "start_time": "2023-02-14T12:52:44.775Z"
   },
   {
    "duration": 0,
    "start_time": "2023-02-14T12:52:44.777Z"
   },
   {
    "duration": 0,
    "start_time": "2023-02-14T12:52:44.778Z"
   },
   {
    "duration": 0,
    "start_time": "2023-02-14T12:52:44.780Z"
   },
   {
    "duration": 0,
    "start_time": "2023-02-14T12:52:44.781Z"
   },
   {
    "duration": 0,
    "start_time": "2023-02-14T12:52:44.782Z"
   },
   {
    "duration": 0,
    "start_time": "2023-02-14T12:52:44.783Z"
   },
   {
    "duration": 0,
    "start_time": "2023-02-14T12:52:44.785Z"
   },
   {
    "duration": 0,
    "start_time": "2023-02-14T12:52:44.786Z"
   },
   {
    "duration": 0,
    "start_time": "2023-02-14T12:52:44.788Z"
   },
   {
    "duration": 0,
    "start_time": "2023-02-14T12:52:44.789Z"
   },
   {
    "duration": 0,
    "start_time": "2023-02-14T12:52:44.790Z"
   },
   {
    "duration": 0,
    "start_time": "2023-02-14T12:52:44.791Z"
   },
   {
    "duration": 0,
    "start_time": "2023-02-14T12:52:44.793Z"
   },
   {
    "duration": 0,
    "start_time": "2023-02-14T12:52:44.794Z"
   },
   {
    "duration": 0,
    "start_time": "2023-02-14T12:52:44.795Z"
   },
   {
    "duration": 0,
    "start_time": "2023-02-14T12:52:44.837Z"
   },
   {
    "duration": 0,
    "start_time": "2023-02-14T12:52:44.839Z"
   },
   {
    "duration": 431,
    "start_time": "2023-02-14T12:54:05.638Z"
   },
   {
    "duration": 146,
    "start_time": "2023-02-14T12:54:06.071Z"
   },
   {
    "duration": 14,
    "start_time": "2023-02-14T12:54:06.219Z"
   },
   {
    "duration": 20,
    "start_time": "2023-02-14T12:54:06.235Z"
   },
   {
    "duration": 377,
    "start_time": "2023-02-14T12:54:06.257Z"
   },
   {
    "duration": 121,
    "start_time": "2023-02-14T12:54:06.636Z"
   },
   {
    "duration": 8,
    "start_time": "2023-02-14T12:54:06.758Z"
   },
   {
    "duration": 20,
    "start_time": "2023-02-14T12:54:06.767Z"
   },
   {
    "duration": 173,
    "start_time": "2023-02-14T12:54:06.789Z"
   },
   {
    "duration": 78,
    "start_time": "2023-02-14T12:54:06.965Z"
   },
   {
    "duration": 7,
    "start_time": "2023-02-14T12:54:07.045Z"
   },
   {
    "duration": 24,
    "start_time": "2023-02-14T12:54:07.053Z"
   },
   {
    "duration": 39,
    "start_time": "2023-02-14T12:54:07.079Z"
   },
   {
    "duration": 4,
    "start_time": "2023-02-14T12:54:07.120Z"
   },
   {
    "duration": 12,
    "start_time": "2023-02-14T12:54:07.126Z"
   },
   {
    "duration": 26,
    "start_time": "2023-02-14T12:54:07.139Z"
   },
   {
    "duration": 9,
    "start_time": "2023-02-14T12:54:07.167Z"
   },
   {
    "duration": 10,
    "start_time": "2023-02-14T12:54:07.178Z"
   },
   {
    "duration": 68,
    "start_time": "2023-02-14T12:54:07.189Z"
   },
   {
    "duration": 7,
    "start_time": "2023-02-14T12:54:07.259Z"
   },
   {
    "duration": 13,
    "start_time": "2023-02-14T12:54:07.267Z"
   },
   {
    "duration": 7,
    "start_time": "2023-02-14T12:54:07.281Z"
   },
   {
    "duration": 9,
    "start_time": "2023-02-14T12:54:07.289Z"
   },
   {
    "duration": 10,
    "start_time": "2023-02-14T12:54:07.299Z"
   },
   {
    "duration": 6,
    "start_time": "2023-02-14T12:54:07.311Z"
   },
   {
    "duration": 6,
    "start_time": "2023-02-14T12:54:07.319Z"
   },
   {
    "duration": 16,
    "start_time": "2023-02-14T12:54:07.326Z"
   },
   {
    "duration": 7,
    "start_time": "2023-02-14T12:54:07.345Z"
   },
   {
    "duration": 6,
    "start_time": "2023-02-14T12:54:07.354Z"
   },
   {
    "duration": 7,
    "start_time": "2023-02-14T12:54:07.361Z"
   },
   {
    "duration": 72,
    "start_time": "2023-02-14T12:54:07.369Z"
   },
   {
    "duration": 0,
    "start_time": "2023-02-14T12:54:07.443Z"
   },
   {
    "duration": 0,
    "start_time": "2023-02-14T12:54:07.444Z"
   },
   {
    "duration": 0,
    "start_time": "2023-02-14T12:54:07.445Z"
   },
   {
    "duration": 0,
    "start_time": "2023-02-14T12:54:07.446Z"
   },
   {
    "duration": 0,
    "start_time": "2023-02-14T12:54:07.446Z"
   },
   {
    "duration": 0,
    "start_time": "2023-02-14T12:54:07.447Z"
   },
   {
    "duration": 0,
    "start_time": "2023-02-14T12:54:07.448Z"
   },
   {
    "duration": 0,
    "start_time": "2023-02-14T12:54:07.449Z"
   },
   {
    "duration": 0,
    "start_time": "2023-02-14T12:54:07.450Z"
   },
   {
    "duration": 0,
    "start_time": "2023-02-14T12:54:07.451Z"
   },
   {
    "duration": 0,
    "start_time": "2023-02-14T12:54:07.452Z"
   },
   {
    "duration": 0,
    "start_time": "2023-02-14T12:54:07.453Z"
   },
   {
    "duration": 0,
    "start_time": "2023-02-14T12:54:07.454Z"
   },
   {
    "duration": 0,
    "start_time": "2023-02-14T12:54:07.456Z"
   },
   {
    "duration": 0,
    "start_time": "2023-02-14T12:54:07.457Z"
   },
   {
    "duration": 0,
    "start_time": "2023-02-14T12:54:07.458Z"
   },
   {
    "duration": 0,
    "start_time": "2023-02-14T12:54:07.459Z"
   },
   {
    "duration": 0,
    "start_time": "2023-02-14T12:54:07.459Z"
   },
   {
    "duration": 0,
    "start_time": "2023-02-14T12:54:07.460Z"
   },
   {
    "duration": 0,
    "start_time": "2023-02-14T12:54:07.461Z"
   },
   {
    "duration": 17,
    "start_time": "2023-02-14T12:54:16.324Z"
   },
   {
    "duration": 9,
    "start_time": "2023-02-14T12:54:41.962Z"
   },
   {
    "duration": 376,
    "start_time": "2023-02-14T18:44:47.600Z"
   },
   {
    "duration": 153,
    "start_time": "2023-02-14T18:44:47.978Z"
   },
   {
    "duration": 15,
    "start_time": "2023-02-14T18:44:48.132Z"
   },
   {
    "duration": 23,
    "start_time": "2023-02-14T18:44:48.149Z"
   },
   {
    "duration": 401,
    "start_time": "2023-02-14T18:44:48.174Z"
   },
   {
    "duration": 133,
    "start_time": "2023-02-14T18:44:48.577Z"
   },
   {
    "duration": 9,
    "start_time": "2023-02-14T18:44:48.712Z"
   },
   {
    "duration": 27,
    "start_time": "2023-02-14T18:44:48.723Z"
   },
   {
    "duration": 194,
    "start_time": "2023-02-14T18:44:48.752Z"
   },
   {
    "duration": 86,
    "start_time": "2023-02-14T18:44:48.948Z"
   },
   {
    "duration": 8,
    "start_time": "2023-02-14T18:44:49.035Z"
   },
   {
    "duration": 20,
    "start_time": "2023-02-14T18:44:49.044Z"
   },
   {
    "duration": 24,
    "start_time": "2023-02-14T18:44:49.066Z"
   },
   {
    "duration": 5,
    "start_time": "2023-02-14T18:44:49.093Z"
   },
   {
    "duration": 14,
    "start_time": "2023-02-14T18:44:49.099Z"
   },
   {
    "duration": 25,
    "start_time": "2023-02-14T18:44:49.115Z"
   },
   {
    "duration": 10,
    "start_time": "2023-02-14T18:44:49.142Z"
   },
   {
    "duration": 12,
    "start_time": "2023-02-14T18:44:49.154Z"
   },
   {
    "duration": 90,
    "start_time": "2023-02-14T18:44:49.167Z"
   },
   {
    "duration": 6,
    "start_time": "2023-02-14T18:44:49.259Z"
   },
   {
    "duration": 8,
    "start_time": "2023-02-14T18:44:49.267Z"
   },
   {
    "duration": 3,
    "start_time": "2023-02-14T18:44:49.277Z"
   },
   {
    "duration": 4,
    "start_time": "2023-02-14T18:44:49.282Z"
   },
   {
    "duration": 8,
    "start_time": "2023-02-14T18:44:49.288Z"
   },
   {
    "duration": 5,
    "start_time": "2023-02-14T18:44:49.297Z"
   },
   {
    "duration": 7,
    "start_time": "2023-02-14T18:44:49.303Z"
   },
   {
    "duration": 26,
    "start_time": "2023-02-14T18:44:49.311Z"
   },
   {
    "duration": 6,
    "start_time": "2023-02-14T18:44:49.339Z"
   },
   {
    "duration": 5,
    "start_time": "2023-02-14T18:44:49.346Z"
   },
   {
    "duration": 10,
    "start_time": "2023-02-14T18:44:49.352Z"
   },
   {
    "duration": 84,
    "start_time": "2023-02-14T18:44:49.364Z"
   },
   {
    "duration": 0,
    "start_time": "2023-02-14T18:44:49.450Z"
   },
   {
    "duration": 1,
    "start_time": "2023-02-14T18:44:49.451Z"
   },
   {
    "duration": 0,
    "start_time": "2023-02-14T18:44:49.453Z"
   },
   {
    "duration": 0,
    "start_time": "2023-02-14T18:44:49.454Z"
   },
   {
    "duration": 0,
    "start_time": "2023-02-14T18:44:49.455Z"
   },
   {
    "duration": 0,
    "start_time": "2023-02-14T18:44:49.456Z"
   },
   {
    "duration": 0,
    "start_time": "2023-02-14T18:44:49.457Z"
   },
   {
    "duration": 0,
    "start_time": "2023-02-14T18:44:49.458Z"
   },
   {
    "duration": 0,
    "start_time": "2023-02-14T18:44:49.459Z"
   },
   {
    "duration": 0,
    "start_time": "2023-02-14T18:44:49.460Z"
   },
   {
    "duration": 1,
    "start_time": "2023-02-14T18:44:49.460Z"
   },
   {
    "duration": 0,
    "start_time": "2023-02-14T18:44:49.462Z"
   },
   {
    "duration": 0,
    "start_time": "2023-02-14T18:44:49.463Z"
   },
   {
    "duration": 0,
    "start_time": "2023-02-14T18:44:49.464Z"
   },
   {
    "duration": 0,
    "start_time": "2023-02-14T18:44:49.465Z"
   },
   {
    "duration": 0,
    "start_time": "2023-02-14T18:44:49.466Z"
   },
   {
    "duration": 0,
    "start_time": "2023-02-14T18:44:49.466Z"
   },
   {
    "duration": 0,
    "start_time": "2023-02-14T18:44:49.467Z"
   },
   {
    "duration": 0,
    "start_time": "2023-02-14T18:44:49.468Z"
   },
   {
    "duration": 0,
    "start_time": "2023-02-14T18:44:49.469Z"
   },
   {
    "duration": 10,
    "start_time": "2023-02-14T18:45:55.997Z"
   },
   {
    "duration": 9,
    "start_time": "2023-02-14T18:50:54.658Z"
   },
   {
    "duration": 13,
    "start_time": "2023-02-14T18:51:18.367Z"
   },
   {
    "duration": 45,
    "start_time": "2023-02-14T18:51:37.167Z"
   },
   {
    "duration": 19,
    "start_time": "2023-02-14T18:52:51.497Z"
   },
   {
    "duration": 7,
    "start_time": "2023-02-14T18:53:13.184Z"
   },
   {
    "duration": 7,
    "start_time": "2023-02-14T18:53:26.232Z"
   },
   {
    "duration": 46,
    "start_time": "2023-02-14T18:54:27.443Z"
   },
   {
    "duration": 18,
    "start_time": "2023-02-14T18:59:46.900Z"
   },
   {
    "duration": 39,
    "start_time": "2023-02-14T19:00:05.000Z"
   },
   {
    "duration": 12,
    "start_time": "2023-02-14T19:00:32.502Z"
   },
   {
    "duration": 369,
    "start_time": "2023-02-14T19:00:39.340Z"
   },
   {
    "duration": 142,
    "start_time": "2023-02-14T19:00:39.710Z"
   },
   {
    "duration": 15,
    "start_time": "2023-02-14T19:00:39.853Z"
   },
   {
    "duration": 21,
    "start_time": "2023-02-14T19:00:39.869Z"
   },
   {
    "duration": 369,
    "start_time": "2023-02-14T19:00:39.891Z"
   },
   {
    "duration": 125,
    "start_time": "2023-02-14T19:00:40.261Z"
   },
   {
    "duration": 9,
    "start_time": "2023-02-14T19:00:40.388Z"
   },
   {
    "duration": 21,
    "start_time": "2023-02-14T19:00:40.399Z"
   },
   {
    "duration": 181,
    "start_time": "2023-02-14T19:00:40.421Z"
   },
   {
    "duration": 80,
    "start_time": "2023-02-14T19:00:40.605Z"
   },
   {
    "duration": 6,
    "start_time": "2023-02-14T19:00:40.687Z"
   },
   {
    "duration": 18,
    "start_time": "2023-02-14T19:00:40.695Z"
   },
   {
    "duration": 13,
    "start_time": "2023-02-14T19:00:40.714Z"
   },
   {
    "duration": 9,
    "start_time": "2023-02-14T19:00:40.728Z"
   },
   {
    "duration": 13,
    "start_time": "2023-02-14T19:00:40.739Z"
   },
   {
    "duration": 34,
    "start_time": "2023-02-14T19:00:40.753Z"
   },
   {
    "duration": 8,
    "start_time": "2023-02-14T19:00:40.789Z"
   },
   {
    "duration": 10,
    "start_time": "2023-02-14T19:00:40.799Z"
   },
   {
    "duration": 67,
    "start_time": "2023-02-14T19:00:40.810Z"
   },
   {
    "duration": 6,
    "start_time": "2023-02-14T19:00:40.878Z"
   },
   {
    "duration": 10,
    "start_time": "2023-02-14T19:00:40.885Z"
   },
   {
    "duration": 41,
    "start_time": "2023-02-14T19:00:40.897Z"
   },
   {
    "duration": 2,
    "start_time": "2023-02-14T19:00:40.939Z"
   },
   {
    "duration": 7,
    "start_time": "2023-02-14T19:00:40.942Z"
   },
   {
    "duration": 5,
    "start_time": "2023-02-14T19:00:40.951Z"
   },
   {
    "duration": 7,
    "start_time": "2023-02-14T19:00:40.957Z"
   },
   {
    "duration": 5,
    "start_time": "2023-02-14T19:00:40.965Z"
   },
   {
    "duration": 4,
    "start_time": "2023-02-14T19:00:40.973Z"
   },
   {
    "duration": 5,
    "start_time": "2023-02-14T19:00:40.979Z"
   },
   {
    "duration": 5,
    "start_time": "2023-02-14T19:00:40.985Z"
   },
   {
    "duration": 8,
    "start_time": "2023-02-14T19:00:40.992Z"
   },
   {
    "duration": 80,
    "start_time": "2023-02-14T19:00:41.001Z"
   },
   {
    "duration": 0,
    "start_time": "2023-02-14T19:00:41.083Z"
   },
   {
    "duration": 0,
    "start_time": "2023-02-14T19:00:41.084Z"
   },
   {
    "duration": 0,
    "start_time": "2023-02-14T19:00:41.085Z"
   },
   {
    "duration": 0,
    "start_time": "2023-02-14T19:00:41.086Z"
   },
   {
    "duration": 0,
    "start_time": "2023-02-14T19:00:41.087Z"
   },
   {
    "duration": 0,
    "start_time": "2023-02-14T19:00:41.088Z"
   },
   {
    "duration": 0,
    "start_time": "2023-02-14T19:00:41.089Z"
   },
   {
    "duration": 0,
    "start_time": "2023-02-14T19:00:41.090Z"
   },
   {
    "duration": 0,
    "start_time": "2023-02-14T19:00:41.091Z"
   },
   {
    "duration": 0,
    "start_time": "2023-02-14T19:00:41.092Z"
   },
   {
    "duration": 0,
    "start_time": "2023-02-14T19:00:41.093Z"
   },
   {
    "duration": 0,
    "start_time": "2023-02-14T19:00:41.094Z"
   },
   {
    "duration": 0,
    "start_time": "2023-02-14T19:00:41.095Z"
   },
   {
    "duration": 0,
    "start_time": "2023-02-14T19:00:41.096Z"
   },
   {
    "duration": 0,
    "start_time": "2023-02-14T19:00:41.097Z"
   },
   {
    "duration": 0,
    "start_time": "2023-02-14T19:00:41.099Z"
   },
   {
    "duration": 0,
    "start_time": "2023-02-14T19:00:41.099Z"
   },
   {
    "duration": 0,
    "start_time": "2023-02-14T19:00:41.101Z"
   },
   {
    "duration": 0,
    "start_time": "2023-02-14T19:00:41.102Z"
   },
   {
    "duration": 0,
    "start_time": "2023-02-14T19:00:41.137Z"
   },
   {
    "duration": 37,
    "start_time": "2023-02-14T19:01:14.873Z"
   },
   {
    "duration": 34,
    "start_time": "2023-02-14T19:02:14.282Z"
   },
   {
    "duration": 370,
    "start_time": "2023-02-14T19:02:51.139Z"
   },
   {
    "duration": 141,
    "start_time": "2023-02-14T19:02:51.512Z"
   },
   {
    "duration": 15,
    "start_time": "2023-02-14T19:02:51.655Z"
   },
   {
    "duration": 21,
    "start_time": "2023-02-14T19:02:51.672Z"
   },
   {
    "duration": 389,
    "start_time": "2023-02-14T19:02:51.695Z"
   },
   {
    "duration": 116,
    "start_time": "2023-02-14T19:02:52.086Z"
   },
   {
    "duration": 9,
    "start_time": "2023-02-14T19:02:52.204Z"
   },
   {
    "duration": 29,
    "start_time": "2023-02-14T19:02:52.215Z"
   },
   {
    "duration": 173,
    "start_time": "2023-02-14T19:02:52.245Z"
   },
   {
    "duration": 78,
    "start_time": "2023-02-14T19:02:52.420Z"
   },
   {
    "duration": 7,
    "start_time": "2023-02-14T19:02:52.500Z"
   },
   {
    "duration": 17,
    "start_time": "2023-02-14T19:02:52.508Z"
   },
   {
    "duration": 23,
    "start_time": "2023-02-14T19:02:52.526Z"
   },
   {
    "duration": 5,
    "start_time": "2023-02-14T19:02:52.551Z"
   },
   {
    "duration": 13,
    "start_time": "2023-02-14T19:02:52.557Z"
   },
   {
    "duration": 34,
    "start_time": "2023-02-14T19:02:52.571Z"
   },
   {
    "duration": 9,
    "start_time": "2023-02-14T19:02:52.607Z"
   },
   {
    "duration": 15,
    "start_time": "2023-02-14T19:02:52.618Z"
   },
   {
    "duration": 76,
    "start_time": "2023-02-14T19:02:52.635Z"
   },
   {
    "duration": 6,
    "start_time": "2023-02-14T19:02:52.713Z"
   },
   {
    "duration": 8,
    "start_time": "2023-02-14T19:02:52.720Z"
   },
   {
    "duration": 38,
    "start_time": "2023-02-14T19:02:52.736Z"
   },
   {
    "duration": 2,
    "start_time": "2023-02-14T19:02:52.776Z"
   },
   {
    "duration": 7,
    "start_time": "2023-02-14T19:02:52.779Z"
   },
   {
    "duration": 7,
    "start_time": "2023-02-14T19:02:52.787Z"
   },
   {
    "duration": 8,
    "start_time": "2023-02-14T19:02:52.795Z"
   },
   {
    "duration": 5,
    "start_time": "2023-02-14T19:02:52.804Z"
   },
   {
    "duration": 4,
    "start_time": "2023-02-14T19:02:52.812Z"
   },
   {
    "duration": 4,
    "start_time": "2023-02-14T19:02:52.817Z"
   },
   {
    "duration": 14,
    "start_time": "2023-02-14T19:02:52.823Z"
   },
   {
    "duration": 4,
    "start_time": "2023-02-14T19:02:52.838Z"
   },
   {
    "duration": 66,
    "start_time": "2023-02-14T19:02:52.843Z"
   },
   {
    "duration": 0,
    "start_time": "2023-02-14T19:02:52.910Z"
   },
   {
    "duration": 0,
    "start_time": "2023-02-14T19:02:52.912Z"
   },
   {
    "duration": 0,
    "start_time": "2023-02-14T19:02:52.912Z"
   },
   {
    "duration": 0,
    "start_time": "2023-02-14T19:02:52.913Z"
   },
   {
    "duration": 0,
    "start_time": "2023-02-14T19:02:52.914Z"
   },
   {
    "duration": 0,
    "start_time": "2023-02-14T19:02:52.915Z"
   },
   {
    "duration": 0,
    "start_time": "2023-02-14T19:02:52.916Z"
   },
   {
    "duration": 0,
    "start_time": "2023-02-14T19:02:52.917Z"
   },
   {
    "duration": 0,
    "start_time": "2023-02-14T19:02:52.918Z"
   },
   {
    "duration": 0,
    "start_time": "2023-02-14T19:02:52.938Z"
   },
   {
    "duration": 0,
    "start_time": "2023-02-14T19:02:52.939Z"
   },
   {
    "duration": 0,
    "start_time": "2023-02-14T19:02:52.940Z"
   },
   {
    "duration": 0,
    "start_time": "2023-02-14T19:02:52.941Z"
   },
   {
    "duration": 0,
    "start_time": "2023-02-14T19:02:52.942Z"
   },
   {
    "duration": 0,
    "start_time": "2023-02-14T19:02:52.943Z"
   },
   {
    "duration": 0,
    "start_time": "2023-02-14T19:02:52.944Z"
   },
   {
    "duration": 0,
    "start_time": "2023-02-14T19:02:52.945Z"
   },
   {
    "duration": 0,
    "start_time": "2023-02-14T19:02:52.946Z"
   },
   {
    "duration": 0,
    "start_time": "2023-02-14T19:02:52.947Z"
   },
   {
    "duration": 0,
    "start_time": "2023-02-14T19:02:52.948Z"
   },
   {
    "duration": 357,
    "start_time": "2023-02-15T06:15:09.092Z"
   },
   {
    "duration": 157,
    "start_time": "2023-02-15T06:15:09.451Z"
   },
   {
    "duration": 15,
    "start_time": "2023-02-15T06:15:09.610Z"
   },
   {
    "duration": 32,
    "start_time": "2023-02-15T06:15:09.627Z"
   },
   {
    "duration": 426,
    "start_time": "2023-02-15T06:15:09.660Z"
   },
   {
    "duration": 134,
    "start_time": "2023-02-15T06:15:10.088Z"
   },
   {
    "duration": 9,
    "start_time": "2023-02-15T06:15:10.223Z"
   },
   {
    "duration": 25,
    "start_time": "2023-02-15T06:15:10.234Z"
   },
   {
    "duration": 204,
    "start_time": "2023-02-15T06:15:10.261Z"
   },
   {
    "duration": 100,
    "start_time": "2023-02-15T06:15:10.468Z"
   },
   {
    "duration": 7,
    "start_time": "2023-02-15T06:15:10.569Z"
   },
   {
    "duration": 20,
    "start_time": "2023-02-15T06:15:10.578Z"
   },
   {
    "duration": 14,
    "start_time": "2023-02-15T06:15:10.599Z"
   },
   {
    "duration": 5,
    "start_time": "2023-02-15T06:15:10.614Z"
   },
   {
    "duration": 24,
    "start_time": "2023-02-15T06:15:10.621Z"
   },
   {
    "duration": 28,
    "start_time": "2023-02-15T06:15:10.647Z"
   },
   {
    "duration": 10,
    "start_time": "2023-02-15T06:15:10.676Z"
   },
   {
    "duration": 12,
    "start_time": "2023-02-15T06:15:10.688Z"
   },
   {
    "duration": 85,
    "start_time": "2023-02-15T06:15:10.701Z"
   },
   {
    "duration": 6,
    "start_time": "2023-02-15T06:15:10.788Z"
   },
   {
    "duration": 9,
    "start_time": "2023-02-15T06:15:10.796Z"
   },
   {
    "duration": 32,
    "start_time": "2023-02-15T06:15:10.807Z"
   },
   {
    "duration": 4,
    "start_time": "2023-02-15T06:15:10.841Z"
   },
   {
    "duration": 7,
    "start_time": "2023-02-15T06:15:10.846Z"
   },
   {
    "duration": 5,
    "start_time": "2023-02-15T06:15:10.855Z"
   },
   {
    "duration": 7,
    "start_time": "2023-02-15T06:15:10.862Z"
   },
   {
    "duration": 7,
    "start_time": "2023-02-15T06:15:10.870Z"
   },
   {
    "duration": 3,
    "start_time": "2023-02-15T06:15:10.880Z"
   },
   {
    "duration": 3,
    "start_time": "2023-02-15T06:15:10.885Z"
   },
   {
    "duration": 4,
    "start_time": "2023-02-15T06:15:10.890Z"
   },
   {
    "duration": 7,
    "start_time": "2023-02-15T06:15:10.895Z"
   },
   {
    "duration": 98,
    "start_time": "2023-02-15T06:15:10.904Z"
   },
   {
    "duration": 1,
    "start_time": "2023-02-15T06:15:11.003Z"
   },
   {
    "duration": 0,
    "start_time": "2023-02-15T06:15:11.005Z"
   },
   {
    "duration": 0,
    "start_time": "2023-02-15T06:15:11.006Z"
   },
   {
    "duration": 0,
    "start_time": "2023-02-15T06:15:11.007Z"
   },
   {
    "duration": 0,
    "start_time": "2023-02-15T06:15:11.008Z"
   },
   {
    "duration": 0,
    "start_time": "2023-02-15T06:15:11.009Z"
   },
   {
    "duration": 0,
    "start_time": "2023-02-15T06:15:11.010Z"
   },
   {
    "duration": 0,
    "start_time": "2023-02-15T06:15:11.011Z"
   },
   {
    "duration": 0,
    "start_time": "2023-02-15T06:15:11.012Z"
   },
   {
    "duration": 0,
    "start_time": "2023-02-15T06:15:11.013Z"
   },
   {
    "duration": 0,
    "start_time": "2023-02-15T06:15:11.037Z"
   },
   {
    "duration": 0,
    "start_time": "2023-02-15T06:15:11.038Z"
   },
   {
    "duration": 0,
    "start_time": "2023-02-15T06:15:11.039Z"
   },
   {
    "duration": 0,
    "start_time": "2023-02-15T06:15:11.040Z"
   },
   {
    "duration": 0,
    "start_time": "2023-02-15T06:15:11.041Z"
   },
   {
    "duration": 1,
    "start_time": "2023-02-15T06:15:11.042Z"
   },
   {
    "duration": 0,
    "start_time": "2023-02-15T06:15:11.044Z"
   },
   {
    "duration": 0,
    "start_time": "2023-02-15T06:15:11.045Z"
   },
   {
    "duration": 0,
    "start_time": "2023-02-15T06:15:11.046Z"
   },
   {
    "duration": 0,
    "start_time": "2023-02-15T06:15:11.047Z"
   },
   {
    "duration": 15,
    "start_time": "2023-02-15T06:15:40.449Z"
   },
   {
    "duration": 2,
    "start_time": "2023-02-15T06:17:47.574Z"
   },
   {
    "duration": 161,
    "start_time": "2023-02-15T06:17:51.186Z"
   },
   {
    "duration": 8,
    "start_time": "2023-02-15T06:17:53.536Z"
   },
   {
    "duration": 21,
    "start_time": "2023-02-15T06:17:56.477Z"
   },
   {
    "duration": 164,
    "start_time": "2023-02-15T06:17:59.817Z"
   },
   {
    "duration": 132,
    "start_time": "2023-02-15T06:18:06.499Z"
   },
   {
    "duration": 9,
    "start_time": "2023-02-15T06:18:08.940Z"
   },
   {
    "duration": 20,
    "start_time": "2023-02-15T06:18:12.094Z"
   },
   {
    "duration": 158,
    "start_time": "2023-02-15T06:18:17.679Z"
   },
   {
    "duration": 86,
    "start_time": "2023-02-15T06:18:21.082Z"
   },
   {
    "duration": 8,
    "start_time": "2023-02-15T06:18:23.166Z"
   },
   {
    "duration": 16,
    "start_time": "2023-02-15T06:18:25.833Z"
   },
   {
    "duration": 23,
    "start_time": "2023-02-15T06:18:28.761Z"
   },
   {
    "duration": 6,
    "start_time": "2023-02-15T06:18:30.722Z"
   },
   {
    "duration": 10,
    "start_time": "2023-02-15T06:18:33.793Z"
   },
   {
    "duration": 32,
    "start_time": "2023-02-15T06:18:36.485Z"
   },
   {
    "duration": 10,
    "start_time": "2023-02-15T06:18:38.969Z"
   },
   {
    "duration": 10,
    "start_time": "2023-02-15T06:18:42.161Z"
   },
   {
    "duration": 66,
    "start_time": "2023-02-15T06:18:46.174Z"
   },
   {
    "duration": 7,
    "start_time": "2023-02-15T06:18:53.787Z"
   },
   {
    "duration": 9,
    "start_time": "2023-02-15T06:18:56.953Z"
   },
   {
    "duration": 16,
    "start_time": "2023-02-15T06:18:58.970Z"
   },
   {
    "duration": 3,
    "start_time": "2023-02-15T06:21:16.924Z"
   },
   {
    "duration": 148,
    "start_time": "2023-02-15T06:21:18.995Z"
   },
   {
    "duration": 9,
    "start_time": "2023-02-15T06:21:21.177Z"
   },
   {
    "duration": 20,
    "start_time": "2023-02-15T06:21:23.796Z"
   },
   {
    "duration": 165,
    "start_time": "2023-02-15T06:21:31.783Z"
   },
   {
    "duration": 123,
    "start_time": "2023-02-15T06:21:35.074Z"
   },
   {
    "duration": 8,
    "start_time": "2023-02-15T06:21:36.875Z"
   },
   {
    "duration": 20,
    "start_time": "2023-02-15T06:21:39.210Z"
   },
   {
    "duration": 211,
    "start_time": "2023-02-15T06:21:44.384Z"
   },
   {
    "duration": 89,
    "start_time": "2023-02-15T06:21:46.932Z"
   },
   {
    "duration": 8,
    "start_time": "2023-02-15T06:21:48.691Z"
   },
   {
    "duration": 17,
    "start_time": "2023-02-15T06:21:51.394Z"
   },
   {
    "duration": 24,
    "start_time": "2023-02-15T06:21:53.932Z"
   },
   {
    "duration": 5,
    "start_time": "2023-02-15T06:21:56.195Z"
   },
   {
    "duration": 11,
    "start_time": "2023-02-15T06:21:58.870Z"
   },
   {
    "duration": 32,
    "start_time": "2023-02-15T06:22:01.124Z"
   },
   {
    "duration": 12,
    "start_time": "2023-02-15T06:22:03.188Z"
   },
   {
    "duration": 10,
    "start_time": "2023-02-15T06:22:05.420Z"
   },
   {
    "duration": 75,
    "start_time": "2023-02-15T06:22:10.163Z"
   },
   {
    "duration": 6,
    "start_time": "2023-02-15T06:22:14.124Z"
   },
   {
    "duration": 9,
    "start_time": "2023-02-15T06:22:17.999Z"
   },
   {
    "duration": 17,
    "start_time": "2023-02-15T06:22:21.131Z"
   },
   {
    "duration": 27,
    "start_time": "2023-02-15T06:23:02.375Z"
   },
   {
    "duration": 27,
    "start_time": "2023-02-15T06:23:24.527Z"
   },
   {
    "duration": 39,
    "start_time": "2023-02-15T06:23:46.246Z"
   },
   {
    "duration": 563,
    "start_time": "2023-02-15T06:23:59.676Z"
   },
   {
    "duration": 150,
    "start_time": "2023-02-15T06:24:00.241Z"
   },
   {
    "duration": 11,
    "start_time": "2023-02-15T06:24:00.393Z"
   },
   {
    "duration": 34,
    "start_time": "2023-02-15T06:24:00.406Z"
   },
   {
    "duration": 196,
    "start_time": "2023-02-15T06:24:00.441Z"
   },
   {
    "duration": 128,
    "start_time": "2023-02-15T06:24:00.638Z"
   },
   {
    "duration": 9,
    "start_time": "2023-02-15T06:24:00.767Z"
   },
   {
    "duration": 36,
    "start_time": "2023-02-15T06:24:00.778Z"
   },
   {
    "duration": 188,
    "start_time": "2023-02-15T06:24:00.815Z"
   },
   {
    "duration": 85,
    "start_time": "2023-02-15T06:24:01.006Z"
   },
   {
    "duration": 8,
    "start_time": "2023-02-15T06:24:01.092Z"
   },
   {
    "duration": 39,
    "start_time": "2023-02-15T06:24:01.102Z"
   },
   {
    "duration": 29,
    "start_time": "2023-02-15T06:24:01.143Z"
   },
   {
    "duration": 9,
    "start_time": "2023-02-15T06:24:01.174Z"
   },
   {
    "duration": 23,
    "start_time": "2023-02-15T06:24:01.184Z"
   },
   {
    "duration": 37,
    "start_time": "2023-02-15T06:24:01.209Z"
   },
   {
    "duration": 11,
    "start_time": "2023-02-15T06:24:01.248Z"
   },
   {
    "duration": 30,
    "start_time": "2023-02-15T06:24:01.261Z"
   },
   {
    "duration": 86,
    "start_time": "2023-02-15T06:24:01.293Z"
   },
   {
    "duration": 6,
    "start_time": "2023-02-15T06:24:01.381Z"
   },
   {
    "duration": 15,
    "start_time": "2023-02-15T06:24:01.388Z"
   },
   {
    "duration": 74,
    "start_time": "2023-02-15T06:24:01.405Z"
   },
   {
    "duration": 3,
    "start_time": "2023-02-15T06:24:01.481Z"
   },
   {
    "duration": 32,
    "start_time": "2023-02-15T06:24:01.485Z"
   },
   {
    "duration": 28,
    "start_time": "2023-02-15T06:24:01.519Z"
   },
   {
    "duration": 36,
    "start_time": "2023-02-15T06:24:01.548Z"
   },
   {
    "duration": 29,
    "start_time": "2023-02-15T06:24:01.585Z"
   },
   {
    "duration": 8,
    "start_time": "2023-02-15T06:24:01.617Z"
   },
   {
    "duration": 24,
    "start_time": "2023-02-15T06:24:01.626Z"
   },
   {
    "duration": 20,
    "start_time": "2023-02-15T06:24:01.652Z"
   },
   {
    "duration": 31,
    "start_time": "2023-02-15T06:24:01.673Z"
   },
   {
    "duration": 94,
    "start_time": "2023-02-15T06:24:01.705Z"
   },
   {
    "duration": 0,
    "start_time": "2023-02-15T06:24:01.800Z"
   },
   {
    "duration": 0,
    "start_time": "2023-02-15T06:24:01.801Z"
   },
   {
    "duration": 0,
    "start_time": "2023-02-15T06:24:01.802Z"
   },
   {
    "duration": 0,
    "start_time": "2023-02-15T06:24:01.803Z"
   },
   {
    "duration": 0,
    "start_time": "2023-02-15T06:24:01.804Z"
   },
   {
    "duration": 0,
    "start_time": "2023-02-15T06:24:01.806Z"
   },
   {
    "duration": 0,
    "start_time": "2023-02-15T06:24:01.807Z"
   },
   {
    "duration": 0,
    "start_time": "2023-02-15T06:24:01.809Z"
   },
   {
    "duration": 0,
    "start_time": "2023-02-15T06:24:01.810Z"
   },
   {
    "duration": 0,
    "start_time": "2023-02-15T06:24:01.812Z"
   },
   {
    "duration": 0,
    "start_time": "2023-02-15T06:24:01.813Z"
   },
   {
    "duration": 0,
    "start_time": "2023-02-15T06:24:01.837Z"
   },
   {
    "duration": 0,
    "start_time": "2023-02-15T06:24:01.839Z"
   },
   {
    "duration": 0,
    "start_time": "2023-02-15T06:24:01.840Z"
   },
   {
    "duration": 0,
    "start_time": "2023-02-15T06:24:01.842Z"
   },
   {
    "duration": 0,
    "start_time": "2023-02-15T06:24:01.843Z"
   },
   {
    "duration": 0,
    "start_time": "2023-02-15T06:24:01.845Z"
   },
   {
    "duration": 0,
    "start_time": "2023-02-15T06:24:01.846Z"
   },
   {
    "duration": 0,
    "start_time": "2023-02-15T06:24:01.848Z"
   },
   {
    "duration": 0,
    "start_time": "2023-02-15T06:24:01.849Z"
   },
   {
    "duration": 36,
    "start_time": "2023-02-15T06:24:13.723Z"
   },
   {
    "duration": 32,
    "start_time": "2023-02-15T06:24:28.407Z"
   },
   {
    "duration": 26,
    "start_time": "2023-02-15T06:29:09.260Z"
   },
   {
    "duration": 30,
    "start_time": "2023-02-15T06:29:42.915Z"
   },
   {
    "duration": 12,
    "start_time": "2023-02-15T10:54:42.831Z"
   },
   {
    "duration": 22,
    "start_time": "2023-02-15T10:54:57.925Z"
   },
   {
    "duration": 5,
    "start_time": "2023-02-15T10:55:00.013Z"
   },
   {
    "duration": 14,
    "start_time": "2023-02-15T10:57:50.888Z"
   },
   {
    "duration": 24,
    "start_time": "2023-02-15T10:58:01.080Z"
   },
   {
    "duration": 5,
    "start_time": "2023-02-15T10:58:03.822Z"
   },
   {
    "duration": 23,
    "start_time": "2023-02-15T10:58:24.899Z"
   },
   {
    "duration": 5,
    "start_time": "2023-02-15T10:58:26.595Z"
   },
   {
    "duration": 14,
    "start_time": "2023-02-15T10:59:40.616Z"
   },
   {
    "duration": 5,
    "start_time": "2023-02-15T10:59:42.070Z"
   },
   {
    "duration": 13,
    "start_time": "2023-02-15T11:00:56.519Z"
   },
   {
    "duration": 5,
    "start_time": "2023-02-15T11:00:57.114Z"
   },
   {
    "duration": 4,
    "start_time": "2023-02-15T11:01:27.213Z"
   },
   {
    "duration": 81,
    "start_time": "2023-02-15T11:01:29.407Z"
   },
   {
    "duration": 8,
    "start_time": "2023-02-15T11:01:32.868Z"
   },
   {
    "duration": 5,
    "start_time": "2023-02-15T11:01:35.576Z"
   },
   {
    "duration": 2,
    "start_time": "2023-02-15T11:01:37.563Z"
   },
   {
    "duration": 7,
    "start_time": "2023-02-15T11:01:39.342Z"
   },
   {
    "duration": 9,
    "start_time": "2023-02-15T11:01:44.123Z"
   },
   {
    "duration": 4,
    "start_time": "2023-02-15T11:01:47.294Z"
   },
   {
    "duration": 7,
    "start_time": "2023-02-15T11:01:49.436Z"
   },
   {
    "duration": 4,
    "start_time": "2023-02-15T11:01:51.923Z"
   },
   {
    "duration": 52,
    "start_time": "2023-02-15T11:01:54.238Z"
   },
   {
    "duration": 701,
    "start_time": "2023-02-15T11:01:57.160Z"
   },
   {
    "duration": 239,
    "start_time": "2023-02-15T11:02:00.281Z"
   },
   {
    "duration": 356,
    "start_time": "2023-02-15T11:02:02.952Z"
   },
   {
    "duration": 206,
    "start_time": "2023-02-15T11:02:06.191Z"
   },
   {
    "duration": 278,
    "start_time": "2023-02-15T11:02:09.454Z"
   },
   {
    "duration": 212,
    "start_time": "2023-02-15T11:02:13.525Z"
   },
   {
    "duration": 300,
    "start_time": "2023-02-15T11:02:17.051Z"
   },
   {
    "duration": 220,
    "start_time": "2023-02-15T11:02:19.922Z"
   },
   {
    "duration": 40,
    "start_time": "2023-02-15T11:07:09.194Z"
   },
   {
    "duration": 3,
    "start_time": "2023-02-15T11:07:11.236Z"
   },
   {
    "duration": 11,
    "start_time": "2023-02-15T11:07:12.698Z"
   },
   {
    "duration": 8,
    "start_time": "2023-02-15T11:09:02.087Z"
   },
   {
    "duration": 8,
    "start_time": "2023-02-15T11:13:26.317Z"
   }
  ],
  "colab": {
   "provenance": []
  },
  "kernelspec": {
   "display_name": "Python 3 (ipykernel)",
   "language": "python",
   "name": "python3"
  },
  "language_info": {
   "codemirror_mode": {
    "name": "ipython",
    "version": 3
   },
   "file_extension": ".py",
   "mimetype": "text/x-python",
   "name": "python",
   "nbconvert_exporter": "python",
   "pygments_lexer": "ipython3",
   "version": "3.10.9"
  },
  "toc": {
   "base_numbering": 1,
   "nav_menu": {},
   "number_sections": true,
   "sideBar": true,
   "skip_h1_title": true,
   "title_cell": "Table of Contents",
   "title_sidebar": "Contents",
   "toc_cell": false,
   "toc_position": {},
   "toc_section_display": true,
   "toc_window_display": false
  }
 },
 "nbformat": 4,
 "nbformat_minor": 1
}
