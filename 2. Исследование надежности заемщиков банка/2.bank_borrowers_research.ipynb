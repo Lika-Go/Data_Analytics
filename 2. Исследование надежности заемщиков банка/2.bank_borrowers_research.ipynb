{
 "cells": [
  {
   "cell_type": "markdown",
   "id": "386f2ae7",
   "metadata": {
    "deletable": false,
    "editable": false,
    "id": "386f2ae7"
   },
   "source": [
    "# Исследование надежности заемщиков\n"
   ]
  },
  {
   "cell_type": "markdown",
   "id": "ffe86f65",
   "metadata": {
    "deletable": false,
    "editable": false,
    "id": "ffe86f65"
   },
   "source": [
   "Заказчик — кредитный отдел банка. Нужно разобраться, влияет ли семейное положение и количество детей клиента на факт погашения кредита в срок. Входные данные от банка — статистика о платёжеспособности клиентов.\n",
        "\n",
        "Результаты исследования будут учтены при построении модели **кредитного скоринга** — специальной системы, которая оценивает способность потенциального заёмщика вернуть кредит банку.",
    "\n"
   ]
  },
  {
   "cell_type": "markdown",
   "id": "26613308",
   "metadata": {
    "id": "26613308"
   },
   "source": [
    "## Обзор данных"
   ]
  },
  {
   "cell_type": "markdown",
   "id": "3c9f838e",
   "metadata": {
    "deletable": false,
    "editable": false,
    "id": "3c9f838e"
   },
   "source": [
    "**Импортируем библиотеку pandas. Считаем данные из csv-файла в датафрейм и сохраним в переменную `data`.**\n",
    "\n"
   ]
  },
  {
   "cell_type": "code",
   "execution_count": 1,
   "id": "77a68a90",
   "metadata": {
    "deletable": false,
    "id": "77a68a90"
   },
   "outputs": [],
   "source": [
    "import pandas as pd\n",
    "\n",
    "try:\n",
    "    data = pd.read_csv('/datasets/data.csv')\n",
    "except:\n",
    "    data = pd.read_csv('https://code.s3.yandex.net/datasets/data.csv')"
   ]
  },
  {
   "cell_type": "markdown",
   "id": "45365635",
   "metadata": {
    "deletable": false,
    "editable": false,
    "id": "45365635"
   },
   "source": [
    "**Выведем первые 20 строчек датафрейма `data` на экран.**"
   ]
  },
  {
   "cell_type": "code",
   "execution_count": 2,
   "id": "b0451a9a",
   "metadata": {
    "deletable": false,
    "id": "b0451a9a",
    "outputId": "1a8f3ef2-d323-4ec2-ddf7-89670b5944c4"
   },
   "outputs": [
    {
     "data": {
      "text/html": [
       "<div>\n",
       "<style scoped>\n",
       "    .dataframe tbody tr th:only-of-type {\n",
       "        vertical-align: middle;\n",
       "    }\n",
       "\n",
       "    .dataframe tbody tr th {\n",
       "        vertical-align: top;\n",
       "    }\n",
       "\n",
       "    .dataframe thead th {\n",
       "        text-align: right;\n",
       "    }\n",
       "</style>\n",
       "<table border=\"1\" class=\"dataframe\">\n",
       "  <thead>\n",
       "    <tr style=\"text-align: right;\">\n",
       "      <th></th>\n",
       "      <th>children</th>\n",
       "      <th>days_employed</th>\n",
       "      <th>dob_years</th>\n",
       "      <th>education</th>\n",
       "      <th>education_id</th>\n",
       "      <th>family_status</th>\n",
       "      <th>family_status_id</th>\n",
       "      <th>gender</th>\n",
       "      <th>income_type</th>\n",
       "      <th>debt</th>\n",
       "      <th>total_income</th>\n",
       "      <th>purpose</th>\n",
       "    </tr>\n",
       "  </thead>\n",
       "  <tbody>\n",
       "    <tr>\n",
       "      <th>0</th>\n",
       "      <td>1</td>\n",
       "      <td>-8437.673028</td>\n",
       "      <td>42</td>\n",
       "      <td>высшее</td>\n",
       "      <td>0</td>\n",
       "      <td>женат / замужем</td>\n",
       "      <td>0</td>\n",
       "      <td>F</td>\n",
       "      <td>сотрудник</td>\n",
       "      <td>0</td>\n",
       "      <td>253875.639453</td>\n",
       "      <td>покупка жилья</td>\n",
       "    </tr>\n",
       "    <tr>\n",
       "      <th>1</th>\n",
       "      <td>1</td>\n",
       "      <td>-4024.803754</td>\n",
       "      <td>36</td>\n",
       "      <td>среднее</td>\n",
       "      <td>1</td>\n",
       "      <td>женат / замужем</td>\n",
       "      <td>0</td>\n",
       "      <td>F</td>\n",
       "      <td>сотрудник</td>\n",
       "      <td>0</td>\n",
       "      <td>112080.014102</td>\n",
       "      <td>приобретение автомобиля</td>\n",
       "    </tr>\n",
       "    <tr>\n",
       "      <th>2</th>\n",
       "      <td>0</td>\n",
       "      <td>-5623.422610</td>\n",
       "      <td>33</td>\n",
       "      <td>Среднее</td>\n",
       "      <td>1</td>\n",
       "      <td>женат / замужем</td>\n",
       "      <td>0</td>\n",
       "      <td>M</td>\n",
       "      <td>сотрудник</td>\n",
       "      <td>0</td>\n",
       "      <td>145885.952297</td>\n",
       "      <td>покупка жилья</td>\n",
       "    </tr>\n",
       "    <tr>\n",
       "      <th>3</th>\n",
       "      <td>3</td>\n",
       "      <td>-4124.747207</td>\n",
       "      <td>32</td>\n",
       "      <td>среднее</td>\n",
       "      <td>1</td>\n",
       "      <td>женат / замужем</td>\n",
       "      <td>0</td>\n",
       "      <td>M</td>\n",
       "      <td>сотрудник</td>\n",
       "      <td>0</td>\n",
       "      <td>267628.550329</td>\n",
       "      <td>дополнительное образование</td>\n",
       "    </tr>\n",
       "    <tr>\n",
       "      <th>4</th>\n",
       "      <td>0</td>\n",
       "      <td>340266.072047</td>\n",
       "      <td>53</td>\n",
       "      <td>среднее</td>\n",
       "      <td>1</td>\n",
       "      <td>гражданский брак</td>\n",
       "      <td>1</td>\n",
       "      <td>F</td>\n",
       "      <td>пенсионер</td>\n",
       "      <td>0</td>\n",
       "      <td>158616.077870</td>\n",
       "      <td>сыграть свадьбу</td>\n",
       "    </tr>\n",
       "    <tr>\n",
       "      <th>5</th>\n",
       "      <td>0</td>\n",
       "      <td>-926.185831</td>\n",
       "      <td>27</td>\n",
       "      <td>высшее</td>\n",
       "      <td>0</td>\n",
       "      <td>гражданский брак</td>\n",
       "      <td>1</td>\n",
       "      <td>M</td>\n",
       "      <td>компаньон</td>\n",
       "      <td>0</td>\n",
       "      <td>255763.565419</td>\n",
       "      <td>покупка жилья</td>\n",
       "    </tr>\n",
       "    <tr>\n",
       "      <th>6</th>\n",
       "      <td>0</td>\n",
       "      <td>-2879.202052</td>\n",
       "      <td>43</td>\n",
       "      <td>высшее</td>\n",
       "      <td>0</td>\n",
       "      <td>женат / замужем</td>\n",
       "      <td>0</td>\n",
       "      <td>F</td>\n",
       "      <td>компаньон</td>\n",
       "      <td>0</td>\n",
       "      <td>240525.971920</td>\n",
       "      <td>операции с жильем</td>\n",
       "    </tr>\n",
       "    <tr>\n",
       "      <th>7</th>\n",
       "      <td>0</td>\n",
       "      <td>-152.779569</td>\n",
       "      <td>50</td>\n",
       "      <td>СРЕДНЕЕ</td>\n",
       "      <td>1</td>\n",
       "      <td>женат / замужем</td>\n",
       "      <td>0</td>\n",
       "      <td>M</td>\n",
       "      <td>сотрудник</td>\n",
       "      <td>0</td>\n",
       "      <td>135823.934197</td>\n",
       "      <td>образование</td>\n",
       "    </tr>\n",
       "    <tr>\n",
       "      <th>8</th>\n",
       "      <td>2</td>\n",
       "      <td>-6929.865299</td>\n",
       "      <td>35</td>\n",
       "      <td>ВЫСШЕЕ</td>\n",
       "      <td>0</td>\n",
       "      <td>гражданский брак</td>\n",
       "      <td>1</td>\n",
       "      <td>F</td>\n",
       "      <td>сотрудник</td>\n",
       "      <td>0</td>\n",
       "      <td>95856.832424</td>\n",
       "      <td>на проведение свадьбы</td>\n",
       "    </tr>\n",
       "    <tr>\n",
       "      <th>9</th>\n",
       "      <td>0</td>\n",
       "      <td>-2188.756445</td>\n",
       "      <td>41</td>\n",
       "      <td>среднее</td>\n",
       "      <td>1</td>\n",
       "      <td>женат / замужем</td>\n",
       "      <td>0</td>\n",
       "      <td>M</td>\n",
       "      <td>сотрудник</td>\n",
       "      <td>0</td>\n",
       "      <td>144425.938277</td>\n",
       "      <td>покупка жилья для семьи</td>\n",
       "    </tr>\n",
       "    <tr>\n",
       "      <th>10</th>\n",
       "      <td>2</td>\n",
       "      <td>-4171.483647</td>\n",
       "      <td>36</td>\n",
       "      <td>высшее</td>\n",
       "      <td>0</td>\n",
       "      <td>женат / замужем</td>\n",
       "      <td>0</td>\n",
       "      <td>M</td>\n",
       "      <td>компаньон</td>\n",
       "      <td>0</td>\n",
       "      <td>113943.491460</td>\n",
       "      <td>покупка недвижимости</td>\n",
       "    </tr>\n",
       "    <tr>\n",
       "      <th>11</th>\n",
       "      <td>0</td>\n",
       "      <td>-792.701887</td>\n",
       "      <td>40</td>\n",
       "      <td>среднее</td>\n",
       "      <td>1</td>\n",
       "      <td>женат / замужем</td>\n",
       "      <td>0</td>\n",
       "      <td>F</td>\n",
       "      <td>сотрудник</td>\n",
       "      <td>0</td>\n",
       "      <td>77069.234271</td>\n",
       "      <td>покупка коммерческой недвижимости</td>\n",
       "    </tr>\n",
       "    <tr>\n",
       "      <th>12</th>\n",
       "      <td>0</td>\n",
       "      <td>NaN</td>\n",
       "      <td>65</td>\n",
       "      <td>среднее</td>\n",
       "      <td>1</td>\n",
       "      <td>гражданский брак</td>\n",
       "      <td>1</td>\n",
       "      <td>M</td>\n",
       "      <td>пенсионер</td>\n",
       "      <td>0</td>\n",
       "      <td>NaN</td>\n",
       "      <td>сыграть свадьбу</td>\n",
       "    </tr>\n",
       "    <tr>\n",
       "      <th>13</th>\n",
       "      <td>0</td>\n",
       "      <td>-1846.641941</td>\n",
       "      <td>54</td>\n",
       "      <td>неоконченное высшее</td>\n",
       "      <td>2</td>\n",
       "      <td>женат / замужем</td>\n",
       "      <td>0</td>\n",
       "      <td>F</td>\n",
       "      <td>сотрудник</td>\n",
       "      <td>0</td>\n",
       "      <td>130458.228857</td>\n",
       "      <td>приобретение автомобиля</td>\n",
       "    </tr>\n",
       "    <tr>\n",
       "      <th>14</th>\n",
       "      <td>0</td>\n",
       "      <td>-1844.956182</td>\n",
       "      <td>56</td>\n",
       "      <td>высшее</td>\n",
       "      <td>0</td>\n",
       "      <td>гражданский брак</td>\n",
       "      <td>1</td>\n",
       "      <td>F</td>\n",
       "      <td>компаньон</td>\n",
       "      <td>1</td>\n",
       "      <td>165127.911772</td>\n",
       "      <td>покупка жилой недвижимости</td>\n",
       "    </tr>\n",
       "    <tr>\n",
       "      <th>15</th>\n",
       "      <td>1</td>\n",
       "      <td>-972.364419</td>\n",
       "      <td>26</td>\n",
       "      <td>среднее</td>\n",
       "      <td>1</td>\n",
       "      <td>женат / замужем</td>\n",
       "      <td>0</td>\n",
       "      <td>F</td>\n",
       "      <td>сотрудник</td>\n",
       "      <td>0</td>\n",
       "      <td>116820.904450</td>\n",
       "      <td>строительство собственной недвижимости</td>\n",
       "    </tr>\n",
       "    <tr>\n",
       "      <th>16</th>\n",
       "      <td>0</td>\n",
       "      <td>-1719.934226</td>\n",
       "      <td>35</td>\n",
       "      <td>среднее</td>\n",
       "      <td>1</td>\n",
       "      <td>женат / замужем</td>\n",
       "      <td>0</td>\n",
       "      <td>F</td>\n",
       "      <td>сотрудник</td>\n",
       "      <td>0</td>\n",
       "      <td>289202.704229</td>\n",
       "      <td>недвижимость</td>\n",
       "    </tr>\n",
       "    <tr>\n",
       "      <th>17</th>\n",
       "      <td>0</td>\n",
       "      <td>-2369.999720</td>\n",
       "      <td>33</td>\n",
       "      <td>высшее</td>\n",
       "      <td>0</td>\n",
       "      <td>гражданский брак</td>\n",
       "      <td>1</td>\n",
       "      <td>M</td>\n",
       "      <td>сотрудник</td>\n",
       "      <td>0</td>\n",
       "      <td>90410.586745</td>\n",
       "      <td>строительство недвижимости</td>\n",
       "    </tr>\n",
       "    <tr>\n",
       "      <th>18</th>\n",
       "      <td>0</td>\n",
       "      <td>400281.136913</td>\n",
       "      <td>53</td>\n",
       "      <td>среднее</td>\n",
       "      <td>1</td>\n",
       "      <td>вдовец / вдова</td>\n",
       "      <td>2</td>\n",
       "      <td>F</td>\n",
       "      <td>пенсионер</td>\n",
       "      <td>0</td>\n",
       "      <td>56823.777243</td>\n",
       "      <td>на покупку подержанного автомобиля</td>\n",
       "    </tr>\n",
       "    <tr>\n",
       "      <th>19</th>\n",
       "      <td>0</td>\n",
       "      <td>-10038.818549</td>\n",
       "      <td>48</td>\n",
       "      <td>СРЕДНЕЕ</td>\n",
       "      <td>1</td>\n",
       "      <td>в разводе</td>\n",
       "      <td>3</td>\n",
       "      <td>F</td>\n",
       "      <td>сотрудник</td>\n",
       "      <td>0</td>\n",
       "      <td>242831.107982</td>\n",
       "      <td>на покупку своего автомобиля</td>\n",
       "    </tr>\n",
       "  </tbody>\n",
       "</table>\n",
       "</div>"
      ],
      "text/plain": [
       "    children  days_employed  dob_years            education  education_id  \\\n",
       "0          1   -8437.673028         42               высшее             0   \n",
       "1          1   -4024.803754         36              среднее             1   \n",
       "2          0   -5623.422610         33              Среднее             1   \n",
       "3          3   -4124.747207         32              среднее             1   \n",
       "4          0  340266.072047         53              среднее             1   \n",
       "5          0    -926.185831         27               высшее             0   \n",
       "6          0   -2879.202052         43               высшее             0   \n",
       "7          0    -152.779569         50              СРЕДНЕЕ             1   \n",
       "8          2   -6929.865299         35               ВЫСШЕЕ             0   \n",
       "9          0   -2188.756445         41              среднее             1   \n",
       "10         2   -4171.483647         36               высшее             0   \n",
       "11         0    -792.701887         40              среднее             1   \n",
       "12         0            NaN         65              среднее             1   \n",
       "13         0   -1846.641941         54  неоконченное высшее             2   \n",
       "14         0   -1844.956182         56               высшее             0   \n",
       "15         1    -972.364419         26              среднее             1   \n",
       "16         0   -1719.934226         35              среднее             1   \n",
       "17         0   -2369.999720         33               высшее             0   \n",
       "18         0  400281.136913         53              среднее             1   \n",
       "19         0  -10038.818549         48              СРЕДНЕЕ             1   \n",
       "\n",
       "       family_status  family_status_id gender income_type  debt  \\\n",
       "0    женат / замужем                 0      F   сотрудник     0   \n",
       "1    женат / замужем                 0      F   сотрудник     0   \n",
       "2    женат / замужем                 0      M   сотрудник     0   \n",
       "3    женат / замужем                 0      M   сотрудник     0   \n",
       "4   гражданский брак                 1      F   пенсионер     0   \n",
       "5   гражданский брак                 1      M   компаньон     0   \n",
       "6    женат / замужем                 0      F   компаньон     0   \n",
       "7    женат / замужем                 0      M   сотрудник     0   \n",
       "8   гражданский брак                 1      F   сотрудник     0   \n",
       "9    женат / замужем                 0      M   сотрудник     0   \n",
       "10   женат / замужем                 0      M   компаньон     0   \n",
       "11   женат / замужем                 0      F   сотрудник     0   \n",
       "12  гражданский брак                 1      M   пенсионер     0   \n",
       "13   женат / замужем                 0      F   сотрудник     0   \n",
       "14  гражданский брак                 1      F   компаньон     1   \n",
       "15   женат / замужем                 0      F   сотрудник     0   \n",
       "16   женат / замужем                 0      F   сотрудник     0   \n",
       "17  гражданский брак                 1      M   сотрудник     0   \n",
       "18    вдовец / вдова                 2      F   пенсионер     0   \n",
       "19         в разводе                 3      F   сотрудник     0   \n",
       "\n",
       "     total_income                                 purpose  \n",
       "0   253875.639453                           покупка жилья  \n",
       "1   112080.014102                 приобретение автомобиля  \n",
       "2   145885.952297                           покупка жилья  \n",
       "3   267628.550329              дополнительное образование  \n",
       "4   158616.077870                         сыграть свадьбу  \n",
       "5   255763.565419                           покупка жилья  \n",
       "6   240525.971920                       операции с жильем  \n",
       "7   135823.934197                             образование  \n",
       "8    95856.832424                   на проведение свадьбы  \n",
       "9   144425.938277                 покупка жилья для семьи  \n",
       "10  113943.491460                    покупка недвижимости  \n",
       "11   77069.234271       покупка коммерческой недвижимости  \n",
       "12            NaN                         сыграть свадьбу  \n",
       "13  130458.228857                 приобретение автомобиля  \n",
       "14  165127.911772              покупка жилой недвижимости  \n",
       "15  116820.904450  строительство собственной недвижимости  \n",
       "16  289202.704229                            недвижимость  \n",
       "17   90410.586745              строительство недвижимости  \n",
       "18   56823.777243      на покупку подержанного автомобиля  \n",
       "19  242831.107982            на покупку своего автомобиля  "
      ]
     },
     "execution_count": 2,
     "metadata": {},
     "output_type": "execute_result"
    }
   ],
   "source": [
    "data.head(20)"
   ]
  },
  {
   "cell_type": "markdown",
   "id": "0ed8f27f",
   "metadata": {
    "deletable": false,
    "editable": false,
    "id": "0ed8f27f"
   },
   "source": [
    "**Выведем основную информацию о датафрейме с помощью метода `info()`.**"
   ]
  },
  {
   "cell_type": "code",
   "execution_count": 3,
   "id": "ab3f863b",
   "metadata": {
    "deletable": false,
    "id": "ab3f863b",
    "outputId": "15376089-8dad-46c9-b520-c05248d43158"
   },
   "outputs": [
    {
     "name": "stdout",
     "output_type": "stream",
     "text": [
      "<class 'pandas.core.frame.DataFrame'>\n",
      "RangeIndex: 21525 entries, 0 to 21524\n",
      "Data columns (total 12 columns):\n",
      " #   Column            Non-Null Count  Dtype  \n",
      "---  ------            --------------  -----  \n",
      " 0   children          21525 non-null  int64  \n",
      " 1   days_employed     19351 non-null  float64\n",
      " 2   dob_years         21525 non-null  int64  \n",
      " 3   education         21525 non-null  object \n",
      " 4   education_id      21525 non-null  int64  \n",
      " 5   family_status     21525 non-null  object \n",
      " 6   family_status_id  21525 non-null  int64  \n",
      " 7   gender            21525 non-null  object \n",
      " 8   income_type       21525 non-null  object \n",
      " 9   debt              21525 non-null  int64  \n",
      " 10  total_income      19351 non-null  float64\n",
      " 11  purpose           21525 non-null  object \n",
      "dtypes: float64(2), int64(5), object(5)\n",
      "memory usage: 2.0+ MB\n"
     ]
    }
   ],
   "source": [
    "data.info()"
   ]
  },
  {
   "cell_type": "markdown",
   "id": "60e3e22d",
   "metadata": {
    "deletable": false,
    "editable": false,
    "id": "60e3e22d"
   },
   "source": [
    "## Предобработка данных"
   ]
  },
  {
   "cell_type": "markdown",
   "id": "03dc170c",
   "metadata": {
    "deletable": false,
    "editable": false,
    "id": "03dc170c"
   },
   "source": [
    "### Удаление пропусков"
   ]
  },
  {
   "cell_type": "markdown",
   "id": "a4f54eef",
   "metadata": {
    "deletable": false,
    "editable": false,
    "id": "a4f54eef"
   },
   "source": [
    "**Выведем количество пропущенных значений для каждого столбца.**"
   ]
  },
  {
   "cell_type": "code",
   "execution_count": 4,
   "id": "2dc372b2",
   "metadata": {
    "deletable": false,
    "id": "2dc372b2",
    "outputId": "81f4d817-781c-465c-ed15-91ce4446810d"
   },
   "outputs": [
    {
     "data": {
      "text/plain": [
       "children               0\n",
       "days_employed       2174\n",
       "dob_years              0\n",
       "education              0\n",
       "education_id           0\n",
       "family_status          0\n",
       "family_status_id       0\n",
       "gender                 0\n",
       "income_type            0\n",
       "debt                   0\n",
       "total_income        2174\n",
       "purpose                0\n",
       "dtype: int64"
      ]
     },
     "execution_count": 4,
     "metadata": {},
     "output_type": "execute_result"
    }
   ],
   "source": [
    "data.isna().sum()"
   ]
  },
  {
   "cell_type": "markdown",
   "id": "14f011b1",
   "metadata": {
    "deletable": false,
    "editable": false,
    "id": "14f011b1"
   },
   "source": [
    "**В двух столбцах есть пропущенные значения. Один из них — `days_employed`. Другой столбец с пропущенными значениями — `total_income` — хранит данные о доходах. На сумму дохода сильнее всего влияет тип занятости, поэтому заполнить пропуски в этом столбце нужно медианным значением по каждому типу из столбца `income_type`. Например, у человека с типом занятости `сотрудник` пропуск в столбце `total_income` должен быть заполнен медианным доходом среди всех записей с тем же типом.**"
   ]
  },
  {
   "cell_type": "code",
   "execution_count": 5,
   "id": "bdabfb6e",
   "metadata": {
    "deletable": false,
    "id": "bdabfb6e"
   },
   "outputs": [],
   "source": [
    "for t in data['income_type'].unique():\n",
    "    data.loc[(data['income_type'] == t) & (data['total_income'].isna()), 'total_income'] = \\\n",
    "    data.loc[(data['income_type'] == t), 'total_income'].median()"
   ]
  },
  {
   "cell_type": "markdown",
   "id": "5be34059",
   "metadata": {
    "deletable": false,
    "editable": false,
    "id": "5be34059"
   },
   "source": [
    "### Обработка аномальных значений"
   ]
  },
  {
   "cell_type": "markdown",
   "id": "a87606cb",
   "metadata": {
    "deletable": false,
    "editable": false,
    "id": "a87606cb"
   },
   "source": [
    "**Обработаем значения в столбце `days_employed`: заменим все отрицательные значения положительными с помощью метода `abs()`.**"
   ]
  },
  {
   "cell_type": "code",
   "execution_count": 6,
   "id": "020c46cc",
   "metadata": {
    "deletable": false,
    "id": "020c46cc"
   },
   "outputs": [],
   "source": [
    "data['days_employed'] = data['days_employed'].abs()"
   ]
  },
  {
   "cell_type": "markdown",
   "id": "45538a3a",
   "metadata": {
    "deletable": false,
    "editable": false,
    "id": "45538a3a"
   },
   "source": [
    "**Для каждого типа занятости выведем медианное значение трудового стажа `days_employed` в днях.**"
   ]
  },
  {
   "cell_type": "code",
   "execution_count": 7,
   "id": "cd3e6328",
   "metadata": {
    "deletable": false,
    "id": "cd3e6328",
    "outputId": "801ef80e-522b-4668-f34e-565af7432bcf"
   },
   "outputs": [
    {
     "data": {
      "text/plain": [
       "income_type\n",
       "безработный        366413.652744\n",
       "в декрете            3296.759962\n",
       "госслужащий          2689.368353\n",
       "компаньон            1547.382223\n",
       "пенсионер          365213.306266\n",
       "предприниматель       520.848083\n",
       "сотрудник            1574.202821\n",
       "студент               578.751554\n",
       "Name: days_employed, dtype: float64"
      ]
     },
     "execution_count": 7,
     "metadata": {},
     "output_type": "execute_result"
    }
   ],
   "source": [
    "data.groupby('income_type')['days_employed'].agg('median')"
   ]
  },
  {
   "cell_type": "markdown",
   "id": "90c5f058",
   "metadata": {
    "deletable": false,
    "editable": false,
    "id": "90c5f058"
   },
   "source": [
    "У двух типов (безработные и пенсионеры) получатся аномально большие значения. Исправить такие значения сложно, поэтому оставим их как есть."
   ]
  },
  {
   "cell_type": "markdown",
   "id": "9652e50d",
   "metadata": {
    "deletable": false,
    "editable": false,
    "id": "9652e50d"
   },
   "source": [
    "**Выведем перечень уникальных значений столбца `children`.**"
   ]
  },
  {
   "cell_type": "code",
   "execution_count": 8,
   "id": "dbb37b8e",
   "metadata": {
    "deletable": false,
    "id": "dbb37b8e",
    "outputId": "6975b15c-7f95-4697-d16d-a0c79b657b03"
   },
   "outputs": [
    {
     "data": {
      "text/plain": [
       "array([ 1,  0,  3,  2, -1,  4, 20,  5])"
      ]
     },
     "execution_count": 8,
     "metadata": {},
     "output_type": "execute_result"
    }
   ],
   "source": [
    "data['children'].unique()"
   ]
  },
  {
   "cell_type": "markdown",
   "id": "2b8b0715",
   "metadata": {
    "deletable": false,
    "editable": false,
    "id": "2b8b0715"
   },
   "source": [
    "**В столбце `children` есть два аномальных значения. Удалим строки, в которых встречаются такие аномальные значения из датафрейма `data`.**"
   ]
  },
  {
   "cell_type": "code",
   "execution_count": 9,
   "id": "20009df8",
   "metadata": {
    "deletable": false,
    "id": "20009df8"
   },
   "outputs": [],
   "source": [
    "data = data[(data['children'] != -1) & (data['children'] != 20)]"
   ]
  },
  {
   "cell_type": "markdown",
   "id": "8c6ac9f1",
   "metadata": {
    "deletable": false,
    "editable": false,
    "id": "8c6ac9f1"
   },
   "source": [
    "**Ещё раз выведем перечень уникальных значений столбца `children`, чтобы убедиться, что артефакты удалены.**"
   ]
  },
  {
   "cell_type": "code",
   "execution_count": 10,
   "id": "07337b81",
   "metadata": {
    "deletable": false,
    "id": "07337b81",
    "outputId": "b2097101-d49d-44d9-901b-32a65c9463d1"
   },
   "outputs": [
    {
     "data": {
      "text/plain": [
       "array([1, 0, 3, 2, 4, 5])"
      ]
     },
     "execution_count": 10,
     "metadata": {},
     "output_type": "execute_result"
    }
   ],
   "source": [
    "data['children'].unique()"
   ]
  },
  {
   "cell_type": "markdown",
   "id": "ee3f52d4",
   "metadata": {
    "deletable": false,
    "editable": false,
    "id": "ee3f52d4"
   },
   "source": [
    "### Удаление пропусков (продолжение)"
   ]
  },
  {
   "cell_type": "markdown",
   "id": "a700b0e4",
   "metadata": {
    "deletable": false,
    "editable": false,
    "id": "a700b0e4"
   },
   "source": [
    "**Заполним пропуски в столбце `days_employed` медианными значениями по каждого типа занятости `income_type`.**"
   ]
  },
  {
   "cell_type": "code",
   "execution_count": 11,
   "id": "61946b83",
   "metadata": {
    "deletable": false,
    "id": "61946b83"
   },
   "outputs": [],
   "source": [
    "for t in data['income_type'].unique():\n",
    "    data.loc[(data['income_type'] == t) & (data['days_employed'].isna()), 'days_employed'] = \\\n",
    "    data.loc[(data['income_type'] == t), 'days_employed'].median()"
   ]
  },
  {
   "cell_type": "markdown",
   "id": "550dcd9b",
   "metadata": {
    "deletable": false,
    "editable": false,
    "id": "550dcd9b"
   },
   "source": [
    "**Убедимся, что все пропуски заполнены. Ещё раз выведем количество пропущенных значений для каждого столбца с помощью двух методов.**"
   ]
  },
  {
   "cell_type": "code",
   "execution_count": 12,
   "id": "937c7014",
   "metadata": {
    "deletable": false,
    "id": "937c7014",
    "outputId": "8da1e4e1-358e-4e87-98c9-f261bce0a7b2"
   },
   "outputs": [
    {
     "data": {
      "text/plain": [
       "children            0\n",
       "days_employed       0\n",
       "dob_years           0\n",
       "education           0\n",
       "education_id        0\n",
       "family_status       0\n",
       "family_status_id    0\n",
       "gender              0\n",
       "income_type         0\n",
       "debt                0\n",
       "total_income        0\n",
       "purpose             0\n",
       "dtype: int64"
      ]
     },
     "execution_count": 12,
     "metadata": {},
     "output_type": "execute_result"
    }
   ],
   "source": [
    "data.isna().sum()"
   ]
  },
  {
   "cell_type": "markdown",
   "id": "d522e295",
   "metadata": {
    "deletable": false,
    "editable": false,
    "id": "d522e295"
   },
   "source": [
    "### Изменение типов данных"
   ]
  },
  {
   "cell_type": "markdown",
   "id": "c229c581",
   "metadata": {
    "deletable": false,
    "editable": false,
    "id": "c229c581"
   },
   "source": [
    "**Заменим вещественный тип данных в столбце `total_income` на целочисленный с помощью метода `astype()`.**"
   ]
  },
  {
   "cell_type": "code",
   "execution_count": 13,
   "id": "31036462",
   "metadata": {
    "deletable": false,
    "id": "31036462"
   },
   "outputs": [],
   "source": [
    "data['total_income'] = data['total_income'].astype(int)"
   ]
  },
  {
   "cell_type": "markdown",
   "id": "b8e3d1d9",
   "metadata": {
    "deletable": false,
    "editable": false,
    "id": "b8e3d1d9"
   },
   "source": [
    "### Обработка дубликатов"
   ]
  },
  {
   "cell_type": "markdown",
   "id": "9be53c49",
   "metadata": {
    "deletable": false,
    "editable": false,
    "id": "9be53c49"
   },
   "source": [
    "**Обработаем неявные дубликаты в столбце `education`. В этом столбце есть одни и те же значения, но записанные по-разному: с использованием заглавных и строчных букв. Приведем их к нижнему регистру.**"
   ]
  },
  {
   "cell_type": "code",
   "execution_count": 14,
   "id": "d89e73e1",
   "metadata": {
    "deletable": false,
    "id": "d89e73e1"
   },
   "outputs": [],
   "source": [
    "data['education'] = data['education'].str.lower()"
   ]
  },
  {
   "cell_type": "markdown",
   "id": "01d4500e",
   "metadata": {
    "deletable": false,
    "editable": false,
    "id": "01d4500e"
   },
   "source": [
    "**Задание 15. Выведите на экран количество строк-дубликатов в данных. Если такие строки присутствуют, удалите их.**"
   ]
  },
  {
   "cell_type": "code",
   "execution_count": 15,
   "id": "e10efb23",
   "metadata": {
    "deletable": false,
    "id": "e10efb23",
    "outputId": "9684deba-1934-42d1-99e1-cda61740f822"
   },
   "outputs": [
    {
     "data": {
      "text/plain": [
       "71"
      ]
     },
     "execution_count": 15,
     "metadata": {},
     "output_type": "execute_result"
    }
   ],
   "source": [
    "data.duplicated().sum()"
   ]
  },
  {
   "cell_type": "code",
   "execution_count": 16,
   "id": "df853f20",
   "metadata": {
    "deletable": false,
    "id": "df853f20"
   },
   "outputs": [],
   "source": [
    "data = data.drop_duplicates()"
   ]
  },
  {
   "cell_type": "markdown",
   "id": "627be38f",
   "metadata": {
    "deletable": false,
    "editable": false,
    "id": "627be38f"
   },
   "source": [
    "### Категоризация данных"
   ]
  },
  {
   "cell_type": "markdown",
   "id": "4684c3e0",
   "metadata": {
    "deletable": false,
    "editable": false,
    "id": "4684c3e0"
   },
   "source": [
    "**Задание 16. На основании диапазонов, указанных ниже, создайте в датафрейме `data` столбец `total_income_category` с категориями:**\n",
    "\n",
    "- 0–30000 — `'E'`;\n",
    "- 30001–50000 — `'D'`;\n",
    "- 50001–200000 — `'C'`;\n",
    "- 200001–1000000 — `'B'`;\n",
    "- 1000001 и выше — `'A'`.\n",
    "\n",
    "\n",
    "**Например, кредитополучателю с доходом 25000 нужно назначить категорию `'E'`, а клиенту, получающему 235000, — `'B'`. Используйте собственную функцию с именем `categorize_income()` и метод `apply()`.**"
   ]
  },
  {
   "cell_type": "code",
   "execution_count": 17,
   "id": "78965238",
   "metadata": {
    "deletable": false,
    "id": "78965238"
   },
   "outputs": [],
   "source": [
    "def categorize_income(income):\n",
    "    try:\n",
    "        if 0 <= income <= 30000:\n",
    "            return 'E'\n",
    "        elif 30001 <= income <= 50000:\n",
    "            return 'D'\n",
    "        elif 50001 <= income <= 200000:\n",
    "            return 'C'\n",
    "        elif 200001 <= income <= 1000000:\n",
    "            return 'B'\n",
    "        elif income >= 1000001:\n",
    "            return 'A'\n",
    "    except:\n",
    "        pass"
   ]
  },
  {
   "cell_type": "code",
   "execution_count": 18,
   "id": "0980ada1",
   "metadata": {
    "deletable": false,
    "id": "0980ada1"
   },
   "outputs": [],
   "source": [
    "data['total_income_category'] = data['total_income'].apply(categorize_income)"
   ]
  },
  {
   "cell_type": "markdown",
   "id": "9917bba0",
   "metadata": {
    "deletable": false,
    "editable": false,
    "id": "9917bba0"
   },
   "source": [
    "**Задание 17. Выведите на экран перечень уникальных целей взятия кредита из столбца `purpose`.**"
   ]
  },
  {
   "cell_type": "code",
   "execution_count": 19,
   "id": "ee07b65e",
   "metadata": {
    "deletable": false,
    "id": "ee07b65e",
    "outputId": "673c12d9-7d7e-4ae0-9812-c622c89dd244"
   },
   "outputs": [
    {
     "data": {
      "text/plain": [
       "array(['покупка жилья', 'приобретение автомобиля',\n",
       "       'дополнительное образование', 'сыграть свадьбу',\n",
       "       'операции с жильем', 'образование', 'на проведение свадьбы',\n",
       "       'покупка жилья для семьи', 'покупка недвижимости',\n",
       "       'покупка коммерческой недвижимости', 'покупка жилой недвижимости',\n",
       "       'строительство собственной недвижимости', 'недвижимость',\n",
       "       'строительство недвижимости', 'на покупку подержанного автомобиля',\n",
       "       'на покупку своего автомобиля',\n",
       "       'операции с коммерческой недвижимостью',\n",
       "       'строительство жилой недвижимости', 'жилье',\n",
       "       'операции со своей недвижимостью', 'автомобили',\n",
       "       'заняться образованием', 'сделка с подержанным автомобилем',\n",
       "       'получение образования', 'автомобиль', 'свадьба',\n",
       "       'получение дополнительного образования', 'покупка своего жилья',\n",
       "       'операции с недвижимостью', 'получение высшего образования',\n",
       "       'свой автомобиль', 'сделка с автомобилем',\n",
       "       'профильное образование', 'высшее образование',\n",
       "       'покупка жилья для сдачи', 'на покупку автомобиля', 'ремонт жилью',\n",
       "       'заняться высшим образованием'], dtype=object)"
      ]
     },
     "execution_count": 19,
     "metadata": {},
     "output_type": "execute_result"
    }
   ],
   "source": [
    "data['purpose'].unique()"
   ]
  },
  {
   "cell_type": "markdown",
   "id": "52b79d56",
   "metadata": {
    "deletable": false,
    "editable": false,
    "id": "52b79d56"
   },
   "source": [
    "**Задание 18. Создайте функцию, которая на основании данных из столбца `purpose` сформирует новый столбец `purpose_category`, в который войдут следующие категории:**\n",
    "\n",
    "- `'операции с автомобилем'`,\n",
    "- `'операции с недвижимостью'`,\n",
    "- `'проведение свадьбы'`,\n",
    "- `'получение образования'`.\n",
    "\n",
    "**Например, если в столбце `purpose` находится подстрока `'на покупку автомобиля'`, то в столбце `purpose_category` должна появиться строка `'операции с автомобилем'`.**\n",
    "\n",
    "**Используйте собственную функцию с именем `categorize_purpose()` и метод `apply()`. Изучите данные в столбце `purpose` и определите, какие подстроки помогут вам правильно определить категорию.**"
   ]
  },
  {
   "cell_type": "code",
   "execution_count": 20,
   "id": "be41da5d",
   "metadata": {
    "deletable": false,
    "id": "be41da5d"
   },
   "outputs": [],
   "source": [
    "def categorize_purpose(row):\n",
    "    try:\n",
    "        if 'автом' in row:\n",
    "            return 'операции с автомобилем'\n",
    "        elif 'жил' in row or 'недвиж' in row:\n",
    "            return 'операции с недвижимостью'\n",
    "        elif 'свад' in row:\n",
    "            return 'проведение свадьбы'\n",
    "        elif 'образов' in row:\n",
    "            return 'получение образования'\n",
    "    except:\n",
    "        return 'нет категории'"
   ]
  },
  {
   "cell_type": "code",
   "execution_count": 21,
   "id": "94c4a19a",
   "metadata": {
    "deletable": false,
    "id": "94c4a19a"
   },
   "outputs": [],
   "source": [
    "data['purpose_category'] = data['purpose'].apply(categorize_purpose)"
   ]
  },
  {
   "cell_type": "markdown",
   "id": "3d596c34",
   "metadata": {
    "deletable": false,
    "editable": false,
    "id": "3d596c34"
   },
   "source": [
    "### Шаг 3. Исследуйте данные и ответьте на вопросы"
   ]
  },
  {
   "cell_type": "markdown",
   "id": "648db036",
   "metadata": {
    "deletable": false,
    "editable": false,
    "id": "648db036"
   },
   "source": [
    "#### 3.1 Есть ли зависимость между количеством детей и возвратом кредита в срок?"
   ]
  },
  {
   "cell_type": "code",
   "execution_count": 22,
   "id": "7fcff25e",
   "metadata": {
    "deletable": false,
    "id": "7fcff25e"
   },
   "outputs": [
    {
     "name": "stdout",
     "output_type": "stream",
     "text": [
      "           debt       share_%\n",
      "          count   sum        \n",
      "children                     \n",
      "0         14091  1063   7.54%\n",
      "1          4808   444   9.23%\n",
      "2          2052   194   9.45%\n",
      "3           330    27   8.18%\n",
      "4            41     4   9.76%\n",
      "5             9     0   0.00%\n"
     ]
    }
   ],
   "source": [
    "#Доля должников в каждой категории (сумма должников на общее количество людей в каждой категории)\n",
    "payment = data.groupby('children')['debt'].sum()/data.groupby('children')['debt'].count()\n",
    "\n",
    "#Метрики для каждой из категорий: общее кол-во людей, кол-во должников.\n",
    "total_payment = data.groupby('children').agg({'debt': ['count','sum']})\n",
    "\n",
    "#Строим таблийу и добавляем столбец с процентами.\n",
    "total_payment['share_%'] = total_payment[('debt', 'sum')]/total_payment[('debt', 'count')]\n",
    "total_payment['share_%'] = total_payment['share_%'].apply(lambda x: \"{0:.2%}\".format(x))\n",
    "print(total_payment)"
   ]
  },
  {
   "cell_type": "markdown",
   "id": "2eb9088e",
   "metadata": {
    "deletable": false,
    "id": "2eb9088e"
   },
   "source": [
    "**Вывод:** "
   ]
  },
  {
   "cell_type": "markdown",
   "id": "2cef761f",
   "metadata": {},
   "source": [
    "Распределение должников в зависимости от количества детей более-менее равномерно, говорить о какой-то прямой зависимости выплаты долгов и количества детей на основании этих данных нельзя. \n",
    "\n",
    "Единственное, можно заметить, что в целом обратившихся за кредитами бездетных людей в разы больше (14091), чем тех, у кого есть хотя бы один ребенок, и процент должников среди бездетных меньше (7,54%), чем у тех, у кого есть хотя бы один ребенок.\n",
    "\n",
    "За исключением родителей пятерых - но здесь слишком малое количество обращений, всего 9 человек."
   ]
  },
  {
   "cell_type": "markdown",
   "id": "74c9b3a7",
   "metadata": {
    "deletable": false,
    "editable": false,
    "id": "74c9b3a7"
   },
   "source": [
    "#### 3.2 Есть ли зависимость между семейным положением и возвратом кредита в срок?"
   ]
  },
  {
   "cell_type": "code",
   "execution_count": 23,
   "id": "8098ab3b",
   "metadata": {
    "deletable": false,
    "id": "8098ab3b"
   },
   "outputs": [
    {
     "name": "stdout",
     "output_type": "stream",
     "text": [
      "                        debt      share_%\n",
      "                       count  sum        \n",
      "family_status                            \n",
      "Не женат / не замужем   2796  273   9.76%\n",
      "в разводе               1189   84   7.06%\n",
      "вдовец / вдова           951   63   6.62%\n",
      "гражданский брак        4134  385   9.31%\n",
      "женат / замужем        12261  927   7.56%\n"
     ]
    }
   ],
   "source": [
    "#Доля должников для каждого статуса отношений (сумма должников на общее количество людей в каждом статусе)\n",
    "relationships = data.groupby('family_status')['debt'].sum()/data.groupby('family_status')['debt'].count()\n",
    "\n",
    "#Метрики для каждого статуса: общее кол-во людей, кол-во должников.\n",
    "total_relationships = data.groupby('family_status').agg({'debt': ['count','sum']})\n",
    "\n",
    "#Строим таблийу и добавляем столбец с процентами:\n",
    "total_relationships['share_%'] = total_relationships[('debt', 'sum')]/total_relationships[('debt', 'count')]\n",
    "total_relationships['share_%'] = total_relationships['share_%'].apply(lambda x: \"{0:.2%}\".format(x))\n",
    "print(total_relationships)\n"
   ]
  },
  {
   "cell_type": "markdown",
   "id": "c389ca63",
   "metadata": {
    "deletable": false,
    "id": "c389ca63"
   },
   "source": [
    "**Вывод:** "
   ]
  },
  {
   "cell_type": "markdown",
   "id": "c70188c6",
   "metadata": {},
   "source": [
    "Среди клиентов, *не состоящих в браке* или *состоящих в гражданском браке*, доля должников выше (9.76% и 9,31% соотвественно).\n",
    "\n",
    "*Меньше всего* должников среди вдов/вдовцов (6,62%).\n",
    " \n",
    "Также отметим, что *женатых/замужних клпентов* значительно больше (12261), чем всех остальных. Т.е. либо растущие потребности семьи вынуждают брать кредит, либо наоборот, ощущение, что в семье ты не один сможешь оплачивать ежемесячные взносы, способствует взятию кредита на исполнение своих пожеланий (авто, образование, улучшение жилищных условий). Но данную гипотезу необходимо проверять."
   ]
  },
  {
   "cell_type": "markdown",
   "id": "9529de68",
   "metadata": {
    "deletable": false,
    "editable": false,
    "id": "9529de68"
   },
   "source": [
    "#### 3.3 Есть ли зависимость между уровнем дохода и возвратом кредита в срок?"
   ]
  },
  {
   "cell_type": "code",
   "execution_count": 24,
   "id": "8787f44a",
   "metadata": {
    "deletable": false,
    "id": "8787f44a"
   },
   "outputs": [
    {
     "name": "stdout",
     "output_type": "stream",
     "text": [
      "                        debt       share_%\n",
      "                       count   sum        \n",
      "total_income_category                     \n",
      "A                         25     2   8.00%\n",
      "B                       5014   354   7.06%\n",
      "C                      15921  1353   8.50%\n",
      "D                        349    21   6.02%\n",
      "E                         22     2   9.09%\n"
     ]
    }
   ],
   "source": [
    "#Категория Е <= 30000 , D <= 50000, С <= 200000, B <= 1000000,  A > 1000000.\n",
    "#Доля должников для каждого уровня дохода (сумма должников на общее количество людей каждого уровня дохода)\n",
    "income_level = data.groupby('total_income_category')['debt'].sum()/data.groupby('total_income_category')['debt'].count()\n",
    "\n",
    "#Метрики для каждого уровня дохода: общее кол-во людей, кол-во должников:\n",
    "total_income_level = data.groupby('total_income_category').agg({'debt': ['count','sum']})\n",
    "\n",
    "#Строим таблийу и добавляем столбец с процентами.\n",
    "total_income_level['share_%'] = total_income_level[('debt', 'sum')]/total_income_level[('debt', 'count')]\n",
    "total_income_level['share_%'] = total_income_level['share_%'].apply(lambda x: \"{0:.2%}\".format(x))\n",
    "print(total_income_level)\n"
   ]
  },
  {
   "cell_type": "markdown",
   "id": "6dd14b57",
   "metadata": {
    "deletable": false,
    "id": "6dd14b57"
   },
   "source": [
    "**Вывод:** "
   ]
  },
  {
   "cell_type": "markdown",
   "id": "671a448e",
   "metadata": {},
   "source": [
    "Распределение должников в зависимости от уровня дохода более-менее равномерно.\n",
    "\n",
    "Единственное, клиенты с *наименьшим доходом* (категория Е, менее 30 тыс. рублей) становятся должниками чуть чаще остальных, в 9,09% случаев. \n",
    "\n",
    "*Реже всего* (6,02%) задерживают платежи клиенты с *уровнем дохода D* (от 30 до 50 тыс. рублей).\n",
    "\n",
    "Также можно отметить, что *больше всего клиентов* (15921 человек), которые брали кредит, *с уровнем дохода C* (от 50 до 200 тыс. руб), *а меньше всего*, 22 человек, *с уровнем дохода E* (менее 30 тыс. руб)."
   ]
  },
  {
   "cell_type": "markdown",
   "id": "1dcc9b12",
   "metadata": {
    "deletable": false,
    "editable": false,
    "id": "1dcc9b12"
   },
   "source": [
    "#### 3.4 Как разные цели кредита влияют на его возврат в срок?"
   ]
  },
  {
   "cell_type": "code",
   "execution_count": 25,
   "id": "c602bc8b",
   "metadata": {
    "deletable": false,
    "id": "c602bc8b"
   },
   "outputs": [
    {
     "name": "stdout",
     "output_type": "stream",
     "text": [
      "                           debt      share_%\n",
      "                          count  sum        \n",
      "purpose_category                            \n",
      "операции с автомобилем     4279  400   9.35%\n",
      "операции с недвижимостью  10751  780   7.26%\n",
      "получение образования      3988  369   9.25%\n",
      "проведение свадьбы         2313  183   7.91%\n"
     ]
    }
   ],
   "source": [
    "# Ваш код будет здесь. Вы можете создавать новые ячейки.\n",
    "#Категория Е <= 30000 , D <= 50000, С <= 200000, B <= 1000000,  A > 1000000.\n",
    "#Доля должников для каждого уровня дохода (сумма должников на общее количество людей каждого уровня дохода)\n",
    "purpose_level = data.groupby('purpose_category')['debt'].sum()/data.groupby('purpose_category')['debt'].count()\n",
    "\n",
    "#Метрики для каждого уровня дохода: общее кол-во людей, кол-во должников:\n",
    "total_purpose_level = data.groupby('purpose_category').agg({'debt': ['count','sum']})\n",
    "\n",
    "#Строим таблийу и добавляем столбец с процентами.\n",
    "total_purpose_level['share_%'] = total_purpose_level[('debt', 'sum')]/total_purpose_level[('debt', 'count')]\n",
    "total_purpose_level['share_%'] = total_purpose_level['share_%'].apply(lambda x: \"{0:.2%}\".format(x))\n",
    "print(total_purpose_level)"
   ]
  },
  {
   "cell_type": "markdown",
   "id": "cf05ed63",
   "metadata": {
    "deletable": false,
    "id": "cf05ed63"
   },
   "source": [
    "**Вывод:** "
   ]
  },
  {
   "cell_type": "markdown",
   "id": "9be57a2b",
   "metadata": {},
   "source": [
    "Исходя из данных, можно сделать вывод, что **ипотечные кредиты** стараются возвращать вовремя чаще - должников всего 7,26%. \n",
    "При этом доля ипотечных кредитов среди всех выданных кредитов максимальна - это самая частая цель займа.\n",
    "\n",
    "**Кредит на проведение свадьбы** также имеет сравнительно неплохой показатель - должников только 7,91%. \n",
    "И такие кредиты берут реже по сравнению с остальными.\n",
    "\n",
    "Самый большой процент должников в категории **Операции с автомобилем** - 9,35%. \n",
    "\n",
    "Следует помнить о том, что размеры кредитов сильно отличаются (ипотека может быть и 10 млн, а кредит на свадьбу может быть лишь 200 тыс.).\n",
    "Вернуть 10 млн куда сложнее, чем 200 тыс. Срок возврата также может быть очень разным (например, 20 лет против 3-5 лет).\n",
    "Тем не менее, столь глубокое погружение в тему и такая многофакторная модель от нас на данном этапе не требуется.\n"
   ]
  },
  {
   "cell_type": "markdown",
   "id": "46c1f10b",
   "metadata": {
    "deletable": false,
    "editable": false,
    "id": "46c1f10b"
   },
   "source": [
    "#### 3.5 Приведите возможные причины появления пропусков в исходных данных."
   ]
  },
  {
   "cell_type": "markdown",
   "id": "3697d2a9",
   "metadata": {
    "deletable": false,
    "id": "3697d2a9"
   },
   "source": [
    "*Ответ:* "
   ]
  },
  {
   "cell_type": "markdown",
   "id": "f57620cb",
   "metadata": {},
   "source": [
    "Есть 3 механизма формирования пропусков: **MCAR (Missing Completely At Random), MAR (Missing At Random), MNAR (Missing Not At Random)**. \n",
    "\n",
    "*Примером MCAR* можно назвать в нашем случае такую ситуацию: при выгрузке данных часть могла быть утеряна или неверно обработана и выдала ошибку. Или при заполнении анкеты, распечатанной на листе в двухстороннем формате или не слишком удачно сверстанной онлайн, клиент может поспешить и случайно пропустить часть вопросов.\n",
    "\n",
    "*Примером MAR* в нашем случае могла бы быть следующая ситуация: молодому человеку до 25 лет, который ответил, что он не замужем / не женат, могут не задать вопрос про наличие детей и поставить автоматом 0.\n",
    "\n",
    "*Примером MNAR* может быть ситуация, когда человек сознательно занижает уровень своих доходов, по разным причинам не желая делиться с банком достоверной и полной информацией. "
   ]
  },
  {
   "cell_type": "markdown",
   "id": "ef0d0c47",
   "metadata": {},
   "source": [
    "<div style=\"background: #B0E0E6; padding: 5px; border: 1px solid SteelBlue; border-radius: 5px;\"> <b>Спасибо за комментарий! </b>\n",
    "<br>   \n",
    "В нашем случае есть любопытный момент - пропущенные значения имеются в двух столбцах: <br>\n",
    "1. <i> days_employed </i> (общий трудовой стаж в днях). <br>\n",
    "2. <i>total_income</i> (ежемесячный доход). <br>\n",
    "Причем они встречаются в одних и тех же строках, т.е. если у клиента пропущено значение days_employed, то у него также нет значения total_income. Явной связи с другими столбцами нет (например, пропущено только у пенсионеров - нет такой взаимосвязи).\n",
    "\n",
    " Клиенты, конечно, могли сознательно не предоставить информацию о своем доходе в total_income, но тогда им не предоставили бы кредит. Поэтому склоняюсь к общей для столбцов total_income и days_employed <b> ошибке при выгрузке данных.</b>\n",
    "</div>    "
   ]
  },
  {
   "cell_type": "markdown",
   "id": "3137d257",
   "metadata": {
    "deletable": false,
    "editable": false,
    "id": "3137d257"
   },
   "source": [
    "#### 3.6 Объясните, почему заполнить пропуски медианным значением — лучшее решение для количественных переменных."
   ]
  },
  {
   "cell_type": "markdown",
   "id": "cf40012a",
   "metadata": {
    "deletable": false,
    "id": "cf40012a"
   },
   "source": [
    "*Ответ:* "
   ]
  },
  {
   "cell_type": "markdown",
   "id": "e73bb835",
   "metadata": {},
   "source": [
    "Поскольку с количественными переменными мы проводим простые математические операции, нам, во-первых, лучше иметь медианное значение, чем пропуск или ошибку, так как они влияют на окончательный результат и могут в принципе мешать получить его. А во-вторых, при сильных разбросах значений (выбросах) такая значительная разница может увести нас в совсем не ту сторону (при поиске среднего арифметического, медианы и т.д.)."
   ]
  },
  {
   "cell_type": "markdown",
   "id": "57bc304e",
   "metadata": {
    "deletable": false,
    "editable": false,
    "id": "57bc304e"
   },
   "source": [
    "### Шаг 4: общий вывод."
   ]
  },
  {
   "cell_type": "markdown",
   "id": "1ab75d1c",
   "metadata": {
    "deletable": false,
    "id": "1ab75d1c"
   },
   "source": [
    "Напишите ваш общий вывод."
   ]
  },
  {
   "cell_type": "markdown",
   "id": "cef5980f",
   "metadata": {},
   "source": [
    "#### Резюмируя вышеизложенное:\n",
    "    * Распределение должников в зависимости от количества детей более-менее равномерно, говорить о какой-то прямой зависимости выплаты долгов и количества детей на основании этих данных нельзя. \n",
    "    * В целом обратившихся за кредитами бездетных людей в разы больше (14091), чем тех, у кого есть хотя бы один ребенок, и процент должников среди бездетных меньше (7,54%), чем у тех, у кого есть хотя бы один ребенок.\n",
    "    * Среди клиентов, не состоящих в браке или состоящих в гражданском браке, доля должников выше (9.76% и 9,31% соотвественно).\n",
    "    * Меньше всего должников среди вдов/вдовцов (6,62%). А женатых/замужних клпентов значительно больше (12261), чем всех остальных.\n",
    "    * Распределение должников в зависимости от уровня дохода более-менее равномерно. Клиенты с наименьшим доходом (категория Е, менее 30 тыс. рублей) становятся должниками чуть чаще остальных, в 9,09% случаев. \n",
    "    * Реже всего (6,02%) задерживают платежи клиенты с уровнем дохода D (от 30 до 50 тыс. рублей).\n",
    "    * Больше всего клиентов (15921 человек), которые брали кредит, с уровнем дохода C (от 50 до 200 тыс. руб), а меньше всего, 22 человек, с уровнем дохода E (менее 30 тыс. руб).  \n",
    "    * Ипотеку чаще стараются возвращать вовремя - должников всего 7,26%. При этом доля ипотечных кредитов среди всех выданных кредитов максимальна - это самая популярная цель займа.\n",
    "    * По кредиту на проведение свадьбы должников только 7,91%. И такие кредиты берут реже по сравнению с остальными.\n",
    "    * Самый большой процент должников в категории \"Операции с автомобилем\" - 9,35%. \n",
    "        "
   ]
  }
 ],
 "metadata": {
  "ExecuteTimeLog": [
   {
    "duration": 743,
    "start_time": "2023-01-20T17:53:03.845Z"
   },
   {
    "duration": 27,
    "start_time": "2023-01-20T17:53:08.059Z"
   },
   {
    "duration": 16,
    "start_time": "2023-01-20T17:53:13.140Z"
   },
   {
    "duration": 12,
    "start_time": "2023-01-20T17:53:17.230Z"
   },
   {
    "duration": 38,
    "start_time": "2023-01-20T17:53:21.237Z"
   },
   {
    "duration": 4,
    "start_time": "2023-01-20T17:53:25.140Z"
   },
   {
    "duration": 8,
    "start_time": "2023-01-20T17:53:29.234Z"
   },
   {
    "duration": 5,
    "start_time": "2023-01-20T17:53:33.581Z"
   },
   {
    "duration": 7,
    "start_time": "2023-01-20T17:53:39.065Z"
   },
   {
    "duration": 5,
    "start_time": "2023-01-20T17:53:44.961Z"
   },
   {
    "duration": 36,
    "start_time": "2023-01-20T17:53:47.784Z"
   },
   {
    "duration": 11,
    "start_time": "2023-01-20T17:53:50.923Z"
   },
   {
    "duration": 4,
    "start_time": "2023-01-20T17:53:54.592Z"
   },
   {
    "duration": 12,
    "start_time": "2023-01-20T17:54:01.239Z"
   },
   {
    "duration": 21,
    "start_time": "2023-01-20T17:54:04.032Z"
   },
   {
    "duration": 20,
    "start_time": "2023-01-20T17:54:06.522Z"
   },
   {
    "duration": 4,
    "start_time": "2023-01-20T17:54:14.321Z"
   },
   {
    "duration": 4,
    "start_time": "2023-01-20T17:54:51.543Z"
   },
   {
    "duration": 10,
    "start_time": "2023-01-20T17:54:54.820Z"
   },
   {
    "duration": 7,
    "start_time": "2023-01-20T17:54:58.033Z"
   },
   {
    "duration": 4,
    "start_time": "2023-01-20T17:55:02.226Z"
   },
   {
    "duration": 4,
    "start_time": "2023-01-20T17:55:32.437Z"
   },
   {
    "duration": 9,
    "start_time": "2023-01-20T17:55:33.221Z"
   },
   {
    "duration": 8,
    "start_time": "2023-01-20T18:03:42.221Z"
   },
   {
    "duration": 17,
    "start_time": "2023-01-20T18:29:23.094Z"
   },
   {
    "duration": 15,
    "start_time": "2023-01-20T18:31:27.376Z"
   },
   {
    "duration": 14,
    "start_time": "2023-01-20T18:31:35.548Z"
   },
   {
    "duration": 51,
    "start_time": "2023-01-20T18:31:56.102Z"
   },
   {
    "duration": 14,
    "start_time": "2023-01-20T18:32:02.943Z"
   },
   {
    "duration": 802,
    "start_time": "2023-01-20T18:33:25.970Z"
   },
   {
    "duration": 20,
    "start_time": "2023-01-20T18:35:07.661Z"
   },
   {
    "duration": 745,
    "start_time": "2023-01-20T18:35:39.840Z"
   },
   {
    "duration": 19,
    "start_time": "2023-01-20T18:42:37.565Z"
   },
   {
    "duration": 19,
    "start_time": "2023-01-20T18:42:49.281Z"
   },
   {
    "duration": 24,
    "start_time": "2023-01-20T18:53:54.852Z"
   },
   {
    "duration": 19,
    "start_time": "2023-01-20T18:54:06.519Z"
   },
   {
    "duration": 18,
    "start_time": "2023-01-20T18:55:36.167Z"
   },
   {
    "duration": 17,
    "start_time": "2023-01-20T18:55:47.701Z"
   },
   {
    "duration": 12,
    "start_time": "2023-01-20T18:56:08.944Z"
   },
   {
    "duration": 16,
    "start_time": "2023-01-20T18:56:24.824Z"
   },
   {
    "duration": 17,
    "start_time": "2023-01-20T18:56:35.596Z"
   },
   {
    "duration": 16,
    "start_time": "2023-01-20T18:56:43.276Z"
   },
   {
    "duration": 16,
    "start_time": "2023-01-20T18:56:49.659Z"
   },
   {
    "duration": 18,
    "start_time": "2023-01-20T18:56:54.941Z"
   },
   {
    "duration": 25,
    "start_time": "2023-01-20T18:57:20.125Z"
   },
   {
    "duration": 5,
    "start_time": "2023-01-20T20:39:07.488Z"
   },
   {
    "duration": 8,
    "start_time": "2023-01-20T20:39:26.373Z"
   },
   {
    "duration": 7,
    "start_time": "2023-01-20T20:39:30.882Z"
   },
   {
    "duration": 9,
    "start_time": "2023-01-20T20:39:36.167Z"
   },
   {
    "duration": 21,
    "start_time": "2023-01-20T20:46:07.495Z"
   },
   {
    "duration": 19,
    "start_time": "2023-01-20T20:49:00.577Z"
   },
   {
    "duration": 21,
    "start_time": "2023-01-20T20:49:58.473Z"
   },
   {
    "duration": 19,
    "start_time": "2023-01-20T20:50:01.168Z"
   },
   {
    "duration": 23,
    "start_time": "2023-01-20T20:59:55.512Z"
   },
   {
    "duration": 48,
    "start_time": "2023-01-20T21:47:37.790Z"
   },
   {
    "duration": 19,
    "start_time": "2023-01-20T21:59:10.827Z"
   },
   {
    "duration": 17,
    "start_time": "2023-01-21T07:38:49.870Z"
   },
   {
    "duration": 520,
    "start_time": "2023-01-21T09:24:46.592Z"
   },
   {
    "duration": 24,
    "start_time": "2023-01-21T09:24:47.114Z"
   },
   {
    "duration": 13,
    "start_time": "2023-01-21T09:24:47.140Z"
   },
   {
    "duration": 8,
    "start_time": "2023-01-21T09:24:47.154Z"
   },
   {
    "duration": 46,
    "start_time": "2023-01-21T09:24:47.164Z"
   },
   {
    "duration": 5,
    "start_time": "2023-01-21T09:24:47.212Z"
   },
   {
    "duration": 11,
    "start_time": "2023-01-21T09:24:47.218Z"
   },
   {
    "duration": 5,
    "start_time": "2023-01-21T09:24:47.230Z"
   },
   {
    "duration": 17,
    "start_time": "2023-01-21T09:24:47.237Z"
   },
   {
    "duration": 8,
    "start_time": "2023-01-21T09:24:47.256Z"
   },
   {
    "duration": 52,
    "start_time": "2023-01-21T09:24:47.266Z"
   },
   {
    "duration": 10,
    "start_time": "2023-01-21T09:24:47.320Z"
   },
   {
    "duration": 3,
    "start_time": "2023-01-21T09:24:47.332Z"
   },
   {
    "duration": 12,
    "start_time": "2023-01-21T09:24:47.338Z"
   },
   {
    "duration": 23,
    "start_time": "2023-01-21T09:24:47.352Z"
   },
   {
    "duration": 36,
    "start_time": "2023-01-21T09:24:47.377Z"
   },
   {
    "duration": 3,
    "start_time": "2023-01-21T09:24:47.415Z"
   },
   {
    "duration": 12,
    "start_time": "2023-01-21T09:24:47.420Z"
   },
   {
    "duration": 8,
    "start_time": "2023-01-21T09:24:47.434Z"
   },
   {
    "duration": 3,
    "start_time": "2023-01-21T09:24:47.443Z"
   },
   {
    "duration": 10,
    "start_time": "2023-01-21T09:24:47.448Z"
   },
   {
    "duration": 17,
    "start_time": "2023-01-21T09:24:47.460Z"
   },
   {
    "duration": 22,
    "start_time": "2023-01-21T09:24:47.503Z"
   },
   {
    "duration": 18,
    "start_time": "2023-01-21T09:24:47.527Z"
   },
   {
    "duration": 20,
    "start_time": "2023-01-21T09:24:47.546Z"
   }
  ],
  "colab": {
   "provenance": []
  },
  "kernelspec": {
   "display_name": "Python 3 (ipykernel)",
   "language": "python",
   "name": "python3"
  },
  "language_info": {
   "codemirror_mode": {
    "name": "ipython",
    "version": 3
   },
   "file_extension": ".py",
   "mimetype": "text/x-python",
   "name": "python",
   "nbconvert_exporter": "python",
   "pygments_lexer": "ipython3",
   "version": "3.10.9"
  },
  "toc": {
   "base_numbering": 1,
   "nav_menu": {},
   "number_sections": true,
   "sideBar": true,
   "skip_h1_title": true,
   "title_cell": "Table of Contents",
   "title_sidebar": "Contents",
   "toc_cell": false,
   "toc_position": {
    "height": "calc(100% - 180px)",
    "left": "10px",
    "top": "150px",
    "width": "302.398px"
   },
   "toc_section_display": true,
   "toc_window_display": true
  }
 },
 "nbformat": 4,
 "nbformat_minor": 5
}
