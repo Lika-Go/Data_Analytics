{
 "cells": [
  {
   "cell_type": "markdown",
   "metadata": {},
   "source": [
    "# Проект по SQL - Анализ базы данных сервиса книг по подписке"
   ]
  },
  {
   "cell_type": "markdown",
   "metadata": {},
   "source": [
    "# Описание проекта\n",
    "Компания купила крупный сервис для чтения книг по подписке. <br>\n",
    "Задача аналитика — проанализировать базу данных с информацией о книгах, издательствах, авторах, а также пользовательскими обзорами книг.  <br>\n",
    "Эти данные помогут сформулировать ценностное предложение для нового продукта."
   ]
  },
  {
   "cell_type": "markdown",
   "metadata": {},
   "source": [
    "# Описание данных\n",
    "\n",
    "**Таблица `books`** <br>\n",
    "Содержит данные о книгах: <br>\n",
    "* book_id — идентификатор книги;\n",
    "* author_id — идентификатор автора;\n",
    "* title — название книги;\n",
    "* num_pages — количество страниц;\n",
    "* publication_date — дата публикации книги;\n",
    "* publisher_id — идентификатор издателя.\n",
    "\n",
    "\n",
    "**Таблица `authors`** <br>\n",
    "Содержит данные об авторах:<br>\n",
    "* author_id — идентификатор автора;\n",
    "* author — имя автора.\n",
    "\n",
    "\n",
    "**Таблица `publishers`** <br>\n",
    "Содержит данные об издательствах: <br>\n",
    "* publisher_id — идентификатор издательства;\n",
    "* publisher — название издательства;\n",
    "\n",
    "\n",
    "**Таблица `ratings`** <br>\n",
    "Содержит данные о пользовательских оценках книг: <br>\n",
    "* rating_id — идентификатор оценки;\n",
    "* book_id — идентификатор книги;\n",
    "* username — имя пользователя, оставившего оценку;\n",
    "* rating — оценка книги.\n",
    "\n",
    "\n",
    "**Таблица `reviews`** <br>\n",
    "Содержит данные о пользовательских обзорах: <br>\n",
    "* review_id — идентификатор обзора;\n",
    "* book_id — идентификатор книги;\n",
    "* username — имя автора обзора;\n",
    "* text — текст обзора.\n"
   ]
  },
  {
   "cell_type": "markdown",
   "metadata": {},
   "source": [
    "# Задачи в рамках проекта:\n",
    "1. Посчитать, сколько книг вышло после 1 января 2000 года;\n",
    "2. Для каждой книги посчитать количество обзоров и среднюю оценку;\n",
    "3. Определить издательство, которое выпустило наибольшее число книг толще 50 страниц — так вы исключите из анализа брошюры;\n",
    "4. Определить автора с самой высокой средней оценкой книг — учитывайте только книги с 50 и более оценками;\n",
    "5. Посчитать среднее количество обзоров от пользователей, которые поставили больше 48 оценок."
   ]
  },
  {
   "cell_type": "markdown",
   "metadata": {},
   "source": [
    "## Импорт библиотек и подключение к базе данных"
   ]
  },
  {
   "cell_type": "code",
   "execution_count": null,
   "metadata": {},
   "outputs": [],
   "source": [
    "# импортируем библиотеки\n",
    "import pandas as pd\n",
    "from sqlalchemy import text, create_engine"
   ]
  },
  {
   "cell_type": "code",
   "execution_count": 10,
   "metadata": {},
   "outputs": [],
   "source": [
    "# устанавливаем параметры\n",
    "db_config = {'user': 'praktikum_student', # имя пользователя\n",
    "'pwd': 'Sdf4$2;d-d30pp', # пароль\n",
    "'host': 'rc1b-wcoijxj3yxfsf3fs.mdb.yandexcloud.net',\n",
    "'port': 6432, # порт подключения\n",
    "'db': 'data-analyst-final-project-db'} # название базы данных\n",
    "connection_string = 'postgresql://{user}:{pwd}@{host}:{port}/{db}'.format(**db_config)"
   ]
  },
  {
   "cell_type": "code",
   "execution_count": null,
   "metadata": {},
   "outputs": [],
   "source": [
    "# сохраняем коннектор\n",
    "engine = create_engine(connection_string, connect_args={'sslmode':'require'})"
   ]
  },
  {
   "cell_type": "code",
   "execution_count": 11,
   "metadata": {},
   "outputs": [],
   "source": [
    "#Создаем функцию, выводящую результат SQL-запроса:\n",
    "def result(query):\n",
    "    return pd.io.sql.read_sql(query, con = engine)"
   ]
  },
  {
   "cell_type": "markdown",
   "metadata": {},
   "source": [
    "## Запросы к таблицам books, authors, publishers, ratings, reviews"
   ]
  },
  {
   "cell_type": "code",
   "execution_count": 20,
   "metadata": {},
   "outputs": [
    {
     "name": "stdout",
     "output_type": "stream",
     "text": [
      "\n",
      "Таблица: books\n"
     ]
    },
    {
     "data": {
      "text/html": [
       "<div>\n",
       "<style scoped>\n",
       "    .dataframe tbody tr th:only-of-type {\n",
       "        vertical-align: middle;\n",
       "    }\n",
       "\n",
       "    .dataframe tbody tr th {\n",
       "        vertical-align: top;\n",
       "    }\n",
       "\n",
       "    .dataframe thead th {\n",
       "        text-align: right;\n",
       "    }\n",
       "</style>\n",
       "<table border=\"1\" class=\"dataframe\">\n",
       "  <thead>\n",
       "    <tr style=\"text-align: right;\">\n",
       "      <th></th>\n",
       "      <th>book_id</th>\n",
       "      <th>author_id</th>\n",
       "      <th>title</th>\n",
       "      <th>num_pages</th>\n",
       "      <th>publication_date</th>\n",
       "      <th>publisher_id</th>\n",
       "    </tr>\n",
       "  </thead>\n",
       "  <tbody>\n",
       "    <tr>\n",
       "      <th>0</th>\n",
       "      <td>1</td>\n",
       "      <td>546</td>\n",
       "      <td>'Salem's Lot</td>\n",
       "      <td>594</td>\n",
       "      <td>2005-11-01</td>\n",
       "      <td>93</td>\n",
       "    </tr>\n",
       "    <tr>\n",
       "      <th>1</th>\n",
       "      <td>2</td>\n",
       "      <td>465</td>\n",
       "      <td>1 000 Places to See Before You Die</td>\n",
       "      <td>992</td>\n",
       "      <td>2003-05-22</td>\n",
       "      <td>336</td>\n",
       "    </tr>\n",
       "    <tr>\n",
       "      <th>2</th>\n",
       "      <td>3</td>\n",
       "      <td>407</td>\n",
       "      <td>13 Little Blue Envelopes (Little Blue Envelope...</td>\n",
       "      <td>322</td>\n",
       "      <td>2010-12-21</td>\n",
       "      <td>135</td>\n",
       "    </tr>\n",
       "    <tr>\n",
       "      <th>3</th>\n",
       "      <td>4</td>\n",
       "      <td>82</td>\n",
       "      <td>1491: New Revelations of the Americas Before C...</td>\n",
       "      <td>541</td>\n",
       "      <td>2006-10-10</td>\n",
       "      <td>309</td>\n",
       "    </tr>\n",
       "    <tr>\n",
       "      <th>4</th>\n",
       "      <td>5</td>\n",
       "      <td>125</td>\n",
       "      <td>1776</td>\n",
       "      <td>386</td>\n",
       "      <td>2006-07-04</td>\n",
       "      <td>268</td>\n",
       "    </tr>\n",
       "  </tbody>\n",
       "</table>\n",
       "</div>"
      ],
      "text/plain": [
       "   book_id  author_id                                              title  \\\n",
       "0        1        546                                       'Salem's Lot   \n",
       "1        2        465                 1 000 Places to See Before You Die   \n",
       "2        3        407  13 Little Blue Envelopes (Little Blue Envelope...   \n",
       "3        4         82  1491: New Revelations of the Americas Before C...   \n",
       "4        5        125                                               1776   \n",
       "\n",
       "   num_pages publication_date  publisher_id  \n",
       "0        594       2005-11-01            93  \n",
       "1        992       2003-05-22           336  \n",
       "2        322       2010-12-21           135  \n",
       "3        541       2006-10-10           309  \n",
       "4        386       2006-07-04           268  "
      ]
     },
     "metadata": {},
     "output_type": "display_data"
    },
    {
     "name": "stdout",
     "output_type": "stream",
     "text": [
      "\n",
      "Таблица: authors\n"
     ]
    },
    {
     "data": {
      "text/html": [
       "<div>\n",
       "<style scoped>\n",
       "    .dataframe tbody tr th:only-of-type {\n",
       "        vertical-align: middle;\n",
       "    }\n",
       "\n",
       "    .dataframe tbody tr th {\n",
       "        vertical-align: top;\n",
       "    }\n",
       "\n",
       "    .dataframe thead th {\n",
       "        text-align: right;\n",
       "    }\n",
       "</style>\n",
       "<table border=\"1\" class=\"dataframe\">\n",
       "  <thead>\n",
       "    <tr style=\"text-align: right;\">\n",
       "      <th></th>\n",
       "      <th>author_id</th>\n",
       "      <th>author</th>\n",
       "    </tr>\n",
       "  </thead>\n",
       "  <tbody>\n",
       "    <tr>\n",
       "      <th>0</th>\n",
       "      <td>1</td>\n",
       "      <td>A.S. Byatt</td>\n",
       "    </tr>\n",
       "    <tr>\n",
       "      <th>1</th>\n",
       "      <td>2</td>\n",
       "      <td>Aesop/Laura Harris/Laura Gibbs</td>\n",
       "    </tr>\n",
       "    <tr>\n",
       "      <th>2</th>\n",
       "      <td>3</td>\n",
       "      <td>Agatha Christie</td>\n",
       "    </tr>\n",
       "    <tr>\n",
       "      <th>3</th>\n",
       "      <td>4</td>\n",
       "      <td>Alan Brennert</td>\n",
       "    </tr>\n",
       "    <tr>\n",
       "      <th>4</th>\n",
       "      <td>5</td>\n",
       "      <td>Alan Moore/David   Lloyd</td>\n",
       "    </tr>\n",
       "  </tbody>\n",
       "</table>\n",
       "</div>"
      ],
      "text/plain": [
       "   author_id                          author\n",
       "0          1                      A.S. Byatt\n",
       "1          2  Aesop/Laura Harris/Laura Gibbs\n",
       "2          3                 Agatha Christie\n",
       "3          4                   Alan Brennert\n",
       "4          5        Alan Moore/David   Lloyd"
      ]
     },
     "metadata": {},
     "output_type": "display_data"
    },
    {
     "name": "stdout",
     "output_type": "stream",
     "text": [
      "\n",
      "Таблица: publishers\n"
     ]
    },
    {
     "data": {
      "text/html": [
       "<div>\n",
       "<style scoped>\n",
       "    .dataframe tbody tr th:only-of-type {\n",
       "        vertical-align: middle;\n",
       "    }\n",
       "\n",
       "    .dataframe tbody tr th {\n",
       "        vertical-align: top;\n",
       "    }\n",
       "\n",
       "    .dataframe thead th {\n",
       "        text-align: right;\n",
       "    }\n",
       "</style>\n",
       "<table border=\"1\" class=\"dataframe\">\n",
       "  <thead>\n",
       "    <tr style=\"text-align: right;\">\n",
       "      <th></th>\n",
       "      <th>publisher_id</th>\n",
       "      <th>publisher</th>\n",
       "    </tr>\n",
       "  </thead>\n",
       "  <tbody>\n",
       "    <tr>\n",
       "      <th>0</th>\n",
       "      <td>1</td>\n",
       "      <td>Ace</td>\n",
       "    </tr>\n",
       "    <tr>\n",
       "      <th>1</th>\n",
       "      <td>2</td>\n",
       "      <td>Ace Book</td>\n",
       "    </tr>\n",
       "    <tr>\n",
       "      <th>2</th>\n",
       "      <td>3</td>\n",
       "      <td>Ace Books</td>\n",
       "    </tr>\n",
       "    <tr>\n",
       "      <th>3</th>\n",
       "      <td>4</td>\n",
       "      <td>Ace Hardcover</td>\n",
       "    </tr>\n",
       "    <tr>\n",
       "      <th>4</th>\n",
       "      <td>5</td>\n",
       "      <td>Addison Wesley Publishing Company</td>\n",
       "    </tr>\n",
       "  </tbody>\n",
       "</table>\n",
       "</div>"
      ],
      "text/plain": [
       "   publisher_id                          publisher\n",
       "0             1                                Ace\n",
       "1             2                           Ace Book\n",
       "2             3                          Ace Books\n",
       "3             4                      Ace Hardcover\n",
       "4             5  Addison Wesley Publishing Company"
      ]
     },
     "metadata": {},
     "output_type": "display_data"
    },
    {
     "name": "stdout",
     "output_type": "stream",
     "text": [
      "\n",
      "Таблица: ratings\n"
     ]
    },
    {
     "data": {
      "text/html": [
       "<div>\n",
       "<style scoped>\n",
       "    .dataframe tbody tr th:only-of-type {\n",
       "        vertical-align: middle;\n",
       "    }\n",
       "\n",
       "    .dataframe tbody tr th {\n",
       "        vertical-align: top;\n",
       "    }\n",
       "\n",
       "    .dataframe thead th {\n",
       "        text-align: right;\n",
       "    }\n",
       "</style>\n",
       "<table border=\"1\" class=\"dataframe\">\n",
       "  <thead>\n",
       "    <tr style=\"text-align: right;\">\n",
       "      <th></th>\n",
       "      <th>rating_id</th>\n",
       "      <th>book_id</th>\n",
       "      <th>username</th>\n",
       "      <th>rating</th>\n",
       "    </tr>\n",
       "  </thead>\n",
       "  <tbody>\n",
       "    <tr>\n",
       "      <th>0</th>\n",
       "      <td>1</td>\n",
       "      <td>1</td>\n",
       "      <td>ryanfranco</td>\n",
       "      <td>4</td>\n",
       "    </tr>\n",
       "    <tr>\n",
       "      <th>1</th>\n",
       "      <td>2</td>\n",
       "      <td>1</td>\n",
       "      <td>grantpatricia</td>\n",
       "      <td>2</td>\n",
       "    </tr>\n",
       "    <tr>\n",
       "      <th>2</th>\n",
       "      <td>3</td>\n",
       "      <td>1</td>\n",
       "      <td>brandtandrea</td>\n",
       "      <td>5</td>\n",
       "    </tr>\n",
       "    <tr>\n",
       "      <th>3</th>\n",
       "      <td>4</td>\n",
       "      <td>2</td>\n",
       "      <td>lorichen</td>\n",
       "      <td>3</td>\n",
       "    </tr>\n",
       "    <tr>\n",
       "      <th>4</th>\n",
       "      <td>5</td>\n",
       "      <td>2</td>\n",
       "      <td>mariokeller</td>\n",
       "      <td>2</td>\n",
       "    </tr>\n",
       "  </tbody>\n",
       "</table>\n",
       "</div>"
      ],
      "text/plain": [
       "   rating_id  book_id       username  rating\n",
       "0          1        1     ryanfranco       4\n",
       "1          2        1  grantpatricia       2\n",
       "2          3        1   brandtandrea       5\n",
       "3          4        2       lorichen       3\n",
       "4          5        2    mariokeller       2"
      ]
     },
     "metadata": {},
     "output_type": "display_data"
    },
    {
     "name": "stdout",
     "output_type": "stream",
     "text": [
      "\n",
      "Таблица: reviews\n"
     ]
    },
    {
     "data": {
      "text/html": [
       "<div>\n",
       "<style scoped>\n",
       "    .dataframe tbody tr th:only-of-type {\n",
       "        vertical-align: middle;\n",
       "    }\n",
       "\n",
       "    .dataframe tbody tr th {\n",
       "        vertical-align: top;\n",
       "    }\n",
       "\n",
       "    .dataframe thead th {\n",
       "        text-align: right;\n",
       "    }\n",
       "</style>\n",
       "<table border=\"1\" class=\"dataframe\">\n",
       "  <thead>\n",
       "    <tr style=\"text-align: right;\">\n",
       "      <th></th>\n",
       "      <th>review_id</th>\n",
       "      <th>book_id</th>\n",
       "      <th>username</th>\n",
       "      <th>text</th>\n",
       "    </tr>\n",
       "  </thead>\n",
       "  <tbody>\n",
       "    <tr>\n",
       "      <th>0</th>\n",
       "      <td>1</td>\n",
       "      <td>1</td>\n",
       "      <td>brandtandrea</td>\n",
       "      <td>Mention society tell send professor analysis. ...</td>\n",
       "    </tr>\n",
       "    <tr>\n",
       "      <th>1</th>\n",
       "      <td>2</td>\n",
       "      <td>1</td>\n",
       "      <td>ryanfranco</td>\n",
       "      <td>Foot glass pretty audience hit themselves. Amo...</td>\n",
       "    </tr>\n",
       "    <tr>\n",
       "      <th>2</th>\n",
       "      <td>3</td>\n",
       "      <td>2</td>\n",
       "      <td>lorichen</td>\n",
       "      <td>Listen treat keep worry. Miss husband tax but ...</td>\n",
       "    </tr>\n",
       "    <tr>\n",
       "      <th>3</th>\n",
       "      <td>4</td>\n",
       "      <td>3</td>\n",
       "      <td>johnsonamanda</td>\n",
       "      <td>Finally month interesting blue could nature cu...</td>\n",
       "    </tr>\n",
       "    <tr>\n",
       "      <th>4</th>\n",
       "      <td>5</td>\n",
       "      <td>3</td>\n",
       "      <td>scotttamara</td>\n",
       "      <td>Nation purpose heavy give wait song will. List...</td>\n",
       "    </tr>\n",
       "  </tbody>\n",
       "</table>\n",
       "</div>"
      ],
      "text/plain": [
       "   review_id  book_id       username  \\\n",
       "0          1        1   brandtandrea   \n",
       "1          2        1     ryanfranco   \n",
       "2          3        2       lorichen   \n",
       "3          4        3  johnsonamanda   \n",
       "4          5        3    scotttamara   \n",
       "\n",
       "                                                text  \n",
       "0  Mention society tell send professor analysis. ...  \n",
       "1  Foot glass pretty audience hit themselves. Amo...  \n",
       "2  Listen treat keep worry. Miss husband tax but ...  \n",
       "3  Finally month interesting blue could nature cu...  \n",
       "4  Nation purpose heavy give wait song will. List...  "
      ]
     },
     "metadata": {},
     "output_type": "display_data"
    }
   ],
   "source": [
    "# Выведем первые пять строк всех пяти таблиц с помощью функции:\n",
    "data = ['books', 'authors', 'publishers', 'ratings', 'reviews']\n",
    "for table in data:\n",
    "    print(f'\\nТаблица: {table}')\n",
    "    tab = '''SELECT * FROM {} LIMIT 5'''.format(table)\n",
    "    display(result(tab))"
   ]
  },
  {
   "cell_type": "markdown",
   "metadata": {},
   "source": [
    "## Задачи в рамках проекта"
   ]
  },
  {
   "cell_type": "markdown",
   "metadata": {},
   "source": [
    "### Посчитать, сколько книг вышло после 1 января 2000 года"
   ]
  },
  {
   "cell_type": "code",
   "execution_count": 13,
   "metadata": {},
   "outputs": [
    {
     "data": {
      "text/html": [
       "<div>\n",
       "<style scoped>\n",
       "    .dataframe tbody tr th:only-of-type {\n",
       "        vertical-align: middle;\n",
       "    }\n",
       "\n",
       "    .dataframe tbody tr th {\n",
       "        vertical-align: top;\n",
       "    }\n",
       "\n",
       "    .dataframe thead th {\n",
       "        text-align: right;\n",
       "    }\n",
       "</style>\n",
       "<table border=\"1\" class=\"dataframe\">\n",
       "  <thead>\n",
       "    <tr style=\"text-align: right;\">\n",
       "      <th></th>\n",
       "      <th>count</th>\n",
       "    </tr>\n",
       "  </thead>\n",
       "  <tbody>\n",
       "    <tr>\n",
       "      <th>0</th>\n",
       "      <td>819</td>\n",
       "    </tr>\n",
       "  </tbody>\n",
       "</table>\n",
       "</div>"
      ],
      "text/plain": [
       "   count\n",
       "0    819"
      ]
     },
     "execution_count": 13,
     "metadata": {},
     "output_type": "execute_result"
    }
   ],
   "source": [
    "book_count = '''\n",
    "SELECT COUNT(book_id)\n",
    "FROM books\n",
    "WHERE publication_date > '2000-01-01';\n",
    "'''\n",
    "result(book_count)"
   ]
  },
  {
   "cell_type": "markdown",
   "metadata": {},
   "source": [
    "**Вывод:** 819 книг вышло после 1 января 2000 года. "
   ]
  },
  {
   "cell_type": "markdown",
   "metadata": {},
   "source": [
    "### Для каждой книги посчитать количество обзоров и среднюю оценку\n",
    "\n",
    "Для этого нам придется объединить три таблицы: books, reviews и ratings."
   ]
  },
  {
   "cell_type": "code",
   "execution_count": 14,
   "metadata": {},
   "outputs": [
    {
     "data": {
      "text/html": [
       "<div>\n",
       "<style scoped>\n",
       "    .dataframe tbody tr th:only-of-type {\n",
       "        vertical-align: middle;\n",
       "    }\n",
       "\n",
       "    .dataframe tbody tr th {\n",
       "        vertical-align: top;\n",
       "    }\n",
       "\n",
       "    .dataframe thead th {\n",
       "        text-align: right;\n",
       "    }\n",
       "</style>\n",
       "<table border=\"1\" class=\"dataframe\">\n",
       "  <thead>\n",
       "    <tr style=\"text-align: right;\">\n",
       "      <th></th>\n",
       "      <th>title</th>\n",
       "      <th>review_count</th>\n",
       "      <th>avg_rating</th>\n",
       "    </tr>\n",
       "  </thead>\n",
       "  <tbody>\n",
       "    <tr>\n",
       "      <th>0</th>\n",
       "      <td>Memoirs of a Geisha</td>\n",
       "      <td>8</td>\n",
       "      <td>4.14</td>\n",
       "    </tr>\n",
       "    <tr>\n",
       "      <th>1</th>\n",
       "      <td>Twilight (Twilight  #1)</td>\n",
       "      <td>7</td>\n",
       "      <td>3.66</td>\n",
       "    </tr>\n",
       "    <tr>\n",
       "      <th>2</th>\n",
       "      <td>Harry Potter and the Prisoner of Azkaban (Harr...</td>\n",
       "      <td>6</td>\n",
       "      <td>4.41</td>\n",
       "    </tr>\n",
       "    <tr>\n",
       "      <th>3</th>\n",
       "      <td>Harry Potter and the Chamber of Secrets (Harry...</td>\n",
       "      <td>6</td>\n",
       "      <td>4.29</td>\n",
       "    </tr>\n",
       "    <tr>\n",
       "      <th>4</th>\n",
       "      <td>The Book Thief</td>\n",
       "      <td>6</td>\n",
       "      <td>4.26</td>\n",
       "    </tr>\n",
       "    <tr>\n",
       "      <th>...</th>\n",
       "      <td>...</td>\n",
       "      <td>...</td>\n",
       "      <td>...</td>\n",
       "    </tr>\n",
       "    <tr>\n",
       "      <th>994</th>\n",
       "      <td>Disney's Beauty and the Beast (A Little Golden...</td>\n",
       "      <td>0</td>\n",
       "      <td>4.00</td>\n",
       "    </tr>\n",
       "    <tr>\n",
       "      <th>995</th>\n",
       "      <td>Essential Tales and Poems</td>\n",
       "      <td>0</td>\n",
       "      <td>4.00</td>\n",
       "    </tr>\n",
       "    <tr>\n",
       "      <th>996</th>\n",
       "      <td>Leonardo's Notebooks</td>\n",
       "      <td>0</td>\n",
       "      <td>4.00</td>\n",
       "    </tr>\n",
       "    <tr>\n",
       "      <th>997</th>\n",
       "      <td>Anne Rice's The Vampire Lestat: A Graphic Novel</td>\n",
       "      <td>0</td>\n",
       "      <td>3.67</td>\n",
       "    </tr>\n",
       "    <tr>\n",
       "      <th>998</th>\n",
       "      <td>The Natural Way to Draw</td>\n",
       "      <td>0</td>\n",
       "      <td>3.00</td>\n",
       "    </tr>\n",
       "  </tbody>\n",
       "</table>\n",
       "<p>999 rows × 3 columns</p>\n",
       "</div>"
      ],
      "text/plain": [
       "                                                 title  review_count  \\\n",
       "0                                  Memoirs of a Geisha             8   \n",
       "1                              Twilight (Twilight  #1)             7   \n",
       "2    Harry Potter and the Prisoner of Azkaban (Harr...             6   \n",
       "3    Harry Potter and the Chamber of Secrets (Harry...             6   \n",
       "4                                       The Book Thief             6   \n",
       "..                                                 ...           ...   \n",
       "994  Disney's Beauty and the Beast (A Little Golden...             0   \n",
       "995                          Essential Tales and Poems             0   \n",
       "996                               Leonardo's Notebooks             0   \n",
       "997    Anne Rice's The Vampire Lestat: A Graphic Novel             0   \n",
       "998                            The Natural Way to Draw             0   \n",
       "\n",
       "     avg_rating  \n",
       "0          4.14  \n",
       "1          3.66  \n",
       "2          4.41  \n",
       "3          4.29  \n",
       "4          4.26  \n",
       "..          ...  \n",
       "994        4.00  \n",
       "995        4.00  \n",
       "996        4.00  \n",
       "997        3.67  \n",
       "998        3.00  \n",
       "\n",
       "[999 rows x 3 columns]"
      ]
     },
     "execution_count": 14,
     "metadata": {},
     "output_type": "execute_result"
    }
   ],
   "source": [
    "reviews_ratings = '''\n",
    "SELECT\n",
    "  books.title,\n",
    "  COUNT (DISTINCT review_id) AS review_count,\n",
    "  ROUND(AVG(rating),2) AS avg_rating\n",
    "FROM\n",
    "  books\n",
    "LEFT JOIN\n",
    "  reviews ON reviews.book_id = books.book_id\n",
    "LEFT JOIN\n",
    "  ratings ON ratings.book_id = books.book_id\n",
    "GROUP BY\n",
    "  books.title\n",
    "ORDER BY\n",
    "    review_count DESC,\n",
    "    avg_rating DESC;  \n",
    "'''\n",
    "result(reviews_ratings)"
   ]
  },
  {
   "cell_type": "code",
   "execution_count": 6,
   "metadata": {},
   "outputs": [
    {
     "data": {
      "text/html": [
       "<div>\n",
       "<style scoped>\n",
       "    .dataframe tbody tr th:only-of-type {\n",
       "        vertical-align: middle;\n",
       "    }\n",
       "\n",
       "    .dataframe tbody tr th {\n",
       "        vertical-align: top;\n",
       "    }\n",
       "\n",
       "    .dataframe thead th {\n",
       "        text-align: right;\n",
       "    }\n",
       "</style>\n",
       "<table border=\"1\" class=\"dataframe\">\n",
       "  <thead>\n",
       "    <tr style=\"text-align: right;\">\n",
       "      <th></th>\n",
       "      <th>title</th>\n",
       "      <th>review_count</th>\n",
       "      <th>avg_rating</th>\n",
       "    </tr>\n",
       "  </thead>\n",
       "  <tbody>\n",
       "    <tr>\n",
       "      <th>0</th>\n",
       "      <td>A Dirty Job (Grim Reaper  #1)</td>\n",
       "      <td>4</td>\n",
       "      <td>5.00</td>\n",
       "    </tr>\n",
       "    <tr>\n",
       "      <th>1</th>\n",
       "      <td>Moneyball: The Art of Winning an Unfair Game</td>\n",
       "      <td>3</td>\n",
       "      <td>5.00</td>\n",
       "    </tr>\n",
       "    <tr>\n",
       "      <th>2</th>\n",
       "      <td>School's Out—Forever (Maximum Ride  #2)</td>\n",
       "      <td>3</td>\n",
       "      <td>5.00</td>\n",
       "    </tr>\n",
       "    <tr>\n",
       "      <th>3</th>\n",
       "      <td>Captivating: Unveiling the Mystery of a Woman'...</td>\n",
       "      <td>2</td>\n",
       "      <td>5.00</td>\n",
       "    </tr>\n",
       "    <tr>\n",
       "      <th>4</th>\n",
       "      <td>Evening Class</td>\n",
       "      <td>2</td>\n",
       "      <td>5.00</td>\n",
       "    </tr>\n",
       "    <tr>\n",
       "      <th>...</th>\n",
       "      <td>...</td>\n",
       "      <td>...</td>\n",
       "      <td>...</td>\n",
       "    </tr>\n",
       "    <tr>\n",
       "      <th>994</th>\n",
       "      <td>The World Is Flat: A Brief History of the Twen...</td>\n",
       "      <td>3</td>\n",
       "      <td>2.25</td>\n",
       "    </tr>\n",
       "    <tr>\n",
       "      <th>995</th>\n",
       "      <td>Drowning Ruth</td>\n",
       "      <td>3</td>\n",
       "      <td>2.00</td>\n",
       "    </tr>\n",
       "    <tr>\n",
       "      <th>996</th>\n",
       "      <td>Junky</td>\n",
       "      <td>2</td>\n",
       "      <td>2.00</td>\n",
       "    </tr>\n",
       "    <tr>\n",
       "      <th>997</th>\n",
       "      <td>His Excellency: George Washington</td>\n",
       "      <td>2</td>\n",
       "      <td>2.00</td>\n",
       "    </tr>\n",
       "    <tr>\n",
       "      <th>998</th>\n",
       "      <td>Harvesting the Heart</td>\n",
       "      <td>2</td>\n",
       "      <td>1.50</td>\n",
       "    </tr>\n",
       "  </tbody>\n",
       "</table>\n",
       "<p>999 rows × 3 columns</p>\n",
       "</div>"
      ],
      "text/plain": [
       "                                                 title  review_count  \\\n",
       "0                        A Dirty Job (Grim Reaper  #1)             4   \n",
       "1         Moneyball: The Art of Winning an Unfair Game             3   \n",
       "2              School's Out—Forever (Maximum Ride  #2)             3   \n",
       "3    Captivating: Unveiling the Mystery of a Woman'...             2   \n",
       "4                                        Evening Class             2   \n",
       "..                                                 ...           ...   \n",
       "994  The World Is Flat: A Brief History of the Twen...             3   \n",
       "995                                      Drowning Ruth             3   \n",
       "996                                              Junky             2   \n",
       "997                  His Excellency: George Washington             2   \n",
       "998                               Harvesting the Heart             2   \n",
       "\n",
       "     avg_rating  \n",
       "0          5.00  \n",
       "1          5.00  \n",
       "2          5.00  \n",
       "3          5.00  \n",
       "4          5.00  \n",
       "..          ...  \n",
       "994        2.25  \n",
       "995        2.00  \n",
       "996        2.00  \n",
       "997        2.00  \n",
       "998        1.50  \n",
       "\n",
       "[999 rows x 3 columns]"
      ]
     },
     "execution_count": 6,
     "metadata": {},
     "output_type": "execute_result"
    }
   ],
   "source": [
    "reviews_ratings = '''\n",
    "SELECT\n",
    "  books.title,\n",
    "  COUNT (DISTINCT review_id) AS review_count,\n",
    "  ROUND(AVG(rating),2) AS avg_rating\n",
    "FROM\n",
    "  books\n",
    "LEFT JOIN\n",
    "  reviews ON reviews.book_id = books.book_id\n",
    "LEFT JOIN\n",
    "  ratings ON ratings.book_id = books.book_id\n",
    "GROUP BY\n",
    "  books.title\n",
    "ORDER BY\n",
    "    avg_rating DESC,\n",
    "    review_count DESC;   \n",
    "'''\n",
    "result(reviews_ratings)"
   ]
  },
  {
   "cell_type": "markdown",
   "metadata": {},
   "source": [
    "**Выводы:** <br>\n",
    "* получилось 999 строк-книг с количеством отзывов от 0 до 8;\n",
    "* Рейтинг представлен в диапазоне от 1.5 до 5;\n",
    "* лидер по количеству отзывов - книга Memoirs of a Geisha, 8 откликов;\n",
    "* лучший рейтинг у книг A Dirty Job (Grim Reaper), Moneyball: The Art of Winning an Unfair Game и т.д.;\n",
    "* отзывов у книг с 5 баллами рейтинга от 2 до 4, в среднем - 3."
   ]
  },
  {
   "cell_type": "markdown",
   "metadata": {},
   "source": [
    "### Определить издательство, которое выпустило наибольшее число книг толще 50 страниц"
   ]
  },
  {
   "cell_type": "code",
   "execution_count": 21,
   "metadata": {},
   "outputs": [
    {
     "data": {
      "text/html": [
       "<div>\n",
       "<style scoped>\n",
       "    .dataframe tbody tr th:only-of-type {\n",
       "        vertical-align: middle;\n",
       "    }\n",
       "\n",
       "    .dataframe tbody tr th {\n",
       "        vertical-align: top;\n",
       "    }\n",
       "\n",
       "    .dataframe thead th {\n",
       "        text-align: right;\n",
       "    }\n",
       "</style>\n",
       "<table border=\"1\" class=\"dataframe\">\n",
       "  <thead>\n",
       "    <tr style=\"text-align: right;\">\n",
       "      <th></th>\n",
       "      <th>publisher</th>\n",
       "      <th>total_books</th>\n",
       "    </tr>\n",
       "  </thead>\n",
       "  <tbody>\n",
       "    <tr>\n",
       "      <th>0</th>\n",
       "      <td>Penguin Books</td>\n",
       "      <td>42</td>\n",
       "    </tr>\n",
       "    <tr>\n",
       "      <th>1</th>\n",
       "      <td>Vintage</td>\n",
       "      <td>31</td>\n",
       "    </tr>\n",
       "    <tr>\n",
       "      <th>2</th>\n",
       "      <td>Grand Central Publishing</td>\n",
       "      <td>25</td>\n",
       "    </tr>\n",
       "  </tbody>\n",
       "</table>\n",
       "</div>"
      ],
      "text/plain": [
       "                  publisher  total_books\n",
       "0             Penguin Books           42\n",
       "1                   Vintage           31\n",
       "2  Grand Central Publishing           25"
      ]
     },
     "execution_count": 21,
     "metadata": {},
     "output_type": "execute_result"
    }
   ],
   "source": [
    "top_publishers = '''\n",
    "SELECT \n",
    "  publisher,\n",
    "  COUNT (book_id) as total_books\n",
    "FROM \n",
    "  books\n",
    "LEFT JOIN\n",
    "  publishers AS p ON p.publisher_id=books.publisher_id\n",
    "WHERE\n",
    "  num_pages>50\n",
    "GROUP BY\n",
    "  publisher\n",
    "ORDER BY\n",
    "  total_books DESC\n",
    "LIMIT 3;\n",
    "'''\n",
    "result(top_publishers)"
   ]
  },
  {
   "cell_type": "markdown",
   "metadata": {},
   "source": [
    "**Вывод:** <br>\n",
    "* в топ-3 входят издательства Pengiun Books, Vintage, Grand Central Publishing;\n",
    "* несомненный лидер - Penguin Books - 42 изданных книги толщиной более 50 страниц.    \n",
    "    "
   ]
  },
  {
   "cell_type": "markdown",
   "metadata": {},
   "source": [
    "### Определить автора с самой высокой средней оценкой книг\n",
    "Учитывать только книги с 50 и более оценками."
   ]
  },
  {
   "cell_type": "code",
   "execution_count": 24,
   "metadata": {},
   "outputs": [
    {
     "data": {
      "text/html": [
       "<div>\n",
       "<style scoped>\n",
       "    .dataframe tbody tr th:only-of-type {\n",
       "        vertical-align: middle;\n",
       "    }\n",
       "\n",
       "    .dataframe tbody tr th {\n",
       "        vertical-align: top;\n",
       "    }\n",
       "\n",
       "    .dataframe thead th {\n",
       "        text-align: right;\n",
       "    }\n",
       "</style>\n",
       "<table border=\"1\" class=\"dataframe\">\n",
       "  <thead>\n",
       "    <tr style=\"text-align: right;\">\n",
       "      <th></th>\n",
       "      <th>author</th>\n",
       "      <th>top_rating</th>\n",
       "    </tr>\n",
       "  </thead>\n",
       "  <tbody>\n",
       "    <tr>\n",
       "      <th>0</th>\n",
       "      <td>J.K. Rowling/Mary GrandPré</td>\n",
       "      <td>4.284</td>\n",
       "    </tr>\n",
       "    <tr>\n",
       "      <th>1</th>\n",
       "      <td>Markus Zusak/Cao Xuân Việt Khương</td>\n",
       "      <td>4.264</td>\n",
       "    </tr>\n",
       "    <tr>\n",
       "      <th>2</th>\n",
       "      <td>J.R.R. Tolkien</td>\n",
       "      <td>4.258</td>\n",
       "    </tr>\n",
       "  </tbody>\n",
       "</table>\n",
       "</div>"
      ],
      "text/plain": [
       "                              author  top_rating\n",
       "0         J.K. Rowling/Mary GrandPré       4.284\n",
       "1  Markus Zusak/Cao Xuân Việt Khương       4.264\n",
       "2                     J.R.R. Tolkien       4.258"
      ]
     },
     "execution_count": 24,
     "metadata": {},
     "output_type": "execute_result"
    }
   ],
   "source": [
    "credited_authors = '''     \n",
    "WITH\n",
    "one AS (SELECT book_id,\n",
    "             COUNT(rating_id) as c_rating\n",
    "             FROM ratings \n",
    "       GROUP BY 1\n",
    "       HAVING COUNT(rating_id) >=50),\n",
    "two AS (SELECT au.author_id,\n",
    "             au.author,\n",
    "             b.book_id,\n",
    "             AVG(rating) AS avg_rating\n",
    "       FROM authors AS au\n",
    "       LEFT JOIN books AS b USING(author_id)\n",
    "       LEFT JOIN ratings AS r ON b.book_id=r.book_id\n",
    "       GROUP BY 1,3)\n",
    "SELECT two.author,\n",
    "       ROUND(AVG(two.avg_rating),3) as top_rating\n",
    "       FROM one LEFT JOIN two USING(book_id)\n",
    "       GROUP BY 1\n",
    "       ORDER BY 2 DESC\n",
    "       LIMIT 3;      \n",
    "'''\n",
    "result(credited_authors)"
   ]
  },
  {
   "cell_type": "markdown",
   "metadata": {},
   "source": [
    "**Вывод:** <br>\n",
    "* Лидер по рейтингу книг с 50 и более оценками - **J.K. Rowling, 4.284**. Сага о Гарри Поттере непобедима! \n",
    "* На втором месте - **Markus Zusak, 4.264**. Легендарные \"Книжный вор\", \"Глиняный мост\".\n",
    "* На почетном третьм месте - **J.R.R. Tolkien, 4.258**. Ставшие уже классикой \"Хоббит\" и  \"Властелин колец\".\n"
   ]
  },
  {
   "cell_type": "markdown",
   "metadata": {},
   "source": [
    "### Посчитать среднее количество обзоров от пользователей, которые поставили больше 48 оценок"
   ]
  },
  {
   "cell_type": "code",
   "execution_count": 9,
   "metadata": {},
   "outputs": [
    {
     "data": {
      "text/html": [
       "<div>\n",
       "<style scoped>\n",
       "    .dataframe tbody tr th:only-of-type {\n",
       "        vertical-align: middle;\n",
       "    }\n",
       "\n",
       "    .dataframe tbody tr th {\n",
       "        vertical-align: top;\n",
       "    }\n",
       "\n",
       "    .dataframe thead th {\n",
       "        text-align: right;\n",
       "    }\n",
       "</style>\n",
       "<table border=\"1\" class=\"dataframe\">\n",
       "  <thead>\n",
       "    <tr style=\"text-align: right;\">\n",
       "      <th></th>\n",
       "      <th>avg_reviews</th>\n",
       "    </tr>\n",
       "  </thead>\n",
       "  <tbody>\n",
       "    <tr>\n",
       "      <th>0</th>\n",
       "      <td>24.0</td>\n",
       "    </tr>\n",
       "  </tbody>\n",
       "</table>\n",
       "</div>"
      ],
      "text/plain": [
       "   avg_reviews\n",
       "0         24.0"
      ]
     },
     "execution_count": 9,
     "metadata": {},
     "output_type": "execute_result"
    }
   ],
   "source": [
    "avg_reviews = '''     \n",
    "WITH\n",
    "one AS (SELECT DISTINCT(r.username) AS username,\n",
    "            COUNT(DISTINCT(r.review_id)) as c_review,\n",
    "            COUNT(DISTINCT(two.rating_id)) as c_ratings \n",
    "       FROM reviews AS r\n",
    "       LEFT JOIN ratings AS two USING(username)  \n",
    "       GROUP BY 1)\n",
    "SELECT ROUND(AVG(one.c_review),0) AS avg_reviews\n",
    "       FROM one \n",
    "       WHERE one.c_ratings > 48\n",
    "'''\n",
    "result(avg_reviews)"
   ]
  },
  {
   "cell_type": "markdown",
   "metadata": {},
   "source": [
    "**Вывод:**\n",
    "* 24 обзора - вот среднее количество обзоров от пользователей, поставивших более 48 оценок. \n",
    "* То есть на каждая вторая оценка сопровождается рецензией на книгу."
   ]
  },
  {
   "cell_type": "markdown",
   "metadata": {},
   "source": [
    "### Oбщий вывод:\n",
    "Мы проанализировали базу данных с информацией о книгах, издательствах, авторах, а также пользовательскими обзорами книг для того, чтобы помочь коллегам составить ценностное предложение для нового продукта.\n",
    "\n",
    "**Резюмируем результат:**\n",
    "* 819 книг вышло после 1 января 2000 г.\n",
    "* рейтинг представлен в диапазоне от 1.5 до 5.\n",
    "* лучший рейтинг у книг A Dirty Job (Grim Reaper), Moneyball: The Art of Winning an Unfair Game.\n",
    "* лидер по количеству отзывов - книга Memoirs of a Geisha, 8 откликов.\n",
    "* отзывов у книг с 5 баллами рейтинга от 2 до 4, в среднем - 3.\n",
    "* в топ-3 издательств входят Pengiun Books, Vintage, Grand Central Publishing.\n",
    "* несомненный лидер - Penguin Books - 42 изданных книги толщиной более 50 страниц.\n",
    "* Лидер по рейтингу книг с 50 и более оценками - J.K. Rowling, 4.284.\n",
    "* На втором месте рейтинга книг - Markus Zusak, 4.264. Легендарные \"Книжный вор\", \"Глиняный мост\".\n",
    "* На почетном третьм месте рейтинга книг - J.R.R. Tolkien, 4.258. Ставшие уже классикой \"Хоббит\" и \"Властелин колец\".\n",
    "* 24 обзора  - вот среднее количество обзоров от пользователей, поставивших более 48 оценок.\n",
    "* То есть на каждая вторая оценка сопровождается рецензией на книгу."
   ]
  }
 ],
 "metadata": {
  "ExecuteTimeLog": [
   {
    "duration": 11514,
    "start_time": "2023-06-26T16:47:40.052Z"
   },
   {
    "duration": 3,
    "start_time": "2023-06-26T16:55:49.558Z"
   },
   {
    "duration": 11935,
    "start_time": "2023-06-26T16:56:07.977Z"
   },
   {
    "duration": 3,
    "start_time": "2023-06-26T16:56:19.915Z"
   },
   {
    "duration": 85,
    "start_time": "2023-06-26T16:58:03.104Z"
   },
   {
    "duration": 12253,
    "start_time": "2023-06-26T16:58:48.161Z"
   },
   {
    "duration": 3,
    "start_time": "2023-06-26T16:59:00.417Z"
   },
   {
    "duration": 113,
    "start_time": "2023-06-26T16:59:00.422Z"
   },
   {
    "duration": 594,
    "start_time": "2023-06-26T16:59:05.560Z"
   },
   {
    "duration": 365,
    "start_time": "2023-06-26T16:59:33.643Z"
   },
   {
    "duration": 367,
    "start_time": "2023-06-26T16:59:37.600Z"
   },
   {
    "duration": 3,
    "start_time": "2023-06-26T17:00:24.553Z"
   },
   {
    "duration": 6,
    "start_time": "2023-06-26T17:02:42.552Z"
   },
   {
    "duration": 4,
    "start_time": "2023-06-26T17:02:42.985Z"
   },
   {
    "duration": 557,
    "start_time": "2023-06-26T17:02:43.655Z"
   },
   {
    "duration": 91,
    "start_time": "2023-06-26T17:22:21.899Z"
   },
   {
    "duration": 11,
    "start_time": "2023-06-26T17:26:25.772Z"
   },
   {
    "duration": 141,
    "start_time": "2023-06-26T17:26:52.277Z"
   },
   {
    "duration": 230,
    "start_time": "2023-06-26T17:27:28.679Z"
   },
   {
    "duration": 124,
    "start_time": "2023-06-26T17:27:43.310Z"
   },
   {
    "duration": 149,
    "start_time": "2023-06-26T17:28:00.222Z"
   },
   {
    "duration": 130,
    "start_time": "2023-06-26T17:28:16.980Z"
   },
   {
    "duration": 232,
    "start_time": "2023-06-26T17:28:30.505Z"
   },
   {
    "duration": 137,
    "start_time": "2023-06-26T17:28:36.723Z"
   },
   {
    "duration": 162,
    "start_time": "2023-06-26T17:28:58.844Z"
   },
   {
    "duration": 138,
    "start_time": "2023-06-26T17:29:05.865Z"
   },
   {
    "duration": 200,
    "start_time": "2023-06-26T17:30:55.375Z"
   },
   {
    "duration": 158,
    "start_time": "2023-06-26T17:30:59.130Z"
   },
   {
    "duration": 280,
    "start_time": "2023-06-26T17:31:39.668Z"
   },
   {
    "duration": 131,
    "start_time": "2023-06-26T17:33:01.782Z"
   },
   {
    "duration": 138,
    "start_time": "2023-06-26T17:33:46.807Z"
   },
   {
    "duration": 128,
    "start_time": "2023-06-26T17:34:33.201Z"
   },
   {
    "duration": 159,
    "start_time": "2023-06-26T17:34:36.448Z"
   },
   {
    "duration": 131,
    "start_time": "2023-06-26T17:36:18.698Z"
   },
   {
    "duration": 244,
    "start_time": "2023-06-26T17:40:55.232Z"
   },
   {
    "duration": 93,
    "start_time": "2023-06-26T17:41:07.719Z"
   },
   {
    "duration": 99,
    "start_time": "2023-06-26T17:41:18.514Z"
   },
   {
    "duration": 289,
    "start_time": "2023-06-26T17:47:52.318Z"
   },
   {
    "duration": 280,
    "start_time": "2023-06-26T17:48:06.370Z"
   },
   {
    "duration": 458,
    "start_time": "2023-06-26T17:50:04.575Z"
   },
   {
    "duration": 209,
    "start_time": "2023-06-26T17:50:54.618Z"
   },
   {
    "duration": 233,
    "start_time": "2023-06-26T17:50:58.246Z"
   },
   {
    "duration": 205,
    "start_time": "2023-06-26T17:51:27.105Z"
   },
   {
    "duration": 290,
    "start_time": "2023-06-26T17:51:34.479Z"
   },
   {
    "duration": 3049,
    "start_time": "2023-06-26T17:53:02.430Z"
   },
   {
    "duration": 265,
    "start_time": "2023-06-26T17:53:11.405Z"
   },
   {
    "duration": 105,
    "start_time": "2023-06-26T17:53:45.979Z"
   },
   {
    "duration": 208,
    "start_time": "2023-06-26T17:54:49.190Z"
   },
   {
    "duration": 237,
    "start_time": "2023-06-26T17:56:03.701Z"
   },
   {
    "duration": 216,
    "start_time": "2023-06-26T17:56:27.319Z"
   },
   {
    "duration": 83,
    "start_time": "2023-06-26T17:56:34.756Z"
   },
   {
    "duration": 83,
    "start_time": "2023-06-26T17:57:27.315Z"
   },
   {
    "duration": 253,
    "start_time": "2023-06-26T17:57:40.435Z"
   },
   {
    "duration": 84,
    "start_time": "2023-06-26T17:57:50.696Z"
   },
   {
    "duration": 75,
    "start_time": "2023-06-26T17:57:54.557Z"
   },
   {
    "duration": 118,
    "start_time": "2023-06-26T17:57:57.678Z"
   },
   {
    "duration": 116,
    "start_time": "2023-06-26T17:58:02.500Z"
   },
   {
    "duration": 299,
    "start_time": "2023-06-26T18:03:43.284Z"
   },
   {
    "duration": 109,
    "start_time": "2023-06-26T18:04:00.331Z"
   },
   {
    "duration": 107,
    "start_time": "2023-06-26T18:04:14.379Z"
   },
   {
    "duration": 107,
    "start_time": "2023-06-26T18:05:27.281Z"
   },
   {
    "duration": 98,
    "start_time": "2023-06-26T18:06:22.291Z"
   },
   {
    "duration": 83,
    "start_time": "2023-06-26T18:06:22.391Z"
   },
   {
    "duration": 84,
    "start_time": "2023-06-26T18:06:22.476Z"
   },
   {
    "duration": 111,
    "start_time": "2023-06-26T18:06:22.562Z"
   },
   {
    "duration": 5,
    "start_time": "2023-06-26T18:06:22.676Z"
   },
   {
    "duration": 15,
    "start_time": "2023-06-26T18:06:22.683Z"
   },
   {
    "duration": 563,
    "start_time": "2023-06-26T18:06:22.700Z"
   },
   {
    "duration": 78,
    "start_time": "2023-06-26T18:06:23.265Z"
   },
   {
    "duration": 129,
    "start_time": "2023-06-26T18:06:23.347Z"
   },
   {
    "duration": 87,
    "start_time": "2023-06-26T18:11:06.982Z"
   },
   {
    "duration": 378,
    "start_time": "2023-06-26T18:12:37.167Z"
   },
   {
    "duration": 400,
    "start_time": "2023-06-26T18:12:41.112Z"
   },
   {
    "duration": 389,
    "start_time": "2023-06-26T18:13:06.119Z"
   },
   {
    "duration": 376,
    "start_time": "2023-06-26T18:13:19.969Z"
   },
   {
    "duration": 410,
    "start_time": "2023-06-26T18:13:25.295Z"
   },
   {
    "duration": 77,
    "start_time": "2023-06-26T18:14:15.373Z"
   },
   {
    "duration": 84,
    "start_time": "2023-06-26T18:15:18.598Z"
   },
   {
    "duration": 83,
    "start_time": "2023-06-26T18:15:24.557Z"
   },
   {
    "duration": 83,
    "start_time": "2023-06-26T18:15:32.472Z"
   }
  ],
  "kernelspec": {
   "display_name": "Python 3 (ipykernel)",
   "language": "python",
   "name": "python3"
  },
  "language_info": {
   "codemirror_mode": {
    "name": "ipython",
    "version": 3
   },
   "file_extension": ".py",
   "mimetype": "text/x-python",
   "name": "python",
   "nbconvert_exporter": "python",
   "pygments_lexer": "ipython3",
   "version": "3.10.9"
  },
  "toc": {
   "base_numbering": 1,
   "nav_menu": {},
   "number_sections": true,
   "sideBar": true,
   "skip_h1_title": true,
   "title_cell": "Table of Contents",
   "title_sidebar": "Contents",
   "toc_cell": false,
   "toc_position": {},
   "toc_section_display": true,
   "toc_window_display": false
  }
 },
 "nbformat": 4,
 "nbformat_minor": 2
}
